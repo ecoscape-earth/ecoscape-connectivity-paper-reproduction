{
 "cells": [
  {
   "cell_type": "markdown",
   "metadata": {
    "id": "jKD2GiS3sDEM"
   },
   "source": [
    "## Code Setup"
   ]
  },
  {
   "cell_type": "code",
   "execution_count": null,
   "metadata": {
    "id": "J3Koec3ddKiB"
   },
   "outputs": [],
   "source": [
    "import os\n",
    "import pandas as pd\n",
    "import scgt\n",
    "import sys\n",
    "sys.path.append(os.path.join(os.getcwd(), \"birdmaps\"))"
   ]
  },
  {
   "cell_type": "code",
   "execution_count": null,
   "metadata": {},
   "outputs": [],
   "source": [
    "# If True, assumes everything is running locally.\n",
    "IS_LOCAL = True\n",
    "# We should not do the run locally, except in rare cases in testing.\n",
    "DO_RUN = False\n",
    "\n",
    "# Path to main directory\n",
    "LOCAL_PATH = os.path.join(os.getcwd(), \"data/CA-EcoScape-Paper\")\n",
    "DATA_PATH = LOCAL_PATH"
   ]
  },
  {
   "cell_type": "code",
   "execution_count": null,
   "metadata": {
    "colab": {
     "base_uri": "https://localhost:8080/"
    },
    "id": "i00YjvbZdHyZ",
    "outputId": "05af1ec3-9c5d-4fce-a80e-55c820ea614d"
   },
   "outputs": [],
   "source": [
    "import ebird_db, bird_runs\n",
    "from scgt import GeoTiff"
   ]
  },
  {
   "cell_type": "markdown",
   "metadata": {
    "id": "WOSTuXgfsIf6"
   },
   "source": [
    "## Bird Run Definition"
   ]
  },
  {
   "cell_type": "code",
   "execution_count": null,
   "metadata": {
    "id": "9HVthEs6ofu7"
   },
   "outputs": [],
   "source": [
    "bird_run = bird_runs.BirdRun(DATA_PATH)\n",
    "\n",
    "NUM_SIMULATIONS = 400\n",
    "HOPS = [1, 2, 3, 4, 5, 6]\n",
    "SPREADS = [2, 4, 6, 8, 10, 15, 20, 30, 40]\n",
    "RUN_NAME=\"test\" # You can use \"Jun8\" if you want to reuse our results. \n",
    "\n",
    "birds = []\n",
    "\n",
    "for hop_distance in HOPS:\n",
    "    for num_spreads in SPREADS:\n",
    "        birds.append(bird_run.get_bird_run(\n",
    "            \"acowoo\", \"Acorn Woodpecker\",\n",
    "            do_validation=True, run_name=RUN_NAME,\n",
    "            hop_distance=hop_distance, num_spreads=num_spreads,\n",
    "            num_simulations=NUM_SIMULATIONS))\n",
    "\n",
    "for hop_distance in HOPS:\n",
    "    for num_spreads in SPREADS:\n",
    "        birds.append(bird_run.get_bird_run(\n",
    "            \"stejay\", \"Steller's Jay\",\n",
    "            do_validation=True, run_name=RUN_NAME,\n",
    "            hop_distance=hop_distance, num_spreads=num_spreads,\n",
    "            num_simulations=NUM_SIMULATIONS))\n",
    "\n",
    "for hop_distance in range(1, 5):\n",
    "    for num_spreads in HOPS:\n",
    "        birds.append(bird_run.get_bird_run(\n",
    "            \"oaktit\", \"Oak Titmouse\",\n",
    "            do_validation=True, run_name=RUN_NAME,\n",
    "            hop_distance=hop_distance, num_spreads=num_spreads,\n",
    "            num_simulations=NUM_SIMULATIONS))"
   ]
  },
  {
   "attachments": {},
   "cell_type": "markdown",
   "metadata": {},
   "source": [
    "For each bird, we compute a Pandas dataframe with data for each square where checklists\n",
    "have occurred.  Thus, we read the csv produced by `GenerateValidationData.ipynb` into\n",
    "a Pandas dataframe, and for each row of the dataframe, we add information about the\n",
    "amounts of habitat and repopulation.\n",
    "\n",
    "This is a time-consuming operation, as we need to access the repopulation\n",
    "file for each of the squares.  You need to run this once only for each bird run;\n",
    "then you can analyze the resulting data as much as you like."
   ]
  },
  {
   "cell_type": "code",
   "execution_count": null,
   "metadata": {},
   "outputs": [],
   "source": [
    "# These values must match the ones in GenerateValidationData.ipynb\n",
    "max_distance = 2\n",
    "date_range = (\"2012-01-01\", \"2018-12-31\")\n",
    "num_sample_squares = 20000 # Sampling number for the squares.\n",
    "\n",
    "validation = ebird_db.Validation()\n",
    "for bird in birds:\n",
    "\n",
    "    repop = GeoTiff.from_file(bird.repopulation_fn)\n",
    "    hab = GeoTiff.from_file(bird.habitat_fn)\n",
    "\n",
    "    obs_fn = bird_run.get_observations_all_fn(\n",
    "        bird.obs_path, max_distance=max_distance,\n",
    "        date_range=\"-\".join(date_range),\n",
    "        num_squares=num_sample_squares)\n",
    "\n",
    "    # This reads information on each square: how many checklists, birds, etc.\n",
    "    with open(obs_fn) as f:\n",
    "        df = pd.read_csv(obs_fn)\n",
    "\n",
    "    # Augments the dataframe with the values for each square of repopulation and habitat.\n",
    "    validation.get_repop_ratios(df, repop, hab, tile_scale=3)\n",
    "    # Computes a repopulation range.\n",
    "    df[\"RepopRange\"] = df.apply(lambda row : int(row[\"avg_repop\"] * 10) / 10, axis=1)\n",
    "    # Computes birds and sightings per checklist.\n",
    "    df[\"ObsRatio\"] = df[\"NumBirdChecklists\"] / df[\"NumChecklists\"]\n",
    "    df[\"BirdRatio\"] = df[\"NumBirds\"] / df[\"NumChecklists\"]\n",
    "\n",
    "    # Writes the resulting dataset.\n",
    "    df.to_csv(bird.obs_csv_path)\n",
    "    print(\"Done with\", bird.nickname, bird.hop_distance, bird.num_spreads)\n"
   ]
  },
  {
   "attachments": {},
   "cell_type": "markdown",
   "metadata": {},
   "source": [
    "The dataframe contains, for each square, the:\n",
    "* Number of checklists\n",
    "* Number of checlists containing the bird\n",
    "* Total number of birds (of the given species) seen\n",
    "* average habitat around the square (counting 1 as habitat and 0 as non-habitat)\n",
    "* max habitat around the square\n",
    "* average repopulation around the square (counting as 0 out of habitat of course)\n",
    "* max repopulation around the square.\n",
    "\n",
    "I look for the correlation between:\n",
    "* Average number of birds seen (the BirdRatio),\n",
    "* Max repopulation (MaxRepopRange).\n",
    "\n",
    "Why max repopulation and not average?  Because average repopulation mixes two concerns: (a) how much habitat there is around, and (b) how high the repopulation is in that habitat.  This confounds the signal.  It is much cleaner to look at the correlation between BirdRatio and MaxRepopRange."
   ]
  },
  {
   "cell_type": "code",
   "execution_count": null,
   "metadata": {},
   "outputs": [],
   "source": []
  }
 ],
 "metadata": {
  "accelerator": "GPU",
  "colab": {
   "provenance": []
  },
  "gpuClass": "standard",
  "kernelspec": {
   "display_name": "venv37",
   "language": "python",
   "name": "python3"
  },
  "language_info": {
   "codemirror_mode": {
    "name": "ipython",
    "version": 3
   },
   "file_extension": ".py",
   "mimetype": "text/x-python",
   "name": "python",
   "nbconvert_exporter": "python",
   "pygments_lexer": "ipython3",
   "version": "3.7.11"
  }
 },
 "nbformat": 4,
 "nbformat_minor": 1
}
