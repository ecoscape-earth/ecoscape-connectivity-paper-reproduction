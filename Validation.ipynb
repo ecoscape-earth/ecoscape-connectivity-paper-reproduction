{
 "cells": [
  {
   "cell_type": "markdown",
   "metadata": {
    "id": "jKD2GiS3sDEM"
   },
   "source": [
    "## Code Setup"
   ]
  },
  {
   "cell_type": "code",
   "execution_count": 19,
   "metadata": {
    "ExecuteTime": {
     "end_time": "2023-09-24T01:49:38.390795Z",
     "start_time": "2023-09-24T01:49:36.699309Z"
    }
   },
   "outputs": [],
   "source": [
    "import os\n",
    "import pandas as pd\n",
    "import scgt\n",
    "import sys\n",
    "sys.path.append(os.path.join(os.getcwd(), \"birdmaps\"))"
   ]
  },
  {
   "cell_type": "code",
   "execution_count": 20,
   "metadata": {
    "ExecuteTime": {
     "end_time": "2023-09-24T01:49:41.424492Z",
     "start_time": "2023-09-24T01:49:41.415014Z"
    }
   },
   "outputs": [],
   "source": [
    "# If True, assumes everything is running locally.\n",
    "IS_LOCAL = True\n",
    "# We should not do the run locally, except in rare cases in testing.\n",
    "DO_RUN = False\n",
    "\n",
    "# Path to main directory\n",
    "LOCAL_PATH = os.path.join(os.getcwd(), \"data/CA-Final\")\n",
    "DATA_PATH = LOCAL_PATH"
   ]
  },
  {
   "cell_type": "code",
   "execution_count": 21,
   "metadata": {
    "ExecuteTime": {
     "end_time": "2023-09-24T01:49:42.832216Z",
     "start_time": "2023-09-24T01:49:42.703956Z"
    },
    "colab": {
     "base_uri": "https://localhost:8080/"
    },
    "id": "i00YjvbZdHyZ",
    "outputId": "05af1ec3-9c5d-4fce-a80e-55c820ea614d"
   },
   "outputs": [],
   "source": [
    "import ebird_db, bird_runs\n",
    "from scgt import GeoTiff"
   ]
  },
  {
   "cell_type": "markdown",
   "metadata": {
    "id": "WOSTuXgfsIf6"
   },
   "source": [
    "## Bird Run Definition"
   ]
  },
  {
   "cell_type": "code",
   "execution_count": 22,
   "metadata": {
    "ExecuteTime": {
     "end_time": "2023-09-24T01:49:56.156878Z",
     "start_time": "2023-09-24T01:49:56.131647Z"
    },
    "id": "9HVthEs6ofu7"
   },
   "outputs": [],
   "source": [
    "bird_run = bird_runs.BirdRun(DATA_PATH)\n",
    "\n",
    "NUM_SIMULATIONS = 400\n",
    "HOPS = [1, 2, 3, 4, 5, 6]\n",
    "SPREADS = [2, 3, 4, 6, 8, 10, 15, 20, 30, 40]\n",
    "RUN_NAME = \"Paper\"\n"
   ]
  },
  {
   "cell_type": "markdown",
   "metadata": {},
   "source": [
    "First we define the runs for 400 simulations."
   ]
  },
  {
   "cell_type": "code",
   "execution_count": 23,
   "metadata": {
    "ExecuteTime": {
     "end_time": "2023-09-25T01:25:25.459587Z",
     "start_time": "2023-09-25T01:25:25.431198Z"
    }
   },
   "outputs": [],
   "source": [
    "\n",
    "birds = []\n",
    "\n",
    "for hop_distance in HOPS:\n",
    "    for num_spreads in SPREADS:\n",
    "        birds.append(bird_run.get_bird_run(\n",
    "            \"acowoo\", \"Acorn Woodpecker\",\n",
    "            do_validation=True, run_name=RUN_NAME,\n",
    "            hop_distance=hop_distance, num_spreads=num_spreads,\n",
    "            num_simulations=NUM_SIMULATIONS))\n",
    "\n",
    "for hop_distance in HOPS:\n",
    "    for num_spreads in SPREADS:\n",
    "        birds.append(bird_run.get_bird_run(\n",
    "            \"stejay\", \"Steller's Jay\",\n",
    "            do_validation=True, run_name=RUN_NAME,\n",
    "            hop_distance=hop_distance, num_spreads=num_spreads,\n",
    "            num_simulations=NUM_SIMULATIONS))\n"
   ]
  },
  {
   "cell_type": "markdown",
   "metadata": {},
   "source": [
    "Then the ones for 10000 simulations."
   ]
  },
  {
   "cell_type": "code",
   "execution_count": 24,
   "metadata": {
    "ExecuteTime": {
     "end_time": "2023-09-25T01:25:26.867489Z",
     "start_time": "2023-09-25T01:25:26.852873Z"
    }
   },
   "outputs": [],
   "source": [
    "birds10000 = []\n",
    "\n",
    "birds10000.append(bird_run.get_bird_run(\n",
    "    \"acowoo\", \"Acorn Woodpecker\",\n",
    "    do_validation=True, run_name=\"Paper10000\",\n",
    "    hop_distance=2, num_spreads=20,\n",
    "    num_simulations=10000))\n",
    "\n",
    "birds10000.append(bird_run.get_bird_run(\n",
    "    \"stejay\", \"Steller's Jay\",\n",
    "    do_validation=True, run_name=\"Paper10000\",\n",
    "    hop_distance=2, num_spreads=3,\n",
    "    num_simulations=10000))\n",
    "\n",
    "birds10000.append(bird_run.get_bird_run(\n",
    "    \"stejay\", \"Steller's Jay\",\n",
    "    do_validation=True, run_name=\"Paper10000\",\n",
    "    hop_distance=1, num_spreads=6,\n",
    "    num_simulations=10000))\n"
   ]
  },
  {
   "attachments": {},
   "cell_type": "markdown",
   "metadata": {},
   "source": [
    "For each bird, we compute a Pandas dataframe with data for each square where checklists\n",
    "have occurred.  Thus, we read the csv produced by `GenerateValidationData.ipynb` into\n",
    "a Pandas dataframe, and for each row of the dataframe, we add information about the\n",
    "amounts of habitat and repopulation.\n",
    "\n",
    "This is a time-consuming operation, as we need to access the repopulation\n",
    "file for each of the squares.  You need to run this once only for each bird run;\n",
    "then you can analyze the resulting data as much as you like."
   ]
  },
  {
   "cell_type": "code",
   "execution_count": 25,
   "metadata": {
    "ExecuteTime": {
     "end_time": "2023-09-25T01:25:29.287642Z",
     "start_time": "2023-09-25T01:25:29.265007Z"
    }
   },
   "outputs": [],
   "source": [
    "max_distance = 2\n",
    "date_range = (\"2012-01-01\", \"2018-12-31\")\n",
    "num_sample_squares = 20000 # Sampling number for the squares.\n",
    "\n",
    "def compute_validation(bird_list):\n",
    "    for bird in bird_list:\n",
    "        if bird.do_validation:\n",
    "            repop = GeoTiff.from_file(bird.repopulation_fn)\n",
    "            hab = GeoTiff.from_file(bird.habitat_fn)\n",
    "            obs_fn = bird_run.get_observations_all_fn(\n",
    "                bird.obs_path, max_distance=max_distance,\n",
    "                date_range=\"-\".join(date_range),\n",
    "                num_squares=num_sample_squares)\n",
    "            # Here it's better to cache for the habitat_fn, as there is only one per species.\n",
    "            validation = ebird_db.Validation(obs_fn, bird.habitat_fn)\n",
    "    \n",
    "            # Augments the dataframe with the values for each square of repopulation and habitat.\n",
    "            df = validation.get_repop_ratios(repop, hab, tile_scale=3)\n",
    "            # Computes a repopulation range.\n",
    "            df[\"RepopRange\"] = df.apply(lambda row : int(row[\"avg_repop\"] * 10) / 10, axis=1)\n",
    "            # Computes birds and sightings per checklist.\n",
    "            df[\"ObsRatio\"] = df[\"NumBirdChecklists\"] / df[\"NumChecklists\"]\n",
    "            df[\"BirdRatio\"] = df[\"NumBirds\"] / df[\"NumChecklists\"]\n",
    "    \n",
    "            # Writes the resulting dataset.\n",
    "            df.to_csv(bird.obs_csv_path)\n",
    "            print(\"Done with\", bird.nickname, bird.hop_distance, bird.num_spreads)"
   ]
  },
  {
   "cell_type": "code",
   "execution_count": 26,
   "metadata": {},
   "outputs": [
    {
     "name": "stdout",
     "output_type": "stream",
     "text": [
      "Done with acowoo 1 2\n",
      "Done with acowoo 1 3\n",
      "Done with acowoo 1 4\n",
      "Done with acowoo 1 6\n",
      "Done with acowoo 1 8\n",
      "Done with acowoo 1 10\n",
      "Done with acowoo 1 15\n",
      "Done with acowoo 1 20\n",
      "Done with acowoo 1 30\n",
      "Done with acowoo 1 40\n",
      "Done with acowoo 2 2\n",
      "Done with acowoo 2 3\n",
      "Done with acowoo 2 4\n",
      "Done with acowoo 2 6\n",
      "Done with acowoo 2 8\n",
      "Done with acowoo 2 10\n",
      "Done with acowoo 2 15\n",
      "Done with acowoo 2 20\n",
      "Done with acowoo 2 30\n",
      "Done with acowoo 2 40\n",
      "Done with acowoo 3 2\n",
      "Done with acowoo 3 3\n",
      "Done with acowoo 3 4\n",
      "Done with acowoo 3 6\n",
      "Done with acowoo 3 8\n",
      "Done with acowoo 3 10\n",
      "Done with acowoo 3 15\n",
      "Done with acowoo 3 20\n",
      "Done with acowoo 3 30\n",
      "Done with acowoo 3 40\n",
      "Done with acowoo 4 2\n",
      "Done with acowoo 4 3\n",
      "Done with acowoo 4 4\n",
      "Done with acowoo 4 6\n",
      "Done with acowoo 4 8\n",
      "Done with acowoo 4 10\n",
      "Done with acowoo 4 15\n",
      "Done with acowoo 4 20\n",
      "Done with acowoo 4 30\n",
      "Done with acowoo 4 40\n",
      "Done with acowoo 5 2\n",
      "Done with acowoo 5 3\n",
      "Done with acowoo 5 4\n",
      "Done with acowoo 5 6\n",
      "Done with acowoo 5 8\n",
      "Done with acowoo 5 10\n",
      "Done with acowoo 5 15\n",
      "Done with acowoo 5 20\n",
      "Done with acowoo 5 30\n",
      "Done with acowoo 5 40\n",
      "Done with acowoo 6 2\n",
      "Done with acowoo 6 3\n",
      "Done with acowoo 6 4\n",
      "Done with acowoo 6 6\n",
      "Done with acowoo 6 8\n",
      "Done with acowoo 6 10\n",
      "Done with acowoo 6 15\n",
      "Done with acowoo 6 20\n",
      "Done with acowoo 6 30\n",
      "Done with acowoo 6 40\n",
      "Done with stejay 1 2\n",
      "Done with stejay 1 3\n",
      "Done with stejay 1 4\n",
      "Done with stejay 1 6\n",
      "Done with stejay 1 8\n",
      "Done with stejay 1 10\n",
      "Done with stejay 1 15\n",
      "Done with stejay 1 20\n",
      "Done with stejay 1 30\n",
      "Done with stejay 1 40\n",
      "Done with stejay 2 2\n",
      "Done with stejay 2 3\n",
      "Done with stejay 2 4\n",
      "Done with stejay 2 6\n",
      "Done with stejay 2 8\n",
      "Done with stejay 2 10\n",
      "Done with stejay 2 15\n",
      "Done with stejay 2 20\n",
      "Done with stejay 2 30\n",
      "Done with stejay 2 40\n",
      "Done with stejay 3 2\n",
      "Done with stejay 3 3\n",
      "Done with stejay 3 4\n",
      "Done with stejay 3 6\n",
      "Done with stejay 3 8\n",
      "Done with stejay 3 10\n",
      "Done with stejay 3 15\n",
      "Done with stejay 3 20\n",
      "Done with stejay 3 30\n",
      "Done with stejay 3 40\n",
      "Done with stejay 4 2\n",
      "Done with stejay 4 3\n",
      "Done with stejay 4 4\n",
      "Done with stejay 4 6\n",
      "Done with stejay 4 8\n",
      "Done with stejay 4 10\n",
      "Done with stejay 4 15\n",
      "Done with stejay 4 20\n",
      "Done with stejay 4 30\n",
      "Done with stejay 4 40\n",
      "Done with stejay 5 2\n",
      "Done with stejay 5 3\n",
      "Done with stejay 5 4\n",
      "Done with stejay 5 6\n",
      "Done with stejay 5 8\n",
      "Done with stejay 5 10\n",
      "Done with stejay 5 15\n",
      "Done with stejay 5 20\n",
      "Done with stejay 5 30\n",
      "Done with stejay 5 40\n",
      "Done with stejay 6 2\n",
      "Done with stejay 6 3\n",
      "Done with stejay 6 4\n",
      "Done with stejay 6 6\n",
      "Done with stejay 6 8\n",
      "Done with stejay 6 10\n",
      "Done with stejay 6 15\n",
      "Done with stejay 6 20\n",
      "Done with stejay 6 30\n",
      "Done with stejay 6 40\n"
     ]
    }
   ],
   "source": [
    "compute_validation(birds)"
   ]
  },
  {
   "cell_type": "code",
   "execution_count": 27,
   "metadata": {
    "ExecuteTime": {
     "end_time": "2023-09-25T01:25:47.473609Z",
     "start_time": "2023-09-25T01:25:34.604144Z"
    },
    "collapsed": false
   },
   "outputs": [
    {
     "name": "stdout",
     "output_type": "stream",
     "text": [
      "Done with acowoo 2 20\n",
      "Done with stejay 2 3\n",
      "Done with stejay 1 6\n"
     ]
    }
   ],
   "source": [
    "compute_validation(birds10000)"
   ]
  },
  {
   "attachments": {},
   "cell_type": "markdown",
   "metadata": {},
   "source": [
    "The dataframe contains, for each square, the:\n",
    "* Number of checklists\n",
    "* Number of checlists containing the bird\n",
    "* Total number of birds (of the given species) seen\n",
    "* average habitat around the square (counting 1 as habitat and 0 as non-habitat)\n",
    "* max habitat around the square\n",
    "* average repopulation around the square (counting as 0 out of habitat of course)\n",
    "* max repopulation around the square.\n",
    "\n",
    "I look for the correlation between:\n",
    "* Average number of birds seen (the BirdRatio),\n",
    "* Max repopulation (MaxRepopRange).\n",
    "\n",
    "Why max repopulation and not average?  Because average repopulation mixes two concerns: (a) how much habitat there is around, and (b) how high the repopulation is in that habitat.  This confounds the signal.  It is much cleaner to look at the correlation between BirdRatio and MaxRepopRange."
   ]
  },
  {
   "cell_type": "code",
   "execution_count": null,
   "metadata": {},
   "outputs": [],
   "source": []
  }
 ],
 "metadata": {
  "accelerator": "GPU",
  "colab": {
   "provenance": []
  },
  "gpuClass": "standard",
  "kernelspec": {
   "display_name": "venv37",
   "language": "python",
   "name": "python3"
  },
  "language_info": {
   "codemirror_mode": {
    "name": "ipython",
    "version": 3
   },
   "file_extension": ".py",
   "mimetype": "text/x-python",
   "name": "python",
   "nbconvert_exporter": "python",
   "pygments_lexer": "ipython3",
   "version": "3.7.11"
  }
 },
 "nbformat": 4,
 "nbformat_minor": 1
}
