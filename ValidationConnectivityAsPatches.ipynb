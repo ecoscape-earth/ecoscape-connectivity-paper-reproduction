{
 "cells": [
  {
   "cell_type": "markdown",
   "metadata": {
    "id": "jKD2GiS3sDEM"
   },
   "source": [
    "## Validation for Connectivity as Patch Size\n",
    "\n",
    "This generates the dataframes that are used for Omniscape validation, from the observation data. "
   ]
  },
  {
   "cell_type": "code",
   "execution_count": 6,
   "metadata": {
    "id": "J3Koec3ddKiB"
   },
   "outputs": [],
   "source": [
    "import os\n",
    "import pandas as pd\n",
    "from birdmaps import ebird_db\n",
    "from ecoscape_utilities.bird_runs import BirdRun\n",
    "from scgt import GeoTiff"
   ]
  },
  {
   "cell_type": "code",
   "execution_count": 7,
   "metadata": {},
   "outputs": [],
   "source": [
    "DATA_PATH = \"data/CA-Final\""
   ]
  },
  {
   "cell_type": "code",
   "execution_count": 8,
   "metadata": {
    "id": "9HVthEs6ofu7"
   },
   "outputs": [],
   "source": [
    "bird_run = BirdRun(DATA_PATH)\n",
    "\n",
    "def create_bird_runs(target):\n",
    "    \"\"\"Creates bird runs for the specified output target.\"\"\"\n",
    "    birds = []\n",
    "\n",
    "    birds.append(bird_run.get_bird_run(\n",
    "        \"acowoo\", \"Acorn Woodpecker\", run_name=target))\n",
    "\n",
    "    birds.append(bird_run.get_bird_run(\n",
    "        \"stejay\", \"Steller's Jay\", run_name=target))\n",
    "\n",
    "    for bird in birds:\n",
    "\n",
    "        # Creates output folder, if missing.\n",
    "        bird_run.createdir_for_file(bird.repopulation_fn)\n",
    "        bird_run.createdir_for_file(bird.gradient_fn)\n",
    "\n",
    "    return birds\n"
   ]
  },
  {
   "attachments": {},
   "cell_type": "markdown",
   "metadata": {},
   "source": [
    "For each bird, we compute a Pandas dataframe with data for each square where checklists\n",
    "have occurred.  Thus, we read the csv produced by `GenerateValidationData.ipynb` into\n",
    "a Pandas dataframe, and for each row of the dataframe, we add information about the\n",
    "amounts of habitat and repopulation.\n",
    "\n",
    "This is a time-consuming operation, as we need to access the repopulation\n",
    "file for each of the squares.  You need to run this once only for each bird run;\n",
    "then you can analyze the resulting data as much as you like."
   ]
  },
  {
   "cell_type": "code",
   "execution_count": 9,
   "metadata": {},
   "outputs": [],
   "source": [
    "birds = create_bird_runs(\"patch_sizes_torch\")"
   ]
  },
  {
   "cell_type": "code",
   "execution_count": 10,
   "metadata": {},
   "outputs": [
    {
     "name": "stdout",
     "output_type": "stream",
     "text": [
      "Done with acowoo\n",
      "Done with stejay\n"
     ]
    }
   ],
   "source": [
    "max_distance = 2\n",
    "date_range = (\"2012-01-01\", \"2018-12-31\")\n",
    "num_sample_squares = 20000 # Sampling number for the squares.\n",
    "\n",
    "for bird in birds:\n",
    "    repop = GeoTiff.from_file(bird.repopulation_fn)\n",
    "    hab = GeoTiff.from_file(bird.habitat_fn)\n",
    "    obs_fn = bird_run.get_observations_all_fn(\n",
    "        bird.obs_path, max_distance=max_distance,\n",
    "        date_range=\"-\".join(date_range),\n",
    "        num_squares=num_sample_squares)\n",
    "    \n",
    "    validation = ebird_db.Validation(obs_fn, bird.habitat_fn)\n",
    "\n",
    "    # Augments the dataframe with the values for each square of repopulation and habitat.\n",
    "    df = validation.get_repop_ratios(repop, hab, tile_scale=3, div_by_255=False)\n",
    "    # Computes birds and sightings per checklist.\n",
    "    df[\"ObsRatio\"] = df[\"NumBirdChecklists\"] / df[\"NumChecklists\"]\n",
    "    df[\"BirdRatio\"] = df[\"NumBirds\"] / df[\"NumChecklists\"]\n",
    "\n",
    "    # Writes the resulting dataset.\n",
    "    df.to_csv(bird.obs_csv_path)\n",
    "    print(\"Done with\", bird.nickname)"
   ]
  },
  {
   "cell_type": "code",
   "execution_count": null,
   "metadata": {},
   "outputs": [],
   "source": []
  }
 ],
 "metadata": {
  "accelerator": "GPU",
  "colab": {
   "provenance": []
  },
  "gpuClass": "standard",
  "kernelspec": {
   "display_name": "venv37",
   "language": "python",
   "name": "python3"
  },
  "language_info": {
   "codemirror_mode": {
    "name": "ipython",
    "version": 3
   },
   "file_extension": ".py",
   "mimetype": "text/x-python",
   "name": "python",
   "nbconvert_exporter": "python",
   "pygments_lexer": "ipython3",
   "version": "3.7.11"
  }
 },
 "nbformat": 4,
 "nbformat_minor": 1
}
