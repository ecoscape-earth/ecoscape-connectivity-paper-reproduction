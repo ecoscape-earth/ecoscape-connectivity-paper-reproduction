{
 "cells": [
  {
   "cell_type": "code",
   "execution_count": 1,
   "metadata": {},
   "outputs": [],
   "source": [
    "\n",
    "DATA_PATH = \"/Users/luca/Library/CloudStorage/GoogleDrive-luca@ucsc.edu/Shared drives/Birds and CS/Data/CA-Final\"\n"
   ]
  },
  {
   "cell_type": "code",
   "execution_count": 2,
   "metadata": {},
   "outputs": [],
   "source": [
    "import numpy as np\n",
    "import os\n",
    "import sys\n",
    "from scgt import GeoTiff"
   ]
  },
  {
   "cell_type": "code",
   "execution_count": 3,
   "metadata": {
    "id": "J3Koec3ddKiB"
   },
   "outputs": [],
   "source": [
    "sys.path.append(os.path.join(os.getcwd(), \"birdmaps\"))\n",
    "from birdmaps import bird_runs\n"
   ]
  },
  {
   "cell_type": "markdown",
   "metadata": {
    "id": "WOSTuXgfsIf6"
   },
   "source": [
    "## Bird Run Definition"
   ]
  },
  {
   "cell_type": "code",
   "execution_count": 28,
   "metadata": {},
   "outputs": [],
   "source": [
    "birds_for_paper = []\n",
    "\n",
    "bird_run = bird_runs.BirdRun(DATA_PATH)\n",
    "\n",
    "birds = []\n",
    "\n",
    "NUM_SIMULATIONS = 400\n",
    "RUN_NAME = \"Paper\"\n",
    "\n",
    "birds.append(bird_run.get_bird_run(\n",
    "    \"acowoo\", \"Acorn Woodpecker\",\n",
    "    do_validation=False, run_name=RUN_NAME,\n",
    "    hop_distance=2, num_spreads=20,\n",
    "    num_simulations=NUM_SIMULATIONS))\n",
    "\n",
    "# Steller's Jay, hop distance = 2, num spreads = 4\n",
    "birds.append(bird_run.get_bird_run(\n",
    "    \"stejay\", \"Steller's Jay\",\n",
    "    do_validation=False, run_name=RUN_NAME,\n",
    "    hop_distance=2, num_spreads=3,\n",
    "    num_simulations=NUM_SIMULATIONS))"
   ]
  },
  {
   "cell_type": "code",
   "execution_count": 29,
   "metadata": {},
   "outputs": [],
   "source": [
    "\n",
    "california = GeoTiff.from_file(os.path.join(DATA_PATH, \"Terrain\", \"california_land.tif\"))\n",
    "cal_tile = california.get_all_as_tile()"
   ]
  },
  {
   "cell_type": "code",
   "execution_count": 30,
   "metadata": {},
   "outputs": [],
   "source": [
    "def compute_fca(bird):\n",
    "    hab = GeoTiff.from_file(bird.habitat_fn)\n",
    "    rep = GeoTiff.from_file(bird.repopulation_fn)\n",
    "    hab_tile = hab.get_all_as_tile()\n",
    "    rep_tile = rep.get_all_as_tile()\n",
    "    habitat = np.sum(hab_tile.m * cal_tile.m) * 0.3 * 0.3 \n",
    "    fca = np.sum(rep_tile.m * cal_tile.m / 255.) * 0.3 * 0.3\n",
    "    connected_fraction = np.sum(rep_tile.m * cal_tile.m / 255.) / np.sum(hab_tile.m * cal_tile.m)\n",
    "    print(\"{} habitat: {} FCA: {} connected fraction: {}\".format(bird.name, habitat, fca, connected_fraction))\n",
    "    return fca"
   ]
  },
  {
   "cell_type": "code",
   "execution_count": 31,
   "metadata": {},
   "outputs": [
    {
     "name": "stdout",
     "output_type": "stream",
     "text": [
      "Acorn Woodpecker habitat: 66988.43999999999 FCA: 50684.38305882348 connected fraction: 0.7566138733611871\n",
      "Steller's Jay habitat: 77716.43999999999 FCA: 69713.48964705862 connected fraction: 0.8970237139922858\n"
     ]
    }
   ],
   "source": [
    "for bird in birds:\n",
    "    compute_fca(bird)"
   ]
  },
  {
   "cell_type": "markdown",
   "metadata": {},
   "source": [
    "Let us estimate the percentage difference from using 400 vs. 10000 simulations for Acorn Woodpecker (for Steller's Jay it's much lower)."
   ]
  },
  {
   "cell_type": "code",
   "execution_count": 32,
   "metadata": {},
   "outputs": [
    {
     "name": "stdout",
     "output_type": "stream",
     "text": [
      "Acorn Woodpecker habitat: 66988.43999999999 FCA: 50684.38305882348 connected fraction: 0.7566138733611871\n",
      "Acorn Woodpecker habitat: 66988.43999999999 FCA: 50798.99541176463 connected fraction: 0.7583248006934424\n"
     ]
    },
    {
     "data": {
      "text/plain": [
       "0.2261295216085231"
      ]
     },
     "execution_count": 32,
     "metadata": {},
     "output_type": "execute_result"
    }
   ],
   "source": [
    "fca10000 = compute_fca(birds[0])\n",
    "\n",
    "acowoo400 = bird_run.get_bird_run(\n",
    "    \"acowoo\", \"Acorn Woodpecker\",\n",
    "    do_validation=False, run_name=\"Paper10000\",\n",
    "    hop_distance=2, num_spreads=20,\n",
    "    num_simulations=10000)\n",
    "fca400 = compute_fca(acowoo400)\n",
    "\n",
    "100 * abs(fca10000 - fca400) / min(fca10000, fca400)"
   ]
  },
  {
   "cell_type": "code",
   "execution_count": null,
   "metadata": {},
   "outputs": [],
   "source": []
  }
 ],
 "metadata": {
  "accelerator": "GPU",
  "colab": {
   "provenance": []
  },
  "gpuClass": "standard",
  "kernelspec": {
   "display_name": "venv37",
   "language": "python",
   "name": "python3"
  },
  "language_info": {
   "codemirror_mode": {
    "name": "ipython",
    "version": 3
   },
   "file_extension": ".py",
   "mimetype": "text/x-python",
   "name": "python",
   "nbconvert_exporter": "python",
   "pygments_lexer": "ipython3",
   "version": "3.7.11"
  }
 },
 "nbformat": 4,
 "nbformat_minor": 1
}
