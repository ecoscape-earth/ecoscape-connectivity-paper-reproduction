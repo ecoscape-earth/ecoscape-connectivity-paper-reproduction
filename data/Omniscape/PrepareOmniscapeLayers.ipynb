{
 "cells": [
  {
   "cell_type": "code",
   "execution_count": 9,
   "metadata": {},
   "outputs": [],
   "source": [
    "import csv\n",
    "import numpy as np\n",
    "import os\n",
    "import scgt"
   ]
  },
  {
   "cell_type": "code",
   "execution_count": 10,
   "metadata": {},
   "outputs": [],
   "source": [
    "# Reclassifies the terrain into [0, 1] transmission.\n",
    "\n",
    "def dict_translate(np_arr, my_dict, default_val=0):\n",
    "    \"\"\"Translates the terrain type according to a dictionary mapping\n",
    "    terrain type to values.\n",
    "    \"\"\"\n",
    "    u,inv = np.unique(np_arr,return_inverse = True)\n",
    "    return np.array([(my_dict.get(x, default_val)) for x in u])[inv].reshape(np_arr.shape)\n",
    "\n",
    "def read_transmission_csv(fn):\n",
    "    \"\"\"Reads a dictionary of terrain resistance or transmission in csv, producing a dictionary.\"\"\"\n",
    "    d = {}\n",
    "    with open(fn) as f:\n",
    "        reader = csv.DictReader(f)\n",
    "        for row in reader:\n",
    "            if 'resistance' in row:\n",
    "                d[int(row['map_code'])] = 1. - float(row['resistance'])\n",
    "            else:\n",
    "                d[int(row['map_code'])] = float(row['transmission'])\n",
    "    return d\n",
    "\n"
   ]
  },
  {
   "cell_type": "code",
   "execution_count": 11,
   "metadata": {},
   "outputs": [],
   "source": [
    "# Decide what you want to run.  You need to provide a bird (6-letter ebird nickname), and \n",
    "# whether to run on cropped territory or full. \n",
    "cropped = False\n",
    "DATA_PATH = \".\"\n",
    "layers = \"CroppedLayers\" if cropped else \"OriginalLayers\""
   ]
  },
  {
   "cell_type": "code",
   "execution_count": 12,
   "metadata": {},
   "outputs": [],
   "source": [
    "def gen_bird_layers(bird):\n",
    "    INPUT_HABITAT = os.path.join(DATA_PATH, bird, layers, \"habitat.tif\")\n",
    "    INPUT_TERRAIN = os.path.join(DATA_PATH, bird, layers, \"terrain.tif\")\n",
    "    INPUT_TRANSMISSION_DICTIONARY = os.path.join(DATA_PATH, bird, \"transmission_refined_1.csv\")\n",
    "    OUTPUT_TRANSMISSION = os.path.join(DATA_PATH, bird, layers, \"transmission.tif\")\n",
    "    # Reads input layers.\n",
    "    habitat_geotiff = scgt.GeoTiff.from_file(INPUT_HABITAT)\n",
    "    terrain_geotiff = scgt.GeoTiff.from_file(INPUT_TERRAIN)\n",
    "    habitat = habitat_geotiff.get_all_as_tile()\n",
    "    terrain = terrain_geotiff.get_all_as_tile()\n",
    "    # Translates into conductance.\n",
    "    terr_to_transmission = read_transmission_csv(INPUT_TRANSMISSION_DICTIONARY)\n",
    "    conductance = dict_translate(terrain.m, terr_to_transmission, default_val=0)\n",
    "    # And conductance is 1 in the habitat (1 is the maximum value we use).\n",
    "    conductance = np.maximum(conductance, habitat.m)\n",
    "    # Rescales the conductance.\n",
    "    conductance = 1 + 10 * conductance\n",
    "    # Writes the result.\n",
    "    with habitat_geotiff.clone_shape(OUTPUT_TRANSMISSION) as output_transmission:\n",
    "        habitat.m = conductance\n",
    "        output_transmission.set_tile(habitat)\n",
    "    "
   ]
  },
  {
   "cell_type": "code",
   "execution_count": 13,
   "metadata": {},
   "outputs": [],
   "source": [
    "for b in [\"acowoo\", \"stejay\"]:\n",
    "    gen_bird_layers(b)"
   ]
  },
  {
   "cell_type": "code",
   "execution_count": null,
   "metadata": {},
   "outputs": [],
   "source": []
  }
 ],
 "metadata": {
  "kernelspec": {
   "display_name": "venv37",
   "language": "python",
   "name": "python3"
  },
  "language_info": {
   "codemirror_mode": {
    "name": "ipython",
    "version": 3
   },
   "file_extension": ".py",
   "mimetype": "text/x-python",
   "name": "python",
   "nbconvert_exporter": "python",
   "pygments_lexer": "ipython3",
   "version": "3.7.11"
  },
  "orig_nbformat": 4
 },
 "nbformat": 4,
 "nbformat_minor": 2
}
