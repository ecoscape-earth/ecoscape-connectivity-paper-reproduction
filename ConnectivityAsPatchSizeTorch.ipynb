{
 "cells": [
  {
   "cell_type": "code",
   "execution_count": 40,
   "metadata": {},
   "outputs": [],
   "source": [
    "DATA_PATH = \"data/CA-Final\""
   ]
  },
  {
   "cell_type": "code",
   "execution_count": 41,
   "metadata": {},
   "outputs": [],
   "source": [
    "import numpy as np\n",
    "import ecoscape_connectivity\n",
    "from ecoscape_connectivity.util import dict_translate\n",
    "from ecoscape_utilities.bird_runs import BirdRun\n",
    "from functools import reduce\n",
    "import scgt\n",
    "import torch"
   ]
  },
  {
   "cell_type": "code",
   "execution_count": 42,
   "metadata": {},
   "outputs": [],
   "source": [
    "bird_run = BirdRun(DATA_PATH)\n",
    "\n",
    "def create_bird_runs(target):\n",
    "    \"\"\"Creates bird runs for the specified output target.\"\"\"\n",
    "    birds = []\n",
    "\n",
    "    birds.append(bird_run.get_bird_run(\n",
    "        \"acowoo\", \"Acorn Woodpecker\", run_name=target))\n",
    "\n",
    "    birds.append(bird_run.get_bird_run(\n",
    "        \"stejay\", \"Steller's Jay\", run_name=target))\n",
    "\n",
    "    for bird in birds:\n",
    "\n",
    "        # Creates output folder, if missing.\n",
    "        bird_run.createdir_for_file(bird.repopulation_fn)\n",
    "        bird_run.createdir_for_file(bird.gradient_fn)\n",
    "\n",
    "    return birds\n"
   ]
  },
  {
   "cell_type": "markdown",
   "metadata": {},
   "source": [
    "The following code computes the patches, and labels the pixels belonging to each patch with the patch size. \n",
    "We also compute the largest patch size for renormalization. "
   ]
  },
  {
   "cell_type": "code",
   "execution_count": 44,
   "metadata": {},
   "outputs": [],
   "source": [
    "def shift(m, h=0, v=0):\n",
    "    \"\"\"Shift a matrix m, filling border with 0, in the horizontal and vertial directions by the amount specified.\"\"\"\n",
    "    sy, sx = m.shape\n",
    "    # First, let's do the horizontal shift.\n",
    "    if h > 0: \n",
    "        m = torch.column_stack([torch.zeros(sy, h, dtype=int), m[:, :-h]])\n",
    "    elif h < 0:\n",
    "        m = torch.column_stack([m[:, -h:], torch.zeros(sy, -h, dtype=int)])\n",
    "    # Then the vertical shift.     \n",
    "    if v > 0:\n",
    "        m = torch.row_stack([torch.zeros(v, sx, dtype=int), m[:-v, :]])\n",
    "    elif v < 0: \n",
    "        m = torch.row_stack([m[-v:, :], torch.zeros(-v, sx, dtype=int)])\n",
    "    if h == 0 and v == 0:\n",
    "        m = m.clone().detach()\n",
    "    return m"
   ]
  },
  {
   "cell_type": "code",
   "execution_count": 45,
   "metadata": {},
   "outputs": [],
   "source": [
    "def connected_regions(m, also_corners=True):\n",
    "    \"\"\"Computes the connected regions.  m must be a 0/1 matrix. \n",
    "    The output is a matrix of the same size as m, in which each connected region \n",
    "    is assigned an integer, with all pixels of that region having that value. \n",
    "    If also_corners is True, touching by a corner counts as being in the same patch. \n",
    "    \"\"\"\n",
    "    directions = [(0, 1), (0, -1), (1, 0), (-1, 0)]\n",
    "    if also_corners:\n",
    "        directions.extend([(1, 1), (1, -1), (-1, 1), (-1, -1)])    \n",
    "    m = torch.clamp(m, 0, 1)\n",
    "    size_y, size_x = m.shape    \n",
    "    # a is originally so that every entry has a different integer.\n",
    "    y, x = np.mgrid[:size_y, :size_x]\n",
    "    a = ((1 + (y * size_x) + x) * m.numpy()).astype(int)\n",
    "    a = torch.tensor(a)\n",
    "    # Does the repeated expansions, propagating the labels.\n",
    "    changed = True\n",
    "    while changed:\n",
    "        na = a\n",
    "        for dx, dy in directions:\n",
    "            na = torch.maximum(na, m * shift(na, h=dx, v=dy))\n",
    "        changed = torch.any(na - a)\n",
    "        a = na\n",
    "    return a\n"
   ]
  },
  {
   "cell_type": "code",
   "execution_count": 47,
   "metadata": {},
   "outputs": [],
   "source": [
    "def regions_by_size(m):\n",
    "    \"\"\"Takes as input a 0-1 matrix m. \n",
    "    Returns a matrix of the same shape as m, where the pixels of each connected region\n",
    "    are labeled with the size of the connected region.\"\"\"\n",
    "    a = connected_regions(m)\n",
    "    # Relabels each region with its size. \n",
    "    # First, I form a dictionary with region id to size. \n",
    "    sizes = {i.item(): torch.sum(a == i).item() for i in torch.unique(a)}\n",
    "    del sizes[0] # Not a region. \n",
    "    return dict_translate(a.numpy(), sizes)"
   ]
  },
  {
   "cell_type": "code",
   "execution_count": 48,
   "metadata": {},
   "outputs": [],
   "source": [
    "bird_runs = create_bird_runs(\"patch_sizes_torch\")"
   ]
  },
  {
   "cell_type": "code",
   "execution_count": 52,
   "metadata": {},
   "outputs": [],
   "source": [
    "device = torch.device(\"cuda\") if torch.cuda.is_available() else torch.device(\"cpu\")"
   ]
  },
  {
   "cell_type": "code",
   "execution_count": 55,
   "metadata": {},
   "outputs": [
    {
     "ename": "KeyboardInterrupt",
     "evalue": "",
     "output_type": "error",
     "traceback": [
      "\u001b[0;31m---------------------------------------------------------------------------\u001b[0m",
      "\u001b[0;31mKeyboardInterrupt\u001b[0m                         Traceback (most recent call last)",
      "\u001b[0;32m/var/folders/3p/4pjc7rv960j4w1c9xvpt_s9m0000gn/T/ipykernel_5257/942243386.py\u001b[0m in \u001b[0;36m<module>\u001b[0;34m\u001b[0m\n\u001b[1;32m      5\u001b[0m         \u001b[0min_tile\u001b[0m \u001b[0;34m=\u001b[0m \u001b[0mgt\u001b[0m\u001b[0;34m.\u001b[0m\u001b[0mget_all_as_tile\u001b[0m\u001b[0;34m(\u001b[0m\u001b[0;34m)\u001b[0m\u001b[0;34m\u001b[0m\u001b[0;34m\u001b[0m\u001b[0m\n\u001b[1;32m      6\u001b[0m         \u001b[0mmt\u001b[0m \u001b[0;34m=\u001b[0m \u001b[0mtorch\u001b[0m\u001b[0;34m.\u001b[0m\u001b[0mtensor\u001b[0m\u001b[0;34m(\u001b[0m\u001b[0min_tile\u001b[0m\u001b[0;34m.\u001b[0m\u001b[0mm\u001b[0m\u001b[0;34m.\u001b[0m\u001b[0msqueeze\u001b[0m\u001b[0;34m(\u001b[0m\u001b[0;36m0\u001b[0m\u001b[0;34m)\u001b[0m\u001b[0;34m.\u001b[0m\u001b[0mastype\u001b[0m\u001b[0;34m(\u001b[0m\u001b[0;34m\"int8\"\u001b[0m\u001b[0;34m)\u001b[0m\u001b[0;34m,\u001b[0m \u001b[0mdevice\u001b[0m\u001b[0;34m=\u001b[0m\u001b[0mdevice\u001b[0m\u001b[0;34m)\u001b[0m\u001b[0;34m\u001b[0m\u001b[0;34m\u001b[0m\u001b[0m\n\u001b[0;32m----> 7\u001b[0;31m         \u001b[0mm_sizes\u001b[0m \u001b[0;34m=\u001b[0m \u001b[0mregions_by_size\u001b[0m\u001b[0;34m(\u001b[0m\u001b[0mmt\u001b[0m\u001b[0;34m)\u001b[0m\u001b[0;34m\u001b[0m\u001b[0;34m\u001b[0m\u001b[0m\n\u001b[0m\u001b[1;32m      8\u001b[0m         \u001b[0;32mwith\u001b[0m \u001b[0mgt\u001b[0m\u001b[0;34m.\u001b[0m\u001b[0mclone_shape\u001b[0m\u001b[0;34m(\u001b[0m\u001b[0mbird\u001b[0m\u001b[0;34m.\u001b[0m\u001b[0mrepopulation_fn\u001b[0m\u001b[0;34m,\u001b[0m \u001b[0mdtype\u001b[0m\u001b[0;34m=\u001b[0m\u001b[0;34m'float32'\u001b[0m\u001b[0;34m)\u001b[0m \u001b[0;32mas\u001b[0m \u001b[0mout_file\u001b[0m\u001b[0;34m:\u001b[0m\u001b[0;34m\u001b[0m\u001b[0;34m\u001b[0m\u001b[0m\n\u001b[1;32m      9\u001b[0m             out_tile = scgt.Tile(in_tile.w, in_tile.h, in_tile.b, \n",
      "\u001b[0;32m/var/folders/3p/4pjc7rv960j4w1c9xvpt_s9m0000gn/T/ipykernel_5257/4254587301.py\u001b[0m in \u001b[0;36mregions_by_size\u001b[0;34m(m)\u001b[0m\n\u001b[1;32m      3\u001b[0m     \u001b[0mReturns\u001b[0m \u001b[0ma\u001b[0m \u001b[0mmatrix\u001b[0m \u001b[0mof\u001b[0m \u001b[0mthe\u001b[0m \u001b[0msame\u001b[0m \u001b[0mshape\u001b[0m \u001b[0;32mas\u001b[0m \u001b[0mm\u001b[0m\u001b[0;34m,\u001b[0m \u001b[0mwhere\u001b[0m \u001b[0mthe\u001b[0m \u001b[0mpixels\u001b[0m \u001b[0mof\u001b[0m \u001b[0meach\u001b[0m \u001b[0mconnected\u001b[0m \u001b[0mregion\u001b[0m\u001b[0;34m\u001b[0m\u001b[0;34m\u001b[0m\u001b[0m\n\u001b[1;32m      4\u001b[0m     are labeled with the size of the connected region.\"\"\"\n\u001b[0;32m----> 5\u001b[0;31m     \u001b[0ma\u001b[0m \u001b[0;34m=\u001b[0m \u001b[0mconnected_regions\u001b[0m\u001b[0;34m(\u001b[0m\u001b[0mm\u001b[0m\u001b[0;34m)\u001b[0m\u001b[0;34m\u001b[0m\u001b[0;34m\u001b[0m\u001b[0m\n\u001b[0m\u001b[1;32m      6\u001b[0m     \u001b[0;31m# Relabels each region with its size.\u001b[0m\u001b[0;34m\u001b[0m\u001b[0;34m\u001b[0m\u001b[0;34m\u001b[0m\u001b[0m\n\u001b[1;32m      7\u001b[0m     \u001b[0;31m# First, I form a dictionary with region id to size.\u001b[0m\u001b[0;34m\u001b[0m\u001b[0;34m\u001b[0m\u001b[0;34m\u001b[0m\u001b[0m\n",
      "\u001b[0;32m/var/folders/3p/4pjc7rv960j4w1c9xvpt_s9m0000gn/T/ipykernel_5257/2406346677.py\u001b[0m in \u001b[0;36mconnected_regions\u001b[0;34m(m, also_corners)\u001b[0m\n\u001b[1;32m     19\u001b[0m         \u001b[0mna\u001b[0m \u001b[0;34m=\u001b[0m \u001b[0ma\u001b[0m\u001b[0;34m\u001b[0m\u001b[0;34m\u001b[0m\u001b[0m\n\u001b[1;32m     20\u001b[0m         \u001b[0;32mfor\u001b[0m \u001b[0mdx\u001b[0m\u001b[0;34m,\u001b[0m \u001b[0mdy\u001b[0m \u001b[0;32min\u001b[0m \u001b[0mdirections\u001b[0m\u001b[0;34m:\u001b[0m\u001b[0;34m\u001b[0m\u001b[0;34m\u001b[0m\u001b[0m\n\u001b[0;32m---> 21\u001b[0;31m             \u001b[0mna\u001b[0m \u001b[0;34m=\u001b[0m \u001b[0mtorch\u001b[0m\u001b[0;34m.\u001b[0m\u001b[0mmaximum\u001b[0m\u001b[0;34m(\u001b[0m\u001b[0mna\u001b[0m\u001b[0;34m,\u001b[0m \u001b[0mm\u001b[0m \u001b[0;34m*\u001b[0m \u001b[0mshift\u001b[0m\u001b[0;34m(\u001b[0m\u001b[0mna\u001b[0m\u001b[0;34m,\u001b[0m \u001b[0mh\u001b[0m\u001b[0;34m=\u001b[0m\u001b[0mdx\u001b[0m\u001b[0;34m,\u001b[0m \u001b[0mv\u001b[0m\u001b[0;34m=\u001b[0m\u001b[0mdy\u001b[0m\u001b[0;34m)\u001b[0m\u001b[0;34m)\u001b[0m\u001b[0;34m\u001b[0m\u001b[0;34m\u001b[0m\u001b[0m\n\u001b[0m\u001b[1;32m     22\u001b[0m         \u001b[0mchanged\u001b[0m \u001b[0;34m=\u001b[0m \u001b[0mtorch\u001b[0m\u001b[0;34m.\u001b[0m\u001b[0many\u001b[0m\u001b[0;34m(\u001b[0m\u001b[0mna\u001b[0m \u001b[0;34m-\u001b[0m \u001b[0ma\u001b[0m\u001b[0;34m)\u001b[0m\u001b[0;34m\u001b[0m\u001b[0;34m\u001b[0m\u001b[0m\n\u001b[1;32m     23\u001b[0m         \u001b[0ma\u001b[0m \u001b[0;34m=\u001b[0m \u001b[0mna\u001b[0m\u001b[0;34m\u001b[0m\u001b[0;34m\u001b[0m\u001b[0m\n",
      "\u001b[0;32m/var/folders/3p/4pjc7rv960j4w1c9xvpt_s9m0000gn/T/ipykernel_5257/1944944153.py\u001b[0m in \u001b[0;36mshift\u001b[0;34m(m, h, v)\u001b[0m\n\u001b[1;32m      4\u001b[0m     \u001b[0;31m# First, let's do the horizontal shift.\u001b[0m\u001b[0;34m\u001b[0m\u001b[0;34m\u001b[0m\u001b[0;34m\u001b[0m\u001b[0m\n\u001b[1;32m      5\u001b[0m     \u001b[0;32mif\u001b[0m \u001b[0mh\u001b[0m \u001b[0;34m>\u001b[0m \u001b[0;36m0\u001b[0m\u001b[0;34m:\u001b[0m\u001b[0;34m\u001b[0m\u001b[0;34m\u001b[0m\u001b[0m\n\u001b[0;32m----> 6\u001b[0;31m         \u001b[0mm\u001b[0m \u001b[0;34m=\u001b[0m \u001b[0mtorch\u001b[0m\u001b[0;34m.\u001b[0m\u001b[0mcolumn_stack\u001b[0m\u001b[0;34m(\u001b[0m\u001b[0;34m[\u001b[0m\u001b[0mtorch\u001b[0m\u001b[0;34m.\u001b[0m\u001b[0mzeros\u001b[0m\u001b[0;34m(\u001b[0m\u001b[0msy\u001b[0m\u001b[0;34m,\u001b[0m \u001b[0mh\u001b[0m\u001b[0;34m,\u001b[0m \u001b[0mdtype\u001b[0m\u001b[0;34m=\u001b[0m\u001b[0mint\u001b[0m\u001b[0;34m)\u001b[0m\u001b[0;34m,\u001b[0m \u001b[0mm\u001b[0m\u001b[0;34m[\u001b[0m\u001b[0;34m:\u001b[0m\u001b[0;34m,\u001b[0m \u001b[0;34m:\u001b[0m\u001b[0;34m-\u001b[0m\u001b[0mh\u001b[0m\u001b[0;34m]\u001b[0m\u001b[0;34m]\u001b[0m\u001b[0;34m)\u001b[0m\u001b[0;34m\u001b[0m\u001b[0;34m\u001b[0m\u001b[0m\n\u001b[0m\u001b[1;32m      7\u001b[0m     \u001b[0;32melif\u001b[0m \u001b[0mh\u001b[0m \u001b[0;34m<\u001b[0m \u001b[0;36m0\u001b[0m\u001b[0;34m:\u001b[0m\u001b[0;34m\u001b[0m\u001b[0;34m\u001b[0m\u001b[0m\n\u001b[1;32m      8\u001b[0m         \u001b[0mm\u001b[0m \u001b[0;34m=\u001b[0m \u001b[0mtorch\u001b[0m\u001b[0;34m.\u001b[0m\u001b[0mcolumn_stack\u001b[0m\u001b[0;34m(\u001b[0m\u001b[0;34m[\u001b[0m\u001b[0mm\u001b[0m\u001b[0;34m[\u001b[0m\u001b[0;34m:\u001b[0m\u001b[0;34m,\u001b[0m \u001b[0;34m-\u001b[0m\u001b[0mh\u001b[0m\u001b[0;34m:\u001b[0m\u001b[0;34m]\u001b[0m\u001b[0;34m,\u001b[0m \u001b[0mtorch\u001b[0m\u001b[0;34m.\u001b[0m\u001b[0mzeros\u001b[0m\u001b[0;34m(\u001b[0m\u001b[0msy\u001b[0m\u001b[0;34m,\u001b[0m \u001b[0;34m-\u001b[0m\u001b[0mh\u001b[0m\u001b[0;34m,\u001b[0m \u001b[0mdtype\u001b[0m\u001b[0;34m=\u001b[0m\u001b[0mint\u001b[0m\u001b[0;34m)\u001b[0m\u001b[0;34m]\u001b[0m\u001b[0;34m)\u001b[0m\u001b[0;34m\u001b[0m\u001b[0;34m\u001b[0m\u001b[0m\n",
      "\u001b[0;31mKeyboardInterrupt\u001b[0m: "
     ]
    }
   ],
   "source": [
    "with torch.no_grad():\n",
    "    for bird in bird_runs:\n",
    "        # Reads the habitat. \n",
    "        gt = scgt.GeoTiff.from_file(bird.habitat_fn)\n",
    "        in_tile = gt.get_all_as_tile()\n",
    "        mt = torch.tensor(in_tile.m.squeeze(0).astype(\"int8\"), device=device)\n",
    "        m_sizes = regions_by_size(mt)\n",
    "        with gt.clone_shape(bird.repopulation_fn, dtype='float32') as out_file:\n",
    "            out_tile = scgt.Tile(in_tile.w, in_tile.h, in_tile.b, \n",
    "                                in_tile.c, in_tile.x, in_tile.y, m_sizes[None, :])\n",
    "            out_file.set_tile(out_tile)\n",
    "        print(\"Done\", bird.name)"
   ]
  },
  {
   "cell_type": "markdown",
   "metadata": {},
   "source": []
  }
 ],
 "metadata": {
  "kernelspec": {
   "display_name": "venv37",
   "language": "python",
   "name": "python3"
  },
  "language_info": {
   "codemirror_mode": {
    "name": "ipython",
    "version": 3
   },
   "file_extension": ".py",
   "mimetype": "text/x-python",
   "name": "python",
   "nbconvert_exporter": "python",
   "pygments_lexer": "ipython3",
   "version": "3.7.11"
  },
  "orig_nbformat": 4
 },
 "nbformat": 4,
 "nbformat_minor": 2
}
