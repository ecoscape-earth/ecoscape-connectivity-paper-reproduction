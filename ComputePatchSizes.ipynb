{
  "cells": [
    {
      "cell_type": "markdown",
      "metadata": {
        "id": "jKD2GiS3sDEM"
      },
      "source": [
        "## Code Setup"
      ]
    },
    {
      "cell_type": "code",
      "execution_count": null,
      "metadata": {
        "id": "f9bjsCKHSc-t"
      },
      "outputs": [],
      "source": [
        "# Path to main directory\n",
        "DATA_PATH = \"/content/gdrive/Shareddrives/Birds and CS/Data/CA-Final\"\n",
        "DATA_PATH = LOCAL_PATH if IS_LOCAL else REMOTE_PATH"
      ]
    },
    {
      "cell_type": "code",
      "execution_count": null,
      "metadata": {
        "id": "J3Koec3ddKiB"
      },
      "outputs": [],
      "source": [
        "import os\n",
        "import sys"
      ]
    },
    {
      "cell_type": "code",
      "execution_count": null,
      "metadata": {
        "id": "TZByjvfguoa0"
      },
      "outputs": [],
      "source": [
        "# Installs required packages\n",
        "if not IS_LOCAL:\n",
        "    !pip install ecoscape-connectivity\n",
        "    !pip install ecoscape-utils"
      ]
    },
    {
      "cell_type": "code",
      "execution_count": null,
      "metadata": {
        "id": "iTaFpgvkS1S-"
      },
      "outputs": [],
      "source": [
        "# Connecting to Drive.\n",
        "if not IS_LOCAL:\n",
        "    from google.colab import drive\n",
        "    drive.mount(\"/content/gdrive\", force_remount=True)"
      ]
    },
    {
      "cell_type": "code",
      "execution_count": null,
      "metadata": {
        "id": "7ciHKINPTRxo"
      },
      "outputs": [],
      "source": [
        "import time\n",
        "from ecoscape_utilities import BirdRun\n",
        "from ecoscape_connectivity import compute_connectivity\n",
        "from ecoscape_connectivity.util import read_transmission_csv"
      ]
    },
    {
      "cell_type": "markdown",
      "metadata": {
        "id": "WOSTuXgfsIf6"
      },
      "source": [
        "## Bird Run Definition"
      ]
    },
    {
      "cell_type": "code",
      "source": [
        "bird_run = BirdRun(DATA_PATH)\n",
        "\n",
        "def create_bird_runs(target):\n",
        "    \"\"\"Creates bird runs for the specified output target.\"\"\"\n",
        "    birds = []\n",
        "\n",
        "    birds.append(bird_run.get_bird_run(\n",
        "        \"acowoo\", \"Acorn Woodpecker\", run_name=target)\n",
        "\n",
        "    birds.append(bird_run.get_bird_run(\n",
        "        \"stejay\", \"Steller's Jay\", run_name=target)\n",
        "\n",
        "    for bird in birds:\n",
        "\n",
        "        # Creates output folder, if missing.\n",
        "        bird_run.createdir_for_file(bird.repopulation_fn)\n",
        "        bird_run.createdir_for_file(bird.gradient_fn)\n",
        "\n",
        "    return birds\n"
      ],
      "metadata": {
        "id": "vgdDKJGOiBAR"
      },
      "execution_count": null,
      "outputs": []
    },
    {
      "cell_type": "markdown",
      "source": [
        "## Alternate connectivity algorithms"
      ],
      "metadata": {
        "id": "7CHBKichkf8p"
      }
    },
    {
      "cell_type": "markdown",
      "source": [
        "This is the standard EcoScape algorithm."
      ],
      "metadata": {
        "id": "nrH5BGYhkWXb"
      }
    },
    {
      "cell_type": "code",
      "source": [
        "class StochasticRepopulateFast(nn.Module):\n",
        "    \"\"\"\n",
        "    Important: THIS is the function to use in the repopulation experiments.\n",
        "    This module models the repopulation of the habitat from a chosen percentage\n",
        "    of the seed places.  The terrain and habitat are parameters, and the input is a\n",
        "    similarly sized 0-1 (float) tensor of seed points.\"\"\"\n",
        "\n",
        "    def __init__(self, habitat, terrain, num_spreads=100, spread_size=1, min_transmission=0.9,\n",
        "                 randomize_source=True, randomize_dest=False):\n",
        "        \"\"\"\n",
        "        :param habitat: torch tensor (2-dim) representing the habitat.\n",
        "        :param terrain: torch tensor (2-dim) representing the terrain.\n",
        "        :param num_spreads: number of bird spreads to use\n",
        "        :param spread_size: by how much (in pixels) birds spread\n",
        "        :param min_transmission: min value used in randomizations.\n",
        "        :param randomize_source: whether to randomize the source of the spread.\n",
        "        :param randomize_dest: whether to randomize the destination of the spread.\n",
        "        \"\"\"\n",
        "        super().__init__()\n",
        "        self.habitat = habitat\n",
        "        self.goodness = torch.nn.Parameter(torch.max(habitat, terrain), requires_grad=True)\n",
        "        self.h, self.w = habitat.shape\n",
        "        self.num_spreads = num_spreads\n",
        "        self.spread_size = spread_size\n",
        "        # Defines spread operator.\n",
        "        self.min_transmission = min_transmission\n",
        "        self.randomize_source = randomize_source\n",
        "        self.randomize_dest = randomize_dest\n",
        "        self.kernel_size = 1 + 2 * spread_size\n",
        "        self.spreader = torch.nn.MaxPool2d(self.kernel_size, stride=1, padding=spread_size)\n",
        "\n",
        "\n",
        "    def forward(self, seed):\n",
        "        \"\"\"\n",
        "        seed: a 0-1 (float) tensor of seed points.\n",
        "        \"\"\"\n",
        "        # First, we multiply the seed by the habitat, to confine the seeds to\n",
        "        # where birds can live.\n",
        "        x = seed * self.habitat\n",
        "        if x.ndim < 3:\n",
        "            # We put it into shape (1, w, h) because the pooling operator expects this.\n",
        "            x = torch.unsqueeze(x, dim=0)\n",
        "        # Now we must propagate n times.\n",
        "        for _ in range(self.num_spreads):\n",
        "            # First, we randomly suppress some bird origin locations.\n",
        "            xx = x\n",
        "            if self.randomize_source:\n",
        "                x = x * (self.min_transmission + (1. - self.min_transmission) * torch.rand_like(x))\n",
        "            # Then, we propagate.\n",
        "            x = self.spreader(x) * self.goodness\n",
        "            # We randomize the destinations too.\n",
        "            if self.randomize_dest:\n",
        "                x *= (self.min_transmission + (1. - self.min_transmission) * torch.rand_like(x))\n",
        "            # And finally we combine the results.\n",
        "            x = torch.max(x, xx)\n",
        "        x *= self.habitat\n",
        "        if seed.ndim < 3:\n",
        "            x = torch.squeeze(x, dim=0)\n",
        "        return x\n",
        "\n",
        "    def get_grad(self):\n",
        "        return self.goodness.grad * self.goodness"
      ],
      "metadata": {
        "id": "VmaaxlIn6LpA"
      },
      "execution_count": null,
      "outputs": []
    },
    {
      "cell_type": "markdown",
      "source": [
        "This is the algorithm that uses patch size as a measure of connectivity."
      ],
      "metadata": {
        "id": "GgwyeIQxkbps"
      }
    },
    {
      "cell_type": "code",
      "source": [
        "def analyze_tile_connected_patches(device=None):\n",
        "    \"\"\"This is the function that performs the analysis on a single tile.\n",
        "    The input and output to this function are in the cpu, but the computation occurs in\n",
        "    the specified device.\n",
        "    str device: the device to be used, either cpu or cuda.\n",
        "    \"\"\"\n",
        "\n",
        "    device = device or ('cuda' if torch.cuda.is_available() else 'cpu')\n",
        "\n",
        "\n",
        "    def f(habitat, terrain):\n",
        "        _, w, h = habitat.shape\n",
        "        # This is the function, which returns the connectivity as the size of a habitat patch.\n",
        "\n",
        "        hab = torch.tensor(habitat.astype(np.float), requires_grad=False, dtype=torch.float, device = device).view(w, h)\n",
        "        ter = torch.tensor(terrain.astype(np.float), requires_grad=False, dtype=torch.float, device = device).view(w, h)\n",
        "        repopulator = analysis_class(hab, ter, num_spreads=total_spreads, spread_size=hop_length).to(device)\n",
        "        for i in range(num_batches):\n",
        "            # Creates the seeds.\n",
        "            seeds = torch.rand((batch_size, w, h), device=device) < seed_probability\n",
        "            # And passes them through the repopulation.\n",
        "            pop = repopulator(seeds)\n",
        "            # We need to take the mean over each batch.  This will tell us what is the\n",
        "            # average repopulation.\n",
        "            tot_pop += torch.mean(pop, 0)\n",
        "            # This is the sum across all batches.  So, the gradient will be for the total\n",
        "            # of the batch. This is why the gradient will need to be divided by the number\n",
        "            # of simulations.\n",
        "            if produce_gradient:\n",
        "                q = torch.sum(pop)\n",
        "                q.backward()\n",
        "                tot_grad += repopulator.get_grad()\n",
        "        # Normalizes by number of batches.\n",
        "        avg_pop, avg_grad = tot_pop / num_batches, tot_grad / num_simulations\n",
        "        return avg_pop.to(\"cpu\"), avg_grad.to(\"cpu\")\n",
        "    if not produce_gradient:\n",
        "        # We remove all memory/time requirements due to gradient computation.\n",
        "        f = torch.no_grad()(f)\n",
        "    return f\n"
      ],
      "metadata": {
        "id": "eKLK9RsIdvH5"
      },
      "execution_count": null,
      "outputs": []
    },
    {
      "cell_type": "code",
      "source": [
        "class PatchArea(nn.Module):\n",
        "    \"\"\"\n",
        "    This computes connectivity as the area of habitat patches.\n",
        "    \"\"\"\n",
        "\n",
        "    def __init__(self, habitat, terrain, num_spreads=100, spread_size=1, min_transmission=0.9,\n",
        "                 randomize_source=True, randomize_dest=False):\n",
        "        \"\"\"\n",
        "        :param habitat: torch tensor (2-dim) representing the habitat.\n",
        "        :param terrain: torch tensor (2-dim) representing the terrain. Not used.\n",
        "        :param num_spreads: Not used.\n",
        "        :param spread_size: Not used.\n",
        "        :param min_transmission: Not used.\n",
        "        :param randomize_source: Not used.\n",
        "        :param randomize_dest: Not used.\n",
        "        \"\"\"\n",
        "        super().__init__()\n",
        "        self.habitat = habitat\n",
        "\n",
        "\n",
        "    def forward(self, seed):\n",
        "        \"\"\"\n",
        "        seed: a 0-1 (float) tensor of seed points.\n",
        "        \"\"\"\n",
        "        # First, we multiply the seed by the habitat, to confine the seeds to\n",
        "        # where birds can live.\n",
        "        x = seed * self.habitat\n",
        "        if x.ndim < 3:\n",
        "            # We put it into shape (1, w, h) because the pooling operator expects this.\n",
        "            x = torch.unsqueeze(x, dim=0)\n",
        "        # Now we must propagate n times.\n",
        "        for _ in range(self.num_spreads):\n",
        "            # First, we randomly suppress some bird origin locations.\n",
        "            xx = x\n",
        "            if self.randomize_source:\n",
        "                x = x * (self.min_transmission + (1. - self.min_transmission) * torch.rand_like(x))\n",
        "            # Then, we propagate.\n",
        "            x = self.spreader(x) * self.goodness\n",
        "            # We randomize the destinations too.\n",
        "            if self.randomize_dest:\n",
        "                x *= (self.min_transmission + (1. - self.min_transmission) * torch.rand_like(x))\n",
        "            # And finally we combine the results.\n",
        "            x = torch.max(x, xx)\n",
        "        x *= self.habitat\n",
        "        if seed.ndim < 3:\n",
        "            x = torch.squeeze(x, dim=0)\n",
        "        return x\n",
        "\n",
        "    def get_grad(self):\n",
        "        return self.goodness.grad * self.goodness"
      ],
      "metadata": {
        "id": "qF0HWfg1kqsW"
      },
      "execution_count": null,
      "outputs": []
    },
    {
      "cell_type": "code",
      "source": [
        "import torch\n",
        "import numpy as np"
      ],
      "metadata": {
        "id": "AQQd228tdM1g"
      },
      "execution_count": null,
      "outputs": []
    },
    {
      "cell_type": "code",
      "source": [
        "# prompt: get the shape of a tensor in pytorch\n",
        "\n",
        "a = torch.zeros((4, 6))\n"
      ],
      "metadata": {
        "id": "j8fl0KlqdQ8I"
      },
      "execution_count": null,
      "outputs": []
    },
    {
      "cell_type": "code",
      "source": [
        "list(a.shape)"
      ],
      "metadata": {
        "colab": {
          "base_uri": "https://localhost:8080/"
        },
        "id": "6IPWP4GSfwoD",
        "outputId": "c17fc738-47a0-4155-f50e-951184aeb9b2"
      },
      "execution_count": null,
      "outputs": [
        {
          "output_type": "execute_result",
          "data": {
            "text/plain": [
              "[4, 6]"
            ]
          },
          "metadata": {},
          "execution_count": 6
        }
      ]
    },
    {
      "cell_type": "code",
      "source": [
        "ix, iy = np.mgrid[:4, :6]"
      ],
      "metadata": {
        "id": "fxqcUdEffj4s"
      },
      "execution_count": null,
      "outputs": []
    },
    {
      "cell_type": "code",
      "source": [
        "ix"
      ],
      "metadata": {
        "colab": {
          "base_uri": "https://localhost:8080/"
        },
        "id": "g6fny0j9fkg0",
        "outputId": "7388b1e8-5279-4d8d-a61e-ffd8ca4feb22"
      },
      "execution_count": null,
      "outputs": [
        {
          "output_type": "execute_result",
          "data": {
            "text/plain": [
              "array([[0, 0, 0, 0, 0, 0],\n",
              "       [1, 1, 1, 1, 1, 1],\n",
              "       [2, 2, 2, 2, 2, 2],\n",
              "       [3, 3, 3, 3, 3, 3]])"
            ]
          },
          "metadata": {},
          "execution_count": 17
        }
      ]
    },
    {
      "cell_type": "code",
      "source": [
        "iy"
      ],
      "metadata": {
        "colab": {
          "base_uri": "https://localhost:8080/"
        },
        "id": "SIY4v1LWgYJx",
        "outputId": "c7bd8543-79d1-481f-e5e0-1433f55416a8"
      },
      "execution_count": null,
      "outputs": [
        {
          "output_type": "execute_result",
          "data": {
            "text/plain": [
              "array([[6]])"
            ]
          },
          "metadata": {},
          "execution_count": 13
        }
      ]
    },
    {
      "cell_type": "code",
      "source": [],
      "metadata": {
        "id": "yW72wGtvgZfs"
      },
      "execution_count": null,
      "outputs": []
    }
  ],
  "metadata": {
    "colab": {
      "provenance": []
    },
    "kernelspec": {
      "display_name": "Python 3",
      "name": "python3"
    },
    "language_info": {
      "name": "python"
    }
  },
  "nbformat": 4,
  "nbformat_minor": 0
}