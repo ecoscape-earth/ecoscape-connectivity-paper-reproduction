{
  "cells": [
    {
      "cell_type": "code",
      "execution_count": 1,
      "metadata": {
        "id": "LRbof6OFMbpE"
      },
      "outputs": [],
      "source": [
        "# If True, assumes everything is running locally.\n",
        "IS_LOCAL = False\n",
        "\n",
        "# Path to main directory\n",
        "REMOTE_PATH = \"/content/gdrive/Shareddrives/Birds and CS/Data/CA-Final\"\n",
        "LOCAL_PATH = \"data/CA-Final\"\n",
        "DATA_PATH = LOCAL_PATH if IS_LOCAL else REMOTE_PATH"
      ]
    },
    {
      "cell_type": "code",
      "execution_count": 2,
      "metadata": {
        "colab": {
          "base_uri": "https://localhost:8080/"
        },
        "id": "qjUyCmTnOmNR",
        "outputId": "3582798c-f3b4-4796-9df3-362b8f936bfb"
      },
      "outputs": [
        {
          "name": "stdout",
          "output_type": "stream",
          "text": [
            "Collecting ecoscape-connectivity\n",
            "  Downloading ecoscape_connectivity-0.0.3-py3-none-any.whl (11 kB)\n",
            "Requirement already satisfied: numpy>=1.20.3 in /usr/local/lib/python3.10/dist-packages (from ecoscape-connectivity) (1.23.5)\n",
            "Collecting scgt>=0.0.4 (from ecoscape-connectivity)\n",
            "  Downloading scgt-0.0.5-py3-none-any.whl (11 kB)\n",
            "Requirement already satisfied: GDAL>=3.0.0 in /usr/local/lib/python3.10/dist-packages (from scgt>=0.0.4->ecoscape-connectivity) (3.4.3)\n",
            "Requirement already satisfied: matplotlib>=3.5.3 in /usr/local/lib/python3.10/dist-packages (from scgt>=0.0.4->ecoscape-connectivity) (3.7.1)\n",
            "Collecting rasterio>=1.2.10 (from scgt>=0.0.4->ecoscape-connectivity)\n",
            "  Downloading rasterio-1.3.9-cp310-cp310-manylinux2014_x86_64.whl (20.6 MB)\n",
            "\u001b[2K     \u001b[90m━━━━━━━━━━━━━━━━━━━━━━━━━━━━━━━━━━━━━━━━\u001b[0m \u001b[32m20.6/20.6 MB\u001b[0m \u001b[31m76.8 MB/s\u001b[0m eta \u001b[36m0:00:00\u001b[0m\n",
            "\u001b[?25hRequirement already satisfied: scipy>=1.7.3 in /usr/local/lib/python3.10/dist-packages (from scgt>=0.0.4->ecoscape-connectivity) (1.11.3)\n",
            "Requirement already satisfied: contourpy>=1.0.1 in /usr/local/lib/python3.10/dist-packages (from matplotlib>=3.5.3->scgt>=0.0.4->ecoscape-connectivity) (1.1.1)\n",
            "Requirement already satisfied: cycler>=0.10 in /usr/local/lib/python3.10/dist-packages (from matplotlib>=3.5.3->scgt>=0.0.4->ecoscape-connectivity) (0.12.1)\n",
            "Requirement already satisfied: fonttools>=4.22.0 in /usr/local/lib/python3.10/dist-packages (from matplotlib>=3.5.3->scgt>=0.0.4->ecoscape-connectivity) (4.43.1)\n",
            "Requirement already satisfied: kiwisolver>=1.0.1 in /usr/local/lib/python3.10/dist-packages (from matplotlib>=3.5.3->scgt>=0.0.4->ecoscape-connectivity) (1.4.5)\n",
            "Requirement already satisfied: packaging>=20.0 in /usr/local/lib/python3.10/dist-packages (from matplotlib>=3.5.3->scgt>=0.0.4->ecoscape-connectivity) (23.2)\n",
            "Requirement already satisfied: pillow>=6.2.0 in /usr/local/lib/python3.10/dist-packages (from matplotlib>=3.5.3->scgt>=0.0.4->ecoscape-connectivity) (9.4.0)\n",
            "Requirement already satisfied: pyparsing>=2.3.1 in /usr/local/lib/python3.10/dist-packages (from matplotlib>=3.5.3->scgt>=0.0.4->ecoscape-connectivity) (3.1.1)\n",
            "Requirement already satisfied: python-dateutil>=2.7 in /usr/local/lib/python3.10/dist-packages (from matplotlib>=3.5.3->scgt>=0.0.4->ecoscape-connectivity) (2.8.2)\n",
            "Collecting affine (from rasterio>=1.2.10->scgt>=0.0.4->ecoscape-connectivity)\n",
            "  Downloading affine-2.4.0-py3-none-any.whl (15 kB)\n",
            "Requirement already satisfied: attrs in /usr/local/lib/python3.10/dist-packages (from rasterio>=1.2.10->scgt>=0.0.4->ecoscape-connectivity) (23.1.0)\n",
            "Requirement already satisfied: certifi in /usr/local/lib/python3.10/dist-packages (from rasterio>=1.2.10->scgt>=0.0.4->ecoscape-connectivity) (2023.7.22)\n",
            "Requirement already satisfied: click>=4.0 in /usr/local/lib/python3.10/dist-packages (from rasterio>=1.2.10->scgt>=0.0.4->ecoscape-connectivity) (8.1.7)\n",
            "Requirement already satisfied: cligj>=0.5 in /usr/local/lib/python3.10/dist-packages (from rasterio>=1.2.10->scgt>=0.0.4->ecoscape-connectivity) (0.7.2)\n",
            "Collecting snuggs>=1.4.1 (from rasterio>=1.2.10->scgt>=0.0.4->ecoscape-connectivity)\n",
            "  Downloading snuggs-1.4.7-py3-none-any.whl (5.4 kB)\n",
            "Requirement already satisfied: click-plugins in /usr/local/lib/python3.10/dist-packages (from rasterio>=1.2.10->scgt>=0.0.4->ecoscape-connectivity) (1.1.1)\n",
            "Requirement already satisfied: setuptools in /usr/local/lib/python3.10/dist-packages (from rasterio>=1.2.10->scgt>=0.0.4->ecoscape-connectivity) (67.7.2)\n",
            "Requirement already satisfied: six>=1.5 in /usr/local/lib/python3.10/dist-packages (from python-dateutil>=2.7->matplotlib>=3.5.3->scgt>=0.0.4->ecoscape-connectivity) (1.16.0)\n",
            "Installing collected packages: snuggs, affine, rasterio, scgt, ecoscape-connectivity\n",
            "Successfully installed affine-2.4.0 ecoscape-connectivity-0.0.3 rasterio-1.3.9 scgt-0.0.5 snuggs-1.4.7\n",
            "Collecting ecoscape-utilities\n",
            "  Downloading ecoscape_utilities-0.0.3-py3-none-any.whl (4.1 kB)\n",
            "Installing collected packages: ecoscape-utilities\n",
            "Successfully installed ecoscape-utilities-0.0.3\n"
          ]
        }
      ],
      "source": [
        "# Installs required packages\n",
        "if not IS_LOCAL:\n",
        "    !pip install ecoscape-connectivity\n",
        "    !pip install ecoscape-utilities"
      ]
    },
    {
      "cell_type": "code",
      "execution_count": 3,
      "metadata": {
        "colab": {
          "base_uri": "https://localhost:8080/"
        },
        "id": "IK6j0gXAP-NT",
        "outputId": "7d5439a8-73e3-47f4-9ba4-2d17bf06f549"
      },
      "outputs": [
        {
          "name": "stdout",
          "output_type": "stream",
          "text": [
            "Mounted at /content/gdrive\n"
          ]
        }
      ],
      "source": [
        "# Connecting to Drive.\n",
        "if not IS_LOCAL:\n",
        "    from google.colab import drive\n",
        "    drive.mount(\"/content/gdrive\", force_remount=True)"
      ]
    },
    {
      "cell_type": "code",
      "execution_count": 4,
      "metadata": {
        "id": "Tvor6b9qMbpH"
      },
      "outputs": [],
      "source": [
        "import time\n",
        "import numpy as np\n",
        "import ecoscape_connectivity\n",
        "from ecoscape_connectivity.util import dict_translate\n",
        "from ecoscape_utilities.bird_runs import BirdRun\n",
        "from functools import reduce\n",
        "import scgt\n",
        "import torch"
      ]
    },
    {
      "cell_type": "code",
      "execution_count": 5,
      "metadata": {
        "id": "-O2toeSXMbpI"
      },
      "outputs": [],
      "source": [
        "bird_run = BirdRun(DATA_PATH)\n",
        "\n",
        "def create_bird_runs(target):\n",
        "    \"\"\"Creates bird runs for the specified output target.\"\"\"\n",
        "    birds = []\n",
        "\n",
        "    birds.append(bird_run.get_bird_run(\n",
        "        \"acowoo\", \"Acorn Woodpecker\", run_name=target))\n",
        "\n",
        "    birds.append(bird_run.get_bird_run(\n",
        "        \"stejay\", \"Steller's Jay\", run_name=target))\n",
        "\n",
        "    for bird in birds:\n",
        "\n",
        "        # Creates output folder, if missing.\n",
        "        bird_run.createdir_for_file(bird.repopulation_fn)\n",
        "        bird_run.createdir_for_file(bird.gradient_fn)\n",
        "\n",
        "    return birds\n"
      ]
    },
    {
      "cell_type": "markdown",
      "metadata": {
        "id": "nPbVlWwaMbpI"
      },
      "source": [
        "The following code computes the patches, and labels the pixels belonging to each patch with the patch size.\n",
        "We also compute the largest patch size for renormalization."
      ]
    },
    {
      "cell_type": "code",
      "execution_count": 6,
      "metadata": {
        "id": "Um_E-MsSMbpK"
      },
      "outputs": [],
      "source": [
        "def shift(m, h=0, v=0, device=None):\n",
        "    device = device or torch.device(\"cpu\")\n",
        "    \"\"\"Shift a matrix m, filling border with 0, in the horizontal and vertial directions by the amount specified.\"\"\"\n",
        "    sy, sx = m.shape\n",
        "    # First, let's do the horizontal shift.\n",
        "    if h > 0:\n",
        "        m = torch.column_stack([torch.zeros(sy, h, dtype=int, device=device), m[:, :-h]])\n",
        "    elif h < 0:\n",
        "        m = torch.column_stack([m[:, -h:], torch.zeros(sy, -h, dtype=int, device=device)])\n",
        "    # Then the vertical shift.\n",
        "    if v > 0:\n",
        "        m = torch.row_stack([torch.zeros(v, sx, dtype=int, device=device), m[:-v, :]])\n",
        "    elif v < 0:\n",
        "        m = torch.row_stack([m[-v:, :], torch.zeros(-v, sx, dtype=int, device=device)])\n",
        "    if h == 0 and v == 0:\n",
        "        m = m.clone().detach()\n",
        "    return m"
      ]
    },
    {
      "cell_type": "code",
      "execution_count": 7,
      "metadata": {
        "id": "m0tE5GaBMbpK"
      },
      "outputs": [],
      "source": [
        "def connected_regions(m, also_corners=True, device=None):\n",
        "    \"\"\"Computes the connected regions.  m must be a 0/1 matrix.\n",
        "    The output is a matrix of the same size as m, in which each connected region\n",
        "    is assigned an integer, with all pixels of that region having that value.\n",
        "    If also_corners is True, touching by a corner counts as being in the same patch.\n",
        "    \"\"\"\n",
        "    device = device or torch.device(\"cpu\")\n",
        "    directions = [(0, 1), (0, -1), (1, 0), (-1, 0)]\n",
        "    if also_corners:\n",
        "        directions.extend([(1, 1), (1, -1), (-1, 1), (-1, -1)])\n",
        "    m = torch.clamp(m, 0, 1)\n",
        "    size_y, size_x = m.shape\n",
        "    # a is originally so that every entry has a different integer.\n",
        "    y, x = np.mgrid[:size_y, :size_x]\n",
        "    a = ((1 + (y * size_x) + x) * m.cpu().numpy()).astype(int)\n",
        "    a = torch.tensor(a, device=device)\n",
        "    # Does the repeated expansions, propagating the labels.\n",
        "    changed = True\n",
        "    while changed:\n",
        "        na = a\n",
        "        for dx, dy in directions:\n",
        "            na = torch.maximum(na, m * shift(na, h=dx, v=dy, device=device))\n",
        "        changed = torch.any(na - a)\n",
        "        a = na\n",
        "    return a\n"
      ]
    },
    {
      "cell_type": "code",
      "execution_count": 8,
      "metadata": {
        "id": "Y1xa3_-JMbpL"
      },
      "outputs": [],
      "source": [
        "def regions_by_size(m, device=None):\n",
        "    \"\"\"Takes as input a 0-1 matrix m.\n",
        "    Returns a matrix of the same shape as m, where the pixels of each connected region\n",
        "    are labeled with the size of the connected region.\"\"\"\n",
        "    device = device or torch.device(\"cpu\")\n",
        "    a = connected_regions(m, device=device)\n",
        "    # Relabels each region with its size.\n",
        "    # First, I form a dictionary with region id to size.\n",
        "    sizes = {i.item(): torch.sum(a == i).item() for i in torch.unique(a)}\n",
        "    del sizes[0] # Not a region.\n",
        "    return dict_translate(a.cpu().numpy(), sizes)"
      ]
    },
    {
      "cell_type": "code",
      "execution_count": 9,
      "metadata": {
        "id": "FrZymsMbMbpL"
      },
      "outputs": [],
      "source": [
        "bird_runs = create_bird_runs(\"patch_sizes_torch\")"
      ]
    },
    {
      "cell_type": "code",
      "execution_count": 10,
      "metadata": {
        "id": "297oIHczMbpM"
      },
      "outputs": [],
      "source": [
        "device = torch.device(\"cuda\") if torch.cuda.is_available() else torch.device(\"cpu\")"
      ]
    },
    {
      "cell_type": "code",
      "execution_count": 11,
      "metadata": {
        "colab": {
          "base_uri": "https://localhost:8080/"
        },
        "id": "KJE269pzMbpM",
        "outputId": "893f4ede-f910-43a0-bbbd-ad0c9df06e8d"
      },
      "outputs": [
        {
          "data": {
            "text/plain": [
              "device(type='cuda')"
            ]
          },
          "execution_count": 11,
          "metadata": {},
          "output_type": "execute_result"
        }
      ],
      "source": [
        "device"
      ]
    },
    {
      "cell_type": "code",
      "execution_count": 12,
      "metadata": {
        "colab": {
          "base_uri": "https://localhost:8080/"
        },
        "id": "MeHc7OJzMbpN",
        "outputId": "6c923f57-a5f5-4c1f-89ce-03d70e560c18"
      },
      "outputs": [
        {
          "name": "stderr",
          "output_type": "stream",
          "text": [
            "WARNING:rasterio._env:CPLE_NotSupported in driver GTiff does not support open option BLOCKYSIZE\n",
            "WARNING:rasterio._env:CPLE_NotSupported in driver GTiff does not support open option COMPRESS\n",
            "WARNING:rasterio._env:CPLE_NotSupported in driver GTiff does not support open option INTERLEAVE\n"
          ]
        },
        {
          "name": "stdout",
          "output_type": "stream",
          "text": [
            "Done Acorn Woodpecker in 30.07918643951416 s\n"
          ]
        },
        {
          "name": "stderr",
          "output_type": "stream",
          "text": [
            "WARNING:rasterio._env:CPLE_NotSupported in driver GTiff does not support open option BLOCKYSIZE\n",
            "WARNING:rasterio._env:CPLE_NotSupported in driver GTiff does not support open option COMPRESS\n",
            "WARNING:rasterio._env:CPLE_NotSupported in driver GTiff does not support open option INTERLEAVE\n"
          ]
        },
        {
          "name": "stdout",
          "output_type": "stream",
          "text": [
            "Done Steller's Jay in 33.826533794403076 s\n"
          ]
        }
      ],
      "source": [
        "with torch.no_grad():\n",
        "    for bird in bird_runs:\n",
        "        t0 = time.time()\n",
        "        # Reads the habitat.\n",
        "        gt = scgt.GeoTiff.from_file(bird.habitat_fn)\n",
        "        in_tile = gt.get_all_as_tile()\n",
        "        mt = torch.tensor(in_tile.m.squeeze(0).astype(\"int8\"), device=device)\n",
        "        m_sizes = regions_by_size(mt, device=device)\n",
        "        with gt.clone_shape(bird.repopulation_fn, dtype='float32') as out_file:\n",
        "            out_tile = scgt.Tile(in_tile.w, in_tile.h, in_tile.b,\n",
        "                                in_tile.c, in_tile.x, in_tile.y, m_sizes[None, :])\n",
        "            out_file.set_tile(out_tile)\n",
        "        print(\"Done\", bird.name, \"in\", time.time() - t0, \"s\")"
      ]
    },
    {
      "cell_type": "markdown",
      "metadata": {
        "id": "AdLoqMJjMbpO"
      },
      "source": []
    }
  ],
  "metadata": {
    "accelerator": "GPU",
    "colab": {
      "gpuType": "A100",
      "machine_shape": "hm",
      "provenance": []
    },
    "kernelspec": {
      "display_name": "Python 3",
      "name": "python3"
    },
    "language_info": {
      "codemirror_mode": {
        "name": "ipython",
        "version": 3
      },
      "file_extension": ".py",
      "mimetype": "text/x-python",
      "name": "python",
      "nbconvert_exporter": "python",
      "pygments_lexer": "ipython3",
      "version": "3.7.11"
    },
    "orig_nbformat": 4
  },
  "nbformat": 4,
  "nbformat_minor": 0
}
