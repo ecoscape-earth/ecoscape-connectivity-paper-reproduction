{
 "cells": [
  {
   "cell_type": "markdown",
   "metadata": {},
   "source": [
    "# Generate Validation Data\n",
    "\n",
    "For every bird, this notebook generates a list of locations, with for each location, the average number of birds per checklist, and the fraction of checklists where the bird appears. \n",
    "\n",
    "This notebook has been included for the sake of reproducibility, but it does not need to be run, because the data we provide already include its output. \n",
    "This notebook is the one place where you do need the database created from ebird data; see the [documentation](ebird_data/README.md) for how to generate it.  It is a process that takes a few days, between downloading, and creating the database.  \n",
    "For convenience, we include already the result of running this notebook, so again, it does not need to be run. "
   ]
  },
  {
   "cell_type": "code",
   "execution_count": 1,
   "metadata": {},
   "outputs": [],
   "source": [
    "import os, sys\n",
    "sys.path.append(os.path.join(os.getcwd(), \"birdmaps\"))"
   ]
  },
  {
   "cell_type": "code",
   "execution_count": 2,
   "metadata": {
    "collapsed": true
   },
   "outputs": [],
   "source": [
    "import os\n",
    "import pandas as pd\n",
    "import random\n",
    "\n",
    "import ebird_db\n",
    "import bird_runs"
   ]
  },
  {
   "cell_type": "code",
   "execution_count": null,
   "metadata": {
    "collapsed": false
   },
   "outputs": [],
   "source": [
    "# Replace the paths below with the ones you need. \n",
    "ebird_obs = ebird_db.EbirdObservations(\"/Users/luca/data/eBird/bird_data_uswest.db\")\n",
    "valid = ebird_db.Validation()\n",
    "FILE_PATH = \"/Users/luca/Library/CloudStorage/GoogleDrive-luca@ucsc.edu/Shared drives/Birds and CS/Data/CA\"\n",
    "bird_run = bird_runs.BirdRun(FILE_PATH)"
   ]
  },
  {
   "cell_type": "code",
   "execution_count": null,
   "metadata": {
    "collapsed": false
   },
   "outputs": [],
   "source": [
    "birds = [\n",
    "    bird_run.get_bird_run(\"acowoo\", \"Acorn Woodpecker\"),\n",
    "    bird_run.get_bird_run(\"oaktit308\", \"Oak Titmouse\"),\n",
    "    bird_run.get_bird_run(\"stejay\", \"Steller's Jay\"),\n",
    "    ]\n",
    "\n",
    "max_distances = [2]\n",
    "date_range = (\"2012-01-01\", \"2018-12-31\")\n",
    "breeding = True\n",
    "state = \"US-CA\"\n",
    "num_sample_squares = 20000 # Sampling number for the squares."
   ]
  },
  {
   "cell_type": "code",
   "execution_count": null,
   "metadata": {
    "collapsed": false
   },
   "outputs": [],
   "source": [
    "\n",
    "for bird in birds:\n",
    "    print(\"Bird:\", bird.name)\n",
    "    for max_dist in max_distances:\n",
    "        print(\"Max distance:\", max_dist)\n",
    "        bird_run.createdir(bird.obs_path)\n",
    "        df = pd.DataFrame(columns=[\"Square\", \"NumChecklists\", \"NumBirdChecklists\", \"NumBirds\"])\n",
    "        squares = ebird_obs.get_all_squares(state=state, breeding=breeding,\n",
    "                                            date_range=date_range, max_dist=max_dist)\n",
    "        num_squares = len(squares)\n",
    "        k = min(num_squares, num_sample_squares)\n",
    "        print(\"Retrieved\", num_squares, \"squares\")\n",
    "        # print(squares[:10])\n",
    "        selected_squares = random.sample(squares, k)\n",
    "        for i, sq in enumerate(selected_squares):\n",
    "            num_checklists, num_bird_checklists, num_birds = ebird_obs.get_square_observations(\n",
    "                sq, bird, breeding=breeding, date_range=date_range, max_dist=max_dist)\n",
    "            df = df.append({\n",
    "                \"Square\": sq, \"NumChecklists\": num_checklists,\n",
    "                \"NumBirdChecklists\": num_bird_checklists, \"NumBirds\": num_birds\n",
    "            }, ignore_index=True)\n",
    "            if (i + 1) % 1000 == 0:\n",
    "                print(\"Processed\", i + 1, \"squares\")\n",
    "        obs_fn = bird_run.get_observations_all_fn(bird.obs_path, max_distance=max_dist,\n",
    "                                                  date_range=\"-\".join(date_range),\n",
    "                                                  num_squares=num_sample_squares)\n",
    "        df.to_csv(obs_fn)"
   ]
  },
  {
   "cell_type": "code",
   "execution_count": null,
   "metadata": {
    "collapsed": false
   },
   "outputs": [],
   "source": []
  }
 ],
 "metadata": {
  "kernelspec": {
   "display_name": "venv37",
   "language": "python",
   "name": "python3"
  },
  "language_info": {
   "codemirror_mode": {
    "name": "ipython",
    "version": 3
   },
   "file_extension": ".py",
   "mimetype": "text/x-python",
   "name": "python",
   "nbconvert_exporter": "python",
   "pygments_lexer": "ipython3",
   "version": "3.7.11"
  }
 },
 "nbformat": 4,
 "nbformat_minor": 0
}
