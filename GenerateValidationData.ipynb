{
 "cells": [
  {
   "cell_type": "code",
   "execution_count": 1,
   "metadata": {
    "collapsed": true
   },
   "outputs": [],
   "source": [
    "import os\n",
    "import pandas as pd\n",
    "import random\n",
    "import sys\n",
    "sys.path.append(os.path.join(os.getcwd(), \"birdmaps\"))"
   ]
  },
  {
   "cell_type": "code",
   "execution_count": 3,
   "metadata": {},
   "outputs": [],
   "source": [
    "import ebird_db, bird_runs"
   ]
  },
  {
   "cell_type": "code",
   "execution_count": null,
   "metadata": {},
   "outputs": [],
   "source": [
    "# This needs to point to your eBird database. \n",
    "ebird_obs = birdmaps.ebird_db.EbirdObservations(\"/Users/luca/data/eBird/bird_data_uswest.db\")"
   ]
  },
  {
   "cell_type": "code",
   "execution_count": null,
   "metadata": {
    "collapsed": false
   },
   "outputs": [],
   "source": [
    "valid = ebird_db.Validation()\n",
    "FILE_PATH = \"data/CA-Final\"\n",
    "bird_run = bird_runs.BirdRun(FILE_PATH)"
   ]
  },
  {
   "cell_type": "code",
   "execution_count": null,
   "metadata": {
    "collapsed": false
   },
   "outputs": [],
   "source": [
    "birds = [\n",
    "    bird_run.get_bird_run(\"acowoo\", \"Acorn Woodpecker\"),\n",
    "    bird_run.get_bird_run(\"stejay\", \"Steller's Jay\"),\n",
    "    ]\n",
    "\n",
    "max_distances = [2]\n",
    "date_range = (\"2012-01-01\", \"2018-12-31\")\n",
    "breeding = True\n",
    "state = \"US-CA\"\n",
    "num_sample_squares = 20000 # Sampling number for the squares."
   ]
  },
  {
   "cell_type": "code",
   "execution_count": null,
   "metadata": {
    "collapsed": false
   },
   "outputs": [],
   "source": [
    "\n",
    "for bird in birds:\n",
    "    print(\"Bird:\", bird.name)\n",
    "    for max_dist in max_distances:\n",
    "        print(\"Max distance:\", max_dist)\n",
    "        bird_run.createdir(bird.obs_path)\n",
    "        df = pd.DataFrame(columns=[\"Square\", \"NumChecklists\", \"NumBirdChecklists\", \"NumBirds\"])\n",
    "        squares = ebird_obs.get_all_squares(state=state, breeding=breeding,\n",
    "                                            date_range=date_range, max_dist=max_dist)\n",
    "        num_squares = len(squares)\n",
    "        k = min(num_squares, num_sample_squares)\n",
    "        print(\"Retrieved\", num_squares, \"squares\")\n",
    "        # print(squares[:10])\n",
    "        selected_squares = random.sample(squares, k)\n",
    "        for i, sq in enumerate(selected_squares):\n",
    "            num_checklists, num_bird_checklists, num_birds = ebird_obs.get_square_observations(\n",
    "                sq, bird, breeding=breeding, date_range=date_range, max_dist=max_dist)\n",
    "            df = df.append({\n",
    "                \"Square\": sq, \"NumChecklists\": num_checklists,\n",
    "                \"NumBirdChecklists\": num_bird_checklists, \"NumBirds\": num_birds\n",
    "            }, ignore_index=True)\n",
    "            if (i + 1) % 1000 == 0:\n",
    "                print(\"Processed\", i + 1, \"squares\")\n",
    "        obs_fn = bird_run.get_observations_all_fn(bird.obs_path, max_distance=max_dist,\n",
    "                                                  date_range=\"-\".join(date_range),\n",
    "                                                  num_squares=num_sample_squares)\n",
    "        df.to_csv(obs_fn)"
   ]
  },
  {
   "cell_type": "code",
   "execution_count": null,
   "metadata": {
    "collapsed": false
   },
   "outputs": [],
   "source": []
  }
 ],
 "metadata": {
  "kernelspec": {
   "display_name": "venv37",
   "language": "python",
   "name": "python3"
  },
  "language_info": {
   "codemirror_mode": {
    "name": "ipython",
    "version": 3
   },
   "file_extension": ".py",
   "mimetype": "text/x-python",
   "name": "python",
   "nbconvert_exporter": "python",
   "pygments_lexer": "ipython3",
   "version": "3.7.11"
  }
 },
 "nbformat": 4,
 "nbformat_minor": 0
}
