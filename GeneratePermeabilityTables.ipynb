{
 "cells": [
  {
   "cell_type": "markdown",
   "metadata": {},
   "source": [
    "# Generate Permeability Tables\n",
    "\n",
    "This notebook generates the tables with the terrain permeability used in the paper. \n",
    "The permeability is obtained using the notebook [`RefineResistanceWithEbirdData`](RefineResistanceWithEbirdData.ipynb) using IUCN terrain compatibility as starting point, and eBird data to refine them. \n",
    "This notebook simply generates text tables that can be included in the paper. "
   ]
  },
  {
   "cell_type": "code",
   "execution_count": 2,
   "metadata": {},
   "outputs": [],
   "source": [
    "import pandas as pd\n",
    "from birdmaps import bird_runs"
   ]
  },
  {
   "cell_type": "code",
   "execution_count": 3,
   "metadata": {},
   "outputs": [],
   "source": [
    "FILE_PATH = \"data/CA-Final\"\n",
    "bird_run = bird_runs.BirdRun(FILE_PATH)\n",
    "\n",
    "acowoo_run = bird_run.get_bird_run(\"acowoo\", \"Acorn Woodpecker\")\n",
    "stejay_run = bird_run.get_bird_run(\"stejay\", \"Steller's Jay\")"
   ]
  },
  {
   "cell_type": "code",
   "execution_count": 4,
   "metadata": {},
   "outputs": [],
   "source": [
    "df_acowoo = pd.read_csv(acowoo_run.transmission_fn)\n",
    "df_stejay = pd.read_csv(stejay_run.transmission_fn)"
   ]
  },
  {
   "cell_type": "markdown",
   "metadata": {},
   "source": [
    "Produces dictionaries mapping code to transmission for the two species."
   ]
  },
  {
   "cell_type": "code",
   "execution_count": 8,
   "metadata": {},
   "outputs": [],
   "source": [
    "dict_acowoo = {}\n",
    "for r in df_acowoo.iterrows():\n",
    "    c = r[1][0]\n",
    "    t = r[1][1]\n",
    "    dict_acowoo[c] = t\n",
    "dict_stejay = {}\n",
    "for r in df_stejay.iterrows():\n",
    "    c = r[1][0]\n",
    "    t = r[1][1]\n",
    "    dict_stejay[c] = t\n"
   ]
  },
  {
   "cell_type": "markdown",
   "metadata": {},
   "source": [
    "Reads the names of the habitats"
   ]
  },
  {
   "cell_type": "code",
   "execution_count": 13,
   "metadata": {},
   "outputs": [
    {
     "data": {
      "text/plain": [
       "Index(['IUCNLevel', 'NewCode', 'Resistance forest bird', 'Unnamed: 3'], dtype='object')"
      ]
     },
     "execution_count": 13,
     "metadata": {},
     "output_type": "execute_result"
    }
   ],
   "source": [
    "df_habitats = pd.read_csv(\"Habitat_codes_IUCN.csv\")\n",
    "df_habitats.columns"
   ]
  },
  {
   "cell_type": "code",
   "execution_count": 19,
   "metadata": {},
   "outputs": [],
   "source": [
    "dict_names = {}\n",
    "for i in range(len(df_habitats[\"NewCode\"])):\n",
    "    try:\n",
    "        dict_names[int(df_habitats[\"NewCode\"][i])] = df_habitats[\"IUCNLevel\"][i]\n",
    "    except:\n",
    "        pass"
   ]
  },
  {
   "cell_type": "markdown",
   "metadata": {},
   "source": [
    "Creates a dataframe with map code, and transmission for the two birds."
   ]
  },
  {
   "cell_type": "code",
   "execution_count": 36,
   "metadata": {},
   "outputs": [],
   "source": [
    "nonzero_codes_acowoo = {int(k) for k, v in dict_acowoo.items() if v > 0.01}\n",
    "nonzero_codes_stejay = {int(k) for k, v in dict_stejay.items() if v > 0.01}\n",
    "nonzero_codes = list(sorted(list(nonzero_codes_acowoo | nonzero_codes_stejay)))\n",
    "values_acowoo = [dict_acowoo.get(k, 0.) for k in nonzero_codes]\n",
    "values_stejay = [dict_stejay.get(k, 0.) for k in nonzero_codes]\n",
    "names = [dict_names.get(k, \"---\") for k in nonzero_codes]"
   ]
  },
  {
   "cell_type": "code",
   "execution_count": 39,
   "metadata": {},
   "outputs": [],
   "source": [
    "df_permeability = pd.DataFrame({\n",
    "    \"Landcover Code\": nonzero_codes,\n",
    "    \"Landcover Name\": names,\n",
    "    \"Acorn Woodpecker\": values_acowoo,\n",
    "    \"Steller's Jay\": values_stejay,\n",
    "})"
   ]
  },
  {
   "cell_type": "code",
   "execution_count": 40,
   "metadata": {},
   "outputs": [
    {
     "data": {
      "text/html": [
       "<div>\n",
       "<style scoped>\n",
       "    .dataframe tbody tr th:only-of-type {\n",
       "        vertical-align: middle;\n",
       "    }\n",
       "\n",
       "    .dataframe tbody tr th {\n",
       "        vertical-align: top;\n",
       "    }\n",
       "\n",
       "    .dataframe thead th {\n",
       "        text-align: right;\n",
       "    }\n",
       "</style>\n",
       "<table border=\"1\" class=\"dataframe\">\n",
       "  <thead>\n",
       "    <tr style=\"text-align: right;\">\n",
       "      <th></th>\n",
       "      <th>Terrain Code</th>\n",
       "      <th>Terrain Name</th>\n",
       "      <th>Acorn Woodpecker</th>\n",
       "      <th>Steller's Jay</th>\n",
       "    </tr>\n",
       "  </thead>\n",
       "  <tbody>\n",
       "    <tr>\n",
       "      <th>0</th>\n",
       "      <td>104</td>\n",
       "      <td>1.4. Forest – Temperate</td>\n",
       "      <td>1.000000</td>\n",
       "      <td>1.000000</td>\n",
       "    </tr>\n",
       "    <tr>\n",
       "      <th>1</th>\n",
       "      <td>105</td>\n",
       "      <td>1.5. Forest – Subtropical/tropical dry</td>\n",
       "      <td>1.000000</td>\n",
       "      <td>0.900000</td>\n",
       "    </tr>\n",
       "    <tr>\n",
       "      <th>2</th>\n",
       "      <td>201</td>\n",
       "      <td>2.1. Savanna - Dry</td>\n",
       "      <td>0.033518</td>\n",
       "      <td>0.000431</td>\n",
       "    </tr>\n",
       "    <tr>\n",
       "      <th>3</th>\n",
       "      <td>304</td>\n",
       "      <td>3.4. Shrubland –Temperate</td>\n",
       "      <td>0.358599</td>\n",
       "      <td>0.323961</td>\n",
       "    </tr>\n",
       "    <tr>\n",
       "      <th>4</th>\n",
       "      <td>305</td>\n",
       "      <td>3.5. Shrubland – Subtropical/tropical dry</td>\n",
       "      <td>0.098745</td>\n",
       "      <td>0.052497</td>\n",
       "    </tr>\n",
       "    <tr>\n",
       "      <th>5</th>\n",
       "      <td>308</td>\n",
       "      <td>3.8. Shrubland – Mediterranean-type shrubby ve...</td>\n",
       "      <td>1.000000</td>\n",
       "      <td>0.212406</td>\n",
       "    </tr>\n",
       "    <tr>\n",
       "      <th>6</th>\n",
       "      <td>401</td>\n",
       "      <td>4.1. Grassland – Tundra</td>\n",
       "      <td>0.001869</td>\n",
       "      <td>0.015351</td>\n",
       "    </tr>\n",
       "    <tr>\n",
       "      <th>7</th>\n",
       "      <td>404</td>\n",
       "      <td>4.4. Grassland – Temperate</td>\n",
       "      <td>0.900000</td>\n",
       "      <td>0.040211</td>\n",
       "    </tr>\n",
       "    <tr>\n",
       "      <th>8</th>\n",
       "      <td>405</td>\n",
       "      <td>4.5. Grassland – Subtropical/tropical dry</td>\n",
       "      <td>0.900000</td>\n",
       "      <td>0.000862</td>\n",
       "    </tr>\n",
       "    <tr>\n",
       "      <th>9</th>\n",
       "      <td>500</td>\n",
       "      <td>5. Wetlands (inland)</td>\n",
       "      <td>0.031533</td>\n",
       "      <td>0.016645</td>\n",
       "    </tr>\n",
       "    <tr>\n",
       "      <th>10</th>\n",
       "      <td>505</td>\n",
       "      <td>5.5. Wetlands (inland) – Permanent freshwater ...</td>\n",
       "      <td>0.045255</td>\n",
       "      <td>0.032212</td>\n",
       "    </tr>\n",
       "    <tr>\n",
       "      <th>11</th>\n",
       "      <td>900</td>\n",
       "      <td>9. Marine Neritic</td>\n",
       "      <td>0.014540</td>\n",
       "      <td>0.006347</td>\n",
       "    </tr>\n",
       "    <tr>\n",
       "      <th>12</th>\n",
       "      <td>1401</td>\n",
       "      <td>14.1 Arable Land</td>\n",
       "      <td>0.271591</td>\n",
       "      <td>0.037672</td>\n",
       "    </tr>\n",
       "    <tr>\n",
       "      <th>13</th>\n",
       "      <td>1402</td>\n",
       "      <td>14.2 Pastureland</td>\n",
       "      <td>1.000000</td>\n",
       "      <td>0.220644</td>\n",
       "    </tr>\n",
       "    <tr>\n",
       "      <th>14</th>\n",
       "      <td>1403</td>\n",
       "      <td>14.3 Plantations</td>\n",
       "      <td>0.909139</td>\n",
       "      <td>0.258891</td>\n",
       "    </tr>\n",
       "  </tbody>\n",
       "</table>\n",
       "</div>"
      ],
      "text/plain": [
       "    Terrain Code                                       Terrain Name  \\\n",
       "0            104                            1.4. Forest – Temperate   \n",
       "1            105             1.5. Forest – Subtropical/tropical dry   \n",
       "2            201                                 2.1. Savanna - Dry   \n",
       "3            304                          3.4. Shrubland –Temperate   \n",
       "4            305          3.5. Shrubland – Subtropical/tropical dry   \n",
       "5            308  3.8. Shrubland – Mediterranean-type shrubby ve...   \n",
       "6            401                            4.1. Grassland – Tundra   \n",
       "7            404                         4.4. Grassland – Temperate   \n",
       "8            405          4.5. Grassland – Subtropical/tropical dry   \n",
       "9            500                               5. Wetlands (inland)   \n",
       "10           505  5.5. Wetlands (inland) – Permanent freshwater ...   \n",
       "11           900                                  9. Marine Neritic   \n",
       "12          1401                                   14.1 Arable Land   \n",
       "13          1402                                   14.2 Pastureland   \n",
       "14          1403                                   14.3 Plantations   \n",
       "\n",
       "    Acorn Woodpecker  Steller's Jay  \n",
       "0           1.000000       1.000000  \n",
       "1           1.000000       0.900000  \n",
       "2           0.033518       0.000431  \n",
       "3           0.358599       0.323961  \n",
       "4           0.098745       0.052497  \n",
       "5           1.000000       0.212406  \n",
       "6           0.001869       0.015351  \n",
       "7           0.900000       0.040211  \n",
       "8           0.900000       0.000862  \n",
       "9           0.031533       0.016645  \n",
       "10          0.045255       0.032212  \n",
       "11          0.014540       0.006347  \n",
       "12          0.271591       0.037672  \n",
       "13          1.000000       0.220644  \n",
       "14          0.909139       0.258891  "
      ]
     },
     "execution_count": 40,
     "metadata": {},
     "output_type": "execute_result"
    }
   ],
   "source": [
    "df_permeability"
   ]
  },
  {
   "cell_type": "code",
   "execution_count": 41,
   "metadata": {},
   "outputs": [],
   "source": [
    "df_permeability.to_latex(\"Figures/Permeability.tex\", index=False, float_format=\"%.3f\")"
   ]
  },
  {
   "cell_type": "code",
   "execution_count": null,
   "metadata": {},
   "outputs": [],
   "source": []
  }
 ],
 "metadata": {
  "kernelspec": {
   "display_name": "venv37",
   "language": "python",
   "name": "python3"
  },
  "language_info": {
   "codemirror_mode": {
    "name": "ipython",
    "version": 3
   },
   "file_extension": ".py",
   "mimetype": "text/x-python",
   "name": "python",
   "nbconvert_exporter": "python",
   "pygments_lexer": "ipython3",
   "version": "3.7.11"
  },
  "orig_nbformat": 4
 },
 "nbformat": 4,
 "nbformat_minor": 2
}
