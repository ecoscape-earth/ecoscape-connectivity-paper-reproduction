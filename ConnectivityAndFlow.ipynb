{
  "cells": [
    {
      "cell_type": "markdown",
      "metadata": {
        "id": "jKD2GiS3sDEM"
      },
      "source": [
        "## Code Setup"
      ]
    },
    {
      "cell_type": "code",
      "execution_count": null,
      "metadata": {
        "id": "f9bjsCKHSc-t"
      },
      "outputs": [],
      "source": [
        "# If True, assumes everything is running locally.\n",
        "IS_LOCAL = False\n",
        "\n",
        "# Path to main directory\n",
        "REMOTE_PATH = \"/content/gdrive/MyDrive/CA-Final\"\n",
        "LOCAL_PATH = \"/Users/luca/Library/CloudStorage/GoogleDrive-luca@ucsc.edu/Shared drives/Birds and CS/Data/CA-Final\"\n",
        "DATA_PATH = LOCAL_PATH if IS_LOCAL else REMOTE_PATH"
      ]
    },
    {
      "cell_type": "code",
      "execution_count": null,
      "metadata": {
        "id": "J3Koec3ddKiB"
      },
      "outputs": [],
      "source": [
        "import os\n",
        "import sys"
      ]
    },
    {
      "cell_type": "code",
      "execution_count": null,
      "metadata": {
        "colab": {
          "base_uri": "https://localhost:8080/"
        },
        "id": "TZByjvfguoa0",
        "outputId": "c8b49905-d77f-4cce-96f4-23b57feadab4"
      },
      "outputs": [],
      "source": [
        "# Installs required packages\n",
        "if not IS_LOCAL:\n",
        "    !pip install git+https://github.com/ecoscape-earth/ecoscape-connectivity.git\n",
        "    !pip install git+https://github.com/ecoscape-earth/ecoscape-utils.git"
      ]
    },
    {
      "cell_type": "code",
      "execution_count": null,
      "metadata": {
        "colab": {
          "base_uri": "https://localhost:8080/"
        },
        "id": "iTaFpgvkS1S-",
        "outputId": "99249cc9-0395-40a9-e619-997363a25323"
      },
      "outputs": [],
      "source": [
        "# Connecting to Drive.\n",
        "if not IS_LOCAL:\n",
        "    from google.colab import drive\n",
        "    drive.mount(\"/content/gdrive\", force_remount=True)"
      ]
    },
    {
      "cell_type": "code",
      "execution_count": null,
      "metadata": {
        "id": "7ciHKINPTRxo"
      },
      "outputs": [],
      "source": [
        "import time\n",
        "from ecoscape_utilities import BirdRun\n",
        "from ecoscape_connectivity import compute_connectivity\n",
        "from ecoscape_connectivity.util import read_transmission_csv"
      ]
    },
    {
      "cell_type": "markdown",
      "metadata": {
        "id": "WOSTuXgfsIf6"
      },
      "source": [
        "## Bird Run Definition"
      ]
    },
    {
      "cell_type": "code",
      "execution_count": null,
      "metadata": {
        "id": "ep-09bp33k08"
      },
      "outputs": [],
      "source": [
        "def run_birds(target=None):\n",
        "\n",
        "    bird_run = BirdRun(DATA_PATH)\n",
        "\n",
        "    birds = []\n",
        "\n",
        "    NUM_SIMULATIONS = 400\n",
        "    HOPS = [1, 2, 3, 4, 5, 6]\n",
        "    NUM_SPREADS = [2, 3, 4, 6, 8, 10, 15, 20, 30, 40]\n",
        "\n",
        "    for hop_distance in HOPS:\n",
        "        for num_spreads in NUM_SPREADS:\n",
        "            birds.append(bird_run.get_bird_run(\n",
        "                \"acowoo\", \"Acorn Woodpecker\",\n",
        "                do_validation=IS_LOCAL, run_name=target,\n",
        "                hop_distance=hop_distance, num_spreads=num_spreads,\n",
        "                num_simulations=2 if IS_LOCAL else NUM_SIMULATIONS))\n",
        "\n",
        "    for hop_distance in HOPS:\n",
        "        for num_spreads in NUM_SPREADS:\n",
        "            birds.append(bird_run.get_bird_run(\n",
        "                \"stejay\", \"Steller's Jay\",\n",
        "                do_validation=IS_LOCAL, run_name=target,\n",
        "                hop_distance=hop_distance, num_spreads=num_spreads,\n",
        "                num_simulations=2 if IS_LOCAL else NUM_SIMULATIONS))\n",
        "\n",
        "    for bird in birds:\n",
        "\n",
        "        # Creates output folder, if missing.\n",
        "        bird_run.createdir_for_file(bird.repopulation_fn)\n",
        "        bird_run.createdir_for_file(bird.gradient_fn)\n",
        "\n",
        "        transmission_d = read_transmission_csv(bird.transmission_fn)\n",
        "\n",
        "        compute_connectivity(\n",
        "            habitat_fn=bird.habitat_fn,\n",
        "            terrain_fn=bird.terrain_fn,\n",
        "            connectivity_fn=bird.repopulation_fn,\n",
        "            flow_fn=bird.gradient_fn if bird.do_gradient else None,\n",
        "            permeability_dict=transmission_d,\n",
        "            gap_crossing=bird.hop_distance,\n",
        "            num_gaps=bird.num_spreads,\n",
        "            num_simulations=bird.num_simulations,\n",
        "            seed_density=4,\n",
        "            single_tile=True\n",
        "        )\n",
        "\n",
        "        print(\"Processed\", bird.name, \"gradient\", bird.do_gradient, \"hop\", bird.hop_distance, \"num\", bird.num_spreads, \"sim\", bird.num_simulations)"
      ]
    },
    {
      "cell_type": "code",
      "execution_count": null,
      "metadata": {
        "id": "OZo-LJdZ7J_j"
      },
      "outputs": [],
      "source": [
        "def run_birds_detail(target=None):\n",
        "\n",
        "    bird_run = BirdRun(DATA_PATH)\n",
        "\n",
        "    birds = []\n",
        "\n",
        "    NUM_SIMULATIONS = 10000\n",
        "\n",
        "    # Uncomment below the specific simulations you wish to run.\n",
        "\n",
        "    birds.append(bird_run.get_bird_run(\n",
        "        \"acowoo\", \"Acorn Woodpecker\",\n",
        "        do_validation=IS_LOCAL, run_name=target,\n",
        "        hop_distance=2, num_spreads=20,\n",
        "        num_simulations=2 if IS_LOCAL else NUM_SIMULATIONS))\n",
        "\n",
        "    birds.append(bird_run.get_bird_run(\n",
        "        \"stejay\", \"Steller's Jay\",\n",
        "        do_validation=IS_LOCAL, run_name=target,\n",
        "        hop_distance=2, num_spreads=3,\n",
        "        num_simulations=2 if IS_LOCAL else NUM_SIMULATIONS))\n",
        "\n",
        "    birds.append(bird_run.get_bird_run(\n",
        "        \"stejay\", \"Steller's Jay\",\n",
        "        do_validation=IS_LOCAL, run_name=target,\n",
        "        hop_distance=1, num_spreads=6,\n",
        "        num_simulations=2 if IS_LOCAL else NUM_SIMULATIONS))\n",
        "\n",
        "    for bird in birds:\n",
        "\n",
        "        # Creates output folder, if missing.\n",
        "        bird_run.createdir_for_file(bird.repopulation_fn)\n",
        "        bird_run.createdir_for_file(bird.gradient_fn)\n",
        "\n",
        "        transmission_d = read_transmission_csv(bird.transmission_fn)\n",
        "\n",
        "        compute_connectivity(\n",
        "            habitat_fn=bird.habitat_fn,\n",
        "            terrain_fn=bird.terrain_fn,\n",
        "            connectivity_fn=bird.repopulation_fn,\n",
        "            flow_fn=bird.gradient_fn if bird.do_gradient else None,\n",
        "            permeability_dict=transmission_d,\n",
        "            gap_crossing=bird.hop_distance,\n",
        "            num_gaps=bird.num_spreads,\n",
        "            num_simulations=bird.num_simulations,\n",
        "            seed_density=4,\n",
        "            single_tile=True\n",
        "        )\n",
        "\n",
        "        print(\"Processed\", bird.name, \"gradient\", bird.do_gradient, \"hop\", bird.hop_distance, \"num\", bird.num_spreads, \"sim\", bird.num_simulations)"
      ]
    },
    {
      "cell_type": "code",
      "execution_count": null,
      "metadata": {
        "id": "1HvfYqTA9WOS"
      },
      "outputs": [],
      "source": [
        "def run_birds_gradient(target=None):\n",
        "\n",
        "    bird_run = BirdRun(DATA_PATH)\n",
        "\n",
        "    birds = []\n",
        "\n",
        "    NUM_SIMULATIONS = 1000\n",
        "\n",
        "    # Uncomment below the specific simulations you wish to run.\n",
        "\n",
        "    birds.append(bird_run.get_bird_run(\n",
        "        \"acowoo\", \"Acorn Woodpecker\",\n",
        "        do_validation=IS_LOCAL, run_name=target,\n",
        "        hop_distance=2, num_spreads=20,\n",
        "        do_gradient=True,\n",
        "        num_simulations=2 if IS_LOCAL else NUM_SIMULATIONS))\n",
        "\n",
        "\n",
        "    birds.append(bird_run.get_bird_run(\n",
        "        \"stejay\", \"Steller's Jay\",\n",
        "        do_validation=IS_LOCAL, run_name=target,\n",
        "        hop_distance=2, num_spreads=3,\n",
        "        do_gradient=True,\n",
        "        num_simulations=2 if IS_LOCAL else NUM_SIMULATIONS))\n",
        "\n",
        "    birds.append(bird_run.get_bird_run(\n",
        "        \"stejay\", \"Steller's Jay\",\n",
        "        do_validation=IS_LOCAL, run_name=target,\n",
        "        hop_distance=1, num_spreads=6,\n",
        "        do_gradient=True,\n",
        "        num_simulations=2 if IS_LOCAL else NUM_SIMULATIONS))\n",
        "\n",
        "    for bird in birds:\n",
        "\n",
        "        # Creates output folder, if missing.\n",
        "        bird_run.createdir_for_file(bird.repopulation_fn)\n",
        "        bird_run.createdir_for_file(bird.gradient_fn)\n",
        "\n",
        "        transmission_d = read_transmission_csv(bird.transmission_fn)\n",
        "\n",
        "        compute_connectivity(\n",
        "            habitat_fn=bird.habitat_fn,\n",
        "            terrain_fn=bird.terrain_fn,\n",
        "            connectivity_fn=bird.repopulation_fn,\n",
        "            flow_fn=bird.gradient_fn if bird.do_gradient else None,\n",
        "            permeability_dict=transmission_d,\n",
        "            gap_crossing=bird.hop_distance,\n",
        "            num_gaps=bird.num_spreads,\n",
        "            num_simulations=bird.num_simulations,\n",
        "            seed_density=4,\n",
        "            single_tile=False,\n",
        "            tile_size=1024, tile_border=256\n",
        "        )\n",
        "\n",
        "        print(\"Processed\", bird.name, \"gradient\", bird.do_gradient, \"hop\", bird.hop_distance, \"num\", bird.num_spreads, \"sim\", bird.num_simulations)"
      ]
    },
    {
      "cell_type": "code",
      "execution_count": null,
      "metadata": {},
      "outputs": [],
      "source": [
        "run_birds(target=\"Paper\")"
      ]
    },
    {
      "cell_type": "code",
      "execution_count": null,
      "metadata": {
        "colab": {
          "base_uri": "https://localhost:8080/"
        },
        "id": "S5_1MAXw5hFR",
        "outputId": "8e4eb97b-ed43-4120-dcbe-5d16f05ee0dc"
      },
      "outputs": [],
      "source": [
        "run_birds_detail(target=\"Paper10000\")\n"
      ]
    },
    {
      "cell_type": "code",
      "execution_count": null,
      "metadata": {
        "colab": {
          "base_uri": "https://localhost:8080/"
        },
        "id": "VmaaxlIn6LpA",
        "outputId": "6873ce4e-da1b-4bc7-fde3-5d287083fc7d"
      },
      "outputs": [],
      "source": [
        "run_birds_gradient(target=\"Gradient\")"
      ]
    },
    {
      "cell_type": "code",
      "execution_count": null,
      "metadata": {
        "id": "g0LtsG6-B8D4"
      },
      "outputs": [],
      "source": []
    }
  ],
  "metadata": {
    "accelerator": "GPU",
    "colab": {
      "gpuType": "A100",
      "machine_shape": "hm",
      "provenance": []
    },
    "kernelspec": {
      "display_name": "Python 3",
      "name": "python3"
    },
    "language_info": {
      "name": "python"
    }
  },
  "nbformat": 4,
  "nbformat_minor": 0
}
