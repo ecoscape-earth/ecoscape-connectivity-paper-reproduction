{
  "cells": [
    {
      "cell_type": "markdown",
      "metadata": {
        "id": "jKD2GiS3sDEM"
      },
      "source": [
        "## Code Setup"
      ]
    },
    {
      "cell_type": "code",
      "execution_count": null,
      "metadata": {
        "id": "f9bjsCKHSc-t"
      },
      "outputs": [],
      "source": [
        "# If True, assumes everything is running locally.\n",
        "IS_LOCAL = False\n",
        "\n",
        "# Path to main directory\n",
        "REMOTE_PATH = \"/content/gdrive/Shareddrives/Birds and CS/Data/CA-paper\"\n",
        "LOCAL_PATH = \"data/CA-EcoScape-Paper\"\n",
        "DATA_PATH = LOCAL_PATH if IS_LOCAL else REMOTE_PATH"
      ]
    },
    {
      "cell_type": "code",
      "execution_count": null,
      "metadata": {
        "id": "J3Koec3ddKiB"
      },
      "outputs": [],
      "source": [
        "import os\n",
        "import sys"
      ]
    },
    {
      "cell_type": "markdown",
      "metadata": {
        "id": "tfRDLqMemLfu"
      },
      "source": [
        "Below, we install the packages from their git repositories, but you might want to change the code below into simply:\n",
        "\n",
        "    !pip install ecoscape-connectivity\n",
        "    !pip install ecoscape-utils\n",
        "\n",
        "and use the standard packages."
      ]
    },
    {
      "cell_type": "code",
      "execution_count": null,
      "metadata": {
        "colab": {
          "base_uri": "https://localhost:8080/"
        },
        "id": "L4iLWUVSmJ95",
        "outputId": "249685ae-5e5c-45fb-9fdc-782016f87351"
      },
      "outputs": [],
      "source": [
        "# Installs required packages\n",
        "if not IS_LOCAL:\n",
        "    !pip install git+https://github.com/ecoscape-earth/ecoscape-connectivity.git\n",
        "    !pip install git+https://github.com/ecoscape-earth/ecoscape-utils.git"
      ]
    },
    {
      "cell_type": "code",
      "execution_count": null,
      "metadata": {
        "colab": {
          "base_uri": "https://localhost:8080/"
        },
        "id": "iTaFpgvkS1S-",
        "outputId": "060dc16f-8f4d-4d3a-e1dd-4e213e47636a"
      },
      "outputs": [],
      "source": [
        "# Connecting to Drive.\n",
        "if not IS_LOCAL:\n",
        "    from google.colab import drive\n",
        "    drive.mount(\"/content/gdrive\", force_remount=True)"
      ]
    },
    {
      "cell_type": "code",
      "execution_count": null,
      "metadata": {
        "id": "v-ZxnqTammee"
      },
      "outputs": [],
      "source": [
        "import time\n",
        "from ecoscape_utilities import BirdRun\n",
        "from ecoscape_connectivity import compute_connectivity\n",
        "from ecoscape_connectivity.util import read_transmission_csv"
      ]
    },
    {
      "cell_type": "markdown",
      "metadata": {
        "id": "WOSTuXgfsIf6"
      },
      "source": [
        "## Bird Run Definition"
      ]
    },
    {
      "cell_type": "code",
      "execution_count": null,
      "metadata": {
        "id": "9HVthEs6ofu7"
      },
      "outputs": [],
      "source": [
        "bird_run = BirdRun(DATA_PATH)\n",
        "\n",
        "birds = []\n",
        "\n",
        "RUN_NAME = \"test\"\n",
        "NUM_SIMULATIONS = 400\n",
        "GAP_LENGTHS = [1, 2, 3, 4, 5, 6]\n",
        "NUM_GAPS = [2, 4, 6, 8, 10, 15, 20, 30, 40]\n",
        "COMPUTE_FLOW = True\n",
        "\n",
        "for gap_length in GAP_LENGTHS:\n",
        "    for num_gaps in NUM_GAPS:\n",
        "        birds.append(bird_run.get_bird_run(\n",
        "            \"acowoo\", \"Acorn Woodpecker\",\n",
        "            do_gradient=COMPUTE_FLOW,\n",
        "            run_name=RUN_NAME,\n",
        "            hop_distance=gap_length, num_spreads=num_gaps,\n",
        "            num_simulations=2 if IS_LOCAL else NUM_SIMULATIONS))\n",
        "\n",
        "for gap_length in GAP_LENGTHS:\n",
        "    for num_gaps in NUM_GAPS:\n",
        "        birds.append(bird_run.get_bird_run(\n",
        "            \"oaktit308\", \"Oak Titmouse\",\n",
        "            do_gradient=COMPUTE_FLOW,\n",
        "            run_name=RUN_NAME,\n",
        "            hop_distance=gap_length, num_spreads=num_gaps,\n",
        "            num_simulations=2 if IS_LOCAL else NUM_SIMULATIONS))\n",
        "\n",
        "for gap_length in GAP_LENGTHS:\n",
        "    for num_gaps in NUM_GAPS:\n",
        "        birds.append(bird_run.get_bird_run(\n",
        "            \"stejay\", \"Steller's Jay\",\n",
        "            do_gradient=COMPUTE_FLOW,\n",
        "            run_name=RUN_NAME,\n",
        "            hop_distance=gap_length, num_spreads=num_gaps,\n",
        "            num_simulations=2 if IS_LOCAL else NUM_SIMULATIONS))\n"
      ]
    },
    {
      "cell_type": "code",
      "execution_count": null,
      "metadata": {
        "colab": {
          "base_uri": "https://localhost:8080/"
        },
        "id": "BfJY_kc6eWdA",
        "outputId": "208c1369-7a42-4968-d4b5-ac0e4407c921"
      },
      "outputs": [],
      "source": [
        "# Let's do the bird runs.\n",
        "for bird in birds:\n",
        "\n",
        "    # Creates output folder, if missing.\n",
        "    bird_run.createdir_for_file(bird.repopulation_fn)\n",
        "    bird_run.createdir_for_file(bird.gradient_fn)\n",
        "\n",
        "    # Reads and translates the resistance dictionary.\n",
        "    transmission_d = read_transmission_csv(bird.transmission_fn)\n",
        "\n",
        "    # Creates output folder, if missing.\n",
        "    bird_run.createdir_for_file(bird.repopulation_fn)\n",
        "    bird_run.createdir_for_file(bird.log_fn)\n",
        "\n",
        "    compute_connectivity(\n",
        "        habitat_fn=bird.habitat_fn,\n",
        "        terrain_fn=bird.terrain_fn,\n",
        "        connectivity_fn=bird.repopulation_fn,\n",
        "        flow_fn=bird.gradient_fn if bird.do_gradient else None,\n",
        "        permeability_dict=transmission_d,\n",
        "        gap_crossing=bird.hop_distance,\n",
        "        num_gaps=bird.num_spreads,\n",
        "        num_simulations=bird.num_simulations,\n",
        "        seed_density=4,\n",
        "        single_tile=False,\n",
        "        tile_size=1024,\n",
        "        tile_border=256,\n",
        "    )\n",
        "\n",
        "    print(\"Processed\", bird.name, \"hop\", bird.hop_distance, \"num\", bird.num_spreads, \"sim\", bird.num_simulations)\n"
      ]
    },
    {
      "cell_type": "code",
      "execution_count": null,
      "metadata": {
        "id": "JU_EThF2Sc-8"
      },
      "outputs": [],
      "source": []
    }
  ],
  "metadata": {
    "accelerator": "GPU",
    "colab": {
      "gpuType": "A100",
      "machine_shape": "hm",
      "provenance": []
    },
    "kernelspec": {
      "display_name": "Python 3",
      "name": "python3"
    },
    "language_info": {
      "name": "python"
    }
  },
  "nbformat": 4,
  "nbformat_minor": 0
}
