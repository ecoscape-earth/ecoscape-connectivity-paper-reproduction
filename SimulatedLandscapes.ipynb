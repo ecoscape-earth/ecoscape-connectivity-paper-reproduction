{
  "cells": [
    {
      "cell_type": "markdown",
      "metadata": {
        "id": "vWt-Aeo4eepP"
      },
      "source": [
        "# Initialization"
      ]
    },
    {
      "cell_type": "code",
      "source": [
        "import os\n",
        "import sys\n",
        "\n",
        "!pip install rasterio\n",
        "!pip install fiona\n",
        "!pip install pyproj\n",
        "!pip install gdal"
      ],
      "metadata": {
        "colab": {
          "base_uri": "https://localhost:8080/"
        },
        "id": "8pVU_To_RbRn",
        "outputId": "79d9f849-8557-419d-9e9d-da2ee012fcdf"
      },
      "execution_count": null,
      "outputs": [
        {
          "output_type": "stream",
          "name": "stdout",
          "text": [
            "Collecting rasterio\n",
            "  Downloading rasterio-1.3.9-cp310-cp310-manylinux2014_x86_64.whl (20.6 MB)\n",
            "\u001b[2K     \u001b[90m━━━━━━━━━━━━━━━━━━━━━━━━━━━━━━━━━━━━━━━━\u001b[0m \u001b[32m20.6/20.6 MB\u001b[0m \u001b[31m78.9 MB/s\u001b[0m eta \u001b[36m0:00:00\u001b[0m\n",
            "\u001b[?25hCollecting affine (from rasterio)\n",
            "  Downloading affine-2.4.0-py3-none-any.whl (15 kB)\n",
            "Requirement already satisfied: attrs in /usr/local/lib/python3.10/dist-packages (from rasterio) (23.1.0)\n",
            "Requirement already satisfied: certifi in /usr/local/lib/python3.10/dist-packages (from rasterio) (2023.7.22)\n",
            "Requirement already satisfied: click>=4.0 in /usr/local/lib/python3.10/dist-packages (from rasterio) (8.1.7)\n",
            "Requirement already satisfied: cligj>=0.5 in /usr/local/lib/python3.10/dist-packages (from rasterio) (0.7.2)\n",
            "Requirement already satisfied: numpy in /usr/local/lib/python3.10/dist-packages (from rasterio) (1.23.5)\n",
            "Collecting snuggs>=1.4.1 (from rasterio)\n",
            "  Downloading snuggs-1.4.7-py3-none-any.whl (5.4 kB)\n",
            "Requirement already satisfied: click-plugins in /usr/local/lib/python3.10/dist-packages (from rasterio) (1.1.1)\n",
            "Requirement already satisfied: setuptools in /usr/local/lib/python3.10/dist-packages (from rasterio) (67.7.2)\n",
            "Requirement already satisfied: pyparsing>=2.1.6 in /usr/local/lib/python3.10/dist-packages (from snuggs>=1.4.1->rasterio) (3.1.1)\n",
            "Installing collected packages: snuggs, affine, rasterio\n",
            "Successfully installed affine-2.4.0 rasterio-1.3.9 snuggs-1.4.7\n",
            "Requirement already satisfied: fiona in /usr/local/lib/python3.10/dist-packages (1.9.5)\n",
            "Requirement already satisfied: attrs>=19.2.0 in /usr/local/lib/python3.10/dist-packages (from fiona) (23.1.0)\n",
            "Requirement already satisfied: certifi in /usr/local/lib/python3.10/dist-packages (from fiona) (2023.7.22)\n",
            "Requirement already satisfied: click~=8.0 in /usr/local/lib/python3.10/dist-packages (from fiona) (8.1.7)\n",
            "Requirement already satisfied: click-plugins>=1.0 in /usr/local/lib/python3.10/dist-packages (from fiona) (1.1.1)\n",
            "Requirement already satisfied: cligj>=0.5 in /usr/local/lib/python3.10/dist-packages (from fiona) (0.7.2)\n",
            "Requirement already satisfied: six in /usr/local/lib/python3.10/dist-packages (from fiona) (1.16.0)\n",
            "Requirement already satisfied: setuptools in /usr/local/lib/python3.10/dist-packages (from fiona) (67.7.2)\n",
            "Requirement already satisfied: pyproj in /usr/local/lib/python3.10/dist-packages (3.6.1)\n",
            "Requirement already satisfied: certifi in /usr/local/lib/python3.10/dist-packages (from pyproj) (2023.7.22)\n",
            "Requirement already satisfied: gdal in /usr/local/lib/python3.10/dist-packages (3.4.3)\n"
          ]
        }
      ]
    },
    {
      "cell_type": "code",
      "execution_count": null,
      "metadata": {
        "colab": {
          "base_uri": "https://localhost:8080/"
        },
        "id": "36ixiKTLp76M",
        "outputId": "5667f904-be8e-4b83-e886-362ba3442ec3"
      },
      "outputs": [
        {
          "output_type": "stream",
          "name": "stdout",
          "text": [
            "Collecting ecoscape-connectivity\n",
            "  Downloading ecoscape_connectivity-0.0.3-py3-none-any.whl (11 kB)\n",
            "Requirement already satisfied: numpy>=1.20.3 in /usr/local/lib/python3.10/dist-packages (from ecoscape-connectivity) (1.23.5)\n",
            "Collecting scgt>=0.0.4 (from ecoscape-connectivity)\n",
            "  Downloading scgt-0.0.5-py3-none-any.whl (11 kB)\n",
            "Requirement already satisfied: GDAL>=3.0.0 in /usr/local/lib/python3.10/dist-packages (from scgt>=0.0.4->ecoscape-connectivity) (3.4.3)\n",
            "Requirement already satisfied: matplotlib>=3.5.3 in /usr/local/lib/python3.10/dist-packages (from scgt>=0.0.4->ecoscape-connectivity) (3.7.1)\n",
            "Requirement already satisfied: rasterio>=1.2.10 in /usr/local/lib/python3.10/dist-packages (from scgt>=0.0.4->ecoscape-connectivity) (1.3.9)\n",
            "Requirement already satisfied: scipy>=1.7.3 in /usr/local/lib/python3.10/dist-packages (from scgt>=0.0.4->ecoscape-connectivity) (1.11.3)\n",
            "Requirement already satisfied: contourpy>=1.0.1 in /usr/local/lib/python3.10/dist-packages (from matplotlib>=3.5.3->scgt>=0.0.4->ecoscape-connectivity) (1.1.1)\n",
            "Requirement already satisfied: cycler>=0.10 in /usr/local/lib/python3.10/dist-packages (from matplotlib>=3.5.3->scgt>=0.0.4->ecoscape-connectivity) (0.12.1)\n",
            "Requirement already satisfied: fonttools>=4.22.0 in /usr/local/lib/python3.10/dist-packages (from matplotlib>=3.5.3->scgt>=0.0.4->ecoscape-connectivity) (4.43.1)\n",
            "Requirement already satisfied: kiwisolver>=1.0.1 in /usr/local/lib/python3.10/dist-packages (from matplotlib>=3.5.3->scgt>=0.0.4->ecoscape-connectivity) (1.4.5)\n",
            "Requirement already satisfied: packaging>=20.0 in /usr/local/lib/python3.10/dist-packages (from matplotlib>=3.5.3->scgt>=0.0.4->ecoscape-connectivity) (23.2)\n",
            "Requirement already satisfied: pillow>=6.2.0 in /usr/local/lib/python3.10/dist-packages (from matplotlib>=3.5.3->scgt>=0.0.4->ecoscape-connectivity) (9.4.0)\n",
            "Requirement already satisfied: pyparsing>=2.3.1 in /usr/local/lib/python3.10/dist-packages (from matplotlib>=3.5.3->scgt>=0.0.4->ecoscape-connectivity) (3.1.1)\n",
            "Requirement already satisfied: python-dateutil>=2.7 in /usr/local/lib/python3.10/dist-packages (from matplotlib>=3.5.3->scgt>=0.0.4->ecoscape-connectivity) (2.8.2)\n",
            "Requirement already satisfied: affine in /usr/local/lib/python3.10/dist-packages (from rasterio>=1.2.10->scgt>=0.0.4->ecoscape-connectivity) (2.4.0)\n",
            "Requirement already satisfied: attrs in /usr/local/lib/python3.10/dist-packages (from rasterio>=1.2.10->scgt>=0.0.4->ecoscape-connectivity) (23.1.0)\n",
            "Requirement already satisfied: certifi in /usr/local/lib/python3.10/dist-packages (from rasterio>=1.2.10->scgt>=0.0.4->ecoscape-connectivity) (2023.7.22)\n",
            "Requirement already satisfied: click>=4.0 in /usr/local/lib/python3.10/dist-packages (from rasterio>=1.2.10->scgt>=0.0.4->ecoscape-connectivity) (8.1.7)\n",
            "Requirement already satisfied: cligj>=0.5 in /usr/local/lib/python3.10/dist-packages (from rasterio>=1.2.10->scgt>=0.0.4->ecoscape-connectivity) (0.7.2)\n",
            "Requirement already satisfied: snuggs>=1.4.1 in /usr/local/lib/python3.10/dist-packages (from rasterio>=1.2.10->scgt>=0.0.4->ecoscape-connectivity) (1.4.7)\n",
            "Requirement already satisfied: click-plugins in /usr/local/lib/python3.10/dist-packages (from rasterio>=1.2.10->scgt>=0.0.4->ecoscape-connectivity) (1.1.1)\n",
            "Requirement already satisfied: setuptools in /usr/local/lib/python3.10/dist-packages (from rasterio>=1.2.10->scgt>=0.0.4->ecoscape-connectivity) (67.7.2)\n",
            "Requirement already satisfied: six>=1.5 in /usr/local/lib/python3.10/dist-packages (from python-dateutil>=2.7->matplotlib>=3.5.3->scgt>=0.0.4->ecoscape-connectivity) (1.16.0)\n",
            "Installing collected packages: scgt, ecoscape-connectivity\n",
            "Successfully installed ecoscape-connectivity-0.0.3 scgt-0.0.5\n"
          ]
        }
      ],
      "source": [
        "!pip install ecoscape-connectivity\n"
      ]
    },
    {
      "cell_type": "code",
      "execution_count": null,
      "metadata": {
        "id": "BhodJoQSqWHf"
      },
      "outputs": [],
      "source": [
        "import numpy as np\n",
        "import torch\n",
        "from torch import nn\n",
        "import torch.functional as F\n",
        "import scipy.ndimage as nd\n",
        "import matplotlib.pyplot as plt"
      ]
    },
    {
      "cell_type": "code",
      "source": [
        "from ecoscape_connectivity import analyze_tile_torch"
      ],
      "metadata": {
        "id": "HXH3QODyY5Yw"
      },
      "execution_count": null,
      "outputs": []
    },
    {
      "cell_type": "code",
      "execution_count": null,
      "metadata": {
        "colab": {
          "base_uri": "https://localhost:8080/"
        },
        "id": "Z18_f6LWywPo",
        "outputId": "7801d0d0-f7ed-4c6f-dc8c-52a11edc72fb"
      },
      "outputs": [
        {
          "output_type": "stream",
          "name": "stdout",
          "text": [
            "Device: cuda\n"
          ]
        }
      ],
      "source": [
        "if(torch.cuda.is_available()):\n",
        "    torch.cuda.set_device(0)\n",
        "device = 'cuda' if torch.cuda.is_available() else 'cpu'\n",
        "print(\"Device:\", device)"
      ]
    },
    {
      "cell_type": "markdown",
      "metadata": {
        "id": "SxTr3d43iBe9"
      },
      "source": [
        "# Simulated landscapes"
      ]
    },
    {
      "cell_type": "markdown",
      "source": [
        "## Test habitats and terrains"
      ],
      "metadata": {
        "id": "UCiNVNAZIhMM"
      }
    },
    {
      "cell_type": "code",
      "source": [
        "def simulate(hab, ter,\n",
        "             seed_density=4.0, batch_size=5, total_spreads=25, num_simulations=400, hop_length=1):\n",
        "    \"\"\"\n",
        "    Function that makes simulating and displaying repopulation easier.\n",
        "    \"\"\"\n",
        "\n",
        "    # analyze_tile expects the habitat to be of shape (1, w, h)\n",
        "    if np.ndim(hab) == 2:\n",
        "        hab = np.expand_dims(hab, axis=0)\n",
        "\n",
        "    repopulate = analyze_tile_torch(device=device,\n",
        "            produce_gradient=True,\n",
        "            seed_density=seed_density,\n",
        "            batch_size=batch_size,\n",
        "            total_spreads=total_spreads,\n",
        "            num_simulations=num_simulations,\n",
        "            hop_length=hop_length)\n",
        "\n",
        "    repop, grad = repopulate(hab, ter)\n",
        "\n",
        "    # a bit of reshaping for displaying with matplotlib\n",
        "    hab = np.sum(hab, 0)\n",
        "    repop = np.sum(repop.detach().cpu().numpy(), 0)\n",
        "    grad = np.log2(1 + np.sum(grad.detach().cpu().numpy(), 0))\n",
        "\n",
        "    return repop, grad"
      ],
      "metadata": {
        "id": "H1pXaES-svA7"
      },
      "execution_count": null,
      "outputs": []
    },
    {
      "cell_type": "code",
      "source": [
        "def draw_circle(hab, y, x, r):\n",
        "    return np.maximum(hab, (X - x) ** 2 + (Y - y) ** 2 < r ** 2)"
      ],
      "metadata": {
        "id": "MjHDkpIWoW8o"
      },
      "execution_count": null,
      "outputs": []
    },
    {
      "cell_type": "code",
      "source": [
        "from matplotlib.colors import LinearSegmentedColormap\n",
        "import matplotlib.cm as cm"
      ],
      "metadata": {
        "id": "xvZJh6GorfKb"
      },
      "execution_count": null,
      "outputs": []
    },
    {
      "cell_type": "code",
      "source": [
        "import matplotlib.cm as cm\n",
        "\n",
        "inferno = cm.inferno(np.linspace(0, 1, 256))\n",
        "last_color = inferno[-1]\n",
        "last_color"
      ],
      "metadata": {
        "colab": {
          "base_uri": "https://localhost:8080/"
        },
        "id": "E7GH4r57s8ZX",
        "outputId": "ee055915-fe83-4b60-c374-36bc6f5bff5c"
      },
      "execution_count": null,
      "outputs": [
        {
          "output_type": "execute_result",
          "data": {
            "text/plain": [
              "array([0.988362, 0.998364, 0.644924, 1.      ])"
            ]
          },
          "metadata": {},
          "execution_count": 9
        }
      ]
    },
    {
      "cell_type": "code",
      "source": [
        "# habitat for testing resistance vs dispersal distance\n",
        "Xdim = 40\n",
        "Ydim = 60\n",
        "\n",
        "Y, X = np.meshgrid(range(0, Xdim), range(0, Ydim))\n",
        "\n",
        "hab = np.zeros((Ydim, Xdim))\n",
        "hab = draw_circle(hab, 31, 50, 2.5) # c1\n",
        "hab = draw_circle(hab, 31, 27, 5.5) # c2\n",
        "hab = draw_circle(hab, 31, 8, 2.5) # c3\n",
        "hab = draw_circle(hab, 8, 8, 2.5) # c4\n",
        "hab = draw_circle(hab, 8, 27, 5.5) # c5\n",
        "hab = draw_circle(hab, 8, 50, 5.5) # c6\n",
        "\n",
        "plt.imshow(hab, cmap='inferno')\n",
        "plt.colorbar()\n",
        "plt.title('Habitat')\n",
        "plt.show()"
      ],
      "metadata": {
        "colab": {
          "base_uri": "https://localhost:8080/",
          "height": 452
        },
        "id": "iVgX1pOHZwFj",
        "outputId": "ff5df2ba-e2ac-41b2-d7ae-05fb29af7878"
      },
      "execution_count": null,
      "outputs": [
        {
          "output_type": "display_data",
          "data": {
            "text/plain": [
              "<Figure size 640x480 with 2 Axes>"
            ],
            "image/png": "[encoded data removed]"
          },
          "metadata": {}
        }
      ]
    },
    {
      "cell_type": "code",
      "source": [
        "cdict = {\n",
        "    'red': (\n",
        "        (0.0,  0.0, 0.0),\n",
        "        (0.95,  0.0, 0.0),\n",
        "        (1.0, 0.4, 0.4),\n",
        "    ),\n",
        "    'green': (\n",
        "        (0.0,  0.0, 0.0),\n",
        "        (0.95,  0.3, 0.3),\n",
        "        (1.0, 1, 1),\n",
        "    ),\n",
        "    'blue': (\n",
        "        (0.0,  0.0, 0.0),\n",
        "        (0.95,  0.0, 0.0),\n",
        "        (1.0,  0.4, 0.4),\n",
        "    )\n",
        "}\n",
        "habitat_cmap = LinearSegmentedColormap('habitat_cmap', cdict)"
      ],
      "metadata": {
        "id": "9UUtvSWNhLek"
      },
      "execution_count": null,
      "outputs": []
    },
    {
      "cell_type": "code",
      "source": [
        "cdict = {\n",
        "    'red': (\n",
        "        (0.0,  0.0, 0.0),\n",
        "        (0.95,  0, 0),\n",
        "        (1.0, 0.5, 0.5),\n",
        "    ),\n",
        "    'green': (\n",
        "        (0.0,  0.0, 0.0),\n",
        "        (0.95,  0.3, 0.3),\n",
        "        (1.0, 1.0, 1.0),\n",
        "    ),\n",
        "    'blue': (\n",
        "        (0.0,  0.0, 0.0),\n",
        "        (0.95,  0, 0),\n",
        "        (1.0,  0.5, 0.5),\n",
        "    )\n",
        "}\n",
        "habitat_cmap = LinearSegmentedColormap('habitat_cmap', cdict)"
      ],
      "metadata": {
        "id": "GxLycsC9iThp"
      },
      "execution_count": null,
      "outputs": []
    },
    {
      "cell_type": "code",
      "source": [
        "corridor = 0.95\n",
        "ter = np.zeros_like(hab)\n",
        "ter[6:25, 3:21] = corridor\n",
        "ter[6:11, 10:33] = corridor\n",
        "ter[22:33, 10:32] = corridor\n",
        "\n",
        "total = np.maximum(hab, ter)\n",
        "plt.imshow(total, cmap=habitat_cmap)\n",
        "# plt.title('Habitat and terrain')\n",
        "# Remove x tiks from the plot\n",
        "plt.xticks([])\n",
        "plt.yticks([])\n",
        "plt.tight_layout()\n",
        "plt.savefig(\"artificial_landscape.pdf\", bbox_inches=\"tight\", format=\"pdf\")"
      ],
      "metadata": {
        "colab": {
          "base_uri": "https://localhost:8080/",
          "height": 487
        },
        "id": "mq4QONp7viXZ",
        "outputId": "5a923972-9634-4e7e-8184-2bc6c9800dcf"
      },
      "execution_count": null,
      "outputs": [
        {
          "output_type": "display_data",
          "data": {
            "text/plain": [
              "<Figure size 640x480 with 1 Axes>"
            ],
            "image/png": "[encoded data removed]"
          },
          "metadata": {}
        }
      ]
    },
    {
      "cell_type": "code",
      "source": [
        "repop, grad = simulate(hab, ter,\n",
        "             seed_density=4.0, batch_size=200, total_spreads=40, num_simulations=10000, hop_length=1)\n",
        "plt.imshow(repop, cmap='inferno')\n",
        "# plt.colorbar(shrink=0.5)\n",
        "# plt.title(\"Repopulation\")\n",
        "plt.xticks([])\n",
        "plt.yticks([])\n",
        "plt.tight_layout()\n",
        "plt.savefig(\"connectivity.pdf\", bbox_inches=\"tight\", format=\"pdf\")\n",
        "plt.show()\n",
        "plt.imshow(grad, cmap='inferno')\n",
        "# plt.colorbar(shrink=0.5)\n",
        "# plt.title(\"Flow\")\n",
        "plt.xticks([])\n",
        "plt.yticks([])\n",
        "plt.tight_layout()\n",
        "plt.savefig(\"flow.pdf\", bbox_inches=\"tight\", format=\"pdf\")\n",
        "plt.show()"
      ],
      "metadata": {
        "colab": {
          "base_uri": "https://localhost:8080/",
          "height": 957
        },
        "id": "c0NbfukUsy1X",
        "outputId": "7a4a06da-b6bf-414d-a244-0a03230bc82f"
      },
      "execution_count": null,
      "outputs": [
        {
          "output_type": "display_data",
          "data": {
            "text/plain": [
              "<Figure size 640x480 with 1 Axes>"
            ],
            "image/png": "[encoded data removed]"
          },
          "metadata": {}
        },
        {
          "output_type": "display_data",
          "data": {
            "text/plain": [
              "<Figure size 640x480 with 1 Axes>"
            ],
            "image/png": "[encoded data removed]"
          },
          "metadata": {}
        }
      ]
    },
    {
      "cell_type": "code",
      "source": [],
      "metadata": {
        "id": "-hHZ177Hd8uW"
      },
      "execution_count": null,
      "outputs": []
    }
  ],
  "metadata": {
    "accelerator": "GPU",
    "colab": {
      "collapsed_sections": [
        "vWt-Aeo4eepP",
        "zbSMNIUa5jIC",
        "3a1GsIRw5qVT",
        "D7F3AuGp5tBe"
      ],
      "provenance": [],
      "machine_shape": "hm",
      "gpuType": "T4"
    },
    "kernelspec": {
      "display_name": "Python 3",
      "name": "python3"
    },
    "language_info": {
      "name": "python"
    }
  },
  "nbformat": 4,
  "nbformat_minor": 0
}