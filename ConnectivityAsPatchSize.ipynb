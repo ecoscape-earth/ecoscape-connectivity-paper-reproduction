{
 "cells": [
  {
   "cell_type": "code",
   "execution_count": 1,
   "metadata": {},
   "outputs": [],
   "source": [
    "DATA_PATH = \"data/CA-Final\""
   ]
  },
  {
   "cell_type": "code",
   "execution_count": 60,
   "metadata": {},
   "outputs": [],
   "source": [
    "import numpy as np\n",
    "import ecoscape_connectivity\n",
    "from ecoscape_connectivity.util import dict_translate\n",
    "from ecoscape_utilities.bird_runs import BirdRun\n",
    "from functools import reduce\n",
    "import scgt"
   ]
  },
  {
   "cell_type": "code",
   "execution_count": 8,
   "metadata": {},
   "outputs": [],
   "source": [
    "bird_run = BirdRun(DATA_PATH)\n",
    "\n",
    "def create_bird_runs(target):\n",
    "    \"\"\"Creates bird runs for the specified output target.\"\"\"\n",
    "    birds = []\n",
    "\n",
    "    birds.append(bird_run.get_bird_run(\n",
    "        \"acowoo\", \"Acorn Woodpecker\", run_name=target))\n",
    "\n",
    "    birds.append(bird_run.get_bird_run(\n",
    "        \"stejay\", \"Steller's Jay\", run_name=target))\n",
    "\n",
    "    for bird in birds:\n",
    "\n",
    "        # Creates output folder, if missing.\n",
    "        bird_run.createdir_for_file(bird.repopulation_fn)\n",
    "        bird_run.createdir_for_file(bird.gradient_fn)\n",
    "\n",
    "    return birds\n"
   ]
  },
  {
   "cell_type": "markdown",
   "metadata": {},
   "source": [
    "The following code computes the patches, and labels the pixels belonging to each patch with the patch size. \n",
    "We also compute the largest patch size for renormalization. "
   ]
  },
  {
   "cell_type": "code",
   "execution_count": 29,
   "metadata": {},
   "outputs": [],
   "source": [
    "def shift(m, h=0, v=0):\n",
    "    \"\"\"Shift a matrix m, filling border with 0, in the horizontal and vertial directions by the amount specified.\"\"\"\n",
    "    sy, sx = m.shape\n",
    "    # First, let's do the horizontal shift.\n",
    "    if h > 0: \n",
    "        m = np.column_stack([np.zeros((sy, h)), m[:, :-h]])\n",
    "    elif h < 0:\n",
    "        m = np.column_stack([m[:, -h:], np.zeros((sy, -h))])\n",
    "    # Then the vertical shift.     \n",
    "    if v > 0:\n",
    "        m = np.row_stack([np.zeros((v, sx)), m[:-v, :]])\n",
    "    elif v < 0: \n",
    "        m = np.row_stack([m[-v:, :], np.zeros((-v, sx))])\n",
    "    if h * v == 0:\n",
    "        m = m.copy()\n",
    "    return m"
   ]
  },
  {
   "cell_type": "code",
   "execution_count": 83,
   "metadata": {},
   "outputs": [],
   "source": [
    "def connected_regions(m, also_corners=True):\n",
    "    \"\"\"Computes the connected regions.  m must be a 0/1 matrix. \n",
    "    The output is a matrix of the same size as m, in which each connected region \n",
    "    is assigned an integer, with all pixels of that region having that value. \n",
    "    If also_corners is True, touching by a corner counts as being in the same patch. \n",
    "    \"\"\"\n",
    "    directions = [(0, 1), (0, -1), (1, 0), (-1, 0)]\n",
    "    if also_corners:\n",
    "        directions.extend([(1, 1), (1, -1), (-1, 1), (-1, -1)])    \n",
    "    m = np.clip(m, 0, 1).astype(int)\n",
    "    size_y, size_x = m.shape    \n",
    "    # a is originally so that every entry has a different integer.\n",
    "    y, x = np.mgrid[:size_y, :size_x]\n",
    "    a = ((1 + (y * size_x) + x) * m).astype(int)\n",
    "    # Does the repeated expansions, propagating the labels.\n",
    "    changed = True\n",
    "    while changed:\n",
    "        na = a\n",
    "        for dx, dy in directions:\n",
    "            na = np.maximum(na, m * shift(na, h=dx, v=dy))\n",
    "        changed = np.any(na - a)\n",
    "        a = na\n",
    "    return a\n"
   ]
  },
  {
   "cell_type": "code",
   "execution_count": 84,
   "metadata": {},
   "outputs": [],
   "source": [
    "def regions_by_size(m):\n",
    "    \"\"\"Takes as input a 0-1 matrix m. \n",
    "    Returns a matrix of the same shape as m, where the pixels of each connected region\n",
    "    are labeled with the size of the connected region.\"\"\"\n",
    "    a = connected_regions(m)\n",
    "    # Relabels each region with its size. \n",
    "    # First, I form a dictionary with region id to size. \n",
    "    sizes = {i: np.sum(a == i) for i in np.unique(a)}\n",
    "    del sizes[0] # Not a region. \n",
    "    return dict_translate(a, sizes)"
   ]
  },
  {
   "cell_type": "code",
   "execution_count": 96,
   "metadata": {},
   "outputs": [],
   "source": [
    "bird_runs = create_bird_runs(\"patch_sizes\")"
   ]
  },
  {
   "cell_type": "code",
   "execution_count": 98,
   "metadata": {},
   "outputs": [
    {
     "name": "stdout",
     "output_type": "stream",
     "text": [
      "Done Acorn Woodpecker\n",
      "Done Steller's Jay\n"
     ]
    }
   ],
   "source": [
    "for bird in bird_runs:\n",
    "    # Reads the habitat. \n",
    "    gt = scgt.GeoTiff.from_file(bird.habitat_fn)\n",
    "    in_tile = gt.get_all_as_tile()\n",
    "    m_sizes = regions_by_size(in_tile.m.squeeze(0))\n",
    "    with gt.clone_shape(bird.repopulation_fn, dtype='float32') as out_file:\n",
    "        out_tile = scgt.Tile(in_tile.w, in_tile.h, in_tile.b, \n",
    "                             in_tile.c, in_tile.x, in_tile.y, m_sizes[None, :])\n",
    "        out_file.set_tile(out_tile)\n",
    "    print(\"Done\", bird.name)"
   ]
  },
  {
   "cell_type": "markdown",
   "metadata": {},
   "source": []
  }
 ],
 "metadata": {
  "kernelspec": {
   "display_name": "venv37",
   "language": "python",
   "name": "python3"
  },
  "language_info": {
   "codemirror_mode": {
    "name": "ipython",
    "version": 3
   },
   "file_extension": ".py",
   "mimetype": "text/x-python",
   "name": "python",
   "nbconvert_exporter": "python",
   "pygments_lexer": "ipython3",
   "version": "3.7.11"
  },
  "orig_nbformat": 4
 },
 "nbformat": 4,
 "nbformat_minor": 2
}
