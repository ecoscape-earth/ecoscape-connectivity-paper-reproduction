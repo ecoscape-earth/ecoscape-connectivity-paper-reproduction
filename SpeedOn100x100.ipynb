{
  "cells": [
    {
      "cell_type": "markdown",
      "metadata": {
        "id": "vWt-Aeo4eepP"
      },
      "source": [
        "# Initialization"
      ]
    },
    {
      "cell_type": "code",
      "source": [
        "!pip install git+https://github.com/ecoscape-earth/ecoscape-connectivity.git\n",
        "!pip install git+https://github.com/ecoscape-earth/ecoscape-utils.git"
      ],
      "metadata": {
        "colab": {
          "base_uri": "https://localhost:8080/"
        },
        "id": "8pVU_To_RbRn",
        "outputId": "57e549e6-b277-4f8f-ee95-62df69373fb9"
      },
      "execution_count": 2,
      "outputs": [
        {
          "output_type": "stream",
          "name": "stdout",
          "text": [
            "Collecting git+https://github.com/ecoscape-earth/ecoscape-connectivity.git\n",
            "  Cloning https://github.com/ecoscape-earth/ecoscape-connectivity.git to /tmp/pip-req-build-195w2ly7\n",
            "  Running command git clone --filter=blob:none --quiet https://github.com/ecoscape-earth/ecoscape-connectivity.git /tmp/pip-req-build-195w2ly7\n",
            "  Resolved https://github.com/ecoscape-earth/ecoscape-connectivity.git to commit 6416cd24381fa26dbc48cd949c663528df2f675c\n",
            "  Installing build dependencies ... \u001b[?25l\u001b[?25hdone\n",
            "  Getting requirements to build wheel ... \u001b[?25l\u001b[?25hdone\n",
            "  Installing backend dependencies ... \u001b[?25l\u001b[?25hdone\n",
            "  Preparing metadata (pyproject.toml) ... \u001b[?25l\u001b[?25hdone\n",
            "Requirement already satisfied: numpy>=1.20.3 in /usr/local/lib/python3.10/dist-packages (from ecoscape-connectivity==0.0.2) (1.23.5)\n",
            "Collecting scgt>=0.0.4 (from ecoscape-connectivity==0.0.2)\n",
            "  Downloading scgt-0.0.4-py3-none-any.whl (11 kB)\n",
            "Requirement already satisfied: GDAL>=3.4.3 in /usr/local/lib/python3.10/dist-packages (from scgt>=0.0.4->ecoscape-connectivity==0.0.2) (3.4.3)\n",
            "Requirement already satisfied: matplotlib>=3.5.3 in /usr/local/lib/python3.10/dist-packages (from scgt>=0.0.4->ecoscape-connectivity==0.0.2) (3.7.1)\n",
            "Collecting rasterio>=1.2.10 (from scgt>=0.0.4->ecoscape-connectivity==0.0.2)\n",
            "  Downloading rasterio-1.3.8-cp310-cp310-manylinux_2_17_x86_64.manylinux2014_x86_64.whl (21.3 MB)\n",
            "\u001b[2K     \u001b[90m━━━━━━━━━━━━━━━━━━━━━━━━━━━━━━━━━━━━━━━━\u001b[0m \u001b[32m21.3/21.3 MB\u001b[0m \u001b[31m64.3 MB/s\u001b[0m eta \u001b[36m0:00:00\u001b[0m\n",
            "\u001b[?25hRequirement already satisfied: scipy>=1.7.3 in /usr/local/lib/python3.10/dist-packages (from scgt>=0.0.4->ecoscape-connectivity==0.0.2) (1.10.1)\n",
            "Requirement already satisfied: contourpy>=1.0.1 in /usr/local/lib/python3.10/dist-packages (from matplotlib>=3.5.3->scgt>=0.0.4->ecoscape-connectivity==0.0.2) (1.1.0)\n",
            "Requirement already satisfied: cycler>=0.10 in /usr/local/lib/python3.10/dist-packages (from matplotlib>=3.5.3->scgt>=0.0.4->ecoscape-connectivity==0.0.2) (0.11.0)\n",
            "Requirement already satisfied: fonttools>=4.22.0 in /usr/local/lib/python3.10/dist-packages (from matplotlib>=3.5.3->scgt>=0.0.4->ecoscape-connectivity==0.0.2) (4.42.1)\n",
            "Requirement already satisfied: kiwisolver>=1.0.1 in /usr/local/lib/python3.10/dist-packages (from matplotlib>=3.5.3->scgt>=0.0.4->ecoscape-connectivity==0.0.2) (1.4.4)\n",
            "Requirement already satisfied: packaging>=20.0 in /usr/local/lib/python3.10/dist-packages (from matplotlib>=3.5.3->scgt>=0.0.4->ecoscape-connectivity==0.0.2) (23.1)\n",
            "Requirement already satisfied: pillow>=6.2.0 in /usr/local/lib/python3.10/dist-packages (from matplotlib>=3.5.3->scgt>=0.0.4->ecoscape-connectivity==0.0.2) (9.4.0)\n",
            "Requirement already satisfied: pyparsing>=2.3.1 in /usr/local/lib/python3.10/dist-packages (from matplotlib>=3.5.3->scgt>=0.0.4->ecoscape-connectivity==0.0.2) (3.1.1)\n",
            "Requirement already satisfied: python-dateutil>=2.7 in /usr/local/lib/python3.10/dist-packages (from matplotlib>=3.5.3->scgt>=0.0.4->ecoscape-connectivity==0.0.2) (2.8.2)\n",
            "Collecting affine (from rasterio>=1.2.10->scgt>=0.0.4->ecoscape-connectivity==0.0.2)\n",
            "  Downloading affine-2.4.0-py3-none-any.whl (15 kB)\n",
            "Requirement already satisfied: attrs in /usr/local/lib/python3.10/dist-packages (from rasterio>=1.2.10->scgt>=0.0.4->ecoscape-connectivity==0.0.2) (23.1.0)\n",
            "Requirement already satisfied: certifi in /usr/local/lib/python3.10/dist-packages (from rasterio>=1.2.10->scgt>=0.0.4->ecoscape-connectivity==0.0.2) (2023.7.22)\n",
            "Requirement already satisfied: click>=4.0 in /usr/local/lib/python3.10/dist-packages (from rasterio>=1.2.10->scgt>=0.0.4->ecoscape-connectivity==0.0.2) (8.1.7)\n",
            "Requirement already satisfied: cligj>=0.5 in /usr/local/lib/python3.10/dist-packages (from rasterio>=1.2.10->scgt>=0.0.4->ecoscape-connectivity==0.0.2) (0.7.2)\n",
            "Collecting snuggs>=1.4.1 (from rasterio>=1.2.10->scgt>=0.0.4->ecoscape-connectivity==0.0.2)\n",
            "  Downloading snuggs-1.4.7-py3-none-any.whl (5.4 kB)\n",
            "Requirement already satisfied: click-plugins in /usr/local/lib/python3.10/dist-packages (from rasterio>=1.2.10->scgt>=0.0.4->ecoscape-connectivity==0.0.2) (1.1.1)\n",
            "Requirement already satisfied: setuptools in /usr/local/lib/python3.10/dist-packages (from rasterio>=1.2.10->scgt>=0.0.4->ecoscape-connectivity==0.0.2) (67.7.2)\n",
            "Requirement already satisfied: six>=1.5 in /usr/local/lib/python3.10/dist-packages (from python-dateutil>=2.7->matplotlib>=3.5.3->scgt>=0.0.4->ecoscape-connectivity==0.0.2) (1.16.0)\n",
            "Building wheels for collected packages: ecoscape-connectivity\n",
            "  Building wheel for ecoscape-connectivity (pyproject.toml) ... \u001b[?25l\u001b[?25hdone\n",
            "  Created wheel for ecoscape-connectivity: filename=ecoscape_connectivity-0.0.2-py3-none-any.whl size=11043 sha256=b360a8d054f732f26a65730251b10b15aef88b22231f91aecc80b7b6d231a733\n",
            "  Stored in directory: /tmp/pip-ephem-wheel-cache-5qde6dwx/wheels/72/73/2c/f3b584a638e8a6a37479ac7d8823cb5a88a277b40f8c2732f4\n",
            "Successfully built ecoscape-connectivity\n",
            "Installing collected packages: snuggs, affine, rasterio, scgt, ecoscape-connectivity\n",
            "Successfully installed affine-2.4.0 ecoscape-connectivity-0.0.2 rasterio-1.3.8 scgt-0.0.4 snuggs-1.4.7\n",
            "Collecting git+https://github.com/ecoscape-earth/ecoscape-utils.git\n",
            "  Cloning https://github.com/ecoscape-earth/ecoscape-utils.git to /tmp/pip-req-build-pmubeas1\n",
            "  Running command git clone --filter=blob:none --quiet https://github.com/ecoscape-earth/ecoscape-utils.git /tmp/pip-req-build-pmubeas1\n",
            "  Resolved https://github.com/ecoscape-earth/ecoscape-utils.git to commit 7d578c80599dad515ec2e6730b2b2aebbcb2da04\n",
            "  Installing build dependencies ... \u001b[?25l\u001b[?25hdone\n",
            "  Getting requirements to build wheel ... \u001b[?25l\u001b[?25hdone\n",
            "  Installing backend dependencies ... \u001b[?25l\u001b[?25hdone\n",
            "  Preparing metadata (pyproject.toml) ... \u001b[?25l\u001b[?25hdone\n",
            "Building wheels for collected packages: ecoscape-utilities\n",
            "  Building wheel for ecoscape-utilities (pyproject.toml) ... \u001b[?25l\u001b[?25hdone\n",
            "  Created wheel for ecoscape-utilities: filename=ecoscape_utilities-0.0.3-py3-none-any.whl size=4149 sha256=20d53324891983b3eabd67b44c217acf9b2ca354bf3f5cbbbfa9e7ad2354ddfb\n",
            "  Stored in directory: /tmp/pip-ephem-wheel-cache-kof1urgk/wheels/1d/13/ba/90a24983fdd79347f60ae8a325d7db12c56af8ef9e9618e34d\n",
            "Successfully built ecoscape-utilities\n",
            "Installing collected packages: ecoscape-utilities\n",
            "Successfully installed ecoscape-utilities-0.0.3\n"
          ]
        }
      ]
    },
    {
      "cell_type": "code",
      "execution_count": 18,
      "metadata": {
        "id": "BhodJoQSqWHf"
      },
      "outputs": [],
      "source": [
        "import os\n",
        "import sys\n",
        "import numpy as np\n",
        "import time\n",
        "import torch\n",
        "from torch import nn\n",
        "import torch.functional as F\n",
        "import scipy.ndimage as nd\n",
        "import matplotlib.pyplot as plt\n",
        "import ecoscape_connectivity"
      ]
    },
    {
      "cell_type": "code",
      "execution_count": 4,
      "metadata": {
        "colab": {
          "base_uri": "https://localhost:8080/"
        },
        "id": "Z18_f6LWywPo",
        "outputId": "f8c597fe-6fc1-4730-cf8e-be2af3a7b737"
      },
      "outputs": [
        {
          "output_type": "stream",
          "name": "stdout",
          "text": [
            "Device: cuda\n"
          ]
        }
      ],
      "source": [
        "if(torch.cuda.is_available()):\n",
        "    torch.cuda.set_device(0)\n",
        "device = 'cuda' if torch.cuda.is_available() else 'cpu'\n",
        "print(\"Device:\", device)"
      ]
    },
    {
      "cell_type": "markdown",
      "metadata": {
        "id": "SxTr3d43iBe9"
      },
      "source": [
        "# Simulated landscapes"
      ]
    },
    {
      "cell_type": "code",
      "source": [
        "def simulate(hab, ter,\n",
        "             seed_density=4.0, batch_size=400, total_spreads=20, num_simulations=400, hop_length=2):\n",
        "    \"\"\"\n",
        "    Function that makes simulating and displaying repopulation easier.\n",
        "    \"\"\"\n",
        "\n",
        "    # analyze_tile expects the habitat to be of shape (1, w, h)\n",
        "    if np.ndim(hab) == 2:\n",
        "        hab = np.expand_dims(hab, axis=0)\n",
        "\n",
        "    repopulate = ecoscape_connectivity.analyze_tile_torch(device=device,\n",
        "            produce_gradient=True,\n",
        "            seed_density=seed_density,\n",
        "            batch_size=batch_size,\n",
        "            total_spreads=total_spreads,\n",
        "            num_simulations=num_simulations,\n",
        "            hop_length=hop_length)\n",
        "\n",
        "    repop, grad = repopulate(hab, ter)\n",
        "\n",
        "    # a bit of reshaping for displaying with matplotlib\n",
        "    hab = np.sum(hab, 0)\n",
        "    repop = np.sum(repop.detach().cpu().numpy(), 0)\n",
        "    grad = np.log2(1 + np.sum(grad.detach().cpu().numpy(), 0))\n",
        "\n",
        "    return repop, grad"
      ],
      "metadata": {
        "id": "H1pXaES-svA7"
      },
      "execution_count": 5,
      "outputs": []
    },
    {
      "cell_type": "code",
      "source": [
        "def draw_circle(hab, y, x, r):\n",
        "    return np.maximum(hab, (X - x) ** 2 + (Y - y) ** 2 < r ** 2)"
      ],
      "metadata": {
        "id": "MjHDkpIWoW8o"
      },
      "execution_count": 6,
      "outputs": []
    },
    {
      "cell_type": "code",
      "source": [
        "from matplotlib.colors import LinearSegmentedColormap\n",
        "import matplotlib.cm as cm\n",
        "\n",
        "inferno = cm.inferno(np.linspace(0, 1, 256))\n",
        "last_color = inferno[-1]\n",
        "last_r, last_g, last_b, _ = last_color\n",
        "\n",
        "cdict = {\n",
        "    'red': (\n",
        "        (0.0,  0.0, 0.0),\n",
        "        (0.99,  0.0, 0.0),\n",
        "        (1.0, last_r, last_r),\n",
        "    ),\n",
        "    'green': (\n",
        "        (0.0,  0.0, 0.0),\n",
        "        (0.99,  1.0, 1.0),\n",
        "        (1.0, last_g, last_g),\n",
        "    ),\n",
        "    'blue': (\n",
        "        (0.0,  0.0, 0.0),\n",
        "        (0.99,  0.0, 0.0),\n",
        "        (1.0,  last_b, last_b),\n",
        "    )\n",
        "}\n",
        "green_cmap = LinearSegmentedColormap('green_cmap', cdict)"
      ],
      "metadata": {
        "id": "xvZJh6GorfKb"
      },
      "execution_count": 7,
      "outputs": []
    },
    {
      "cell_type": "code",
      "source": [
        "import matplotlib.cm as cm\n",
        "\n",
        "inferno = cm.inferno(np.linspace(0, 1, 256))\n",
        "last_color = inferno[-1]\n",
        "last_color"
      ],
      "metadata": {
        "colab": {
          "base_uri": "https://localhost:8080/"
        },
        "id": "E7GH4r57s8ZX",
        "outputId": "3d0f468f-dfe8-4837-bfdf-e6ec8b88c9e0"
      },
      "execution_count": 8,
      "outputs": [
        {
          "output_type": "execute_result",
          "data": {
            "text/plain": [
              "array([0.988362, 0.998364, 0.644924, 1.      ])"
            ]
          },
          "metadata": {},
          "execution_count": 8
        }
      ]
    },
    {
      "cell_type": "code",
      "source": [
        "# habitat for testing resistance vs dispersal distance\n",
        "Xdim = 100\n",
        "Ydim = 100\n",
        "\n",
        "Y, X = np.meshgrid(range(0, Xdim), range(0, Ydim))\n",
        "\n",
        "hab = np.zeros((Ydim, Xdim))\n",
        "# It really does not matter what we put in the habitat, but since we\n",
        "# are at it, let's get a pretty pic.\n",
        "hab = draw_circle(hab, 20, 20, 10) # c1\n",
        "hab = draw_circle(hab, 20, 80, 10) # c2\n",
        "hab = draw_circle(hab, 70, 30, 20) # c3\n",
        "\n",
        "plt.imshow(hab, cmap='inferno')\n",
        "plt.colorbar()\n",
        "plt.title('Habitat')\n",
        "plt.show()"
      ],
      "metadata": {
        "colab": {
          "base_uri": "https://localhost:8080/",
          "height": 452
        },
        "id": "aU17hrofpEI2",
        "outputId": "6cd47dfb-4fdd-4c6c-9cb9-f8608b9ba206"
      },
      "execution_count": 9,
      "outputs": [
        {
          "output_type": "display_data",
          "data": {
            "text/plain": [
              "<Figure size 640x480 with 2 Axes>"
            ],
            "image/png": "[encoded data removed]"
          },
          "metadata": {}
        }
      ]
    },
    {
      "cell_type": "code",
      "source": [
        "corridor = 0.95\n",
        "ter = np.zeros_like(hab)\n",
        "ter[20:80, 15:25] = corridor\n",
        "ter[15:25, 20:80] = corridor\n",
        "\n",
        "total = np.maximum(hab, ter)\n",
        "plt.imshow(total ** 30, cmap=green_cmap)\n",
        "# plt.title('Habitat and terrain')\n",
        "# Remove x tiks from the plot\n",
        "plt.xticks([])\n",
        "plt.yticks([])\n",
        "plt.tight_layout()\n"
      ],
      "metadata": {
        "colab": {
          "base_uri": "https://localhost:8080/",
          "height": 487
        },
        "id": "mq4QONp7viXZ",
        "outputId": "75fc9bbd-cfd2-49af-bb65-6f1b0384340c"
      },
      "execution_count": 15,
      "outputs": [
        {
          "output_type": "display_data",
          "data": {
            "text/plain": [
              "<Figure size 640x480 with 1 Axes>"
            ],
            "image/png": "[encoded data removed]"
          },
          "metadata": {}
        }
      ]
    },
    {
      "cell_type": "code",
      "source": [
        "NUM_RUNS = 1000\n",
        "t0 = time.time()\n",
        "for _ in range(1000):\n",
        "    repop, grad = simulate(hab, ter,\n",
        "        seed_density=4.0, batch_size=400, total_spreads=20, num_simulations=400, hop_length=2)\n",
        "t1 = time.time()\n",
        "print(\"Time for 10,000 pixel processing:\", (t1 - t0) / NUM_RUNS)"
      ],
      "metadata": {
        "colab": {
          "base_uri": "https://localhost:8080/"
        },
        "id": "c0NbfukUsy1X",
        "outputId": "a8d7b1a2-d05a-4e3e-c6af-8404937e512c"
      },
      "execution_count": 20,
      "outputs": [
        {
          "output_type": "stream",
          "name": "stdout",
          "text": [
            "Time for 10,000 pixel processing: 0.01952925658226013\n"
          ]
        }
      ]
    },
    {
      "cell_type": "code",
      "source": [
        "plt.imshow(repop, cmap='inferno')\n",
        "# plt.colorbar(shrink=0.5)\n",
        "# plt.title(\"Repopulation\")\n",
        "plt.xticks([])\n",
        "plt.yticks([])\n",
        "plt.tight_layout()\n",
        "plt.savefig(\"connectivity.pdf\", format=\"pdf\")\n",
        "plt.show()\n",
        "plt.imshow(grad, cmap='inferno')\n",
        "# plt.colorbar(shrink=0.5)\n",
        "# plt.title(\"Flow\")\n",
        "plt.xticks([])\n",
        "plt.yticks([])\n",
        "plt.tight_layout()\n",
        "plt.savefig(\"flow.pdf\", format=\"pdf\")\n",
        "plt.show()"
      ],
      "metadata": {
        "id": "5Vgw64n6u3eH",
        "colab": {
          "base_uri": "https://localhost:8080/",
          "height": 957
        },
        "outputId": "85cf7338-5e90-480b-c272-a40cb1db2021"
      },
      "execution_count": 21,
      "outputs": [
        {
          "output_type": "display_data",
          "data": {
            "text/plain": [
              "<Figure size 640x480 with 1 Axes>"
            ],
            "image/png": "[encoded data removed]"
          },
          "metadata": {}
        },
        {
          "output_type": "display_data",
          "data": {
            "text/plain": [
              "<Figure size 640x480 with 1 Axes>"
            ],
            "image/png": "[encoded data removed]"
          },
          "metadata": {}
        }
      ]
    },
    {
      "cell_type": "code",
      "source": [],
      "metadata": {
        "id": "Gpu9BhEKCHe3"
      },
      "execution_count": null,
      "outputs": []
    }
  ],
  "metadata": {
    "accelerator": "GPU",
    "colab": {
      "provenance": [],
      "machine_shape": "hm",
      "gpuType": "A100"
    },
    "kernelspec": {
      "display_name": "Python 3",
      "name": "python3"
    },
    "language_info": {
      "name": "python"
    }
  },
  "nbformat": 4,
  "nbformat_minor": 0
}