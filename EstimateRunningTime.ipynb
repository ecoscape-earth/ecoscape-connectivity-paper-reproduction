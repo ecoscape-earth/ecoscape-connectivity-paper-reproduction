{
  "cells": [
    {
      "cell_type": "markdown",
      "source": [
        "This notebook is used to generate connectivity and gradient used for the paper."
      ],
      "metadata": {
        "id": "te7ton5M7jSt"
      }
    },
    {
      "cell_type": "markdown",
      "metadata": {
        "id": "jKD2GiS3sDEM"
      },
      "source": [
        "## Code Setup"
      ]
    },
    {
      "cell_type": "code",
      "execution_count": 1,
      "metadata": {
        "id": "f9bjsCKHSc-t",
        "vscode": {
          "languageId": "python"
        }
      },
      "outputs": [],
      "source": [
        "# If True, assumes everything is running locally.\n",
        "IS_LOCAL = False\n",
        "\n",
        "# Path to main directory\n",
        "REMOTE_PATH = \"/content/gdrive/Shareddrives/Birds and CS/Data/CA-Final\"\n",
        "LOCAL_PATH = \"/Users/luca/Library/CloudStorage/GoogleDrive-luca@ucsc.edu/Shared drives/Birds and CS/Data/CA-Final\"\n",
        "DATA_PATH = LOCAL_PATH if IS_LOCAL else REMOTE_PATH"
      ]
    },
    {
      "cell_type": "code",
      "execution_count": 2,
      "metadata": {
        "id": "J3Koec3ddKiB",
        "vscode": {
          "languageId": "python"
        }
      },
      "outputs": [],
      "source": [
        "import os\n",
        "import sys"
      ]
    },
    {
      "cell_type": "code",
      "execution_count": 3,
      "metadata": {
        "colab": {
          "base_uri": "https://localhost:8080/"
        },
        "id": "TZByjvfguoa0",
        "outputId": "db8a8753-b7f3-4781-bf40-e74d64162bac",
        "vscode": {
          "languageId": "python"
        }
      },
      "outputs": [
        {
          "output_type": "stream",
          "name": "stdout",
          "text": [
            "Collecting git+https://github.com/ecoscape-earth/ecoscape-connectivity.git\n",
            "  Cloning https://github.com/ecoscape-earth/ecoscape-connectivity.git to /tmp/pip-req-build-2mh_m8e8\n",
            "  Running command git clone --filter=blob:none --quiet https://github.com/ecoscape-earth/ecoscape-connectivity.git /tmp/pip-req-build-2mh_m8e8\n",
            "  Resolved https://github.com/ecoscape-earth/ecoscape-connectivity.git to commit 23e3ef478fc073aa3da612ff8168ed9aa60d8eb6\n",
            "  Installing build dependencies ... \u001b[?25l\u001b[?25hdone\n",
            "  Getting requirements to build wheel ... \u001b[?25l\u001b[?25hdone\n",
            "  Installing backend dependencies ... \u001b[?25l\u001b[?25hdone\n",
            "  Preparing metadata (pyproject.toml) ... \u001b[?25l\u001b[?25hdone\n",
            "Requirement already satisfied: numpy>=1.20.3 in /usr/local/lib/python3.10/dist-packages (from ecoscape-connectivity==0.0.2) (1.23.5)\n",
            "Collecting scgt>=0.0.4 (from ecoscape-connectivity==0.0.2)\n",
            "  Downloading scgt-0.0.5-py3-none-any.whl (11 kB)\n",
            "Requirement already satisfied: GDAL>=3.0.0 in /usr/local/lib/python3.10/dist-packages (from scgt>=0.0.4->ecoscape-connectivity==0.0.2) (3.4.3)\n",
            "Requirement already satisfied: matplotlib>=3.5.3 in /usr/local/lib/python3.10/dist-packages (from scgt>=0.0.4->ecoscape-connectivity==0.0.2) (3.7.1)\n",
            "Collecting rasterio>=1.2.10 (from scgt>=0.0.4->ecoscape-connectivity==0.0.2)\n",
            "  Downloading rasterio-1.3.8-cp310-cp310-manylinux_2_17_x86_64.manylinux2014_x86_64.whl (21.3 MB)\n",
            "\u001b[2K     \u001b[90m━━━━━━━━━━━━━━━━━━━━━━━━━━━━━━━━━━━━━━━━\u001b[0m \u001b[32m21.3/21.3 MB\u001b[0m \u001b[31m84.7 MB/s\u001b[0m eta \u001b[36m0:00:00\u001b[0m\n",
            "\u001b[?25hRequirement already satisfied: scipy>=1.7.3 in /usr/local/lib/python3.10/dist-packages (from scgt>=0.0.4->ecoscape-connectivity==0.0.2) (1.11.2)\n",
            "Requirement already satisfied: contourpy>=1.0.1 in /usr/local/lib/python3.10/dist-packages (from matplotlib>=3.5.3->scgt>=0.0.4->ecoscape-connectivity==0.0.2) (1.1.0)\n",
            "Requirement already satisfied: cycler>=0.10 in /usr/local/lib/python3.10/dist-packages (from matplotlib>=3.5.3->scgt>=0.0.4->ecoscape-connectivity==0.0.2) (0.11.0)\n",
            "Requirement already satisfied: fonttools>=4.22.0 in /usr/local/lib/python3.10/dist-packages (from matplotlib>=3.5.3->scgt>=0.0.4->ecoscape-connectivity==0.0.2) (4.42.1)\n",
            "Requirement already satisfied: kiwisolver>=1.0.1 in /usr/local/lib/python3.10/dist-packages (from matplotlib>=3.5.3->scgt>=0.0.4->ecoscape-connectivity==0.0.2) (1.4.5)\n",
            "Requirement already satisfied: packaging>=20.0 in /usr/local/lib/python3.10/dist-packages (from matplotlib>=3.5.3->scgt>=0.0.4->ecoscape-connectivity==0.0.2) (23.1)\n",
            "Requirement already satisfied: pillow>=6.2.0 in /usr/local/lib/python3.10/dist-packages (from matplotlib>=3.5.3->scgt>=0.0.4->ecoscape-connectivity==0.0.2) (9.4.0)\n",
            "Requirement already satisfied: pyparsing>=2.3.1 in /usr/local/lib/python3.10/dist-packages (from matplotlib>=3.5.3->scgt>=0.0.4->ecoscape-connectivity==0.0.2) (3.1.1)\n",
            "Requirement already satisfied: python-dateutil>=2.7 in /usr/local/lib/python3.10/dist-packages (from matplotlib>=3.5.3->scgt>=0.0.4->ecoscape-connectivity==0.0.2) (2.8.2)\n",
            "Collecting affine (from rasterio>=1.2.10->scgt>=0.0.4->ecoscape-connectivity==0.0.2)\n",
            "  Downloading affine-2.4.0-py3-none-any.whl (15 kB)\n",
            "Requirement already satisfied: attrs in /usr/local/lib/python3.10/dist-packages (from rasterio>=1.2.10->scgt>=0.0.4->ecoscape-connectivity==0.0.2) (23.1.0)\n",
            "Requirement already satisfied: certifi in /usr/local/lib/python3.10/dist-packages (from rasterio>=1.2.10->scgt>=0.0.4->ecoscape-connectivity==0.0.2) (2023.7.22)\n",
            "Requirement already satisfied: click>=4.0 in /usr/local/lib/python3.10/dist-packages (from rasterio>=1.2.10->scgt>=0.0.4->ecoscape-connectivity==0.0.2) (8.1.7)\n",
            "Requirement already satisfied: cligj>=0.5 in /usr/local/lib/python3.10/dist-packages (from rasterio>=1.2.10->scgt>=0.0.4->ecoscape-connectivity==0.0.2) (0.7.2)\n",
            "Collecting snuggs>=1.4.1 (from rasterio>=1.2.10->scgt>=0.0.4->ecoscape-connectivity==0.0.2)\n",
            "  Downloading snuggs-1.4.7-py3-none-any.whl (5.4 kB)\n",
            "Requirement already satisfied: click-plugins in /usr/local/lib/python3.10/dist-packages (from rasterio>=1.2.10->scgt>=0.0.4->ecoscape-connectivity==0.0.2) (1.1.1)\n",
            "Requirement already satisfied: setuptools in /usr/local/lib/python3.10/dist-packages (from rasterio>=1.2.10->scgt>=0.0.4->ecoscape-connectivity==0.0.2) (67.7.2)\n",
            "Requirement already satisfied: six>=1.5 in /usr/local/lib/python3.10/dist-packages (from python-dateutil>=2.7->matplotlib>=3.5.3->scgt>=0.0.4->ecoscape-connectivity==0.0.2) (1.16.0)\n",
            "Building wheels for collected packages: ecoscape-connectivity\n",
            "  Building wheel for ecoscape-connectivity (pyproject.toml) ... \u001b[?25l\u001b[?25hdone\n",
            "  Created wheel for ecoscape-connectivity: filename=ecoscape_connectivity-0.0.2-py3-none-any.whl size=11054 sha256=435e68da6e24be70e8c63bf3f109c781e8697e5a4922cdbc35b48056e70059c8\n",
            "  Stored in directory: /tmp/pip-ephem-wheel-cache-ffkg97lk/wheels/72/73/2c/f3b584a638e8a6a37479ac7d8823cb5a88a277b40f8c2732f4\n",
            "Successfully built ecoscape-connectivity\n",
            "Installing collected packages: snuggs, affine, rasterio, scgt, ecoscape-connectivity\n",
            "Successfully installed affine-2.4.0 ecoscape-connectivity-0.0.2 rasterio-1.3.8 scgt-0.0.5 snuggs-1.4.7\n",
            "Collecting git+https://github.com/ecoscape-earth/ecoscape-utils.git\n",
            "  Cloning https://github.com/ecoscape-earth/ecoscape-utils.git to /tmp/pip-req-build-s6zf94mt\n",
            "  Running command git clone --filter=blob:none --quiet https://github.com/ecoscape-earth/ecoscape-utils.git /tmp/pip-req-build-s6zf94mt\n",
            "  Resolved https://github.com/ecoscape-earth/ecoscape-utils.git to commit 7d578c80599dad515ec2e6730b2b2aebbcb2da04\n",
            "  Installing build dependencies ... \u001b[?25l\u001b[?25hdone\n",
            "  Getting requirements to build wheel ... \u001b[?25l\u001b[?25hdone\n",
            "  Installing backend dependencies ... \u001b[?25l\u001b[?25hdone\n",
            "  Preparing metadata (pyproject.toml) ... \u001b[?25l\u001b[?25hdone\n",
            "Building wheels for collected packages: ecoscape-utilities\n",
            "  Building wheel for ecoscape-utilities (pyproject.toml) ... \u001b[?25l\u001b[?25hdone\n",
            "  Created wheel for ecoscape-utilities: filename=ecoscape_utilities-0.0.3-py3-none-any.whl size=4149 sha256=bf840ec269ef56a0a0450f67fd094adbea5b4233a66a675ce7ea179128948569\n",
            "  Stored in directory: /tmp/pip-ephem-wheel-cache-u6i_6ys8/wheels/1d/13/ba/90a24983fdd79347f60ae8a325d7db12c56af8ef9e9618e34d\n",
            "Successfully built ecoscape-utilities\n",
            "Installing collected packages: ecoscape-utilities\n",
            "Successfully installed ecoscape-utilities-0.0.3\n"
          ]
        }
      ],
      "source": [
        "# Installs required packages\n",
        "if not IS_LOCAL:\n",
        "    !pip install git+https://github.com/ecoscape-earth/ecoscape-connectivity.git\n",
        "    !pip install git+https://github.com/ecoscape-earth/ecoscape-utils.git"
      ]
    },
    {
      "cell_type": "code",
      "execution_count": 4,
      "metadata": {
        "colab": {
          "base_uri": "https://localhost:8080/"
        },
        "id": "iTaFpgvkS1S-",
        "outputId": "a7556a8f-23ff-4e2d-da8f-286ec27998d2",
        "vscode": {
          "languageId": "python"
        }
      },
      "outputs": [
        {
          "output_type": "stream",
          "name": "stdout",
          "text": [
            "Mounted at /content/gdrive\n"
          ]
        }
      ],
      "source": [
        "# Connecting to Drive.\n",
        "if not IS_LOCAL:\n",
        "    from google.colab import drive\n",
        "    drive.mount(\"/content/gdrive\", force_remount=True)"
      ]
    },
    {
      "cell_type": "code",
      "execution_count": 5,
      "metadata": {
        "id": "i00YjvbZdHyZ",
        "vscode": {
          "languageId": "python"
        }
      },
      "outputs": [],
      "source": [
        "import time\n",
        "from ecoscape_utilities import BirdRun\n",
        "from ecoscape_connectivity import compute_connectivity\n",
        "from ecoscape_connectivity.util import read_transmission_csv"
      ]
    },
    {
      "cell_type": "markdown",
      "metadata": {
        "id": "WOSTuXgfsIf6"
      },
      "source": [
        "## Bird Run Definition"
      ]
    },
    {
      "cell_type": "code",
      "execution_count": 6,
      "metadata": {
        "id": "9HVthEs6ofu7",
        "vscode": {
          "languageId": "python"
        }
      },
      "outputs": [],
      "source": [
        "bird_run = BirdRun(DATA_PATH)\n",
        "\n",
        "birds = []\n",
        "\n",
        "NUM_SIMULATIONS = 400\n",
        "BIRD_RUN = \"Timing\"\n",
        "\n",
        "birds.append(bird_run.get_bird_run(\n",
        "    \"acowoo\", \"Acorn Woodpecker\",\n",
        "    run_name=BIRD_RUN,\n",
        "    do_validation=False,\n",
        "    hop_distance=2, num_spreads=20,\n",
        "    num_simulations=NUM_SIMULATIONS))\n",
        "\n",
        "birds.append(bird_run.get_bird_run(\n",
        "    \"acowoo\", \"Acorn Woodpecker\",\n",
        "    run_name=BIRD_RUN,\n",
        "    do_validation=False,\n",
        "    hop_distance=3, num_spreads=15,\n",
        "    num_simulations=NUM_SIMULATIONS))\n",
        "\n",
        "birds.append(bird_run.get_bird_run(\n",
        "    \"stejay\", \"Steller's Jay\",\n",
        "    run_name=BIRD_RUN,\n",
        "    do_validation=False,\n",
        "    hop_distance=2, num_spreads=3,\n",
        "    num_simulations=NUM_SIMULATIONS))\n",
        "\n",
        "birds.append(bird_run.get_bird_run(\n",
        "    \"stejay\", \"Steller's Jay\",\n",
        "    run_name=BIRD_RUN,\n",
        "    do_validation=False,\n",
        "    hop_distance=1, num_spreads=6,\n",
        "    num_simulations=NUM_SIMULATIONS))\n"
      ]
    },
    {
      "cell_type": "markdown",
      "source": [
        "You need to run the cell below _twice_ to get accurate timings, because the first time it is run, time will be wasted connecting to the GPU."
      ],
      "metadata": {
        "id": "1HyFSvxmF_32"
      }
    },
    {
      "cell_type": "code",
      "execution_count": 8,
      "metadata": {
        "colab": {
          "base_uri": "https://localhost:8080/"
        },
        "id": "BfJY_kc6eWdA",
        "outputId": "ea72b257-e573-4018-da8f-c365ad417e83",
        "vscode": {
          "languageId": "python"
        }
      },
      "outputs": [
        {
          "output_type": "stream",
          "name": "stderr",
          "text": [
            "WARNING:rasterio._env:CPLE_NotSupported in driver GTiff does not support open option BLOCKYSIZE\n",
            "WARNING:rasterio._env:CPLE_NotSupported in driver GTiff does not support open option COMPRESS\n",
            "WARNING:rasterio._env:CPLE_NotSupported in driver GTiff does not support open option INTERLEAVE\n",
            "WARNING:rasterio._env:CPLE_NotSupported in driver GTiff does not support open option BLOCKYSIZE\n",
            "WARNING:rasterio._env:CPLE_NotSupported in driver GTiff does not support open option COMPRESS\n",
            "WARNING:rasterio._env:CPLE_NotSupported in driver GTiff does not support open option INTERLEAVE\n",
            "WARNING:rasterio._env:CPLE_NotSupported in driver GTiff does not support open option BLOCKYSIZE\n",
            "WARNING:rasterio._env:CPLE_NotSupported in driver GTiff does not support open option COMPRESS\n",
            "WARNING:rasterio._env:CPLE_NotSupported in driver GTiff does not support open option INTERLEAVE\n"
          ]
        },
        {
          "output_type": "stream",
          "name": "stdout",
          "text": [
            "Processed Acorn Woodpecker gradient=False gap(px): 2 num_spreads: 20 simulations: 400\n",
            "Time: 16.057485818862915\n"
          ]
        },
        {
          "output_type": "stream",
          "name": "stderr",
          "text": [
            "WARNING:rasterio._env:CPLE_NotSupported in driver GTiff does not support open option BLOCKYSIZE\n",
            "WARNING:rasterio._env:CPLE_NotSupported in driver GTiff does not support open option COMPRESS\n",
            "WARNING:rasterio._env:CPLE_NotSupported in driver GTiff does not support open option INTERLEAVE\n"
          ]
        },
        {
          "output_type": "stream",
          "name": "stdout",
          "text": [
            "Processed Acorn Woodpecker gradient=True gap(px): 2 num_spreads: 20 simulations: 400\n",
            "Time: 57.64992642402649\n"
          ]
        },
        {
          "output_type": "stream",
          "name": "stderr",
          "text": [
            "WARNING:rasterio._env:CPLE_NotSupported in driver GTiff does not support open option BLOCKYSIZE\n",
            "WARNING:rasterio._env:CPLE_NotSupported in driver GTiff does not support open option COMPRESS\n",
            "WARNING:rasterio._env:CPLE_NotSupported in driver GTiff does not support open option INTERLEAVE\n",
            "WARNING:rasterio._env:CPLE_NotSupported in driver GTiff does not support open option BLOCKYSIZE\n",
            "WARNING:rasterio._env:CPLE_NotSupported in driver GTiff does not support open option COMPRESS\n",
            "WARNING:rasterio._env:CPLE_NotSupported in driver GTiff does not support open option INTERLEAVE\n"
          ]
        },
        {
          "output_type": "stream",
          "name": "stdout",
          "text": [
            "Processed Acorn Woodpecker gradient=False gap(px): 3 num_spreads: 15 simulations: 400\n",
            "Time: 15.723552227020264\n"
          ]
        },
        {
          "output_type": "stream",
          "name": "stderr",
          "text": [
            "WARNING:rasterio._env:CPLE_NotSupported in driver GTiff does not support open option BLOCKYSIZE\n",
            "WARNING:rasterio._env:CPLE_NotSupported in driver GTiff does not support open option COMPRESS\n",
            "WARNING:rasterio._env:CPLE_NotSupported in driver GTiff does not support open option INTERLEAVE\n"
          ]
        },
        {
          "output_type": "stream",
          "name": "stdout",
          "text": [
            "Processed Acorn Woodpecker gradient=True gap(px): 3 num_spreads: 15 simulations: 400\n",
            "Time: 50.26489591598511\n"
          ]
        },
        {
          "output_type": "stream",
          "name": "stderr",
          "text": [
            "WARNING:rasterio._env:CPLE_NotSupported in driver GTiff does not support open option BLOCKYSIZE\n",
            "WARNING:rasterio._env:CPLE_NotSupported in driver GTiff does not support open option COMPRESS\n",
            "WARNING:rasterio._env:CPLE_NotSupported in driver GTiff does not support open option INTERLEAVE\n",
            "WARNING:rasterio._env:CPLE_NotSupported in driver GTiff does not support open option BLOCKYSIZE\n",
            "WARNING:rasterio._env:CPLE_NotSupported in driver GTiff does not support open option COMPRESS\n",
            "WARNING:rasterio._env:CPLE_NotSupported in driver GTiff does not support open option INTERLEAVE\n"
          ]
        },
        {
          "output_type": "stream",
          "name": "stdout",
          "text": [
            "Processed Steller's Jay gradient=False gap(px): 2 num_spreads: 3 simulations: 400\n",
            "Time: 4.7080042362213135\n"
          ]
        },
        {
          "output_type": "stream",
          "name": "stderr",
          "text": [
            "WARNING:rasterio._env:CPLE_NotSupported in driver GTiff does not support open option BLOCKYSIZE\n",
            "WARNING:rasterio._env:CPLE_NotSupported in driver GTiff does not support open option COMPRESS\n",
            "WARNING:rasterio._env:CPLE_NotSupported in driver GTiff does not support open option INTERLEAVE\n"
          ]
        },
        {
          "output_type": "stream",
          "name": "stdout",
          "text": [
            "Processed Steller's Jay gradient=True gap(px): 2 num_spreads: 3 simulations: 400\n",
            "Time: 11.184788942337036\n"
          ]
        },
        {
          "output_type": "stream",
          "name": "stderr",
          "text": [
            "WARNING:rasterio._env:CPLE_NotSupported in driver GTiff does not support open option BLOCKYSIZE\n",
            "WARNING:rasterio._env:CPLE_NotSupported in driver GTiff does not support open option COMPRESS\n",
            "WARNING:rasterio._env:CPLE_NotSupported in driver GTiff does not support open option INTERLEAVE\n",
            "WARNING:rasterio._env:CPLE_NotSupported in driver GTiff does not support open option BLOCKYSIZE\n",
            "WARNING:rasterio._env:CPLE_NotSupported in driver GTiff does not support open option COMPRESS\n",
            "WARNING:rasterio._env:CPLE_NotSupported in driver GTiff does not support open option INTERLEAVE\n"
          ]
        },
        {
          "output_type": "stream",
          "name": "stdout",
          "text": [
            "Processed Steller's Jay gradient=False gap(px): 1 num_spreads: 6 simulations: 400\n",
            "Time: 5.9216485023498535\n",
            "Processed Steller's Jay gradient=True gap(px): 1 num_spreads: 6 simulations: 400\n",
            "Time: 17.6061749458313\n"
          ]
        }
      ],
      "source": [
        "# Let's do the bird runs.\n",
        "t = time.time()\n",
        "for bird in birds:\n",
        "\n",
        "    # Creates output folder, if missing.\n",
        "    bird_run.createdir_for_file(bird.repopulation_fn)\n",
        "    bird_run.createdir_for_file(bird.gradient_fn)\n",
        "\n",
        "    transmission_d = read_transmission_csv(bird.transmission_fn)\n",
        "\n",
        "    compute_connectivity(\n",
        "        habitat_fn=bird.habitat_fn,\n",
        "        terrain_fn=bird.terrain_fn,\n",
        "        connectivity_fn=bird.repopulation_fn,\n",
        "        flow_fn=None,\n",
        "        permeability_dict=transmission_d,\n",
        "        gap_crossing=bird.hop_distance,\n",
        "        num_gaps=bird.num_spreads,\n",
        "        num_simulations=bird.num_simulations,\n",
        "        seed_density=4,\n",
        "        single_tile=True,\n",
        "    )\n",
        "\n",
        "    print(\"Processed\", bird.name, \"gradient=False\", \"gap(px):\", bird.hop_distance, \"num_spreads:\", bird.num_spreads, \"simulations:\", bird.num_simulations)\n",
        "    print(\"Time:\", time.time() - t)\n",
        "    t = time.time()\n",
        "\n",
        "    compute_connectivity(\n",
        "        habitat_fn=bird.habitat_fn,\n",
        "        terrain_fn=bird.terrain_fn,\n",
        "        connectivity_fn=bird.repopulation_fn,\n",
        "        flow_fn=bird.gradient_fn,\n",
        "        permeability_dict=transmission_d,\n",
        "        gap_crossing=bird.hop_distance,\n",
        "        num_gaps=bird.num_spreads,\n",
        "        num_simulations=bird.num_simulations,\n",
        "        seed_density=4,\n",
        "        single_tile=False,\n",
        "        tile_size=2048,\n",
        "        tile_border=256,\n",
        "    )\n",
        "\n",
        "    print(\"Processed\", bird.name, \"gradient=True\", \"gap(px):\", bird.hop_distance, \"num_spreads:\", bird.num_spreads, \"simulations:\", bird.num_simulations)\n",
        "    print(\"Time:\", time.time() - t)\n",
        "    t = time.time()"
      ]
    },
    {
      "cell_type": "code",
      "execution_count": null,
      "metadata": {
        "id": "JU_EThF2Sc-8",
        "vscode": {
          "languageId": "python"
        }
      },
      "outputs": [],
      "source": []
    }
  ],
  "metadata": {
    "accelerator": "GPU",
    "colab": {
      "provenance": [],
      "machine_shape": "hm",
      "gpuType": "A100"
    },
    "kernelspec": {
      "display_name": "Python 3",
      "name": "python3"
    },
    "language_info": {
      "name": "python"
    }
  },
  "nbformat": 4,
  "nbformat_minor": 0
}