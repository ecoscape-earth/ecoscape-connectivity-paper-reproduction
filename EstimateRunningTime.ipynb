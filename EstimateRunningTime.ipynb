{
  "cells": [
    {
      "cell_type": "markdown",
      "source": [
        "This notebook is used to generate connectivity and gradient used for the paper."
      ],
      "metadata": {
        "id": "te7ton5M7jSt"
      }
    },
    {
      "cell_type": "markdown",
      "metadata": {
        "id": "jKD2GiS3sDEM"
      },
      "source": [
        "## Code Setup"
      ]
    },
    {
      "cell_type": "code",
      "execution_count": 1,
      "metadata": {
        "id": "f9bjsCKHSc-t",
        "vscode": {
          "languageId": "python"
        }
      },
      "outputs": [],
      "source": [
        "# If True, assumes everything is running locally.\n",
        "IS_LOCAL = False\n",
        "\n",
        "# Path to main directory\n",
        "REMOTE_PATH = \"/content/gdrive/Shareddrives/Birds and CS/Data/CA-paper\"\n",
        "LOCAL_PATH = \"/Users/luca/Library/CloudStorage/GoogleDrive-luca@ucsc.edu/Shared drives/Birds and CS/Data/CA-paper\"\n",
        "DATA_PATH = LOCAL_PATH if IS_LOCAL else REMOTE_PATH\n",
        "\n",
        "# Path to scratch directory where we can put a copy of the database.\n",
        "REMOTE_SCRATCH_PATH = \"/content/temp\"\n",
        "LOCAL_SCRATCH_PATH = \"/Users/luca/temp/ebird\"\n",
        "SCRATCH_PATH = LOCAL_SCRATCH_PATH if IS_LOCAL else REMOTE_SCRATCH_PATH"
      ]
    },
    {
      "cell_type": "code",
      "execution_count": 2,
      "metadata": {
        "id": "J3Koec3ddKiB",
        "vscode": {
          "languageId": "python"
        }
      },
      "outputs": [],
      "source": [
        "import os\n",
        "import sys"
      ]
    },
    {
      "cell_type": "code",
      "execution_count": 3,
      "metadata": {
        "colab": {
          "base_uri": "https://localhost:8080/"
        },
        "id": "TZByjvfguoa0",
        "outputId": "d7545246-ce8f-41c3-ebea-f093bc28683e",
        "vscode": {
          "languageId": "python"
        }
      },
      "outputs": [
        {
          "output_type": "stream",
          "name": "stdout",
          "text": [
            "Collecting git+https://github.com/ecoscape-earth/ecoscape-connectivity.git\n",
            "  Cloning https://github.com/ecoscape-earth/ecoscape-connectivity.git to /tmp/pip-req-build-byfucbl4\n",
            "  Running command git clone --filter=blob:none --quiet https://github.com/ecoscape-earth/ecoscape-connectivity.git /tmp/pip-req-build-byfucbl4\n",
            "  Resolved https://github.com/ecoscape-earth/ecoscape-connectivity.git to commit 35268674abddd15d892d1033fc12ec6d9a0bfd55\n",
            "  Installing build dependencies ... \u001b[?25l\u001b[?25hdone\n",
            "  Getting requirements to build wheel ... \u001b[?25l\u001b[?25hdone\n",
            "  Installing backend dependencies ... \u001b[?25l\u001b[?25hdone\n",
            "  Preparing metadata (pyproject.toml) ... \u001b[?25l\u001b[?25hdone\n",
            "Requirement already satisfied: numpy>=1.20.3 in /usr/local/lib/python3.10/dist-packages (from ecoscape-connectivity==0.0.1) (1.23.5)\n",
            "Collecting scgt>=0.0.4 (from ecoscape-connectivity==0.0.1)\n",
            "  Downloading scgt-0.0.4-py3-none-any.whl (11 kB)\n",
            "Requirement already satisfied: GDAL>=3.4.3 in /usr/local/lib/python3.10/dist-packages (from scgt>=0.0.4->ecoscape-connectivity==0.0.1) (3.4.3)\n",
            "Requirement already satisfied: matplotlib>=3.5.3 in /usr/local/lib/python3.10/dist-packages (from scgt>=0.0.4->ecoscape-connectivity==0.0.1) (3.7.1)\n",
            "Collecting rasterio>=1.2.10 (from scgt>=0.0.4->ecoscape-connectivity==0.0.1)\n",
            "  Downloading rasterio-1.3.8-cp310-cp310-manylinux_2_17_x86_64.manylinux2014_x86_64.whl (21.3 MB)\n",
            "\u001b[2K     \u001b[90m━━━━━━━━━━━━━━━━━━━━━━━━━━━━━━━━━━━━━━━━\u001b[0m \u001b[32m21.3/21.3 MB\u001b[0m \u001b[31m84.4 MB/s\u001b[0m eta \u001b[36m0:00:00\u001b[0m\n",
            "\u001b[?25hRequirement already satisfied: scipy>=1.7.3 in /usr/local/lib/python3.10/dist-packages (from scgt>=0.0.4->ecoscape-connectivity==0.0.1) (1.10.1)\n",
            "Requirement already satisfied: contourpy>=1.0.1 in /usr/local/lib/python3.10/dist-packages (from matplotlib>=3.5.3->scgt>=0.0.4->ecoscape-connectivity==0.0.1) (1.1.0)\n",
            "Requirement already satisfied: cycler>=0.10 in /usr/local/lib/python3.10/dist-packages (from matplotlib>=3.5.3->scgt>=0.0.4->ecoscape-connectivity==0.0.1) (0.11.0)\n",
            "Requirement already satisfied: fonttools>=4.22.0 in /usr/local/lib/python3.10/dist-packages (from matplotlib>=3.5.3->scgt>=0.0.4->ecoscape-connectivity==0.0.1) (4.42.1)\n",
            "Requirement already satisfied: kiwisolver>=1.0.1 in /usr/local/lib/python3.10/dist-packages (from matplotlib>=3.5.3->scgt>=0.0.4->ecoscape-connectivity==0.0.1) (1.4.4)\n",
            "Requirement already satisfied: packaging>=20.0 in /usr/local/lib/python3.10/dist-packages (from matplotlib>=3.5.3->scgt>=0.0.4->ecoscape-connectivity==0.0.1) (23.1)\n",
            "Requirement already satisfied: pillow>=6.2.0 in /usr/local/lib/python3.10/dist-packages (from matplotlib>=3.5.3->scgt>=0.0.4->ecoscape-connectivity==0.0.1) (9.4.0)\n",
            "Requirement already satisfied: pyparsing>=2.3.1 in /usr/local/lib/python3.10/dist-packages (from matplotlib>=3.5.3->scgt>=0.0.4->ecoscape-connectivity==0.0.1) (3.1.1)\n",
            "Requirement already satisfied: python-dateutil>=2.7 in /usr/local/lib/python3.10/dist-packages (from matplotlib>=3.5.3->scgt>=0.0.4->ecoscape-connectivity==0.0.1) (2.8.2)\n",
            "Collecting affine (from rasterio>=1.2.10->scgt>=0.0.4->ecoscape-connectivity==0.0.1)\n",
            "  Downloading affine-2.4.0-py3-none-any.whl (15 kB)\n",
            "Requirement already satisfied: attrs in /usr/local/lib/python3.10/dist-packages (from rasterio>=1.2.10->scgt>=0.0.4->ecoscape-connectivity==0.0.1) (23.1.0)\n",
            "Requirement already satisfied: certifi in /usr/local/lib/python3.10/dist-packages (from rasterio>=1.2.10->scgt>=0.0.4->ecoscape-connectivity==0.0.1) (2023.7.22)\n",
            "Requirement already satisfied: click>=4.0 in /usr/local/lib/python3.10/dist-packages (from rasterio>=1.2.10->scgt>=0.0.4->ecoscape-connectivity==0.0.1) (8.1.7)\n",
            "Requirement already satisfied: cligj>=0.5 in /usr/local/lib/python3.10/dist-packages (from rasterio>=1.2.10->scgt>=0.0.4->ecoscape-connectivity==0.0.1) (0.7.2)\n",
            "Collecting snuggs>=1.4.1 (from rasterio>=1.2.10->scgt>=0.0.4->ecoscape-connectivity==0.0.1)\n",
            "  Downloading snuggs-1.4.7-py3-none-any.whl (5.4 kB)\n",
            "Requirement already satisfied: click-plugins in /usr/local/lib/python3.10/dist-packages (from rasterio>=1.2.10->scgt>=0.0.4->ecoscape-connectivity==0.0.1) (1.1.1)\n",
            "Requirement already satisfied: setuptools in /usr/local/lib/python3.10/dist-packages (from rasterio>=1.2.10->scgt>=0.0.4->ecoscape-connectivity==0.0.1) (67.7.2)\n",
            "Requirement already satisfied: six>=1.5 in /usr/local/lib/python3.10/dist-packages (from python-dateutil>=2.7->matplotlib>=3.5.3->scgt>=0.0.4->ecoscape-connectivity==0.0.1) (1.16.0)\n",
            "Building wheels for collected packages: ecoscape-connectivity\n",
            "  Building wheel for ecoscape-connectivity (pyproject.toml) ... \u001b[?25l\u001b[?25hdone\n",
            "  Created wheel for ecoscape-connectivity: filename=ecoscape_connectivity-0.0.1-py3-none-any.whl size=10990 sha256=b4c86f9acb8e42df3f717e6c0fc9a059b60f3952a98ace055e6bec1e89bdb57d\n",
            "  Stored in directory: /tmp/pip-ephem-wheel-cache-i7g1i6g8/wheels/72/73/2c/f3b584a638e8a6a37479ac7d8823cb5a88a277b40f8c2732f4\n",
            "Successfully built ecoscape-connectivity\n",
            "Installing collected packages: snuggs, affine, rasterio, scgt, ecoscape-connectivity\n",
            "Successfully installed affine-2.4.0 ecoscape-connectivity-0.0.1 rasterio-1.3.8 scgt-0.0.4 snuggs-1.4.7\n",
            "Collecting git+https://github.com/ecoscape-earth/ecoscape-utils.git\n",
            "  Cloning https://github.com/ecoscape-earth/ecoscape-utils.git to /tmp/pip-req-build-wbsbvkto\n",
            "  Running command git clone --filter=blob:none --quiet https://github.com/ecoscape-earth/ecoscape-utils.git /tmp/pip-req-build-wbsbvkto\n",
            "  Resolved https://github.com/ecoscape-earth/ecoscape-utils.git to commit 7d578c80599dad515ec2e6730b2b2aebbcb2da04\n",
            "  Installing build dependencies ... \u001b[?25l\u001b[?25hdone\n",
            "  Getting requirements to build wheel ... \u001b[?25l\u001b[?25hdone\n",
            "  Installing backend dependencies ... \u001b[?25l\u001b[?25hdone\n",
            "  Preparing metadata (pyproject.toml) ... \u001b[?25l\u001b[?25hdone\n",
            "Building wheels for collected packages: ecoscape-utilities\n",
            "  Building wheel for ecoscape-utilities (pyproject.toml) ... \u001b[?25l\u001b[?25hdone\n",
            "  Created wheel for ecoscape-utilities: filename=ecoscape_utilities-0.0.3-py3-none-any.whl size=4149 sha256=8bcee1271ea668b9b56e9c7edb403334c18213204fee92da83f748afc916e4d5\n",
            "  Stored in directory: /tmp/pip-ephem-wheel-cache-kmqcp1id/wheels/1d/13/ba/90a24983fdd79347f60ae8a325d7db12c56af8ef9e9618e34d\n",
            "Successfully built ecoscape-utilities\n",
            "Installing collected packages: ecoscape-utilities\n",
            "Successfully installed ecoscape-utilities-0.0.3\n"
          ]
        }
      ],
      "source": [
        "# Installs required packages\n",
        "if not IS_LOCAL:\n",
        "    !pip install git+https://github.com/ecoscape-earth/ecoscape-connectivity.git\n",
        "    !pip install git+https://github.com/ecoscape-earth/ecoscape-utils.git"
      ]
    },
    {
      "cell_type": "code",
      "execution_count": 4,
      "metadata": {
        "colab": {
          "base_uri": "https://localhost:8080/"
        },
        "id": "iTaFpgvkS1S-",
        "outputId": "f2679ce4-dfcd-4a16-c3ca-a93542a4343b",
        "vscode": {
          "languageId": "python"
        }
      },
      "outputs": [
        {
          "output_type": "stream",
          "name": "stdout",
          "text": [
            "Mounted at /content/gdrive\n"
          ]
        }
      ],
      "source": [
        "# Connecting to Drive.\n",
        "if not IS_LOCAL:\n",
        "    from google.colab import drive\n",
        "    drive.mount(\"/content/gdrive\", force_remount=True)"
      ]
    },
    {
      "cell_type": "code",
      "execution_count": 5,
      "metadata": {
        "id": "i00YjvbZdHyZ",
        "vscode": {
          "languageId": "python"
        }
      },
      "outputs": [],
      "source": [
        "import time\n",
        "from ecoscape_utilities import BirdRun\n",
        "from ecoscape_connectivity import compute_connectivity\n",
        "from ecoscape_connectivity.util import read_transmission_csv"
      ]
    },
    {
      "cell_type": "markdown",
      "metadata": {
        "id": "WOSTuXgfsIf6"
      },
      "source": [
        "## Bird Run Definition"
      ]
    },
    {
      "cell_type": "code",
      "execution_count": 6,
      "metadata": {
        "id": "9HVthEs6ofu7",
        "vscode": {
          "languageId": "python"
        }
      },
      "outputs": [],
      "source": [
        "bird_run = BirdRun(DATA_PATH)\n",
        "\n",
        "birds = []\n",
        "\n",
        "NUM_SIMULATIONS = 400\n",
        "TRANSMISSION_EXPONENT = 1\n",
        "BIRD_RUN = \"Aug24-timing\"\n",
        "\n",
        "birds.append(bird_run.get_bird_run(\n",
        "    \"acowoo\", \"Acorn Woodpecker\",\n",
        "    run_name=BIRD_RUN,\n",
        "    do_validation=False, do_gradient=False,\n",
        "    hop_distance=2, num_spreads=20,\n",
        "    num_simulations=NUM_SIMULATIONS,\n",
        "    transmission_exponent=TRANSMISSION_EXPONENT))\n",
        "\n",
        "birds.append(bird_run.get_bird_run(\n",
        "    \"acowoo\", \"Acorn Woodpecker\",\n",
        "    run_name=BIRD_RUN,\n",
        "    do_validation=False, do_gradient=True,\n",
        "    hop_distance=2, num_spreads=20,\n",
        "    num_simulations=NUM_SIMULATIONS,\n",
        "    transmission_exponent=TRANSMISSION_EXPONENT))\n",
        "\n",
        "birds.append(bird_run.get_bird_run(\n",
        "    \"stejay\", \"Steller's Jay\",\n",
        "    run_name=BIRD_RUN,\n",
        "    do_validation=False, do_gradient=False,\n",
        "    hop_distance=2, num_spreads=6,\n",
        "    num_simulations=NUM_SIMULATIONS,\n",
        "    transmission_exponent=TRANSMISSION_EXPONENT))\n",
        "\n",
        "birds.append(bird_run.get_bird_run(\n",
        "    \"stejay\", \"Steller's Jay\",\n",
        "    run_name=BIRD_RUN,\n",
        "    do_validation=False, do_gradient=True,\n",
        "    hop_distance=2, num_spreads=6,\n",
        "    num_simulations=NUM_SIMULATIONS,\n",
        "    transmission_exponent=TRANSMISSION_EXPONENT))\n",
        "\n",
        "birds.append(bird_run.get_bird_run(\n",
        "    \"oaktit308\", \"Oak Titmouse\",\n",
        "    run_name=BIRD_RUN,\n",
        "    do_validation=False, do_gradient=False,\n",
        "    hop_distance=2, num_spreads=15,\n",
        "    num_simulations=NUM_SIMULATIONS,\n",
        "    transmission_exponent=TRANSMISSION_EXPONENT))\n",
        "\n",
        "birds.append(bird_run.get_bird_run(\n",
        "    \"oaktit308\", \"Oak Titmouse\",\n",
        "    run_name=BIRD_RUN,\n",
        "    do_validation=False, do_gradient=True,\n",
        "    hop_distance=2, num_spreads=15,\n",
        "    num_simulations=NUM_SIMULATIONS,\n",
        "    transmission_exponent=TRANSMISSION_EXPONENT))\n"
      ]
    },
    {
      "cell_type": "code",
      "execution_count": 7,
      "metadata": {
        "colab": {
          "base_uri": "https://localhost:8080/"
        },
        "id": "BfJY_kc6eWdA",
        "outputId": "3cf56e8a-3acd-4430-beaa-52075702f51e",
        "vscode": {
          "languageId": "python"
        }
      },
      "outputs": [
        {
          "output_type": "stream",
          "name": "stderr",
          "text": [
            "WARNING:rasterio._env:CPLE_NotSupported in driver GTiff does not support open option BLOCKYSIZE\n",
            "WARNING:rasterio._env:CPLE_NotSupported in driver GTiff does not support open option COMPRESS\n",
            "WARNING:rasterio._env:CPLE_NotSupported in driver GTiff does not support open option INTERLEAVE\n",
            "WARNING:rasterio._env:CPLE_NotSupported in driver GTiff does not support open option BLOCKYSIZE\n",
            "WARNING:rasterio._env:CPLE_NotSupported in driver GTiff does not support open option COMPRESS\n",
            "WARNING:rasterio._env:CPLE_NotSupported in driver GTiff does not support open option INTERLEAVE\n"
          ]
        },
        {
          "output_type": "stream",
          "name": "stdout",
          "text": [
            "Processed Acorn Woodpecker gradient False hop 2 num 20 sim 400\n",
            "Time: 35.97592234611511\n"
          ]
        },
        {
          "output_type": "stream",
          "name": "stderr",
          "text": [
            "WARNING:rasterio._env:CPLE_NotSupported in driver GTiff does not support open option BLOCKYSIZE\n",
            "WARNING:rasterio._env:CPLE_NotSupported in driver GTiff does not support open option COMPRESS\n",
            "WARNING:rasterio._env:CPLE_NotSupported in driver GTiff does not support open option INTERLEAVE\n"
          ]
        },
        {
          "output_type": "stream",
          "name": "stdout",
          "text": [
            "Processed Acorn Woodpecker gradient True hop 2 num 20 sim 400\n",
            "Time: 59.27016353607178\n"
          ]
        },
        {
          "output_type": "stream",
          "name": "stderr",
          "text": [
            "WARNING:rasterio._env:CPLE_NotSupported in driver GTiff does not support open option BLOCKYSIZE\n",
            "WARNING:rasterio._env:CPLE_NotSupported in driver GTiff does not support open option COMPRESS\n",
            "WARNING:rasterio._env:CPLE_NotSupported in driver GTiff does not support open option INTERLEAVE\n",
            "WARNING:rasterio._env:CPLE_NotSupported in driver GTiff does not support open option BLOCKYSIZE\n",
            "WARNING:rasterio._env:CPLE_NotSupported in driver GTiff does not support open option COMPRESS\n",
            "WARNING:rasterio._env:CPLE_NotSupported in driver GTiff does not support open option INTERLEAVE\n"
          ]
        },
        {
          "output_type": "stream",
          "name": "stdout",
          "text": [
            "Processed Steller's Jay gradient False hop 2 num 6 sim 400\n",
            "Time: 13.941468000411987\n"
          ]
        },
        {
          "output_type": "stream",
          "name": "stderr",
          "text": [
            "WARNING:rasterio._env:CPLE_NotSupported in driver GTiff does not support open option BLOCKYSIZE\n",
            "WARNING:rasterio._env:CPLE_NotSupported in driver GTiff does not support open option COMPRESS\n",
            "WARNING:rasterio._env:CPLE_NotSupported in driver GTiff does not support open option INTERLEAVE\n"
          ]
        },
        {
          "output_type": "stream",
          "name": "stdout",
          "text": [
            "Processed Steller's Jay gradient True hop 2 num 6 sim 400\n",
            "Time: 21.052608489990234\n"
          ]
        },
        {
          "output_type": "stream",
          "name": "stderr",
          "text": [
            "WARNING:rasterio._env:CPLE_NotSupported in driver GTiff does not support open option BLOCKYSIZE\n",
            "WARNING:rasterio._env:CPLE_NotSupported in driver GTiff does not support open option COMPRESS\n",
            "WARNING:rasterio._env:CPLE_NotSupported in driver GTiff does not support open option INTERLEAVE\n",
            "WARNING:rasterio._env:CPLE_NotSupported in driver GTiff does not support open option BLOCKYSIZE\n",
            "WARNING:rasterio._env:CPLE_NotSupported in driver GTiff does not support open option COMPRESS\n",
            "WARNING:rasterio._env:CPLE_NotSupported in driver GTiff does not support open option INTERLEAVE\n"
          ]
        },
        {
          "output_type": "stream",
          "name": "stdout",
          "text": [
            "Processed Oak Titmouse gradient False hop 2 num 15 sim 400\n",
            "Time: 18.7767014503479\n"
          ]
        },
        {
          "output_type": "stream",
          "name": "stderr",
          "text": [
            "WARNING:rasterio._env:CPLE_NotSupported in driver GTiff does not support open option BLOCKYSIZE\n",
            "WARNING:rasterio._env:CPLE_NotSupported in driver GTiff does not support open option COMPRESS\n",
            "WARNING:rasterio._env:CPLE_NotSupported in driver GTiff does not support open option INTERLEAVE\n"
          ]
        },
        {
          "output_type": "stream",
          "name": "stdout",
          "text": [
            "Processed Oak Titmouse gradient True hop 2 num 15 sim 400\n",
            "Time: 38.35686492919922\n"
          ]
        }
      ],
      "source": [
        "# Let's do the bird runs.\n",
        "t = time.time()\n",
        "for bird in birds:\n",
        "\n",
        "    # Creates output folder, if missing.\n",
        "    bird_run.createdir_for_file(bird.repopulation_fn)\n",
        "    bird_run.createdir_for_file(bird.gradient_fn)\n",
        "\n",
        "    transmission_d = read_transmission_csv(bird.transmission_fn)\n",
        "\n",
        "    compute_connectivity(\n",
        "        habitat_fn=bird.habitat_fn,\n",
        "        terrain_fn=bird.terrain_fn,\n",
        "        connectivity_fn=bird.repopulation_fn,\n",
        "        flow_fn=bird.gradient_fn if bird.do_gradient else None,\n",
        "        permeability_dict=transmission_d,\n",
        "        gap_crossing=bird.hop_distance,\n",
        "        num_gaps=bird.num_spreads,\n",
        "        num_simulations=bird.num_simulations,\n",
        "        seed_density=4,\n",
        "        single_tile=False,\n",
        "        tile_size=2048,\n",
        "        tile_border=256,\n",
        "    )\n",
        "\n",
        "    print(\"Processed\", bird.name, \"gradient\", bird.do_gradient, \"hop\", bird.hop_distance, \"num\", bird.num_spreads, \"sim\", bird.num_simulations)\n",
        "    print(\"Time:\", time.time() - t)\n",
        "    t = time.time()"
      ]
    },
    {
      "cell_type": "code",
      "execution_count": null,
      "metadata": {
        "id": "JU_EThF2Sc-8",
        "vscode": {
          "languageId": "python"
        }
      },
      "outputs": [],
      "source": []
    }
  ],
  "metadata": {
    "accelerator": "GPU",
    "colab": {
      "provenance": [],
      "machine_shape": "hm",
      "gpuType": "A100"
    },
    "kernelspec": {
      "display_name": "Python 3",
      "name": "python3"
    },
    "language_info": {
      "name": "python"
    }
  },
  "nbformat": 4,
  "nbformat_minor": 0
}