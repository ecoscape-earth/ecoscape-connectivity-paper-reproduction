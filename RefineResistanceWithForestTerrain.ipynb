{
 "cells": [
  {
   "cell_type": "markdown",
   "metadata": {},
   "source": [
    "## Code Setup"
   ]
  },
  {
   "cell_type": "code",
   "execution_count": null,
   "metadata": {},
   "outputs": [],
   "source": [
    "import os\n",
    "import matplotlib.pyplot as plt\n",
    "import os, sys\n",
    "sys.path.append(os.path.join(os.getcwd(), \"birdmaps\"))\n",
    "import bird_runs"
   ]
  },
  {
   "cell_type": "code",
   "execution_count": null,
   "metadata": {},
   "outputs": [],
   "source": [
    "FILE_PATH = \"data/CA-EcoScape-Paper/\"\n",
    "bird_run = bird_runs.BirdRun(FILE_PATH)"
   ]
  },
  {
   "cell_type": "code",
   "execution_count": null,
   "metadata": {
    "collapsed": false
   },
   "outputs": [],
   "source": [
    "TRANSMISSION_EXPONENT = 1\n",
    "RUN_NAME = \"Jun9-gradient\""
   ]
  },
  {
   "cell_type": "code",
   "execution_count": null,
   "metadata": {},
   "outputs": [],
   "source": [
    "acowoo_run = bird_run.get_bird_run(\"acowoo\", \"Acorn Woodpecker\", \n",
    "                                   transmission_exponent=TRANSMISSION_EXPONENT, run_name=RUN_NAME)\n",
    "stejay_run = bird_run.get_bird_run(\"stejay\", \"Steller's Jay\", \n",
    "                                   transmission_exponent=TRANSMISSION_EXPONENT, run_name=RUN_NAME)\n",
    "oaktit_run = bird_run.get_bird_run(\"oaktit308\", \"Oak Titmouse\", \n",
    "                                   transmission_exponent=TRANSMISSION_EXPONENT, run_name=RUN_NAME)\n",
    "birds = [acowoo_run, stejay_run, oaktit_run]\n"
   ]
  },
  {
   "cell_type": "code",
   "execution_count": null,
   "metadata": {},
   "outputs": [],
   "source": [
    "import csv, json\n",
    "\n",
    "def read_resistance_csv(fn):\n",
    "    \"\"\"Reads a dictionary of terrain to resistance in csv, producing a dictionary.\"\"\"\n",
    "    d = {}\n",
    "    with open(fn) as f:\n",
    "        reader = csv.DictReader(f)\n",
    "        for row in reader:\n",
    "            d[int(row['map_code'])] = float(row['resistance'])\n",
    "    return d\n",
    "\n",
    "def read_histogram_json(fn):\n",
    "    with open(fn) as f:\n",
    "        d = json.load(f)\n",
    "        return {int(k): v for k, v in d.items()}\n",
    "\n",
    "def write_transmission_csv(resistance, fn):\n",
    "    \"\"\"\n",
    "    :resistance: a dictionary mapping map codes (integers) to resistance values (float)\"\"\"\n",
    "    with open(fn, \"w\") as f:\n",
    "        writer = csv.DictWriter(f, fieldnames=['map_code', 'transmission'])\n",
    "        writer.writeheader()\n",
    "        for k, v in resistance.items():\n",
    "            writer.writerow({'map_code': k, 'transmission': v})\n",
    "\n",
    "def plot_histogram(d, title=\"\"):\n",
    "    xs = list(d.keys())\n",
    "    xs.sort(reverse=True)\n",
    "    sxs = [str(x) for x in xs]\n",
    "    ys = [d[x] for x in xs]\n",
    "    plt.barh(sxs, ys, label=sxs)\n",
    "    plt.title(title)\n",
    "    plt.show()"
   ]
  },
  {
   "cell_type": "code",
   "execution_count": null,
   "metadata": {},
   "outputs": [],
   "source": [
    "# See https://docs.google.com/spreadsheets/d/13pFa8tlHpjWYT0t_HHOE7LoZPoOPaBvO/edit#gid=1586882738\n",
    "def resistance_generic_terrain(t):\n",
    "    if 100 <= t < 200:\n",
    "        return 0 # Forest\n",
    "    elif 200 <= t < 300:\n",
    "        return 0.4 # Savanna\n",
    "    elif 300 <= t < 400:\n",
    "        return 0. # Shrubland\n",
    "    elif 400 <= t < 500: \n",
    "        return 0.2 # Grassland\n",
    "    elif 500 <= t < 600:\n",
    "        return 0.3 # Wetlands\n",
    "    elif 600 <= t < 700: \n",
    "        return 0.3 # Rocky\n",
    "    elif 700 <= t < 800:\n",
    "        return 0.4 # Caves\n",
    "    elif 800 <= t < 900:\n",
    "        return 0.4 # Desert\n",
    "    elif t == 1401:\n",
    "        return 0.6\n",
    "    elif t == 1402: \n",
    "        return 0. # This is very good territory for flyover. \n",
    "    elif t in [1403, 1404]:\n",
    "        return 0.2\n",
    "    elif t == 1405: # Urban\n",
    "        return 0.6\n",
    "    elif t == 1406:\n",
    "        return 0\n",
    "    elif 1507 <= t <= 1510:\n",
    "        return 0.6 \n",
    "    elif t == 1600:\n",
    "        return 0.2\n",
    "    else:\n",
    "        return 1."
   ]
  },
  {
   "cell_type": "code",
   "execution_count": null,
   "metadata": {},
   "outputs": [],
   "source": [
    "def merge_transmission_forest_birds(resistance_d):\n",
    "    \"\"\"Merges the resistance histogram with the observation dictionary.\"\"\"\n",
    "    # These are all the terrains.\n",
    "    terrains = list(resistance_d.keys())\n",
    "    terrains.sort()\n",
    "    # I initialize the transmission using the resistance dictionary.\n",
    "    transmission = {}\n",
    "    for t in terrains:\n",
    "        # Computes the resistance. \n",
    "        r = min(resistance_d.get(t, 1.), resistance_generic_terrain(t))\n",
    "        transmission[t] = (1 - r) ** TRANSMISSION_EXPONENT\n",
    "    return transmission\n"
   ]
  },
  {
   "cell_type": "code",
   "execution_count": null,
   "metadata": {},
   "outputs": [],
   "source": [
    "from collections import defaultdict\n",
    "import matplotlib\n",
    "\n",
    "matplotlib.rc('figure', figsize=(8, 8))\n",
    "\n",
    "def compute_transmission(bird, show=False, use_generic=True):\n",
    "    \"\"\"Diagnoses the terrain for a bird, and computes the transmission\"\"\"\n",
    "    resistance_d = read_resistance_csv(bird.resistance_original_fn)\n",
    "    transmission = merge_transmission_forest_birds(resistance_d)\n",
    "    write_transmission_csv(transmission, bird.transmission_fn)\n",
    "    if show:\n",
    "        plot_histogram(resistance_d, title=\"{} original resistance\".format(bird.name))\n",
    "        plot_histogram(transmission, title=\"{} transmission\".format(bird.name))\n",
    "    print(\"Done\", bird.name)"
   ]
  },
  {
   "cell_type": "code",
   "execution_count": null,
   "metadata": {},
   "outputs": [],
   "source": [
    "compute_transmission(acowoo_run, show=True)"
   ]
  },
  {
   "cell_type": "code",
   "execution_count": null,
   "metadata": {},
   "outputs": [],
   "source": [
    "compute_transmission(oaktit_run, show=True)"
   ]
  },
  {
   "cell_type": "code",
   "execution_count": null,
   "metadata": {},
   "outputs": [],
   "source": [
    "for b in birds:\n",
    "    compute_transmission(b)"
   ]
  }
 ],
 "metadata": {
  "kernelspec": {
   "display_name": "venv37",
   "language": "python",
   "name": "python3"
  },
  "language_info": {
   "codemirror_mode": {
    "name": "ipython",
    "version": 3
   },
   "file_extension": ".py",
   "mimetype": "text/x-python",
   "name": "python",
   "nbconvert_exporter": "python",
   "pygments_lexer": "ipython3",
   "version": "3.7.11"
  },
  "orig_nbformat": 4,
  "vscode": {
   "interpreter": {
    "hash": "788fc90b81460290997b965a508edfe8951a7807de397369836e3df353490b1b"
   }
  }
 },
 "nbformat": 4,
 "nbformat_minor": 2
}
