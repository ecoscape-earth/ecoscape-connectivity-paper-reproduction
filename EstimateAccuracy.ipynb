{
  "nbformat": 4,
  "nbformat_minor": 0,
  "metadata": {
    "colab": {
      "provenance": [],
      "machine_shape": "hm",
      "gpuType": "A100"
    },
    "kernelspec": {
      "name": "python3",
      "display_name": "Python 3"
    },
    "language_info": {
      "name": "python"
    },
    "accelerator": "GPU"
  },
  "cells": [
    {
      "cell_type": "markdown",
      "source": [
        "## Code Setup"
      ],
      "metadata": {
        "id": "LqJ-bVfQgpi-"
      }
    },
    {
      "cell_type": "code",
      "source": [
        "# If True, assumes everything is running locally.\n",
        "IS_LOCAL = False\n",
        "\n",
        "# Path to main directory\n",
        "REMOTE_PATH = \"/content/gdrive/Shareddrives/Birds and CS/Data/CA-paper\"\n",
        "LOCAL_PATH = \"/Users/luca/Library/CloudStorage/GoogleDrive-luca@ucsc.edu/Shared drives/Birds and CS/Data/CA-paper\"\n",
        "DATA_PATH = LOCAL_PATH if IS_LOCAL else REMOTE_PATH\n",
        "\n",
        "# Path to scratch directory where we can put a copy of the database.\n",
        "REMOTE_SCRATCH_PATH = \"/content/temp\"\n",
        "LOCAL_SCRATCH_PATH = \"/Users/luca/temp/ebird\"\n",
        "SCRATCH_PATH = LOCAL_SCRATCH_PATH if IS_LOCAL else REMOTE_SCRATCH_PATH"
      ],
      "metadata": {
        "id": "iHRuGs-jgrFw"
      },
      "execution_count": null,
      "outputs": []
    },
    {
      "cell_type": "code",
      "source": [
        "import os\n",
        "import sys\n",
        "import warnings\n",
        "warnings.filterwarnings(\"ignore\") # Otherwise we get too much spurious output."
      ],
      "metadata": {
        "id": "g-NPiy_LgtpT"
      },
      "execution_count": null,
      "outputs": []
    },
    {
      "cell_type": "code",
      "source": [
        "# Installs required packages\n",
        "if not IS_LOCAL:\n",
        "    !pip install git+https://github.com/ecoscape-earth/ecoscape-connectivity.git\n",
        "    !pip install git+https://github.com/ecoscape-earth/ecoscape-utils.git"
      ],
      "metadata": {
        "colab": {
          "base_uri": "https://localhost:8080/"
        },
        "id": "lCNBoQM31iaW",
        "outputId": "bb73f8f8-d0a9-47ec-ba9b-91d4312fab6c"
      },
      "execution_count": null,
      "outputs": [
        {
          "output_type": "stream",
          "name": "stdout",
          "text": [
            "Collecting git+https://github.com/ecoscape-earth/ecoscape-connectivity.git\n",
            "  Cloning https://github.com/ecoscape-earth/ecoscape-connectivity.git to /tmp/pip-req-build-jp2loazk\n",
            "  Running command git clone --filter=blob:none --quiet https://github.com/ecoscape-earth/ecoscape-connectivity.git /tmp/pip-req-build-jp2loazk\n",
            "  Resolved https://github.com/ecoscape-earth/ecoscape-connectivity.git to commit 635a766ffd45fcc052b80c1ae5ef5a562ed1eea6\n",
            "  Installing build dependencies ... \u001b[?25l\u001b[?25hdone\n",
            "  Getting requirements to build wheel ... \u001b[?25l\u001b[?25hdone\n",
            "  Installing backend dependencies ... \u001b[?25l\u001b[?25hdone\n",
            "  Preparing metadata (pyproject.toml) ... \u001b[?25l\u001b[?25hdone\n",
            "Requirement already satisfied: numpy>=1.20.3 in /usr/local/lib/python3.10/dist-packages (from ecoscape-connectivity==0.0.1) (1.23.5)\n",
            "Collecting scgt>=0.0.4 (from ecoscape-connectivity==0.0.1)\n",
            "  Downloading scgt-0.0.4-py3-none-any.whl (11 kB)\n",
            "Requirement already satisfied: GDAL>=3.4.3 in /usr/local/lib/python3.10/dist-packages (from scgt>=0.0.4->ecoscape-connectivity==0.0.1) (3.4.3)\n",
            "Requirement already satisfied: matplotlib>=3.5.3 in /usr/local/lib/python3.10/dist-packages (from scgt>=0.0.4->ecoscape-connectivity==0.0.1) (3.7.1)\n",
            "Collecting rasterio>=1.2.10 (from scgt>=0.0.4->ecoscape-connectivity==0.0.1)\n",
            "  Downloading rasterio-1.3.8-cp310-cp310-manylinux_2_17_x86_64.manylinux2014_x86_64.whl (21.3 MB)\n",
            "\u001b[2K     \u001b[90m━━━━━━━━━━━━━━━━━━━━━━━━━━━━━━━━━━━━━━━━\u001b[0m \u001b[32m21.3/21.3 MB\u001b[0m \u001b[31m82.6 MB/s\u001b[0m eta \u001b[36m0:00:00\u001b[0m\n",
            "\u001b[?25hRequirement already satisfied: scipy>=1.7.3 in /usr/local/lib/python3.10/dist-packages (from scgt>=0.0.4->ecoscape-connectivity==0.0.1) (1.10.1)\n",
            "Requirement already satisfied: contourpy>=1.0.1 in /usr/local/lib/python3.10/dist-packages (from matplotlib>=3.5.3->scgt>=0.0.4->ecoscape-connectivity==0.0.1) (1.1.0)\n",
            "Requirement already satisfied: cycler>=0.10 in /usr/local/lib/python3.10/dist-packages (from matplotlib>=3.5.3->scgt>=0.0.4->ecoscape-connectivity==0.0.1) (0.11.0)\n",
            "Requirement already satisfied: fonttools>=4.22.0 in /usr/local/lib/python3.10/dist-packages (from matplotlib>=3.5.3->scgt>=0.0.4->ecoscape-connectivity==0.0.1) (4.42.1)\n",
            "Requirement already satisfied: kiwisolver>=1.0.1 in /usr/local/lib/python3.10/dist-packages (from matplotlib>=3.5.3->scgt>=0.0.4->ecoscape-connectivity==0.0.1) (1.4.4)\n",
            "Requirement already satisfied: packaging>=20.0 in /usr/local/lib/python3.10/dist-packages (from matplotlib>=3.5.3->scgt>=0.0.4->ecoscape-connectivity==0.0.1) (23.1)\n",
            "Requirement already satisfied: pillow>=6.2.0 in /usr/local/lib/python3.10/dist-packages (from matplotlib>=3.5.3->scgt>=0.0.4->ecoscape-connectivity==0.0.1) (9.4.0)\n",
            "Requirement already satisfied: pyparsing>=2.3.1 in /usr/local/lib/python3.10/dist-packages (from matplotlib>=3.5.3->scgt>=0.0.4->ecoscape-connectivity==0.0.1) (3.1.1)\n",
            "Requirement already satisfied: python-dateutil>=2.7 in /usr/local/lib/python3.10/dist-packages (from matplotlib>=3.5.3->scgt>=0.0.4->ecoscape-connectivity==0.0.1) (2.8.2)\n",
            "Collecting affine (from rasterio>=1.2.10->scgt>=0.0.4->ecoscape-connectivity==0.0.1)\n",
            "  Downloading affine-2.4.0-py3-none-any.whl (15 kB)\n",
            "Requirement already satisfied: attrs in /usr/local/lib/python3.10/dist-packages (from rasterio>=1.2.10->scgt>=0.0.4->ecoscape-connectivity==0.0.1) (23.1.0)\n",
            "Requirement already satisfied: certifi in /usr/local/lib/python3.10/dist-packages (from rasterio>=1.2.10->scgt>=0.0.4->ecoscape-connectivity==0.0.1) (2023.7.22)\n",
            "Requirement already satisfied: click>=4.0 in /usr/local/lib/python3.10/dist-packages (from rasterio>=1.2.10->scgt>=0.0.4->ecoscape-connectivity==0.0.1) (8.1.7)\n",
            "Requirement already satisfied: cligj>=0.5 in /usr/local/lib/python3.10/dist-packages (from rasterio>=1.2.10->scgt>=0.0.4->ecoscape-connectivity==0.0.1) (0.7.2)\n",
            "Collecting snuggs>=1.4.1 (from rasterio>=1.2.10->scgt>=0.0.4->ecoscape-connectivity==0.0.1)\n",
            "  Downloading snuggs-1.4.7-py3-none-any.whl (5.4 kB)\n",
            "Requirement already satisfied: click-plugins in /usr/local/lib/python3.10/dist-packages (from rasterio>=1.2.10->scgt>=0.0.4->ecoscape-connectivity==0.0.1) (1.1.1)\n",
            "Requirement already satisfied: setuptools in /usr/local/lib/python3.10/dist-packages (from rasterio>=1.2.10->scgt>=0.0.4->ecoscape-connectivity==0.0.1) (67.7.2)\n",
            "Requirement already satisfied: six>=1.5 in /usr/local/lib/python3.10/dist-packages (from python-dateutil>=2.7->matplotlib>=3.5.3->scgt>=0.0.4->ecoscape-connectivity==0.0.1) (1.16.0)\n",
            "Building wheels for collected packages: ecoscape-connectivity\n",
            "  Building wheel for ecoscape-connectivity (pyproject.toml) ... \u001b[?25l\u001b[?25hdone\n",
            "  Created wheel for ecoscape-connectivity: filename=ecoscape_connectivity-0.0.1-py3-none-any.whl size=10668 sha256=cdaee65fa2a8679388d301b67c7cad74f84027ea8bbcc62af3662a1b12f278cf\n",
            "  Stored in directory: /tmp/pip-ephem-wheel-cache-15f8rgl0/wheels/72/73/2c/f3b584a638e8a6a37479ac7d8823cb5a88a277b40f8c2732f4\n",
            "Successfully built ecoscape-connectivity\n",
            "Installing collected packages: snuggs, affine, rasterio, scgt, ecoscape-connectivity\n",
            "Successfully installed affine-2.4.0 ecoscape-connectivity-0.0.1 rasterio-1.3.8 scgt-0.0.4 snuggs-1.4.7\n",
            "Collecting git+https://github.com/ecoscape-earth/ecoscape-utils.git\n",
            "  Cloning https://github.com/ecoscape-earth/ecoscape-utils.git to /tmp/pip-req-build-3ryz7wzc\n",
            "  Running command git clone --filter=blob:none --quiet https://github.com/ecoscape-earth/ecoscape-utils.git /tmp/pip-req-build-3ryz7wzc\n",
            "  Resolved https://github.com/ecoscape-earth/ecoscape-utils.git to commit 2b16f0df44f2ca680712a73b8995489bc53aee1a\n",
            "  Installing build dependencies ... \u001b[?25l\u001b[?25hdone\n",
            "  Getting requirements to build wheel ... \u001b[?25l\u001b[?25hdone\n",
            "  Installing backend dependencies ... \u001b[?25l\u001b[?25hdone\n",
            "  Preparing metadata (pyproject.toml) ... \u001b[?25l\u001b[?25hdone\n",
            "Building wheels for collected packages: ecoscape-utilities\n",
            "  Building wheel for ecoscape-utilities (pyproject.toml) ... \u001b[?25l\u001b[?25hdone\n",
            "  Created wheel for ecoscape-utilities: filename=ecoscape_utilities-0.0.1-py3-none-any.whl size=4148 sha256=2ecfacd68766755790ff1ed66880ef276e6b5ea0c69c9f556c6128562d903317\n",
            "  Stored in directory: /tmp/pip-ephem-wheel-cache-jm64zmll/wheels/1d/13/ba/90a24983fdd79347f60ae8a325d7db12c56af8ef9e9618e34d\n",
            "Successfully built ecoscape-utilities\n",
            "Installing collected packages: ecoscape-utilities\n",
            "Successfully installed ecoscape-utilities-0.0.1\n"
          ]
        }
      ]
    },
    {
      "cell_type": "code",
      "source": [
        "# Connecting to Drive.\n",
        "if not IS_LOCAL:\n",
        "    from google.colab import drive\n",
        "    drive.mount(\"/content/gdrive\", force_remount=True)"
      ],
      "metadata": {
        "colab": {
          "base_uri": "https://localhost:8080/"
        },
        "id": "eglkqZWmhBeV",
        "outputId": "bde4f9b0-8ee9-41a4-d60d-d3be1ad925ad"
      },
      "execution_count": null,
      "outputs": [
        {
          "output_type": "stream",
          "name": "stdout",
          "text": [
            "Mounted at /content/gdrive\n"
          ]
        }
      ]
    },
    {
      "cell_type": "code",
      "source": [
        "import time\n",
        "from ecoscape_utilities import BirdRun\n",
        "from ecoscape_connectivity import compute_connectivity\n",
        "from ecoscape_connectivity.util import read_transmission_csv\n",
        "from scgt import GeoTiff"
      ],
      "metadata": {
        "id": "ut_MEIF7hC__"
      },
      "execution_count": null,
      "outputs": []
    },
    {
      "cell_type": "markdown",
      "source": [
        "## Run definitions"
      ],
      "metadata": {
        "id": "TMqlC9y1hSf1"
      }
    },
    {
      "cell_type": "code",
      "source": [
        "bird_run = BirdRun(DATA_PATH)\n",
        "\n",
        "birds = []\n",
        "\n",
        "ORIG_NUM_SIMULATIONS = 400\n",
        "NUM_SIMULATIONS = 40\n",
        "TRANSMISSION_EXPONENT = 1\n",
        "BIRD_RUN = \"Aug24-timing\"\n",
        "\n",
        "birds.append(bird_run.get_bird_run(\n",
        "    \"acowoo\", \"Acorn Woodpecker\",\n",
        "    run_name=BIRD_RUN,\n",
        "    do_validation=False, do_gradient=True,\n",
        "    hop_distance=2, num_spreads=20,\n",
        "    num_simulations=NUM_SIMULATIONS,\n",
        "    transmission_exponent=TRANSMISSION_EXPONENT))\n",
        "\n",
        "birds.append(bird_run.get_bird_run(\n",
        "    \"stejay\", \"Steller's Jay\",\n",
        "    run_name=BIRD_RUN,\n",
        "    do_validation=False, do_gradient=True,\n",
        "    hop_distance=1, num_spreads=6,\n",
        "    num_simulations=NUM_SIMULATIONS,\n",
        "    transmission_exponent=TRANSMISSION_EXPONENT))\n",
        "\n",
        "birds.append(bird_run.get_bird_run(\n",
        "    \"oaktit308\", \"Oak Titmouse\",\n",
        "    run_name=BIRD_RUN,\n",
        "    do_validation=False, do_gradient=True,\n",
        "    hop_distance=3, num_spreads=2,\n",
        "    num_simulations=NUM_SIMULATIONS,\n",
        "    transmission_exponent=TRANSMISSION_EXPONENT))\n"
      ],
      "metadata": {
        "id": "3j3WdmrGhKkd"
      },
      "execution_count": null,
      "outputs": []
    },
    {
      "cell_type": "code",
      "source": [
        "import numpy as np\n",
        "import math"
      ],
      "metadata": {
        "id": "_rWaqdMspk0C"
      },
      "execution_count": null,
      "outputs": []
    },
    {
      "cell_type": "code",
      "source": [
        "# Let's do the bird runs.\n",
        "OUT_CONNECTIVITY = \"connectivity.tif\"\n",
        "OUT_FLOW = \"flow.tif\"\n",
        "NUM_RUNS = 100\n",
        "\n",
        "t = time.time()\n",
        "conn_variance = {}\n",
        "flow_variance = {}\n",
        "for bird in birds:\n",
        "\n",
        "    # Reads and translates the resistance dictionary.\n",
        "    transmission_d = read_transmission_csv(bird.transmission_fn)\n",
        "\n",
        "    # Performs a number of analysis, and measures accuracy of results.\n",
        "    conn_acc_sum = None\n",
        "    conn_acc_sqr = None\n",
        "    flow_acc_sum = None\n",
        "    flow_acc_sqr = None\n",
        "    for run_idx in range(NUM_RUNS):\n",
        "        # Performs the analysis\n",
        "        compute_connectivity(\n",
        "            habitat_fn=bird.habitat_fn,\n",
        "            terrain_fn=bird.terrain_fn,\n",
        "            connectivity_fn=OUT_CONNECTIVITY,\n",
        "            flow_fn=OUT_FLOW,\n",
        "            permeability_dict=transmission_d,\n",
        "            gap_crossing=bird.hop_distance,\n",
        "            num_gaps=bird.num_spreads,\n",
        "            num_simulations=bird.num_simulations,\n",
        "            seed_density=4,\n",
        "            single_tile=False,\n",
        "            tile_size=1024,\n",
        "            tile_border=256,\n",
        "        )\n",
        "        # Reads the results back.\n",
        "        with GeoTiff.from_file(OUT_CONNECTIVITY) as f:\n",
        "            tile = f.get_all_as_tile()\n",
        "            m = tile.m / 255 # To normalize range.\n",
        "            if conn_acc_sum is None:\n",
        "                conn_acc_sum = np.array(m)\n",
        "                conn_acc_sqr = np.array(m) ** 2\n",
        "            else:\n",
        "                conn_acc_sum += np.array(m)\n",
        "                conn_acc_sqr += np.array(m) ** 2\n",
        "        with GeoTiff.from_file(OUT_FLOW) as f:\n",
        "            tile = f.get_all_as_tile()\n",
        "            m = (10 ** (tile.m / 20)) - 1\n",
        "            if flow_acc_sum is None:\n",
        "                flow_acc_sum = np.array(m)\n",
        "                flow_acc_sqr = np.array(m) ** 2\n",
        "            else:\n",
        "                flow_acc_sum += np.array(m)\n",
        "                flow_acc_sqr += np.array(m) ** 2\n",
        "        print(\"Done run\", run_idx, \"for bird\", bird.name)\n",
        "    # Connectivity\n",
        "    conn_bird_avg = conn_acc_sum / NUM_RUNS\n",
        "    conn_bird_var = (conn_acc_sqr / NUM_RUNS) - (conn_bird_avg ** 2)\n",
        "    conn_variance[bird.nickname] = conn_bird_var\n",
        "    # Flow\n",
        "    flow_bird_avg = flow_acc_sum / NUM_RUNS\n",
        "    flow_bird_var = (flow_acc_sqr / NUM_RUNS) - (flow_bird_avg ** 2)\n",
        "    flow_variance[bird.nickname] = flow_bird_var"
      ],
      "metadata": {
        "colab": {
          "base_uri": "https://localhost:8080/"
        },
        "id": "-zL_tz9khb84",
        "outputId": "9b195622-3bf1-4e85-e2d0-4e38835458fd"
      },
      "execution_count": null,
      "outputs": [
        {
          "output_type": "stream",
          "name": "stderr",
          "text": [
            "WARNING:rasterio._env:CPLE_NotSupported in driver GTiff does not support open option BLOCKYSIZE\n",
            "WARNING:rasterio._env:CPLE_NotSupported in driver GTiff does not support open option COMPRESS\n",
            "WARNING:rasterio._env:CPLE_NotSupported in driver GTiff does not support open option INTERLEAVE\n",
            "WARNING:rasterio._env:CPLE_NotSupported in driver GTiff does not support open option BLOCKYSIZE\n",
            "WARNING:rasterio._env:CPLE_NotSupported in driver GTiff does not support open option COMPRESS\n",
            "WARNING:rasterio._env:CPLE_NotSupported in driver GTiff does not support open option INTERLEAVE\n",
            "WARNING:rasterio._env:CPLE_NotSupported in driver GTiff does not support open option BLOCKYSIZE\n",
            "WARNING:rasterio._env:CPLE_NotSupported in driver GTiff does not support open option COMPRESS\n",
            "WARNING:rasterio._env:CPLE_NotSupported in driver GTiff does not support open option INTERLEAVE\n",
            "WARNING:rasterio._env:CPLE_NotSupported in driver GTiff does not support open option BLOCKYSIZE\n",
            "WARNING:rasterio._env:CPLE_NotSupported in driver GTiff does not support open option COMPRESS\n",
            "WARNING:rasterio._env:CPLE_NotSupported in driver GTiff does not support open option INTERLEAVE\n"
          ]
        },
        {
          "output_type": "stream",
          "name": "stdout",
          "text": [
            "Done run 0 for bird Acorn Woodpecker\n"
          ]
        },
        {
          "output_type": "stream",
          "name": "stderr",
          "text": [
            "WARNING:rasterio._env:CPLE_NotSupported in driver GTiff does not support open option BLOCKYSIZE\n",
            "WARNING:rasterio._env:CPLE_NotSupported in driver GTiff does not support open option COMPRESS\n",
            "WARNING:rasterio._env:CPLE_NotSupported in driver GTiff does not support open option INTERLEAVE\n",
            "WARNING:rasterio._env:CPLE_NotSupported in driver GTiff does not support open option BLOCKYSIZE\n",
            "WARNING:rasterio._env:CPLE_NotSupported in driver GTiff does not support open option COMPRESS\n",
            "WARNING:rasterio._env:CPLE_NotSupported in driver GTiff does not support open option INTERLEAVE\n"
          ]
        },
        {
          "output_type": "stream",
          "name": "stdout",
          "text": [
            "Done run 1 for bird Acorn Woodpecker\n"
          ]
        },
        {
          "output_type": "stream",
          "name": "stderr",
          "text": [
            "WARNING:rasterio._env:CPLE_NotSupported in driver GTiff does not support open option BLOCKYSIZE\n",
            "WARNING:rasterio._env:CPLE_NotSupported in driver GTiff does not support open option COMPRESS\n",
            "WARNING:rasterio._env:CPLE_NotSupported in driver GTiff does not support open option INTERLEAVE\n",
            "WARNING:rasterio._env:CPLE_NotSupported in driver GTiff does not support open option BLOCKYSIZE\n",
            "WARNING:rasterio._env:CPLE_NotSupported in driver GTiff does not support open option COMPRESS\n",
            "WARNING:rasterio._env:CPLE_NotSupported in driver GTiff does not support open option INTERLEAVE\n"
          ]
        },
        {
          "output_type": "stream",
          "name": "stdout",
          "text": [
            "Done run 2 for bird Acorn Woodpecker\n"
          ]
        },
        {
          "output_type": "stream",
          "name": "stderr",
          "text": [
            "WARNING:rasterio._env:CPLE_NotSupported in driver GTiff does not support open option BLOCKYSIZE\n",
            "WARNING:rasterio._env:CPLE_NotSupported in driver GTiff does not support open option COMPRESS\n",
            "WARNING:rasterio._env:CPLE_NotSupported in driver GTiff does not support open option INTERLEAVE\n",
            "WARNING:rasterio._env:CPLE_NotSupported in driver GTiff does not support open option BLOCKYSIZE\n",
            "WARNING:rasterio._env:CPLE_NotSupported in driver GTiff does not support open option COMPRESS\n",
            "WARNING:rasterio._env:CPLE_NotSupported in driver GTiff does not support open option INTERLEAVE\n"
          ]
        },
        {
          "output_type": "stream",
          "name": "stdout",
          "text": [
            "Done run 3 for bird Acorn Woodpecker\n"
          ]
        },
        {
          "output_type": "stream",
          "name": "stderr",
          "text": [
            "WARNING:rasterio._env:CPLE_NotSupported in driver GTiff does not support open option BLOCKYSIZE\n",
            "WARNING:rasterio._env:CPLE_NotSupported in driver GTiff does not support open option COMPRESS\n",
            "WARNING:rasterio._env:CPLE_NotSupported in driver GTiff does not support open option INTERLEAVE\n",
            "WARNING:rasterio._env:CPLE_NotSupported in driver GTiff does not support open option BLOCKYSIZE\n",
            "WARNING:rasterio._env:CPLE_NotSupported in driver GTiff does not support open option COMPRESS\n",
            "WARNING:rasterio._env:CPLE_NotSupported in driver GTiff does not support open option INTERLEAVE\n"
          ]
        },
        {
          "output_type": "stream",
          "name": "stdout",
          "text": [
            "Done run 4 for bird Acorn Woodpecker\n"
          ]
        },
        {
          "output_type": "stream",
          "name": "stderr",
          "text": [
            "WARNING:rasterio._env:CPLE_NotSupported in driver GTiff does not support open option BLOCKYSIZE\n",
            "WARNING:rasterio._env:CPLE_NotSupported in driver GTiff does not support open option COMPRESS\n",
            "WARNING:rasterio._env:CPLE_NotSupported in driver GTiff does not support open option INTERLEAVE\n",
            "WARNING:rasterio._env:CPLE_NotSupported in driver GTiff does not support open option BLOCKYSIZE\n",
            "WARNING:rasterio._env:CPLE_NotSupported in driver GTiff does not support open option COMPRESS\n",
            "WARNING:rasterio._env:CPLE_NotSupported in driver GTiff does not support open option INTERLEAVE\n"
          ]
        },
        {
          "output_type": "stream",
          "name": "stdout",
          "text": [
            "Done run 5 for bird Acorn Woodpecker\n"
          ]
        },
        {
          "output_type": "stream",
          "name": "stderr",
          "text": [
            "WARNING:rasterio._env:CPLE_NotSupported in driver GTiff does not support open option BLOCKYSIZE\n",
            "WARNING:rasterio._env:CPLE_NotSupported in driver GTiff does not support open option COMPRESS\n",
            "WARNING:rasterio._env:CPLE_NotSupported in driver GTiff does not support open option INTERLEAVE\n",
            "WARNING:rasterio._env:CPLE_NotSupported in driver GTiff does not support open option BLOCKYSIZE\n",
            "WARNING:rasterio._env:CPLE_NotSupported in driver GTiff does not support open option COMPRESS\n",
            "WARNING:rasterio._env:CPLE_NotSupported in driver GTiff does not support open option INTERLEAVE\n"
          ]
        },
        {
          "output_type": "stream",
          "name": "stdout",
          "text": [
            "Done run 6 for bird Acorn Woodpecker\n"
          ]
        },
        {
          "output_type": "stream",
          "name": "stderr",
          "text": [
            "WARNING:rasterio._env:CPLE_NotSupported in driver GTiff does not support open option BLOCKYSIZE\n",
            "WARNING:rasterio._env:CPLE_NotSupported in driver GTiff does not support open option COMPRESS\n",
            "WARNING:rasterio._env:CPLE_NotSupported in driver GTiff does not support open option INTERLEAVE\n",
            "WARNING:rasterio._env:CPLE_NotSupported in driver GTiff does not support open option BLOCKYSIZE\n",
            "WARNING:rasterio._env:CPLE_NotSupported in driver GTiff does not support open option COMPRESS\n",
            "WARNING:rasterio._env:CPLE_NotSupported in driver GTiff does not support open option INTERLEAVE\n"
          ]
        },
        {
          "output_type": "stream",
          "name": "stdout",
          "text": [
            "Done run 7 for bird Acorn Woodpecker\n"
          ]
        },
        {
          "output_type": "stream",
          "name": "stderr",
          "text": [
            "WARNING:rasterio._env:CPLE_NotSupported in driver GTiff does not support open option BLOCKYSIZE\n",
            "WARNING:rasterio._env:CPLE_NotSupported in driver GTiff does not support open option COMPRESS\n",
            "WARNING:rasterio._env:CPLE_NotSupported in driver GTiff does not support open option INTERLEAVE\n",
            "WARNING:rasterio._env:CPLE_NotSupported in driver GTiff does not support open option BLOCKYSIZE\n",
            "WARNING:rasterio._env:CPLE_NotSupported in driver GTiff does not support open option COMPRESS\n",
            "WARNING:rasterio._env:CPLE_NotSupported in driver GTiff does not support open option INTERLEAVE\n"
          ]
        },
        {
          "output_type": "stream",
          "name": "stdout",
          "text": [
            "Done run 8 for bird Acorn Woodpecker\n"
          ]
        },
        {
          "output_type": "stream",
          "name": "stderr",
          "text": [
            "WARNING:rasterio._env:CPLE_NotSupported in driver GTiff does not support open option BLOCKYSIZE\n",
            "WARNING:rasterio._env:CPLE_NotSupported in driver GTiff does not support open option COMPRESS\n",
            "WARNING:rasterio._env:CPLE_NotSupported in driver GTiff does not support open option INTERLEAVE\n",
            "WARNING:rasterio._env:CPLE_NotSupported in driver GTiff does not support open option BLOCKYSIZE\n",
            "WARNING:rasterio._env:CPLE_NotSupported in driver GTiff does not support open option COMPRESS\n",
            "WARNING:rasterio._env:CPLE_NotSupported in driver GTiff does not support open option INTERLEAVE\n"
          ]
        },
        {
          "output_type": "stream",
          "name": "stdout",
          "text": [
            "Done run 9 for bird Acorn Woodpecker\n"
          ]
        },
        {
          "output_type": "stream",
          "name": "stderr",
          "text": [
            "WARNING:rasterio._env:CPLE_NotSupported in driver GTiff does not support open option BLOCKYSIZE\n",
            "WARNING:rasterio._env:CPLE_NotSupported in driver GTiff does not support open option COMPRESS\n",
            "WARNING:rasterio._env:CPLE_NotSupported in driver GTiff does not support open option INTERLEAVE\n",
            "WARNING:rasterio._env:CPLE_NotSupported in driver GTiff does not support open option BLOCKYSIZE\n",
            "WARNING:rasterio._env:CPLE_NotSupported in driver GTiff does not support open option COMPRESS\n",
            "WARNING:rasterio._env:CPLE_NotSupported in driver GTiff does not support open option INTERLEAVE\n"
          ]
        },
        {
          "output_type": "stream",
          "name": "stdout",
          "text": [
            "Done run 10 for bird Acorn Woodpecker\n"
          ]
        },
        {
          "output_type": "stream",
          "name": "stderr",
          "text": [
            "WARNING:rasterio._env:CPLE_NotSupported in driver GTiff does not support open option BLOCKYSIZE\n",
            "WARNING:rasterio._env:CPLE_NotSupported in driver GTiff does not support open option COMPRESS\n",
            "WARNING:rasterio._env:CPLE_NotSupported in driver GTiff does not support open option INTERLEAVE\n",
            "WARNING:rasterio._env:CPLE_NotSupported in driver GTiff does not support open option BLOCKYSIZE\n",
            "WARNING:rasterio._env:CPLE_NotSupported in driver GTiff does not support open option COMPRESS\n",
            "WARNING:rasterio._env:CPLE_NotSupported in driver GTiff does not support open option INTERLEAVE\n"
          ]
        },
        {
          "output_type": "stream",
          "name": "stdout",
          "text": [
            "Done run 11 for bird Acorn Woodpecker\n"
          ]
        },
        {
          "output_type": "stream",
          "name": "stderr",
          "text": [
            "WARNING:rasterio._env:CPLE_NotSupported in driver GTiff does not support open option BLOCKYSIZE\n",
            "WARNING:rasterio._env:CPLE_NotSupported in driver GTiff does not support open option COMPRESS\n",
            "WARNING:rasterio._env:CPLE_NotSupported in driver GTiff does not support open option INTERLEAVE\n",
            "WARNING:rasterio._env:CPLE_NotSupported in driver GTiff does not support open option BLOCKYSIZE\n",
            "WARNING:rasterio._env:CPLE_NotSupported in driver GTiff does not support open option COMPRESS\n",
            "WARNING:rasterio._env:CPLE_NotSupported in driver GTiff does not support open option INTERLEAVE\n"
          ]
        },
        {
          "output_type": "stream",
          "name": "stdout",
          "text": [
            "Done run 12 for bird Acorn Woodpecker\n"
          ]
        },
        {
          "output_type": "stream",
          "name": "stderr",
          "text": [
            "WARNING:rasterio._env:CPLE_NotSupported in driver GTiff does not support open option BLOCKYSIZE\n",
            "WARNING:rasterio._env:CPLE_NotSupported in driver GTiff does not support open option COMPRESS\n",
            "WARNING:rasterio._env:CPLE_NotSupported in driver GTiff does not support open option INTERLEAVE\n",
            "WARNING:rasterio._env:CPLE_NotSupported in driver GTiff does not support open option BLOCKYSIZE\n",
            "WARNING:rasterio._env:CPLE_NotSupported in driver GTiff does not support open option COMPRESS\n",
            "WARNING:rasterio._env:CPLE_NotSupported in driver GTiff does not support open option INTERLEAVE\n"
          ]
        },
        {
          "output_type": "stream",
          "name": "stdout",
          "text": [
            "Done run 13 for bird Acorn Woodpecker\n"
          ]
        },
        {
          "output_type": "stream",
          "name": "stderr",
          "text": [
            "WARNING:rasterio._env:CPLE_NotSupported in driver GTiff does not support open option BLOCKYSIZE\n",
            "WARNING:rasterio._env:CPLE_NotSupported in driver GTiff does not support open option COMPRESS\n",
            "WARNING:rasterio._env:CPLE_NotSupported in driver GTiff does not support open option INTERLEAVE\n",
            "WARNING:rasterio._env:CPLE_NotSupported in driver GTiff does not support open option BLOCKYSIZE\n",
            "WARNING:rasterio._env:CPLE_NotSupported in driver GTiff does not support open option COMPRESS\n",
            "WARNING:rasterio._env:CPLE_NotSupported in driver GTiff does not support open option INTERLEAVE\n"
          ]
        },
        {
          "output_type": "stream",
          "name": "stdout",
          "text": [
            "Done run 14 for bird Acorn Woodpecker\n"
          ]
        },
        {
          "output_type": "stream",
          "name": "stderr",
          "text": [
            "WARNING:rasterio._env:CPLE_NotSupported in driver GTiff does not support open option BLOCKYSIZE\n",
            "WARNING:rasterio._env:CPLE_NotSupported in driver GTiff does not support open option COMPRESS\n",
            "WARNING:rasterio._env:CPLE_NotSupported in driver GTiff does not support open option INTERLEAVE\n",
            "WARNING:rasterio._env:CPLE_NotSupported in driver GTiff does not support open option BLOCKYSIZE\n",
            "WARNING:rasterio._env:CPLE_NotSupported in driver GTiff does not support open option COMPRESS\n",
            "WARNING:rasterio._env:CPLE_NotSupported in driver GTiff does not support open option INTERLEAVE\n"
          ]
        },
        {
          "output_type": "stream",
          "name": "stdout",
          "text": [
            "Done run 15 for bird Acorn Woodpecker\n"
          ]
        },
        {
          "output_type": "stream",
          "name": "stderr",
          "text": [
            "WARNING:rasterio._env:CPLE_NotSupported in driver GTiff does not support open option BLOCKYSIZE\n",
            "WARNING:rasterio._env:CPLE_NotSupported in driver GTiff does not support open option COMPRESS\n",
            "WARNING:rasterio._env:CPLE_NotSupported in driver GTiff does not support open option INTERLEAVE\n",
            "WARNING:rasterio._env:CPLE_NotSupported in driver GTiff does not support open option BLOCKYSIZE\n",
            "WARNING:rasterio._env:CPLE_NotSupported in driver GTiff does not support open option COMPRESS\n",
            "WARNING:rasterio._env:CPLE_NotSupported in driver GTiff does not support open option INTERLEAVE\n"
          ]
        },
        {
          "output_type": "stream",
          "name": "stdout",
          "text": [
            "Done run 16 for bird Acorn Woodpecker\n"
          ]
        },
        {
          "output_type": "stream",
          "name": "stderr",
          "text": [
            "WARNING:rasterio._env:CPLE_NotSupported in driver GTiff does not support open option BLOCKYSIZE\n",
            "WARNING:rasterio._env:CPLE_NotSupported in driver GTiff does not support open option COMPRESS\n",
            "WARNING:rasterio._env:CPLE_NotSupported in driver GTiff does not support open option INTERLEAVE\n",
            "WARNING:rasterio._env:CPLE_NotSupported in driver GTiff does not support open option BLOCKYSIZE\n",
            "WARNING:rasterio._env:CPLE_NotSupported in driver GTiff does not support open option COMPRESS\n",
            "WARNING:rasterio._env:CPLE_NotSupported in driver GTiff does not support open option INTERLEAVE\n"
          ]
        },
        {
          "output_type": "stream",
          "name": "stdout",
          "text": [
            "Done run 17 for bird Acorn Woodpecker\n"
          ]
        },
        {
          "output_type": "stream",
          "name": "stderr",
          "text": [
            "WARNING:rasterio._env:CPLE_NotSupported in driver GTiff does not support open option BLOCKYSIZE\n",
            "WARNING:rasterio._env:CPLE_NotSupported in driver GTiff does not support open option COMPRESS\n",
            "WARNING:rasterio._env:CPLE_NotSupported in driver GTiff does not support open option INTERLEAVE\n",
            "WARNING:rasterio._env:CPLE_NotSupported in driver GTiff does not support open option BLOCKYSIZE\n",
            "WARNING:rasterio._env:CPLE_NotSupported in driver GTiff does not support open option COMPRESS\n",
            "WARNING:rasterio._env:CPLE_NotSupported in driver GTiff does not support open option INTERLEAVE\n"
          ]
        },
        {
          "output_type": "stream",
          "name": "stdout",
          "text": [
            "Done run 18 for bird Acorn Woodpecker\n"
          ]
        },
        {
          "output_type": "stream",
          "name": "stderr",
          "text": [
            "WARNING:rasterio._env:CPLE_NotSupported in driver GTiff does not support open option BLOCKYSIZE\n",
            "WARNING:rasterio._env:CPLE_NotSupported in driver GTiff does not support open option COMPRESS\n",
            "WARNING:rasterio._env:CPLE_NotSupported in driver GTiff does not support open option INTERLEAVE\n",
            "WARNING:rasterio._env:CPLE_NotSupported in driver GTiff does not support open option BLOCKYSIZE\n",
            "WARNING:rasterio._env:CPLE_NotSupported in driver GTiff does not support open option COMPRESS\n",
            "WARNING:rasterio._env:CPLE_NotSupported in driver GTiff does not support open option INTERLEAVE\n"
          ]
        },
        {
          "output_type": "stream",
          "name": "stdout",
          "text": [
            "Done run 19 for bird Acorn Woodpecker\n"
          ]
        },
        {
          "output_type": "stream",
          "name": "stderr",
          "text": [
            "WARNING:rasterio._env:CPLE_NotSupported in driver GTiff does not support open option BLOCKYSIZE\n",
            "WARNING:rasterio._env:CPLE_NotSupported in driver GTiff does not support open option COMPRESS\n",
            "WARNING:rasterio._env:CPLE_NotSupported in driver GTiff does not support open option INTERLEAVE\n",
            "WARNING:rasterio._env:CPLE_NotSupported in driver GTiff does not support open option BLOCKYSIZE\n",
            "WARNING:rasterio._env:CPLE_NotSupported in driver GTiff does not support open option COMPRESS\n",
            "WARNING:rasterio._env:CPLE_NotSupported in driver GTiff does not support open option INTERLEAVE\n"
          ]
        },
        {
          "output_type": "stream",
          "name": "stdout",
          "text": [
            "Done run 20 for bird Acorn Woodpecker\n"
          ]
        },
        {
          "output_type": "stream",
          "name": "stderr",
          "text": [
            "WARNING:rasterio._env:CPLE_NotSupported in driver GTiff does not support open option BLOCKYSIZE\n",
            "WARNING:rasterio._env:CPLE_NotSupported in driver GTiff does not support open option COMPRESS\n",
            "WARNING:rasterio._env:CPLE_NotSupported in driver GTiff does not support open option INTERLEAVE\n",
            "WARNING:rasterio._env:CPLE_NotSupported in driver GTiff does not support open option BLOCKYSIZE\n",
            "WARNING:rasterio._env:CPLE_NotSupported in driver GTiff does not support open option COMPRESS\n",
            "WARNING:rasterio._env:CPLE_NotSupported in driver GTiff does not support open option INTERLEAVE\n"
          ]
        },
        {
          "output_type": "stream",
          "name": "stdout",
          "text": [
            "Done run 21 for bird Acorn Woodpecker\n"
          ]
        },
        {
          "output_type": "stream",
          "name": "stderr",
          "text": [
            "WARNING:rasterio._env:CPLE_NotSupported in driver GTiff does not support open option BLOCKYSIZE\n",
            "WARNING:rasterio._env:CPLE_NotSupported in driver GTiff does not support open option COMPRESS\n",
            "WARNING:rasterio._env:CPLE_NotSupported in driver GTiff does not support open option INTERLEAVE\n",
            "WARNING:rasterio._env:CPLE_NotSupported in driver GTiff does not support open option BLOCKYSIZE\n",
            "WARNING:rasterio._env:CPLE_NotSupported in driver GTiff does not support open option COMPRESS\n",
            "WARNING:rasterio._env:CPLE_NotSupported in driver GTiff does not support open option INTERLEAVE\n"
          ]
        },
        {
          "output_type": "stream",
          "name": "stdout",
          "text": [
            "Done run 22 for bird Acorn Woodpecker\n"
          ]
        },
        {
          "output_type": "stream",
          "name": "stderr",
          "text": [
            "WARNING:rasterio._env:CPLE_NotSupported in driver GTiff does not support open option BLOCKYSIZE\n",
            "WARNING:rasterio._env:CPLE_NotSupported in driver GTiff does not support open option COMPRESS\n",
            "WARNING:rasterio._env:CPLE_NotSupported in driver GTiff does not support open option INTERLEAVE\n",
            "WARNING:rasterio._env:CPLE_NotSupported in driver GTiff does not support open option BLOCKYSIZE\n",
            "WARNING:rasterio._env:CPLE_NotSupported in driver GTiff does not support open option COMPRESS\n",
            "WARNING:rasterio._env:CPLE_NotSupported in driver GTiff does not support open option INTERLEAVE\n"
          ]
        },
        {
          "output_type": "stream",
          "name": "stdout",
          "text": [
            "Done run 23 for bird Acorn Woodpecker\n"
          ]
        },
        {
          "output_type": "stream",
          "name": "stderr",
          "text": [
            "WARNING:rasterio._env:CPLE_NotSupported in driver GTiff does not support open option BLOCKYSIZE\n",
            "WARNING:rasterio._env:CPLE_NotSupported in driver GTiff does not support open option COMPRESS\n",
            "WARNING:rasterio._env:CPLE_NotSupported in driver GTiff does not support open option INTERLEAVE\n",
            "WARNING:rasterio._env:CPLE_NotSupported in driver GTiff does not support open option BLOCKYSIZE\n",
            "WARNING:rasterio._env:CPLE_NotSupported in driver GTiff does not support open option COMPRESS\n",
            "WARNING:rasterio._env:CPLE_NotSupported in driver GTiff does not support open option INTERLEAVE\n"
          ]
        },
        {
          "output_type": "stream",
          "name": "stdout",
          "text": [
            "Done run 24 for bird Acorn Woodpecker\n"
          ]
        },
        {
          "output_type": "stream",
          "name": "stderr",
          "text": [
            "WARNING:rasterio._env:CPLE_NotSupported in driver GTiff does not support open option BLOCKYSIZE\n",
            "WARNING:rasterio._env:CPLE_NotSupported in driver GTiff does not support open option COMPRESS\n",
            "WARNING:rasterio._env:CPLE_NotSupported in driver GTiff does not support open option INTERLEAVE\n",
            "WARNING:rasterio._env:CPLE_NotSupported in driver GTiff does not support open option BLOCKYSIZE\n",
            "WARNING:rasterio._env:CPLE_NotSupported in driver GTiff does not support open option COMPRESS\n",
            "WARNING:rasterio._env:CPLE_NotSupported in driver GTiff does not support open option INTERLEAVE\n"
          ]
        },
        {
          "output_type": "stream",
          "name": "stdout",
          "text": [
            "Done run 25 for bird Acorn Woodpecker\n"
          ]
        },
        {
          "output_type": "stream",
          "name": "stderr",
          "text": [
            "WARNING:rasterio._env:CPLE_NotSupported in driver GTiff does not support open option BLOCKYSIZE\n",
            "WARNING:rasterio._env:CPLE_NotSupported in driver GTiff does not support open option COMPRESS\n",
            "WARNING:rasterio._env:CPLE_NotSupported in driver GTiff does not support open option INTERLEAVE\n",
            "WARNING:rasterio._env:CPLE_NotSupported in driver GTiff does not support open option BLOCKYSIZE\n",
            "WARNING:rasterio._env:CPLE_NotSupported in driver GTiff does not support open option COMPRESS\n",
            "WARNING:rasterio._env:CPLE_NotSupported in driver GTiff does not support open option INTERLEAVE\n"
          ]
        },
        {
          "output_type": "stream",
          "name": "stdout",
          "text": [
            "Done run 26 for bird Acorn Woodpecker\n"
          ]
        },
        {
          "output_type": "stream",
          "name": "stderr",
          "text": [
            "WARNING:rasterio._env:CPLE_NotSupported in driver GTiff does not support open option BLOCKYSIZE\n",
            "WARNING:rasterio._env:CPLE_NotSupported in driver GTiff does not support open option COMPRESS\n",
            "WARNING:rasterio._env:CPLE_NotSupported in driver GTiff does not support open option INTERLEAVE\n",
            "WARNING:rasterio._env:CPLE_NotSupported in driver GTiff does not support open option BLOCKYSIZE\n",
            "WARNING:rasterio._env:CPLE_NotSupported in driver GTiff does not support open option COMPRESS\n",
            "WARNING:rasterio._env:CPLE_NotSupported in driver GTiff does not support open option INTERLEAVE\n"
          ]
        },
        {
          "output_type": "stream",
          "name": "stdout",
          "text": [
            "Done run 27 for bird Acorn Woodpecker\n"
          ]
        },
        {
          "output_type": "stream",
          "name": "stderr",
          "text": [
            "WARNING:rasterio._env:CPLE_NotSupported in driver GTiff does not support open option BLOCKYSIZE\n",
            "WARNING:rasterio._env:CPLE_NotSupported in driver GTiff does not support open option COMPRESS\n",
            "WARNING:rasterio._env:CPLE_NotSupported in driver GTiff does not support open option INTERLEAVE\n",
            "WARNING:rasterio._env:CPLE_NotSupported in driver GTiff does not support open option BLOCKYSIZE\n",
            "WARNING:rasterio._env:CPLE_NotSupported in driver GTiff does not support open option COMPRESS\n",
            "WARNING:rasterio._env:CPLE_NotSupported in driver GTiff does not support open option INTERLEAVE\n"
          ]
        },
        {
          "output_type": "stream",
          "name": "stdout",
          "text": [
            "Done run 28 for bird Acorn Woodpecker\n"
          ]
        },
        {
          "output_type": "stream",
          "name": "stderr",
          "text": [
            "WARNING:rasterio._env:CPLE_NotSupported in driver GTiff does not support open option BLOCKYSIZE\n",
            "WARNING:rasterio._env:CPLE_NotSupported in driver GTiff does not support open option COMPRESS\n",
            "WARNING:rasterio._env:CPLE_NotSupported in driver GTiff does not support open option INTERLEAVE\n",
            "WARNING:rasterio._env:CPLE_NotSupported in driver GTiff does not support open option BLOCKYSIZE\n",
            "WARNING:rasterio._env:CPLE_NotSupported in driver GTiff does not support open option COMPRESS\n",
            "WARNING:rasterio._env:CPLE_NotSupported in driver GTiff does not support open option INTERLEAVE\n"
          ]
        },
        {
          "output_type": "stream",
          "name": "stdout",
          "text": [
            "Done run 29 for bird Acorn Woodpecker\n"
          ]
        },
        {
          "output_type": "stream",
          "name": "stderr",
          "text": [
            "WARNING:rasterio._env:CPLE_NotSupported in driver GTiff does not support open option BLOCKYSIZE\n",
            "WARNING:rasterio._env:CPLE_NotSupported in driver GTiff does not support open option COMPRESS\n",
            "WARNING:rasterio._env:CPLE_NotSupported in driver GTiff does not support open option INTERLEAVE\n",
            "WARNING:rasterio._env:CPLE_NotSupported in driver GTiff does not support open option BLOCKYSIZE\n",
            "WARNING:rasterio._env:CPLE_NotSupported in driver GTiff does not support open option COMPRESS\n",
            "WARNING:rasterio._env:CPLE_NotSupported in driver GTiff does not support open option INTERLEAVE\n"
          ]
        },
        {
          "output_type": "stream",
          "name": "stdout",
          "text": [
            "Done run 30 for bird Acorn Woodpecker\n"
          ]
        },
        {
          "output_type": "stream",
          "name": "stderr",
          "text": [
            "WARNING:rasterio._env:CPLE_NotSupported in driver GTiff does not support open option BLOCKYSIZE\n",
            "WARNING:rasterio._env:CPLE_NotSupported in driver GTiff does not support open option COMPRESS\n",
            "WARNING:rasterio._env:CPLE_NotSupported in driver GTiff does not support open option INTERLEAVE\n",
            "WARNING:rasterio._env:CPLE_NotSupported in driver GTiff does not support open option BLOCKYSIZE\n",
            "WARNING:rasterio._env:CPLE_NotSupported in driver GTiff does not support open option COMPRESS\n",
            "WARNING:rasterio._env:CPLE_NotSupported in driver GTiff does not support open option INTERLEAVE\n"
          ]
        },
        {
          "output_type": "stream",
          "name": "stdout",
          "text": [
            "Done run 31 for bird Acorn Woodpecker\n"
          ]
        },
        {
          "output_type": "stream",
          "name": "stderr",
          "text": [
            "WARNING:rasterio._env:CPLE_NotSupported in driver GTiff does not support open option BLOCKYSIZE\n",
            "WARNING:rasterio._env:CPLE_NotSupported in driver GTiff does not support open option COMPRESS\n",
            "WARNING:rasterio._env:CPLE_NotSupported in driver GTiff does not support open option INTERLEAVE\n",
            "WARNING:rasterio._env:CPLE_NotSupported in driver GTiff does not support open option BLOCKYSIZE\n",
            "WARNING:rasterio._env:CPLE_NotSupported in driver GTiff does not support open option COMPRESS\n",
            "WARNING:rasterio._env:CPLE_NotSupported in driver GTiff does not support open option INTERLEAVE\n"
          ]
        },
        {
          "output_type": "stream",
          "name": "stdout",
          "text": [
            "Done run 32 for bird Acorn Woodpecker\n"
          ]
        },
        {
          "output_type": "stream",
          "name": "stderr",
          "text": [
            "WARNING:rasterio._env:CPLE_NotSupported in driver GTiff does not support open option BLOCKYSIZE\n",
            "WARNING:rasterio._env:CPLE_NotSupported in driver GTiff does not support open option COMPRESS\n",
            "WARNING:rasterio._env:CPLE_NotSupported in driver GTiff does not support open option INTERLEAVE\n",
            "WARNING:rasterio._env:CPLE_NotSupported in driver GTiff does not support open option BLOCKYSIZE\n",
            "WARNING:rasterio._env:CPLE_NotSupported in driver GTiff does not support open option COMPRESS\n",
            "WARNING:rasterio._env:CPLE_NotSupported in driver GTiff does not support open option INTERLEAVE\n"
          ]
        },
        {
          "output_type": "stream",
          "name": "stdout",
          "text": [
            "Done run 33 for bird Acorn Woodpecker\n"
          ]
        },
        {
          "output_type": "stream",
          "name": "stderr",
          "text": [
            "WARNING:rasterio._env:CPLE_NotSupported in driver GTiff does not support open option BLOCKYSIZE\n",
            "WARNING:rasterio._env:CPLE_NotSupported in driver GTiff does not support open option COMPRESS\n",
            "WARNING:rasterio._env:CPLE_NotSupported in driver GTiff does not support open option INTERLEAVE\n",
            "WARNING:rasterio._env:CPLE_NotSupported in driver GTiff does not support open option BLOCKYSIZE\n",
            "WARNING:rasterio._env:CPLE_NotSupported in driver GTiff does not support open option COMPRESS\n",
            "WARNING:rasterio._env:CPLE_NotSupported in driver GTiff does not support open option INTERLEAVE\n"
          ]
        },
        {
          "output_type": "stream",
          "name": "stdout",
          "text": [
            "Done run 34 for bird Acorn Woodpecker\n"
          ]
        },
        {
          "output_type": "stream",
          "name": "stderr",
          "text": [
            "WARNING:rasterio._env:CPLE_NotSupported in driver GTiff does not support open option BLOCKYSIZE\n",
            "WARNING:rasterio._env:CPLE_NotSupported in driver GTiff does not support open option COMPRESS\n",
            "WARNING:rasterio._env:CPLE_NotSupported in driver GTiff does not support open option INTERLEAVE\n",
            "WARNING:rasterio._env:CPLE_NotSupported in driver GTiff does not support open option BLOCKYSIZE\n",
            "WARNING:rasterio._env:CPLE_NotSupported in driver GTiff does not support open option COMPRESS\n",
            "WARNING:rasterio._env:CPLE_NotSupported in driver GTiff does not support open option INTERLEAVE\n"
          ]
        },
        {
          "output_type": "stream",
          "name": "stdout",
          "text": [
            "Done run 35 for bird Acorn Woodpecker\n"
          ]
        },
        {
          "output_type": "stream",
          "name": "stderr",
          "text": [
            "WARNING:rasterio._env:CPLE_NotSupported in driver GTiff does not support open option BLOCKYSIZE\n",
            "WARNING:rasterio._env:CPLE_NotSupported in driver GTiff does not support open option COMPRESS\n",
            "WARNING:rasterio._env:CPLE_NotSupported in driver GTiff does not support open option INTERLEAVE\n",
            "WARNING:rasterio._env:CPLE_NotSupported in driver GTiff does not support open option BLOCKYSIZE\n",
            "WARNING:rasterio._env:CPLE_NotSupported in driver GTiff does not support open option COMPRESS\n",
            "WARNING:rasterio._env:CPLE_NotSupported in driver GTiff does not support open option INTERLEAVE\n"
          ]
        },
        {
          "output_type": "stream",
          "name": "stdout",
          "text": [
            "Done run 36 for bird Acorn Woodpecker\n"
          ]
        },
        {
          "output_type": "stream",
          "name": "stderr",
          "text": [
            "WARNING:rasterio._env:CPLE_NotSupported in driver GTiff does not support open option BLOCKYSIZE\n",
            "WARNING:rasterio._env:CPLE_NotSupported in driver GTiff does not support open option COMPRESS\n",
            "WARNING:rasterio._env:CPLE_NotSupported in driver GTiff does not support open option INTERLEAVE\n",
            "WARNING:rasterio._env:CPLE_NotSupported in driver GTiff does not support open option BLOCKYSIZE\n",
            "WARNING:rasterio._env:CPLE_NotSupported in driver GTiff does not support open option COMPRESS\n",
            "WARNING:rasterio._env:CPLE_NotSupported in driver GTiff does not support open option INTERLEAVE\n"
          ]
        },
        {
          "output_type": "stream",
          "name": "stdout",
          "text": [
            "Done run 37 for bird Acorn Woodpecker\n"
          ]
        },
        {
          "output_type": "stream",
          "name": "stderr",
          "text": [
            "WARNING:rasterio._env:CPLE_NotSupported in driver GTiff does not support open option BLOCKYSIZE\n",
            "WARNING:rasterio._env:CPLE_NotSupported in driver GTiff does not support open option COMPRESS\n",
            "WARNING:rasterio._env:CPLE_NotSupported in driver GTiff does not support open option INTERLEAVE\n",
            "WARNING:rasterio._env:CPLE_NotSupported in driver GTiff does not support open option BLOCKYSIZE\n",
            "WARNING:rasterio._env:CPLE_NotSupported in driver GTiff does not support open option COMPRESS\n",
            "WARNING:rasterio._env:CPLE_NotSupported in driver GTiff does not support open option INTERLEAVE\n"
          ]
        },
        {
          "output_type": "stream",
          "name": "stdout",
          "text": [
            "Done run 38 for bird Acorn Woodpecker\n"
          ]
        },
        {
          "output_type": "stream",
          "name": "stderr",
          "text": [
            "WARNING:rasterio._env:CPLE_NotSupported in driver GTiff does not support open option BLOCKYSIZE\n",
            "WARNING:rasterio._env:CPLE_NotSupported in driver GTiff does not support open option COMPRESS\n",
            "WARNING:rasterio._env:CPLE_NotSupported in driver GTiff does not support open option INTERLEAVE\n",
            "WARNING:rasterio._env:CPLE_NotSupported in driver GTiff does not support open option BLOCKYSIZE\n",
            "WARNING:rasterio._env:CPLE_NotSupported in driver GTiff does not support open option COMPRESS\n",
            "WARNING:rasterio._env:CPLE_NotSupported in driver GTiff does not support open option INTERLEAVE\n"
          ]
        },
        {
          "output_type": "stream",
          "name": "stdout",
          "text": [
            "Done run 39 for bird Acorn Woodpecker\n"
          ]
        },
        {
          "output_type": "stream",
          "name": "stderr",
          "text": [
            "WARNING:rasterio._env:CPLE_NotSupported in driver GTiff does not support open option BLOCKYSIZE\n",
            "WARNING:rasterio._env:CPLE_NotSupported in driver GTiff does not support open option COMPRESS\n",
            "WARNING:rasterio._env:CPLE_NotSupported in driver GTiff does not support open option INTERLEAVE\n",
            "WARNING:rasterio._env:CPLE_NotSupported in driver GTiff does not support open option BLOCKYSIZE\n",
            "WARNING:rasterio._env:CPLE_NotSupported in driver GTiff does not support open option COMPRESS\n",
            "WARNING:rasterio._env:CPLE_NotSupported in driver GTiff does not support open option INTERLEAVE\n"
          ]
        },
        {
          "output_type": "stream",
          "name": "stdout",
          "text": [
            "Done run 40 for bird Acorn Woodpecker\n"
          ]
        },
        {
          "output_type": "stream",
          "name": "stderr",
          "text": [
            "WARNING:rasterio._env:CPLE_NotSupported in driver GTiff does not support open option BLOCKYSIZE\n",
            "WARNING:rasterio._env:CPLE_NotSupported in driver GTiff does not support open option COMPRESS\n",
            "WARNING:rasterio._env:CPLE_NotSupported in driver GTiff does not support open option INTERLEAVE\n",
            "WARNING:rasterio._env:CPLE_NotSupported in driver GTiff does not support open option BLOCKYSIZE\n",
            "WARNING:rasterio._env:CPLE_NotSupported in driver GTiff does not support open option COMPRESS\n",
            "WARNING:rasterio._env:CPLE_NotSupported in driver GTiff does not support open option INTERLEAVE\n"
          ]
        },
        {
          "output_type": "stream",
          "name": "stdout",
          "text": [
            "Done run 41 for bird Acorn Woodpecker\n"
          ]
        },
        {
          "output_type": "stream",
          "name": "stderr",
          "text": [
            "WARNING:rasterio._env:CPLE_NotSupported in driver GTiff does not support open option BLOCKYSIZE\n",
            "WARNING:rasterio._env:CPLE_NotSupported in driver GTiff does not support open option COMPRESS\n",
            "WARNING:rasterio._env:CPLE_NotSupported in driver GTiff does not support open option INTERLEAVE\n",
            "WARNING:rasterio._env:CPLE_NotSupported in driver GTiff does not support open option BLOCKYSIZE\n",
            "WARNING:rasterio._env:CPLE_NotSupported in driver GTiff does not support open option COMPRESS\n",
            "WARNING:rasterio._env:CPLE_NotSupported in driver GTiff does not support open option INTERLEAVE\n"
          ]
        },
        {
          "output_type": "stream",
          "name": "stdout",
          "text": [
            "Done run 42 for bird Acorn Woodpecker\n"
          ]
        },
        {
          "output_type": "stream",
          "name": "stderr",
          "text": [
            "WARNING:rasterio._env:CPLE_NotSupported in driver GTiff does not support open option BLOCKYSIZE\n",
            "WARNING:rasterio._env:CPLE_NotSupported in driver GTiff does not support open option COMPRESS\n",
            "WARNING:rasterio._env:CPLE_NotSupported in driver GTiff does not support open option INTERLEAVE\n",
            "WARNING:rasterio._env:CPLE_NotSupported in driver GTiff does not support open option BLOCKYSIZE\n",
            "WARNING:rasterio._env:CPLE_NotSupported in driver GTiff does not support open option COMPRESS\n",
            "WARNING:rasterio._env:CPLE_NotSupported in driver GTiff does not support open option INTERLEAVE\n"
          ]
        },
        {
          "output_type": "stream",
          "name": "stdout",
          "text": [
            "Done run 43 for bird Acorn Woodpecker\n"
          ]
        },
        {
          "output_type": "stream",
          "name": "stderr",
          "text": [
            "WARNING:rasterio._env:CPLE_NotSupported in driver GTiff does not support open option BLOCKYSIZE\n",
            "WARNING:rasterio._env:CPLE_NotSupported in driver GTiff does not support open option COMPRESS\n",
            "WARNING:rasterio._env:CPLE_NotSupported in driver GTiff does not support open option INTERLEAVE\n",
            "WARNING:rasterio._env:CPLE_NotSupported in driver GTiff does not support open option BLOCKYSIZE\n",
            "WARNING:rasterio._env:CPLE_NotSupported in driver GTiff does not support open option COMPRESS\n",
            "WARNING:rasterio._env:CPLE_NotSupported in driver GTiff does not support open option INTERLEAVE\n"
          ]
        },
        {
          "output_type": "stream",
          "name": "stdout",
          "text": [
            "Done run 44 for bird Acorn Woodpecker\n"
          ]
        },
        {
          "output_type": "stream",
          "name": "stderr",
          "text": [
            "WARNING:rasterio._env:CPLE_NotSupported in driver GTiff does not support open option BLOCKYSIZE\n",
            "WARNING:rasterio._env:CPLE_NotSupported in driver GTiff does not support open option COMPRESS\n",
            "WARNING:rasterio._env:CPLE_NotSupported in driver GTiff does not support open option INTERLEAVE\n",
            "WARNING:rasterio._env:CPLE_NotSupported in driver GTiff does not support open option BLOCKYSIZE\n",
            "WARNING:rasterio._env:CPLE_NotSupported in driver GTiff does not support open option COMPRESS\n",
            "WARNING:rasterio._env:CPLE_NotSupported in driver GTiff does not support open option INTERLEAVE\n"
          ]
        },
        {
          "output_type": "stream",
          "name": "stdout",
          "text": [
            "Done run 45 for bird Acorn Woodpecker\n"
          ]
        },
        {
          "output_type": "stream",
          "name": "stderr",
          "text": [
            "WARNING:rasterio._env:CPLE_NotSupported in driver GTiff does not support open option BLOCKYSIZE\n",
            "WARNING:rasterio._env:CPLE_NotSupported in driver GTiff does not support open option COMPRESS\n",
            "WARNING:rasterio._env:CPLE_NotSupported in driver GTiff does not support open option INTERLEAVE\n",
            "WARNING:rasterio._env:CPLE_NotSupported in driver GTiff does not support open option BLOCKYSIZE\n",
            "WARNING:rasterio._env:CPLE_NotSupported in driver GTiff does not support open option COMPRESS\n",
            "WARNING:rasterio._env:CPLE_NotSupported in driver GTiff does not support open option INTERLEAVE\n"
          ]
        },
        {
          "output_type": "stream",
          "name": "stdout",
          "text": [
            "Done run 46 for bird Acorn Woodpecker\n"
          ]
        },
        {
          "output_type": "stream",
          "name": "stderr",
          "text": [
            "WARNING:rasterio._env:CPLE_NotSupported in driver GTiff does not support open option BLOCKYSIZE\n",
            "WARNING:rasterio._env:CPLE_NotSupported in driver GTiff does not support open option COMPRESS\n",
            "WARNING:rasterio._env:CPLE_NotSupported in driver GTiff does not support open option INTERLEAVE\n",
            "WARNING:rasterio._env:CPLE_NotSupported in driver GTiff does not support open option BLOCKYSIZE\n",
            "WARNING:rasterio._env:CPLE_NotSupported in driver GTiff does not support open option COMPRESS\n",
            "WARNING:rasterio._env:CPLE_NotSupported in driver GTiff does not support open option INTERLEAVE\n"
          ]
        },
        {
          "output_type": "stream",
          "name": "stdout",
          "text": [
            "Done run 47 for bird Acorn Woodpecker\n"
          ]
        },
        {
          "output_type": "stream",
          "name": "stderr",
          "text": [
            "WARNING:rasterio._env:CPLE_NotSupported in driver GTiff does not support open option BLOCKYSIZE\n",
            "WARNING:rasterio._env:CPLE_NotSupported in driver GTiff does not support open option COMPRESS\n",
            "WARNING:rasterio._env:CPLE_NotSupported in driver GTiff does not support open option INTERLEAVE\n",
            "WARNING:rasterio._env:CPLE_NotSupported in driver GTiff does not support open option BLOCKYSIZE\n",
            "WARNING:rasterio._env:CPLE_NotSupported in driver GTiff does not support open option COMPRESS\n",
            "WARNING:rasterio._env:CPLE_NotSupported in driver GTiff does not support open option INTERLEAVE\n"
          ]
        },
        {
          "output_type": "stream",
          "name": "stdout",
          "text": [
            "Done run 48 for bird Acorn Woodpecker\n"
          ]
        },
        {
          "output_type": "stream",
          "name": "stderr",
          "text": [
            "WARNING:rasterio._env:CPLE_NotSupported in driver GTiff does not support open option BLOCKYSIZE\n",
            "WARNING:rasterio._env:CPLE_NotSupported in driver GTiff does not support open option COMPRESS\n",
            "WARNING:rasterio._env:CPLE_NotSupported in driver GTiff does not support open option INTERLEAVE\n",
            "WARNING:rasterio._env:CPLE_NotSupported in driver GTiff does not support open option BLOCKYSIZE\n",
            "WARNING:rasterio._env:CPLE_NotSupported in driver GTiff does not support open option COMPRESS\n",
            "WARNING:rasterio._env:CPLE_NotSupported in driver GTiff does not support open option INTERLEAVE\n"
          ]
        },
        {
          "output_type": "stream",
          "name": "stdout",
          "text": [
            "Done run 49 for bird Acorn Woodpecker\n"
          ]
        },
        {
          "output_type": "stream",
          "name": "stderr",
          "text": [
            "WARNING:rasterio._env:CPLE_NotSupported in driver GTiff does not support open option BLOCKYSIZE\n",
            "WARNING:rasterio._env:CPLE_NotSupported in driver GTiff does not support open option COMPRESS\n",
            "WARNING:rasterio._env:CPLE_NotSupported in driver GTiff does not support open option INTERLEAVE\n",
            "WARNING:rasterio._env:CPLE_NotSupported in driver GTiff does not support open option BLOCKYSIZE\n",
            "WARNING:rasterio._env:CPLE_NotSupported in driver GTiff does not support open option COMPRESS\n",
            "WARNING:rasterio._env:CPLE_NotSupported in driver GTiff does not support open option INTERLEAVE\n"
          ]
        },
        {
          "output_type": "stream",
          "name": "stdout",
          "text": [
            "Done run 50 for bird Acorn Woodpecker\n"
          ]
        },
        {
          "output_type": "stream",
          "name": "stderr",
          "text": [
            "WARNING:rasterio._env:CPLE_NotSupported in driver GTiff does not support open option BLOCKYSIZE\n",
            "WARNING:rasterio._env:CPLE_NotSupported in driver GTiff does not support open option COMPRESS\n",
            "WARNING:rasterio._env:CPLE_NotSupported in driver GTiff does not support open option INTERLEAVE\n",
            "WARNING:rasterio._env:CPLE_NotSupported in driver GTiff does not support open option BLOCKYSIZE\n",
            "WARNING:rasterio._env:CPLE_NotSupported in driver GTiff does not support open option COMPRESS\n",
            "WARNING:rasterio._env:CPLE_NotSupported in driver GTiff does not support open option INTERLEAVE\n"
          ]
        },
        {
          "output_type": "stream",
          "name": "stdout",
          "text": [
            "Done run 51 for bird Acorn Woodpecker\n"
          ]
        },
        {
          "output_type": "stream",
          "name": "stderr",
          "text": [
            "WARNING:rasterio._env:CPLE_NotSupported in driver GTiff does not support open option BLOCKYSIZE\n",
            "WARNING:rasterio._env:CPLE_NotSupported in driver GTiff does not support open option COMPRESS\n",
            "WARNING:rasterio._env:CPLE_NotSupported in driver GTiff does not support open option INTERLEAVE\n",
            "WARNING:rasterio._env:CPLE_NotSupported in driver GTiff does not support open option BLOCKYSIZE\n",
            "WARNING:rasterio._env:CPLE_NotSupported in driver GTiff does not support open option COMPRESS\n",
            "WARNING:rasterio._env:CPLE_NotSupported in driver GTiff does not support open option INTERLEAVE\n"
          ]
        },
        {
          "output_type": "stream",
          "name": "stdout",
          "text": [
            "Done run 52 for bird Acorn Woodpecker\n"
          ]
        },
        {
          "output_type": "stream",
          "name": "stderr",
          "text": [
            "WARNING:rasterio._env:CPLE_NotSupported in driver GTiff does not support open option BLOCKYSIZE\n",
            "WARNING:rasterio._env:CPLE_NotSupported in driver GTiff does not support open option COMPRESS\n",
            "WARNING:rasterio._env:CPLE_NotSupported in driver GTiff does not support open option INTERLEAVE\n",
            "WARNING:rasterio._env:CPLE_NotSupported in driver GTiff does not support open option BLOCKYSIZE\n",
            "WARNING:rasterio._env:CPLE_NotSupported in driver GTiff does not support open option COMPRESS\n",
            "WARNING:rasterio._env:CPLE_NotSupported in driver GTiff does not support open option INTERLEAVE\n"
          ]
        },
        {
          "output_type": "stream",
          "name": "stdout",
          "text": [
            "Done run 53 for bird Acorn Woodpecker\n"
          ]
        },
        {
          "output_type": "stream",
          "name": "stderr",
          "text": [
            "WARNING:rasterio._env:CPLE_NotSupported in driver GTiff does not support open option BLOCKYSIZE\n",
            "WARNING:rasterio._env:CPLE_NotSupported in driver GTiff does not support open option COMPRESS\n",
            "WARNING:rasterio._env:CPLE_NotSupported in driver GTiff does not support open option INTERLEAVE\n",
            "WARNING:rasterio._env:CPLE_NotSupported in driver GTiff does not support open option BLOCKYSIZE\n",
            "WARNING:rasterio._env:CPLE_NotSupported in driver GTiff does not support open option COMPRESS\n",
            "WARNING:rasterio._env:CPLE_NotSupported in driver GTiff does not support open option INTERLEAVE\n"
          ]
        },
        {
          "output_type": "stream",
          "name": "stdout",
          "text": [
            "Done run 54 for bird Acorn Woodpecker\n"
          ]
        },
        {
          "output_type": "stream",
          "name": "stderr",
          "text": [
            "WARNING:rasterio._env:CPLE_NotSupported in driver GTiff does not support open option BLOCKYSIZE\n",
            "WARNING:rasterio._env:CPLE_NotSupported in driver GTiff does not support open option COMPRESS\n",
            "WARNING:rasterio._env:CPLE_NotSupported in driver GTiff does not support open option INTERLEAVE\n",
            "WARNING:rasterio._env:CPLE_NotSupported in driver GTiff does not support open option BLOCKYSIZE\n",
            "WARNING:rasterio._env:CPLE_NotSupported in driver GTiff does not support open option COMPRESS\n",
            "WARNING:rasterio._env:CPLE_NotSupported in driver GTiff does not support open option INTERLEAVE\n"
          ]
        },
        {
          "output_type": "stream",
          "name": "stdout",
          "text": [
            "Done run 55 for bird Acorn Woodpecker\n"
          ]
        },
        {
          "output_type": "stream",
          "name": "stderr",
          "text": [
            "WARNING:rasterio._env:CPLE_NotSupported in driver GTiff does not support open option BLOCKYSIZE\n",
            "WARNING:rasterio._env:CPLE_NotSupported in driver GTiff does not support open option COMPRESS\n",
            "WARNING:rasterio._env:CPLE_NotSupported in driver GTiff does not support open option INTERLEAVE\n",
            "WARNING:rasterio._env:CPLE_NotSupported in driver GTiff does not support open option BLOCKYSIZE\n",
            "WARNING:rasterio._env:CPLE_NotSupported in driver GTiff does not support open option COMPRESS\n",
            "WARNING:rasterio._env:CPLE_NotSupported in driver GTiff does not support open option INTERLEAVE\n"
          ]
        },
        {
          "output_type": "stream",
          "name": "stdout",
          "text": [
            "Done run 56 for bird Acorn Woodpecker\n"
          ]
        },
        {
          "output_type": "stream",
          "name": "stderr",
          "text": [
            "WARNING:rasterio._env:CPLE_NotSupported in driver GTiff does not support open option BLOCKYSIZE\n",
            "WARNING:rasterio._env:CPLE_NotSupported in driver GTiff does not support open option COMPRESS\n",
            "WARNING:rasterio._env:CPLE_NotSupported in driver GTiff does not support open option INTERLEAVE\n",
            "WARNING:rasterio._env:CPLE_NotSupported in driver GTiff does not support open option BLOCKYSIZE\n",
            "WARNING:rasterio._env:CPLE_NotSupported in driver GTiff does not support open option COMPRESS\n",
            "WARNING:rasterio._env:CPLE_NotSupported in driver GTiff does not support open option INTERLEAVE\n"
          ]
        },
        {
          "output_type": "stream",
          "name": "stdout",
          "text": [
            "Done run 57 for bird Acorn Woodpecker\n"
          ]
        },
        {
          "output_type": "stream",
          "name": "stderr",
          "text": [
            "WARNING:rasterio._env:CPLE_NotSupported in driver GTiff does not support open option BLOCKYSIZE\n",
            "WARNING:rasterio._env:CPLE_NotSupported in driver GTiff does not support open option COMPRESS\n",
            "WARNING:rasterio._env:CPLE_NotSupported in driver GTiff does not support open option INTERLEAVE\n",
            "WARNING:rasterio._env:CPLE_NotSupported in driver GTiff does not support open option BLOCKYSIZE\n",
            "WARNING:rasterio._env:CPLE_NotSupported in driver GTiff does not support open option COMPRESS\n",
            "WARNING:rasterio._env:CPLE_NotSupported in driver GTiff does not support open option INTERLEAVE\n"
          ]
        },
        {
          "output_type": "stream",
          "name": "stdout",
          "text": [
            "Done run 58 for bird Acorn Woodpecker\n"
          ]
        },
        {
          "output_type": "stream",
          "name": "stderr",
          "text": [
            "WARNING:rasterio._env:CPLE_NotSupported in driver GTiff does not support open option BLOCKYSIZE\n",
            "WARNING:rasterio._env:CPLE_NotSupported in driver GTiff does not support open option COMPRESS\n",
            "WARNING:rasterio._env:CPLE_NotSupported in driver GTiff does not support open option INTERLEAVE\n",
            "WARNING:rasterio._env:CPLE_NotSupported in driver GTiff does not support open option BLOCKYSIZE\n",
            "WARNING:rasterio._env:CPLE_NotSupported in driver GTiff does not support open option COMPRESS\n",
            "WARNING:rasterio._env:CPLE_NotSupported in driver GTiff does not support open option INTERLEAVE\n"
          ]
        },
        {
          "output_type": "stream",
          "name": "stdout",
          "text": [
            "Done run 59 for bird Acorn Woodpecker\n"
          ]
        },
        {
          "output_type": "stream",
          "name": "stderr",
          "text": [
            "WARNING:rasterio._env:CPLE_NotSupported in driver GTiff does not support open option BLOCKYSIZE\n",
            "WARNING:rasterio._env:CPLE_NotSupported in driver GTiff does not support open option COMPRESS\n",
            "WARNING:rasterio._env:CPLE_NotSupported in driver GTiff does not support open option INTERLEAVE\n",
            "WARNING:rasterio._env:CPLE_NotSupported in driver GTiff does not support open option BLOCKYSIZE\n",
            "WARNING:rasterio._env:CPLE_NotSupported in driver GTiff does not support open option COMPRESS\n",
            "WARNING:rasterio._env:CPLE_NotSupported in driver GTiff does not support open option INTERLEAVE\n"
          ]
        },
        {
          "output_type": "stream",
          "name": "stdout",
          "text": [
            "Done run 60 for bird Acorn Woodpecker\n"
          ]
        },
        {
          "output_type": "stream",
          "name": "stderr",
          "text": [
            "WARNING:rasterio._env:CPLE_NotSupported in driver GTiff does not support open option BLOCKYSIZE\n",
            "WARNING:rasterio._env:CPLE_NotSupported in driver GTiff does not support open option COMPRESS\n",
            "WARNING:rasterio._env:CPLE_NotSupported in driver GTiff does not support open option INTERLEAVE\n",
            "WARNING:rasterio._env:CPLE_NotSupported in driver GTiff does not support open option BLOCKYSIZE\n",
            "WARNING:rasterio._env:CPLE_NotSupported in driver GTiff does not support open option COMPRESS\n",
            "WARNING:rasterio._env:CPLE_NotSupported in driver GTiff does not support open option INTERLEAVE\n"
          ]
        },
        {
          "output_type": "stream",
          "name": "stdout",
          "text": [
            "Done run 61 for bird Acorn Woodpecker\n"
          ]
        },
        {
          "output_type": "stream",
          "name": "stderr",
          "text": [
            "WARNING:rasterio._env:CPLE_NotSupported in driver GTiff does not support open option BLOCKYSIZE\n",
            "WARNING:rasterio._env:CPLE_NotSupported in driver GTiff does not support open option COMPRESS\n",
            "WARNING:rasterio._env:CPLE_NotSupported in driver GTiff does not support open option INTERLEAVE\n",
            "WARNING:rasterio._env:CPLE_NotSupported in driver GTiff does not support open option BLOCKYSIZE\n",
            "WARNING:rasterio._env:CPLE_NotSupported in driver GTiff does not support open option COMPRESS\n",
            "WARNING:rasterio._env:CPLE_NotSupported in driver GTiff does not support open option INTERLEAVE\n"
          ]
        },
        {
          "output_type": "stream",
          "name": "stdout",
          "text": [
            "Done run 62 for bird Acorn Woodpecker\n"
          ]
        },
        {
          "output_type": "stream",
          "name": "stderr",
          "text": [
            "WARNING:rasterio._env:CPLE_NotSupported in driver GTiff does not support open option BLOCKYSIZE\n",
            "WARNING:rasterio._env:CPLE_NotSupported in driver GTiff does not support open option COMPRESS\n",
            "WARNING:rasterio._env:CPLE_NotSupported in driver GTiff does not support open option INTERLEAVE\n",
            "WARNING:rasterio._env:CPLE_NotSupported in driver GTiff does not support open option BLOCKYSIZE\n",
            "WARNING:rasterio._env:CPLE_NotSupported in driver GTiff does not support open option COMPRESS\n",
            "WARNING:rasterio._env:CPLE_NotSupported in driver GTiff does not support open option INTERLEAVE\n"
          ]
        },
        {
          "output_type": "stream",
          "name": "stdout",
          "text": [
            "Done run 63 for bird Acorn Woodpecker\n"
          ]
        },
        {
          "output_type": "stream",
          "name": "stderr",
          "text": [
            "WARNING:rasterio._env:CPLE_NotSupported in driver GTiff does not support open option BLOCKYSIZE\n",
            "WARNING:rasterio._env:CPLE_NotSupported in driver GTiff does not support open option COMPRESS\n",
            "WARNING:rasterio._env:CPLE_NotSupported in driver GTiff does not support open option INTERLEAVE\n",
            "WARNING:rasterio._env:CPLE_NotSupported in driver GTiff does not support open option BLOCKYSIZE\n",
            "WARNING:rasterio._env:CPLE_NotSupported in driver GTiff does not support open option COMPRESS\n",
            "WARNING:rasterio._env:CPLE_NotSupported in driver GTiff does not support open option INTERLEAVE\n"
          ]
        },
        {
          "output_type": "stream",
          "name": "stdout",
          "text": [
            "Done run 64 for bird Acorn Woodpecker\n"
          ]
        },
        {
          "output_type": "stream",
          "name": "stderr",
          "text": [
            "WARNING:rasterio._env:CPLE_NotSupported in driver GTiff does not support open option BLOCKYSIZE\n",
            "WARNING:rasterio._env:CPLE_NotSupported in driver GTiff does not support open option COMPRESS\n",
            "WARNING:rasterio._env:CPLE_NotSupported in driver GTiff does not support open option INTERLEAVE\n",
            "WARNING:rasterio._env:CPLE_NotSupported in driver GTiff does not support open option BLOCKYSIZE\n",
            "WARNING:rasterio._env:CPLE_NotSupported in driver GTiff does not support open option COMPRESS\n",
            "WARNING:rasterio._env:CPLE_NotSupported in driver GTiff does not support open option INTERLEAVE\n"
          ]
        },
        {
          "output_type": "stream",
          "name": "stdout",
          "text": [
            "Done run 65 for bird Acorn Woodpecker\n"
          ]
        },
        {
          "output_type": "stream",
          "name": "stderr",
          "text": [
            "WARNING:rasterio._env:CPLE_NotSupported in driver GTiff does not support open option BLOCKYSIZE\n",
            "WARNING:rasterio._env:CPLE_NotSupported in driver GTiff does not support open option COMPRESS\n",
            "WARNING:rasterio._env:CPLE_NotSupported in driver GTiff does not support open option INTERLEAVE\n",
            "WARNING:rasterio._env:CPLE_NotSupported in driver GTiff does not support open option BLOCKYSIZE\n",
            "WARNING:rasterio._env:CPLE_NotSupported in driver GTiff does not support open option COMPRESS\n",
            "WARNING:rasterio._env:CPLE_NotSupported in driver GTiff does not support open option INTERLEAVE\n"
          ]
        },
        {
          "output_type": "stream",
          "name": "stdout",
          "text": [
            "Done run 66 for bird Acorn Woodpecker\n"
          ]
        },
        {
          "output_type": "stream",
          "name": "stderr",
          "text": [
            "WARNING:rasterio._env:CPLE_NotSupported in driver GTiff does not support open option BLOCKYSIZE\n",
            "WARNING:rasterio._env:CPLE_NotSupported in driver GTiff does not support open option COMPRESS\n",
            "WARNING:rasterio._env:CPLE_NotSupported in driver GTiff does not support open option INTERLEAVE\n",
            "WARNING:rasterio._env:CPLE_NotSupported in driver GTiff does not support open option BLOCKYSIZE\n",
            "WARNING:rasterio._env:CPLE_NotSupported in driver GTiff does not support open option COMPRESS\n",
            "WARNING:rasterio._env:CPLE_NotSupported in driver GTiff does not support open option INTERLEAVE\n"
          ]
        },
        {
          "output_type": "stream",
          "name": "stdout",
          "text": [
            "Done run 67 for bird Acorn Woodpecker\n"
          ]
        },
        {
          "output_type": "stream",
          "name": "stderr",
          "text": [
            "WARNING:rasterio._env:CPLE_NotSupported in driver GTiff does not support open option BLOCKYSIZE\n",
            "WARNING:rasterio._env:CPLE_NotSupported in driver GTiff does not support open option COMPRESS\n",
            "WARNING:rasterio._env:CPLE_NotSupported in driver GTiff does not support open option INTERLEAVE\n",
            "WARNING:rasterio._env:CPLE_NotSupported in driver GTiff does not support open option BLOCKYSIZE\n",
            "WARNING:rasterio._env:CPLE_NotSupported in driver GTiff does not support open option COMPRESS\n",
            "WARNING:rasterio._env:CPLE_NotSupported in driver GTiff does not support open option INTERLEAVE\n"
          ]
        },
        {
          "output_type": "stream",
          "name": "stdout",
          "text": [
            "Done run 68 for bird Acorn Woodpecker\n"
          ]
        },
        {
          "output_type": "stream",
          "name": "stderr",
          "text": [
            "WARNING:rasterio._env:CPLE_NotSupported in driver GTiff does not support open option BLOCKYSIZE\n",
            "WARNING:rasterio._env:CPLE_NotSupported in driver GTiff does not support open option COMPRESS\n",
            "WARNING:rasterio._env:CPLE_NotSupported in driver GTiff does not support open option INTERLEAVE\n",
            "WARNING:rasterio._env:CPLE_NotSupported in driver GTiff does not support open option BLOCKYSIZE\n",
            "WARNING:rasterio._env:CPLE_NotSupported in driver GTiff does not support open option COMPRESS\n",
            "WARNING:rasterio._env:CPLE_NotSupported in driver GTiff does not support open option INTERLEAVE\n"
          ]
        },
        {
          "output_type": "stream",
          "name": "stdout",
          "text": [
            "Done run 69 for bird Acorn Woodpecker\n"
          ]
        },
        {
          "output_type": "stream",
          "name": "stderr",
          "text": [
            "WARNING:rasterio._env:CPLE_NotSupported in driver GTiff does not support open option BLOCKYSIZE\n",
            "WARNING:rasterio._env:CPLE_NotSupported in driver GTiff does not support open option COMPRESS\n",
            "WARNING:rasterio._env:CPLE_NotSupported in driver GTiff does not support open option INTERLEAVE\n",
            "WARNING:rasterio._env:CPLE_NotSupported in driver GTiff does not support open option BLOCKYSIZE\n",
            "WARNING:rasterio._env:CPLE_NotSupported in driver GTiff does not support open option COMPRESS\n",
            "WARNING:rasterio._env:CPLE_NotSupported in driver GTiff does not support open option INTERLEAVE\n"
          ]
        },
        {
          "output_type": "stream",
          "name": "stdout",
          "text": [
            "Done run 70 for bird Acorn Woodpecker\n"
          ]
        },
        {
          "output_type": "stream",
          "name": "stderr",
          "text": [
            "WARNING:rasterio._env:CPLE_NotSupported in driver GTiff does not support open option BLOCKYSIZE\n",
            "WARNING:rasterio._env:CPLE_NotSupported in driver GTiff does not support open option COMPRESS\n",
            "WARNING:rasterio._env:CPLE_NotSupported in driver GTiff does not support open option INTERLEAVE\n",
            "WARNING:rasterio._env:CPLE_NotSupported in driver GTiff does not support open option BLOCKYSIZE\n",
            "WARNING:rasterio._env:CPLE_NotSupported in driver GTiff does not support open option COMPRESS\n",
            "WARNING:rasterio._env:CPLE_NotSupported in driver GTiff does not support open option INTERLEAVE\n"
          ]
        },
        {
          "output_type": "stream",
          "name": "stdout",
          "text": [
            "Done run 71 for bird Acorn Woodpecker\n"
          ]
        },
        {
          "output_type": "stream",
          "name": "stderr",
          "text": [
            "WARNING:rasterio._env:CPLE_NotSupported in driver GTiff does not support open option BLOCKYSIZE\n",
            "WARNING:rasterio._env:CPLE_NotSupported in driver GTiff does not support open option COMPRESS\n",
            "WARNING:rasterio._env:CPLE_NotSupported in driver GTiff does not support open option INTERLEAVE\n",
            "WARNING:rasterio._env:CPLE_NotSupported in driver GTiff does not support open option BLOCKYSIZE\n",
            "WARNING:rasterio._env:CPLE_NotSupported in driver GTiff does not support open option COMPRESS\n",
            "WARNING:rasterio._env:CPLE_NotSupported in driver GTiff does not support open option INTERLEAVE\n"
          ]
        },
        {
          "output_type": "stream",
          "name": "stdout",
          "text": [
            "Done run 72 for bird Acorn Woodpecker\n"
          ]
        },
        {
          "output_type": "stream",
          "name": "stderr",
          "text": [
            "WARNING:rasterio._env:CPLE_NotSupported in driver GTiff does not support open option BLOCKYSIZE\n",
            "WARNING:rasterio._env:CPLE_NotSupported in driver GTiff does not support open option COMPRESS\n",
            "WARNING:rasterio._env:CPLE_NotSupported in driver GTiff does not support open option INTERLEAVE\n",
            "WARNING:rasterio._env:CPLE_NotSupported in driver GTiff does not support open option BLOCKYSIZE\n",
            "WARNING:rasterio._env:CPLE_NotSupported in driver GTiff does not support open option COMPRESS\n",
            "WARNING:rasterio._env:CPLE_NotSupported in driver GTiff does not support open option INTERLEAVE\n"
          ]
        },
        {
          "output_type": "stream",
          "name": "stdout",
          "text": [
            "Done run 73 for bird Acorn Woodpecker\n"
          ]
        },
        {
          "output_type": "stream",
          "name": "stderr",
          "text": [
            "WARNING:rasterio._env:CPLE_NotSupported in driver GTiff does not support open option BLOCKYSIZE\n",
            "WARNING:rasterio._env:CPLE_NotSupported in driver GTiff does not support open option COMPRESS\n",
            "WARNING:rasterio._env:CPLE_NotSupported in driver GTiff does not support open option INTERLEAVE\n",
            "WARNING:rasterio._env:CPLE_NotSupported in driver GTiff does not support open option BLOCKYSIZE\n",
            "WARNING:rasterio._env:CPLE_NotSupported in driver GTiff does not support open option COMPRESS\n",
            "WARNING:rasterio._env:CPLE_NotSupported in driver GTiff does not support open option INTERLEAVE\n"
          ]
        },
        {
          "output_type": "stream",
          "name": "stdout",
          "text": [
            "Done run 74 for bird Acorn Woodpecker\n"
          ]
        },
        {
          "output_type": "stream",
          "name": "stderr",
          "text": [
            "WARNING:rasterio._env:CPLE_NotSupported in driver GTiff does not support open option BLOCKYSIZE\n",
            "WARNING:rasterio._env:CPLE_NotSupported in driver GTiff does not support open option COMPRESS\n",
            "WARNING:rasterio._env:CPLE_NotSupported in driver GTiff does not support open option INTERLEAVE\n",
            "WARNING:rasterio._env:CPLE_NotSupported in driver GTiff does not support open option BLOCKYSIZE\n",
            "WARNING:rasterio._env:CPLE_NotSupported in driver GTiff does not support open option COMPRESS\n",
            "WARNING:rasterio._env:CPLE_NotSupported in driver GTiff does not support open option INTERLEAVE\n"
          ]
        },
        {
          "output_type": "stream",
          "name": "stdout",
          "text": [
            "Done run 75 for bird Acorn Woodpecker\n"
          ]
        },
        {
          "output_type": "stream",
          "name": "stderr",
          "text": [
            "WARNING:rasterio._env:CPLE_NotSupported in driver GTiff does not support open option BLOCKYSIZE\n",
            "WARNING:rasterio._env:CPLE_NotSupported in driver GTiff does not support open option COMPRESS\n",
            "WARNING:rasterio._env:CPLE_NotSupported in driver GTiff does not support open option INTERLEAVE\n",
            "WARNING:rasterio._env:CPLE_NotSupported in driver GTiff does not support open option BLOCKYSIZE\n",
            "WARNING:rasterio._env:CPLE_NotSupported in driver GTiff does not support open option COMPRESS\n",
            "WARNING:rasterio._env:CPLE_NotSupported in driver GTiff does not support open option INTERLEAVE\n"
          ]
        },
        {
          "output_type": "stream",
          "name": "stdout",
          "text": [
            "Done run 76 for bird Acorn Woodpecker\n"
          ]
        },
        {
          "output_type": "stream",
          "name": "stderr",
          "text": [
            "WARNING:rasterio._env:CPLE_NotSupported in driver GTiff does not support open option BLOCKYSIZE\n",
            "WARNING:rasterio._env:CPLE_NotSupported in driver GTiff does not support open option COMPRESS\n",
            "WARNING:rasterio._env:CPLE_NotSupported in driver GTiff does not support open option INTERLEAVE\n",
            "WARNING:rasterio._env:CPLE_NotSupported in driver GTiff does not support open option BLOCKYSIZE\n",
            "WARNING:rasterio._env:CPLE_NotSupported in driver GTiff does not support open option COMPRESS\n",
            "WARNING:rasterio._env:CPLE_NotSupported in driver GTiff does not support open option INTERLEAVE\n"
          ]
        },
        {
          "output_type": "stream",
          "name": "stdout",
          "text": [
            "Done run 77 for bird Acorn Woodpecker\n"
          ]
        },
        {
          "output_type": "stream",
          "name": "stderr",
          "text": [
            "WARNING:rasterio._env:CPLE_NotSupported in driver GTiff does not support open option BLOCKYSIZE\n",
            "WARNING:rasterio._env:CPLE_NotSupported in driver GTiff does not support open option COMPRESS\n",
            "WARNING:rasterio._env:CPLE_NotSupported in driver GTiff does not support open option INTERLEAVE\n",
            "WARNING:rasterio._env:CPLE_NotSupported in driver GTiff does not support open option BLOCKYSIZE\n",
            "WARNING:rasterio._env:CPLE_NotSupported in driver GTiff does not support open option COMPRESS\n",
            "WARNING:rasterio._env:CPLE_NotSupported in driver GTiff does not support open option INTERLEAVE\n"
          ]
        },
        {
          "output_type": "stream",
          "name": "stdout",
          "text": [
            "Done run 78 for bird Acorn Woodpecker\n"
          ]
        },
        {
          "output_type": "stream",
          "name": "stderr",
          "text": [
            "WARNING:rasterio._env:CPLE_NotSupported in driver GTiff does not support open option BLOCKYSIZE\n",
            "WARNING:rasterio._env:CPLE_NotSupported in driver GTiff does not support open option COMPRESS\n",
            "WARNING:rasterio._env:CPLE_NotSupported in driver GTiff does not support open option INTERLEAVE\n",
            "WARNING:rasterio._env:CPLE_NotSupported in driver GTiff does not support open option BLOCKYSIZE\n",
            "WARNING:rasterio._env:CPLE_NotSupported in driver GTiff does not support open option COMPRESS\n",
            "WARNING:rasterio._env:CPLE_NotSupported in driver GTiff does not support open option INTERLEAVE\n"
          ]
        },
        {
          "output_type": "stream",
          "name": "stdout",
          "text": [
            "Done run 79 for bird Acorn Woodpecker\n"
          ]
        },
        {
          "output_type": "stream",
          "name": "stderr",
          "text": [
            "WARNING:rasterio._env:CPLE_NotSupported in driver GTiff does not support open option BLOCKYSIZE\n",
            "WARNING:rasterio._env:CPLE_NotSupported in driver GTiff does not support open option COMPRESS\n",
            "WARNING:rasterio._env:CPLE_NotSupported in driver GTiff does not support open option INTERLEAVE\n",
            "WARNING:rasterio._env:CPLE_NotSupported in driver GTiff does not support open option BLOCKYSIZE\n",
            "WARNING:rasterio._env:CPLE_NotSupported in driver GTiff does not support open option COMPRESS\n",
            "WARNING:rasterio._env:CPLE_NotSupported in driver GTiff does not support open option INTERLEAVE\n"
          ]
        },
        {
          "output_type": "stream",
          "name": "stdout",
          "text": [
            "Done run 80 for bird Acorn Woodpecker\n"
          ]
        },
        {
          "output_type": "stream",
          "name": "stderr",
          "text": [
            "WARNING:rasterio._env:CPLE_NotSupported in driver GTiff does not support open option BLOCKYSIZE\n",
            "WARNING:rasterio._env:CPLE_NotSupported in driver GTiff does not support open option COMPRESS\n",
            "WARNING:rasterio._env:CPLE_NotSupported in driver GTiff does not support open option INTERLEAVE\n",
            "WARNING:rasterio._env:CPLE_NotSupported in driver GTiff does not support open option BLOCKYSIZE\n",
            "WARNING:rasterio._env:CPLE_NotSupported in driver GTiff does not support open option COMPRESS\n",
            "WARNING:rasterio._env:CPLE_NotSupported in driver GTiff does not support open option INTERLEAVE\n"
          ]
        },
        {
          "output_type": "stream",
          "name": "stdout",
          "text": [
            "Done run 81 for bird Acorn Woodpecker\n"
          ]
        },
        {
          "output_type": "stream",
          "name": "stderr",
          "text": [
            "WARNING:rasterio._env:CPLE_NotSupported in driver GTiff does not support open option BLOCKYSIZE\n",
            "WARNING:rasterio._env:CPLE_NotSupported in driver GTiff does not support open option COMPRESS\n",
            "WARNING:rasterio._env:CPLE_NotSupported in driver GTiff does not support open option INTERLEAVE\n",
            "WARNING:rasterio._env:CPLE_NotSupported in driver GTiff does not support open option BLOCKYSIZE\n",
            "WARNING:rasterio._env:CPLE_NotSupported in driver GTiff does not support open option COMPRESS\n",
            "WARNING:rasterio._env:CPLE_NotSupported in driver GTiff does not support open option INTERLEAVE\n"
          ]
        },
        {
          "output_type": "stream",
          "name": "stdout",
          "text": [
            "Done run 82 for bird Acorn Woodpecker\n"
          ]
        },
        {
          "output_type": "stream",
          "name": "stderr",
          "text": [
            "WARNING:rasterio._env:CPLE_NotSupported in driver GTiff does not support open option BLOCKYSIZE\n",
            "WARNING:rasterio._env:CPLE_NotSupported in driver GTiff does not support open option COMPRESS\n",
            "WARNING:rasterio._env:CPLE_NotSupported in driver GTiff does not support open option INTERLEAVE\n",
            "WARNING:rasterio._env:CPLE_NotSupported in driver GTiff does not support open option BLOCKYSIZE\n",
            "WARNING:rasterio._env:CPLE_NotSupported in driver GTiff does not support open option COMPRESS\n",
            "WARNING:rasterio._env:CPLE_NotSupported in driver GTiff does not support open option INTERLEAVE\n"
          ]
        },
        {
          "output_type": "stream",
          "name": "stdout",
          "text": [
            "Done run 83 for bird Acorn Woodpecker\n"
          ]
        },
        {
          "output_type": "stream",
          "name": "stderr",
          "text": [
            "WARNING:rasterio._env:CPLE_NotSupported in driver GTiff does not support open option BLOCKYSIZE\n",
            "WARNING:rasterio._env:CPLE_NotSupported in driver GTiff does not support open option COMPRESS\n",
            "WARNING:rasterio._env:CPLE_NotSupported in driver GTiff does not support open option INTERLEAVE\n",
            "WARNING:rasterio._env:CPLE_NotSupported in driver GTiff does not support open option BLOCKYSIZE\n",
            "WARNING:rasterio._env:CPLE_NotSupported in driver GTiff does not support open option COMPRESS\n",
            "WARNING:rasterio._env:CPLE_NotSupported in driver GTiff does not support open option INTERLEAVE\n"
          ]
        },
        {
          "output_type": "stream",
          "name": "stdout",
          "text": [
            "Done run 84 for bird Acorn Woodpecker\n"
          ]
        },
        {
          "output_type": "stream",
          "name": "stderr",
          "text": [
            "WARNING:rasterio._env:CPLE_NotSupported in driver GTiff does not support open option BLOCKYSIZE\n",
            "WARNING:rasterio._env:CPLE_NotSupported in driver GTiff does not support open option COMPRESS\n",
            "WARNING:rasterio._env:CPLE_NotSupported in driver GTiff does not support open option INTERLEAVE\n",
            "WARNING:rasterio._env:CPLE_NotSupported in driver GTiff does not support open option BLOCKYSIZE\n",
            "WARNING:rasterio._env:CPLE_NotSupported in driver GTiff does not support open option COMPRESS\n",
            "WARNING:rasterio._env:CPLE_NotSupported in driver GTiff does not support open option INTERLEAVE\n"
          ]
        },
        {
          "output_type": "stream",
          "name": "stdout",
          "text": [
            "Done run 85 for bird Acorn Woodpecker\n"
          ]
        },
        {
          "output_type": "stream",
          "name": "stderr",
          "text": [
            "WARNING:rasterio._env:CPLE_NotSupported in driver GTiff does not support open option BLOCKYSIZE\n",
            "WARNING:rasterio._env:CPLE_NotSupported in driver GTiff does not support open option COMPRESS\n",
            "WARNING:rasterio._env:CPLE_NotSupported in driver GTiff does not support open option INTERLEAVE\n",
            "WARNING:rasterio._env:CPLE_NotSupported in driver GTiff does not support open option BLOCKYSIZE\n",
            "WARNING:rasterio._env:CPLE_NotSupported in driver GTiff does not support open option COMPRESS\n",
            "WARNING:rasterio._env:CPLE_NotSupported in driver GTiff does not support open option INTERLEAVE\n"
          ]
        },
        {
          "output_type": "stream",
          "name": "stdout",
          "text": [
            "Done run 86 for bird Acorn Woodpecker\n"
          ]
        },
        {
          "output_type": "stream",
          "name": "stderr",
          "text": [
            "WARNING:rasterio._env:CPLE_NotSupported in driver GTiff does not support open option BLOCKYSIZE\n",
            "WARNING:rasterio._env:CPLE_NotSupported in driver GTiff does not support open option COMPRESS\n",
            "WARNING:rasterio._env:CPLE_NotSupported in driver GTiff does not support open option INTERLEAVE\n",
            "WARNING:rasterio._env:CPLE_NotSupported in driver GTiff does not support open option BLOCKYSIZE\n",
            "WARNING:rasterio._env:CPLE_NotSupported in driver GTiff does not support open option COMPRESS\n",
            "WARNING:rasterio._env:CPLE_NotSupported in driver GTiff does not support open option INTERLEAVE\n"
          ]
        },
        {
          "output_type": "stream",
          "name": "stdout",
          "text": [
            "Done run 87 for bird Acorn Woodpecker\n"
          ]
        },
        {
          "output_type": "stream",
          "name": "stderr",
          "text": [
            "WARNING:rasterio._env:CPLE_NotSupported in driver GTiff does not support open option BLOCKYSIZE\n",
            "WARNING:rasterio._env:CPLE_NotSupported in driver GTiff does not support open option COMPRESS\n",
            "WARNING:rasterio._env:CPLE_NotSupported in driver GTiff does not support open option INTERLEAVE\n",
            "WARNING:rasterio._env:CPLE_NotSupported in driver GTiff does not support open option BLOCKYSIZE\n",
            "WARNING:rasterio._env:CPLE_NotSupported in driver GTiff does not support open option COMPRESS\n",
            "WARNING:rasterio._env:CPLE_NotSupported in driver GTiff does not support open option INTERLEAVE\n"
          ]
        },
        {
          "output_type": "stream",
          "name": "stdout",
          "text": [
            "Done run 88 for bird Acorn Woodpecker\n"
          ]
        },
        {
          "output_type": "stream",
          "name": "stderr",
          "text": [
            "WARNING:rasterio._env:CPLE_NotSupported in driver GTiff does not support open option BLOCKYSIZE\n",
            "WARNING:rasterio._env:CPLE_NotSupported in driver GTiff does not support open option COMPRESS\n",
            "WARNING:rasterio._env:CPLE_NotSupported in driver GTiff does not support open option INTERLEAVE\n",
            "WARNING:rasterio._env:CPLE_NotSupported in driver GTiff does not support open option BLOCKYSIZE\n",
            "WARNING:rasterio._env:CPLE_NotSupported in driver GTiff does not support open option COMPRESS\n",
            "WARNING:rasterio._env:CPLE_NotSupported in driver GTiff does not support open option INTERLEAVE\n"
          ]
        },
        {
          "output_type": "stream",
          "name": "stdout",
          "text": [
            "Done run 89 for bird Acorn Woodpecker\n"
          ]
        },
        {
          "output_type": "stream",
          "name": "stderr",
          "text": [
            "WARNING:rasterio._env:CPLE_NotSupported in driver GTiff does not support open option BLOCKYSIZE\n",
            "WARNING:rasterio._env:CPLE_NotSupported in driver GTiff does not support open option COMPRESS\n",
            "WARNING:rasterio._env:CPLE_NotSupported in driver GTiff does not support open option INTERLEAVE\n",
            "WARNING:rasterio._env:CPLE_NotSupported in driver GTiff does not support open option BLOCKYSIZE\n",
            "WARNING:rasterio._env:CPLE_NotSupported in driver GTiff does not support open option COMPRESS\n",
            "WARNING:rasterio._env:CPLE_NotSupported in driver GTiff does not support open option INTERLEAVE\n"
          ]
        },
        {
          "output_type": "stream",
          "name": "stdout",
          "text": [
            "Done run 90 for bird Acorn Woodpecker\n"
          ]
        },
        {
          "output_type": "stream",
          "name": "stderr",
          "text": [
            "WARNING:rasterio._env:CPLE_NotSupported in driver GTiff does not support open option BLOCKYSIZE\n",
            "WARNING:rasterio._env:CPLE_NotSupported in driver GTiff does not support open option COMPRESS\n",
            "WARNING:rasterio._env:CPLE_NotSupported in driver GTiff does not support open option INTERLEAVE\n",
            "WARNING:rasterio._env:CPLE_NotSupported in driver GTiff does not support open option BLOCKYSIZE\n",
            "WARNING:rasterio._env:CPLE_NotSupported in driver GTiff does not support open option COMPRESS\n",
            "WARNING:rasterio._env:CPLE_NotSupported in driver GTiff does not support open option INTERLEAVE\n"
          ]
        },
        {
          "output_type": "stream",
          "name": "stdout",
          "text": [
            "Done run 91 for bird Acorn Woodpecker\n"
          ]
        },
        {
          "output_type": "stream",
          "name": "stderr",
          "text": [
            "WARNING:rasterio._env:CPLE_NotSupported in driver GTiff does not support open option BLOCKYSIZE\n",
            "WARNING:rasterio._env:CPLE_NotSupported in driver GTiff does not support open option COMPRESS\n",
            "WARNING:rasterio._env:CPLE_NotSupported in driver GTiff does not support open option INTERLEAVE\n",
            "WARNING:rasterio._env:CPLE_NotSupported in driver GTiff does not support open option BLOCKYSIZE\n",
            "WARNING:rasterio._env:CPLE_NotSupported in driver GTiff does not support open option COMPRESS\n",
            "WARNING:rasterio._env:CPLE_NotSupported in driver GTiff does not support open option INTERLEAVE\n"
          ]
        },
        {
          "output_type": "stream",
          "name": "stdout",
          "text": [
            "Done run 92 for bird Acorn Woodpecker\n"
          ]
        },
        {
          "output_type": "stream",
          "name": "stderr",
          "text": [
            "WARNING:rasterio._env:CPLE_NotSupported in driver GTiff does not support open option BLOCKYSIZE\n",
            "WARNING:rasterio._env:CPLE_NotSupported in driver GTiff does not support open option COMPRESS\n",
            "WARNING:rasterio._env:CPLE_NotSupported in driver GTiff does not support open option INTERLEAVE\n",
            "WARNING:rasterio._env:CPLE_NotSupported in driver GTiff does not support open option BLOCKYSIZE\n",
            "WARNING:rasterio._env:CPLE_NotSupported in driver GTiff does not support open option COMPRESS\n",
            "WARNING:rasterio._env:CPLE_NotSupported in driver GTiff does not support open option INTERLEAVE\n"
          ]
        },
        {
          "output_type": "stream",
          "name": "stdout",
          "text": [
            "Done run 93 for bird Acorn Woodpecker\n"
          ]
        },
        {
          "output_type": "stream",
          "name": "stderr",
          "text": [
            "WARNING:rasterio._env:CPLE_NotSupported in driver GTiff does not support open option BLOCKYSIZE\n",
            "WARNING:rasterio._env:CPLE_NotSupported in driver GTiff does not support open option COMPRESS\n",
            "WARNING:rasterio._env:CPLE_NotSupported in driver GTiff does not support open option INTERLEAVE\n",
            "WARNING:rasterio._env:CPLE_NotSupported in driver GTiff does not support open option BLOCKYSIZE\n",
            "WARNING:rasterio._env:CPLE_NotSupported in driver GTiff does not support open option COMPRESS\n",
            "WARNING:rasterio._env:CPLE_NotSupported in driver GTiff does not support open option INTERLEAVE\n"
          ]
        },
        {
          "output_type": "stream",
          "name": "stdout",
          "text": [
            "Done run 94 for bird Acorn Woodpecker\n"
          ]
        },
        {
          "output_type": "stream",
          "name": "stderr",
          "text": [
            "WARNING:rasterio._env:CPLE_NotSupported in driver GTiff does not support open option BLOCKYSIZE\n",
            "WARNING:rasterio._env:CPLE_NotSupported in driver GTiff does not support open option COMPRESS\n",
            "WARNING:rasterio._env:CPLE_NotSupported in driver GTiff does not support open option INTERLEAVE\n",
            "WARNING:rasterio._env:CPLE_NotSupported in driver GTiff does not support open option BLOCKYSIZE\n",
            "WARNING:rasterio._env:CPLE_NotSupported in driver GTiff does not support open option COMPRESS\n",
            "WARNING:rasterio._env:CPLE_NotSupported in driver GTiff does not support open option INTERLEAVE\n"
          ]
        },
        {
          "output_type": "stream",
          "name": "stdout",
          "text": [
            "Done run 95 for bird Acorn Woodpecker\n"
          ]
        },
        {
          "output_type": "stream",
          "name": "stderr",
          "text": [
            "WARNING:rasterio._env:CPLE_NotSupported in driver GTiff does not support open option BLOCKYSIZE\n",
            "WARNING:rasterio._env:CPLE_NotSupported in driver GTiff does not support open option COMPRESS\n",
            "WARNING:rasterio._env:CPLE_NotSupported in driver GTiff does not support open option INTERLEAVE\n",
            "WARNING:rasterio._env:CPLE_NotSupported in driver GTiff does not support open option BLOCKYSIZE\n",
            "WARNING:rasterio._env:CPLE_NotSupported in driver GTiff does not support open option COMPRESS\n",
            "WARNING:rasterio._env:CPLE_NotSupported in driver GTiff does not support open option INTERLEAVE\n"
          ]
        },
        {
          "output_type": "stream",
          "name": "stdout",
          "text": [
            "Done run 96 for bird Acorn Woodpecker\n"
          ]
        },
        {
          "output_type": "stream",
          "name": "stderr",
          "text": [
            "WARNING:rasterio._env:CPLE_NotSupported in driver GTiff does not support open option BLOCKYSIZE\n",
            "WARNING:rasterio._env:CPLE_NotSupported in driver GTiff does not support open option COMPRESS\n",
            "WARNING:rasterio._env:CPLE_NotSupported in driver GTiff does not support open option INTERLEAVE\n",
            "WARNING:rasterio._env:CPLE_NotSupported in driver GTiff does not support open option BLOCKYSIZE\n",
            "WARNING:rasterio._env:CPLE_NotSupported in driver GTiff does not support open option COMPRESS\n",
            "WARNING:rasterio._env:CPLE_NotSupported in driver GTiff does not support open option INTERLEAVE\n"
          ]
        },
        {
          "output_type": "stream",
          "name": "stdout",
          "text": [
            "Done run 97 for bird Acorn Woodpecker\n"
          ]
        },
        {
          "output_type": "stream",
          "name": "stderr",
          "text": [
            "WARNING:rasterio._env:CPLE_NotSupported in driver GTiff does not support open option BLOCKYSIZE\n",
            "WARNING:rasterio._env:CPLE_NotSupported in driver GTiff does not support open option COMPRESS\n",
            "WARNING:rasterio._env:CPLE_NotSupported in driver GTiff does not support open option INTERLEAVE\n",
            "WARNING:rasterio._env:CPLE_NotSupported in driver GTiff does not support open option BLOCKYSIZE\n",
            "WARNING:rasterio._env:CPLE_NotSupported in driver GTiff does not support open option COMPRESS\n",
            "WARNING:rasterio._env:CPLE_NotSupported in driver GTiff does not support open option INTERLEAVE\n"
          ]
        },
        {
          "output_type": "stream",
          "name": "stdout",
          "text": [
            "Done run 98 for bird Acorn Woodpecker\n",
            "Done run 99 for bird Acorn Woodpecker\n"
          ]
        },
        {
          "output_type": "stream",
          "name": "stderr",
          "text": [
            "WARNING:rasterio._env:CPLE_NotSupported in driver GTiff does not support open option BLOCKYSIZE\n",
            "WARNING:rasterio._env:CPLE_NotSupported in driver GTiff does not support open option COMPRESS\n",
            "WARNING:rasterio._env:CPLE_NotSupported in driver GTiff does not support open option INTERLEAVE\n",
            "WARNING:rasterio._env:CPLE_NotSupported in driver GTiff does not support open option BLOCKYSIZE\n",
            "WARNING:rasterio._env:CPLE_NotSupported in driver GTiff does not support open option COMPRESS\n",
            "WARNING:rasterio._env:CPLE_NotSupported in driver GTiff does not support open option INTERLEAVE\n",
            "WARNING:rasterio._env:CPLE_NotSupported in driver GTiff does not support open option BLOCKYSIZE\n",
            "WARNING:rasterio._env:CPLE_NotSupported in driver GTiff does not support open option COMPRESS\n",
            "WARNING:rasterio._env:CPLE_NotSupported in driver GTiff does not support open option INTERLEAVE\n",
            "WARNING:rasterio._env:CPLE_NotSupported in driver GTiff does not support open option BLOCKYSIZE\n",
            "WARNING:rasterio._env:CPLE_NotSupported in driver GTiff does not support open option COMPRESS\n",
            "WARNING:rasterio._env:CPLE_NotSupported in driver GTiff does not support open option INTERLEAVE\n"
          ]
        },
        {
          "output_type": "stream",
          "name": "stdout",
          "text": [
            "Done run 0 for bird Steller's Jay\n"
          ]
        },
        {
          "output_type": "stream",
          "name": "stderr",
          "text": [
            "WARNING:rasterio._env:CPLE_NotSupported in driver GTiff does not support open option BLOCKYSIZE\n",
            "WARNING:rasterio._env:CPLE_NotSupported in driver GTiff does not support open option COMPRESS\n",
            "WARNING:rasterio._env:CPLE_NotSupported in driver GTiff does not support open option INTERLEAVE\n",
            "WARNING:rasterio._env:CPLE_NotSupported in driver GTiff does not support open option BLOCKYSIZE\n",
            "WARNING:rasterio._env:CPLE_NotSupported in driver GTiff does not support open option COMPRESS\n",
            "WARNING:rasterio._env:CPLE_NotSupported in driver GTiff does not support open option INTERLEAVE\n"
          ]
        },
        {
          "output_type": "stream",
          "name": "stdout",
          "text": [
            "Done run 1 for bird Steller's Jay\n"
          ]
        },
        {
          "output_type": "stream",
          "name": "stderr",
          "text": [
            "WARNING:rasterio._env:CPLE_NotSupported in driver GTiff does not support open option BLOCKYSIZE\n",
            "WARNING:rasterio._env:CPLE_NotSupported in driver GTiff does not support open option COMPRESS\n",
            "WARNING:rasterio._env:CPLE_NotSupported in driver GTiff does not support open option INTERLEAVE\n",
            "WARNING:rasterio._env:CPLE_NotSupported in driver GTiff does not support open option BLOCKYSIZE\n",
            "WARNING:rasterio._env:CPLE_NotSupported in driver GTiff does not support open option COMPRESS\n",
            "WARNING:rasterio._env:CPLE_NotSupported in driver GTiff does not support open option INTERLEAVE\n"
          ]
        },
        {
          "output_type": "stream",
          "name": "stdout",
          "text": [
            "Done run 2 for bird Steller's Jay\n"
          ]
        },
        {
          "output_type": "stream",
          "name": "stderr",
          "text": [
            "WARNING:rasterio._env:CPLE_NotSupported in driver GTiff does not support open option BLOCKYSIZE\n",
            "WARNING:rasterio._env:CPLE_NotSupported in driver GTiff does not support open option COMPRESS\n",
            "WARNING:rasterio._env:CPLE_NotSupported in driver GTiff does not support open option INTERLEAVE\n",
            "WARNING:rasterio._env:CPLE_NotSupported in driver GTiff does not support open option BLOCKYSIZE\n",
            "WARNING:rasterio._env:CPLE_NotSupported in driver GTiff does not support open option COMPRESS\n",
            "WARNING:rasterio._env:CPLE_NotSupported in driver GTiff does not support open option INTERLEAVE\n"
          ]
        },
        {
          "output_type": "stream",
          "name": "stdout",
          "text": [
            "Done run 3 for bird Steller's Jay\n"
          ]
        },
        {
          "output_type": "stream",
          "name": "stderr",
          "text": [
            "WARNING:rasterio._env:CPLE_NotSupported in driver GTiff does not support open option BLOCKYSIZE\n",
            "WARNING:rasterio._env:CPLE_NotSupported in driver GTiff does not support open option COMPRESS\n",
            "WARNING:rasterio._env:CPLE_NotSupported in driver GTiff does not support open option INTERLEAVE\n",
            "WARNING:rasterio._env:CPLE_NotSupported in driver GTiff does not support open option BLOCKYSIZE\n",
            "WARNING:rasterio._env:CPLE_NotSupported in driver GTiff does not support open option COMPRESS\n",
            "WARNING:rasterio._env:CPLE_NotSupported in driver GTiff does not support open option INTERLEAVE\n"
          ]
        },
        {
          "output_type": "stream",
          "name": "stdout",
          "text": [
            "Done run 4 for bird Steller's Jay\n"
          ]
        },
        {
          "output_type": "stream",
          "name": "stderr",
          "text": [
            "WARNING:rasterio._env:CPLE_NotSupported in driver GTiff does not support open option BLOCKYSIZE\n",
            "WARNING:rasterio._env:CPLE_NotSupported in driver GTiff does not support open option COMPRESS\n",
            "WARNING:rasterio._env:CPLE_NotSupported in driver GTiff does not support open option INTERLEAVE\n",
            "WARNING:rasterio._env:CPLE_NotSupported in driver GTiff does not support open option BLOCKYSIZE\n",
            "WARNING:rasterio._env:CPLE_NotSupported in driver GTiff does not support open option COMPRESS\n",
            "WARNING:rasterio._env:CPLE_NotSupported in driver GTiff does not support open option INTERLEAVE\n"
          ]
        },
        {
          "output_type": "stream",
          "name": "stdout",
          "text": [
            "Done run 5 for bird Steller's Jay\n"
          ]
        },
        {
          "output_type": "stream",
          "name": "stderr",
          "text": [
            "WARNING:rasterio._env:CPLE_NotSupported in driver GTiff does not support open option BLOCKYSIZE\n",
            "WARNING:rasterio._env:CPLE_NotSupported in driver GTiff does not support open option COMPRESS\n",
            "WARNING:rasterio._env:CPLE_NotSupported in driver GTiff does not support open option INTERLEAVE\n",
            "WARNING:rasterio._env:CPLE_NotSupported in driver GTiff does not support open option BLOCKYSIZE\n",
            "WARNING:rasterio._env:CPLE_NotSupported in driver GTiff does not support open option COMPRESS\n",
            "WARNING:rasterio._env:CPLE_NotSupported in driver GTiff does not support open option INTERLEAVE\n"
          ]
        },
        {
          "output_type": "stream",
          "name": "stdout",
          "text": [
            "Done run 6 for bird Steller's Jay\n"
          ]
        },
        {
          "output_type": "stream",
          "name": "stderr",
          "text": [
            "WARNING:rasterio._env:CPLE_NotSupported in driver GTiff does not support open option BLOCKYSIZE\n",
            "WARNING:rasterio._env:CPLE_NotSupported in driver GTiff does not support open option COMPRESS\n",
            "WARNING:rasterio._env:CPLE_NotSupported in driver GTiff does not support open option INTERLEAVE\n",
            "WARNING:rasterio._env:CPLE_NotSupported in driver GTiff does not support open option BLOCKYSIZE\n",
            "WARNING:rasterio._env:CPLE_NotSupported in driver GTiff does not support open option COMPRESS\n",
            "WARNING:rasterio._env:CPLE_NotSupported in driver GTiff does not support open option INTERLEAVE\n"
          ]
        },
        {
          "output_type": "stream",
          "name": "stdout",
          "text": [
            "Done run 7 for bird Steller's Jay\n"
          ]
        },
        {
          "output_type": "stream",
          "name": "stderr",
          "text": [
            "WARNING:rasterio._env:CPLE_NotSupported in driver GTiff does not support open option BLOCKYSIZE\n",
            "WARNING:rasterio._env:CPLE_NotSupported in driver GTiff does not support open option COMPRESS\n",
            "WARNING:rasterio._env:CPLE_NotSupported in driver GTiff does not support open option INTERLEAVE\n",
            "WARNING:rasterio._env:CPLE_NotSupported in driver GTiff does not support open option BLOCKYSIZE\n",
            "WARNING:rasterio._env:CPLE_NotSupported in driver GTiff does not support open option COMPRESS\n",
            "WARNING:rasterio._env:CPLE_NotSupported in driver GTiff does not support open option INTERLEAVE\n"
          ]
        },
        {
          "output_type": "stream",
          "name": "stdout",
          "text": [
            "Done run 8 for bird Steller's Jay\n"
          ]
        },
        {
          "output_type": "stream",
          "name": "stderr",
          "text": [
            "WARNING:rasterio._env:CPLE_NotSupported in driver GTiff does not support open option BLOCKYSIZE\n",
            "WARNING:rasterio._env:CPLE_NotSupported in driver GTiff does not support open option COMPRESS\n",
            "WARNING:rasterio._env:CPLE_NotSupported in driver GTiff does not support open option INTERLEAVE\n",
            "WARNING:rasterio._env:CPLE_NotSupported in driver GTiff does not support open option BLOCKYSIZE\n",
            "WARNING:rasterio._env:CPLE_NotSupported in driver GTiff does not support open option COMPRESS\n",
            "WARNING:rasterio._env:CPLE_NotSupported in driver GTiff does not support open option INTERLEAVE\n"
          ]
        },
        {
          "output_type": "stream",
          "name": "stdout",
          "text": [
            "Done run 9 for bird Steller's Jay\n"
          ]
        },
        {
          "output_type": "stream",
          "name": "stderr",
          "text": [
            "WARNING:rasterio._env:CPLE_NotSupported in driver GTiff does not support open option BLOCKYSIZE\n",
            "WARNING:rasterio._env:CPLE_NotSupported in driver GTiff does not support open option COMPRESS\n",
            "WARNING:rasterio._env:CPLE_NotSupported in driver GTiff does not support open option INTERLEAVE\n",
            "WARNING:rasterio._env:CPLE_NotSupported in driver GTiff does not support open option BLOCKYSIZE\n",
            "WARNING:rasterio._env:CPLE_NotSupported in driver GTiff does not support open option COMPRESS\n",
            "WARNING:rasterio._env:CPLE_NotSupported in driver GTiff does not support open option INTERLEAVE\n"
          ]
        },
        {
          "output_type": "stream",
          "name": "stdout",
          "text": [
            "Done run 10 for bird Steller's Jay\n"
          ]
        },
        {
          "output_type": "stream",
          "name": "stderr",
          "text": [
            "WARNING:rasterio._env:CPLE_NotSupported in driver GTiff does not support open option BLOCKYSIZE\n",
            "WARNING:rasterio._env:CPLE_NotSupported in driver GTiff does not support open option COMPRESS\n",
            "WARNING:rasterio._env:CPLE_NotSupported in driver GTiff does not support open option INTERLEAVE\n",
            "WARNING:rasterio._env:CPLE_NotSupported in driver GTiff does not support open option BLOCKYSIZE\n",
            "WARNING:rasterio._env:CPLE_NotSupported in driver GTiff does not support open option COMPRESS\n",
            "WARNING:rasterio._env:CPLE_NotSupported in driver GTiff does not support open option INTERLEAVE\n"
          ]
        },
        {
          "output_type": "stream",
          "name": "stdout",
          "text": [
            "Done run 11 for bird Steller's Jay\n"
          ]
        },
        {
          "output_type": "stream",
          "name": "stderr",
          "text": [
            "WARNING:rasterio._env:CPLE_NotSupported in driver GTiff does not support open option BLOCKYSIZE\n",
            "WARNING:rasterio._env:CPLE_NotSupported in driver GTiff does not support open option COMPRESS\n",
            "WARNING:rasterio._env:CPLE_NotSupported in driver GTiff does not support open option INTERLEAVE\n",
            "WARNING:rasterio._env:CPLE_NotSupported in driver GTiff does not support open option BLOCKYSIZE\n",
            "WARNING:rasterio._env:CPLE_NotSupported in driver GTiff does not support open option COMPRESS\n",
            "WARNING:rasterio._env:CPLE_NotSupported in driver GTiff does not support open option INTERLEAVE\n"
          ]
        },
        {
          "output_type": "stream",
          "name": "stdout",
          "text": [
            "Done run 12 for bird Steller's Jay\n"
          ]
        },
        {
          "output_type": "stream",
          "name": "stderr",
          "text": [
            "WARNING:rasterio._env:CPLE_NotSupported in driver GTiff does not support open option BLOCKYSIZE\n",
            "WARNING:rasterio._env:CPLE_NotSupported in driver GTiff does not support open option COMPRESS\n",
            "WARNING:rasterio._env:CPLE_NotSupported in driver GTiff does not support open option INTERLEAVE\n",
            "WARNING:rasterio._env:CPLE_NotSupported in driver GTiff does not support open option BLOCKYSIZE\n",
            "WARNING:rasterio._env:CPLE_NotSupported in driver GTiff does not support open option COMPRESS\n",
            "WARNING:rasterio._env:CPLE_NotSupported in driver GTiff does not support open option INTERLEAVE\n"
          ]
        },
        {
          "output_type": "stream",
          "name": "stdout",
          "text": [
            "Done run 13 for bird Steller's Jay\n"
          ]
        },
        {
          "output_type": "stream",
          "name": "stderr",
          "text": [
            "WARNING:rasterio._env:CPLE_NotSupported in driver GTiff does not support open option BLOCKYSIZE\n",
            "WARNING:rasterio._env:CPLE_NotSupported in driver GTiff does not support open option COMPRESS\n",
            "WARNING:rasterio._env:CPLE_NotSupported in driver GTiff does not support open option INTERLEAVE\n",
            "WARNING:rasterio._env:CPLE_NotSupported in driver GTiff does not support open option BLOCKYSIZE\n",
            "WARNING:rasterio._env:CPLE_NotSupported in driver GTiff does not support open option COMPRESS\n",
            "WARNING:rasterio._env:CPLE_NotSupported in driver GTiff does not support open option INTERLEAVE\n"
          ]
        },
        {
          "output_type": "stream",
          "name": "stdout",
          "text": [
            "Done run 14 for bird Steller's Jay\n"
          ]
        },
        {
          "output_type": "stream",
          "name": "stderr",
          "text": [
            "WARNING:rasterio._env:CPLE_NotSupported in driver GTiff does not support open option BLOCKYSIZE\n",
            "WARNING:rasterio._env:CPLE_NotSupported in driver GTiff does not support open option COMPRESS\n",
            "WARNING:rasterio._env:CPLE_NotSupported in driver GTiff does not support open option INTERLEAVE\n",
            "WARNING:rasterio._env:CPLE_NotSupported in driver GTiff does not support open option BLOCKYSIZE\n",
            "WARNING:rasterio._env:CPLE_NotSupported in driver GTiff does not support open option COMPRESS\n",
            "WARNING:rasterio._env:CPLE_NotSupported in driver GTiff does not support open option INTERLEAVE\n"
          ]
        },
        {
          "output_type": "stream",
          "name": "stdout",
          "text": [
            "Done run 15 for bird Steller's Jay\n"
          ]
        },
        {
          "output_type": "stream",
          "name": "stderr",
          "text": [
            "WARNING:rasterio._env:CPLE_NotSupported in driver GTiff does not support open option BLOCKYSIZE\n",
            "WARNING:rasterio._env:CPLE_NotSupported in driver GTiff does not support open option COMPRESS\n",
            "WARNING:rasterio._env:CPLE_NotSupported in driver GTiff does not support open option INTERLEAVE\n",
            "WARNING:rasterio._env:CPLE_NotSupported in driver GTiff does not support open option BLOCKYSIZE\n",
            "WARNING:rasterio._env:CPLE_NotSupported in driver GTiff does not support open option COMPRESS\n",
            "WARNING:rasterio._env:CPLE_NotSupported in driver GTiff does not support open option INTERLEAVE\n"
          ]
        },
        {
          "output_type": "stream",
          "name": "stdout",
          "text": [
            "Done run 16 for bird Steller's Jay\n"
          ]
        },
        {
          "output_type": "stream",
          "name": "stderr",
          "text": [
            "WARNING:rasterio._env:CPLE_NotSupported in driver GTiff does not support open option BLOCKYSIZE\n",
            "WARNING:rasterio._env:CPLE_NotSupported in driver GTiff does not support open option COMPRESS\n",
            "WARNING:rasterio._env:CPLE_NotSupported in driver GTiff does not support open option INTERLEAVE\n",
            "WARNING:rasterio._env:CPLE_NotSupported in driver GTiff does not support open option BLOCKYSIZE\n",
            "WARNING:rasterio._env:CPLE_NotSupported in driver GTiff does not support open option COMPRESS\n",
            "WARNING:rasterio._env:CPLE_NotSupported in driver GTiff does not support open option INTERLEAVE\n"
          ]
        },
        {
          "output_type": "stream",
          "name": "stdout",
          "text": [
            "Done run 17 for bird Steller's Jay\n"
          ]
        },
        {
          "output_type": "stream",
          "name": "stderr",
          "text": [
            "WARNING:rasterio._env:CPLE_NotSupported in driver GTiff does not support open option BLOCKYSIZE\n",
            "WARNING:rasterio._env:CPLE_NotSupported in driver GTiff does not support open option COMPRESS\n",
            "WARNING:rasterio._env:CPLE_NotSupported in driver GTiff does not support open option INTERLEAVE\n",
            "WARNING:rasterio._env:CPLE_NotSupported in driver GTiff does not support open option BLOCKYSIZE\n",
            "WARNING:rasterio._env:CPLE_NotSupported in driver GTiff does not support open option COMPRESS\n",
            "WARNING:rasterio._env:CPLE_NotSupported in driver GTiff does not support open option INTERLEAVE\n"
          ]
        },
        {
          "output_type": "stream",
          "name": "stdout",
          "text": [
            "Done run 18 for bird Steller's Jay\n"
          ]
        },
        {
          "output_type": "stream",
          "name": "stderr",
          "text": [
            "WARNING:rasterio._env:CPLE_NotSupported in driver GTiff does not support open option BLOCKYSIZE\n",
            "WARNING:rasterio._env:CPLE_NotSupported in driver GTiff does not support open option COMPRESS\n",
            "WARNING:rasterio._env:CPLE_NotSupported in driver GTiff does not support open option INTERLEAVE\n",
            "WARNING:rasterio._env:CPLE_NotSupported in driver GTiff does not support open option BLOCKYSIZE\n",
            "WARNING:rasterio._env:CPLE_NotSupported in driver GTiff does not support open option COMPRESS\n",
            "WARNING:rasterio._env:CPLE_NotSupported in driver GTiff does not support open option INTERLEAVE\n"
          ]
        },
        {
          "output_type": "stream",
          "name": "stdout",
          "text": [
            "Done run 19 for bird Steller's Jay\n"
          ]
        },
        {
          "output_type": "stream",
          "name": "stderr",
          "text": [
            "WARNING:rasterio._env:CPLE_NotSupported in driver GTiff does not support open option BLOCKYSIZE\n",
            "WARNING:rasterio._env:CPLE_NotSupported in driver GTiff does not support open option COMPRESS\n",
            "WARNING:rasterio._env:CPLE_NotSupported in driver GTiff does not support open option INTERLEAVE\n",
            "WARNING:rasterio._env:CPLE_NotSupported in driver GTiff does not support open option BLOCKYSIZE\n",
            "WARNING:rasterio._env:CPLE_NotSupported in driver GTiff does not support open option COMPRESS\n",
            "WARNING:rasterio._env:CPLE_NotSupported in driver GTiff does not support open option INTERLEAVE\n"
          ]
        },
        {
          "output_type": "stream",
          "name": "stdout",
          "text": [
            "Done run 20 for bird Steller's Jay\n"
          ]
        },
        {
          "output_type": "stream",
          "name": "stderr",
          "text": [
            "WARNING:rasterio._env:CPLE_NotSupported in driver GTiff does not support open option BLOCKYSIZE\n",
            "WARNING:rasterio._env:CPLE_NotSupported in driver GTiff does not support open option COMPRESS\n",
            "WARNING:rasterio._env:CPLE_NotSupported in driver GTiff does not support open option INTERLEAVE\n",
            "WARNING:rasterio._env:CPLE_NotSupported in driver GTiff does not support open option BLOCKYSIZE\n",
            "WARNING:rasterio._env:CPLE_NotSupported in driver GTiff does not support open option COMPRESS\n",
            "WARNING:rasterio._env:CPLE_NotSupported in driver GTiff does not support open option INTERLEAVE\n"
          ]
        },
        {
          "output_type": "stream",
          "name": "stdout",
          "text": [
            "Done run 21 for bird Steller's Jay\n"
          ]
        },
        {
          "output_type": "stream",
          "name": "stderr",
          "text": [
            "WARNING:rasterio._env:CPLE_NotSupported in driver GTiff does not support open option BLOCKYSIZE\n",
            "WARNING:rasterio._env:CPLE_NotSupported in driver GTiff does not support open option COMPRESS\n",
            "WARNING:rasterio._env:CPLE_NotSupported in driver GTiff does not support open option INTERLEAVE\n",
            "WARNING:rasterio._env:CPLE_NotSupported in driver GTiff does not support open option BLOCKYSIZE\n",
            "WARNING:rasterio._env:CPLE_NotSupported in driver GTiff does not support open option COMPRESS\n",
            "WARNING:rasterio._env:CPLE_NotSupported in driver GTiff does not support open option INTERLEAVE\n"
          ]
        },
        {
          "output_type": "stream",
          "name": "stdout",
          "text": [
            "Done run 22 for bird Steller's Jay\n"
          ]
        },
        {
          "output_type": "stream",
          "name": "stderr",
          "text": [
            "WARNING:rasterio._env:CPLE_NotSupported in driver GTiff does not support open option BLOCKYSIZE\n",
            "WARNING:rasterio._env:CPLE_NotSupported in driver GTiff does not support open option COMPRESS\n",
            "WARNING:rasterio._env:CPLE_NotSupported in driver GTiff does not support open option INTERLEAVE\n",
            "WARNING:rasterio._env:CPLE_NotSupported in driver GTiff does not support open option BLOCKYSIZE\n",
            "WARNING:rasterio._env:CPLE_NotSupported in driver GTiff does not support open option COMPRESS\n",
            "WARNING:rasterio._env:CPLE_NotSupported in driver GTiff does not support open option INTERLEAVE\n"
          ]
        },
        {
          "output_type": "stream",
          "name": "stdout",
          "text": [
            "Done run 23 for bird Steller's Jay\n"
          ]
        },
        {
          "output_type": "stream",
          "name": "stderr",
          "text": [
            "WARNING:rasterio._env:CPLE_NotSupported in driver GTiff does not support open option BLOCKYSIZE\n",
            "WARNING:rasterio._env:CPLE_NotSupported in driver GTiff does not support open option COMPRESS\n",
            "WARNING:rasterio._env:CPLE_NotSupported in driver GTiff does not support open option INTERLEAVE\n",
            "WARNING:rasterio._env:CPLE_NotSupported in driver GTiff does not support open option BLOCKYSIZE\n",
            "WARNING:rasterio._env:CPLE_NotSupported in driver GTiff does not support open option COMPRESS\n",
            "WARNING:rasterio._env:CPLE_NotSupported in driver GTiff does not support open option INTERLEAVE\n"
          ]
        },
        {
          "output_type": "stream",
          "name": "stdout",
          "text": [
            "Done run 24 for bird Steller's Jay\n"
          ]
        },
        {
          "output_type": "stream",
          "name": "stderr",
          "text": [
            "WARNING:rasterio._env:CPLE_NotSupported in driver GTiff does not support open option BLOCKYSIZE\n",
            "WARNING:rasterio._env:CPLE_NotSupported in driver GTiff does not support open option COMPRESS\n",
            "WARNING:rasterio._env:CPLE_NotSupported in driver GTiff does not support open option INTERLEAVE\n",
            "WARNING:rasterio._env:CPLE_NotSupported in driver GTiff does not support open option BLOCKYSIZE\n",
            "WARNING:rasterio._env:CPLE_NotSupported in driver GTiff does not support open option COMPRESS\n",
            "WARNING:rasterio._env:CPLE_NotSupported in driver GTiff does not support open option INTERLEAVE\n"
          ]
        },
        {
          "output_type": "stream",
          "name": "stdout",
          "text": [
            "Done run 25 for bird Steller's Jay\n"
          ]
        },
        {
          "output_type": "stream",
          "name": "stderr",
          "text": [
            "WARNING:rasterio._env:CPLE_NotSupported in driver GTiff does not support open option BLOCKYSIZE\n",
            "WARNING:rasterio._env:CPLE_NotSupported in driver GTiff does not support open option COMPRESS\n",
            "WARNING:rasterio._env:CPLE_NotSupported in driver GTiff does not support open option INTERLEAVE\n",
            "WARNING:rasterio._env:CPLE_NotSupported in driver GTiff does not support open option BLOCKYSIZE\n",
            "WARNING:rasterio._env:CPLE_NotSupported in driver GTiff does not support open option COMPRESS\n",
            "WARNING:rasterio._env:CPLE_NotSupported in driver GTiff does not support open option INTERLEAVE\n"
          ]
        },
        {
          "output_type": "stream",
          "name": "stdout",
          "text": [
            "Done run 26 for bird Steller's Jay\n"
          ]
        },
        {
          "output_type": "stream",
          "name": "stderr",
          "text": [
            "WARNING:rasterio._env:CPLE_NotSupported in driver GTiff does not support open option BLOCKYSIZE\n",
            "WARNING:rasterio._env:CPLE_NotSupported in driver GTiff does not support open option COMPRESS\n",
            "WARNING:rasterio._env:CPLE_NotSupported in driver GTiff does not support open option INTERLEAVE\n",
            "WARNING:rasterio._env:CPLE_NotSupported in driver GTiff does not support open option BLOCKYSIZE\n",
            "WARNING:rasterio._env:CPLE_NotSupported in driver GTiff does not support open option COMPRESS\n",
            "WARNING:rasterio._env:CPLE_NotSupported in driver GTiff does not support open option INTERLEAVE\n"
          ]
        },
        {
          "output_type": "stream",
          "name": "stdout",
          "text": [
            "Done run 27 for bird Steller's Jay\n"
          ]
        },
        {
          "output_type": "stream",
          "name": "stderr",
          "text": [
            "WARNING:rasterio._env:CPLE_NotSupported in driver GTiff does not support open option BLOCKYSIZE\n",
            "WARNING:rasterio._env:CPLE_NotSupported in driver GTiff does not support open option COMPRESS\n",
            "WARNING:rasterio._env:CPLE_NotSupported in driver GTiff does not support open option INTERLEAVE\n",
            "WARNING:rasterio._env:CPLE_NotSupported in driver GTiff does not support open option BLOCKYSIZE\n",
            "WARNING:rasterio._env:CPLE_NotSupported in driver GTiff does not support open option COMPRESS\n",
            "WARNING:rasterio._env:CPLE_NotSupported in driver GTiff does not support open option INTERLEAVE\n"
          ]
        },
        {
          "output_type": "stream",
          "name": "stdout",
          "text": [
            "Done run 28 for bird Steller's Jay\n"
          ]
        },
        {
          "output_type": "stream",
          "name": "stderr",
          "text": [
            "WARNING:rasterio._env:CPLE_NotSupported in driver GTiff does not support open option BLOCKYSIZE\n",
            "WARNING:rasterio._env:CPLE_NotSupported in driver GTiff does not support open option COMPRESS\n",
            "WARNING:rasterio._env:CPLE_NotSupported in driver GTiff does not support open option INTERLEAVE\n",
            "WARNING:rasterio._env:CPLE_NotSupported in driver GTiff does not support open option BLOCKYSIZE\n",
            "WARNING:rasterio._env:CPLE_NotSupported in driver GTiff does not support open option COMPRESS\n",
            "WARNING:rasterio._env:CPLE_NotSupported in driver GTiff does not support open option INTERLEAVE\n"
          ]
        },
        {
          "output_type": "stream",
          "name": "stdout",
          "text": [
            "Done run 29 for bird Steller's Jay\n"
          ]
        },
        {
          "output_type": "stream",
          "name": "stderr",
          "text": [
            "WARNING:rasterio._env:CPLE_NotSupported in driver GTiff does not support open option BLOCKYSIZE\n",
            "WARNING:rasterio._env:CPLE_NotSupported in driver GTiff does not support open option COMPRESS\n",
            "WARNING:rasterio._env:CPLE_NotSupported in driver GTiff does not support open option INTERLEAVE\n",
            "WARNING:rasterio._env:CPLE_NotSupported in driver GTiff does not support open option BLOCKYSIZE\n",
            "WARNING:rasterio._env:CPLE_NotSupported in driver GTiff does not support open option COMPRESS\n",
            "WARNING:rasterio._env:CPLE_NotSupported in driver GTiff does not support open option INTERLEAVE\n"
          ]
        },
        {
          "output_type": "stream",
          "name": "stdout",
          "text": [
            "Done run 30 for bird Steller's Jay\n"
          ]
        },
        {
          "output_type": "stream",
          "name": "stderr",
          "text": [
            "WARNING:rasterio._env:CPLE_NotSupported in driver GTiff does not support open option BLOCKYSIZE\n",
            "WARNING:rasterio._env:CPLE_NotSupported in driver GTiff does not support open option COMPRESS\n",
            "WARNING:rasterio._env:CPLE_NotSupported in driver GTiff does not support open option INTERLEAVE\n",
            "WARNING:rasterio._env:CPLE_NotSupported in driver GTiff does not support open option BLOCKYSIZE\n",
            "WARNING:rasterio._env:CPLE_NotSupported in driver GTiff does not support open option COMPRESS\n",
            "WARNING:rasterio._env:CPLE_NotSupported in driver GTiff does not support open option INTERLEAVE\n"
          ]
        },
        {
          "output_type": "stream",
          "name": "stdout",
          "text": [
            "Done run 31 for bird Steller's Jay\n"
          ]
        },
        {
          "output_type": "stream",
          "name": "stderr",
          "text": [
            "WARNING:rasterio._env:CPLE_NotSupported in driver GTiff does not support open option BLOCKYSIZE\n",
            "WARNING:rasterio._env:CPLE_NotSupported in driver GTiff does not support open option COMPRESS\n",
            "WARNING:rasterio._env:CPLE_NotSupported in driver GTiff does not support open option INTERLEAVE\n",
            "WARNING:rasterio._env:CPLE_NotSupported in driver GTiff does not support open option BLOCKYSIZE\n",
            "WARNING:rasterio._env:CPLE_NotSupported in driver GTiff does not support open option COMPRESS\n",
            "WARNING:rasterio._env:CPLE_NotSupported in driver GTiff does not support open option INTERLEAVE\n"
          ]
        },
        {
          "output_type": "stream",
          "name": "stdout",
          "text": [
            "Done run 32 for bird Steller's Jay\n"
          ]
        },
        {
          "output_type": "stream",
          "name": "stderr",
          "text": [
            "WARNING:rasterio._env:CPLE_NotSupported in driver GTiff does not support open option BLOCKYSIZE\n",
            "WARNING:rasterio._env:CPLE_NotSupported in driver GTiff does not support open option COMPRESS\n",
            "WARNING:rasterio._env:CPLE_NotSupported in driver GTiff does not support open option INTERLEAVE\n",
            "WARNING:rasterio._env:CPLE_NotSupported in driver GTiff does not support open option BLOCKYSIZE\n",
            "WARNING:rasterio._env:CPLE_NotSupported in driver GTiff does not support open option COMPRESS\n",
            "WARNING:rasterio._env:CPLE_NotSupported in driver GTiff does not support open option INTERLEAVE\n"
          ]
        },
        {
          "output_type": "stream",
          "name": "stdout",
          "text": [
            "Done run 33 for bird Steller's Jay\n"
          ]
        },
        {
          "output_type": "stream",
          "name": "stderr",
          "text": [
            "WARNING:rasterio._env:CPLE_NotSupported in driver GTiff does not support open option BLOCKYSIZE\n",
            "WARNING:rasterio._env:CPLE_NotSupported in driver GTiff does not support open option COMPRESS\n",
            "WARNING:rasterio._env:CPLE_NotSupported in driver GTiff does not support open option INTERLEAVE\n",
            "WARNING:rasterio._env:CPLE_NotSupported in driver GTiff does not support open option BLOCKYSIZE\n",
            "WARNING:rasterio._env:CPLE_NotSupported in driver GTiff does not support open option COMPRESS\n",
            "WARNING:rasterio._env:CPLE_NotSupported in driver GTiff does not support open option INTERLEAVE\n"
          ]
        },
        {
          "output_type": "stream",
          "name": "stdout",
          "text": [
            "Done run 34 for bird Steller's Jay\n"
          ]
        },
        {
          "output_type": "stream",
          "name": "stderr",
          "text": [
            "WARNING:rasterio._env:CPLE_NotSupported in driver GTiff does not support open option BLOCKYSIZE\n",
            "WARNING:rasterio._env:CPLE_NotSupported in driver GTiff does not support open option COMPRESS\n",
            "WARNING:rasterio._env:CPLE_NotSupported in driver GTiff does not support open option INTERLEAVE\n",
            "WARNING:rasterio._env:CPLE_NotSupported in driver GTiff does not support open option BLOCKYSIZE\n",
            "WARNING:rasterio._env:CPLE_NotSupported in driver GTiff does not support open option COMPRESS\n",
            "WARNING:rasterio._env:CPLE_NotSupported in driver GTiff does not support open option INTERLEAVE\n"
          ]
        },
        {
          "output_type": "stream",
          "name": "stdout",
          "text": [
            "Done run 35 for bird Steller's Jay\n"
          ]
        },
        {
          "output_type": "stream",
          "name": "stderr",
          "text": [
            "WARNING:rasterio._env:CPLE_NotSupported in driver GTiff does not support open option BLOCKYSIZE\n",
            "WARNING:rasterio._env:CPLE_NotSupported in driver GTiff does not support open option COMPRESS\n",
            "WARNING:rasterio._env:CPLE_NotSupported in driver GTiff does not support open option INTERLEAVE\n",
            "WARNING:rasterio._env:CPLE_NotSupported in driver GTiff does not support open option BLOCKYSIZE\n",
            "WARNING:rasterio._env:CPLE_NotSupported in driver GTiff does not support open option COMPRESS\n",
            "WARNING:rasterio._env:CPLE_NotSupported in driver GTiff does not support open option INTERLEAVE\n"
          ]
        },
        {
          "output_type": "stream",
          "name": "stdout",
          "text": [
            "Done run 36 for bird Steller's Jay\n"
          ]
        },
        {
          "output_type": "stream",
          "name": "stderr",
          "text": [
            "WARNING:rasterio._env:CPLE_NotSupported in driver GTiff does not support open option BLOCKYSIZE\n",
            "WARNING:rasterio._env:CPLE_NotSupported in driver GTiff does not support open option COMPRESS\n",
            "WARNING:rasterio._env:CPLE_NotSupported in driver GTiff does not support open option INTERLEAVE\n",
            "WARNING:rasterio._env:CPLE_NotSupported in driver GTiff does not support open option BLOCKYSIZE\n",
            "WARNING:rasterio._env:CPLE_NotSupported in driver GTiff does not support open option COMPRESS\n",
            "WARNING:rasterio._env:CPLE_NotSupported in driver GTiff does not support open option INTERLEAVE\n"
          ]
        },
        {
          "output_type": "stream",
          "name": "stdout",
          "text": [
            "Done run 37 for bird Steller's Jay\n"
          ]
        },
        {
          "output_type": "stream",
          "name": "stderr",
          "text": [
            "WARNING:rasterio._env:CPLE_NotSupported in driver GTiff does not support open option BLOCKYSIZE\n",
            "WARNING:rasterio._env:CPLE_NotSupported in driver GTiff does not support open option COMPRESS\n",
            "WARNING:rasterio._env:CPLE_NotSupported in driver GTiff does not support open option INTERLEAVE\n",
            "WARNING:rasterio._env:CPLE_NotSupported in driver GTiff does not support open option BLOCKYSIZE\n",
            "WARNING:rasterio._env:CPLE_NotSupported in driver GTiff does not support open option COMPRESS\n",
            "WARNING:rasterio._env:CPLE_NotSupported in driver GTiff does not support open option INTERLEAVE\n"
          ]
        },
        {
          "output_type": "stream",
          "name": "stdout",
          "text": [
            "Done run 38 for bird Steller's Jay\n"
          ]
        },
        {
          "output_type": "stream",
          "name": "stderr",
          "text": [
            "WARNING:rasterio._env:CPLE_NotSupported in driver GTiff does not support open option BLOCKYSIZE\n",
            "WARNING:rasterio._env:CPLE_NotSupported in driver GTiff does not support open option COMPRESS\n",
            "WARNING:rasterio._env:CPLE_NotSupported in driver GTiff does not support open option INTERLEAVE\n",
            "WARNING:rasterio._env:CPLE_NotSupported in driver GTiff does not support open option BLOCKYSIZE\n",
            "WARNING:rasterio._env:CPLE_NotSupported in driver GTiff does not support open option COMPRESS\n",
            "WARNING:rasterio._env:CPLE_NotSupported in driver GTiff does not support open option INTERLEAVE\n"
          ]
        },
        {
          "output_type": "stream",
          "name": "stdout",
          "text": [
            "Done run 39 for bird Steller's Jay\n"
          ]
        },
        {
          "output_type": "stream",
          "name": "stderr",
          "text": [
            "WARNING:rasterio._env:CPLE_NotSupported in driver GTiff does not support open option BLOCKYSIZE\n",
            "WARNING:rasterio._env:CPLE_NotSupported in driver GTiff does not support open option COMPRESS\n",
            "WARNING:rasterio._env:CPLE_NotSupported in driver GTiff does not support open option INTERLEAVE\n",
            "WARNING:rasterio._env:CPLE_NotSupported in driver GTiff does not support open option BLOCKYSIZE\n",
            "WARNING:rasterio._env:CPLE_NotSupported in driver GTiff does not support open option COMPRESS\n",
            "WARNING:rasterio._env:CPLE_NotSupported in driver GTiff does not support open option INTERLEAVE\n"
          ]
        },
        {
          "output_type": "stream",
          "name": "stdout",
          "text": [
            "Done run 40 for bird Steller's Jay\n"
          ]
        },
        {
          "output_type": "stream",
          "name": "stderr",
          "text": [
            "WARNING:rasterio._env:CPLE_NotSupported in driver GTiff does not support open option BLOCKYSIZE\n",
            "WARNING:rasterio._env:CPLE_NotSupported in driver GTiff does not support open option COMPRESS\n",
            "WARNING:rasterio._env:CPLE_NotSupported in driver GTiff does not support open option INTERLEAVE\n",
            "WARNING:rasterio._env:CPLE_NotSupported in driver GTiff does not support open option BLOCKYSIZE\n",
            "WARNING:rasterio._env:CPLE_NotSupported in driver GTiff does not support open option COMPRESS\n",
            "WARNING:rasterio._env:CPLE_NotSupported in driver GTiff does not support open option INTERLEAVE\n"
          ]
        },
        {
          "output_type": "stream",
          "name": "stdout",
          "text": [
            "Done run 41 for bird Steller's Jay\n"
          ]
        },
        {
          "output_type": "stream",
          "name": "stderr",
          "text": [
            "WARNING:rasterio._env:CPLE_NotSupported in driver GTiff does not support open option BLOCKYSIZE\n",
            "WARNING:rasterio._env:CPLE_NotSupported in driver GTiff does not support open option COMPRESS\n",
            "WARNING:rasterio._env:CPLE_NotSupported in driver GTiff does not support open option INTERLEAVE\n",
            "WARNING:rasterio._env:CPLE_NotSupported in driver GTiff does not support open option BLOCKYSIZE\n",
            "WARNING:rasterio._env:CPLE_NotSupported in driver GTiff does not support open option COMPRESS\n",
            "WARNING:rasterio._env:CPLE_NotSupported in driver GTiff does not support open option INTERLEAVE\n"
          ]
        },
        {
          "output_type": "stream",
          "name": "stdout",
          "text": [
            "Done run 42 for bird Steller's Jay\n"
          ]
        },
        {
          "output_type": "stream",
          "name": "stderr",
          "text": [
            "WARNING:rasterio._env:CPLE_NotSupported in driver GTiff does not support open option BLOCKYSIZE\n",
            "WARNING:rasterio._env:CPLE_NotSupported in driver GTiff does not support open option COMPRESS\n",
            "WARNING:rasterio._env:CPLE_NotSupported in driver GTiff does not support open option INTERLEAVE\n",
            "WARNING:rasterio._env:CPLE_NotSupported in driver GTiff does not support open option BLOCKYSIZE\n",
            "WARNING:rasterio._env:CPLE_NotSupported in driver GTiff does not support open option COMPRESS\n",
            "WARNING:rasterio._env:CPLE_NotSupported in driver GTiff does not support open option INTERLEAVE\n"
          ]
        },
        {
          "output_type": "stream",
          "name": "stdout",
          "text": [
            "Done run 43 for bird Steller's Jay\n"
          ]
        },
        {
          "output_type": "stream",
          "name": "stderr",
          "text": [
            "WARNING:rasterio._env:CPLE_NotSupported in driver GTiff does not support open option BLOCKYSIZE\n",
            "WARNING:rasterio._env:CPLE_NotSupported in driver GTiff does not support open option COMPRESS\n",
            "WARNING:rasterio._env:CPLE_NotSupported in driver GTiff does not support open option INTERLEAVE\n",
            "WARNING:rasterio._env:CPLE_NotSupported in driver GTiff does not support open option BLOCKYSIZE\n",
            "WARNING:rasterio._env:CPLE_NotSupported in driver GTiff does not support open option COMPRESS\n",
            "WARNING:rasterio._env:CPLE_NotSupported in driver GTiff does not support open option INTERLEAVE\n"
          ]
        },
        {
          "output_type": "stream",
          "name": "stdout",
          "text": [
            "Done run 44 for bird Steller's Jay\n"
          ]
        },
        {
          "output_type": "stream",
          "name": "stderr",
          "text": [
            "WARNING:rasterio._env:CPLE_NotSupported in driver GTiff does not support open option BLOCKYSIZE\n",
            "WARNING:rasterio._env:CPLE_NotSupported in driver GTiff does not support open option COMPRESS\n",
            "WARNING:rasterio._env:CPLE_NotSupported in driver GTiff does not support open option INTERLEAVE\n",
            "WARNING:rasterio._env:CPLE_NotSupported in driver GTiff does not support open option BLOCKYSIZE\n",
            "WARNING:rasterio._env:CPLE_NotSupported in driver GTiff does not support open option COMPRESS\n",
            "WARNING:rasterio._env:CPLE_NotSupported in driver GTiff does not support open option INTERLEAVE\n"
          ]
        },
        {
          "output_type": "stream",
          "name": "stdout",
          "text": [
            "Done run 45 for bird Steller's Jay\n"
          ]
        },
        {
          "output_type": "stream",
          "name": "stderr",
          "text": [
            "WARNING:rasterio._env:CPLE_NotSupported in driver GTiff does not support open option BLOCKYSIZE\n",
            "WARNING:rasterio._env:CPLE_NotSupported in driver GTiff does not support open option COMPRESS\n",
            "WARNING:rasterio._env:CPLE_NotSupported in driver GTiff does not support open option INTERLEAVE\n",
            "WARNING:rasterio._env:CPLE_NotSupported in driver GTiff does not support open option BLOCKYSIZE\n",
            "WARNING:rasterio._env:CPLE_NotSupported in driver GTiff does not support open option COMPRESS\n",
            "WARNING:rasterio._env:CPLE_NotSupported in driver GTiff does not support open option INTERLEAVE\n"
          ]
        },
        {
          "output_type": "stream",
          "name": "stdout",
          "text": [
            "Done run 46 for bird Steller's Jay\n"
          ]
        },
        {
          "output_type": "stream",
          "name": "stderr",
          "text": [
            "WARNING:rasterio._env:CPLE_NotSupported in driver GTiff does not support open option BLOCKYSIZE\n",
            "WARNING:rasterio._env:CPLE_NotSupported in driver GTiff does not support open option COMPRESS\n",
            "WARNING:rasterio._env:CPLE_NotSupported in driver GTiff does not support open option INTERLEAVE\n",
            "WARNING:rasterio._env:CPLE_NotSupported in driver GTiff does not support open option BLOCKYSIZE\n",
            "WARNING:rasterio._env:CPLE_NotSupported in driver GTiff does not support open option COMPRESS\n",
            "WARNING:rasterio._env:CPLE_NotSupported in driver GTiff does not support open option INTERLEAVE\n"
          ]
        },
        {
          "output_type": "stream",
          "name": "stdout",
          "text": [
            "Done run 47 for bird Steller's Jay\n"
          ]
        },
        {
          "output_type": "stream",
          "name": "stderr",
          "text": [
            "WARNING:rasterio._env:CPLE_NotSupported in driver GTiff does not support open option BLOCKYSIZE\n",
            "WARNING:rasterio._env:CPLE_NotSupported in driver GTiff does not support open option COMPRESS\n",
            "WARNING:rasterio._env:CPLE_NotSupported in driver GTiff does not support open option INTERLEAVE\n",
            "WARNING:rasterio._env:CPLE_NotSupported in driver GTiff does not support open option BLOCKYSIZE\n",
            "WARNING:rasterio._env:CPLE_NotSupported in driver GTiff does not support open option COMPRESS\n",
            "WARNING:rasterio._env:CPLE_NotSupported in driver GTiff does not support open option INTERLEAVE\n"
          ]
        },
        {
          "output_type": "stream",
          "name": "stdout",
          "text": [
            "Done run 48 for bird Steller's Jay\n"
          ]
        },
        {
          "output_type": "stream",
          "name": "stderr",
          "text": [
            "WARNING:rasterio._env:CPLE_NotSupported in driver GTiff does not support open option BLOCKYSIZE\n",
            "WARNING:rasterio._env:CPLE_NotSupported in driver GTiff does not support open option COMPRESS\n",
            "WARNING:rasterio._env:CPLE_NotSupported in driver GTiff does not support open option INTERLEAVE\n",
            "WARNING:rasterio._env:CPLE_NotSupported in driver GTiff does not support open option BLOCKYSIZE\n",
            "WARNING:rasterio._env:CPLE_NotSupported in driver GTiff does not support open option COMPRESS\n",
            "WARNING:rasterio._env:CPLE_NotSupported in driver GTiff does not support open option INTERLEAVE\n"
          ]
        },
        {
          "output_type": "stream",
          "name": "stdout",
          "text": [
            "Done run 49 for bird Steller's Jay\n"
          ]
        },
        {
          "output_type": "stream",
          "name": "stderr",
          "text": [
            "WARNING:rasterio._env:CPLE_NotSupported in driver GTiff does not support open option BLOCKYSIZE\n",
            "WARNING:rasterio._env:CPLE_NotSupported in driver GTiff does not support open option COMPRESS\n",
            "WARNING:rasterio._env:CPLE_NotSupported in driver GTiff does not support open option INTERLEAVE\n",
            "WARNING:rasterio._env:CPLE_NotSupported in driver GTiff does not support open option BLOCKYSIZE\n",
            "WARNING:rasterio._env:CPLE_NotSupported in driver GTiff does not support open option COMPRESS\n",
            "WARNING:rasterio._env:CPLE_NotSupported in driver GTiff does not support open option INTERLEAVE\n"
          ]
        },
        {
          "output_type": "stream",
          "name": "stdout",
          "text": [
            "Done run 50 for bird Steller's Jay\n"
          ]
        },
        {
          "output_type": "stream",
          "name": "stderr",
          "text": [
            "WARNING:rasterio._env:CPLE_NotSupported in driver GTiff does not support open option BLOCKYSIZE\n",
            "WARNING:rasterio._env:CPLE_NotSupported in driver GTiff does not support open option COMPRESS\n",
            "WARNING:rasterio._env:CPLE_NotSupported in driver GTiff does not support open option INTERLEAVE\n",
            "WARNING:rasterio._env:CPLE_NotSupported in driver GTiff does not support open option BLOCKYSIZE\n",
            "WARNING:rasterio._env:CPLE_NotSupported in driver GTiff does not support open option COMPRESS\n",
            "WARNING:rasterio._env:CPLE_NotSupported in driver GTiff does not support open option INTERLEAVE\n"
          ]
        },
        {
          "output_type": "stream",
          "name": "stdout",
          "text": [
            "Done run 51 for bird Steller's Jay\n"
          ]
        },
        {
          "output_type": "stream",
          "name": "stderr",
          "text": [
            "WARNING:rasterio._env:CPLE_NotSupported in driver GTiff does not support open option BLOCKYSIZE\n",
            "WARNING:rasterio._env:CPLE_NotSupported in driver GTiff does not support open option COMPRESS\n",
            "WARNING:rasterio._env:CPLE_NotSupported in driver GTiff does not support open option INTERLEAVE\n",
            "WARNING:rasterio._env:CPLE_NotSupported in driver GTiff does not support open option BLOCKYSIZE\n",
            "WARNING:rasterio._env:CPLE_NotSupported in driver GTiff does not support open option COMPRESS\n",
            "WARNING:rasterio._env:CPLE_NotSupported in driver GTiff does not support open option INTERLEAVE\n"
          ]
        },
        {
          "output_type": "stream",
          "name": "stdout",
          "text": [
            "Done run 52 for bird Steller's Jay\n"
          ]
        },
        {
          "output_type": "stream",
          "name": "stderr",
          "text": [
            "WARNING:rasterio._env:CPLE_NotSupported in driver GTiff does not support open option BLOCKYSIZE\n",
            "WARNING:rasterio._env:CPLE_NotSupported in driver GTiff does not support open option COMPRESS\n",
            "WARNING:rasterio._env:CPLE_NotSupported in driver GTiff does not support open option INTERLEAVE\n",
            "WARNING:rasterio._env:CPLE_NotSupported in driver GTiff does not support open option BLOCKYSIZE\n",
            "WARNING:rasterio._env:CPLE_NotSupported in driver GTiff does not support open option COMPRESS\n",
            "WARNING:rasterio._env:CPLE_NotSupported in driver GTiff does not support open option INTERLEAVE\n"
          ]
        },
        {
          "output_type": "stream",
          "name": "stdout",
          "text": [
            "Done run 53 for bird Steller's Jay\n"
          ]
        },
        {
          "output_type": "stream",
          "name": "stderr",
          "text": [
            "WARNING:rasterio._env:CPLE_NotSupported in driver GTiff does not support open option BLOCKYSIZE\n",
            "WARNING:rasterio._env:CPLE_NotSupported in driver GTiff does not support open option COMPRESS\n",
            "WARNING:rasterio._env:CPLE_NotSupported in driver GTiff does not support open option INTERLEAVE\n",
            "WARNING:rasterio._env:CPLE_NotSupported in driver GTiff does not support open option BLOCKYSIZE\n",
            "WARNING:rasterio._env:CPLE_NotSupported in driver GTiff does not support open option COMPRESS\n",
            "WARNING:rasterio._env:CPLE_NotSupported in driver GTiff does not support open option INTERLEAVE\n"
          ]
        },
        {
          "output_type": "stream",
          "name": "stdout",
          "text": [
            "Done run 54 for bird Steller's Jay\n"
          ]
        },
        {
          "output_type": "stream",
          "name": "stderr",
          "text": [
            "WARNING:rasterio._env:CPLE_NotSupported in driver GTiff does not support open option BLOCKYSIZE\n",
            "WARNING:rasterio._env:CPLE_NotSupported in driver GTiff does not support open option COMPRESS\n",
            "WARNING:rasterio._env:CPLE_NotSupported in driver GTiff does not support open option INTERLEAVE\n",
            "WARNING:rasterio._env:CPLE_NotSupported in driver GTiff does not support open option BLOCKYSIZE\n",
            "WARNING:rasterio._env:CPLE_NotSupported in driver GTiff does not support open option COMPRESS\n",
            "WARNING:rasterio._env:CPLE_NotSupported in driver GTiff does not support open option INTERLEAVE\n"
          ]
        },
        {
          "output_type": "stream",
          "name": "stdout",
          "text": [
            "Done run 55 for bird Steller's Jay\n"
          ]
        },
        {
          "output_type": "stream",
          "name": "stderr",
          "text": [
            "WARNING:rasterio._env:CPLE_NotSupported in driver GTiff does not support open option BLOCKYSIZE\n",
            "WARNING:rasterio._env:CPLE_NotSupported in driver GTiff does not support open option COMPRESS\n",
            "WARNING:rasterio._env:CPLE_NotSupported in driver GTiff does not support open option INTERLEAVE\n",
            "WARNING:rasterio._env:CPLE_NotSupported in driver GTiff does not support open option BLOCKYSIZE\n",
            "WARNING:rasterio._env:CPLE_NotSupported in driver GTiff does not support open option COMPRESS\n",
            "WARNING:rasterio._env:CPLE_NotSupported in driver GTiff does not support open option INTERLEAVE\n"
          ]
        },
        {
          "output_type": "stream",
          "name": "stdout",
          "text": [
            "Done run 56 for bird Steller's Jay\n"
          ]
        },
        {
          "output_type": "stream",
          "name": "stderr",
          "text": [
            "WARNING:rasterio._env:CPLE_NotSupported in driver GTiff does not support open option BLOCKYSIZE\n",
            "WARNING:rasterio._env:CPLE_NotSupported in driver GTiff does not support open option COMPRESS\n",
            "WARNING:rasterio._env:CPLE_NotSupported in driver GTiff does not support open option INTERLEAVE\n",
            "WARNING:rasterio._env:CPLE_NotSupported in driver GTiff does not support open option BLOCKYSIZE\n",
            "WARNING:rasterio._env:CPLE_NotSupported in driver GTiff does not support open option COMPRESS\n",
            "WARNING:rasterio._env:CPLE_NotSupported in driver GTiff does not support open option INTERLEAVE\n"
          ]
        },
        {
          "output_type": "stream",
          "name": "stdout",
          "text": [
            "Done run 57 for bird Steller's Jay\n"
          ]
        },
        {
          "output_type": "stream",
          "name": "stderr",
          "text": [
            "WARNING:rasterio._env:CPLE_NotSupported in driver GTiff does not support open option BLOCKYSIZE\n",
            "WARNING:rasterio._env:CPLE_NotSupported in driver GTiff does not support open option COMPRESS\n",
            "WARNING:rasterio._env:CPLE_NotSupported in driver GTiff does not support open option INTERLEAVE\n",
            "WARNING:rasterio._env:CPLE_NotSupported in driver GTiff does not support open option BLOCKYSIZE\n",
            "WARNING:rasterio._env:CPLE_NotSupported in driver GTiff does not support open option COMPRESS\n",
            "WARNING:rasterio._env:CPLE_NotSupported in driver GTiff does not support open option INTERLEAVE\n"
          ]
        },
        {
          "output_type": "stream",
          "name": "stdout",
          "text": [
            "Done run 58 for bird Steller's Jay\n"
          ]
        },
        {
          "output_type": "stream",
          "name": "stderr",
          "text": [
            "WARNING:rasterio._env:CPLE_NotSupported in driver GTiff does not support open option BLOCKYSIZE\n",
            "WARNING:rasterio._env:CPLE_NotSupported in driver GTiff does not support open option COMPRESS\n",
            "WARNING:rasterio._env:CPLE_NotSupported in driver GTiff does not support open option INTERLEAVE\n",
            "WARNING:rasterio._env:CPLE_NotSupported in driver GTiff does not support open option BLOCKYSIZE\n",
            "WARNING:rasterio._env:CPLE_NotSupported in driver GTiff does not support open option COMPRESS\n",
            "WARNING:rasterio._env:CPLE_NotSupported in driver GTiff does not support open option INTERLEAVE\n"
          ]
        },
        {
          "output_type": "stream",
          "name": "stdout",
          "text": [
            "Done run 59 for bird Steller's Jay\n"
          ]
        },
        {
          "output_type": "stream",
          "name": "stderr",
          "text": [
            "WARNING:rasterio._env:CPLE_NotSupported in driver GTiff does not support open option BLOCKYSIZE\n",
            "WARNING:rasterio._env:CPLE_NotSupported in driver GTiff does not support open option COMPRESS\n",
            "WARNING:rasterio._env:CPLE_NotSupported in driver GTiff does not support open option INTERLEAVE\n",
            "WARNING:rasterio._env:CPLE_NotSupported in driver GTiff does not support open option BLOCKYSIZE\n",
            "WARNING:rasterio._env:CPLE_NotSupported in driver GTiff does not support open option COMPRESS\n",
            "WARNING:rasterio._env:CPLE_NotSupported in driver GTiff does not support open option INTERLEAVE\n"
          ]
        },
        {
          "output_type": "stream",
          "name": "stdout",
          "text": [
            "Done run 60 for bird Steller's Jay\n"
          ]
        },
        {
          "output_type": "stream",
          "name": "stderr",
          "text": [
            "WARNING:rasterio._env:CPLE_NotSupported in driver GTiff does not support open option BLOCKYSIZE\n",
            "WARNING:rasterio._env:CPLE_NotSupported in driver GTiff does not support open option COMPRESS\n",
            "WARNING:rasterio._env:CPLE_NotSupported in driver GTiff does not support open option INTERLEAVE\n",
            "WARNING:rasterio._env:CPLE_NotSupported in driver GTiff does not support open option BLOCKYSIZE\n",
            "WARNING:rasterio._env:CPLE_NotSupported in driver GTiff does not support open option COMPRESS\n",
            "WARNING:rasterio._env:CPLE_NotSupported in driver GTiff does not support open option INTERLEAVE\n"
          ]
        },
        {
          "output_type": "stream",
          "name": "stdout",
          "text": [
            "Done run 61 for bird Steller's Jay\n"
          ]
        },
        {
          "output_type": "stream",
          "name": "stderr",
          "text": [
            "WARNING:rasterio._env:CPLE_NotSupported in driver GTiff does not support open option BLOCKYSIZE\n",
            "WARNING:rasterio._env:CPLE_NotSupported in driver GTiff does not support open option COMPRESS\n",
            "WARNING:rasterio._env:CPLE_NotSupported in driver GTiff does not support open option INTERLEAVE\n",
            "WARNING:rasterio._env:CPLE_NotSupported in driver GTiff does not support open option BLOCKYSIZE\n",
            "WARNING:rasterio._env:CPLE_NotSupported in driver GTiff does not support open option COMPRESS\n",
            "WARNING:rasterio._env:CPLE_NotSupported in driver GTiff does not support open option INTERLEAVE\n"
          ]
        },
        {
          "output_type": "stream",
          "name": "stdout",
          "text": [
            "Done run 62 for bird Steller's Jay\n"
          ]
        },
        {
          "output_type": "stream",
          "name": "stderr",
          "text": [
            "WARNING:rasterio._env:CPLE_NotSupported in driver GTiff does not support open option BLOCKYSIZE\n",
            "WARNING:rasterio._env:CPLE_NotSupported in driver GTiff does not support open option COMPRESS\n",
            "WARNING:rasterio._env:CPLE_NotSupported in driver GTiff does not support open option INTERLEAVE\n",
            "WARNING:rasterio._env:CPLE_NotSupported in driver GTiff does not support open option BLOCKYSIZE\n",
            "WARNING:rasterio._env:CPLE_NotSupported in driver GTiff does not support open option COMPRESS\n",
            "WARNING:rasterio._env:CPLE_NotSupported in driver GTiff does not support open option INTERLEAVE\n"
          ]
        },
        {
          "output_type": "stream",
          "name": "stdout",
          "text": [
            "Done run 63 for bird Steller's Jay\n"
          ]
        },
        {
          "output_type": "stream",
          "name": "stderr",
          "text": [
            "WARNING:rasterio._env:CPLE_NotSupported in driver GTiff does not support open option BLOCKYSIZE\n",
            "WARNING:rasterio._env:CPLE_NotSupported in driver GTiff does not support open option COMPRESS\n",
            "WARNING:rasterio._env:CPLE_NotSupported in driver GTiff does not support open option INTERLEAVE\n",
            "WARNING:rasterio._env:CPLE_NotSupported in driver GTiff does not support open option BLOCKYSIZE\n",
            "WARNING:rasterio._env:CPLE_NotSupported in driver GTiff does not support open option COMPRESS\n",
            "WARNING:rasterio._env:CPLE_NotSupported in driver GTiff does not support open option INTERLEAVE\n"
          ]
        },
        {
          "output_type": "stream",
          "name": "stdout",
          "text": [
            "Done run 64 for bird Steller's Jay\n"
          ]
        },
        {
          "output_type": "stream",
          "name": "stderr",
          "text": [
            "WARNING:rasterio._env:CPLE_NotSupported in driver GTiff does not support open option BLOCKYSIZE\n",
            "WARNING:rasterio._env:CPLE_NotSupported in driver GTiff does not support open option COMPRESS\n",
            "WARNING:rasterio._env:CPLE_NotSupported in driver GTiff does not support open option INTERLEAVE\n",
            "WARNING:rasterio._env:CPLE_NotSupported in driver GTiff does not support open option BLOCKYSIZE\n",
            "WARNING:rasterio._env:CPLE_NotSupported in driver GTiff does not support open option COMPRESS\n",
            "WARNING:rasterio._env:CPLE_NotSupported in driver GTiff does not support open option INTERLEAVE\n"
          ]
        },
        {
          "output_type": "stream",
          "name": "stdout",
          "text": [
            "Done run 65 for bird Steller's Jay\n"
          ]
        },
        {
          "output_type": "stream",
          "name": "stderr",
          "text": [
            "WARNING:rasterio._env:CPLE_NotSupported in driver GTiff does not support open option BLOCKYSIZE\n",
            "WARNING:rasterio._env:CPLE_NotSupported in driver GTiff does not support open option COMPRESS\n",
            "WARNING:rasterio._env:CPLE_NotSupported in driver GTiff does not support open option INTERLEAVE\n",
            "WARNING:rasterio._env:CPLE_NotSupported in driver GTiff does not support open option BLOCKYSIZE\n",
            "WARNING:rasterio._env:CPLE_NotSupported in driver GTiff does not support open option COMPRESS\n",
            "WARNING:rasterio._env:CPLE_NotSupported in driver GTiff does not support open option INTERLEAVE\n"
          ]
        },
        {
          "output_type": "stream",
          "name": "stdout",
          "text": [
            "Done run 66 for bird Steller's Jay\n"
          ]
        },
        {
          "output_type": "stream",
          "name": "stderr",
          "text": [
            "WARNING:rasterio._env:CPLE_NotSupported in driver GTiff does not support open option BLOCKYSIZE\n",
            "WARNING:rasterio._env:CPLE_NotSupported in driver GTiff does not support open option COMPRESS\n",
            "WARNING:rasterio._env:CPLE_NotSupported in driver GTiff does not support open option INTERLEAVE\n",
            "WARNING:rasterio._env:CPLE_NotSupported in driver GTiff does not support open option BLOCKYSIZE\n",
            "WARNING:rasterio._env:CPLE_NotSupported in driver GTiff does not support open option COMPRESS\n",
            "WARNING:rasterio._env:CPLE_NotSupported in driver GTiff does not support open option INTERLEAVE\n"
          ]
        },
        {
          "output_type": "stream",
          "name": "stdout",
          "text": [
            "Done run 67 for bird Steller's Jay\n"
          ]
        },
        {
          "output_type": "stream",
          "name": "stderr",
          "text": [
            "WARNING:rasterio._env:CPLE_NotSupported in driver GTiff does not support open option BLOCKYSIZE\n",
            "WARNING:rasterio._env:CPLE_NotSupported in driver GTiff does not support open option COMPRESS\n",
            "WARNING:rasterio._env:CPLE_NotSupported in driver GTiff does not support open option INTERLEAVE\n",
            "WARNING:rasterio._env:CPLE_NotSupported in driver GTiff does not support open option BLOCKYSIZE\n",
            "WARNING:rasterio._env:CPLE_NotSupported in driver GTiff does not support open option COMPRESS\n",
            "WARNING:rasterio._env:CPLE_NotSupported in driver GTiff does not support open option INTERLEAVE\n"
          ]
        },
        {
          "output_type": "stream",
          "name": "stdout",
          "text": [
            "Done run 68 for bird Steller's Jay\n"
          ]
        },
        {
          "output_type": "stream",
          "name": "stderr",
          "text": [
            "WARNING:rasterio._env:CPLE_NotSupported in driver GTiff does not support open option BLOCKYSIZE\n",
            "WARNING:rasterio._env:CPLE_NotSupported in driver GTiff does not support open option COMPRESS\n",
            "WARNING:rasterio._env:CPLE_NotSupported in driver GTiff does not support open option INTERLEAVE\n",
            "WARNING:rasterio._env:CPLE_NotSupported in driver GTiff does not support open option BLOCKYSIZE\n",
            "WARNING:rasterio._env:CPLE_NotSupported in driver GTiff does not support open option COMPRESS\n",
            "WARNING:rasterio._env:CPLE_NotSupported in driver GTiff does not support open option INTERLEAVE\n"
          ]
        },
        {
          "output_type": "stream",
          "name": "stdout",
          "text": [
            "Done run 69 for bird Steller's Jay\n"
          ]
        },
        {
          "output_type": "stream",
          "name": "stderr",
          "text": [
            "WARNING:rasterio._env:CPLE_NotSupported in driver GTiff does not support open option BLOCKYSIZE\n",
            "WARNING:rasterio._env:CPLE_NotSupported in driver GTiff does not support open option COMPRESS\n",
            "WARNING:rasterio._env:CPLE_NotSupported in driver GTiff does not support open option INTERLEAVE\n",
            "WARNING:rasterio._env:CPLE_NotSupported in driver GTiff does not support open option BLOCKYSIZE\n",
            "WARNING:rasterio._env:CPLE_NotSupported in driver GTiff does not support open option COMPRESS\n",
            "WARNING:rasterio._env:CPLE_NotSupported in driver GTiff does not support open option INTERLEAVE\n"
          ]
        },
        {
          "output_type": "stream",
          "name": "stdout",
          "text": [
            "Done run 70 for bird Steller's Jay\n"
          ]
        },
        {
          "output_type": "stream",
          "name": "stderr",
          "text": [
            "WARNING:rasterio._env:CPLE_NotSupported in driver GTiff does not support open option BLOCKYSIZE\n",
            "WARNING:rasterio._env:CPLE_NotSupported in driver GTiff does not support open option COMPRESS\n",
            "WARNING:rasterio._env:CPLE_NotSupported in driver GTiff does not support open option INTERLEAVE\n",
            "WARNING:rasterio._env:CPLE_NotSupported in driver GTiff does not support open option BLOCKYSIZE\n",
            "WARNING:rasterio._env:CPLE_NotSupported in driver GTiff does not support open option COMPRESS\n",
            "WARNING:rasterio._env:CPLE_NotSupported in driver GTiff does not support open option INTERLEAVE\n"
          ]
        },
        {
          "output_type": "stream",
          "name": "stdout",
          "text": [
            "Done run 71 for bird Steller's Jay\n"
          ]
        },
        {
          "output_type": "stream",
          "name": "stderr",
          "text": [
            "WARNING:rasterio._env:CPLE_NotSupported in driver GTiff does not support open option BLOCKYSIZE\n",
            "WARNING:rasterio._env:CPLE_NotSupported in driver GTiff does not support open option COMPRESS\n",
            "WARNING:rasterio._env:CPLE_NotSupported in driver GTiff does not support open option INTERLEAVE\n",
            "WARNING:rasterio._env:CPLE_NotSupported in driver GTiff does not support open option BLOCKYSIZE\n",
            "WARNING:rasterio._env:CPLE_NotSupported in driver GTiff does not support open option COMPRESS\n",
            "WARNING:rasterio._env:CPLE_NotSupported in driver GTiff does not support open option INTERLEAVE\n"
          ]
        },
        {
          "output_type": "stream",
          "name": "stdout",
          "text": [
            "Done run 72 for bird Steller's Jay\n"
          ]
        },
        {
          "output_type": "stream",
          "name": "stderr",
          "text": [
            "WARNING:rasterio._env:CPLE_NotSupported in driver GTiff does not support open option BLOCKYSIZE\n",
            "WARNING:rasterio._env:CPLE_NotSupported in driver GTiff does not support open option COMPRESS\n",
            "WARNING:rasterio._env:CPLE_NotSupported in driver GTiff does not support open option INTERLEAVE\n",
            "WARNING:rasterio._env:CPLE_NotSupported in driver GTiff does not support open option BLOCKYSIZE\n",
            "WARNING:rasterio._env:CPLE_NotSupported in driver GTiff does not support open option COMPRESS\n",
            "WARNING:rasterio._env:CPLE_NotSupported in driver GTiff does not support open option INTERLEAVE\n"
          ]
        },
        {
          "output_type": "stream",
          "name": "stdout",
          "text": [
            "Done run 73 for bird Steller's Jay\n"
          ]
        },
        {
          "output_type": "stream",
          "name": "stderr",
          "text": [
            "WARNING:rasterio._env:CPLE_NotSupported in driver GTiff does not support open option BLOCKYSIZE\n",
            "WARNING:rasterio._env:CPLE_NotSupported in driver GTiff does not support open option COMPRESS\n",
            "WARNING:rasterio._env:CPLE_NotSupported in driver GTiff does not support open option INTERLEAVE\n",
            "WARNING:rasterio._env:CPLE_NotSupported in driver GTiff does not support open option BLOCKYSIZE\n",
            "WARNING:rasterio._env:CPLE_NotSupported in driver GTiff does not support open option COMPRESS\n",
            "WARNING:rasterio._env:CPLE_NotSupported in driver GTiff does not support open option INTERLEAVE\n"
          ]
        },
        {
          "output_type": "stream",
          "name": "stdout",
          "text": [
            "Done run 74 for bird Steller's Jay\n"
          ]
        },
        {
          "output_type": "stream",
          "name": "stderr",
          "text": [
            "WARNING:rasterio._env:CPLE_NotSupported in driver GTiff does not support open option BLOCKYSIZE\n",
            "WARNING:rasterio._env:CPLE_NotSupported in driver GTiff does not support open option COMPRESS\n",
            "WARNING:rasterio._env:CPLE_NotSupported in driver GTiff does not support open option INTERLEAVE\n",
            "WARNING:rasterio._env:CPLE_NotSupported in driver GTiff does not support open option BLOCKYSIZE\n",
            "WARNING:rasterio._env:CPLE_NotSupported in driver GTiff does not support open option COMPRESS\n",
            "WARNING:rasterio._env:CPLE_NotSupported in driver GTiff does not support open option INTERLEAVE\n"
          ]
        },
        {
          "output_type": "stream",
          "name": "stdout",
          "text": [
            "Done run 75 for bird Steller's Jay\n"
          ]
        },
        {
          "output_type": "stream",
          "name": "stderr",
          "text": [
            "WARNING:rasterio._env:CPLE_NotSupported in driver GTiff does not support open option BLOCKYSIZE\n",
            "WARNING:rasterio._env:CPLE_NotSupported in driver GTiff does not support open option COMPRESS\n",
            "WARNING:rasterio._env:CPLE_NotSupported in driver GTiff does not support open option INTERLEAVE\n",
            "WARNING:rasterio._env:CPLE_NotSupported in driver GTiff does not support open option BLOCKYSIZE\n",
            "WARNING:rasterio._env:CPLE_NotSupported in driver GTiff does not support open option COMPRESS\n",
            "WARNING:rasterio._env:CPLE_NotSupported in driver GTiff does not support open option INTERLEAVE\n"
          ]
        },
        {
          "output_type": "stream",
          "name": "stdout",
          "text": [
            "Done run 76 for bird Steller's Jay\n"
          ]
        },
        {
          "output_type": "stream",
          "name": "stderr",
          "text": [
            "WARNING:rasterio._env:CPLE_NotSupported in driver GTiff does not support open option BLOCKYSIZE\n",
            "WARNING:rasterio._env:CPLE_NotSupported in driver GTiff does not support open option COMPRESS\n",
            "WARNING:rasterio._env:CPLE_NotSupported in driver GTiff does not support open option INTERLEAVE\n",
            "WARNING:rasterio._env:CPLE_NotSupported in driver GTiff does not support open option BLOCKYSIZE\n",
            "WARNING:rasterio._env:CPLE_NotSupported in driver GTiff does not support open option COMPRESS\n",
            "WARNING:rasterio._env:CPLE_NotSupported in driver GTiff does not support open option INTERLEAVE\n"
          ]
        },
        {
          "output_type": "stream",
          "name": "stdout",
          "text": [
            "Done run 77 for bird Steller's Jay\n"
          ]
        },
        {
          "output_type": "stream",
          "name": "stderr",
          "text": [
            "WARNING:rasterio._env:CPLE_NotSupported in driver GTiff does not support open option BLOCKYSIZE\n",
            "WARNING:rasterio._env:CPLE_NotSupported in driver GTiff does not support open option COMPRESS\n",
            "WARNING:rasterio._env:CPLE_NotSupported in driver GTiff does not support open option INTERLEAVE\n",
            "WARNING:rasterio._env:CPLE_NotSupported in driver GTiff does not support open option BLOCKYSIZE\n",
            "WARNING:rasterio._env:CPLE_NotSupported in driver GTiff does not support open option COMPRESS\n",
            "WARNING:rasterio._env:CPLE_NotSupported in driver GTiff does not support open option INTERLEAVE\n"
          ]
        },
        {
          "output_type": "stream",
          "name": "stdout",
          "text": [
            "Done run 78 for bird Steller's Jay\n"
          ]
        },
        {
          "output_type": "stream",
          "name": "stderr",
          "text": [
            "WARNING:rasterio._env:CPLE_NotSupported in driver GTiff does not support open option BLOCKYSIZE\n",
            "WARNING:rasterio._env:CPLE_NotSupported in driver GTiff does not support open option COMPRESS\n",
            "WARNING:rasterio._env:CPLE_NotSupported in driver GTiff does not support open option INTERLEAVE\n",
            "WARNING:rasterio._env:CPLE_NotSupported in driver GTiff does not support open option BLOCKYSIZE\n",
            "WARNING:rasterio._env:CPLE_NotSupported in driver GTiff does not support open option COMPRESS\n",
            "WARNING:rasterio._env:CPLE_NotSupported in driver GTiff does not support open option INTERLEAVE\n"
          ]
        },
        {
          "output_type": "stream",
          "name": "stdout",
          "text": [
            "Done run 79 for bird Steller's Jay\n"
          ]
        },
        {
          "output_type": "stream",
          "name": "stderr",
          "text": [
            "WARNING:rasterio._env:CPLE_NotSupported in driver GTiff does not support open option BLOCKYSIZE\n",
            "WARNING:rasterio._env:CPLE_NotSupported in driver GTiff does not support open option COMPRESS\n",
            "WARNING:rasterio._env:CPLE_NotSupported in driver GTiff does not support open option INTERLEAVE\n",
            "WARNING:rasterio._env:CPLE_NotSupported in driver GTiff does not support open option BLOCKYSIZE\n",
            "WARNING:rasterio._env:CPLE_NotSupported in driver GTiff does not support open option COMPRESS\n",
            "WARNING:rasterio._env:CPLE_NotSupported in driver GTiff does not support open option INTERLEAVE\n"
          ]
        },
        {
          "output_type": "stream",
          "name": "stdout",
          "text": [
            "Done run 80 for bird Steller's Jay\n"
          ]
        },
        {
          "output_type": "stream",
          "name": "stderr",
          "text": [
            "WARNING:rasterio._env:CPLE_NotSupported in driver GTiff does not support open option BLOCKYSIZE\n",
            "WARNING:rasterio._env:CPLE_NotSupported in driver GTiff does not support open option COMPRESS\n",
            "WARNING:rasterio._env:CPLE_NotSupported in driver GTiff does not support open option INTERLEAVE\n",
            "WARNING:rasterio._env:CPLE_NotSupported in driver GTiff does not support open option BLOCKYSIZE\n",
            "WARNING:rasterio._env:CPLE_NotSupported in driver GTiff does not support open option COMPRESS\n",
            "WARNING:rasterio._env:CPLE_NotSupported in driver GTiff does not support open option INTERLEAVE\n"
          ]
        },
        {
          "output_type": "stream",
          "name": "stdout",
          "text": [
            "Done run 81 for bird Steller's Jay\n"
          ]
        },
        {
          "output_type": "stream",
          "name": "stderr",
          "text": [
            "WARNING:rasterio._env:CPLE_NotSupported in driver GTiff does not support open option BLOCKYSIZE\n",
            "WARNING:rasterio._env:CPLE_NotSupported in driver GTiff does not support open option COMPRESS\n",
            "WARNING:rasterio._env:CPLE_NotSupported in driver GTiff does not support open option INTERLEAVE\n",
            "WARNING:rasterio._env:CPLE_NotSupported in driver GTiff does not support open option BLOCKYSIZE\n",
            "WARNING:rasterio._env:CPLE_NotSupported in driver GTiff does not support open option COMPRESS\n",
            "WARNING:rasterio._env:CPLE_NotSupported in driver GTiff does not support open option INTERLEAVE\n"
          ]
        },
        {
          "output_type": "stream",
          "name": "stdout",
          "text": [
            "Done run 82 for bird Steller's Jay\n"
          ]
        },
        {
          "output_type": "stream",
          "name": "stderr",
          "text": [
            "WARNING:rasterio._env:CPLE_NotSupported in driver GTiff does not support open option BLOCKYSIZE\n",
            "WARNING:rasterio._env:CPLE_NotSupported in driver GTiff does not support open option COMPRESS\n",
            "WARNING:rasterio._env:CPLE_NotSupported in driver GTiff does not support open option INTERLEAVE\n",
            "WARNING:rasterio._env:CPLE_NotSupported in driver GTiff does not support open option BLOCKYSIZE\n",
            "WARNING:rasterio._env:CPLE_NotSupported in driver GTiff does not support open option COMPRESS\n",
            "WARNING:rasterio._env:CPLE_NotSupported in driver GTiff does not support open option INTERLEAVE\n"
          ]
        },
        {
          "output_type": "stream",
          "name": "stdout",
          "text": [
            "Done run 83 for bird Steller's Jay\n"
          ]
        },
        {
          "output_type": "stream",
          "name": "stderr",
          "text": [
            "WARNING:rasterio._env:CPLE_NotSupported in driver GTiff does not support open option BLOCKYSIZE\n",
            "WARNING:rasterio._env:CPLE_NotSupported in driver GTiff does not support open option COMPRESS\n",
            "WARNING:rasterio._env:CPLE_NotSupported in driver GTiff does not support open option INTERLEAVE\n",
            "WARNING:rasterio._env:CPLE_NotSupported in driver GTiff does not support open option BLOCKYSIZE\n",
            "WARNING:rasterio._env:CPLE_NotSupported in driver GTiff does not support open option COMPRESS\n",
            "WARNING:rasterio._env:CPLE_NotSupported in driver GTiff does not support open option INTERLEAVE\n"
          ]
        },
        {
          "output_type": "stream",
          "name": "stdout",
          "text": [
            "Done run 84 for bird Steller's Jay\n"
          ]
        },
        {
          "output_type": "stream",
          "name": "stderr",
          "text": [
            "WARNING:rasterio._env:CPLE_NotSupported in driver GTiff does not support open option BLOCKYSIZE\n",
            "WARNING:rasterio._env:CPLE_NotSupported in driver GTiff does not support open option COMPRESS\n",
            "WARNING:rasterio._env:CPLE_NotSupported in driver GTiff does not support open option INTERLEAVE\n",
            "WARNING:rasterio._env:CPLE_NotSupported in driver GTiff does not support open option BLOCKYSIZE\n",
            "WARNING:rasterio._env:CPLE_NotSupported in driver GTiff does not support open option COMPRESS\n",
            "WARNING:rasterio._env:CPLE_NotSupported in driver GTiff does not support open option INTERLEAVE\n"
          ]
        },
        {
          "output_type": "stream",
          "name": "stdout",
          "text": [
            "Done run 85 for bird Steller's Jay\n"
          ]
        },
        {
          "output_type": "stream",
          "name": "stderr",
          "text": [
            "WARNING:rasterio._env:CPLE_NotSupported in driver GTiff does not support open option BLOCKYSIZE\n",
            "WARNING:rasterio._env:CPLE_NotSupported in driver GTiff does not support open option COMPRESS\n",
            "WARNING:rasterio._env:CPLE_NotSupported in driver GTiff does not support open option INTERLEAVE\n",
            "WARNING:rasterio._env:CPLE_NotSupported in driver GTiff does not support open option BLOCKYSIZE\n",
            "WARNING:rasterio._env:CPLE_NotSupported in driver GTiff does not support open option COMPRESS\n",
            "WARNING:rasterio._env:CPLE_NotSupported in driver GTiff does not support open option INTERLEAVE\n"
          ]
        },
        {
          "output_type": "stream",
          "name": "stdout",
          "text": [
            "Done run 86 for bird Steller's Jay\n"
          ]
        },
        {
          "output_type": "stream",
          "name": "stderr",
          "text": [
            "WARNING:rasterio._env:CPLE_NotSupported in driver GTiff does not support open option BLOCKYSIZE\n",
            "WARNING:rasterio._env:CPLE_NotSupported in driver GTiff does not support open option COMPRESS\n",
            "WARNING:rasterio._env:CPLE_NotSupported in driver GTiff does not support open option INTERLEAVE\n",
            "WARNING:rasterio._env:CPLE_NotSupported in driver GTiff does not support open option BLOCKYSIZE\n",
            "WARNING:rasterio._env:CPLE_NotSupported in driver GTiff does not support open option COMPRESS\n",
            "WARNING:rasterio._env:CPLE_NotSupported in driver GTiff does not support open option INTERLEAVE\n"
          ]
        },
        {
          "output_type": "stream",
          "name": "stdout",
          "text": [
            "Done run 87 for bird Steller's Jay\n"
          ]
        },
        {
          "output_type": "stream",
          "name": "stderr",
          "text": [
            "WARNING:rasterio._env:CPLE_NotSupported in driver GTiff does not support open option BLOCKYSIZE\n",
            "WARNING:rasterio._env:CPLE_NotSupported in driver GTiff does not support open option COMPRESS\n",
            "WARNING:rasterio._env:CPLE_NotSupported in driver GTiff does not support open option INTERLEAVE\n",
            "WARNING:rasterio._env:CPLE_NotSupported in driver GTiff does not support open option BLOCKYSIZE\n",
            "WARNING:rasterio._env:CPLE_NotSupported in driver GTiff does not support open option COMPRESS\n",
            "WARNING:rasterio._env:CPLE_NotSupported in driver GTiff does not support open option INTERLEAVE\n"
          ]
        },
        {
          "output_type": "stream",
          "name": "stdout",
          "text": [
            "Done run 88 for bird Steller's Jay\n"
          ]
        },
        {
          "output_type": "stream",
          "name": "stderr",
          "text": [
            "WARNING:rasterio._env:CPLE_NotSupported in driver GTiff does not support open option BLOCKYSIZE\n",
            "WARNING:rasterio._env:CPLE_NotSupported in driver GTiff does not support open option COMPRESS\n",
            "WARNING:rasterio._env:CPLE_NotSupported in driver GTiff does not support open option INTERLEAVE\n",
            "WARNING:rasterio._env:CPLE_NotSupported in driver GTiff does not support open option BLOCKYSIZE\n",
            "WARNING:rasterio._env:CPLE_NotSupported in driver GTiff does not support open option COMPRESS\n",
            "WARNING:rasterio._env:CPLE_NotSupported in driver GTiff does not support open option INTERLEAVE\n"
          ]
        },
        {
          "output_type": "stream",
          "name": "stdout",
          "text": [
            "Done run 89 for bird Steller's Jay\n"
          ]
        },
        {
          "output_type": "stream",
          "name": "stderr",
          "text": [
            "WARNING:rasterio._env:CPLE_NotSupported in driver GTiff does not support open option BLOCKYSIZE\n",
            "WARNING:rasterio._env:CPLE_NotSupported in driver GTiff does not support open option COMPRESS\n",
            "WARNING:rasterio._env:CPLE_NotSupported in driver GTiff does not support open option INTERLEAVE\n",
            "WARNING:rasterio._env:CPLE_NotSupported in driver GTiff does not support open option BLOCKYSIZE\n",
            "WARNING:rasterio._env:CPLE_NotSupported in driver GTiff does not support open option COMPRESS\n",
            "WARNING:rasterio._env:CPLE_NotSupported in driver GTiff does not support open option INTERLEAVE\n"
          ]
        },
        {
          "output_type": "stream",
          "name": "stdout",
          "text": [
            "Done run 90 for bird Steller's Jay\n"
          ]
        },
        {
          "output_type": "stream",
          "name": "stderr",
          "text": [
            "WARNING:rasterio._env:CPLE_NotSupported in driver GTiff does not support open option BLOCKYSIZE\n",
            "WARNING:rasterio._env:CPLE_NotSupported in driver GTiff does not support open option COMPRESS\n",
            "WARNING:rasterio._env:CPLE_NotSupported in driver GTiff does not support open option INTERLEAVE\n",
            "WARNING:rasterio._env:CPLE_NotSupported in driver GTiff does not support open option BLOCKYSIZE\n",
            "WARNING:rasterio._env:CPLE_NotSupported in driver GTiff does not support open option COMPRESS\n",
            "WARNING:rasterio._env:CPLE_NotSupported in driver GTiff does not support open option INTERLEAVE\n"
          ]
        },
        {
          "output_type": "stream",
          "name": "stdout",
          "text": [
            "Done run 91 for bird Steller's Jay\n"
          ]
        },
        {
          "output_type": "stream",
          "name": "stderr",
          "text": [
            "WARNING:rasterio._env:CPLE_NotSupported in driver GTiff does not support open option BLOCKYSIZE\n",
            "WARNING:rasterio._env:CPLE_NotSupported in driver GTiff does not support open option COMPRESS\n",
            "WARNING:rasterio._env:CPLE_NotSupported in driver GTiff does not support open option INTERLEAVE\n",
            "WARNING:rasterio._env:CPLE_NotSupported in driver GTiff does not support open option BLOCKYSIZE\n",
            "WARNING:rasterio._env:CPLE_NotSupported in driver GTiff does not support open option COMPRESS\n",
            "WARNING:rasterio._env:CPLE_NotSupported in driver GTiff does not support open option INTERLEAVE\n"
          ]
        },
        {
          "output_type": "stream",
          "name": "stdout",
          "text": [
            "Done run 92 for bird Steller's Jay\n"
          ]
        },
        {
          "output_type": "stream",
          "name": "stderr",
          "text": [
            "WARNING:rasterio._env:CPLE_NotSupported in driver GTiff does not support open option BLOCKYSIZE\n",
            "WARNING:rasterio._env:CPLE_NotSupported in driver GTiff does not support open option COMPRESS\n",
            "WARNING:rasterio._env:CPLE_NotSupported in driver GTiff does not support open option INTERLEAVE\n",
            "WARNING:rasterio._env:CPLE_NotSupported in driver GTiff does not support open option BLOCKYSIZE\n",
            "WARNING:rasterio._env:CPLE_NotSupported in driver GTiff does not support open option COMPRESS\n",
            "WARNING:rasterio._env:CPLE_NotSupported in driver GTiff does not support open option INTERLEAVE\n"
          ]
        },
        {
          "output_type": "stream",
          "name": "stdout",
          "text": [
            "Done run 93 for bird Steller's Jay\n"
          ]
        },
        {
          "output_type": "stream",
          "name": "stderr",
          "text": [
            "WARNING:rasterio._env:CPLE_NotSupported in driver GTiff does not support open option BLOCKYSIZE\n",
            "WARNING:rasterio._env:CPLE_NotSupported in driver GTiff does not support open option COMPRESS\n",
            "WARNING:rasterio._env:CPLE_NotSupported in driver GTiff does not support open option INTERLEAVE\n",
            "WARNING:rasterio._env:CPLE_NotSupported in driver GTiff does not support open option BLOCKYSIZE\n",
            "WARNING:rasterio._env:CPLE_NotSupported in driver GTiff does not support open option COMPRESS\n",
            "WARNING:rasterio._env:CPLE_NotSupported in driver GTiff does not support open option INTERLEAVE\n"
          ]
        },
        {
          "output_type": "stream",
          "name": "stdout",
          "text": [
            "Done run 94 for bird Steller's Jay\n"
          ]
        },
        {
          "output_type": "stream",
          "name": "stderr",
          "text": [
            "WARNING:rasterio._env:CPLE_NotSupported in driver GTiff does not support open option BLOCKYSIZE\n",
            "WARNING:rasterio._env:CPLE_NotSupported in driver GTiff does not support open option COMPRESS\n",
            "WARNING:rasterio._env:CPLE_NotSupported in driver GTiff does not support open option INTERLEAVE\n",
            "WARNING:rasterio._env:CPLE_NotSupported in driver GTiff does not support open option BLOCKYSIZE\n",
            "WARNING:rasterio._env:CPLE_NotSupported in driver GTiff does not support open option COMPRESS\n",
            "WARNING:rasterio._env:CPLE_NotSupported in driver GTiff does not support open option INTERLEAVE\n"
          ]
        },
        {
          "output_type": "stream",
          "name": "stdout",
          "text": [
            "Done run 95 for bird Steller's Jay\n"
          ]
        },
        {
          "output_type": "stream",
          "name": "stderr",
          "text": [
            "WARNING:rasterio._env:CPLE_NotSupported in driver GTiff does not support open option BLOCKYSIZE\n",
            "WARNING:rasterio._env:CPLE_NotSupported in driver GTiff does not support open option COMPRESS\n",
            "WARNING:rasterio._env:CPLE_NotSupported in driver GTiff does not support open option INTERLEAVE\n",
            "WARNING:rasterio._env:CPLE_NotSupported in driver GTiff does not support open option BLOCKYSIZE\n",
            "WARNING:rasterio._env:CPLE_NotSupported in driver GTiff does not support open option COMPRESS\n",
            "WARNING:rasterio._env:CPLE_NotSupported in driver GTiff does not support open option INTERLEAVE\n"
          ]
        },
        {
          "output_type": "stream",
          "name": "stdout",
          "text": [
            "Done run 96 for bird Steller's Jay\n"
          ]
        },
        {
          "output_type": "stream",
          "name": "stderr",
          "text": [
            "WARNING:rasterio._env:CPLE_NotSupported in driver GTiff does not support open option BLOCKYSIZE\n",
            "WARNING:rasterio._env:CPLE_NotSupported in driver GTiff does not support open option COMPRESS\n",
            "WARNING:rasterio._env:CPLE_NotSupported in driver GTiff does not support open option INTERLEAVE\n",
            "WARNING:rasterio._env:CPLE_NotSupported in driver GTiff does not support open option BLOCKYSIZE\n",
            "WARNING:rasterio._env:CPLE_NotSupported in driver GTiff does not support open option COMPRESS\n",
            "WARNING:rasterio._env:CPLE_NotSupported in driver GTiff does not support open option INTERLEAVE\n"
          ]
        },
        {
          "output_type": "stream",
          "name": "stdout",
          "text": [
            "Done run 97 for bird Steller's Jay\n"
          ]
        },
        {
          "output_type": "stream",
          "name": "stderr",
          "text": [
            "WARNING:rasterio._env:CPLE_NotSupported in driver GTiff does not support open option BLOCKYSIZE\n",
            "WARNING:rasterio._env:CPLE_NotSupported in driver GTiff does not support open option COMPRESS\n",
            "WARNING:rasterio._env:CPLE_NotSupported in driver GTiff does not support open option INTERLEAVE\n",
            "WARNING:rasterio._env:CPLE_NotSupported in driver GTiff does not support open option BLOCKYSIZE\n",
            "WARNING:rasterio._env:CPLE_NotSupported in driver GTiff does not support open option COMPRESS\n",
            "WARNING:rasterio._env:CPLE_NotSupported in driver GTiff does not support open option INTERLEAVE\n"
          ]
        },
        {
          "output_type": "stream",
          "name": "stdout",
          "text": [
            "Done run 98 for bird Steller's Jay\n",
            "Done run 99 for bird Steller's Jay\n"
          ]
        },
        {
          "output_type": "stream",
          "name": "stderr",
          "text": [
            "WARNING:rasterio._env:CPLE_NotSupported in driver GTiff does not support open option BLOCKYSIZE\n",
            "WARNING:rasterio._env:CPLE_NotSupported in driver GTiff does not support open option COMPRESS\n",
            "WARNING:rasterio._env:CPLE_NotSupported in driver GTiff does not support open option INTERLEAVE\n",
            "WARNING:rasterio._env:CPLE_NotSupported in driver GTiff does not support open option BLOCKYSIZE\n",
            "WARNING:rasterio._env:CPLE_NotSupported in driver GTiff does not support open option COMPRESS\n",
            "WARNING:rasterio._env:CPLE_NotSupported in driver GTiff does not support open option INTERLEAVE\n",
            "WARNING:rasterio._env:CPLE_NotSupported in driver GTiff does not support open option BLOCKYSIZE\n",
            "WARNING:rasterio._env:CPLE_NotSupported in driver GTiff does not support open option COMPRESS\n",
            "WARNING:rasterio._env:CPLE_NotSupported in driver GTiff does not support open option INTERLEAVE\n",
            "WARNING:rasterio._env:CPLE_NotSupported in driver GTiff does not support open option BLOCKYSIZE\n",
            "WARNING:rasterio._env:CPLE_NotSupported in driver GTiff does not support open option COMPRESS\n",
            "WARNING:rasterio._env:CPLE_NotSupported in driver GTiff does not support open option INTERLEAVE\n"
          ]
        },
        {
          "output_type": "stream",
          "name": "stdout",
          "text": [
            "Done run 0 for bird Oak Titmouse\n"
          ]
        },
        {
          "output_type": "stream",
          "name": "stderr",
          "text": [
            "WARNING:rasterio._env:CPLE_NotSupported in driver GTiff does not support open option BLOCKYSIZE\n",
            "WARNING:rasterio._env:CPLE_NotSupported in driver GTiff does not support open option COMPRESS\n",
            "WARNING:rasterio._env:CPLE_NotSupported in driver GTiff does not support open option INTERLEAVE\n",
            "WARNING:rasterio._env:CPLE_NotSupported in driver GTiff does not support open option BLOCKYSIZE\n",
            "WARNING:rasterio._env:CPLE_NotSupported in driver GTiff does not support open option COMPRESS\n",
            "WARNING:rasterio._env:CPLE_NotSupported in driver GTiff does not support open option INTERLEAVE\n"
          ]
        },
        {
          "output_type": "stream",
          "name": "stdout",
          "text": [
            "Done run 1 for bird Oak Titmouse\n"
          ]
        },
        {
          "output_type": "stream",
          "name": "stderr",
          "text": [
            "WARNING:rasterio._env:CPLE_NotSupported in driver GTiff does not support open option BLOCKYSIZE\n",
            "WARNING:rasterio._env:CPLE_NotSupported in driver GTiff does not support open option COMPRESS\n",
            "WARNING:rasterio._env:CPLE_NotSupported in driver GTiff does not support open option INTERLEAVE\n",
            "WARNING:rasterio._env:CPLE_NotSupported in driver GTiff does not support open option BLOCKYSIZE\n",
            "WARNING:rasterio._env:CPLE_NotSupported in driver GTiff does not support open option COMPRESS\n",
            "WARNING:rasterio._env:CPLE_NotSupported in driver GTiff does not support open option INTERLEAVE\n"
          ]
        },
        {
          "output_type": "stream",
          "name": "stdout",
          "text": [
            "Done run 2 for bird Oak Titmouse\n"
          ]
        },
        {
          "output_type": "stream",
          "name": "stderr",
          "text": [
            "WARNING:rasterio._env:CPLE_NotSupported in driver GTiff does not support open option BLOCKYSIZE\n",
            "WARNING:rasterio._env:CPLE_NotSupported in driver GTiff does not support open option COMPRESS\n",
            "WARNING:rasterio._env:CPLE_NotSupported in driver GTiff does not support open option INTERLEAVE\n",
            "WARNING:rasterio._env:CPLE_NotSupported in driver GTiff does not support open option BLOCKYSIZE\n",
            "WARNING:rasterio._env:CPLE_NotSupported in driver GTiff does not support open option COMPRESS\n",
            "WARNING:rasterio._env:CPLE_NotSupported in driver GTiff does not support open option INTERLEAVE\n"
          ]
        },
        {
          "output_type": "stream",
          "name": "stdout",
          "text": [
            "Done run 3 for bird Oak Titmouse\n"
          ]
        },
        {
          "output_type": "stream",
          "name": "stderr",
          "text": [
            "WARNING:rasterio._env:CPLE_NotSupported in driver GTiff does not support open option BLOCKYSIZE\n",
            "WARNING:rasterio._env:CPLE_NotSupported in driver GTiff does not support open option COMPRESS\n",
            "WARNING:rasterio._env:CPLE_NotSupported in driver GTiff does not support open option INTERLEAVE\n",
            "WARNING:rasterio._env:CPLE_NotSupported in driver GTiff does not support open option BLOCKYSIZE\n",
            "WARNING:rasterio._env:CPLE_NotSupported in driver GTiff does not support open option COMPRESS\n",
            "WARNING:rasterio._env:CPLE_NotSupported in driver GTiff does not support open option INTERLEAVE\n"
          ]
        },
        {
          "output_type": "stream",
          "name": "stdout",
          "text": [
            "Done run 4 for bird Oak Titmouse\n"
          ]
        },
        {
          "output_type": "stream",
          "name": "stderr",
          "text": [
            "WARNING:rasterio._env:CPLE_NotSupported in driver GTiff does not support open option BLOCKYSIZE\n",
            "WARNING:rasterio._env:CPLE_NotSupported in driver GTiff does not support open option COMPRESS\n",
            "WARNING:rasterio._env:CPLE_NotSupported in driver GTiff does not support open option INTERLEAVE\n",
            "WARNING:rasterio._env:CPLE_NotSupported in driver GTiff does not support open option BLOCKYSIZE\n",
            "WARNING:rasterio._env:CPLE_NotSupported in driver GTiff does not support open option COMPRESS\n",
            "WARNING:rasterio._env:CPLE_NotSupported in driver GTiff does not support open option INTERLEAVE\n"
          ]
        },
        {
          "output_type": "stream",
          "name": "stdout",
          "text": [
            "Done run 5 for bird Oak Titmouse\n"
          ]
        },
        {
          "output_type": "stream",
          "name": "stderr",
          "text": [
            "WARNING:rasterio._env:CPLE_NotSupported in driver GTiff does not support open option BLOCKYSIZE\n",
            "WARNING:rasterio._env:CPLE_NotSupported in driver GTiff does not support open option COMPRESS\n",
            "WARNING:rasterio._env:CPLE_NotSupported in driver GTiff does not support open option INTERLEAVE\n",
            "WARNING:rasterio._env:CPLE_NotSupported in driver GTiff does not support open option BLOCKYSIZE\n",
            "WARNING:rasterio._env:CPLE_NotSupported in driver GTiff does not support open option COMPRESS\n",
            "WARNING:rasterio._env:CPLE_NotSupported in driver GTiff does not support open option INTERLEAVE\n"
          ]
        },
        {
          "output_type": "stream",
          "name": "stdout",
          "text": [
            "Done run 6 for bird Oak Titmouse\n"
          ]
        },
        {
          "output_type": "stream",
          "name": "stderr",
          "text": [
            "WARNING:rasterio._env:CPLE_NotSupported in driver GTiff does not support open option BLOCKYSIZE\n",
            "WARNING:rasterio._env:CPLE_NotSupported in driver GTiff does not support open option COMPRESS\n",
            "WARNING:rasterio._env:CPLE_NotSupported in driver GTiff does not support open option INTERLEAVE\n",
            "WARNING:rasterio._env:CPLE_NotSupported in driver GTiff does not support open option BLOCKYSIZE\n",
            "WARNING:rasterio._env:CPLE_NotSupported in driver GTiff does not support open option COMPRESS\n",
            "WARNING:rasterio._env:CPLE_NotSupported in driver GTiff does not support open option INTERLEAVE\n"
          ]
        },
        {
          "output_type": "stream",
          "name": "stdout",
          "text": [
            "Done run 7 for bird Oak Titmouse\n"
          ]
        },
        {
          "output_type": "stream",
          "name": "stderr",
          "text": [
            "WARNING:rasterio._env:CPLE_NotSupported in driver GTiff does not support open option BLOCKYSIZE\n",
            "WARNING:rasterio._env:CPLE_NotSupported in driver GTiff does not support open option COMPRESS\n",
            "WARNING:rasterio._env:CPLE_NotSupported in driver GTiff does not support open option INTERLEAVE\n",
            "WARNING:rasterio._env:CPLE_NotSupported in driver GTiff does not support open option BLOCKYSIZE\n",
            "WARNING:rasterio._env:CPLE_NotSupported in driver GTiff does not support open option COMPRESS\n",
            "WARNING:rasterio._env:CPLE_NotSupported in driver GTiff does not support open option INTERLEAVE\n"
          ]
        },
        {
          "output_type": "stream",
          "name": "stdout",
          "text": [
            "Done run 8 for bird Oak Titmouse\n"
          ]
        },
        {
          "output_type": "stream",
          "name": "stderr",
          "text": [
            "WARNING:rasterio._env:CPLE_NotSupported in driver GTiff does not support open option BLOCKYSIZE\n",
            "WARNING:rasterio._env:CPLE_NotSupported in driver GTiff does not support open option COMPRESS\n",
            "WARNING:rasterio._env:CPLE_NotSupported in driver GTiff does not support open option INTERLEAVE\n",
            "WARNING:rasterio._env:CPLE_NotSupported in driver GTiff does not support open option BLOCKYSIZE\n",
            "WARNING:rasterio._env:CPLE_NotSupported in driver GTiff does not support open option COMPRESS\n",
            "WARNING:rasterio._env:CPLE_NotSupported in driver GTiff does not support open option INTERLEAVE\n"
          ]
        },
        {
          "output_type": "stream",
          "name": "stdout",
          "text": [
            "Done run 9 for bird Oak Titmouse\n"
          ]
        },
        {
          "output_type": "stream",
          "name": "stderr",
          "text": [
            "WARNING:rasterio._env:CPLE_NotSupported in driver GTiff does not support open option BLOCKYSIZE\n",
            "WARNING:rasterio._env:CPLE_NotSupported in driver GTiff does not support open option COMPRESS\n",
            "WARNING:rasterio._env:CPLE_NotSupported in driver GTiff does not support open option INTERLEAVE\n",
            "WARNING:rasterio._env:CPLE_NotSupported in driver GTiff does not support open option BLOCKYSIZE\n",
            "WARNING:rasterio._env:CPLE_NotSupported in driver GTiff does not support open option COMPRESS\n",
            "WARNING:rasterio._env:CPLE_NotSupported in driver GTiff does not support open option INTERLEAVE\n"
          ]
        },
        {
          "output_type": "stream",
          "name": "stdout",
          "text": [
            "Done run 10 for bird Oak Titmouse\n"
          ]
        },
        {
          "output_type": "stream",
          "name": "stderr",
          "text": [
            "WARNING:rasterio._env:CPLE_NotSupported in driver GTiff does not support open option BLOCKYSIZE\n",
            "WARNING:rasterio._env:CPLE_NotSupported in driver GTiff does not support open option COMPRESS\n",
            "WARNING:rasterio._env:CPLE_NotSupported in driver GTiff does not support open option INTERLEAVE\n",
            "WARNING:rasterio._env:CPLE_NotSupported in driver GTiff does not support open option BLOCKYSIZE\n",
            "WARNING:rasterio._env:CPLE_NotSupported in driver GTiff does not support open option COMPRESS\n",
            "WARNING:rasterio._env:CPLE_NotSupported in driver GTiff does not support open option INTERLEAVE\n"
          ]
        },
        {
          "output_type": "stream",
          "name": "stdout",
          "text": [
            "Done run 11 for bird Oak Titmouse\n"
          ]
        },
        {
          "output_type": "stream",
          "name": "stderr",
          "text": [
            "WARNING:rasterio._env:CPLE_NotSupported in driver GTiff does not support open option BLOCKYSIZE\n",
            "WARNING:rasterio._env:CPLE_NotSupported in driver GTiff does not support open option COMPRESS\n",
            "WARNING:rasterio._env:CPLE_NotSupported in driver GTiff does not support open option INTERLEAVE\n",
            "WARNING:rasterio._env:CPLE_NotSupported in driver GTiff does not support open option BLOCKYSIZE\n",
            "WARNING:rasterio._env:CPLE_NotSupported in driver GTiff does not support open option COMPRESS\n",
            "WARNING:rasterio._env:CPLE_NotSupported in driver GTiff does not support open option INTERLEAVE\n"
          ]
        },
        {
          "output_type": "stream",
          "name": "stdout",
          "text": [
            "Done run 12 for bird Oak Titmouse\n"
          ]
        },
        {
          "output_type": "stream",
          "name": "stderr",
          "text": [
            "WARNING:rasterio._env:CPLE_NotSupported in driver GTiff does not support open option BLOCKYSIZE\n",
            "WARNING:rasterio._env:CPLE_NotSupported in driver GTiff does not support open option COMPRESS\n",
            "WARNING:rasterio._env:CPLE_NotSupported in driver GTiff does not support open option INTERLEAVE\n",
            "WARNING:rasterio._env:CPLE_NotSupported in driver GTiff does not support open option BLOCKYSIZE\n",
            "WARNING:rasterio._env:CPLE_NotSupported in driver GTiff does not support open option COMPRESS\n",
            "WARNING:rasterio._env:CPLE_NotSupported in driver GTiff does not support open option INTERLEAVE\n"
          ]
        },
        {
          "output_type": "stream",
          "name": "stdout",
          "text": [
            "Done run 13 for bird Oak Titmouse\n"
          ]
        },
        {
          "output_type": "stream",
          "name": "stderr",
          "text": [
            "WARNING:rasterio._env:CPLE_NotSupported in driver GTiff does not support open option BLOCKYSIZE\n",
            "WARNING:rasterio._env:CPLE_NotSupported in driver GTiff does not support open option COMPRESS\n",
            "WARNING:rasterio._env:CPLE_NotSupported in driver GTiff does not support open option INTERLEAVE\n",
            "WARNING:rasterio._env:CPLE_NotSupported in driver GTiff does not support open option BLOCKYSIZE\n",
            "WARNING:rasterio._env:CPLE_NotSupported in driver GTiff does not support open option COMPRESS\n",
            "WARNING:rasterio._env:CPLE_NotSupported in driver GTiff does not support open option INTERLEAVE\n"
          ]
        },
        {
          "output_type": "stream",
          "name": "stdout",
          "text": [
            "Done run 14 for bird Oak Titmouse\n"
          ]
        },
        {
          "output_type": "stream",
          "name": "stderr",
          "text": [
            "WARNING:rasterio._env:CPLE_NotSupported in driver GTiff does not support open option BLOCKYSIZE\n",
            "WARNING:rasterio._env:CPLE_NotSupported in driver GTiff does not support open option COMPRESS\n",
            "WARNING:rasterio._env:CPLE_NotSupported in driver GTiff does not support open option INTERLEAVE\n",
            "WARNING:rasterio._env:CPLE_NotSupported in driver GTiff does not support open option BLOCKYSIZE\n",
            "WARNING:rasterio._env:CPLE_NotSupported in driver GTiff does not support open option COMPRESS\n",
            "WARNING:rasterio._env:CPLE_NotSupported in driver GTiff does not support open option INTERLEAVE\n"
          ]
        },
        {
          "output_type": "stream",
          "name": "stdout",
          "text": [
            "Done run 15 for bird Oak Titmouse\n"
          ]
        },
        {
          "output_type": "stream",
          "name": "stderr",
          "text": [
            "WARNING:rasterio._env:CPLE_NotSupported in driver GTiff does not support open option BLOCKYSIZE\n",
            "WARNING:rasterio._env:CPLE_NotSupported in driver GTiff does not support open option COMPRESS\n",
            "WARNING:rasterio._env:CPLE_NotSupported in driver GTiff does not support open option INTERLEAVE\n",
            "WARNING:rasterio._env:CPLE_NotSupported in driver GTiff does not support open option BLOCKYSIZE\n",
            "WARNING:rasterio._env:CPLE_NotSupported in driver GTiff does not support open option COMPRESS\n",
            "WARNING:rasterio._env:CPLE_NotSupported in driver GTiff does not support open option INTERLEAVE\n"
          ]
        },
        {
          "output_type": "stream",
          "name": "stdout",
          "text": [
            "Done run 16 for bird Oak Titmouse\n"
          ]
        },
        {
          "output_type": "stream",
          "name": "stderr",
          "text": [
            "WARNING:rasterio._env:CPLE_NotSupported in driver GTiff does not support open option BLOCKYSIZE\n",
            "WARNING:rasterio._env:CPLE_NotSupported in driver GTiff does not support open option COMPRESS\n",
            "WARNING:rasterio._env:CPLE_NotSupported in driver GTiff does not support open option INTERLEAVE\n",
            "WARNING:rasterio._env:CPLE_NotSupported in driver GTiff does not support open option BLOCKYSIZE\n",
            "WARNING:rasterio._env:CPLE_NotSupported in driver GTiff does not support open option COMPRESS\n",
            "WARNING:rasterio._env:CPLE_NotSupported in driver GTiff does not support open option INTERLEAVE\n"
          ]
        },
        {
          "output_type": "stream",
          "name": "stdout",
          "text": [
            "Done run 17 for bird Oak Titmouse\n"
          ]
        },
        {
          "output_type": "stream",
          "name": "stderr",
          "text": [
            "WARNING:rasterio._env:CPLE_NotSupported in driver GTiff does not support open option BLOCKYSIZE\n",
            "WARNING:rasterio._env:CPLE_NotSupported in driver GTiff does not support open option COMPRESS\n",
            "WARNING:rasterio._env:CPLE_NotSupported in driver GTiff does not support open option INTERLEAVE\n",
            "WARNING:rasterio._env:CPLE_NotSupported in driver GTiff does not support open option BLOCKYSIZE\n",
            "WARNING:rasterio._env:CPLE_NotSupported in driver GTiff does not support open option COMPRESS\n",
            "WARNING:rasterio._env:CPLE_NotSupported in driver GTiff does not support open option INTERLEAVE\n"
          ]
        },
        {
          "output_type": "stream",
          "name": "stdout",
          "text": [
            "Done run 18 for bird Oak Titmouse\n"
          ]
        },
        {
          "output_type": "stream",
          "name": "stderr",
          "text": [
            "WARNING:rasterio._env:CPLE_NotSupported in driver GTiff does not support open option BLOCKYSIZE\n",
            "WARNING:rasterio._env:CPLE_NotSupported in driver GTiff does not support open option COMPRESS\n",
            "WARNING:rasterio._env:CPLE_NotSupported in driver GTiff does not support open option INTERLEAVE\n",
            "WARNING:rasterio._env:CPLE_NotSupported in driver GTiff does not support open option BLOCKYSIZE\n",
            "WARNING:rasterio._env:CPLE_NotSupported in driver GTiff does not support open option COMPRESS\n",
            "WARNING:rasterio._env:CPLE_NotSupported in driver GTiff does not support open option INTERLEAVE\n"
          ]
        },
        {
          "output_type": "stream",
          "name": "stdout",
          "text": [
            "Done run 19 for bird Oak Titmouse\n"
          ]
        },
        {
          "output_type": "stream",
          "name": "stderr",
          "text": [
            "WARNING:rasterio._env:CPLE_NotSupported in driver GTiff does not support open option BLOCKYSIZE\n",
            "WARNING:rasterio._env:CPLE_NotSupported in driver GTiff does not support open option COMPRESS\n",
            "WARNING:rasterio._env:CPLE_NotSupported in driver GTiff does not support open option INTERLEAVE\n",
            "WARNING:rasterio._env:CPLE_NotSupported in driver GTiff does not support open option BLOCKYSIZE\n",
            "WARNING:rasterio._env:CPLE_NotSupported in driver GTiff does not support open option COMPRESS\n",
            "WARNING:rasterio._env:CPLE_NotSupported in driver GTiff does not support open option INTERLEAVE\n"
          ]
        },
        {
          "output_type": "stream",
          "name": "stdout",
          "text": [
            "Done run 20 for bird Oak Titmouse\n"
          ]
        },
        {
          "output_type": "stream",
          "name": "stderr",
          "text": [
            "WARNING:rasterio._env:CPLE_NotSupported in driver GTiff does not support open option BLOCKYSIZE\n",
            "WARNING:rasterio._env:CPLE_NotSupported in driver GTiff does not support open option COMPRESS\n",
            "WARNING:rasterio._env:CPLE_NotSupported in driver GTiff does not support open option INTERLEAVE\n",
            "WARNING:rasterio._env:CPLE_NotSupported in driver GTiff does not support open option BLOCKYSIZE\n",
            "WARNING:rasterio._env:CPLE_NotSupported in driver GTiff does not support open option COMPRESS\n",
            "WARNING:rasterio._env:CPLE_NotSupported in driver GTiff does not support open option INTERLEAVE\n"
          ]
        },
        {
          "output_type": "stream",
          "name": "stdout",
          "text": [
            "Done run 21 for bird Oak Titmouse\n"
          ]
        },
        {
          "output_type": "stream",
          "name": "stderr",
          "text": [
            "WARNING:rasterio._env:CPLE_NotSupported in driver GTiff does not support open option BLOCKYSIZE\n",
            "WARNING:rasterio._env:CPLE_NotSupported in driver GTiff does not support open option COMPRESS\n",
            "WARNING:rasterio._env:CPLE_NotSupported in driver GTiff does not support open option INTERLEAVE\n",
            "WARNING:rasterio._env:CPLE_NotSupported in driver GTiff does not support open option BLOCKYSIZE\n",
            "WARNING:rasterio._env:CPLE_NotSupported in driver GTiff does not support open option COMPRESS\n",
            "WARNING:rasterio._env:CPLE_NotSupported in driver GTiff does not support open option INTERLEAVE\n"
          ]
        },
        {
          "output_type": "stream",
          "name": "stdout",
          "text": [
            "Done run 22 for bird Oak Titmouse\n"
          ]
        },
        {
          "output_type": "stream",
          "name": "stderr",
          "text": [
            "WARNING:rasterio._env:CPLE_NotSupported in driver GTiff does not support open option BLOCKYSIZE\n",
            "WARNING:rasterio._env:CPLE_NotSupported in driver GTiff does not support open option COMPRESS\n",
            "WARNING:rasterio._env:CPLE_NotSupported in driver GTiff does not support open option INTERLEAVE\n",
            "WARNING:rasterio._env:CPLE_NotSupported in driver GTiff does not support open option BLOCKYSIZE\n",
            "WARNING:rasterio._env:CPLE_NotSupported in driver GTiff does not support open option COMPRESS\n",
            "WARNING:rasterio._env:CPLE_NotSupported in driver GTiff does not support open option INTERLEAVE\n"
          ]
        },
        {
          "output_type": "stream",
          "name": "stdout",
          "text": [
            "Done run 23 for bird Oak Titmouse\n"
          ]
        },
        {
          "output_type": "stream",
          "name": "stderr",
          "text": [
            "WARNING:rasterio._env:CPLE_NotSupported in driver GTiff does not support open option BLOCKYSIZE\n",
            "WARNING:rasterio._env:CPLE_NotSupported in driver GTiff does not support open option COMPRESS\n",
            "WARNING:rasterio._env:CPLE_NotSupported in driver GTiff does not support open option INTERLEAVE\n",
            "WARNING:rasterio._env:CPLE_NotSupported in driver GTiff does not support open option BLOCKYSIZE\n",
            "WARNING:rasterio._env:CPLE_NotSupported in driver GTiff does not support open option COMPRESS\n",
            "WARNING:rasterio._env:CPLE_NotSupported in driver GTiff does not support open option INTERLEAVE\n"
          ]
        },
        {
          "output_type": "stream",
          "name": "stdout",
          "text": [
            "Done run 24 for bird Oak Titmouse\n"
          ]
        },
        {
          "output_type": "stream",
          "name": "stderr",
          "text": [
            "WARNING:rasterio._env:CPLE_NotSupported in driver GTiff does not support open option BLOCKYSIZE\n",
            "WARNING:rasterio._env:CPLE_NotSupported in driver GTiff does not support open option COMPRESS\n",
            "WARNING:rasterio._env:CPLE_NotSupported in driver GTiff does not support open option INTERLEAVE\n",
            "WARNING:rasterio._env:CPLE_NotSupported in driver GTiff does not support open option BLOCKYSIZE\n",
            "WARNING:rasterio._env:CPLE_NotSupported in driver GTiff does not support open option COMPRESS\n",
            "WARNING:rasterio._env:CPLE_NotSupported in driver GTiff does not support open option INTERLEAVE\n"
          ]
        },
        {
          "output_type": "stream",
          "name": "stdout",
          "text": [
            "Done run 25 for bird Oak Titmouse\n"
          ]
        },
        {
          "output_type": "stream",
          "name": "stderr",
          "text": [
            "WARNING:rasterio._env:CPLE_NotSupported in driver GTiff does not support open option BLOCKYSIZE\n",
            "WARNING:rasterio._env:CPLE_NotSupported in driver GTiff does not support open option COMPRESS\n",
            "WARNING:rasterio._env:CPLE_NotSupported in driver GTiff does not support open option INTERLEAVE\n",
            "WARNING:rasterio._env:CPLE_NotSupported in driver GTiff does not support open option BLOCKYSIZE\n",
            "WARNING:rasterio._env:CPLE_NotSupported in driver GTiff does not support open option COMPRESS\n",
            "WARNING:rasterio._env:CPLE_NotSupported in driver GTiff does not support open option INTERLEAVE\n"
          ]
        },
        {
          "output_type": "stream",
          "name": "stdout",
          "text": [
            "Done run 26 for bird Oak Titmouse\n"
          ]
        },
        {
          "output_type": "stream",
          "name": "stderr",
          "text": [
            "WARNING:rasterio._env:CPLE_NotSupported in driver GTiff does not support open option BLOCKYSIZE\n",
            "WARNING:rasterio._env:CPLE_NotSupported in driver GTiff does not support open option COMPRESS\n",
            "WARNING:rasterio._env:CPLE_NotSupported in driver GTiff does not support open option INTERLEAVE\n",
            "WARNING:rasterio._env:CPLE_NotSupported in driver GTiff does not support open option BLOCKYSIZE\n",
            "WARNING:rasterio._env:CPLE_NotSupported in driver GTiff does not support open option COMPRESS\n",
            "WARNING:rasterio._env:CPLE_NotSupported in driver GTiff does not support open option INTERLEAVE\n"
          ]
        },
        {
          "output_type": "stream",
          "name": "stdout",
          "text": [
            "Done run 27 for bird Oak Titmouse\n"
          ]
        },
        {
          "output_type": "stream",
          "name": "stderr",
          "text": [
            "WARNING:rasterio._env:CPLE_NotSupported in driver GTiff does not support open option BLOCKYSIZE\n",
            "WARNING:rasterio._env:CPLE_NotSupported in driver GTiff does not support open option COMPRESS\n",
            "WARNING:rasterio._env:CPLE_NotSupported in driver GTiff does not support open option INTERLEAVE\n",
            "WARNING:rasterio._env:CPLE_NotSupported in driver GTiff does not support open option BLOCKYSIZE\n",
            "WARNING:rasterio._env:CPLE_NotSupported in driver GTiff does not support open option COMPRESS\n",
            "WARNING:rasterio._env:CPLE_NotSupported in driver GTiff does not support open option INTERLEAVE\n"
          ]
        },
        {
          "output_type": "stream",
          "name": "stdout",
          "text": [
            "Done run 28 for bird Oak Titmouse\n"
          ]
        },
        {
          "output_type": "stream",
          "name": "stderr",
          "text": [
            "WARNING:rasterio._env:CPLE_NotSupported in driver GTiff does not support open option BLOCKYSIZE\n",
            "WARNING:rasterio._env:CPLE_NotSupported in driver GTiff does not support open option COMPRESS\n",
            "WARNING:rasterio._env:CPLE_NotSupported in driver GTiff does not support open option INTERLEAVE\n",
            "WARNING:rasterio._env:CPLE_NotSupported in driver GTiff does not support open option BLOCKYSIZE\n",
            "WARNING:rasterio._env:CPLE_NotSupported in driver GTiff does not support open option COMPRESS\n",
            "WARNING:rasterio._env:CPLE_NotSupported in driver GTiff does not support open option INTERLEAVE\n"
          ]
        },
        {
          "output_type": "stream",
          "name": "stdout",
          "text": [
            "Done run 29 for bird Oak Titmouse\n"
          ]
        },
        {
          "output_type": "stream",
          "name": "stderr",
          "text": [
            "WARNING:rasterio._env:CPLE_NotSupported in driver GTiff does not support open option BLOCKYSIZE\n",
            "WARNING:rasterio._env:CPLE_NotSupported in driver GTiff does not support open option COMPRESS\n",
            "WARNING:rasterio._env:CPLE_NotSupported in driver GTiff does not support open option INTERLEAVE\n",
            "WARNING:rasterio._env:CPLE_NotSupported in driver GTiff does not support open option BLOCKYSIZE\n",
            "WARNING:rasterio._env:CPLE_NotSupported in driver GTiff does not support open option COMPRESS\n",
            "WARNING:rasterio._env:CPLE_NotSupported in driver GTiff does not support open option INTERLEAVE\n"
          ]
        },
        {
          "output_type": "stream",
          "name": "stdout",
          "text": [
            "Done run 30 for bird Oak Titmouse\n"
          ]
        },
        {
          "output_type": "stream",
          "name": "stderr",
          "text": [
            "WARNING:rasterio._env:CPLE_NotSupported in driver GTiff does not support open option BLOCKYSIZE\n",
            "WARNING:rasterio._env:CPLE_NotSupported in driver GTiff does not support open option COMPRESS\n",
            "WARNING:rasterio._env:CPLE_NotSupported in driver GTiff does not support open option INTERLEAVE\n",
            "WARNING:rasterio._env:CPLE_NotSupported in driver GTiff does not support open option BLOCKYSIZE\n",
            "WARNING:rasterio._env:CPLE_NotSupported in driver GTiff does not support open option COMPRESS\n",
            "WARNING:rasterio._env:CPLE_NotSupported in driver GTiff does not support open option INTERLEAVE\n"
          ]
        },
        {
          "output_type": "stream",
          "name": "stdout",
          "text": [
            "Done run 31 for bird Oak Titmouse\n"
          ]
        },
        {
          "output_type": "stream",
          "name": "stderr",
          "text": [
            "WARNING:rasterio._env:CPLE_NotSupported in driver GTiff does not support open option BLOCKYSIZE\n",
            "WARNING:rasterio._env:CPLE_NotSupported in driver GTiff does not support open option COMPRESS\n",
            "WARNING:rasterio._env:CPLE_NotSupported in driver GTiff does not support open option INTERLEAVE\n",
            "WARNING:rasterio._env:CPLE_NotSupported in driver GTiff does not support open option BLOCKYSIZE\n",
            "WARNING:rasterio._env:CPLE_NotSupported in driver GTiff does not support open option COMPRESS\n",
            "WARNING:rasterio._env:CPLE_NotSupported in driver GTiff does not support open option INTERLEAVE\n"
          ]
        },
        {
          "output_type": "stream",
          "name": "stdout",
          "text": [
            "Done run 32 for bird Oak Titmouse\n"
          ]
        },
        {
          "output_type": "stream",
          "name": "stderr",
          "text": [
            "WARNING:rasterio._env:CPLE_NotSupported in driver GTiff does not support open option BLOCKYSIZE\n",
            "WARNING:rasterio._env:CPLE_NotSupported in driver GTiff does not support open option COMPRESS\n",
            "WARNING:rasterio._env:CPLE_NotSupported in driver GTiff does not support open option INTERLEAVE\n",
            "WARNING:rasterio._env:CPLE_NotSupported in driver GTiff does not support open option BLOCKYSIZE\n",
            "WARNING:rasterio._env:CPLE_NotSupported in driver GTiff does not support open option COMPRESS\n",
            "WARNING:rasterio._env:CPLE_NotSupported in driver GTiff does not support open option INTERLEAVE\n"
          ]
        },
        {
          "output_type": "stream",
          "name": "stdout",
          "text": [
            "Done run 33 for bird Oak Titmouse\n"
          ]
        },
        {
          "output_type": "stream",
          "name": "stderr",
          "text": [
            "WARNING:rasterio._env:CPLE_NotSupported in driver GTiff does not support open option BLOCKYSIZE\n",
            "WARNING:rasterio._env:CPLE_NotSupported in driver GTiff does not support open option COMPRESS\n",
            "WARNING:rasterio._env:CPLE_NotSupported in driver GTiff does not support open option INTERLEAVE\n",
            "WARNING:rasterio._env:CPLE_NotSupported in driver GTiff does not support open option BLOCKYSIZE\n",
            "WARNING:rasterio._env:CPLE_NotSupported in driver GTiff does not support open option COMPRESS\n",
            "WARNING:rasterio._env:CPLE_NotSupported in driver GTiff does not support open option INTERLEAVE\n"
          ]
        },
        {
          "output_type": "stream",
          "name": "stdout",
          "text": [
            "Done run 34 for bird Oak Titmouse\n"
          ]
        },
        {
          "output_type": "stream",
          "name": "stderr",
          "text": [
            "WARNING:rasterio._env:CPLE_NotSupported in driver GTiff does not support open option BLOCKYSIZE\n",
            "WARNING:rasterio._env:CPLE_NotSupported in driver GTiff does not support open option COMPRESS\n",
            "WARNING:rasterio._env:CPLE_NotSupported in driver GTiff does not support open option INTERLEAVE\n",
            "WARNING:rasterio._env:CPLE_NotSupported in driver GTiff does not support open option BLOCKYSIZE\n",
            "WARNING:rasterio._env:CPLE_NotSupported in driver GTiff does not support open option COMPRESS\n",
            "WARNING:rasterio._env:CPLE_NotSupported in driver GTiff does not support open option INTERLEAVE\n"
          ]
        },
        {
          "output_type": "stream",
          "name": "stdout",
          "text": [
            "Done run 35 for bird Oak Titmouse\n"
          ]
        },
        {
          "output_type": "stream",
          "name": "stderr",
          "text": [
            "WARNING:rasterio._env:CPLE_NotSupported in driver GTiff does not support open option BLOCKYSIZE\n",
            "WARNING:rasterio._env:CPLE_NotSupported in driver GTiff does not support open option COMPRESS\n",
            "WARNING:rasterio._env:CPLE_NotSupported in driver GTiff does not support open option INTERLEAVE\n",
            "WARNING:rasterio._env:CPLE_NotSupported in driver GTiff does not support open option BLOCKYSIZE\n",
            "WARNING:rasterio._env:CPLE_NotSupported in driver GTiff does not support open option COMPRESS\n",
            "WARNING:rasterio._env:CPLE_NotSupported in driver GTiff does not support open option INTERLEAVE\n"
          ]
        },
        {
          "output_type": "stream",
          "name": "stdout",
          "text": [
            "Done run 36 for bird Oak Titmouse\n"
          ]
        },
        {
          "output_type": "stream",
          "name": "stderr",
          "text": [
            "WARNING:rasterio._env:CPLE_NotSupported in driver GTiff does not support open option BLOCKYSIZE\n",
            "WARNING:rasterio._env:CPLE_NotSupported in driver GTiff does not support open option COMPRESS\n",
            "WARNING:rasterio._env:CPLE_NotSupported in driver GTiff does not support open option INTERLEAVE\n",
            "WARNING:rasterio._env:CPLE_NotSupported in driver GTiff does not support open option BLOCKYSIZE\n",
            "WARNING:rasterio._env:CPLE_NotSupported in driver GTiff does not support open option COMPRESS\n",
            "WARNING:rasterio._env:CPLE_NotSupported in driver GTiff does not support open option INTERLEAVE\n"
          ]
        },
        {
          "output_type": "stream",
          "name": "stdout",
          "text": [
            "Done run 37 for bird Oak Titmouse\n"
          ]
        },
        {
          "output_type": "stream",
          "name": "stderr",
          "text": [
            "WARNING:rasterio._env:CPLE_NotSupported in driver GTiff does not support open option BLOCKYSIZE\n",
            "WARNING:rasterio._env:CPLE_NotSupported in driver GTiff does not support open option COMPRESS\n",
            "WARNING:rasterio._env:CPLE_NotSupported in driver GTiff does not support open option INTERLEAVE\n",
            "WARNING:rasterio._env:CPLE_NotSupported in driver GTiff does not support open option BLOCKYSIZE\n",
            "WARNING:rasterio._env:CPLE_NotSupported in driver GTiff does not support open option COMPRESS\n",
            "WARNING:rasterio._env:CPLE_NotSupported in driver GTiff does not support open option INTERLEAVE\n"
          ]
        },
        {
          "output_type": "stream",
          "name": "stdout",
          "text": [
            "Done run 38 for bird Oak Titmouse\n"
          ]
        },
        {
          "output_type": "stream",
          "name": "stderr",
          "text": [
            "WARNING:rasterio._env:CPLE_NotSupported in driver GTiff does not support open option BLOCKYSIZE\n",
            "WARNING:rasterio._env:CPLE_NotSupported in driver GTiff does not support open option COMPRESS\n",
            "WARNING:rasterio._env:CPLE_NotSupported in driver GTiff does not support open option INTERLEAVE\n",
            "WARNING:rasterio._env:CPLE_NotSupported in driver GTiff does not support open option BLOCKYSIZE\n",
            "WARNING:rasterio._env:CPLE_NotSupported in driver GTiff does not support open option COMPRESS\n",
            "WARNING:rasterio._env:CPLE_NotSupported in driver GTiff does not support open option INTERLEAVE\n"
          ]
        },
        {
          "output_type": "stream",
          "name": "stdout",
          "text": [
            "Done run 39 for bird Oak Titmouse\n"
          ]
        },
        {
          "output_type": "stream",
          "name": "stderr",
          "text": [
            "WARNING:rasterio._env:CPLE_NotSupported in driver GTiff does not support open option BLOCKYSIZE\n",
            "WARNING:rasterio._env:CPLE_NotSupported in driver GTiff does not support open option COMPRESS\n",
            "WARNING:rasterio._env:CPLE_NotSupported in driver GTiff does not support open option INTERLEAVE\n",
            "WARNING:rasterio._env:CPLE_NotSupported in driver GTiff does not support open option BLOCKYSIZE\n",
            "WARNING:rasterio._env:CPLE_NotSupported in driver GTiff does not support open option COMPRESS\n",
            "WARNING:rasterio._env:CPLE_NotSupported in driver GTiff does not support open option INTERLEAVE\n"
          ]
        },
        {
          "output_type": "stream",
          "name": "stdout",
          "text": [
            "Done run 40 for bird Oak Titmouse\n"
          ]
        },
        {
          "output_type": "stream",
          "name": "stderr",
          "text": [
            "WARNING:rasterio._env:CPLE_NotSupported in driver GTiff does not support open option BLOCKYSIZE\n",
            "WARNING:rasterio._env:CPLE_NotSupported in driver GTiff does not support open option COMPRESS\n",
            "WARNING:rasterio._env:CPLE_NotSupported in driver GTiff does not support open option INTERLEAVE\n",
            "WARNING:rasterio._env:CPLE_NotSupported in driver GTiff does not support open option BLOCKYSIZE\n",
            "WARNING:rasterio._env:CPLE_NotSupported in driver GTiff does not support open option COMPRESS\n",
            "WARNING:rasterio._env:CPLE_NotSupported in driver GTiff does not support open option INTERLEAVE\n"
          ]
        },
        {
          "output_type": "stream",
          "name": "stdout",
          "text": [
            "Done run 41 for bird Oak Titmouse\n"
          ]
        },
        {
          "output_type": "stream",
          "name": "stderr",
          "text": [
            "WARNING:rasterio._env:CPLE_NotSupported in driver GTiff does not support open option BLOCKYSIZE\n",
            "WARNING:rasterio._env:CPLE_NotSupported in driver GTiff does not support open option COMPRESS\n",
            "WARNING:rasterio._env:CPLE_NotSupported in driver GTiff does not support open option INTERLEAVE\n",
            "WARNING:rasterio._env:CPLE_NotSupported in driver GTiff does not support open option BLOCKYSIZE\n",
            "WARNING:rasterio._env:CPLE_NotSupported in driver GTiff does not support open option COMPRESS\n",
            "WARNING:rasterio._env:CPLE_NotSupported in driver GTiff does not support open option INTERLEAVE\n"
          ]
        },
        {
          "output_type": "stream",
          "name": "stdout",
          "text": [
            "Done run 42 for bird Oak Titmouse\n"
          ]
        },
        {
          "output_type": "stream",
          "name": "stderr",
          "text": [
            "WARNING:rasterio._env:CPLE_NotSupported in driver GTiff does not support open option BLOCKYSIZE\n",
            "WARNING:rasterio._env:CPLE_NotSupported in driver GTiff does not support open option COMPRESS\n",
            "WARNING:rasterio._env:CPLE_NotSupported in driver GTiff does not support open option INTERLEAVE\n",
            "WARNING:rasterio._env:CPLE_NotSupported in driver GTiff does not support open option BLOCKYSIZE\n",
            "WARNING:rasterio._env:CPLE_NotSupported in driver GTiff does not support open option COMPRESS\n",
            "WARNING:rasterio._env:CPLE_NotSupported in driver GTiff does not support open option INTERLEAVE\n"
          ]
        },
        {
          "output_type": "stream",
          "name": "stdout",
          "text": [
            "Done run 43 for bird Oak Titmouse\n"
          ]
        },
        {
          "output_type": "stream",
          "name": "stderr",
          "text": [
            "WARNING:rasterio._env:CPLE_NotSupported in driver GTiff does not support open option BLOCKYSIZE\n",
            "WARNING:rasterio._env:CPLE_NotSupported in driver GTiff does not support open option COMPRESS\n",
            "WARNING:rasterio._env:CPLE_NotSupported in driver GTiff does not support open option INTERLEAVE\n",
            "WARNING:rasterio._env:CPLE_NotSupported in driver GTiff does not support open option BLOCKYSIZE\n",
            "WARNING:rasterio._env:CPLE_NotSupported in driver GTiff does not support open option COMPRESS\n",
            "WARNING:rasterio._env:CPLE_NotSupported in driver GTiff does not support open option INTERLEAVE\n"
          ]
        },
        {
          "output_type": "stream",
          "name": "stdout",
          "text": [
            "Done run 44 for bird Oak Titmouse\n"
          ]
        },
        {
          "output_type": "stream",
          "name": "stderr",
          "text": [
            "WARNING:rasterio._env:CPLE_NotSupported in driver GTiff does not support open option BLOCKYSIZE\n",
            "WARNING:rasterio._env:CPLE_NotSupported in driver GTiff does not support open option COMPRESS\n",
            "WARNING:rasterio._env:CPLE_NotSupported in driver GTiff does not support open option INTERLEAVE\n",
            "WARNING:rasterio._env:CPLE_NotSupported in driver GTiff does not support open option BLOCKYSIZE\n",
            "WARNING:rasterio._env:CPLE_NotSupported in driver GTiff does not support open option COMPRESS\n",
            "WARNING:rasterio._env:CPLE_NotSupported in driver GTiff does not support open option INTERLEAVE\n"
          ]
        },
        {
          "output_type": "stream",
          "name": "stdout",
          "text": [
            "Done run 45 for bird Oak Titmouse\n"
          ]
        },
        {
          "output_type": "stream",
          "name": "stderr",
          "text": [
            "WARNING:rasterio._env:CPLE_NotSupported in driver GTiff does not support open option BLOCKYSIZE\n",
            "WARNING:rasterio._env:CPLE_NotSupported in driver GTiff does not support open option COMPRESS\n",
            "WARNING:rasterio._env:CPLE_NotSupported in driver GTiff does not support open option INTERLEAVE\n",
            "WARNING:rasterio._env:CPLE_NotSupported in driver GTiff does not support open option BLOCKYSIZE\n",
            "WARNING:rasterio._env:CPLE_NotSupported in driver GTiff does not support open option COMPRESS\n",
            "WARNING:rasterio._env:CPLE_NotSupported in driver GTiff does not support open option INTERLEAVE\n"
          ]
        },
        {
          "output_type": "stream",
          "name": "stdout",
          "text": [
            "Done run 46 for bird Oak Titmouse\n"
          ]
        },
        {
          "output_type": "stream",
          "name": "stderr",
          "text": [
            "WARNING:rasterio._env:CPLE_NotSupported in driver GTiff does not support open option BLOCKYSIZE\n",
            "WARNING:rasterio._env:CPLE_NotSupported in driver GTiff does not support open option COMPRESS\n",
            "WARNING:rasterio._env:CPLE_NotSupported in driver GTiff does not support open option INTERLEAVE\n",
            "WARNING:rasterio._env:CPLE_NotSupported in driver GTiff does not support open option BLOCKYSIZE\n",
            "WARNING:rasterio._env:CPLE_NotSupported in driver GTiff does not support open option COMPRESS\n",
            "WARNING:rasterio._env:CPLE_NotSupported in driver GTiff does not support open option INTERLEAVE\n"
          ]
        },
        {
          "output_type": "stream",
          "name": "stdout",
          "text": [
            "Done run 47 for bird Oak Titmouse\n"
          ]
        },
        {
          "output_type": "stream",
          "name": "stderr",
          "text": [
            "WARNING:rasterio._env:CPLE_NotSupported in driver GTiff does not support open option BLOCKYSIZE\n",
            "WARNING:rasterio._env:CPLE_NotSupported in driver GTiff does not support open option COMPRESS\n",
            "WARNING:rasterio._env:CPLE_NotSupported in driver GTiff does not support open option INTERLEAVE\n",
            "WARNING:rasterio._env:CPLE_NotSupported in driver GTiff does not support open option BLOCKYSIZE\n",
            "WARNING:rasterio._env:CPLE_NotSupported in driver GTiff does not support open option COMPRESS\n",
            "WARNING:rasterio._env:CPLE_NotSupported in driver GTiff does not support open option INTERLEAVE\n"
          ]
        },
        {
          "output_type": "stream",
          "name": "stdout",
          "text": [
            "Done run 48 for bird Oak Titmouse\n"
          ]
        },
        {
          "output_type": "stream",
          "name": "stderr",
          "text": [
            "WARNING:rasterio._env:CPLE_NotSupported in driver GTiff does not support open option BLOCKYSIZE\n",
            "WARNING:rasterio._env:CPLE_NotSupported in driver GTiff does not support open option COMPRESS\n",
            "WARNING:rasterio._env:CPLE_NotSupported in driver GTiff does not support open option INTERLEAVE\n",
            "WARNING:rasterio._env:CPLE_NotSupported in driver GTiff does not support open option BLOCKYSIZE\n",
            "WARNING:rasterio._env:CPLE_NotSupported in driver GTiff does not support open option COMPRESS\n",
            "WARNING:rasterio._env:CPLE_NotSupported in driver GTiff does not support open option INTERLEAVE\n"
          ]
        },
        {
          "output_type": "stream",
          "name": "stdout",
          "text": [
            "Done run 49 for bird Oak Titmouse\n"
          ]
        },
        {
          "output_type": "stream",
          "name": "stderr",
          "text": [
            "WARNING:rasterio._env:CPLE_NotSupported in driver GTiff does not support open option BLOCKYSIZE\n",
            "WARNING:rasterio._env:CPLE_NotSupported in driver GTiff does not support open option COMPRESS\n",
            "WARNING:rasterio._env:CPLE_NotSupported in driver GTiff does not support open option INTERLEAVE\n",
            "WARNING:rasterio._env:CPLE_NotSupported in driver GTiff does not support open option BLOCKYSIZE\n",
            "WARNING:rasterio._env:CPLE_NotSupported in driver GTiff does not support open option COMPRESS\n",
            "WARNING:rasterio._env:CPLE_NotSupported in driver GTiff does not support open option INTERLEAVE\n"
          ]
        },
        {
          "output_type": "stream",
          "name": "stdout",
          "text": [
            "Done run 50 for bird Oak Titmouse\n"
          ]
        },
        {
          "output_type": "stream",
          "name": "stderr",
          "text": [
            "WARNING:rasterio._env:CPLE_NotSupported in driver GTiff does not support open option BLOCKYSIZE\n",
            "WARNING:rasterio._env:CPLE_NotSupported in driver GTiff does not support open option COMPRESS\n",
            "WARNING:rasterio._env:CPLE_NotSupported in driver GTiff does not support open option INTERLEAVE\n",
            "WARNING:rasterio._env:CPLE_NotSupported in driver GTiff does not support open option BLOCKYSIZE\n",
            "WARNING:rasterio._env:CPLE_NotSupported in driver GTiff does not support open option COMPRESS\n",
            "WARNING:rasterio._env:CPLE_NotSupported in driver GTiff does not support open option INTERLEAVE\n"
          ]
        },
        {
          "output_type": "stream",
          "name": "stdout",
          "text": [
            "Done run 51 for bird Oak Titmouse\n"
          ]
        },
        {
          "output_type": "stream",
          "name": "stderr",
          "text": [
            "WARNING:rasterio._env:CPLE_NotSupported in driver GTiff does not support open option BLOCKYSIZE\n",
            "WARNING:rasterio._env:CPLE_NotSupported in driver GTiff does not support open option COMPRESS\n",
            "WARNING:rasterio._env:CPLE_NotSupported in driver GTiff does not support open option INTERLEAVE\n",
            "WARNING:rasterio._env:CPLE_NotSupported in driver GTiff does not support open option BLOCKYSIZE\n",
            "WARNING:rasterio._env:CPLE_NotSupported in driver GTiff does not support open option COMPRESS\n",
            "WARNING:rasterio._env:CPLE_NotSupported in driver GTiff does not support open option INTERLEAVE\n"
          ]
        },
        {
          "output_type": "stream",
          "name": "stdout",
          "text": [
            "Done run 52 for bird Oak Titmouse\n"
          ]
        },
        {
          "output_type": "stream",
          "name": "stderr",
          "text": [
            "WARNING:rasterio._env:CPLE_NotSupported in driver GTiff does not support open option BLOCKYSIZE\n",
            "WARNING:rasterio._env:CPLE_NotSupported in driver GTiff does not support open option COMPRESS\n",
            "WARNING:rasterio._env:CPLE_NotSupported in driver GTiff does not support open option INTERLEAVE\n",
            "WARNING:rasterio._env:CPLE_NotSupported in driver GTiff does not support open option BLOCKYSIZE\n",
            "WARNING:rasterio._env:CPLE_NotSupported in driver GTiff does not support open option COMPRESS\n",
            "WARNING:rasterio._env:CPLE_NotSupported in driver GTiff does not support open option INTERLEAVE\n"
          ]
        },
        {
          "output_type": "stream",
          "name": "stdout",
          "text": [
            "Done run 53 for bird Oak Titmouse\n"
          ]
        },
        {
          "output_type": "stream",
          "name": "stderr",
          "text": [
            "WARNING:rasterio._env:CPLE_NotSupported in driver GTiff does not support open option BLOCKYSIZE\n",
            "WARNING:rasterio._env:CPLE_NotSupported in driver GTiff does not support open option COMPRESS\n",
            "WARNING:rasterio._env:CPLE_NotSupported in driver GTiff does not support open option INTERLEAVE\n",
            "WARNING:rasterio._env:CPLE_NotSupported in driver GTiff does not support open option BLOCKYSIZE\n",
            "WARNING:rasterio._env:CPLE_NotSupported in driver GTiff does not support open option COMPRESS\n",
            "WARNING:rasterio._env:CPLE_NotSupported in driver GTiff does not support open option INTERLEAVE\n"
          ]
        },
        {
          "output_type": "stream",
          "name": "stdout",
          "text": [
            "Done run 54 for bird Oak Titmouse\n"
          ]
        },
        {
          "output_type": "stream",
          "name": "stderr",
          "text": [
            "WARNING:rasterio._env:CPLE_NotSupported in driver GTiff does not support open option BLOCKYSIZE\n",
            "WARNING:rasterio._env:CPLE_NotSupported in driver GTiff does not support open option COMPRESS\n",
            "WARNING:rasterio._env:CPLE_NotSupported in driver GTiff does not support open option INTERLEAVE\n",
            "WARNING:rasterio._env:CPLE_NotSupported in driver GTiff does not support open option BLOCKYSIZE\n",
            "WARNING:rasterio._env:CPLE_NotSupported in driver GTiff does not support open option COMPRESS\n",
            "WARNING:rasterio._env:CPLE_NotSupported in driver GTiff does not support open option INTERLEAVE\n"
          ]
        },
        {
          "output_type": "stream",
          "name": "stdout",
          "text": [
            "Done run 55 for bird Oak Titmouse\n"
          ]
        },
        {
          "output_type": "stream",
          "name": "stderr",
          "text": [
            "WARNING:rasterio._env:CPLE_NotSupported in driver GTiff does not support open option BLOCKYSIZE\n",
            "WARNING:rasterio._env:CPLE_NotSupported in driver GTiff does not support open option COMPRESS\n",
            "WARNING:rasterio._env:CPLE_NotSupported in driver GTiff does not support open option INTERLEAVE\n",
            "WARNING:rasterio._env:CPLE_NotSupported in driver GTiff does not support open option BLOCKYSIZE\n",
            "WARNING:rasterio._env:CPLE_NotSupported in driver GTiff does not support open option COMPRESS\n",
            "WARNING:rasterio._env:CPLE_NotSupported in driver GTiff does not support open option INTERLEAVE\n"
          ]
        },
        {
          "output_type": "stream",
          "name": "stdout",
          "text": [
            "Done run 56 for bird Oak Titmouse\n"
          ]
        },
        {
          "output_type": "stream",
          "name": "stderr",
          "text": [
            "WARNING:rasterio._env:CPLE_NotSupported in driver GTiff does not support open option BLOCKYSIZE\n",
            "WARNING:rasterio._env:CPLE_NotSupported in driver GTiff does not support open option COMPRESS\n",
            "WARNING:rasterio._env:CPLE_NotSupported in driver GTiff does not support open option INTERLEAVE\n",
            "WARNING:rasterio._env:CPLE_NotSupported in driver GTiff does not support open option BLOCKYSIZE\n",
            "WARNING:rasterio._env:CPLE_NotSupported in driver GTiff does not support open option COMPRESS\n",
            "WARNING:rasterio._env:CPLE_NotSupported in driver GTiff does not support open option INTERLEAVE\n"
          ]
        },
        {
          "output_type": "stream",
          "name": "stdout",
          "text": [
            "Done run 57 for bird Oak Titmouse\n"
          ]
        },
        {
          "output_type": "stream",
          "name": "stderr",
          "text": [
            "WARNING:rasterio._env:CPLE_NotSupported in driver GTiff does not support open option BLOCKYSIZE\n",
            "WARNING:rasterio._env:CPLE_NotSupported in driver GTiff does not support open option COMPRESS\n",
            "WARNING:rasterio._env:CPLE_NotSupported in driver GTiff does not support open option INTERLEAVE\n",
            "WARNING:rasterio._env:CPLE_NotSupported in driver GTiff does not support open option BLOCKYSIZE\n",
            "WARNING:rasterio._env:CPLE_NotSupported in driver GTiff does not support open option COMPRESS\n",
            "WARNING:rasterio._env:CPLE_NotSupported in driver GTiff does not support open option INTERLEAVE\n"
          ]
        },
        {
          "output_type": "stream",
          "name": "stdout",
          "text": [
            "Done run 58 for bird Oak Titmouse\n"
          ]
        },
        {
          "output_type": "stream",
          "name": "stderr",
          "text": [
            "WARNING:rasterio._env:CPLE_NotSupported in driver GTiff does not support open option BLOCKYSIZE\n",
            "WARNING:rasterio._env:CPLE_NotSupported in driver GTiff does not support open option COMPRESS\n",
            "WARNING:rasterio._env:CPLE_NotSupported in driver GTiff does not support open option INTERLEAVE\n",
            "WARNING:rasterio._env:CPLE_NotSupported in driver GTiff does not support open option BLOCKYSIZE\n",
            "WARNING:rasterio._env:CPLE_NotSupported in driver GTiff does not support open option COMPRESS\n",
            "WARNING:rasterio._env:CPLE_NotSupported in driver GTiff does not support open option INTERLEAVE\n"
          ]
        },
        {
          "output_type": "stream",
          "name": "stdout",
          "text": [
            "Done run 59 for bird Oak Titmouse\n"
          ]
        },
        {
          "output_type": "stream",
          "name": "stderr",
          "text": [
            "WARNING:rasterio._env:CPLE_NotSupported in driver GTiff does not support open option BLOCKYSIZE\n",
            "WARNING:rasterio._env:CPLE_NotSupported in driver GTiff does not support open option COMPRESS\n",
            "WARNING:rasterio._env:CPLE_NotSupported in driver GTiff does not support open option INTERLEAVE\n",
            "WARNING:rasterio._env:CPLE_NotSupported in driver GTiff does not support open option BLOCKYSIZE\n",
            "WARNING:rasterio._env:CPLE_NotSupported in driver GTiff does not support open option COMPRESS\n",
            "WARNING:rasterio._env:CPLE_NotSupported in driver GTiff does not support open option INTERLEAVE\n"
          ]
        },
        {
          "output_type": "stream",
          "name": "stdout",
          "text": [
            "Done run 60 for bird Oak Titmouse\n"
          ]
        },
        {
          "output_type": "stream",
          "name": "stderr",
          "text": [
            "WARNING:rasterio._env:CPLE_NotSupported in driver GTiff does not support open option BLOCKYSIZE\n",
            "WARNING:rasterio._env:CPLE_NotSupported in driver GTiff does not support open option COMPRESS\n",
            "WARNING:rasterio._env:CPLE_NotSupported in driver GTiff does not support open option INTERLEAVE\n",
            "WARNING:rasterio._env:CPLE_NotSupported in driver GTiff does not support open option BLOCKYSIZE\n",
            "WARNING:rasterio._env:CPLE_NotSupported in driver GTiff does not support open option COMPRESS\n",
            "WARNING:rasterio._env:CPLE_NotSupported in driver GTiff does not support open option INTERLEAVE\n"
          ]
        },
        {
          "output_type": "stream",
          "name": "stdout",
          "text": [
            "Done run 61 for bird Oak Titmouse\n"
          ]
        },
        {
          "output_type": "stream",
          "name": "stderr",
          "text": [
            "WARNING:rasterio._env:CPLE_NotSupported in driver GTiff does not support open option BLOCKYSIZE\n",
            "WARNING:rasterio._env:CPLE_NotSupported in driver GTiff does not support open option COMPRESS\n",
            "WARNING:rasterio._env:CPLE_NotSupported in driver GTiff does not support open option INTERLEAVE\n",
            "WARNING:rasterio._env:CPLE_NotSupported in driver GTiff does not support open option BLOCKYSIZE\n",
            "WARNING:rasterio._env:CPLE_NotSupported in driver GTiff does not support open option COMPRESS\n",
            "WARNING:rasterio._env:CPLE_NotSupported in driver GTiff does not support open option INTERLEAVE\n"
          ]
        },
        {
          "output_type": "stream",
          "name": "stdout",
          "text": [
            "Done run 62 for bird Oak Titmouse\n"
          ]
        },
        {
          "output_type": "stream",
          "name": "stderr",
          "text": [
            "WARNING:rasterio._env:CPLE_NotSupported in driver GTiff does not support open option BLOCKYSIZE\n",
            "WARNING:rasterio._env:CPLE_NotSupported in driver GTiff does not support open option COMPRESS\n",
            "WARNING:rasterio._env:CPLE_NotSupported in driver GTiff does not support open option INTERLEAVE\n",
            "WARNING:rasterio._env:CPLE_NotSupported in driver GTiff does not support open option BLOCKYSIZE\n",
            "WARNING:rasterio._env:CPLE_NotSupported in driver GTiff does not support open option COMPRESS\n",
            "WARNING:rasterio._env:CPLE_NotSupported in driver GTiff does not support open option INTERLEAVE\n"
          ]
        },
        {
          "output_type": "stream",
          "name": "stdout",
          "text": [
            "Done run 63 for bird Oak Titmouse\n"
          ]
        },
        {
          "output_type": "stream",
          "name": "stderr",
          "text": [
            "WARNING:rasterio._env:CPLE_NotSupported in driver GTiff does not support open option BLOCKYSIZE\n",
            "WARNING:rasterio._env:CPLE_NotSupported in driver GTiff does not support open option COMPRESS\n",
            "WARNING:rasterio._env:CPLE_NotSupported in driver GTiff does not support open option INTERLEAVE\n",
            "WARNING:rasterio._env:CPLE_NotSupported in driver GTiff does not support open option BLOCKYSIZE\n",
            "WARNING:rasterio._env:CPLE_NotSupported in driver GTiff does not support open option COMPRESS\n",
            "WARNING:rasterio._env:CPLE_NotSupported in driver GTiff does not support open option INTERLEAVE\n"
          ]
        },
        {
          "output_type": "stream",
          "name": "stdout",
          "text": [
            "Done run 64 for bird Oak Titmouse\n"
          ]
        },
        {
          "output_type": "stream",
          "name": "stderr",
          "text": [
            "WARNING:rasterio._env:CPLE_NotSupported in driver GTiff does not support open option BLOCKYSIZE\n",
            "WARNING:rasterio._env:CPLE_NotSupported in driver GTiff does not support open option COMPRESS\n",
            "WARNING:rasterio._env:CPLE_NotSupported in driver GTiff does not support open option INTERLEAVE\n",
            "WARNING:rasterio._env:CPLE_NotSupported in driver GTiff does not support open option BLOCKYSIZE\n",
            "WARNING:rasterio._env:CPLE_NotSupported in driver GTiff does not support open option COMPRESS\n",
            "WARNING:rasterio._env:CPLE_NotSupported in driver GTiff does not support open option INTERLEAVE\n"
          ]
        },
        {
          "output_type": "stream",
          "name": "stdout",
          "text": [
            "Done run 65 for bird Oak Titmouse\n"
          ]
        },
        {
          "output_type": "stream",
          "name": "stderr",
          "text": [
            "WARNING:rasterio._env:CPLE_NotSupported in driver GTiff does not support open option BLOCKYSIZE\n",
            "WARNING:rasterio._env:CPLE_NotSupported in driver GTiff does not support open option COMPRESS\n",
            "WARNING:rasterio._env:CPLE_NotSupported in driver GTiff does not support open option INTERLEAVE\n",
            "WARNING:rasterio._env:CPLE_NotSupported in driver GTiff does not support open option BLOCKYSIZE\n",
            "WARNING:rasterio._env:CPLE_NotSupported in driver GTiff does not support open option COMPRESS\n",
            "WARNING:rasterio._env:CPLE_NotSupported in driver GTiff does not support open option INTERLEAVE\n"
          ]
        },
        {
          "output_type": "stream",
          "name": "stdout",
          "text": [
            "Done run 66 for bird Oak Titmouse\n"
          ]
        },
        {
          "output_type": "stream",
          "name": "stderr",
          "text": [
            "WARNING:rasterio._env:CPLE_NotSupported in driver GTiff does not support open option BLOCKYSIZE\n",
            "WARNING:rasterio._env:CPLE_NotSupported in driver GTiff does not support open option COMPRESS\n",
            "WARNING:rasterio._env:CPLE_NotSupported in driver GTiff does not support open option INTERLEAVE\n",
            "WARNING:rasterio._env:CPLE_NotSupported in driver GTiff does not support open option BLOCKYSIZE\n",
            "WARNING:rasterio._env:CPLE_NotSupported in driver GTiff does not support open option COMPRESS\n",
            "WARNING:rasterio._env:CPLE_NotSupported in driver GTiff does not support open option INTERLEAVE\n"
          ]
        },
        {
          "output_type": "stream",
          "name": "stdout",
          "text": [
            "Done run 67 for bird Oak Titmouse\n"
          ]
        },
        {
          "output_type": "stream",
          "name": "stderr",
          "text": [
            "WARNING:rasterio._env:CPLE_NotSupported in driver GTiff does not support open option BLOCKYSIZE\n",
            "WARNING:rasterio._env:CPLE_NotSupported in driver GTiff does not support open option COMPRESS\n",
            "WARNING:rasterio._env:CPLE_NotSupported in driver GTiff does not support open option INTERLEAVE\n",
            "WARNING:rasterio._env:CPLE_NotSupported in driver GTiff does not support open option BLOCKYSIZE\n",
            "WARNING:rasterio._env:CPLE_NotSupported in driver GTiff does not support open option COMPRESS\n",
            "WARNING:rasterio._env:CPLE_NotSupported in driver GTiff does not support open option INTERLEAVE\n"
          ]
        },
        {
          "output_type": "stream",
          "name": "stdout",
          "text": [
            "Done run 68 for bird Oak Titmouse\n"
          ]
        },
        {
          "output_type": "stream",
          "name": "stderr",
          "text": [
            "WARNING:rasterio._env:CPLE_NotSupported in driver GTiff does not support open option BLOCKYSIZE\n",
            "WARNING:rasterio._env:CPLE_NotSupported in driver GTiff does not support open option COMPRESS\n",
            "WARNING:rasterio._env:CPLE_NotSupported in driver GTiff does not support open option INTERLEAVE\n",
            "WARNING:rasterio._env:CPLE_NotSupported in driver GTiff does not support open option BLOCKYSIZE\n",
            "WARNING:rasterio._env:CPLE_NotSupported in driver GTiff does not support open option COMPRESS\n",
            "WARNING:rasterio._env:CPLE_NotSupported in driver GTiff does not support open option INTERLEAVE\n"
          ]
        },
        {
          "output_type": "stream",
          "name": "stdout",
          "text": [
            "Done run 69 for bird Oak Titmouse\n"
          ]
        },
        {
          "output_type": "stream",
          "name": "stderr",
          "text": [
            "WARNING:rasterio._env:CPLE_NotSupported in driver GTiff does not support open option BLOCKYSIZE\n",
            "WARNING:rasterio._env:CPLE_NotSupported in driver GTiff does not support open option COMPRESS\n",
            "WARNING:rasterio._env:CPLE_NotSupported in driver GTiff does not support open option INTERLEAVE\n",
            "WARNING:rasterio._env:CPLE_NotSupported in driver GTiff does not support open option BLOCKYSIZE\n",
            "WARNING:rasterio._env:CPLE_NotSupported in driver GTiff does not support open option COMPRESS\n",
            "WARNING:rasterio._env:CPLE_NotSupported in driver GTiff does not support open option INTERLEAVE\n"
          ]
        },
        {
          "output_type": "stream",
          "name": "stdout",
          "text": [
            "Done run 70 for bird Oak Titmouse\n"
          ]
        },
        {
          "output_type": "stream",
          "name": "stderr",
          "text": [
            "WARNING:rasterio._env:CPLE_NotSupported in driver GTiff does not support open option BLOCKYSIZE\n",
            "WARNING:rasterio._env:CPLE_NotSupported in driver GTiff does not support open option COMPRESS\n",
            "WARNING:rasterio._env:CPLE_NotSupported in driver GTiff does not support open option INTERLEAVE\n",
            "WARNING:rasterio._env:CPLE_NotSupported in driver GTiff does not support open option BLOCKYSIZE\n",
            "WARNING:rasterio._env:CPLE_NotSupported in driver GTiff does not support open option COMPRESS\n",
            "WARNING:rasterio._env:CPLE_NotSupported in driver GTiff does not support open option INTERLEAVE\n"
          ]
        },
        {
          "output_type": "stream",
          "name": "stdout",
          "text": [
            "Done run 71 for bird Oak Titmouse\n"
          ]
        },
        {
          "output_type": "stream",
          "name": "stderr",
          "text": [
            "WARNING:rasterio._env:CPLE_NotSupported in driver GTiff does not support open option BLOCKYSIZE\n",
            "WARNING:rasterio._env:CPLE_NotSupported in driver GTiff does not support open option COMPRESS\n",
            "WARNING:rasterio._env:CPLE_NotSupported in driver GTiff does not support open option INTERLEAVE\n",
            "WARNING:rasterio._env:CPLE_NotSupported in driver GTiff does not support open option BLOCKYSIZE\n",
            "WARNING:rasterio._env:CPLE_NotSupported in driver GTiff does not support open option COMPRESS\n",
            "WARNING:rasterio._env:CPLE_NotSupported in driver GTiff does not support open option INTERLEAVE\n"
          ]
        },
        {
          "output_type": "stream",
          "name": "stdout",
          "text": [
            "Done run 72 for bird Oak Titmouse\n"
          ]
        },
        {
          "output_type": "stream",
          "name": "stderr",
          "text": [
            "WARNING:rasterio._env:CPLE_NotSupported in driver GTiff does not support open option BLOCKYSIZE\n",
            "WARNING:rasterio._env:CPLE_NotSupported in driver GTiff does not support open option COMPRESS\n",
            "WARNING:rasterio._env:CPLE_NotSupported in driver GTiff does not support open option INTERLEAVE\n",
            "WARNING:rasterio._env:CPLE_NotSupported in driver GTiff does not support open option BLOCKYSIZE\n",
            "WARNING:rasterio._env:CPLE_NotSupported in driver GTiff does not support open option COMPRESS\n",
            "WARNING:rasterio._env:CPLE_NotSupported in driver GTiff does not support open option INTERLEAVE\n"
          ]
        },
        {
          "output_type": "stream",
          "name": "stdout",
          "text": [
            "Done run 73 for bird Oak Titmouse\n"
          ]
        },
        {
          "output_type": "stream",
          "name": "stderr",
          "text": [
            "WARNING:rasterio._env:CPLE_NotSupported in driver GTiff does not support open option BLOCKYSIZE\n",
            "WARNING:rasterio._env:CPLE_NotSupported in driver GTiff does not support open option COMPRESS\n",
            "WARNING:rasterio._env:CPLE_NotSupported in driver GTiff does not support open option INTERLEAVE\n",
            "WARNING:rasterio._env:CPLE_NotSupported in driver GTiff does not support open option BLOCKYSIZE\n",
            "WARNING:rasterio._env:CPLE_NotSupported in driver GTiff does not support open option COMPRESS\n",
            "WARNING:rasterio._env:CPLE_NotSupported in driver GTiff does not support open option INTERLEAVE\n"
          ]
        },
        {
          "output_type": "stream",
          "name": "stdout",
          "text": [
            "Done run 74 for bird Oak Titmouse\n"
          ]
        },
        {
          "output_type": "stream",
          "name": "stderr",
          "text": [
            "WARNING:rasterio._env:CPLE_NotSupported in driver GTiff does not support open option BLOCKYSIZE\n",
            "WARNING:rasterio._env:CPLE_NotSupported in driver GTiff does not support open option COMPRESS\n",
            "WARNING:rasterio._env:CPLE_NotSupported in driver GTiff does not support open option INTERLEAVE\n",
            "WARNING:rasterio._env:CPLE_NotSupported in driver GTiff does not support open option BLOCKYSIZE\n",
            "WARNING:rasterio._env:CPLE_NotSupported in driver GTiff does not support open option COMPRESS\n",
            "WARNING:rasterio._env:CPLE_NotSupported in driver GTiff does not support open option INTERLEAVE\n"
          ]
        },
        {
          "output_type": "stream",
          "name": "stdout",
          "text": [
            "Done run 75 for bird Oak Titmouse\n"
          ]
        },
        {
          "output_type": "stream",
          "name": "stderr",
          "text": [
            "WARNING:rasterio._env:CPLE_NotSupported in driver GTiff does not support open option BLOCKYSIZE\n",
            "WARNING:rasterio._env:CPLE_NotSupported in driver GTiff does not support open option COMPRESS\n",
            "WARNING:rasterio._env:CPLE_NotSupported in driver GTiff does not support open option INTERLEAVE\n",
            "WARNING:rasterio._env:CPLE_NotSupported in driver GTiff does not support open option BLOCKYSIZE\n",
            "WARNING:rasterio._env:CPLE_NotSupported in driver GTiff does not support open option COMPRESS\n",
            "WARNING:rasterio._env:CPLE_NotSupported in driver GTiff does not support open option INTERLEAVE\n"
          ]
        },
        {
          "output_type": "stream",
          "name": "stdout",
          "text": [
            "Done run 76 for bird Oak Titmouse\n"
          ]
        },
        {
          "output_type": "stream",
          "name": "stderr",
          "text": [
            "WARNING:rasterio._env:CPLE_NotSupported in driver GTiff does not support open option BLOCKYSIZE\n",
            "WARNING:rasterio._env:CPLE_NotSupported in driver GTiff does not support open option COMPRESS\n",
            "WARNING:rasterio._env:CPLE_NotSupported in driver GTiff does not support open option INTERLEAVE\n",
            "WARNING:rasterio._env:CPLE_NotSupported in driver GTiff does not support open option BLOCKYSIZE\n",
            "WARNING:rasterio._env:CPLE_NotSupported in driver GTiff does not support open option COMPRESS\n",
            "WARNING:rasterio._env:CPLE_NotSupported in driver GTiff does not support open option INTERLEAVE\n"
          ]
        },
        {
          "output_type": "stream",
          "name": "stdout",
          "text": [
            "Done run 77 for bird Oak Titmouse\n"
          ]
        },
        {
          "output_type": "stream",
          "name": "stderr",
          "text": [
            "WARNING:rasterio._env:CPLE_NotSupported in driver GTiff does not support open option BLOCKYSIZE\n",
            "WARNING:rasterio._env:CPLE_NotSupported in driver GTiff does not support open option COMPRESS\n",
            "WARNING:rasterio._env:CPLE_NotSupported in driver GTiff does not support open option INTERLEAVE\n",
            "WARNING:rasterio._env:CPLE_NotSupported in driver GTiff does not support open option BLOCKYSIZE\n",
            "WARNING:rasterio._env:CPLE_NotSupported in driver GTiff does not support open option COMPRESS\n",
            "WARNING:rasterio._env:CPLE_NotSupported in driver GTiff does not support open option INTERLEAVE\n"
          ]
        },
        {
          "output_type": "stream",
          "name": "stdout",
          "text": [
            "Done run 78 for bird Oak Titmouse\n"
          ]
        },
        {
          "output_type": "stream",
          "name": "stderr",
          "text": [
            "WARNING:rasterio._env:CPLE_NotSupported in driver GTiff does not support open option BLOCKYSIZE\n",
            "WARNING:rasterio._env:CPLE_NotSupported in driver GTiff does not support open option COMPRESS\n",
            "WARNING:rasterio._env:CPLE_NotSupported in driver GTiff does not support open option INTERLEAVE\n",
            "WARNING:rasterio._env:CPLE_NotSupported in driver GTiff does not support open option BLOCKYSIZE\n",
            "WARNING:rasterio._env:CPLE_NotSupported in driver GTiff does not support open option COMPRESS\n",
            "WARNING:rasterio._env:CPLE_NotSupported in driver GTiff does not support open option INTERLEAVE\n"
          ]
        },
        {
          "output_type": "stream",
          "name": "stdout",
          "text": [
            "Done run 79 for bird Oak Titmouse\n"
          ]
        },
        {
          "output_type": "stream",
          "name": "stderr",
          "text": [
            "WARNING:rasterio._env:CPLE_NotSupported in driver GTiff does not support open option BLOCKYSIZE\n",
            "WARNING:rasterio._env:CPLE_NotSupported in driver GTiff does not support open option COMPRESS\n",
            "WARNING:rasterio._env:CPLE_NotSupported in driver GTiff does not support open option INTERLEAVE\n",
            "WARNING:rasterio._env:CPLE_NotSupported in driver GTiff does not support open option BLOCKYSIZE\n",
            "WARNING:rasterio._env:CPLE_NotSupported in driver GTiff does not support open option COMPRESS\n",
            "WARNING:rasterio._env:CPLE_NotSupported in driver GTiff does not support open option INTERLEAVE\n"
          ]
        },
        {
          "output_type": "stream",
          "name": "stdout",
          "text": [
            "Done run 80 for bird Oak Titmouse\n"
          ]
        },
        {
          "output_type": "stream",
          "name": "stderr",
          "text": [
            "WARNING:rasterio._env:CPLE_NotSupported in driver GTiff does not support open option BLOCKYSIZE\n",
            "WARNING:rasterio._env:CPLE_NotSupported in driver GTiff does not support open option COMPRESS\n",
            "WARNING:rasterio._env:CPLE_NotSupported in driver GTiff does not support open option INTERLEAVE\n",
            "WARNING:rasterio._env:CPLE_NotSupported in driver GTiff does not support open option BLOCKYSIZE\n",
            "WARNING:rasterio._env:CPLE_NotSupported in driver GTiff does not support open option COMPRESS\n",
            "WARNING:rasterio._env:CPLE_NotSupported in driver GTiff does not support open option INTERLEAVE\n"
          ]
        },
        {
          "output_type": "stream",
          "name": "stdout",
          "text": [
            "Done run 81 for bird Oak Titmouse\n"
          ]
        },
        {
          "output_type": "stream",
          "name": "stderr",
          "text": [
            "WARNING:rasterio._env:CPLE_NotSupported in driver GTiff does not support open option BLOCKYSIZE\n",
            "WARNING:rasterio._env:CPLE_NotSupported in driver GTiff does not support open option COMPRESS\n",
            "WARNING:rasterio._env:CPLE_NotSupported in driver GTiff does not support open option INTERLEAVE\n",
            "WARNING:rasterio._env:CPLE_NotSupported in driver GTiff does not support open option BLOCKYSIZE\n",
            "WARNING:rasterio._env:CPLE_NotSupported in driver GTiff does not support open option COMPRESS\n",
            "WARNING:rasterio._env:CPLE_NotSupported in driver GTiff does not support open option INTERLEAVE\n"
          ]
        },
        {
          "output_type": "stream",
          "name": "stdout",
          "text": [
            "Done run 82 for bird Oak Titmouse\n"
          ]
        },
        {
          "output_type": "stream",
          "name": "stderr",
          "text": [
            "WARNING:rasterio._env:CPLE_NotSupported in driver GTiff does not support open option BLOCKYSIZE\n",
            "WARNING:rasterio._env:CPLE_NotSupported in driver GTiff does not support open option COMPRESS\n",
            "WARNING:rasterio._env:CPLE_NotSupported in driver GTiff does not support open option INTERLEAVE\n",
            "WARNING:rasterio._env:CPLE_NotSupported in driver GTiff does not support open option BLOCKYSIZE\n",
            "WARNING:rasterio._env:CPLE_NotSupported in driver GTiff does not support open option COMPRESS\n",
            "WARNING:rasterio._env:CPLE_NotSupported in driver GTiff does not support open option INTERLEAVE\n"
          ]
        },
        {
          "output_type": "stream",
          "name": "stdout",
          "text": [
            "Done run 83 for bird Oak Titmouse\n"
          ]
        },
        {
          "output_type": "stream",
          "name": "stderr",
          "text": [
            "WARNING:rasterio._env:CPLE_NotSupported in driver GTiff does not support open option BLOCKYSIZE\n",
            "WARNING:rasterio._env:CPLE_NotSupported in driver GTiff does not support open option COMPRESS\n",
            "WARNING:rasterio._env:CPLE_NotSupported in driver GTiff does not support open option INTERLEAVE\n",
            "WARNING:rasterio._env:CPLE_NotSupported in driver GTiff does not support open option BLOCKYSIZE\n",
            "WARNING:rasterio._env:CPLE_NotSupported in driver GTiff does not support open option COMPRESS\n",
            "WARNING:rasterio._env:CPLE_NotSupported in driver GTiff does not support open option INTERLEAVE\n"
          ]
        },
        {
          "output_type": "stream",
          "name": "stdout",
          "text": [
            "Done run 84 for bird Oak Titmouse\n"
          ]
        },
        {
          "output_type": "stream",
          "name": "stderr",
          "text": [
            "WARNING:rasterio._env:CPLE_NotSupported in driver GTiff does not support open option BLOCKYSIZE\n",
            "WARNING:rasterio._env:CPLE_NotSupported in driver GTiff does not support open option COMPRESS\n",
            "WARNING:rasterio._env:CPLE_NotSupported in driver GTiff does not support open option INTERLEAVE\n",
            "WARNING:rasterio._env:CPLE_NotSupported in driver GTiff does not support open option BLOCKYSIZE\n",
            "WARNING:rasterio._env:CPLE_NotSupported in driver GTiff does not support open option COMPRESS\n",
            "WARNING:rasterio._env:CPLE_NotSupported in driver GTiff does not support open option INTERLEAVE\n"
          ]
        },
        {
          "output_type": "stream",
          "name": "stdout",
          "text": [
            "Done run 85 for bird Oak Titmouse\n"
          ]
        },
        {
          "output_type": "stream",
          "name": "stderr",
          "text": [
            "WARNING:rasterio._env:CPLE_NotSupported in driver GTiff does not support open option BLOCKYSIZE\n",
            "WARNING:rasterio._env:CPLE_NotSupported in driver GTiff does not support open option COMPRESS\n",
            "WARNING:rasterio._env:CPLE_NotSupported in driver GTiff does not support open option INTERLEAVE\n",
            "WARNING:rasterio._env:CPLE_NotSupported in driver GTiff does not support open option BLOCKYSIZE\n",
            "WARNING:rasterio._env:CPLE_NotSupported in driver GTiff does not support open option COMPRESS\n",
            "WARNING:rasterio._env:CPLE_NotSupported in driver GTiff does not support open option INTERLEAVE\n"
          ]
        },
        {
          "output_type": "stream",
          "name": "stdout",
          "text": [
            "Done run 86 for bird Oak Titmouse\n"
          ]
        },
        {
          "output_type": "stream",
          "name": "stderr",
          "text": [
            "WARNING:rasterio._env:CPLE_NotSupported in driver GTiff does not support open option BLOCKYSIZE\n",
            "WARNING:rasterio._env:CPLE_NotSupported in driver GTiff does not support open option COMPRESS\n",
            "WARNING:rasterio._env:CPLE_NotSupported in driver GTiff does not support open option INTERLEAVE\n",
            "WARNING:rasterio._env:CPLE_NotSupported in driver GTiff does not support open option BLOCKYSIZE\n",
            "WARNING:rasterio._env:CPLE_NotSupported in driver GTiff does not support open option COMPRESS\n",
            "WARNING:rasterio._env:CPLE_NotSupported in driver GTiff does not support open option INTERLEAVE\n"
          ]
        },
        {
          "output_type": "stream",
          "name": "stdout",
          "text": [
            "Done run 87 for bird Oak Titmouse\n"
          ]
        },
        {
          "output_type": "stream",
          "name": "stderr",
          "text": [
            "WARNING:rasterio._env:CPLE_NotSupported in driver GTiff does not support open option BLOCKYSIZE\n",
            "WARNING:rasterio._env:CPLE_NotSupported in driver GTiff does not support open option COMPRESS\n",
            "WARNING:rasterio._env:CPLE_NotSupported in driver GTiff does not support open option INTERLEAVE\n",
            "WARNING:rasterio._env:CPLE_NotSupported in driver GTiff does not support open option BLOCKYSIZE\n",
            "WARNING:rasterio._env:CPLE_NotSupported in driver GTiff does not support open option COMPRESS\n",
            "WARNING:rasterio._env:CPLE_NotSupported in driver GTiff does not support open option INTERLEAVE\n"
          ]
        },
        {
          "output_type": "stream",
          "name": "stdout",
          "text": [
            "Done run 88 for bird Oak Titmouse\n"
          ]
        },
        {
          "output_type": "stream",
          "name": "stderr",
          "text": [
            "WARNING:rasterio._env:CPLE_NotSupported in driver GTiff does not support open option BLOCKYSIZE\n",
            "WARNING:rasterio._env:CPLE_NotSupported in driver GTiff does not support open option COMPRESS\n",
            "WARNING:rasterio._env:CPLE_NotSupported in driver GTiff does not support open option INTERLEAVE\n",
            "WARNING:rasterio._env:CPLE_NotSupported in driver GTiff does not support open option BLOCKYSIZE\n",
            "WARNING:rasterio._env:CPLE_NotSupported in driver GTiff does not support open option COMPRESS\n",
            "WARNING:rasterio._env:CPLE_NotSupported in driver GTiff does not support open option INTERLEAVE\n"
          ]
        },
        {
          "output_type": "stream",
          "name": "stdout",
          "text": [
            "Done run 89 for bird Oak Titmouse\n"
          ]
        },
        {
          "output_type": "stream",
          "name": "stderr",
          "text": [
            "WARNING:rasterio._env:CPLE_NotSupported in driver GTiff does not support open option BLOCKYSIZE\n",
            "WARNING:rasterio._env:CPLE_NotSupported in driver GTiff does not support open option COMPRESS\n",
            "WARNING:rasterio._env:CPLE_NotSupported in driver GTiff does not support open option INTERLEAVE\n",
            "WARNING:rasterio._env:CPLE_NotSupported in driver GTiff does not support open option BLOCKYSIZE\n",
            "WARNING:rasterio._env:CPLE_NotSupported in driver GTiff does not support open option COMPRESS\n",
            "WARNING:rasterio._env:CPLE_NotSupported in driver GTiff does not support open option INTERLEAVE\n"
          ]
        },
        {
          "output_type": "stream",
          "name": "stdout",
          "text": [
            "Done run 90 for bird Oak Titmouse\n"
          ]
        },
        {
          "output_type": "stream",
          "name": "stderr",
          "text": [
            "WARNING:rasterio._env:CPLE_NotSupported in driver GTiff does not support open option BLOCKYSIZE\n",
            "WARNING:rasterio._env:CPLE_NotSupported in driver GTiff does not support open option COMPRESS\n",
            "WARNING:rasterio._env:CPLE_NotSupported in driver GTiff does not support open option INTERLEAVE\n",
            "WARNING:rasterio._env:CPLE_NotSupported in driver GTiff does not support open option BLOCKYSIZE\n",
            "WARNING:rasterio._env:CPLE_NotSupported in driver GTiff does not support open option COMPRESS\n",
            "WARNING:rasterio._env:CPLE_NotSupported in driver GTiff does not support open option INTERLEAVE\n"
          ]
        },
        {
          "output_type": "stream",
          "name": "stdout",
          "text": [
            "Done run 91 for bird Oak Titmouse\n"
          ]
        },
        {
          "output_type": "stream",
          "name": "stderr",
          "text": [
            "WARNING:rasterio._env:CPLE_NotSupported in driver GTiff does not support open option BLOCKYSIZE\n",
            "WARNING:rasterio._env:CPLE_NotSupported in driver GTiff does not support open option COMPRESS\n",
            "WARNING:rasterio._env:CPLE_NotSupported in driver GTiff does not support open option INTERLEAVE\n",
            "WARNING:rasterio._env:CPLE_NotSupported in driver GTiff does not support open option BLOCKYSIZE\n",
            "WARNING:rasterio._env:CPLE_NotSupported in driver GTiff does not support open option COMPRESS\n",
            "WARNING:rasterio._env:CPLE_NotSupported in driver GTiff does not support open option INTERLEAVE\n"
          ]
        },
        {
          "output_type": "stream",
          "name": "stdout",
          "text": [
            "Done run 92 for bird Oak Titmouse\n"
          ]
        },
        {
          "output_type": "stream",
          "name": "stderr",
          "text": [
            "WARNING:rasterio._env:CPLE_NotSupported in driver GTiff does not support open option BLOCKYSIZE\n",
            "WARNING:rasterio._env:CPLE_NotSupported in driver GTiff does not support open option COMPRESS\n",
            "WARNING:rasterio._env:CPLE_NotSupported in driver GTiff does not support open option INTERLEAVE\n",
            "WARNING:rasterio._env:CPLE_NotSupported in driver GTiff does not support open option BLOCKYSIZE\n",
            "WARNING:rasterio._env:CPLE_NotSupported in driver GTiff does not support open option COMPRESS\n",
            "WARNING:rasterio._env:CPLE_NotSupported in driver GTiff does not support open option INTERLEAVE\n"
          ]
        },
        {
          "output_type": "stream",
          "name": "stdout",
          "text": [
            "Done run 93 for bird Oak Titmouse\n"
          ]
        },
        {
          "output_type": "stream",
          "name": "stderr",
          "text": [
            "WARNING:rasterio._env:CPLE_NotSupported in driver GTiff does not support open option BLOCKYSIZE\n",
            "WARNING:rasterio._env:CPLE_NotSupported in driver GTiff does not support open option COMPRESS\n",
            "WARNING:rasterio._env:CPLE_NotSupported in driver GTiff does not support open option INTERLEAVE\n",
            "WARNING:rasterio._env:CPLE_NotSupported in driver GTiff does not support open option BLOCKYSIZE\n",
            "WARNING:rasterio._env:CPLE_NotSupported in driver GTiff does not support open option COMPRESS\n",
            "WARNING:rasterio._env:CPLE_NotSupported in driver GTiff does not support open option INTERLEAVE\n"
          ]
        },
        {
          "output_type": "stream",
          "name": "stdout",
          "text": [
            "Done run 94 for bird Oak Titmouse\n"
          ]
        },
        {
          "output_type": "stream",
          "name": "stderr",
          "text": [
            "WARNING:rasterio._env:CPLE_NotSupported in driver GTiff does not support open option BLOCKYSIZE\n",
            "WARNING:rasterio._env:CPLE_NotSupported in driver GTiff does not support open option COMPRESS\n",
            "WARNING:rasterio._env:CPLE_NotSupported in driver GTiff does not support open option INTERLEAVE\n",
            "WARNING:rasterio._env:CPLE_NotSupported in driver GTiff does not support open option BLOCKYSIZE\n",
            "WARNING:rasterio._env:CPLE_NotSupported in driver GTiff does not support open option COMPRESS\n",
            "WARNING:rasterio._env:CPLE_NotSupported in driver GTiff does not support open option INTERLEAVE\n"
          ]
        },
        {
          "output_type": "stream",
          "name": "stdout",
          "text": [
            "Done run 95 for bird Oak Titmouse\n"
          ]
        },
        {
          "output_type": "stream",
          "name": "stderr",
          "text": [
            "WARNING:rasterio._env:CPLE_NotSupported in driver GTiff does not support open option BLOCKYSIZE\n",
            "WARNING:rasterio._env:CPLE_NotSupported in driver GTiff does not support open option COMPRESS\n",
            "WARNING:rasterio._env:CPLE_NotSupported in driver GTiff does not support open option INTERLEAVE\n",
            "WARNING:rasterio._env:CPLE_NotSupported in driver GTiff does not support open option BLOCKYSIZE\n",
            "WARNING:rasterio._env:CPLE_NotSupported in driver GTiff does not support open option COMPRESS\n",
            "WARNING:rasterio._env:CPLE_NotSupported in driver GTiff does not support open option INTERLEAVE\n"
          ]
        },
        {
          "output_type": "stream",
          "name": "stdout",
          "text": [
            "Done run 96 for bird Oak Titmouse\n"
          ]
        },
        {
          "output_type": "stream",
          "name": "stderr",
          "text": [
            "WARNING:rasterio._env:CPLE_NotSupported in driver GTiff does not support open option BLOCKYSIZE\n",
            "WARNING:rasterio._env:CPLE_NotSupported in driver GTiff does not support open option COMPRESS\n",
            "WARNING:rasterio._env:CPLE_NotSupported in driver GTiff does not support open option INTERLEAVE\n",
            "WARNING:rasterio._env:CPLE_NotSupported in driver GTiff does not support open option BLOCKYSIZE\n",
            "WARNING:rasterio._env:CPLE_NotSupported in driver GTiff does not support open option COMPRESS\n",
            "WARNING:rasterio._env:CPLE_NotSupported in driver GTiff does not support open option INTERLEAVE\n"
          ]
        },
        {
          "output_type": "stream",
          "name": "stdout",
          "text": [
            "Done run 97 for bird Oak Titmouse\n"
          ]
        },
        {
          "output_type": "stream",
          "name": "stderr",
          "text": [
            "WARNING:rasterio._env:CPLE_NotSupported in driver GTiff does not support open option BLOCKYSIZE\n",
            "WARNING:rasterio._env:CPLE_NotSupported in driver GTiff does not support open option COMPRESS\n",
            "WARNING:rasterio._env:CPLE_NotSupported in driver GTiff does not support open option INTERLEAVE\n",
            "WARNING:rasterio._env:CPLE_NotSupported in driver GTiff does not support open option BLOCKYSIZE\n",
            "WARNING:rasterio._env:CPLE_NotSupported in driver GTiff does not support open option COMPRESS\n",
            "WARNING:rasterio._env:CPLE_NotSupported in driver GTiff does not support open option INTERLEAVE\n"
          ]
        },
        {
          "output_type": "stream",
          "name": "stdout",
          "text": [
            "Done run 98 for bird Oak Titmouse\n",
            "Done run 99 for bird Oak Titmouse\n"
          ]
        }
      ]
    },
    {
      "cell_type": "code",
      "source": [
        "std_renorm = math.sqrt(ORIG_NUM_SIMULATIONS / NUM_SIMULATIONS)\n",
        "\n",
        "def perc_below_threshold(std, threshold, renorm=std_renorm):\n",
        "    t = threshold * std_renorm\n",
        "    return np.sum(std > t) / len(std)\n",
        "\n",
        "def analyze_variance(a, values=None):\n",
        "    std = np.sqrt(a.flatten())\n",
        "    for t in values:\n",
        "        print(\"Perc > {}:\".format(t), 100 * perc_below_threshold(std, t))"
      ],
      "metadata": {
        "id": "sSmAFGJPnr_J"
      },
      "execution_count": null,
      "outputs": []
    },
    {
      "cell_type": "code",
      "source": [
        "for b in [\"acowoo\", \"stejay\", \"oaktit308\"]:\n",
        "    print(b, \":\")\n",
        "    analyze_variance(conn_variance[b], values=[0.5, 0.2, 0.1, 0.05, 0.02, 0.01])"
      ],
      "metadata": {
        "colab": {
          "base_uri": "https://localhost:8080/"
        },
        "id": "wM7GxYzkrFI9",
        "outputId": "5393c407-3cb2-44b8-b6df-e2509673409c"
      },
      "execution_count": null,
      "outputs": [
        {
          "output_type": "stream",
          "name": "stdout",
          "text": [
            "acowoo :\n",
            "Perc > 0.5: 0.0\n",
            "Perc > 0.2: 0.0\n",
            "Perc > 0.1: 0.0\n",
            "Perc > 0.05: 0.0\n",
            "Perc > 0.02: 0.7717207585712218\n",
            "Perc > 0.01: 3.693376264930985\n",
            "stejay :\n",
            "Perc > 0.5: 0.0\n",
            "Perc > 0.2: 0.0\n",
            "Perc > 0.1: 0.0\n",
            "Perc > 0.05: 0.0\n",
            "Perc > 0.02: 0.4873346248313142\n",
            "Perc > 0.01: 3.380352828386584\n",
            "oaktit308 :\n",
            "Perc > 0.5: 0.0\n",
            "Perc > 0.2: 0.0\n",
            "Perc > 0.1: 0.0\n",
            "Perc > 0.05: 0.0\n",
            "Perc > 0.02: 0.2790110090960722\n",
            "Perc > 0.01: 1.2246976267173124\n"
          ]
        }
      ]
    },
    {
      "cell_type": "code",
      "source": [
        "for b in [\"acowoo\", \"stejay\", \"oaktit308\"]:\n",
        "    print(b, \":\")\n",
        "    analyze_variance(flow_variance[b], values=[1, 2, 5, 10, 20, 30, 40])"
      ],
      "metadata": {
        "colab": {
          "base_uri": "https://localhost:8080/"
        },
        "id": "wCCRy7vKrjgF",
        "outputId": "8e5a73fb-58fb-41f7-8d3a-9dcc3b4fd916"
      },
      "execution_count": null,
      "outputs": [
        {
          "output_type": "stream",
          "name": "stdout",
          "text": [
            "acowoo :\n",
            "Perc > 1: 7.512051990367616\n",
            "Perc > 2: 7.070951445107767\n",
            "Perc > 5: 6.26854643216843\n",
            "Perc > 10: 5.308085728933966\n",
            "Perc > 20: 3.6062031540871065\n",
            "Perc > 30: 1.6398334171799394\n",
            "Perc > 40: 0.2962574518545982\n",
            "stejay :\n",
            "Perc > 1: 11.105918382585958\n",
            "Perc > 2: 9.122567455812373\n",
            "Perc > 5: 0.13596462867698064\n",
            "Perc > 10: 0.0\n",
            "Perc > 20: 0.0\n",
            "Perc > 30: 0.0\n",
            "Perc > 40: 0.0\n",
            "oaktit308 :\n",
            "Perc > 1: 3.2395736094792773\n",
            "Perc > 2: 1.7704279259846338\n",
            "Perc > 5: 0.0\n",
            "Perc > 10: 0.0\n",
            "Perc > 20: 0.0\n",
            "Perc > 30: 0.0\n",
            "Perc > 40: 0.0\n"
          ]
        }
      ]
    },
    {
      "cell_type": "code",
      "source": [],
      "metadata": {
        "id": "7MiFX5VSu4Le"
      },
      "execution_count": null,
      "outputs": []
    }
  ]
}