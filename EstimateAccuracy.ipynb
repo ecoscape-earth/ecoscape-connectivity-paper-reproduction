{
  "nbformat": 4,
  "nbformat_minor": 0,
  "metadata": {
    "colab": {
      "provenance": [],
      "machine_shape": "hm",
      "gpuType": "A100"
    },
    "kernelspec": {
      "name": "python3",
      "display_name": "Python 3"
    },
    "language_info": {
      "name": "python"
    },
    "accelerator": "GPU"
  },
  "cells": [
    {
      "cell_type": "markdown",
      "source": [
        "## Code Setup"
      ],
      "metadata": {
        "id": "LqJ-bVfQgpi-"
      }
    },
    {
      "cell_type": "code",
      "source": [
        "# If True, assumes everything is running locally.\n",
        "IS_LOCAL = False\n",
        "\n",
        "# Path to main directory\n",
        "REMOTE_PATH = \"/content/gdrive/Shareddrives/Birds and CS/Data/CA-Final\"\n",
        "LOCAL_PATH = \"/Users/luca/Library/CloudStorage/GoogleDrive-luca@ucsc.edu/Shared drives/Birds and CS/Data/CA-Final\"\n",
        "DATA_PATH = LOCAL_PATH if IS_LOCAL else REMOTE_PATH"
      ],
      "metadata": {
        "id": "iHRuGs-jgrFw"
      },
      "execution_count": 1,
      "outputs": []
    },
    {
      "cell_type": "code",
      "source": [
        "import os\n",
        "import sys\n",
        "import warnings\n",
        "warnings.filterwarnings(\"ignore\") # Otherwise we get too much spurious output."
      ],
      "metadata": {
        "id": "g-NPiy_LgtpT"
      },
      "execution_count": 2,
      "outputs": []
    },
    {
      "cell_type": "code",
      "source": [
        "# Installs required packages\n",
        "if not IS_LOCAL:\n",
        "    !pip install git+https://github.com/ecoscape-earth/ecoscape-connectivity.git\n",
        "    !pip install git+https://github.com/ecoscape-earth/ecoscape-utils.git"
      ],
      "metadata": {
        "colab": {
          "base_uri": "https://localhost:8080/"
        },
        "id": "lCNBoQM31iaW",
        "outputId": "55236da6-8b10-4322-e70c-453a7cbdaf69"
      },
      "execution_count": 3,
      "outputs": [
        {
          "output_type": "stream",
          "name": "stdout",
          "text": [
            "Collecting git+https://github.com/ecoscape-earth/ecoscape-connectivity.git\n",
            "  Cloning https://github.com/ecoscape-earth/ecoscape-connectivity.git to /tmp/pip-req-build-jvs8prx2\n",
            "  Running command git clone --filter=blob:none --quiet https://github.com/ecoscape-earth/ecoscape-connectivity.git /tmp/pip-req-build-jvs8prx2\n",
            "  Resolved https://github.com/ecoscape-earth/ecoscape-connectivity.git to commit 23e3ef478fc073aa3da612ff8168ed9aa60d8eb6\n",
            "  Installing build dependencies ... \u001b[?25l\u001b[?25hdone\n",
            "  Getting requirements to build wheel ... \u001b[?25l\u001b[?25hdone\n",
            "  Installing backend dependencies ... \u001b[?25l\u001b[?25hdone\n",
            "  Preparing metadata (pyproject.toml) ... \u001b[?25l\u001b[?25hdone\n",
            "Requirement already satisfied: numpy>=1.20.3 in /usr/local/lib/python3.10/dist-packages (from ecoscape-connectivity==0.0.2) (1.23.5)\n",
            "Collecting scgt>=0.0.4 (from ecoscape-connectivity==0.0.2)\n",
            "  Downloading scgt-0.0.5-py3-none-any.whl (11 kB)\n",
            "Requirement already satisfied: GDAL>=3.0.0 in /usr/local/lib/python3.10/dist-packages (from scgt>=0.0.4->ecoscape-connectivity==0.0.2) (3.4.3)\n",
            "Requirement already satisfied: matplotlib>=3.5.3 in /usr/local/lib/python3.10/dist-packages (from scgt>=0.0.4->ecoscape-connectivity==0.0.2) (3.7.1)\n",
            "Collecting rasterio>=1.2.10 (from scgt>=0.0.4->ecoscape-connectivity==0.0.2)\n",
            "  Downloading rasterio-1.3.8-cp310-cp310-manylinux_2_17_x86_64.manylinux2014_x86_64.whl (21.3 MB)\n",
            "\u001b[2K     \u001b[90m━━━━━━━━━━━━━━━━━━━━━━━━━━━━━━━━━━━━━━━━\u001b[0m \u001b[32m21.3/21.3 MB\u001b[0m \u001b[31m69.2 MB/s\u001b[0m eta \u001b[36m0:00:00\u001b[0m\n",
            "\u001b[?25hRequirement already satisfied: scipy>=1.7.3 in /usr/local/lib/python3.10/dist-packages (from scgt>=0.0.4->ecoscape-connectivity==0.0.2) (1.11.2)\n",
            "Requirement already satisfied: contourpy>=1.0.1 in /usr/local/lib/python3.10/dist-packages (from matplotlib>=3.5.3->scgt>=0.0.4->ecoscape-connectivity==0.0.2) (1.1.0)\n",
            "Requirement already satisfied: cycler>=0.10 in /usr/local/lib/python3.10/dist-packages (from matplotlib>=3.5.3->scgt>=0.0.4->ecoscape-connectivity==0.0.2) (0.11.0)\n",
            "Requirement already satisfied: fonttools>=4.22.0 in /usr/local/lib/python3.10/dist-packages (from matplotlib>=3.5.3->scgt>=0.0.4->ecoscape-connectivity==0.0.2) (4.42.1)\n",
            "Requirement already satisfied: kiwisolver>=1.0.1 in /usr/local/lib/python3.10/dist-packages (from matplotlib>=3.5.3->scgt>=0.0.4->ecoscape-connectivity==0.0.2) (1.4.5)\n",
            "Requirement already satisfied: packaging>=20.0 in /usr/local/lib/python3.10/dist-packages (from matplotlib>=3.5.3->scgt>=0.0.4->ecoscape-connectivity==0.0.2) (23.1)\n",
            "Requirement already satisfied: pillow>=6.2.0 in /usr/local/lib/python3.10/dist-packages (from matplotlib>=3.5.3->scgt>=0.0.4->ecoscape-connectivity==0.0.2) (9.4.0)\n",
            "Requirement already satisfied: pyparsing>=2.3.1 in /usr/local/lib/python3.10/dist-packages (from matplotlib>=3.5.3->scgt>=0.0.4->ecoscape-connectivity==0.0.2) (3.1.1)\n",
            "Requirement already satisfied: python-dateutil>=2.7 in /usr/local/lib/python3.10/dist-packages (from matplotlib>=3.5.3->scgt>=0.0.4->ecoscape-connectivity==0.0.2) (2.8.2)\n",
            "Collecting affine (from rasterio>=1.2.10->scgt>=0.0.4->ecoscape-connectivity==0.0.2)\n",
            "  Downloading affine-2.4.0-py3-none-any.whl (15 kB)\n",
            "Requirement already satisfied: attrs in /usr/local/lib/python3.10/dist-packages (from rasterio>=1.2.10->scgt>=0.0.4->ecoscape-connectivity==0.0.2) (23.1.0)\n",
            "Requirement already satisfied: certifi in /usr/local/lib/python3.10/dist-packages (from rasterio>=1.2.10->scgt>=0.0.4->ecoscape-connectivity==0.0.2) (2023.7.22)\n",
            "Requirement already satisfied: click>=4.0 in /usr/local/lib/python3.10/dist-packages (from rasterio>=1.2.10->scgt>=0.0.4->ecoscape-connectivity==0.0.2) (8.1.7)\n",
            "Requirement already satisfied: cligj>=0.5 in /usr/local/lib/python3.10/dist-packages (from rasterio>=1.2.10->scgt>=0.0.4->ecoscape-connectivity==0.0.2) (0.7.2)\n",
            "Collecting snuggs>=1.4.1 (from rasterio>=1.2.10->scgt>=0.0.4->ecoscape-connectivity==0.0.2)\n",
            "  Downloading snuggs-1.4.7-py3-none-any.whl (5.4 kB)\n",
            "Requirement already satisfied: click-plugins in /usr/local/lib/python3.10/dist-packages (from rasterio>=1.2.10->scgt>=0.0.4->ecoscape-connectivity==0.0.2) (1.1.1)\n",
            "Requirement already satisfied: setuptools in /usr/local/lib/python3.10/dist-packages (from rasterio>=1.2.10->scgt>=0.0.4->ecoscape-connectivity==0.0.2) (67.7.2)\n",
            "Requirement already satisfied: six>=1.5 in /usr/local/lib/python3.10/dist-packages (from python-dateutil>=2.7->matplotlib>=3.5.3->scgt>=0.0.4->ecoscape-connectivity==0.0.2) (1.16.0)\n",
            "Building wheels for collected packages: ecoscape-connectivity\n",
            "  Building wheel for ecoscape-connectivity (pyproject.toml) ... \u001b[?25l\u001b[?25hdone\n",
            "  Created wheel for ecoscape-connectivity: filename=ecoscape_connectivity-0.0.2-py3-none-any.whl size=11054 sha256=960865e6175b68f68ad87fd7b9f16fcf4bb02af07235558dd836d6859e655550\n",
            "  Stored in directory: /tmp/pip-ephem-wheel-cache-c0imryef/wheels/72/73/2c/f3b584a638e8a6a37479ac7d8823cb5a88a277b40f8c2732f4\n",
            "Successfully built ecoscape-connectivity\n",
            "Installing collected packages: snuggs, affine, rasterio, scgt, ecoscape-connectivity\n",
            "Successfully installed affine-2.4.0 ecoscape-connectivity-0.0.2 rasterio-1.3.8 scgt-0.0.5 snuggs-1.4.7\n",
            "Collecting git+https://github.com/ecoscape-earth/ecoscape-utils.git\n",
            "  Cloning https://github.com/ecoscape-earth/ecoscape-utils.git to /tmp/pip-req-build-7aivvfan\n",
            "  Running command git clone --filter=blob:none --quiet https://github.com/ecoscape-earth/ecoscape-utils.git /tmp/pip-req-build-7aivvfan\n",
            "  Resolved https://github.com/ecoscape-earth/ecoscape-utils.git to commit 7d578c80599dad515ec2e6730b2b2aebbcb2da04\n",
            "  Installing build dependencies ... \u001b[?25l\u001b[?25hdone\n",
            "  Getting requirements to build wheel ... \u001b[?25l\u001b[?25hdone\n",
            "  Installing backend dependencies ... \u001b[?25l\u001b[?25hdone\n",
            "  Preparing metadata (pyproject.toml) ... \u001b[?25l\u001b[?25hdone\n",
            "Building wheels for collected packages: ecoscape-utilities\n",
            "  Building wheel for ecoscape-utilities (pyproject.toml) ... \u001b[?25l\u001b[?25hdone\n",
            "  Created wheel for ecoscape-utilities: filename=ecoscape_utilities-0.0.3-py3-none-any.whl size=4149 sha256=1824181581be0aa0fc03ec77a555fc7a124ae3c71759e48340af8f50d3d7c1a6\n",
            "  Stored in directory: /tmp/pip-ephem-wheel-cache-ghc4rk91/wheels/1d/13/ba/90a24983fdd79347f60ae8a325d7db12c56af8ef9e9618e34d\n",
            "Successfully built ecoscape-utilities\n",
            "Installing collected packages: ecoscape-utilities\n",
            "Successfully installed ecoscape-utilities-0.0.3\n"
          ]
        }
      ]
    },
    {
      "cell_type": "code",
      "source": [
        "# Connecting to Drive.\n",
        "if not IS_LOCAL:\n",
        "    from google.colab import drive\n",
        "    drive.mount(\"/content/gdrive\", force_remount=True)"
      ],
      "metadata": {
        "colab": {
          "base_uri": "https://localhost:8080/"
        },
        "id": "eglkqZWmhBeV",
        "outputId": "ab55d6e9-fbf1-4181-9341-55887eedfd6c"
      },
      "execution_count": 4,
      "outputs": [
        {
          "output_type": "stream",
          "name": "stdout",
          "text": [
            "Mounted at /content/gdrive\n"
          ]
        }
      ]
    },
    {
      "cell_type": "code",
      "source": [
        "import time\n",
        "from ecoscape_utilities import BirdRun\n",
        "from ecoscape_connectivity import compute_connectivity\n",
        "from ecoscape_connectivity.util import read_transmission_csv\n",
        "from scgt import GeoTiff"
      ],
      "metadata": {
        "id": "ut_MEIF7hC__"
      },
      "execution_count": 5,
      "outputs": []
    },
    {
      "cell_type": "markdown",
      "source": [
        "## Run definitions"
      ],
      "metadata": {
        "id": "TMqlC9y1hSf1"
      }
    },
    {
      "cell_type": "code",
      "source": [
        "bird_run = BirdRun(DATA_PATH)\n",
        "\n",
        "birds = []\n",
        "\n",
        "ORIG_NUM_SIMULATIONS = 400\n",
        "NUM_SIMULATIONS = 40\n",
        "TRANSMISSION_EXPONENT = 1\n",
        "BIRD_RUN = \"Precision\"\n",
        "\n",
        "birds.append(bird_run.get_bird_run(\n",
        "    \"acowoo\", \"Acorn Woodpecker\",\n",
        "    run_name=BIRD_RUN,\n",
        "    do_validation=False, do_gradient=True,\n",
        "    hop_distance=2, num_spreads=20,\n",
        "    num_simulations=NUM_SIMULATIONS,\n",
        "    transmission_exponent=TRANSMISSION_EXPONENT))\n",
        "\n",
        "birds.append(bird_run.get_bird_run(\n",
        "    \"acowoo\", \"Acorn Woodpecker\",\n",
        "    run_name=BIRD_RUN,\n",
        "    do_validation=False, do_gradient=True,\n",
        "    hop_distance=3, num_spreads=15,\n",
        "    num_simulations=NUM_SIMULATIONS,\n",
        "    transmission_exponent=TRANSMISSION_EXPONENT))\n",
        "\n",
        "birds.append(bird_run.get_bird_run(\n",
        "    \"stejay\", \"Steller's Jay\",\n",
        "    run_name=BIRD_RUN,\n",
        "    do_validation=False, do_gradient=True,\n",
        "    hop_distance=1, num_spreads=6,\n",
        "    num_simulations=NUM_SIMULATIONS,\n",
        "    transmission_exponent=TRANSMISSION_EXPONENT))\n",
        "\n",
        "birds.append(bird_run.get_bird_run(\n",
        "    \"stejay\", \"Steller's Jay\",\n",
        "    run_name=BIRD_RUN,\n",
        "    do_validation=False, do_gradient=True,\n",
        "    hop_distance=2, num_spreads=3,\n",
        "    num_simulations=NUM_SIMULATIONS,\n",
        "    transmission_exponent=TRANSMISSION_EXPONENT))\n"
      ],
      "metadata": {
        "id": "3j3WdmrGhKkd"
      },
      "execution_count": 6,
      "outputs": []
    },
    {
      "cell_type": "code",
      "source": [
        "import numpy as np\n",
        "import math"
      ],
      "metadata": {
        "id": "_rWaqdMspk0C"
      },
      "execution_count": 7,
      "outputs": []
    },
    {
      "cell_type": "code",
      "source": [
        "# Let's do the bird runs.\n",
        "OUT_CONNECTIVITY = \"connectivity.tif\"\n",
        "OUT_FLOW = \"flow.tif\"\n",
        "NUM_RUNS = 100\n",
        "\n",
        "t = time.time()\n",
        "conn_variance = {}\n",
        "flow_variance = {}\n",
        "for bird in birds:\n",
        "\n",
        "    tag = \"{}_gap_{}_n_{}\".format(bird.name, bird.hop_distance, bird.num_spreads)\n",
        "    # Reads and translates the resistance dictionary.\n",
        "    transmission_d = read_transmission_csv(bird.transmission_fn)\n",
        "\n",
        "    # Performs a number of analysis, and measures accuracy of results.\n",
        "    conn_acc_sum = None\n",
        "    conn_acc_sqr = None\n",
        "    flow_acc_sum = None\n",
        "    flow_acc_sqr = None\n",
        "    for run_idx in range(NUM_RUNS):\n",
        "        # Performs the analysis\n",
        "        compute_connectivity(\n",
        "            habitat_fn=bird.habitat_fn,\n",
        "            terrain_fn=bird.terrain_fn,\n",
        "            connectivity_fn=OUT_CONNECTIVITY,\n",
        "            flow_fn=OUT_FLOW,\n",
        "            permeability_dict=transmission_d,\n",
        "            gap_crossing=bird.hop_distance,\n",
        "            num_gaps=bird.num_spreads,\n",
        "            num_simulations=bird.num_simulations,\n",
        "            seed_density=4,\n",
        "            single_tile=False,\n",
        "            tile_size=1024,\n",
        "            tile_border=256,\n",
        "        )\n",
        "        # Reads the results back.\n",
        "        with GeoTiff.from_file(OUT_CONNECTIVITY) as f:\n",
        "            tile = f.get_all_as_tile()\n",
        "            m = tile.m / 255 # To normalize range.\n",
        "            if conn_acc_sum is None:\n",
        "                conn_acc_sum = np.array(m)\n",
        "                conn_acc_sqr = np.array(m) ** 2\n",
        "            else:\n",
        "                conn_acc_sum += np.array(m)\n",
        "                conn_acc_sqr += np.array(m) ** 2\n",
        "        with GeoTiff.from_file(OUT_FLOW) as f:\n",
        "            tile = f.get_all_as_tile()\n",
        "            m = (10 ** (tile.m / 20)) - 1\n",
        "            if flow_acc_sum is None:\n",
        "                flow_acc_sum = np.array(m)\n",
        "                flow_acc_sqr = np.array(m) ** 2\n",
        "            else:\n",
        "                flow_acc_sum += np.array(m)\n",
        "                flow_acc_sqr += np.array(m) ** 2\n",
        "        print(\"Done run\", run_idx, \"for bird\", bird.name)\n",
        "    # Connectivity\n",
        "    conn_bird_avg = conn_acc_sum / NUM_RUNS\n",
        "    conn_bird_var = (conn_acc_sqr / NUM_RUNS) - (conn_bird_avg ** 2)\n",
        "    conn_variance[tag] = conn_bird_var\n",
        "    # Flow\n",
        "    flow_bird_avg = flow_acc_sum / NUM_RUNS\n",
        "    flow_bird_var = (flow_acc_sqr / NUM_RUNS) - (flow_bird_avg ** 2)\n",
        "    flow_variance[tag] = flow_bird_var"
      ],
      "metadata": {
        "colab": {
          "base_uri": "https://localhost:8080/"
        },
        "id": "-zL_tz9khb84",
        "outputId": "bf2880d3-fbe2-4e46-9855-fc2fc3a6b842"
      },
      "execution_count": 8,
      "outputs": [
        {
          "output_type": "stream",
          "name": "stderr",
          "text": [
            "WARNING:rasterio._env:CPLE_NotSupported in driver GTiff does not support open option BLOCKYSIZE\n",
            "WARNING:rasterio._env:CPLE_NotSupported in driver GTiff does not support open option COMPRESS\n",
            "WARNING:rasterio._env:CPLE_NotSupported in driver GTiff does not support open option INTERLEAVE\n",
            "WARNING:rasterio._env:CPLE_NotSupported in driver GTiff does not support open option BLOCKYSIZE\n",
            "WARNING:rasterio._env:CPLE_NotSupported in driver GTiff does not support open option COMPRESS\n",
            "WARNING:rasterio._env:CPLE_NotSupported in driver GTiff does not support open option INTERLEAVE\n",
            "WARNING:rasterio._env:CPLE_NotSupported in driver GTiff does not support open option BLOCKYSIZE\n",
            "WARNING:rasterio._env:CPLE_NotSupported in driver GTiff does not support open option COMPRESS\n",
            "WARNING:rasterio._env:CPLE_NotSupported in driver GTiff does not support open option INTERLEAVE\n",
            "WARNING:rasterio._env:CPLE_NotSupported in driver GTiff does not support open option BLOCKYSIZE\n",
            "WARNING:rasterio._env:CPLE_NotSupported in driver GTiff does not support open option COMPRESS\n",
            "WARNING:rasterio._env:CPLE_NotSupported in driver GTiff does not support open option INTERLEAVE\n"
          ]
        },
        {
          "output_type": "stream",
          "name": "stdout",
          "text": [
            "Done run 0 for bird Acorn Woodpecker\n"
          ]
        },
        {
          "output_type": "stream",
          "name": "stderr",
          "text": [
            "WARNING:rasterio._env:CPLE_NotSupported in driver GTiff does not support open option BLOCKYSIZE\n",
            "WARNING:rasterio._env:CPLE_NotSupported in driver GTiff does not support open option COMPRESS\n",
            "WARNING:rasterio._env:CPLE_NotSupported in driver GTiff does not support open option INTERLEAVE\n",
            "WARNING:rasterio._env:CPLE_NotSupported in driver GTiff does not support open option BLOCKYSIZE\n",
            "WARNING:rasterio._env:CPLE_NotSupported in driver GTiff does not support open option COMPRESS\n",
            "WARNING:rasterio._env:CPLE_NotSupported in driver GTiff does not support open option INTERLEAVE\n"
          ]
        },
        {
          "output_type": "stream",
          "name": "stdout",
          "text": [
            "Done run 1 for bird Acorn Woodpecker\n"
          ]
        },
        {
          "output_type": "stream",
          "name": "stderr",
          "text": [
            "WARNING:rasterio._env:CPLE_NotSupported in driver GTiff does not support open option BLOCKYSIZE\n",
            "WARNING:rasterio._env:CPLE_NotSupported in driver GTiff does not support open option COMPRESS\n",
            "WARNING:rasterio._env:CPLE_NotSupported in driver GTiff does not support open option INTERLEAVE\n",
            "WARNING:rasterio._env:CPLE_NotSupported in driver GTiff does not support open option BLOCKYSIZE\n",
            "WARNING:rasterio._env:CPLE_NotSupported in driver GTiff does not support open option COMPRESS\n",
            "WARNING:rasterio._env:CPLE_NotSupported in driver GTiff does not support open option INTERLEAVE\n"
          ]
        },
        {
          "output_type": "stream",
          "name": "stdout",
          "text": [
            "Done run 2 for bird Acorn Woodpecker\n"
          ]
        },
        {
          "output_type": "stream",
          "name": "stderr",
          "text": [
            "WARNING:rasterio._env:CPLE_NotSupported in driver GTiff does not support open option BLOCKYSIZE\n",
            "WARNING:rasterio._env:CPLE_NotSupported in driver GTiff does not support open option COMPRESS\n",
            "WARNING:rasterio._env:CPLE_NotSupported in driver GTiff does not support open option INTERLEAVE\n",
            "WARNING:rasterio._env:CPLE_NotSupported in driver GTiff does not support open option BLOCKYSIZE\n",
            "WARNING:rasterio._env:CPLE_NotSupported in driver GTiff does not support open option COMPRESS\n",
            "WARNING:rasterio._env:CPLE_NotSupported in driver GTiff does not support open option INTERLEAVE\n"
          ]
        },
        {
          "output_type": "stream",
          "name": "stdout",
          "text": [
            "Done run 3 for bird Acorn Woodpecker\n"
          ]
        },
        {
          "output_type": "stream",
          "name": "stderr",
          "text": [
            "WARNING:rasterio._env:CPLE_NotSupported in driver GTiff does not support open option BLOCKYSIZE\n",
            "WARNING:rasterio._env:CPLE_NotSupported in driver GTiff does not support open option COMPRESS\n",
            "WARNING:rasterio._env:CPLE_NotSupported in driver GTiff does not support open option INTERLEAVE\n",
            "WARNING:rasterio._env:CPLE_NotSupported in driver GTiff does not support open option BLOCKYSIZE\n",
            "WARNING:rasterio._env:CPLE_NotSupported in driver GTiff does not support open option COMPRESS\n",
            "WARNING:rasterio._env:CPLE_NotSupported in driver GTiff does not support open option INTERLEAVE\n"
          ]
        },
        {
          "output_type": "stream",
          "name": "stdout",
          "text": [
            "Done run 4 for bird Acorn Woodpecker\n"
          ]
        },
        {
          "output_type": "stream",
          "name": "stderr",
          "text": [
            "WARNING:rasterio._env:CPLE_NotSupported in driver GTiff does not support open option BLOCKYSIZE\n",
            "WARNING:rasterio._env:CPLE_NotSupported in driver GTiff does not support open option COMPRESS\n",
            "WARNING:rasterio._env:CPLE_NotSupported in driver GTiff does not support open option INTERLEAVE\n",
            "WARNING:rasterio._env:CPLE_NotSupported in driver GTiff does not support open option BLOCKYSIZE\n",
            "WARNING:rasterio._env:CPLE_NotSupported in driver GTiff does not support open option COMPRESS\n",
            "WARNING:rasterio._env:CPLE_NotSupported in driver GTiff does not support open option INTERLEAVE\n"
          ]
        },
        {
          "output_type": "stream",
          "name": "stdout",
          "text": [
            "Done run 5 for bird Acorn Woodpecker\n"
          ]
        },
        {
          "output_type": "stream",
          "name": "stderr",
          "text": [
            "WARNING:rasterio._env:CPLE_NotSupported in driver GTiff does not support open option BLOCKYSIZE\n",
            "WARNING:rasterio._env:CPLE_NotSupported in driver GTiff does not support open option COMPRESS\n",
            "WARNING:rasterio._env:CPLE_NotSupported in driver GTiff does not support open option INTERLEAVE\n",
            "WARNING:rasterio._env:CPLE_NotSupported in driver GTiff does not support open option BLOCKYSIZE\n",
            "WARNING:rasterio._env:CPLE_NotSupported in driver GTiff does not support open option COMPRESS\n",
            "WARNING:rasterio._env:CPLE_NotSupported in driver GTiff does not support open option INTERLEAVE\n"
          ]
        },
        {
          "output_type": "stream",
          "name": "stdout",
          "text": [
            "Done run 6 for bird Acorn Woodpecker\n"
          ]
        },
        {
          "output_type": "stream",
          "name": "stderr",
          "text": [
            "WARNING:rasterio._env:CPLE_NotSupported in driver GTiff does not support open option BLOCKYSIZE\n",
            "WARNING:rasterio._env:CPLE_NotSupported in driver GTiff does not support open option COMPRESS\n",
            "WARNING:rasterio._env:CPLE_NotSupported in driver GTiff does not support open option INTERLEAVE\n",
            "WARNING:rasterio._env:CPLE_NotSupported in driver GTiff does not support open option BLOCKYSIZE\n",
            "WARNING:rasterio._env:CPLE_NotSupported in driver GTiff does not support open option COMPRESS\n",
            "WARNING:rasterio._env:CPLE_NotSupported in driver GTiff does not support open option INTERLEAVE\n"
          ]
        },
        {
          "output_type": "stream",
          "name": "stdout",
          "text": [
            "Done run 7 for bird Acorn Woodpecker\n"
          ]
        },
        {
          "output_type": "stream",
          "name": "stderr",
          "text": [
            "WARNING:rasterio._env:CPLE_NotSupported in driver GTiff does not support open option BLOCKYSIZE\n",
            "WARNING:rasterio._env:CPLE_NotSupported in driver GTiff does not support open option COMPRESS\n",
            "WARNING:rasterio._env:CPLE_NotSupported in driver GTiff does not support open option INTERLEAVE\n",
            "WARNING:rasterio._env:CPLE_NotSupported in driver GTiff does not support open option BLOCKYSIZE\n",
            "WARNING:rasterio._env:CPLE_NotSupported in driver GTiff does not support open option COMPRESS\n",
            "WARNING:rasterio._env:CPLE_NotSupported in driver GTiff does not support open option INTERLEAVE\n"
          ]
        },
        {
          "output_type": "stream",
          "name": "stdout",
          "text": [
            "Done run 8 for bird Acorn Woodpecker\n"
          ]
        },
        {
          "output_type": "stream",
          "name": "stderr",
          "text": [
            "WARNING:rasterio._env:CPLE_NotSupported in driver GTiff does not support open option BLOCKYSIZE\n",
            "WARNING:rasterio._env:CPLE_NotSupported in driver GTiff does not support open option COMPRESS\n",
            "WARNING:rasterio._env:CPLE_NotSupported in driver GTiff does not support open option INTERLEAVE\n",
            "WARNING:rasterio._env:CPLE_NotSupported in driver GTiff does not support open option BLOCKYSIZE\n",
            "WARNING:rasterio._env:CPLE_NotSupported in driver GTiff does not support open option COMPRESS\n",
            "WARNING:rasterio._env:CPLE_NotSupported in driver GTiff does not support open option INTERLEAVE\n"
          ]
        },
        {
          "output_type": "stream",
          "name": "stdout",
          "text": [
            "Done run 9 for bird Acorn Woodpecker\n"
          ]
        },
        {
          "output_type": "stream",
          "name": "stderr",
          "text": [
            "WARNING:rasterio._env:CPLE_NotSupported in driver GTiff does not support open option BLOCKYSIZE\n",
            "WARNING:rasterio._env:CPLE_NotSupported in driver GTiff does not support open option COMPRESS\n",
            "WARNING:rasterio._env:CPLE_NotSupported in driver GTiff does not support open option INTERLEAVE\n",
            "WARNING:rasterio._env:CPLE_NotSupported in driver GTiff does not support open option BLOCKYSIZE\n",
            "WARNING:rasterio._env:CPLE_NotSupported in driver GTiff does not support open option COMPRESS\n",
            "WARNING:rasterio._env:CPLE_NotSupported in driver GTiff does not support open option INTERLEAVE\n"
          ]
        },
        {
          "output_type": "stream",
          "name": "stdout",
          "text": [
            "Done run 10 for bird Acorn Woodpecker\n"
          ]
        },
        {
          "output_type": "stream",
          "name": "stderr",
          "text": [
            "WARNING:rasterio._env:CPLE_NotSupported in driver GTiff does not support open option BLOCKYSIZE\n",
            "WARNING:rasterio._env:CPLE_NotSupported in driver GTiff does not support open option COMPRESS\n",
            "WARNING:rasterio._env:CPLE_NotSupported in driver GTiff does not support open option INTERLEAVE\n",
            "WARNING:rasterio._env:CPLE_NotSupported in driver GTiff does not support open option BLOCKYSIZE\n",
            "WARNING:rasterio._env:CPLE_NotSupported in driver GTiff does not support open option COMPRESS\n",
            "WARNING:rasterio._env:CPLE_NotSupported in driver GTiff does not support open option INTERLEAVE\n"
          ]
        },
        {
          "output_type": "stream",
          "name": "stdout",
          "text": [
            "Done run 11 for bird Acorn Woodpecker\n"
          ]
        },
        {
          "output_type": "stream",
          "name": "stderr",
          "text": [
            "WARNING:rasterio._env:CPLE_NotSupported in driver GTiff does not support open option BLOCKYSIZE\n",
            "WARNING:rasterio._env:CPLE_NotSupported in driver GTiff does not support open option COMPRESS\n",
            "WARNING:rasterio._env:CPLE_NotSupported in driver GTiff does not support open option INTERLEAVE\n",
            "WARNING:rasterio._env:CPLE_NotSupported in driver GTiff does not support open option BLOCKYSIZE\n",
            "WARNING:rasterio._env:CPLE_NotSupported in driver GTiff does not support open option COMPRESS\n",
            "WARNING:rasterio._env:CPLE_NotSupported in driver GTiff does not support open option INTERLEAVE\n"
          ]
        },
        {
          "output_type": "stream",
          "name": "stdout",
          "text": [
            "Done run 12 for bird Acorn Woodpecker\n"
          ]
        },
        {
          "output_type": "stream",
          "name": "stderr",
          "text": [
            "WARNING:rasterio._env:CPLE_NotSupported in driver GTiff does not support open option BLOCKYSIZE\n",
            "WARNING:rasterio._env:CPLE_NotSupported in driver GTiff does not support open option COMPRESS\n",
            "WARNING:rasterio._env:CPLE_NotSupported in driver GTiff does not support open option INTERLEAVE\n",
            "WARNING:rasterio._env:CPLE_NotSupported in driver GTiff does not support open option BLOCKYSIZE\n",
            "WARNING:rasterio._env:CPLE_NotSupported in driver GTiff does not support open option COMPRESS\n",
            "WARNING:rasterio._env:CPLE_NotSupported in driver GTiff does not support open option INTERLEAVE\n"
          ]
        },
        {
          "output_type": "stream",
          "name": "stdout",
          "text": [
            "Done run 13 for bird Acorn Woodpecker\n"
          ]
        },
        {
          "output_type": "stream",
          "name": "stderr",
          "text": [
            "WARNING:rasterio._env:CPLE_NotSupported in driver GTiff does not support open option BLOCKYSIZE\n",
            "WARNING:rasterio._env:CPLE_NotSupported in driver GTiff does not support open option COMPRESS\n",
            "WARNING:rasterio._env:CPLE_NotSupported in driver GTiff does not support open option INTERLEAVE\n",
            "WARNING:rasterio._env:CPLE_NotSupported in driver GTiff does not support open option BLOCKYSIZE\n",
            "WARNING:rasterio._env:CPLE_NotSupported in driver GTiff does not support open option COMPRESS\n",
            "WARNING:rasterio._env:CPLE_NotSupported in driver GTiff does not support open option INTERLEAVE\n"
          ]
        },
        {
          "output_type": "stream",
          "name": "stdout",
          "text": [
            "Done run 14 for bird Acorn Woodpecker\n"
          ]
        },
        {
          "output_type": "stream",
          "name": "stderr",
          "text": [
            "WARNING:rasterio._env:CPLE_NotSupported in driver GTiff does not support open option BLOCKYSIZE\n",
            "WARNING:rasterio._env:CPLE_NotSupported in driver GTiff does not support open option COMPRESS\n",
            "WARNING:rasterio._env:CPLE_NotSupported in driver GTiff does not support open option INTERLEAVE\n",
            "WARNING:rasterio._env:CPLE_NotSupported in driver GTiff does not support open option BLOCKYSIZE\n",
            "WARNING:rasterio._env:CPLE_NotSupported in driver GTiff does not support open option COMPRESS\n",
            "WARNING:rasterio._env:CPLE_NotSupported in driver GTiff does not support open option INTERLEAVE\n"
          ]
        },
        {
          "output_type": "stream",
          "name": "stdout",
          "text": [
            "Done run 15 for bird Acorn Woodpecker\n"
          ]
        },
        {
          "output_type": "stream",
          "name": "stderr",
          "text": [
            "WARNING:rasterio._env:CPLE_NotSupported in driver GTiff does not support open option BLOCKYSIZE\n",
            "WARNING:rasterio._env:CPLE_NotSupported in driver GTiff does not support open option COMPRESS\n",
            "WARNING:rasterio._env:CPLE_NotSupported in driver GTiff does not support open option INTERLEAVE\n",
            "WARNING:rasterio._env:CPLE_NotSupported in driver GTiff does not support open option BLOCKYSIZE\n",
            "WARNING:rasterio._env:CPLE_NotSupported in driver GTiff does not support open option COMPRESS\n",
            "WARNING:rasterio._env:CPLE_NotSupported in driver GTiff does not support open option INTERLEAVE\n"
          ]
        },
        {
          "output_type": "stream",
          "name": "stdout",
          "text": [
            "Done run 16 for bird Acorn Woodpecker\n"
          ]
        },
        {
          "output_type": "stream",
          "name": "stderr",
          "text": [
            "WARNING:rasterio._env:CPLE_NotSupported in driver GTiff does not support open option BLOCKYSIZE\n",
            "WARNING:rasterio._env:CPLE_NotSupported in driver GTiff does not support open option COMPRESS\n",
            "WARNING:rasterio._env:CPLE_NotSupported in driver GTiff does not support open option INTERLEAVE\n",
            "WARNING:rasterio._env:CPLE_NotSupported in driver GTiff does not support open option BLOCKYSIZE\n",
            "WARNING:rasterio._env:CPLE_NotSupported in driver GTiff does not support open option COMPRESS\n",
            "WARNING:rasterio._env:CPLE_NotSupported in driver GTiff does not support open option INTERLEAVE\n"
          ]
        },
        {
          "output_type": "stream",
          "name": "stdout",
          "text": [
            "Done run 17 for bird Acorn Woodpecker\n"
          ]
        },
        {
          "output_type": "stream",
          "name": "stderr",
          "text": [
            "WARNING:rasterio._env:CPLE_NotSupported in driver GTiff does not support open option BLOCKYSIZE\n",
            "WARNING:rasterio._env:CPLE_NotSupported in driver GTiff does not support open option COMPRESS\n",
            "WARNING:rasterio._env:CPLE_NotSupported in driver GTiff does not support open option INTERLEAVE\n",
            "WARNING:rasterio._env:CPLE_NotSupported in driver GTiff does not support open option BLOCKYSIZE\n",
            "WARNING:rasterio._env:CPLE_NotSupported in driver GTiff does not support open option COMPRESS\n",
            "WARNING:rasterio._env:CPLE_NotSupported in driver GTiff does not support open option INTERLEAVE\n"
          ]
        },
        {
          "output_type": "stream",
          "name": "stdout",
          "text": [
            "Done run 18 for bird Acorn Woodpecker\n"
          ]
        },
        {
          "output_type": "stream",
          "name": "stderr",
          "text": [
            "WARNING:rasterio._env:CPLE_NotSupported in driver GTiff does not support open option BLOCKYSIZE\n",
            "WARNING:rasterio._env:CPLE_NotSupported in driver GTiff does not support open option COMPRESS\n",
            "WARNING:rasterio._env:CPLE_NotSupported in driver GTiff does not support open option INTERLEAVE\n",
            "WARNING:rasterio._env:CPLE_NotSupported in driver GTiff does not support open option BLOCKYSIZE\n",
            "WARNING:rasterio._env:CPLE_NotSupported in driver GTiff does not support open option COMPRESS\n",
            "WARNING:rasterio._env:CPLE_NotSupported in driver GTiff does not support open option INTERLEAVE\n"
          ]
        },
        {
          "output_type": "stream",
          "name": "stdout",
          "text": [
            "Done run 19 for bird Acorn Woodpecker\n"
          ]
        },
        {
          "output_type": "stream",
          "name": "stderr",
          "text": [
            "WARNING:rasterio._env:CPLE_NotSupported in driver GTiff does not support open option BLOCKYSIZE\n",
            "WARNING:rasterio._env:CPLE_NotSupported in driver GTiff does not support open option COMPRESS\n",
            "WARNING:rasterio._env:CPLE_NotSupported in driver GTiff does not support open option INTERLEAVE\n",
            "WARNING:rasterio._env:CPLE_NotSupported in driver GTiff does not support open option BLOCKYSIZE\n",
            "WARNING:rasterio._env:CPLE_NotSupported in driver GTiff does not support open option COMPRESS\n",
            "WARNING:rasterio._env:CPLE_NotSupported in driver GTiff does not support open option INTERLEAVE\n"
          ]
        },
        {
          "output_type": "stream",
          "name": "stdout",
          "text": [
            "Done run 20 for bird Acorn Woodpecker\n"
          ]
        },
        {
          "output_type": "stream",
          "name": "stderr",
          "text": [
            "WARNING:rasterio._env:CPLE_NotSupported in driver GTiff does not support open option BLOCKYSIZE\n",
            "WARNING:rasterio._env:CPLE_NotSupported in driver GTiff does not support open option COMPRESS\n",
            "WARNING:rasterio._env:CPLE_NotSupported in driver GTiff does not support open option INTERLEAVE\n",
            "WARNING:rasterio._env:CPLE_NotSupported in driver GTiff does not support open option BLOCKYSIZE\n",
            "WARNING:rasterio._env:CPLE_NotSupported in driver GTiff does not support open option COMPRESS\n",
            "WARNING:rasterio._env:CPLE_NotSupported in driver GTiff does not support open option INTERLEAVE\n"
          ]
        },
        {
          "output_type": "stream",
          "name": "stdout",
          "text": [
            "Done run 21 for bird Acorn Woodpecker\n"
          ]
        },
        {
          "output_type": "stream",
          "name": "stderr",
          "text": [
            "WARNING:rasterio._env:CPLE_NotSupported in driver GTiff does not support open option BLOCKYSIZE\n",
            "WARNING:rasterio._env:CPLE_NotSupported in driver GTiff does not support open option COMPRESS\n",
            "WARNING:rasterio._env:CPLE_NotSupported in driver GTiff does not support open option INTERLEAVE\n",
            "WARNING:rasterio._env:CPLE_NotSupported in driver GTiff does not support open option BLOCKYSIZE\n",
            "WARNING:rasterio._env:CPLE_NotSupported in driver GTiff does not support open option COMPRESS\n",
            "WARNING:rasterio._env:CPLE_NotSupported in driver GTiff does not support open option INTERLEAVE\n"
          ]
        },
        {
          "output_type": "stream",
          "name": "stdout",
          "text": [
            "Done run 22 for bird Acorn Woodpecker\n"
          ]
        },
        {
          "output_type": "stream",
          "name": "stderr",
          "text": [
            "WARNING:rasterio._env:CPLE_NotSupported in driver GTiff does not support open option BLOCKYSIZE\n",
            "WARNING:rasterio._env:CPLE_NotSupported in driver GTiff does not support open option COMPRESS\n",
            "WARNING:rasterio._env:CPLE_NotSupported in driver GTiff does not support open option INTERLEAVE\n",
            "WARNING:rasterio._env:CPLE_NotSupported in driver GTiff does not support open option BLOCKYSIZE\n",
            "WARNING:rasterio._env:CPLE_NotSupported in driver GTiff does not support open option COMPRESS\n",
            "WARNING:rasterio._env:CPLE_NotSupported in driver GTiff does not support open option INTERLEAVE\n"
          ]
        },
        {
          "output_type": "stream",
          "name": "stdout",
          "text": [
            "Done run 23 for bird Acorn Woodpecker\n"
          ]
        },
        {
          "output_type": "stream",
          "name": "stderr",
          "text": [
            "WARNING:rasterio._env:CPLE_NotSupported in driver GTiff does not support open option BLOCKYSIZE\n",
            "WARNING:rasterio._env:CPLE_NotSupported in driver GTiff does not support open option COMPRESS\n",
            "WARNING:rasterio._env:CPLE_NotSupported in driver GTiff does not support open option INTERLEAVE\n",
            "WARNING:rasterio._env:CPLE_NotSupported in driver GTiff does not support open option BLOCKYSIZE\n",
            "WARNING:rasterio._env:CPLE_NotSupported in driver GTiff does not support open option COMPRESS\n",
            "WARNING:rasterio._env:CPLE_NotSupported in driver GTiff does not support open option INTERLEAVE\n"
          ]
        },
        {
          "output_type": "stream",
          "name": "stdout",
          "text": [
            "Done run 24 for bird Acorn Woodpecker\n"
          ]
        },
        {
          "output_type": "stream",
          "name": "stderr",
          "text": [
            "WARNING:rasterio._env:CPLE_NotSupported in driver GTiff does not support open option BLOCKYSIZE\n",
            "WARNING:rasterio._env:CPLE_NotSupported in driver GTiff does not support open option COMPRESS\n",
            "WARNING:rasterio._env:CPLE_NotSupported in driver GTiff does not support open option INTERLEAVE\n",
            "WARNING:rasterio._env:CPLE_NotSupported in driver GTiff does not support open option BLOCKYSIZE\n",
            "WARNING:rasterio._env:CPLE_NotSupported in driver GTiff does not support open option COMPRESS\n",
            "WARNING:rasterio._env:CPLE_NotSupported in driver GTiff does not support open option INTERLEAVE\n"
          ]
        },
        {
          "output_type": "stream",
          "name": "stdout",
          "text": [
            "Done run 25 for bird Acorn Woodpecker\n"
          ]
        },
        {
          "output_type": "stream",
          "name": "stderr",
          "text": [
            "WARNING:rasterio._env:CPLE_NotSupported in driver GTiff does not support open option BLOCKYSIZE\n",
            "WARNING:rasterio._env:CPLE_NotSupported in driver GTiff does not support open option COMPRESS\n",
            "WARNING:rasterio._env:CPLE_NotSupported in driver GTiff does not support open option INTERLEAVE\n",
            "WARNING:rasterio._env:CPLE_NotSupported in driver GTiff does not support open option BLOCKYSIZE\n",
            "WARNING:rasterio._env:CPLE_NotSupported in driver GTiff does not support open option COMPRESS\n",
            "WARNING:rasterio._env:CPLE_NotSupported in driver GTiff does not support open option INTERLEAVE\n"
          ]
        },
        {
          "output_type": "stream",
          "name": "stdout",
          "text": [
            "Done run 26 for bird Acorn Woodpecker\n"
          ]
        },
        {
          "output_type": "stream",
          "name": "stderr",
          "text": [
            "WARNING:rasterio._env:CPLE_NotSupported in driver GTiff does not support open option BLOCKYSIZE\n",
            "WARNING:rasterio._env:CPLE_NotSupported in driver GTiff does not support open option COMPRESS\n",
            "WARNING:rasterio._env:CPLE_NotSupported in driver GTiff does not support open option INTERLEAVE\n",
            "WARNING:rasterio._env:CPLE_NotSupported in driver GTiff does not support open option BLOCKYSIZE\n",
            "WARNING:rasterio._env:CPLE_NotSupported in driver GTiff does not support open option COMPRESS\n",
            "WARNING:rasterio._env:CPLE_NotSupported in driver GTiff does not support open option INTERLEAVE\n"
          ]
        },
        {
          "output_type": "stream",
          "name": "stdout",
          "text": [
            "Done run 27 for bird Acorn Woodpecker\n"
          ]
        },
        {
          "output_type": "stream",
          "name": "stderr",
          "text": [
            "WARNING:rasterio._env:CPLE_NotSupported in driver GTiff does not support open option BLOCKYSIZE\n",
            "WARNING:rasterio._env:CPLE_NotSupported in driver GTiff does not support open option COMPRESS\n",
            "WARNING:rasterio._env:CPLE_NotSupported in driver GTiff does not support open option INTERLEAVE\n",
            "WARNING:rasterio._env:CPLE_NotSupported in driver GTiff does not support open option BLOCKYSIZE\n",
            "WARNING:rasterio._env:CPLE_NotSupported in driver GTiff does not support open option COMPRESS\n",
            "WARNING:rasterio._env:CPLE_NotSupported in driver GTiff does not support open option INTERLEAVE\n"
          ]
        },
        {
          "output_type": "stream",
          "name": "stdout",
          "text": [
            "Done run 28 for bird Acorn Woodpecker\n"
          ]
        },
        {
          "output_type": "stream",
          "name": "stderr",
          "text": [
            "WARNING:rasterio._env:CPLE_NotSupported in driver GTiff does not support open option BLOCKYSIZE\n",
            "WARNING:rasterio._env:CPLE_NotSupported in driver GTiff does not support open option COMPRESS\n",
            "WARNING:rasterio._env:CPLE_NotSupported in driver GTiff does not support open option INTERLEAVE\n",
            "WARNING:rasterio._env:CPLE_NotSupported in driver GTiff does not support open option BLOCKYSIZE\n",
            "WARNING:rasterio._env:CPLE_NotSupported in driver GTiff does not support open option COMPRESS\n",
            "WARNING:rasterio._env:CPLE_NotSupported in driver GTiff does not support open option INTERLEAVE\n"
          ]
        },
        {
          "output_type": "stream",
          "name": "stdout",
          "text": [
            "Done run 29 for bird Acorn Woodpecker\n"
          ]
        },
        {
          "output_type": "stream",
          "name": "stderr",
          "text": [
            "WARNING:rasterio._env:CPLE_NotSupported in driver GTiff does not support open option BLOCKYSIZE\n",
            "WARNING:rasterio._env:CPLE_NotSupported in driver GTiff does not support open option COMPRESS\n",
            "WARNING:rasterio._env:CPLE_NotSupported in driver GTiff does not support open option INTERLEAVE\n",
            "WARNING:rasterio._env:CPLE_NotSupported in driver GTiff does not support open option BLOCKYSIZE\n",
            "WARNING:rasterio._env:CPLE_NotSupported in driver GTiff does not support open option COMPRESS\n",
            "WARNING:rasterio._env:CPLE_NotSupported in driver GTiff does not support open option INTERLEAVE\n"
          ]
        },
        {
          "output_type": "stream",
          "name": "stdout",
          "text": [
            "Done run 30 for bird Acorn Woodpecker\n"
          ]
        },
        {
          "output_type": "stream",
          "name": "stderr",
          "text": [
            "WARNING:rasterio._env:CPLE_NotSupported in driver GTiff does not support open option BLOCKYSIZE\n",
            "WARNING:rasterio._env:CPLE_NotSupported in driver GTiff does not support open option COMPRESS\n",
            "WARNING:rasterio._env:CPLE_NotSupported in driver GTiff does not support open option INTERLEAVE\n",
            "WARNING:rasterio._env:CPLE_NotSupported in driver GTiff does not support open option BLOCKYSIZE\n",
            "WARNING:rasterio._env:CPLE_NotSupported in driver GTiff does not support open option COMPRESS\n",
            "WARNING:rasterio._env:CPLE_NotSupported in driver GTiff does not support open option INTERLEAVE\n"
          ]
        },
        {
          "output_type": "stream",
          "name": "stdout",
          "text": [
            "Done run 31 for bird Acorn Woodpecker\n"
          ]
        },
        {
          "output_type": "stream",
          "name": "stderr",
          "text": [
            "WARNING:rasterio._env:CPLE_NotSupported in driver GTiff does not support open option BLOCKYSIZE\n",
            "WARNING:rasterio._env:CPLE_NotSupported in driver GTiff does not support open option COMPRESS\n",
            "WARNING:rasterio._env:CPLE_NotSupported in driver GTiff does not support open option INTERLEAVE\n",
            "WARNING:rasterio._env:CPLE_NotSupported in driver GTiff does not support open option BLOCKYSIZE\n",
            "WARNING:rasterio._env:CPLE_NotSupported in driver GTiff does not support open option COMPRESS\n",
            "WARNING:rasterio._env:CPLE_NotSupported in driver GTiff does not support open option INTERLEAVE\n"
          ]
        },
        {
          "output_type": "stream",
          "name": "stdout",
          "text": [
            "Done run 32 for bird Acorn Woodpecker\n"
          ]
        },
        {
          "output_type": "stream",
          "name": "stderr",
          "text": [
            "WARNING:rasterio._env:CPLE_NotSupported in driver GTiff does not support open option BLOCKYSIZE\n",
            "WARNING:rasterio._env:CPLE_NotSupported in driver GTiff does not support open option COMPRESS\n",
            "WARNING:rasterio._env:CPLE_NotSupported in driver GTiff does not support open option INTERLEAVE\n",
            "WARNING:rasterio._env:CPLE_NotSupported in driver GTiff does not support open option BLOCKYSIZE\n",
            "WARNING:rasterio._env:CPLE_NotSupported in driver GTiff does not support open option COMPRESS\n",
            "WARNING:rasterio._env:CPLE_NotSupported in driver GTiff does not support open option INTERLEAVE\n"
          ]
        },
        {
          "output_type": "stream",
          "name": "stdout",
          "text": [
            "Done run 33 for bird Acorn Woodpecker\n"
          ]
        },
        {
          "output_type": "stream",
          "name": "stderr",
          "text": [
            "WARNING:rasterio._env:CPLE_NotSupported in driver GTiff does not support open option BLOCKYSIZE\n",
            "WARNING:rasterio._env:CPLE_NotSupported in driver GTiff does not support open option COMPRESS\n",
            "WARNING:rasterio._env:CPLE_NotSupported in driver GTiff does not support open option INTERLEAVE\n",
            "WARNING:rasterio._env:CPLE_NotSupported in driver GTiff does not support open option BLOCKYSIZE\n",
            "WARNING:rasterio._env:CPLE_NotSupported in driver GTiff does not support open option COMPRESS\n",
            "WARNING:rasterio._env:CPLE_NotSupported in driver GTiff does not support open option INTERLEAVE\n"
          ]
        },
        {
          "output_type": "stream",
          "name": "stdout",
          "text": [
            "Done run 34 for bird Acorn Woodpecker\n"
          ]
        },
        {
          "output_type": "stream",
          "name": "stderr",
          "text": [
            "WARNING:rasterio._env:CPLE_NotSupported in driver GTiff does not support open option BLOCKYSIZE\n",
            "WARNING:rasterio._env:CPLE_NotSupported in driver GTiff does not support open option COMPRESS\n",
            "WARNING:rasterio._env:CPLE_NotSupported in driver GTiff does not support open option INTERLEAVE\n",
            "WARNING:rasterio._env:CPLE_NotSupported in driver GTiff does not support open option BLOCKYSIZE\n",
            "WARNING:rasterio._env:CPLE_NotSupported in driver GTiff does not support open option COMPRESS\n",
            "WARNING:rasterio._env:CPLE_NotSupported in driver GTiff does not support open option INTERLEAVE\n"
          ]
        },
        {
          "output_type": "stream",
          "name": "stdout",
          "text": [
            "Done run 35 for bird Acorn Woodpecker\n"
          ]
        },
        {
          "output_type": "stream",
          "name": "stderr",
          "text": [
            "WARNING:rasterio._env:CPLE_NotSupported in driver GTiff does not support open option BLOCKYSIZE\n",
            "WARNING:rasterio._env:CPLE_NotSupported in driver GTiff does not support open option COMPRESS\n",
            "WARNING:rasterio._env:CPLE_NotSupported in driver GTiff does not support open option INTERLEAVE\n",
            "WARNING:rasterio._env:CPLE_NotSupported in driver GTiff does not support open option BLOCKYSIZE\n",
            "WARNING:rasterio._env:CPLE_NotSupported in driver GTiff does not support open option COMPRESS\n",
            "WARNING:rasterio._env:CPLE_NotSupported in driver GTiff does not support open option INTERLEAVE\n"
          ]
        },
        {
          "output_type": "stream",
          "name": "stdout",
          "text": [
            "Done run 36 for bird Acorn Woodpecker\n"
          ]
        },
        {
          "output_type": "stream",
          "name": "stderr",
          "text": [
            "WARNING:rasterio._env:CPLE_NotSupported in driver GTiff does not support open option BLOCKYSIZE\n",
            "WARNING:rasterio._env:CPLE_NotSupported in driver GTiff does not support open option COMPRESS\n",
            "WARNING:rasterio._env:CPLE_NotSupported in driver GTiff does not support open option INTERLEAVE\n",
            "WARNING:rasterio._env:CPLE_NotSupported in driver GTiff does not support open option BLOCKYSIZE\n",
            "WARNING:rasterio._env:CPLE_NotSupported in driver GTiff does not support open option COMPRESS\n",
            "WARNING:rasterio._env:CPLE_NotSupported in driver GTiff does not support open option INTERLEAVE\n"
          ]
        },
        {
          "output_type": "stream",
          "name": "stdout",
          "text": [
            "Done run 37 for bird Acorn Woodpecker\n"
          ]
        },
        {
          "output_type": "stream",
          "name": "stderr",
          "text": [
            "WARNING:rasterio._env:CPLE_NotSupported in driver GTiff does not support open option BLOCKYSIZE\n",
            "WARNING:rasterio._env:CPLE_NotSupported in driver GTiff does not support open option COMPRESS\n",
            "WARNING:rasterio._env:CPLE_NotSupported in driver GTiff does not support open option INTERLEAVE\n",
            "WARNING:rasterio._env:CPLE_NotSupported in driver GTiff does not support open option BLOCKYSIZE\n",
            "WARNING:rasterio._env:CPLE_NotSupported in driver GTiff does not support open option COMPRESS\n",
            "WARNING:rasterio._env:CPLE_NotSupported in driver GTiff does not support open option INTERLEAVE\n"
          ]
        },
        {
          "output_type": "stream",
          "name": "stdout",
          "text": [
            "Done run 38 for bird Acorn Woodpecker\n"
          ]
        },
        {
          "output_type": "stream",
          "name": "stderr",
          "text": [
            "WARNING:rasterio._env:CPLE_NotSupported in driver GTiff does not support open option BLOCKYSIZE\n",
            "WARNING:rasterio._env:CPLE_NotSupported in driver GTiff does not support open option COMPRESS\n",
            "WARNING:rasterio._env:CPLE_NotSupported in driver GTiff does not support open option INTERLEAVE\n",
            "WARNING:rasterio._env:CPLE_NotSupported in driver GTiff does not support open option BLOCKYSIZE\n",
            "WARNING:rasterio._env:CPLE_NotSupported in driver GTiff does not support open option COMPRESS\n",
            "WARNING:rasterio._env:CPLE_NotSupported in driver GTiff does not support open option INTERLEAVE\n"
          ]
        },
        {
          "output_type": "stream",
          "name": "stdout",
          "text": [
            "Done run 39 for bird Acorn Woodpecker\n"
          ]
        },
        {
          "output_type": "stream",
          "name": "stderr",
          "text": [
            "WARNING:rasterio._env:CPLE_NotSupported in driver GTiff does not support open option BLOCKYSIZE\n",
            "WARNING:rasterio._env:CPLE_NotSupported in driver GTiff does not support open option COMPRESS\n",
            "WARNING:rasterio._env:CPLE_NotSupported in driver GTiff does not support open option INTERLEAVE\n",
            "WARNING:rasterio._env:CPLE_NotSupported in driver GTiff does not support open option BLOCKYSIZE\n",
            "WARNING:rasterio._env:CPLE_NotSupported in driver GTiff does not support open option COMPRESS\n",
            "WARNING:rasterio._env:CPLE_NotSupported in driver GTiff does not support open option INTERLEAVE\n"
          ]
        },
        {
          "output_type": "stream",
          "name": "stdout",
          "text": [
            "Done run 40 for bird Acorn Woodpecker\n"
          ]
        },
        {
          "output_type": "stream",
          "name": "stderr",
          "text": [
            "WARNING:rasterio._env:CPLE_NotSupported in driver GTiff does not support open option BLOCKYSIZE\n",
            "WARNING:rasterio._env:CPLE_NotSupported in driver GTiff does not support open option COMPRESS\n",
            "WARNING:rasterio._env:CPLE_NotSupported in driver GTiff does not support open option INTERLEAVE\n",
            "WARNING:rasterio._env:CPLE_NotSupported in driver GTiff does not support open option BLOCKYSIZE\n",
            "WARNING:rasterio._env:CPLE_NotSupported in driver GTiff does not support open option COMPRESS\n",
            "WARNING:rasterio._env:CPLE_NotSupported in driver GTiff does not support open option INTERLEAVE\n"
          ]
        },
        {
          "output_type": "stream",
          "name": "stdout",
          "text": [
            "Done run 41 for bird Acorn Woodpecker\n"
          ]
        },
        {
          "output_type": "stream",
          "name": "stderr",
          "text": [
            "WARNING:rasterio._env:CPLE_NotSupported in driver GTiff does not support open option BLOCKYSIZE\n",
            "WARNING:rasterio._env:CPLE_NotSupported in driver GTiff does not support open option COMPRESS\n",
            "WARNING:rasterio._env:CPLE_NotSupported in driver GTiff does not support open option INTERLEAVE\n",
            "WARNING:rasterio._env:CPLE_NotSupported in driver GTiff does not support open option BLOCKYSIZE\n",
            "WARNING:rasterio._env:CPLE_NotSupported in driver GTiff does not support open option COMPRESS\n",
            "WARNING:rasterio._env:CPLE_NotSupported in driver GTiff does not support open option INTERLEAVE\n"
          ]
        },
        {
          "output_type": "stream",
          "name": "stdout",
          "text": [
            "Done run 42 for bird Acorn Woodpecker\n"
          ]
        },
        {
          "output_type": "stream",
          "name": "stderr",
          "text": [
            "WARNING:rasterio._env:CPLE_NotSupported in driver GTiff does not support open option BLOCKYSIZE\n",
            "WARNING:rasterio._env:CPLE_NotSupported in driver GTiff does not support open option COMPRESS\n",
            "WARNING:rasterio._env:CPLE_NotSupported in driver GTiff does not support open option INTERLEAVE\n",
            "WARNING:rasterio._env:CPLE_NotSupported in driver GTiff does not support open option BLOCKYSIZE\n",
            "WARNING:rasterio._env:CPLE_NotSupported in driver GTiff does not support open option COMPRESS\n",
            "WARNING:rasterio._env:CPLE_NotSupported in driver GTiff does not support open option INTERLEAVE\n"
          ]
        },
        {
          "output_type": "stream",
          "name": "stdout",
          "text": [
            "Done run 43 for bird Acorn Woodpecker\n"
          ]
        },
        {
          "output_type": "stream",
          "name": "stderr",
          "text": [
            "WARNING:rasterio._env:CPLE_NotSupported in driver GTiff does not support open option BLOCKYSIZE\n",
            "WARNING:rasterio._env:CPLE_NotSupported in driver GTiff does not support open option COMPRESS\n",
            "WARNING:rasterio._env:CPLE_NotSupported in driver GTiff does not support open option INTERLEAVE\n",
            "WARNING:rasterio._env:CPLE_NotSupported in driver GTiff does not support open option BLOCKYSIZE\n",
            "WARNING:rasterio._env:CPLE_NotSupported in driver GTiff does not support open option COMPRESS\n",
            "WARNING:rasterio._env:CPLE_NotSupported in driver GTiff does not support open option INTERLEAVE\n"
          ]
        },
        {
          "output_type": "stream",
          "name": "stdout",
          "text": [
            "Done run 44 for bird Acorn Woodpecker\n"
          ]
        },
        {
          "output_type": "stream",
          "name": "stderr",
          "text": [
            "WARNING:rasterio._env:CPLE_NotSupported in driver GTiff does not support open option BLOCKYSIZE\n",
            "WARNING:rasterio._env:CPLE_NotSupported in driver GTiff does not support open option COMPRESS\n",
            "WARNING:rasterio._env:CPLE_NotSupported in driver GTiff does not support open option INTERLEAVE\n",
            "WARNING:rasterio._env:CPLE_NotSupported in driver GTiff does not support open option BLOCKYSIZE\n",
            "WARNING:rasterio._env:CPLE_NotSupported in driver GTiff does not support open option COMPRESS\n",
            "WARNING:rasterio._env:CPLE_NotSupported in driver GTiff does not support open option INTERLEAVE\n"
          ]
        },
        {
          "output_type": "stream",
          "name": "stdout",
          "text": [
            "Done run 45 for bird Acorn Woodpecker\n"
          ]
        },
        {
          "output_type": "stream",
          "name": "stderr",
          "text": [
            "WARNING:rasterio._env:CPLE_NotSupported in driver GTiff does not support open option BLOCKYSIZE\n",
            "WARNING:rasterio._env:CPLE_NotSupported in driver GTiff does not support open option COMPRESS\n",
            "WARNING:rasterio._env:CPLE_NotSupported in driver GTiff does not support open option INTERLEAVE\n",
            "WARNING:rasterio._env:CPLE_NotSupported in driver GTiff does not support open option BLOCKYSIZE\n",
            "WARNING:rasterio._env:CPLE_NotSupported in driver GTiff does not support open option COMPRESS\n",
            "WARNING:rasterio._env:CPLE_NotSupported in driver GTiff does not support open option INTERLEAVE\n"
          ]
        },
        {
          "output_type": "stream",
          "name": "stdout",
          "text": [
            "Done run 46 for bird Acorn Woodpecker\n"
          ]
        },
        {
          "output_type": "stream",
          "name": "stderr",
          "text": [
            "WARNING:rasterio._env:CPLE_NotSupported in driver GTiff does not support open option BLOCKYSIZE\n",
            "WARNING:rasterio._env:CPLE_NotSupported in driver GTiff does not support open option COMPRESS\n",
            "WARNING:rasterio._env:CPLE_NotSupported in driver GTiff does not support open option INTERLEAVE\n",
            "WARNING:rasterio._env:CPLE_NotSupported in driver GTiff does not support open option BLOCKYSIZE\n",
            "WARNING:rasterio._env:CPLE_NotSupported in driver GTiff does not support open option COMPRESS\n",
            "WARNING:rasterio._env:CPLE_NotSupported in driver GTiff does not support open option INTERLEAVE\n"
          ]
        },
        {
          "output_type": "stream",
          "name": "stdout",
          "text": [
            "Done run 47 for bird Acorn Woodpecker\n"
          ]
        },
        {
          "output_type": "stream",
          "name": "stderr",
          "text": [
            "WARNING:rasterio._env:CPLE_NotSupported in driver GTiff does not support open option BLOCKYSIZE\n",
            "WARNING:rasterio._env:CPLE_NotSupported in driver GTiff does not support open option COMPRESS\n",
            "WARNING:rasterio._env:CPLE_NotSupported in driver GTiff does not support open option INTERLEAVE\n",
            "WARNING:rasterio._env:CPLE_NotSupported in driver GTiff does not support open option BLOCKYSIZE\n",
            "WARNING:rasterio._env:CPLE_NotSupported in driver GTiff does not support open option COMPRESS\n",
            "WARNING:rasterio._env:CPLE_NotSupported in driver GTiff does not support open option INTERLEAVE\n"
          ]
        },
        {
          "output_type": "stream",
          "name": "stdout",
          "text": [
            "Done run 48 for bird Acorn Woodpecker\n"
          ]
        },
        {
          "output_type": "stream",
          "name": "stderr",
          "text": [
            "WARNING:rasterio._env:CPLE_NotSupported in driver GTiff does not support open option BLOCKYSIZE\n",
            "WARNING:rasterio._env:CPLE_NotSupported in driver GTiff does not support open option COMPRESS\n",
            "WARNING:rasterio._env:CPLE_NotSupported in driver GTiff does not support open option INTERLEAVE\n",
            "WARNING:rasterio._env:CPLE_NotSupported in driver GTiff does not support open option BLOCKYSIZE\n",
            "WARNING:rasterio._env:CPLE_NotSupported in driver GTiff does not support open option COMPRESS\n",
            "WARNING:rasterio._env:CPLE_NotSupported in driver GTiff does not support open option INTERLEAVE\n"
          ]
        },
        {
          "output_type": "stream",
          "name": "stdout",
          "text": [
            "Done run 49 for bird Acorn Woodpecker\n"
          ]
        },
        {
          "output_type": "stream",
          "name": "stderr",
          "text": [
            "WARNING:rasterio._env:CPLE_NotSupported in driver GTiff does not support open option BLOCKYSIZE\n",
            "WARNING:rasterio._env:CPLE_NotSupported in driver GTiff does not support open option COMPRESS\n",
            "WARNING:rasterio._env:CPLE_NotSupported in driver GTiff does not support open option INTERLEAVE\n",
            "WARNING:rasterio._env:CPLE_NotSupported in driver GTiff does not support open option BLOCKYSIZE\n",
            "WARNING:rasterio._env:CPLE_NotSupported in driver GTiff does not support open option COMPRESS\n",
            "WARNING:rasterio._env:CPLE_NotSupported in driver GTiff does not support open option INTERLEAVE\n"
          ]
        },
        {
          "output_type": "stream",
          "name": "stdout",
          "text": [
            "Done run 50 for bird Acorn Woodpecker\n"
          ]
        },
        {
          "output_type": "stream",
          "name": "stderr",
          "text": [
            "WARNING:rasterio._env:CPLE_NotSupported in driver GTiff does not support open option BLOCKYSIZE\n",
            "WARNING:rasterio._env:CPLE_NotSupported in driver GTiff does not support open option COMPRESS\n",
            "WARNING:rasterio._env:CPLE_NotSupported in driver GTiff does not support open option INTERLEAVE\n",
            "WARNING:rasterio._env:CPLE_NotSupported in driver GTiff does not support open option BLOCKYSIZE\n",
            "WARNING:rasterio._env:CPLE_NotSupported in driver GTiff does not support open option COMPRESS\n",
            "WARNING:rasterio._env:CPLE_NotSupported in driver GTiff does not support open option INTERLEAVE\n"
          ]
        },
        {
          "output_type": "stream",
          "name": "stdout",
          "text": [
            "Done run 51 for bird Acorn Woodpecker\n"
          ]
        },
        {
          "output_type": "stream",
          "name": "stderr",
          "text": [
            "WARNING:rasterio._env:CPLE_NotSupported in driver GTiff does not support open option BLOCKYSIZE\n",
            "WARNING:rasterio._env:CPLE_NotSupported in driver GTiff does not support open option COMPRESS\n",
            "WARNING:rasterio._env:CPLE_NotSupported in driver GTiff does not support open option INTERLEAVE\n",
            "WARNING:rasterio._env:CPLE_NotSupported in driver GTiff does not support open option BLOCKYSIZE\n",
            "WARNING:rasterio._env:CPLE_NotSupported in driver GTiff does not support open option COMPRESS\n",
            "WARNING:rasterio._env:CPLE_NotSupported in driver GTiff does not support open option INTERLEAVE\n"
          ]
        },
        {
          "output_type": "stream",
          "name": "stdout",
          "text": [
            "Done run 52 for bird Acorn Woodpecker\n"
          ]
        },
        {
          "output_type": "stream",
          "name": "stderr",
          "text": [
            "WARNING:rasterio._env:CPLE_NotSupported in driver GTiff does not support open option BLOCKYSIZE\n",
            "WARNING:rasterio._env:CPLE_NotSupported in driver GTiff does not support open option COMPRESS\n",
            "WARNING:rasterio._env:CPLE_NotSupported in driver GTiff does not support open option INTERLEAVE\n",
            "WARNING:rasterio._env:CPLE_NotSupported in driver GTiff does not support open option BLOCKYSIZE\n",
            "WARNING:rasterio._env:CPLE_NotSupported in driver GTiff does not support open option COMPRESS\n",
            "WARNING:rasterio._env:CPLE_NotSupported in driver GTiff does not support open option INTERLEAVE\n"
          ]
        },
        {
          "output_type": "stream",
          "name": "stdout",
          "text": [
            "Done run 53 for bird Acorn Woodpecker\n"
          ]
        },
        {
          "output_type": "stream",
          "name": "stderr",
          "text": [
            "WARNING:rasterio._env:CPLE_NotSupported in driver GTiff does not support open option BLOCKYSIZE\n",
            "WARNING:rasterio._env:CPLE_NotSupported in driver GTiff does not support open option COMPRESS\n",
            "WARNING:rasterio._env:CPLE_NotSupported in driver GTiff does not support open option INTERLEAVE\n",
            "WARNING:rasterio._env:CPLE_NotSupported in driver GTiff does not support open option BLOCKYSIZE\n",
            "WARNING:rasterio._env:CPLE_NotSupported in driver GTiff does not support open option COMPRESS\n",
            "WARNING:rasterio._env:CPLE_NotSupported in driver GTiff does not support open option INTERLEAVE\n"
          ]
        },
        {
          "output_type": "stream",
          "name": "stdout",
          "text": [
            "Done run 54 for bird Acorn Woodpecker\n"
          ]
        },
        {
          "output_type": "stream",
          "name": "stderr",
          "text": [
            "WARNING:rasterio._env:CPLE_NotSupported in driver GTiff does not support open option BLOCKYSIZE\n",
            "WARNING:rasterio._env:CPLE_NotSupported in driver GTiff does not support open option COMPRESS\n",
            "WARNING:rasterio._env:CPLE_NotSupported in driver GTiff does not support open option INTERLEAVE\n",
            "WARNING:rasterio._env:CPLE_NotSupported in driver GTiff does not support open option BLOCKYSIZE\n",
            "WARNING:rasterio._env:CPLE_NotSupported in driver GTiff does not support open option COMPRESS\n",
            "WARNING:rasterio._env:CPLE_NotSupported in driver GTiff does not support open option INTERLEAVE\n"
          ]
        },
        {
          "output_type": "stream",
          "name": "stdout",
          "text": [
            "Done run 55 for bird Acorn Woodpecker\n"
          ]
        },
        {
          "output_type": "stream",
          "name": "stderr",
          "text": [
            "WARNING:rasterio._env:CPLE_NotSupported in driver GTiff does not support open option BLOCKYSIZE\n",
            "WARNING:rasterio._env:CPLE_NotSupported in driver GTiff does not support open option COMPRESS\n",
            "WARNING:rasterio._env:CPLE_NotSupported in driver GTiff does not support open option INTERLEAVE\n",
            "WARNING:rasterio._env:CPLE_NotSupported in driver GTiff does not support open option BLOCKYSIZE\n",
            "WARNING:rasterio._env:CPLE_NotSupported in driver GTiff does not support open option COMPRESS\n",
            "WARNING:rasterio._env:CPLE_NotSupported in driver GTiff does not support open option INTERLEAVE\n"
          ]
        },
        {
          "output_type": "stream",
          "name": "stdout",
          "text": [
            "Done run 56 for bird Acorn Woodpecker\n"
          ]
        },
        {
          "output_type": "stream",
          "name": "stderr",
          "text": [
            "WARNING:rasterio._env:CPLE_NotSupported in driver GTiff does not support open option BLOCKYSIZE\n",
            "WARNING:rasterio._env:CPLE_NotSupported in driver GTiff does not support open option COMPRESS\n",
            "WARNING:rasterio._env:CPLE_NotSupported in driver GTiff does not support open option INTERLEAVE\n",
            "WARNING:rasterio._env:CPLE_NotSupported in driver GTiff does not support open option BLOCKYSIZE\n",
            "WARNING:rasterio._env:CPLE_NotSupported in driver GTiff does not support open option COMPRESS\n",
            "WARNING:rasterio._env:CPLE_NotSupported in driver GTiff does not support open option INTERLEAVE\n"
          ]
        },
        {
          "output_type": "stream",
          "name": "stdout",
          "text": [
            "Done run 57 for bird Acorn Woodpecker\n"
          ]
        },
        {
          "output_type": "stream",
          "name": "stderr",
          "text": [
            "WARNING:rasterio._env:CPLE_NotSupported in driver GTiff does not support open option BLOCKYSIZE\n",
            "WARNING:rasterio._env:CPLE_NotSupported in driver GTiff does not support open option COMPRESS\n",
            "WARNING:rasterio._env:CPLE_NotSupported in driver GTiff does not support open option INTERLEAVE\n",
            "WARNING:rasterio._env:CPLE_NotSupported in driver GTiff does not support open option BLOCKYSIZE\n",
            "WARNING:rasterio._env:CPLE_NotSupported in driver GTiff does not support open option COMPRESS\n",
            "WARNING:rasterio._env:CPLE_NotSupported in driver GTiff does not support open option INTERLEAVE\n"
          ]
        },
        {
          "output_type": "stream",
          "name": "stdout",
          "text": [
            "Done run 58 for bird Acorn Woodpecker\n"
          ]
        },
        {
          "output_type": "stream",
          "name": "stderr",
          "text": [
            "WARNING:rasterio._env:CPLE_NotSupported in driver GTiff does not support open option BLOCKYSIZE\n",
            "WARNING:rasterio._env:CPLE_NotSupported in driver GTiff does not support open option COMPRESS\n",
            "WARNING:rasterio._env:CPLE_NotSupported in driver GTiff does not support open option INTERLEAVE\n",
            "WARNING:rasterio._env:CPLE_NotSupported in driver GTiff does not support open option BLOCKYSIZE\n",
            "WARNING:rasterio._env:CPLE_NotSupported in driver GTiff does not support open option COMPRESS\n",
            "WARNING:rasterio._env:CPLE_NotSupported in driver GTiff does not support open option INTERLEAVE\n"
          ]
        },
        {
          "output_type": "stream",
          "name": "stdout",
          "text": [
            "Done run 59 for bird Acorn Woodpecker\n"
          ]
        },
        {
          "output_type": "stream",
          "name": "stderr",
          "text": [
            "WARNING:rasterio._env:CPLE_NotSupported in driver GTiff does not support open option BLOCKYSIZE\n",
            "WARNING:rasterio._env:CPLE_NotSupported in driver GTiff does not support open option COMPRESS\n",
            "WARNING:rasterio._env:CPLE_NotSupported in driver GTiff does not support open option INTERLEAVE\n",
            "WARNING:rasterio._env:CPLE_NotSupported in driver GTiff does not support open option BLOCKYSIZE\n",
            "WARNING:rasterio._env:CPLE_NotSupported in driver GTiff does not support open option COMPRESS\n",
            "WARNING:rasterio._env:CPLE_NotSupported in driver GTiff does not support open option INTERLEAVE\n"
          ]
        },
        {
          "output_type": "stream",
          "name": "stdout",
          "text": [
            "Done run 60 for bird Acorn Woodpecker\n"
          ]
        },
        {
          "output_type": "stream",
          "name": "stderr",
          "text": [
            "WARNING:rasterio._env:CPLE_NotSupported in driver GTiff does not support open option BLOCKYSIZE\n",
            "WARNING:rasterio._env:CPLE_NotSupported in driver GTiff does not support open option COMPRESS\n",
            "WARNING:rasterio._env:CPLE_NotSupported in driver GTiff does not support open option INTERLEAVE\n",
            "WARNING:rasterio._env:CPLE_NotSupported in driver GTiff does not support open option BLOCKYSIZE\n",
            "WARNING:rasterio._env:CPLE_NotSupported in driver GTiff does not support open option COMPRESS\n",
            "WARNING:rasterio._env:CPLE_NotSupported in driver GTiff does not support open option INTERLEAVE\n"
          ]
        },
        {
          "output_type": "stream",
          "name": "stdout",
          "text": [
            "Done run 61 for bird Acorn Woodpecker\n"
          ]
        },
        {
          "output_type": "stream",
          "name": "stderr",
          "text": [
            "WARNING:rasterio._env:CPLE_NotSupported in driver GTiff does not support open option BLOCKYSIZE\n",
            "WARNING:rasterio._env:CPLE_NotSupported in driver GTiff does not support open option COMPRESS\n",
            "WARNING:rasterio._env:CPLE_NotSupported in driver GTiff does not support open option INTERLEAVE\n",
            "WARNING:rasterio._env:CPLE_NotSupported in driver GTiff does not support open option BLOCKYSIZE\n",
            "WARNING:rasterio._env:CPLE_NotSupported in driver GTiff does not support open option COMPRESS\n",
            "WARNING:rasterio._env:CPLE_NotSupported in driver GTiff does not support open option INTERLEAVE\n"
          ]
        },
        {
          "output_type": "stream",
          "name": "stdout",
          "text": [
            "Done run 62 for bird Acorn Woodpecker\n"
          ]
        },
        {
          "output_type": "stream",
          "name": "stderr",
          "text": [
            "WARNING:rasterio._env:CPLE_NotSupported in driver GTiff does not support open option BLOCKYSIZE\n",
            "WARNING:rasterio._env:CPLE_NotSupported in driver GTiff does not support open option COMPRESS\n",
            "WARNING:rasterio._env:CPLE_NotSupported in driver GTiff does not support open option INTERLEAVE\n",
            "WARNING:rasterio._env:CPLE_NotSupported in driver GTiff does not support open option BLOCKYSIZE\n",
            "WARNING:rasterio._env:CPLE_NotSupported in driver GTiff does not support open option COMPRESS\n",
            "WARNING:rasterio._env:CPLE_NotSupported in driver GTiff does not support open option INTERLEAVE\n"
          ]
        },
        {
          "output_type": "stream",
          "name": "stdout",
          "text": [
            "Done run 63 for bird Acorn Woodpecker\n"
          ]
        },
        {
          "output_type": "stream",
          "name": "stderr",
          "text": [
            "WARNING:rasterio._env:CPLE_NotSupported in driver GTiff does not support open option BLOCKYSIZE\n",
            "WARNING:rasterio._env:CPLE_NotSupported in driver GTiff does not support open option COMPRESS\n",
            "WARNING:rasterio._env:CPLE_NotSupported in driver GTiff does not support open option INTERLEAVE\n",
            "WARNING:rasterio._env:CPLE_NotSupported in driver GTiff does not support open option BLOCKYSIZE\n",
            "WARNING:rasterio._env:CPLE_NotSupported in driver GTiff does not support open option COMPRESS\n",
            "WARNING:rasterio._env:CPLE_NotSupported in driver GTiff does not support open option INTERLEAVE\n"
          ]
        },
        {
          "output_type": "stream",
          "name": "stdout",
          "text": [
            "Done run 64 for bird Acorn Woodpecker\n"
          ]
        },
        {
          "output_type": "stream",
          "name": "stderr",
          "text": [
            "WARNING:rasterio._env:CPLE_NotSupported in driver GTiff does not support open option BLOCKYSIZE\n",
            "WARNING:rasterio._env:CPLE_NotSupported in driver GTiff does not support open option COMPRESS\n",
            "WARNING:rasterio._env:CPLE_NotSupported in driver GTiff does not support open option INTERLEAVE\n",
            "WARNING:rasterio._env:CPLE_NotSupported in driver GTiff does not support open option BLOCKYSIZE\n",
            "WARNING:rasterio._env:CPLE_NotSupported in driver GTiff does not support open option COMPRESS\n",
            "WARNING:rasterio._env:CPLE_NotSupported in driver GTiff does not support open option INTERLEAVE\n"
          ]
        },
        {
          "output_type": "stream",
          "name": "stdout",
          "text": [
            "Done run 65 for bird Acorn Woodpecker\n"
          ]
        },
        {
          "output_type": "stream",
          "name": "stderr",
          "text": [
            "WARNING:rasterio._env:CPLE_NotSupported in driver GTiff does not support open option BLOCKYSIZE\n",
            "WARNING:rasterio._env:CPLE_NotSupported in driver GTiff does not support open option COMPRESS\n",
            "WARNING:rasterio._env:CPLE_NotSupported in driver GTiff does not support open option INTERLEAVE\n",
            "WARNING:rasterio._env:CPLE_NotSupported in driver GTiff does not support open option BLOCKYSIZE\n",
            "WARNING:rasterio._env:CPLE_NotSupported in driver GTiff does not support open option COMPRESS\n",
            "WARNING:rasterio._env:CPLE_NotSupported in driver GTiff does not support open option INTERLEAVE\n"
          ]
        },
        {
          "output_type": "stream",
          "name": "stdout",
          "text": [
            "Done run 66 for bird Acorn Woodpecker\n"
          ]
        },
        {
          "output_type": "stream",
          "name": "stderr",
          "text": [
            "WARNING:rasterio._env:CPLE_NotSupported in driver GTiff does not support open option BLOCKYSIZE\n",
            "WARNING:rasterio._env:CPLE_NotSupported in driver GTiff does not support open option COMPRESS\n",
            "WARNING:rasterio._env:CPLE_NotSupported in driver GTiff does not support open option INTERLEAVE\n",
            "WARNING:rasterio._env:CPLE_NotSupported in driver GTiff does not support open option BLOCKYSIZE\n",
            "WARNING:rasterio._env:CPLE_NotSupported in driver GTiff does not support open option COMPRESS\n",
            "WARNING:rasterio._env:CPLE_NotSupported in driver GTiff does not support open option INTERLEAVE\n"
          ]
        },
        {
          "output_type": "stream",
          "name": "stdout",
          "text": [
            "Done run 67 for bird Acorn Woodpecker\n"
          ]
        },
        {
          "output_type": "stream",
          "name": "stderr",
          "text": [
            "WARNING:rasterio._env:CPLE_NotSupported in driver GTiff does not support open option BLOCKYSIZE\n",
            "WARNING:rasterio._env:CPLE_NotSupported in driver GTiff does not support open option COMPRESS\n",
            "WARNING:rasterio._env:CPLE_NotSupported in driver GTiff does not support open option INTERLEAVE\n",
            "WARNING:rasterio._env:CPLE_NotSupported in driver GTiff does not support open option BLOCKYSIZE\n",
            "WARNING:rasterio._env:CPLE_NotSupported in driver GTiff does not support open option COMPRESS\n",
            "WARNING:rasterio._env:CPLE_NotSupported in driver GTiff does not support open option INTERLEAVE\n"
          ]
        },
        {
          "output_type": "stream",
          "name": "stdout",
          "text": [
            "Done run 68 for bird Acorn Woodpecker\n"
          ]
        },
        {
          "output_type": "stream",
          "name": "stderr",
          "text": [
            "WARNING:rasterio._env:CPLE_NotSupported in driver GTiff does not support open option BLOCKYSIZE\n",
            "WARNING:rasterio._env:CPLE_NotSupported in driver GTiff does not support open option COMPRESS\n",
            "WARNING:rasterio._env:CPLE_NotSupported in driver GTiff does not support open option INTERLEAVE\n",
            "WARNING:rasterio._env:CPLE_NotSupported in driver GTiff does not support open option BLOCKYSIZE\n",
            "WARNING:rasterio._env:CPLE_NotSupported in driver GTiff does not support open option COMPRESS\n",
            "WARNING:rasterio._env:CPLE_NotSupported in driver GTiff does not support open option INTERLEAVE\n"
          ]
        },
        {
          "output_type": "stream",
          "name": "stdout",
          "text": [
            "Done run 69 for bird Acorn Woodpecker\n"
          ]
        },
        {
          "output_type": "stream",
          "name": "stderr",
          "text": [
            "WARNING:rasterio._env:CPLE_NotSupported in driver GTiff does not support open option BLOCKYSIZE\n",
            "WARNING:rasterio._env:CPLE_NotSupported in driver GTiff does not support open option COMPRESS\n",
            "WARNING:rasterio._env:CPLE_NotSupported in driver GTiff does not support open option INTERLEAVE\n",
            "WARNING:rasterio._env:CPLE_NotSupported in driver GTiff does not support open option BLOCKYSIZE\n",
            "WARNING:rasterio._env:CPLE_NotSupported in driver GTiff does not support open option COMPRESS\n",
            "WARNING:rasterio._env:CPLE_NotSupported in driver GTiff does not support open option INTERLEAVE\n"
          ]
        },
        {
          "output_type": "stream",
          "name": "stdout",
          "text": [
            "Done run 70 for bird Acorn Woodpecker\n"
          ]
        },
        {
          "output_type": "stream",
          "name": "stderr",
          "text": [
            "WARNING:rasterio._env:CPLE_NotSupported in driver GTiff does not support open option BLOCKYSIZE\n",
            "WARNING:rasterio._env:CPLE_NotSupported in driver GTiff does not support open option COMPRESS\n",
            "WARNING:rasterio._env:CPLE_NotSupported in driver GTiff does not support open option INTERLEAVE\n",
            "WARNING:rasterio._env:CPLE_NotSupported in driver GTiff does not support open option BLOCKYSIZE\n",
            "WARNING:rasterio._env:CPLE_NotSupported in driver GTiff does not support open option COMPRESS\n",
            "WARNING:rasterio._env:CPLE_NotSupported in driver GTiff does not support open option INTERLEAVE\n"
          ]
        },
        {
          "output_type": "stream",
          "name": "stdout",
          "text": [
            "Done run 71 for bird Acorn Woodpecker\n"
          ]
        },
        {
          "output_type": "stream",
          "name": "stderr",
          "text": [
            "WARNING:rasterio._env:CPLE_NotSupported in driver GTiff does not support open option BLOCKYSIZE\n",
            "WARNING:rasterio._env:CPLE_NotSupported in driver GTiff does not support open option COMPRESS\n",
            "WARNING:rasterio._env:CPLE_NotSupported in driver GTiff does not support open option INTERLEAVE\n",
            "WARNING:rasterio._env:CPLE_NotSupported in driver GTiff does not support open option BLOCKYSIZE\n",
            "WARNING:rasterio._env:CPLE_NotSupported in driver GTiff does not support open option COMPRESS\n",
            "WARNING:rasterio._env:CPLE_NotSupported in driver GTiff does not support open option INTERLEAVE\n"
          ]
        },
        {
          "output_type": "stream",
          "name": "stdout",
          "text": [
            "Done run 72 for bird Acorn Woodpecker\n"
          ]
        },
        {
          "output_type": "stream",
          "name": "stderr",
          "text": [
            "WARNING:rasterio._env:CPLE_NotSupported in driver GTiff does not support open option BLOCKYSIZE\n",
            "WARNING:rasterio._env:CPLE_NotSupported in driver GTiff does not support open option COMPRESS\n",
            "WARNING:rasterio._env:CPLE_NotSupported in driver GTiff does not support open option INTERLEAVE\n",
            "WARNING:rasterio._env:CPLE_NotSupported in driver GTiff does not support open option BLOCKYSIZE\n",
            "WARNING:rasterio._env:CPLE_NotSupported in driver GTiff does not support open option COMPRESS\n",
            "WARNING:rasterio._env:CPLE_NotSupported in driver GTiff does not support open option INTERLEAVE\n"
          ]
        },
        {
          "output_type": "stream",
          "name": "stdout",
          "text": [
            "Done run 73 for bird Acorn Woodpecker\n"
          ]
        },
        {
          "output_type": "stream",
          "name": "stderr",
          "text": [
            "WARNING:rasterio._env:CPLE_NotSupported in driver GTiff does not support open option BLOCKYSIZE\n",
            "WARNING:rasterio._env:CPLE_NotSupported in driver GTiff does not support open option COMPRESS\n",
            "WARNING:rasterio._env:CPLE_NotSupported in driver GTiff does not support open option INTERLEAVE\n",
            "WARNING:rasterio._env:CPLE_NotSupported in driver GTiff does not support open option BLOCKYSIZE\n",
            "WARNING:rasterio._env:CPLE_NotSupported in driver GTiff does not support open option COMPRESS\n",
            "WARNING:rasterio._env:CPLE_NotSupported in driver GTiff does not support open option INTERLEAVE\n"
          ]
        },
        {
          "output_type": "stream",
          "name": "stdout",
          "text": [
            "Done run 74 for bird Acorn Woodpecker\n"
          ]
        },
        {
          "output_type": "stream",
          "name": "stderr",
          "text": [
            "WARNING:rasterio._env:CPLE_NotSupported in driver GTiff does not support open option BLOCKYSIZE\n",
            "WARNING:rasterio._env:CPLE_NotSupported in driver GTiff does not support open option COMPRESS\n",
            "WARNING:rasterio._env:CPLE_NotSupported in driver GTiff does not support open option INTERLEAVE\n",
            "WARNING:rasterio._env:CPLE_NotSupported in driver GTiff does not support open option BLOCKYSIZE\n",
            "WARNING:rasterio._env:CPLE_NotSupported in driver GTiff does not support open option COMPRESS\n",
            "WARNING:rasterio._env:CPLE_NotSupported in driver GTiff does not support open option INTERLEAVE\n"
          ]
        },
        {
          "output_type": "stream",
          "name": "stdout",
          "text": [
            "Done run 75 for bird Acorn Woodpecker\n"
          ]
        },
        {
          "output_type": "stream",
          "name": "stderr",
          "text": [
            "WARNING:rasterio._env:CPLE_NotSupported in driver GTiff does not support open option BLOCKYSIZE\n",
            "WARNING:rasterio._env:CPLE_NotSupported in driver GTiff does not support open option COMPRESS\n",
            "WARNING:rasterio._env:CPLE_NotSupported in driver GTiff does not support open option INTERLEAVE\n",
            "WARNING:rasterio._env:CPLE_NotSupported in driver GTiff does not support open option BLOCKYSIZE\n",
            "WARNING:rasterio._env:CPLE_NotSupported in driver GTiff does not support open option COMPRESS\n",
            "WARNING:rasterio._env:CPLE_NotSupported in driver GTiff does not support open option INTERLEAVE\n"
          ]
        },
        {
          "output_type": "stream",
          "name": "stdout",
          "text": [
            "Done run 76 for bird Acorn Woodpecker\n"
          ]
        },
        {
          "output_type": "stream",
          "name": "stderr",
          "text": [
            "WARNING:rasterio._env:CPLE_NotSupported in driver GTiff does not support open option BLOCKYSIZE\n",
            "WARNING:rasterio._env:CPLE_NotSupported in driver GTiff does not support open option COMPRESS\n",
            "WARNING:rasterio._env:CPLE_NotSupported in driver GTiff does not support open option INTERLEAVE\n",
            "WARNING:rasterio._env:CPLE_NotSupported in driver GTiff does not support open option BLOCKYSIZE\n",
            "WARNING:rasterio._env:CPLE_NotSupported in driver GTiff does not support open option COMPRESS\n",
            "WARNING:rasterio._env:CPLE_NotSupported in driver GTiff does not support open option INTERLEAVE\n"
          ]
        },
        {
          "output_type": "stream",
          "name": "stdout",
          "text": [
            "Done run 77 for bird Acorn Woodpecker\n"
          ]
        },
        {
          "output_type": "stream",
          "name": "stderr",
          "text": [
            "WARNING:rasterio._env:CPLE_NotSupported in driver GTiff does not support open option BLOCKYSIZE\n",
            "WARNING:rasterio._env:CPLE_NotSupported in driver GTiff does not support open option COMPRESS\n",
            "WARNING:rasterio._env:CPLE_NotSupported in driver GTiff does not support open option INTERLEAVE\n",
            "WARNING:rasterio._env:CPLE_NotSupported in driver GTiff does not support open option BLOCKYSIZE\n",
            "WARNING:rasterio._env:CPLE_NotSupported in driver GTiff does not support open option COMPRESS\n",
            "WARNING:rasterio._env:CPLE_NotSupported in driver GTiff does not support open option INTERLEAVE\n"
          ]
        },
        {
          "output_type": "stream",
          "name": "stdout",
          "text": [
            "Done run 78 for bird Acorn Woodpecker\n"
          ]
        },
        {
          "output_type": "stream",
          "name": "stderr",
          "text": [
            "WARNING:rasterio._env:CPLE_NotSupported in driver GTiff does not support open option BLOCKYSIZE\n",
            "WARNING:rasterio._env:CPLE_NotSupported in driver GTiff does not support open option COMPRESS\n",
            "WARNING:rasterio._env:CPLE_NotSupported in driver GTiff does not support open option INTERLEAVE\n",
            "WARNING:rasterio._env:CPLE_NotSupported in driver GTiff does not support open option BLOCKYSIZE\n",
            "WARNING:rasterio._env:CPLE_NotSupported in driver GTiff does not support open option COMPRESS\n",
            "WARNING:rasterio._env:CPLE_NotSupported in driver GTiff does not support open option INTERLEAVE\n"
          ]
        },
        {
          "output_type": "stream",
          "name": "stdout",
          "text": [
            "Done run 79 for bird Acorn Woodpecker\n"
          ]
        },
        {
          "output_type": "stream",
          "name": "stderr",
          "text": [
            "WARNING:rasterio._env:CPLE_NotSupported in driver GTiff does not support open option BLOCKYSIZE\n",
            "WARNING:rasterio._env:CPLE_NotSupported in driver GTiff does not support open option COMPRESS\n",
            "WARNING:rasterio._env:CPLE_NotSupported in driver GTiff does not support open option INTERLEAVE\n",
            "WARNING:rasterio._env:CPLE_NotSupported in driver GTiff does not support open option BLOCKYSIZE\n",
            "WARNING:rasterio._env:CPLE_NotSupported in driver GTiff does not support open option COMPRESS\n",
            "WARNING:rasterio._env:CPLE_NotSupported in driver GTiff does not support open option INTERLEAVE\n"
          ]
        },
        {
          "output_type": "stream",
          "name": "stdout",
          "text": [
            "Done run 80 for bird Acorn Woodpecker\n"
          ]
        },
        {
          "output_type": "stream",
          "name": "stderr",
          "text": [
            "WARNING:rasterio._env:CPLE_NotSupported in driver GTiff does not support open option BLOCKYSIZE\n",
            "WARNING:rasterio._env:CPLE_NotSupported in driver GTiff does not support open option COMPRESS\n",
            "WARNING:rasterio._env:CPLE_NotSupported in driver GTiff does not support open option INTERLEAVE\n",
            "WARNING:rasterio._env:CPLE_NotSupported in driver GTiff does not support open option BLOCKYSIZE\n",
            "WARNING:rasterio._env:CPLE_NotSupported in driver GTiff does not support open option COMPRESS\n",
            "WARNING:rasterio._env:CPLE_NotSupported in driver GTiff does not support open option INTERLEAVE\n"
          ]
        },
        {
          "output_type": "stream",
          "name": "stdout",
          "text": [
            "Done run 81 for bird Acorn Woodpecker\n"
          ]
        },
        {
          "output_type": "stream",
          "name": "stderr",
          "text": [
            "WARNING:rasterio._env:CPLE_NotSupported in driver GTiff does not support open option BLOCKYSIZE\n",
            "WARNING:rasterio._env:CPLE_NotSupported in driver GTiff does not support open option COMPRESS\n",
            "WARNING:rasterio._env:CPLE_NotSupported in driver GTiff does not support open option INTERLEAVE\n",
            "WARNING:rasterio._env:CPLE_NotSupported in driver GTiff does not support open option BLOCKYSIZE\n",
            "WARNING:rasterio._env:CPLE_NotSupported in driver GTiff does not support open option COMPRESS\n",
            "WARNING:rasterio._env:CPLE_NotSupported in driver GTiff does not support open option INTERLEAVE\n"
          ]
        },
        {
          "output_type": "stream",
          "name": "stdout",
          "text": [
            "Done run 82 for bird Acorn Woodpecker\n"
          ]
        },
        {
          "output_type": "stream",
          "name": "stderr",
          "text": [
            "WARNING:rasterio._env:CPLE_NotSupported in driver GTiff does not support open option BLOCKYSIZE\n",
            "WARNING:rasterio._env:CPLE_NotSupported in driver GTiff does not support open option COMPRESS\n",
            "WARNING:rasterio._env:CPLE_NotSupported in driver GTiff does not support open option INTERLEAVE\n",
            "WARNING:rasterio._env:CPLE_NotSupported in driver GTiff does not support open option BLOCKYSIZE\n",
            "WARNING:rasterio._env:CPLE_NotSupported in driver GTiff does not support open option COMPRESS\n",
            "WARNING:rasterio._env:CPLE_NotSupported in driver GTiff does not support open option INTERLEAVE\n"
          ]
        },
        {
          "output_type": "stream",
          "name": "stdout",
          "text": [
            "Done run 83 for bird Acorn Woodpecker\n"
          ]
        },
        {
          "output_type": "stream",
          "name": "stderr",
          "text": [
            "WARNING:rasterio._env:CPLE_NotSupported in driver GTiff does not support open option BLOCKYSIZE\n",
            "WARNING:rasterio._env:CPLE_NotSupported in driver GTiff does not support open option COMPRESS\n",
            "WARNING:rasterio._env:CPLE_NotSupported in driver GTiff does not support open option INTERLEAVE\n",
            "WARNING:rasterio._env:CPLE_NotSupported in driver GTiff does not support open option BLOCKYSIZE\n",
            "WARNING:rasterio._env:CPLE_NotSupported in driver GTiff does not support open option COMPRESS\n",
            "WARNING:rasterio._env:CPLE_NotSupported in driver GTiff does not support open option INTERLEAVE\n"
          ]
        },
        {
          "output_type": "stream",
          "name": "stdout",
          "text": [
            "Done run 84 for bird Acorn Woodpecker\n"
          ]
        },
        {
          "output_type": "stream",
          "name": "stderr",
          "text": [
            "WARNING:rasterio._env:CPLE_NotSupported in driver GTiff does not support open option BLOCKYSIZE\n",
            "WARNING:rasterio._env:CPLE_NotSupported in driver GTiff does not support open option COMPRESS\n",
            "WARNING:rasterio._env:CPLE_NotSupported in driver GTiff does not support open option INTERLEAVE\n",
            "WARNING:rasterio._env:CPLE_NotSupported in driver GTiff does not support open option BLOCKYSIZE\n",
            "WARNING:rasterio._env:CPLE_NotSupported in driver GTiff does not support open option COMPRESS\n",
            "WARNING:rasterio._env:CPLE_NotSupported in driver GTiff does not support open option INTERLEAVE\n"
          ]
        },
        {
          "output_type": "stream",
          "name": "stdout",
          "text": [
            "Done run 85 for bird Acorn Woodpecker\n"
          ]
        },
        {
          "output_type": "stream",
          "name": "stderr",
          "text": [
            "WARNING:rasterio._env:CPLE_NotSupported in driver GTiff does not support open option BLOCKYSIZE\n",
            "WARNING:rasterio._env:CPLE_NotSupported in driver GTiff does not support open option COMPRESS\n",
            "WARNING:rasterio._env:CPLE_NotSupported in driver GTiff does not support open option INTERLEAVE\n",
            "WARNING:rasterio._env:CPLE_NotSupported in driver GTiff does not support open option BLOCKYSIZE\n",
            "WARNING:rasterio._env:CPLE_NotSupported in driver GTiff does not support open option COMPRESS\n",
            "WARNING:rasterio._env:CPLE_NotSupported in driver GTiff does not support open option INTERLEAVE\n"
          ]
        },
        {
          "output_type": "stream",
          "name": "stdout",
          "text": [
            "Done run 86 for bird Acorn Woodpecker\n"
          ]
        },
        {
          "output_type": "stream",
          "name": "stderr",
          "text": [
            "WARNING:rasterio._env:CPLE_NotSupported in driver GTiff does not support open option BLOCKYSIZE\n",
            "WARNING:rasterio._env:CPLE_NotSupported in driver GTiff does not support open option COMPRESS\n",
            "WARNING:rasterio._env:CPLE_NotSupported in driver GTiff does not support open option INTERLEAVE\n",
            "WARNING:rasterio._env:CPLE_NotSupported in driver GTiff does not support open option BLOCKYSIZE\n",
            "WARNING:rasterio._env:CPLE_NotSupported in driver GTiff does not support open option COMPRESS\n",
            "WARNING:rasterio._env:CPLE_NotSupported in driver GTiff does not support open option INTERLEAVE\n"
          ]
        },
        {
          "output_type": "stream",
          "name": "stdout",
          "text": [
            "Done run 87 for bird Acorn Woodpecker\n"
          ]
        },
        {
          "output_type": "stream",
          "name": "stderr",
          "text": [
            "WARNING:rasterio._env:CPLE_NotSupported in driver GTiff does not support open option BLOCKYSIZE\n",
            "WARNING:rasterio._env:CPLE_NotSupported in driver GTiff does not support open option COMPRESS\n",
            "WARNING:rasterio._env:CPLE_NotSupported in driver GTiff does not support open option INTERLEAVE\n",
            "WARNING:rasterio._env:CPLE_NotSupported in driver GTiff does not support open option BLOCKYSIZE\n",
            "WARNING:rasterio._env:CPLE_NotSupported in driver GTiff does not support open option COMPRESS\n",
            "WARNING:rasterio._env:CPLE_NotSupported in driver GTiff does not support open option INTERLEAVE\n"
          ]
        },
        {
          "output_type": "stream",
          "name": "stdout",
          "text": [
            "Done run 88 for bird Acorn Woodpecker\n"
          ]
        },
        {
          "output_type": "stream",
          "name": "stderr",
          "text": [
            "WARNING:rasterio._env:CPLE_NotSupported in driver GTiff does not support open option BLOCKYSIZE\n",
            "WARNING:rasterio._env:CPLE_NotSupported in driver GTiff does not support open option COMPRESS\n",
            "WARNING:rasterio._env:CPLE_NotSupported in driver GTiff does not support open option INTERLEAVE\n",
            "WARNING:rasterio._env:CPLE_NotSupported in driver GTiff does not support open option BLOCKYSIZE\n",
            "WARNING:rasterio._env:CPLE_NotSupported in driver GTiff does not support open option COMPRESS\n",
            "WARNING:rasterio._env:CPLE_NotSupported in driver GTiff does not support open option INTERLEAVE\n"
          ]
        },
        {
          "output_type": "stream",
          "name": "stdout",
          "text": [
            "Done run 89 for bird Acorn Woodpecker\n"
          ]
        },
        {
          "output_type": "stream",
          "name": "stderr",
          "text": [
            "WARNING:rasterio._env:CPLE_NotSupported in driver GTiff does not support open option BLOCKYSIZE\n",
            "WARNING:rasterio._env:CPLE_NotSupported in driver GTiff does not support open option COMPRESS\n",
            "WARNING:rasterio._env:CPLE_NotSupported in driver GTiff does not support open option INTERLEAVE\n",
            "WARNING:rasterio._env:CPLE_NotSupported in driver GTiff does not support open option BLOCKYSIZE\n",
            "WARNING:rasterio._env:CPLE_NotSupported in driver GTiff does not support open option COMPRESS\n",
            "WARNING:rasterio._env:CPLE_NotSupported in driver GTiff does not support open option INTERLEAVE\n"
          ]
        },
        {
          "output_type": "stream",
          "name": "stdout",
          "text": [
            "Done run 90 for bird Acorn Woodpecker\n"
          ]
        },
        {
          "output_type": "stream",
          "name": "stderr",
          "text": [
            "WARNING:rasterio._env:CPLE_NotSupported in driver GTiff does not support open option BLOCKYSIZE\n",
            "WARNING:rasterio._env:CPLE_NotSupported in driver GTiff does not support open option COMPRESS\n",
            "WARNING:rasterio._env:CPLE_NotSupported in driver GTiff does not support open option INTERLEAVE\n",
            "WARNING:rasterio._env:CPLE_NotSupported in driver GTiff does not support open option BLOCKYSIZE\n",
            "WARNING:rasterio._env:CPLE_NotSupported in driver GTiff does not support open option COMPRESS\n",
            "WARNING:rasterio._env:CPLE_NotSupported in driver GTiff does not support open option INTERLEAVE\n"
          ]
        },
        {
          "output_type": "stream",
          "name": "stdout",
          "text": [
            "Done run 91 for bird Acorn Woodpecker\n"
          ]
        },
        {
          "output_type": "stream",
          "name": "stderr",
          "text": [
            "WARNING:rasterio._env:CPLE_NotSupported in driver GTiff does not support open option BLOCKYSIZE\n",
            "WARNING:rasterio._env:CPLE_NotSupported in driver GTiff does not support open option COMPRESS\n",
            "WARNING:rasterio._env:CPLE_NotSupported in driver GTiff does not support open option INTERLEAVE\n",
            "WARNING:rasterio._env:CPLE_NotSupported in driver GTiff does not support open option BLOCKYSIZE\n",
            "WARNING:rasterio._env:CPLE_NotSupported in driver GTiff does not support open option COMPRESS\n",
            "WARNING:rasterio._env:CPLE_NotSupported in driver GTiff does not support open option INTERLEAVE\n"
          ]
        },
        {
          "output_type": "stream",
          "name": "stdout",
          "text": [
            "Done run 92 for bird Acorn Woodpecker\n"
          ]
        },
        {
          "output_type": "stream",
          "name": "stderr",
          "text": [
            "WARNING:rasterio._env:CPLE_NotSupported in driver GTiff does not support open option BLOCKYSIZE\n",
            "WARNING:rasterio._env:CPLE_NotSupported in driver GTiff does not support open option COMPRESS\n",
            "WARNING:rasterio._env:CPLE_NotSupported in driver GTiff does not support open option INTERLEAVE\n",
            "WARNING:rasterio._env:CPLE_NotSupported in driver GTiff does not support open option BLOCKYSIZE\n",
            "WARNING:rasterio._env:CPLE_NotSupported in driver GTiff does not support open option COMPRESS\n",
            "WARNING:rasterio._env:CPLE_NotSupported in driver GTiff does not support open option INTERLEAVE\n"
          ]
        },
        {
          "output_type": "stream",
          "name": "stdout",
          "text": [
            "Done run 93 for bird Acorn Woodpecker\n"
          ]
        },
        {
          "output_type": "stream",
          "name": "stderr",
          "text": [
            "WARNING:rasterio._env:CPLE_NotSupported in driver GTiff does not support open option BLOCKYSIZE\n",
            "WARNING:rasterio._env:CPLE_NotSupported in driver GTiff does not support open option COMPRESS\n",
            "WARNING:rasterio._env:CPLE_NotSupported in driver GTiff does not support open option INTERLEAVE\n",
            "WARNING:rasterio._env:CPLE_NotSupported in driver GTiff does not support open option BLOCKYSIZE\n",
            "WARNING:rasterio._env:CPLE_NotSupported in driver GTiff does not support open option COMPRESS\n",
            "WARNING:rasterio._env:CPLE_NotSupported in driver GTiff does not support open option INTERLEAVE\n"
          ]
        },
        {
          "output_type": "stream",
          "name": "stdout",
          "text": [
            "Done run 94 for bird Acorn Woodpecker\n"
          ]
        },
        {
          "output_type": "stream",
          "name": "stderr",
          "text": [
            "WARNING:rasterio._env:CPLE_NotSupported in driver GTiff does not support open option BLOCKYSIZE\n",
            "WARNING:rasterio._env:CPLE_NotSupported in driver GTiff does not support open option COMPRESS\n",
            "WARNING:rasterio._env:CPLE_NotSupported in driver GTiff does not support open option INTERLEAVE\n",
            "WARNING:rasterio._env:CPLE_NotSupported in driver GTiff does not support open option BLOCKYSIZE\n",
            "WARNING:rasterio._env:CPLE_NotSupported in driver GTiff does not support open option COMPRESS\n",
            "WARNING:rasterio._env:CPLE_NotSupported in driver GTiff does not support open option INTERLEAVE\n"
          ]
        },
        {
          "output_type": "stream",
          "name": "stdout",
          "text": [
            "Done run 95 for bird Acorn Woodpecker\n"
          ]
        },
        {
          "output_type": "stream",
          "name": "stderr",
          "text": [
            "WARNING:rasterio._env:CPLE_NotSupported in driver GTiff does not support open option BLOCKYSIZE\n",
            "WARNING:rasterio._env:CPLE_NotSupported in driver GTiff does not support open option COMPRESS\n",
            "WARNING:rasterio._env:CPLE_NotSupported in driver GTiff does not support open option INTERLEAVE\n",
            "WARNING:rasterio._env:CPLE_NotSupported in driver GTiff does not support open option BLOCKYSIZE\n",
            "WARNING:rasterio._env:CPLE_NotSupported in driver GTiff does not support open option COMPRESS\n",
            "WARNING:rasterio._env:CPLE_NotSupported in driver GTiff does not support open option INTERLEAVE\n"
          ]
        },
        {
          "output_type": "stream",
          "name": "stdout",
          "text": [
            "Done run 96 for bird Acorn Woodpecker\n"
          ]
        },
        {
          "output_type": "stream",
          "name": "stderr",
          "text": [
            "WARNING:rasterio._env:CPLE_NotSupported in driver GTiff does not support open option BLOCKYSIZE\n",
            "WARNING:rasterio._env:CPLE_NotSupported in driver GTiff does not support open option COMPRESS\n",
            "WARNING:rasterio._env:CPLE_NotSupported in driver GTiff does not support open option INTERLEAVE\n",
            "WARNING:rasterio._env:CPLE_NotSupported in driver GTiff does not support open option BLOCKYSIZE\n",
            "WARNING:rasterio._env:CPLE_NotSupported in driver GTiff does not support open option COMPRESS\n",
            "WARNING:rasterio._env:CPLE_NotSupported in driver GTiff does not support open option INTERLEAVE\n"
          ]
        },
        {
          "output_type": "stream",
          "name": "stdout",
          "text": [
            "Done run 97 for bird Acorn Woodpecker\n"
          ]
        },
        {
          "output_type": "stream",
          "name": "stderr",
          "text": [
            "WARNING:rasterio._env:CPLE_NotSupported in driver GTiff does not support open option BLOCKYSIZE\n",
            "WARNING:rasterio._env:CPLE_NotSupported in driver GTiff does not support open option COMPRESS\n",
            "WARNING:rasterio._env:CPLE_NotSupported in driver GTiff does not support open option INTERLEAVE\n",
            "WARNING:rasterio._env:CPLE_NotSupported in driver GTiff does not support open option BLOCKYSIZE\n",
            "WARNING:rasterio._env:CPLE_NotSupported in driver GTiff does not support open option COMPRESS\n",
            "WARNING:rasterio._env:CPLE_NotSupported in driver GTiff does not support open option INTERLEAVE\n"
          ]
        },
        {
          "output_type": "stream",
          "name": "stdout",
          "text": [
            "Done run 98 for bird Acorn Woodpecker\n",
            "Done run 99 for bird Acorn Woodpecker\n"
          ]
        },
        {
          "output_type": "stream",
          "name": "stderr",
          "text": [
            "WARNING:rasterio._env:CPLE_NotSupported in driver GTiff does not support open option BLOCKYSIZE\n",
            "WARNING:rasterio._env:CPLE_NotSupported in driver GTiff does not support open option COMPRESS\n",
            "WARNING:rasterio._env:CPLE_NotSupported in driver GTiff does not support open option INTERLEAVE\n",
            "WARNING:rasterio._env:CPLE_NotSupported in driver GTiff does not support open option BLOCKYSIZE\n",
            "WARNING:rasterio._env:CPLE_NotSupported in driver GTiff does not support open option COMPRESS\n",
            "WARNING:rasterio._env:CPLE_NotSupported in driver GTiff does not support open option INTERLEAVE\n",
            "WARNING:rasterio._env:CPLE_NotSupported in driver GTiff does not support open option BLOCKYSIZE\n",
            "WARNING:rasterio._env:CPLE_NotSupported in driver GTiff does not support open option COMPRESS\n",
            "WARNING:rasterio._env:CPLE_NotSupported in driver GTiff does not support open option INTERLEAVE\n",
            "WARNING:rasterio._env:CPLE_NotSupported in driver GTiff does not support open option BLOCKYSIZE\n",
            "WARNING:rasterio._env:CPLE_NotSupported in driver GTiff does not support open option COMPRESS\n",
            "WARNING:rasterio._env:CPLE_NotSupported in driver GTiff does not support open option INTERLEAVE\n"
          ]
        },
        {
          "output_type": "stream",
          "name": "stdout",
          "text": [
            "Done run 0 for bird Acorn Woodpecker\n"
          ]
        },
        {
          "output_type": "stream",
          "name": "stderr",
          "text": [
            "WARNING:rasterio._env:CPLE_NotSupported in driver GTiff does not support open option BLOCKYSIZE\n",
            "WARNING:rasterio._env:CPLE_NotSupported in driver GTiff does not support open option COMPRESS\n",
            "WARNING:rasterio._env:CPLE_NotSupported in driver GTiff does not support open option INTERLEAVE\n",
            "WARNING:rasterio._env:CPLE_NotSupported in driver GTiff does not support open option BLOCKYSIZE\n",
            "WARNING:rasterio._env:CPLE_NotSupported in driver GTiff does not support open option COMPRESS\n",
            "WARNING:rasterio._env:CPLE_NotSupported in driver GTiff does not support open option INTERLEAVE\n"
          ]
        },
        {
          "output_type": "stream",
          "name": "stdout",
          "text": [
            "Done run 1 for bird Acorn Woodpecker\n"
          ]
        },
        {
          "output_type": "stream",
          "name": "stderr",
          "text": [
            "WARNING:rasterio._env:CPLE_NotSupported in driver GTiff does not support open option BLOCKYSIZE\n",
            "WARNING:rasterio._env:CPLE_NotSupported in driver GTiff does not support open option COMPRESS\n",
            "WARNING:rasterio._env:CPLE_NotSupported in driver GTiff does not support open option INTERLEAVE\n",
            "WARNING:rasterio._env:CPLE_NotSupported in driver GTiff does not support open option BLOCKYSIZE\n",
            "WARNING:rasterio._env:CPLE_NotSupported in driver GTiff does not support open option COMPRESS\n",
            "WARNING:rasterio._env:CPLE_NotSupported in driver GTiff does not support open option INTERLEAVE\n"
          ]
        },
        {
          "output_type": "stream",
          "name": "stdout",
          "text": [
            "Done run 2 for bird Acorn Woodpecker\n"
          ]
        },
        {
          "output_type": "stream",
          "name": "stderr",
          "text": [
            "WARNING:rasterio._env:CPLE_NotSupported in driver GTiff does not support open option BLOCKYSIZE\n",
            "WARNING:rasterio._env:CPLE_NotSupported in driver GTiff does not support open option COMPRESS\n",
            "WARNING:rasterio._env:CPLE_NotSupported in driver GTiff does not support open option INTERLEAVE\n",
            "WARNING:rasterio._env:CPLE_NotSupported in driver GTiff does not support open option BLOCKYSIZE\n",
            "WARNING:rasterio._env:CPLE_NotSupported in driver GTiff does not support open option COMPRESS\n",
            "WARNING:rasterio._env:CPLE_NotSupported in driver GTiff does not support open option INTERLEAVE\n"
          ]
        },
        {
          "output_type": "stream",
          "name": "stdout",
          "text": [
            "Done run 3 for bird Acorn Woodpecker\n"
          ]
        },
        {
          "output_type": "stream",
          "name": "stderr",
          "text": [
            "WARNING:rasterio._env:CPLE_NotSupported in driver GTiff does not support open option BLOCKYSIZE\n",
            "WARNING:rasterio._env:CPLE_NotSupported in driver GTiff does not support open option COMPRESS\n",
            "WARNING:rasterio._env:CPLE_NotSupported in driver GTiff does not support open option INTERLEAVE\n",
            "WARNING:rasterio._env:CPLE_NotSupported in driver GTiff does not support open option BLOCKYSIZE\n",
            "WARNING:rasterio._env:CPLE_NotSupported in driver GTiff does not support open option COMPRESS\n",
            "WARNING:rasterio._env:CPLE_NotSupported in driver GTiff does not support open option INTERLEAVE\n"
          ]
        },
        {
          "output_type": "stream",
          "name": "stdout",
          "text": [
            "Done run 4 for bird Acorn Woodpecker\n"
          ]
        },
        {
          "output_type": "stream",
          "name": "stderr",
          "text": [
            "WARNING:rasterio._env:CPLE_NotSupported in driver GTiff does not support open option BLOCKYSIZE\n",
            "WARNING:rasterio._env:CPLE_NotSupported in driver GTiff does not support open option COMPRESS\n",
            "WARNING:rasterio._env:CPLE_NotSupported in driver GTiff does not support open option INTERLEAVE\n",
            "WARNING:rasterio._env:CPLE_NotSupported in driver GTiff does not support open option BLOCKYSIZE\n",
            "WARNING:rasterio._env:CPLE_NotSupported in driver GTiff does not support open option COMPRESS\n",
            "WARNING:rasterio._env:CPLE_NotSupported in driver GTiff does not support open option INTERLEAVE\n"
          ]
        },
        {
          "output_type": "stream",
          "name": "stdout",
          "text": [
            "Done run 5 for bird Acorn Woodpecker\n"
          ]
        },
        {
          "output_type": "stream",
          "name": "stderr",
          "text": [
            "WARNING:rasterio._env:CPLE_NotSupported in driver GTiff does not support open option BLOCKYSIZE\n",
            "WARNING:rasterio._env:CPLE_NotSupported in driver GTiff does not support open option COMPRESS\n",
            "WARNING:rasterio._env:CPLE_NotSupported in driver GTiff does not support open option INTERLEAVE\n",
            "WARNING:rasterio._env:CPLE_NotSupported in driver GTiff does not support open option BLOCKYSIZE\n",
            "WARNING:rasterio._env:CPLE_NotSupported in driver GTiff does not support open option COMPRESS\n",
            "WARNING:rasterio._env:CPLE_NotSupported in driver GTiff does not support open option INTERLEAVE\n"
          ]
        },
        {
          "output_type": "stream",
          "name": "stdout",
          "text": [
            "Done run 6 for bird Acorn Woodpecker\n"
          ]
        },
        {
          "output_type": "stream",
          "name": "stderr",
          "text": [
            "WARNING:rasterio._env:CPLE_NotSupported in driver GTiff does not support open option BLOCKYSIZE\n",
            "WARNING:rasterio._env:CPLE_NotSupported in driver GTiff does not support open option COMPRESS\n",
            "WARNING:rasterio._env:CPLE_NotSupported in driver GTiff does not support open option INTERLEAVE\n",
            "WARNING:rasterio._env:CPLE_NotSupported in driver GTiff does not support open option BLOCKYSIZE\n",
            "WARNING:rasterio._env:CPLE_NotSupported in driver GTiff does not support open option COMPRESS\n",
            "WARNING:rasterio._env:CPLE_NotSupported in driver GTiff does not support open option INTERLEAVE\n"
          ]
        },
        {
          "output_type": "stream",
          "name": "stdout",
          "text": [
            "Done run 7 for bird Acorn Woodpecker\n"
          ]
        },
        {
          "output_type": "stream",
          "name": "stderr",
          "text": [
            "WARNING:rasterio._env:CPLE_NotSupported in driver GTiff does not support open option BLOCKYSIZE\n",
            "WARNING:rasterio._env:CPLE_NotSupported in driver GTiff does not support open option COMPRESS\n",
            "WARNING:rasterio._env:CPLE_NotSupported in driver GTiff does not support open option INTERLEAVE\n",
            "WARNING:rasterio._env:CPLE_NotSupported in driver GTiff does not support open option BLOCKYSIZE\n",
            "WARNING:rasterio._env:CPLE_NotSupported in driver GTiff does not support open option COMPRESS\n",
            "WARNING:rasterio._env:CPLE_NotSupported in driver GTiff does not support open option INTERLEAVE\n"
          ]
        },
        {
          "output_type": "stream",
          "name": "stdout",
          "text": [
            "Done run 8 for bird Acorn Woodpecker\n"
          ]
        },
        {
          "output_type": "stream",
          "name": "stderr",
          "text": [
            "WARNING:rasterio._env:CPLE_NotSupported in driver GTiff does not support open option BLOCKYSIZE\n",
            "WARNING:rasterio._env:CPLE_NotSupported in driver GTiff does not support open option COMPRESS\n",
            "WARNING:rasterio._env:CPLE_NotSupported in driver GTiff does not support open option INTERLEAVE\n",
            "WARNING:rasterio._env:CPLE_NotSupported in driver GTiff does not support open option BLOCKYSIZE\n",
            "WARNING:rasterio._env:CPLE_NotSupported in driver GTiff does not support open option COMPRESS\n",
            "WARNING:rasterio._env:CPLE_NotSupported in driver GTiff does not support open option INTERLEAVE\n"
          ]
        },
        {
          "output_type": "stream",
          "name": "stdout",
          "text": [
            "Done run 9 for bird Acorn Woodpecker\n"
          ]
        },
        {
          "output_type": "stream",
          "name": "stderr",
          "text": [
            "WARNING:rasterio._env:CPLE_NotSupported in driver GTiff does not support open option BLOCKYSIZE\n",
            "WARNING:rasterio._env:CPLE_NotSupported in driver GTiff does not support open option COMPRESS\n",
            "WARNING:rasterio._env:CPLE_NotSupported in driver GTiff does not support open option INTERLEAVE\n",
            "WARNING:rasterio._env:CPLE_NotSupported in driver GTiff does not support open option BLOCKYSIZE\n",
            "WARNING:rasterio._env:CPLE_NotSupported in driver GTiff does not support open option COMPRESS\n",
            "WARNING:rasterio._env:CPLE_NotSupported in driver GTiff does not support open option INTERLEAVE\n"
          ]
        },
        {
          "output_type": "stream",
          "name": "stdout",
          "text": [
            "Done run 10 for bird Acorn Woodpecker\n"
          ]
        },
        {
          "output_type": "stream",
          "name": "stderr",
          "text": [
            "WARNING:rasterio._env:CPLE_NotSupported in driver GTiff does not support open option BLOCKYSIZE\n",
            "WARNING:rasterio._env:CPLE_NotSupported in driver GTiff does not support open option COMPRESS\n",
            "WARNING:rasterio._env:CPLE_NotSupported in driver GTiff does not support open option INTERLEAVE\n",
            "WARNING:rasterio._env:CPLE_NotSupported in driver GTiff does not support open option BLOCKYSIZE\n",
            "WARNING:rasterio._env:CPLE_NotSupported in driver GTiff does not support open option COMPRESS\n",
            "WARNING:rasterio._env:CPLE_NotSupported in driver GTiff does not support open option INTERLEAVE\n"
          ]
        },
        {
          "output_type": "stream",
          "name": "stdout",
          "text": [
            "Done run 11 for bird Acorn Woodpecker\n"
          ]
        },
        {
          "output_type": "stream",
          "name": "stderr",
          "text": [
            "WARNING:rasterio._env:CPLE_NotSupported in driver GTiff does not support open option BLOCKYSIZE\n",
            "WARNING:rasterio._env:CPLE_NotSupported in driver GTiff does not support open option COMPRESS\n",
            "WARNING:rasterio._env:CPLE_NotSupported in driver GTiff does not support open option INTERLEAVE\n",
            "WARNING:rasterio._env:CPLE_NotSupported in driver GTiff does not support open option BLOCKYSIZE\n",
            "WARNING:rasterio._env:CPLE_NotSupported in driver GTiff does not support open option COMPRESS\n",
            "WARNING:rasterio._env:CPLE_NotSupported in driver GTiff does not support open option INTERLEAVE\n"
          ]
        },
        {
          "output_type": "stream",
          "name": "stdout",
          "text": [
            "Done run 12 for bird Acorn Woodpecker\n"
          ]
        },
        {
          "output_type": "stream",
          "name": "stderr",
          "text": [
            "WARNING:rasterio._env:CPLE_NotSupported in driver GTiff does not support open option BLOCKYSIZE\n",
            "WARNING:rasterio._env:CPLE_NotSupported in driver GTiff does not support open option COMPRESS\n",
            "WARNING:rasterio._env:CPLE_NotSupported in driver GTiff does not support open option INTERLEAVE\n",
            "WARNING:rasterio._env:CPLE_NotSupported in driver GTiff does not support open option BLOCKYSIZE\n",
            "WARNING:rasterio._env:CPLE_NotSupported in driver GTiff does not support open option COMPRESS\n",
            "WARNING:rasterio._env:CPLE_NotSupported in driver GTiff does not support open option INTERLEAVE\n"
          ]
        },
        {
          "output_type": "stream",
          "name": "stdout",
          "text": [
            "Done run 13 for bird Acorn Woodpecker\n"
          ]
        },
        {
          "output_type": "stream",
          "name": "stderr",
          "text": [
            "WARNING:rasterio._env:CPLE_NotSupported in driver GTiff does not support open option BLOCKYSIZE\n",
            "WARNING:rasterio._env:CPLE_NotSupported in driver GTiff does not support open option COMPRESS\n",
            "WARNING:rasterio._env:CPLE_NotSupported in driver GTiff does not support open option INTERLEAVE\n",
            "WARNING:rasterio._env:CPLE_NotSupported in driver GTiff does not support open option BLOCKYSIZE\n",
            "WARNING:rasterio._env:CPLE_NotSupported in driver GTiff does not support open option COMPRESS\n",
            "WARNING:rasterio._env:CPLE_NotSupported in driver GTiff does not support open option INTERLEAVE\n"
          ]
        },
        {
          "output_type": "stream",
          "name": "stdout",
          "text": [
            "Done run 14 for bird Acorn Woodpecker\n"
          ]
        },
        {
          "output_type": "stream",
          "name": "stderr",
          "text": [
            "WARNING:rasterio._env:CPLE_NotSupported in driver GTiff does not support open option BLOCKYSIZE\n",
            "WARNING:rasterio._env:CPLE_NotSupported in driver GTiff does not support open option COMPRESS\n",
            "WARNING:rasterio._env:CPLE_NotSupported in driver GTiff does not support open option INTERLEAVE\n",
            "WARNING:rasterio._env:CPLE_NotSupported in driver GTiff does not support open option BLOCKYSIZE\n",
            "WARNING:rasterio._env:CPLE_NotSupported in driver GTiff does not support open option COMPRESS\n",
            "WARNING:rasterio._env:CPLE_NotSupported in driver GTiff does not support open option INTERLEAVE\n"
          ]
        },
        {
          "output_type": "stream",
          "name": "stdout",
          "text": [
            "Done run 15 for bird Acorn Woodpecker\n"
          ]
        },
        {
          "output_type": "stream",
          "name": "stderr",
          "text": [
            "WARNING:rasterio._env:CPLE_NotSupported in driver GTiff does not support open option BLOCKYSIZE\n",
            "WARNING:rasterio._env:CPLE_NotSupported in driver GTiff does not support open option COMPRESS\n",
            "WARNING:rasterio._env:CPLE_NotSupported in driver GTiff does not support open option INTERLEAVE\n",
            "WARNING:rasterio._env:CPLE_NotSupported in driver GTiff does not support open option BLOCKYSIZE\n",
            "WARNING:rasterio._env:CPLE_NotSupported in driver GTiff does not support open option COMPRESS\n",
            "WARNING:rasterio._env:CPLE_NotSupported in driver GTiff does not support open option INTERLEAVE\n"
          ]
        },
        {
          "output_type": "stream",
          "name": "stdout",
          "text": [
            "Done run 16 for bird Acorn Woodpecker\n"
          ]
        },
        {
          "output_type": "stream",
          "name": "stderr",
          "text": [
            "WARNING:rasterio._env:CPLE_NotSupported in driver GTiff does not support open option BLOCKYSIZE\n",
            "WARNING:rasterio._env:CPLE_NotSupported in driver GTiff does not support open option COMPRESS\n",
            "WARNING:rasterio._env:CPLE_NotSupported in driver GTiff does not support open option INTERLEAVE\n",
            "WARNING:rasterio._env:CPLE_NotSupported in driver GTiff does not support open option BLOCKYSIZE\n",
            "WARNING:rasterio._env:CPLE_NotSupported in driver GTiff does not support open option COMPRESS\n",
            "WARNING:rasterio._env:CPLE_NotSupported in driver GTiff does not support open option INTERLEAVE\n"
          ]
        },
        {
          "output_type": "stream",
          "name": "stdout",
          "text": [
            "Done run 17 for bird Acorn Woodpecker\n"
          ]
        },
        {
          "output_type": "stream",
          "name": "stderr",
          "text": [
            "WARNING:rasterio._env:CPLE_NotSupported in driver GTiff does not support open option BLOCKYSIZE\n",
            "WARNING:rasterio._env:CPLE_NotSupported in driver GTiff does not support open option COMPRESS\n",
            "WARNING:rasterio._env:CPLE_NotSupported in driver GTiff does not support open option INTERLEAVE\n",
            "WARNING:rasterio._env:CPLE_NotSupported in driver GTiff does not support open option BLOCKYSIZE\n",
            "WARNING:rasterio._env:CPLE_NotSupported in driver GTiff does not support open option COMPRESS\n",
            "WARNING:rasterio._env:CPLE_NotSupported in driver GTiff does not support open option INTERLEAVE\n"
          ]
        },
        {
          "output_type": "stream",
          "name": "stdout",
          "text": [
            "Done run 18 for bird Acorn Woodpecker\n"
          ]
        },
        {
          "output_type": "stream",
          "name": "stderr",
          "text": [
            "WARNING:rasterio._env:CPLE_NotSupported in driver GTiff does not support open option BLOCKYSIZE\n",
            "WARNING:rasterio._env:CPLE_NotSupported in driver GTiff does not support open option COMPRESS\n",
            "WARNING:rasterio._env:CPLE_NotSupported in driver GTiff does not support open option INTERLEAVE\n",
            "WARNING:rasterio._env:CPLE_NotSupported in driver GTiff does not support open option BLOCKYSIZE\n",
            "WARNING:rasterio._env:CPLE_NotSupported in driver GTiff does not support open option COMPRESS\n",
            "WARNING:rasterio._env:CPLE_NotSupported in driver GTiff does not support open option INTERLEAVE\n"
          ]
        },
        {
          "output_type": "stream",
          "name": "stdout",
          "text": [
            "Done run 19 for bird Acorn Woodpecker\n"
          ]
        },
        {
          "output_type": "stream",
          "name": "stderr",
          "text": [
            "WARNING:rasterio._env:CPLE_NotSupported in driver GTiff does not support open option BLOCKYSIZE\n",
            "WARNING:rasterio._env:CPLE_NotSupported in driver GTiff does not support open option COMPRESS\n",
            "WARNING:rasterio._env:CPLE_NotSupported in driver GTiff does not support open option INTERLEAVE\n",
            "WARNING:rasterio._env:CPLE_NotSupported in driver GTiff does not support open option BLOCKYSIZE\n",
            "WARNING:rasterio._env:CPLE_NotSupported in driver GTiff does not support open option COMPRESS\n",
            "WARNING:rasterio._env:CPLE_NotSupported in driver GTiff does not support open option INTERLEAVE\n"
          ]
        },
        {
          "output_type": "stream",
          "name": "stdout",
          "text": [
            "Done run 20 for bird Acorn Woodpecker\n"
          ]
        },
        {
          "output_type": "stream",
          "name": "stderr",
          "text": [
            "WARNING:rasterio._env:CPLE_NotSupported in driver GTiff does not support open option BLOCKYSIZE\n",
            "WARNING:rasterio._env:CPLE_NotSupported in driver GTiff does not support open option COMPRESS\n",
            "WARNING:rasterio._env:CPLE_NotSupported in driver GTiff does not support open option INTERLEAVE\n",
            "WARNING:rasterio._env:CPLE_NotSupported in driver GTiff does not support open option BLOCKYSIZE\n",
            "WARNING:rasterio._env:CPLE_NotSupported in driver GTiff does not support open option COMPRESS\n",
            "WARNING:rasterio._env:CPLE_NotSupported in driver GTiff does not support open option INTERLEAVE\n"
          ]
        },
        {
          "output_type": "stream",
          "name": "stdout",
          "text": [
            "Done run 21 for bird Acorn Woodpecker\n"
          ]
        },
        {
          "output_type": "stream",
          "name": "stderr",
          "text": [
            "WARNING:rasterio._env:CPLE_NotSupported in driver GTiff does not support open option BLOCKYSIZE\n",
            "WARNING:rasterio._env:CPLE_NotSupported in driver GTiff does not support open option COMPRESS\n",
            "WARNING:rasterio._env:CPLE_NotSupported in driver GTiff does not support open option INTERLEAVE\n",
            "WARNING:rasterio._env:CPLE_NotSupported in driver GTiff does not support open option BLOCKYSIZE\n",
            "WARNING:rasterio._env:CPLE_NotSupported in driver GTiff does not support open option COMPRESS\n",
            "WARNING:rasterio._env:CPLE_NotSupported in driver GTiff does not support open option INTERLEAVE\n"
          ]
        },
        {
          "output_type": "stream",
          "name": "stdout",
          "text": [
            "Done run 22 for bird Acorn Woodpecker\n"
          ]
        },
        {
          "output_type": "stream",
          "name": "stderr",
          "text": [
            "WARNING:rasterio._env:CPLE_NotSupported in driver GTiff does not support open option BLOCKYSIZE\n",
            "WARNING:rasterio._env:CPLE_NotSupported in driver GTiff does not support open option COMPRESS\n",
            "WARNING:rasterio._env:CPLE_NotSupported in driver GTiff does not support open option INTERLEAVE\n",
            "WARNING:rasterio._env:CPLE_NotSupported in driver GTiff does not support open option BLOCKYSIZE\n",
            "WARNING:rasterio._env:CPLE_NotSupported in driver GTiff does not support open option COMPRESS\n",
            "WARNING:rasterio._env:CPLE_NotSupported in driver GTiff does not support open option INTERLEAVE\n"
          ]
        },
        {
          "output_type": "stream",
          "name": "stdout",
          "text": [
            "Done run 23 for bird Acorn Woodpecker\n"
          ]
        },
        {
          "output_type": "stream",
          "name": "stderr",
          "text": [
            "WARNING:rasterio._env:CPLE_NotSupported in driver GTiff does not support open option BLOCKYSIZE\n",
            "WARNING:rasterio._env:CPLE_NotSupported in driver GTiff does not support open option COMPRESS\n",
            "WARNING:rasterio._env:CPLE_NotSupported in driver GTiff does not support open option INTERLEAVE\n",
            "WARNING:rasterio._env:CPLE_NotSupported in driver GTiff does not support open option BLOCKYSIZE\n",
            "WARNING:rasterio._env:CPLE_NotSupported in driver GTiff does not support open option COMPRESS\n",
            "WARNING:rasterio._env:CPLE_NotSupported in driver GTiff does not support open option INTERLEAVE\n"
          ]
        },
        {
          "output_type": "stream",
          "name": "stdout",
          "text": [
            "Done run 24 for bird Acorn Woodpecker\n"
          ]
        },
        {
          "output_type": "stream",
          "name": "stderr",
          "text": [
            "WARNING:rasterio._env:CPLE_NotSupported in driver GTiff does not support open option BLOCKYSIZE\n",
            "WARNING:rasterio._env:CPLE_NotSupported in driver GTiff does not support open option COMPRESS\n",
            "WARNING:rasterio._env:CPLE_NotSupported in driver GTiff does not support open option INTERLEAVE\n",
            "WARNING:rasterio._env:CPLE_NotSupported in driver GTiff does not support open option BLOCKYSIZE\n",
            "WARNING:rasterio._env:CPLE_NotSupported in driver GTiff does not support open option COMPRESS\n",
            "WARNING:rasterio._env:CPLE_NotSupported in driver GTiff does not support open option INTERLEAVE\n"
          ]
        },
        {
          "output_type": "stream",
          "name": "stdout",
          "text": [
            "Done run 25 for bird Acorn Woodpecker\n"
          ]
        },
        {
          "output_type": "stream",
          "name": "stderr",
          "text": [
            "WARNING:rasterio._env:CPLE_NotSupported in driver GTiff does not support open option BLOCKYSIZE\n",
            "WARNING:rasterio._env:CPLE_NotSupported in driver GTiff does not support open option COMPRESS\n",
            "WARNING:rasterio._env:CPLE_NotSupported in driver GTiff does not support open option INTERLEAVE\n",
            "WARNING:rasterio._env:CPLE_NotSupported in driver GTiff does not support open option BLOCKYSIZE\n",
            "WARNING:rasterio._env:CPLE_NotSupported in driver GTiff does not support open option COMPRESS\n",
            "WARNING:rasterio._env:CPLE_NotSupported in driver GTiff does not support open option INTERLEAVE\n"
          ]
        },
        {
          "output_type": "stream",
          "name": "stdout",
          "text": [
            "Done run 26 for bird Acorn Woodpecker\n"
          ]
        },
        {
          "output_type": "stream",
          "name": "stderr",
          "text": [
            "WARNING:rasterio._env:CPLE_NotSupported in driver GTiff does not support open option BLOCKYSIZE\n",
            "WARNING:rasterio._env:CPLE_NotSupported in driver GTiff does not support open option COMPRESS\n",
            "WARNING:rasterio._env:CPLE_NotSupported in driver GTiff does not support open option INTERLEAVE\n",
            "WARNING:rasterio._env:CPLE_NotSupported in driver GTiff does not support open option BLOCKYSIZE\n",
            "WARNING:rasterio._env:CPLE_NotSupported in driver GTiff does not support open option COMPRESS\n",
            "WARNING:rasterio._env:CPLE_NotSupported in driver GTiff does not support open option INTERLEAVE\n"
          ]
        },
        {
          "output_type": "stream",
          "name": "stdout",
          "text": [
            "Done run 27 for bird Acorn Woodpecker\n"
          ]
        },
        {
          "output_type": "stream",
          "name": "stderr",
          "text": [
            "WARNING:rasterio._env:CPLE_NotSupported in driver GTiff does not support open option BLOCKYSIZE\n",
            "WARNING:rasterio._env:CPLE_NotSupported in driver GTiff does not support open option COMPRESS\n",
            "WARNING:rasterio._env:CPLE_NotSupported in driver GTiff does not support open option INTERLEAVE\n",
            "WARNING:rasterio._env:CPLE_NotSupported in driver GTiff does not support open option BLOCKYSIZE\n",
            "WARNING:rasterio._env:CPLE_NotSupported in driver GTiff does not support open option COMPRESS\n",
            "WARNING:rasterio._env:CPLE_NotSupported in driver GTiff does not support open option INTERLEAVE\n"
          ]
        },
        {
          "output_type": "stream",
          "name": "stdout",
          "text": [
            "Done run 28 for bird Acorn Woodpecker\n"
          ]
        },
        {
          "output_type": "stream",
          "name": "stderr",
          "text": [
            "WARNING:rasterio._env:CPLE_NotSupported in driver GTiff does not support open option BLOCKYSIZE\n",
            "WARNING:rasterio._env:CPLE_NotSupported in driver GTiff does not support open option COMPRESS\n",
            "WARNING:rasterio._env:CPLE_NotSupported in driver GTiff does not support open option INTERLEAVE\n",
            "WARNING:rasterio._env:CPLE_NotSupported in driver GTiff does not support open option BLOCKYSIZE\n",
            "WARNING:rasterio._env:CPLE_NotSupported in driver GTiff does not support open option COMPRESS\n",
            "WARNING:rasterio._env:CPLE_NotSupported in driver GTiff does not support open option INTERLEAVE\n"
          ]
        },
        {
          "output_type": "stream",
          "name": "stdout",
          "text": [
            "Done run 29 for bird Acorn Woodpecker\n"
          ]
        },
        {
          "output_type": "stream",
          "name": "stderr",
          "text": [
            "WARNING:rasterio._env:CPLE_NotSupported in driver GTiff does not support open option BLOCKYSIZE\n",
            "WARNING:rasterio._env:CPLE_NotSupported in driver GTiff does not support open option COMPRESS\n",
            "WARNING:rasterio._env:CPLE_NotSupported in driver GTiff does not support open option INTERLEAVE\n",
            "WARNING:rasterio._env:CPLE_NotSupported in driver GTiff does not support open option BLOCKYSIZE\n",
            "WARNING:rasterio._env:CPLE_NotSupported in driver GTiff does not support open option COMPRESS\n",
            "WARNING:rasterio._env:CPLE_NotSupported in driver GTiff does not support open option INTERLEAVE\n"
          ]
        },
        {
          "output_type": "stream",
          "name": "stdout",
          "text": [
            "Done run 30 for bird Acorn Woodpecker\n"
          ]
        },
        {
          "output_type": "stream",
          "name": "stderr",
          "text": [
            "WARNING:rasterio._env:CPLE_NotSupported in driver GTiff does not support open option BLOCKYSIZE\n",
            "WARNING:rasterio._env:CPLE_NotSupported in driver GTiff does not support open option COMPRESS\n",
            "WARNING:rasterio._env:CPLE_NotSupported in driver GTiff does not support open option INTERLEAVE\n",
            "WARNING:rasterio._env:CPLE_NotSupported in driver GTiff does not support open option BLOCKYSIZE\n",
            "WARNING:rasterio._env:CPLE_NotSupported in driver GTiff does not support open option COMPRESS\n",
            "WARNING:rasterio._env:CPLE_NotSupported in driver GTiff does not support open option INTERLEAVE\n"
          ]
        },
        {
          "output_type": "stream",
          "name": "stdout",
          "text": [
            "Done run 31 for bird Acorn Woodpecker\n"
          ]
        },
        {
          "output_type": "stream",
          "name": "stderr",
          "text": [
            "WARNING:rasterio._env:CPLE_NotSupported in driver GTiff does not support open option BLOCKYSIZE\n",
            "WARNING:rasterio._env:CPLE_NotSupported in driver GTiff does not support open option COMPRESS\n",
            "WARNING:rasterio._env:CPLE_NotSupported in driver GTiff does not support open option INTERLEAVE\n",
            "WARNING:rasterio._env:CPLE_NotSupported in driver GTiff does not support open option BLOCKYSIZE\n",
            "WARNING:rasterio._env:CPLE_NotSupported in driver GTiff does not support open option COMPRESS\n",
            "WARNING:rasterio._env:CPLE_NotSupported in driver GTiff does not support open option INTERLEAVE\n"
          ]
        },
        {
          "output_type": "stream",
          "name": "stdout",
          "text": [
            "Done run 32 for bird Acorn Woodpecker\n"
          ]
        },
        {
          "output_type": "stream",
          "name": "stderr",
          "text": [
            "WARNING:rasterio._env:CPLE_NotSupported in driver GTiff does not support open option BLOCKYSIZE\n",
            "WARNING:rasterio._env:CPLE_NotSupported in driver GTiff does not support open option COMPRESS\n",
            "WARNING:rasterio._env:CPLE_NotSupported in driver GTiff does not support open option INTERLEAVE\n",
            "WARNING:rasterio._env:CPLE_NotSupported in driver GTiff does not support open option BLOCKYSIZE\n",
            "WARNING:rasterio._env:CPLE_NotSupported in driver GTiff does not support open option COMPRESS\n",
            "WARNING:rasterio._env:CPLE_NotSupported in driver GTiff does not support open option INTERLEAVE\n"
          ]
        },
        {
          "output_type": "stream",
          "name": "stdout",
          "text": [
            "Done run 33 for bird Acorn Woodpecker\n"
          ]
        },
        {
          "output_type": "stream",
          "name": "stderr",
          "text": [
            "WARNING:rasterio._env:CPLE_NotSupported in driver GTiff does not support open option BLOCKYSIZE\n",
            "WARNING:rasterio._env:CPLE_NotSupported in driver GTiff does not support open option COMPRESS\n",
            "WARNING:rasterio._env:CPLE_NotSupported in driver GTiff does not support open option INTERLEAVE\n",
            "WARNING:rasterio._env:CPLE_NotSupported in driver GTiff does not support open option BLOCKYSIZE\n",
            "WARNING:rasterio._env:CPLE_NotSupported in driver GTiff does not support open option COMPRESS\n",
            "WARNING:rasterio._env:CPLE_NotSupported in driver GTiff does not support open option INTERLEAVE\n"
          ]
        },
        {
          "output_type": "stream",
          "name": "stdout",
          "text": [
            "Done run 34 for bird Acorn Woodpecker\n"
          ]
        },
        {
          "output_type": "stream",
          "name": "stderr",
          "text": [
            "WARNING:rasterio._env:CPLE_NotSupported in driver GTiff does not support open option BLOCKYSIZE\n",
            "WARNING:rasterio._env:CPLE_NotSupported in driver GTiff does not support open option COMPRESS\n",
            "WARNING:rasterio._env:CPLE_NotSupported in driver GTiff does not support open option INTERLEAVE\n",
            "WARNING:rasterio._env:CPLE_NotSupported in driver GTiff does not support open option BLOCKYSIZE\n",
            "WARNING:rasterio._env:CPLE_NotSupported in driver GTiff does not support open option COMPRESS\n",
            "WARNING:rasterio._env:CPLE_NotSupported in driver GTiff does not support open option INTERLEAVE\n"
          ]
        },
        {
          "output_type": "stream",
          "name": "stdout",
          "text": [
            "Done run 35 for bird Acorn Woodpecker\n"
          ]
        },
        {
          "output_type": "stream",
          "name": "stderr",
          "text": [
            "WARNING:rasterio._env:CPLE_NotSupported in driver GTiff does not support open option BLOCKYSIZE\n",
            "WARNING:rasterio._env:CPLE_NotSupported in driver GTiff does not support open option COMPRESS\n",
            "WARNING:rasterio._env:CPLE_NotSupported in driver GTiff does not support open option INTERLEAVE\n",
            "WARNING:rasterio._env:CPLE_NotSupported in driver GTiff does not support open option BLOCKYSIZE\n",
            "WARNING:rasterio._env:CPLE_NotSupported in driver GTiff does not support open option COMPRESS\n",
            "WARNING:rasterio._env:CPLE_NotSupported in driver GTiff does not support open option INTERLEAVE\n"
          ]
        },
        {
          "output_type": "stream",
          "name": "stdout",
          "text": [
            "Done run 36 for bird Acorn Woodpecker\n"
          ]
        },
        {
          "output_type": "stream",
          "name": "stderr",
          "text": [
            "WARNING:rasterio._env:CPLE_NotSupported in driver GTiff does not support open option BLOCKYSIZE\n",
            "WARNING:rasterio._env:CPLE_NotSupported in driver GTiff does not support open option COMPRESS\n",
            "WARNING:rasterio._env:CPLE_NotSupported in driver GTiff does not support open option INTERLEAVE\n",
            "WARNING:rasterio._env:CPLE_NotSupported in driver GTiff does not support open option BLOCKYSIZE\n",
            "WARNING:rasterio._env:CPLE_NotSupported in driver GTiff does not support open option COMPRESS\n",
            "WARNING:rasterio._env:CPLE_NotSupported in driver GTiff does not support open option INTERLEAVE\n"
          ]
        },
        {
          "output_type": "stream",
          "name": "stdout",
          "text": [
            "Done run 37 for bird Acorn Woodpecker\n"
          ]
        },
        {
          "output_type": "stream",
          "name": "stderr",
          "text": [
            "WARNING:rasterio._env:CPLE_NotSupported in driver GTiff does not support open option BLOCKYSIZE\n",
            "WARNING:rasterio._env:CPLE_NotSupported in driver GTiff does not support open option COMPRESS\n",
            "WARNING:rasterio._env:CPLE_NotSupported in driver GTiff does not support open option INTERLEAVE\n",
            "WARNING:rasterio._env:CPLE_NotSupported in driver GTiff does not support open option BLOCKYSIZE\n",
            "WARNING:rasterio._env:CPLE_NotSupported in driver GTiff does not support open option COMPRESS\n",
            "WARNING:rasterio._env:CPLE_NotSupported in driver GTiff does not support open option INTERLEAVE\n"
          ]
        },
        {
          "output_type": "stream",
          "name": "stdout",
          "text": [
            "Done run 38 for bird Acorn Woodpecker\n"
          ]
        },
        {
          "output_type": "stream",
          "name": "stderr",
          "text": [
            "WARNING:rasterio._env:CPLE_NotSupported in driver GTiff does not support open option BLOCKYSIZE\n",
            "WARNING:rasterio._env:CPLE_NotSupported in driver GTiff does not support open option COMPRESS\n",
            "WARNING:rasterio._env:CPLE_NotSupported in driver GTiff does not support open option INTERLEAVE\n",
            "WARNING:rasterio._env:CPLE_NotSupported in driver GTiff does not support open option BLOCKYSIZE\n",
            "WARNING:rasterio._env:CPLE_NotSupported in driver GTiff does not support open option COMPRESS\n",
            "WARNING:rasterio._env:CPLE_NotSupported in driver GTiff does not support open option INTERLEAVE\n"
          ]
        },
        {
          "output_type": "stream",
          "name": "stdout",
          "text": [
            "Done run 39 for bird Acorn Woodpecker\n"
          ]
        },
        {
          "output_type": "stream",
          "name": "stderr",
          "text": [
            "WARNING:rasterio._env:CPLE_NotSupported in driver GTiff does not support open option BLOCKYSIZE\n",
            "WARNING:rasterio._env:CPLE_NotSupported in driver GTiff does not support open option COMPRESS\n",
            "WARNING:rasterio._env:CPLE_NotSupported in driver GTiff does not support open option INTERLEAVE\n",
            "WARNING:rasterio._env:CPLE_NotSupported in driver GTiff does not support open option BLOCKYSIZE\n",
            "WARNING:rasterio._env:CPLE_NotSupported in driver GTiff does not support open option COMPRESS\n",
            "WARNING:rasterio._env:CPLE_NotSupported in driver GTiff does not support open option INTERLEAVE\n"
          ]
        },
        {
          "output_type": "stream",
          "name": "stdout",
          "text": [
            "Done run 40 for bird Acorn Woodpecker\n"
          ]
        },
        {
          "output_type": "stream",
          "name": "stderr",
          "text": [
            "WARNING:rasterio._env:CPLE_NotSupported in driver GTiff does not support open option BLOCKYSIZE\n",
            "WARNING:rasterio._env:CPLE_NotSupported in driver GTiff does not support open option COMPRESS\n",
            "WARNING:rasterio._env:CPLE_NotSupported in driver GTiff does not support open option INTERLEAVE\n",
            "WARNING:rasterio._env:CPLE_NotSupported in driver GTiff does not support open option BLOCKYSIZE\n",
            "WARNING:rasterio._env:CPLE_NotSupported in driver GTiff does not support open option COMPRESS\n",
            "WARNING:rasterio._env:CPLE_NotSupported in driver GTiff does not support open option INTERLEAVE\n"
          ]
        },
        {
          "output_type": "stream",
          "name": "stdout",
          "text": [
            "Done run 41 for bird Acorn Woodpecker\n"
          ]
        },
        {
          "output_type": "stream",
          "name": "stderr",
          "text": [
            "WARNING:rasterio._env:CPLE_NotSupported in driver GTiff does not support open option BLOCKYSIZE\n",
            "WARNING:rasterio._env:CPLE_NotSupported in driver GTiff does not support open option COMPRESS\n",
            "WARNING:rasterio._env:CPLE_NotSupported in driver GTiff does not support open option INTERLEAVE\n",
            "WARNING:rasterio._env:CPLE_NotSupported in driver GTiff does not support open option BLOCKYSIZE\n",
            "WARNING:rasterio._env:CPLE_NotSupported in driver GTiff does not support open option COMPRESS\n",
            "WARNING:rasterio._env:CPLE_NotSupported in driver GTiff does not support open option INTERLEAVE\n"
          ]
        },
        {
          "output_type": "stream",
          "name": "stdout",
          "text": [
            "Done run 42 for bird Acorn Woodpecker\n"
          ]
        },
        {
          "output_type": "stream",
          "name": "stderr",
          "text": [
            "WARNING:rasterio._env:CPLE_NotSupported in driver GTiff does not support open option BLOCKYSIZE\n",
            "WARNING:rasterio._env:CPLE_NotSupported in driver GTiff does not support open option COMPRESS\n",
            "WARNING:rasterio._env:CPLE_NotSupported in driver GTiff does not support open option INTERLEAVE\n",
            "WARNING:rasterio._env:CPLE_NotSupported in driver GTiff does not support open option BLOCKYSIZE\n",
            "WARNING:rasterio._env:CPLE_NotSupported in driver GTiff does not support open option COMPRESS\n",
            "WARNING:rasterio._env:CPLE_NotSupported in driver GTiff does not support open option INTERLEAVE\n"
          ]
        },
        {
          "output_type": "stream",
          "name": "stdout",
          "text": [
            "Done run 43 for bird Acorn Woodpecker\n"
          ]
        },
        {
          "output_type": "stream",
          "name": "stderr",
          "text": [
            "WARNING:rasterio._env:CPLE_NotSupported in driver GTiff does not support open option BLOCKYSIZE\n",
            "WARNING:rasterio._env:CPLE_NotSupported in driver GTiff does not support open option COMPRESS\n",
            "WARNING:rasterio._env:CPLE_NotSupported in driver GTiff does not support open option INTERLEAVE\n",
            "WARNING:rasterio._env:CPLE_NotSupported in driver GTiff does not support open option BLOCKYSIZE\n",
            "WARNING:rasterio._env:CPLE_NotSupported in driver GTiff does not support open option COMPRESS\n",
            "WARNING:rasterio._env:CPLE_NotSupported in driver GTiff does not support open option INTERLEAVE\n"
          ]
        },
        {
          "output_type": "stream",
          "name": "stdout",
          "text": [
            "Done run 44 for bird Acorn Woodpecker\n"
          ]
        },
        {
          "output_type": "stream",
          "name": "stderr",
          "text": [
            "WARNING:rasterio._env:CPLE_NotSupported in driver GTiff does not support open option BLOCKYSIZE\n",
            "WARNING:rasterio._env:CPLE_NotSupported in driver GTiff does not support open option COMPRESS\n",
            "WARNING:rasterio._env:CPLE_NotSupported in driver GTiff does not support open option INTERLEAVE\n",
            "WARNING:rasterio._env:CPLE_NotSupported in driver GTiff does not support open option BLOCKYSIZE\n",
            "WARNING:rasterio._env:CPLE_NotSupported in driver GTiff does not support open option COMPRESS\n",
            "WARNING:rasterio._env:CPLE_NotSupported in driver GTiff does not support open option INTERLEAVE\n"
          ]
        },
        {
          "output_type": "stream",
          "name": "stdout",
          "text": [
            "Done run 45 for bird Acorn Woodpecker\n"
          ]
        },
        {
          "output_type": "stream",
          "name": "stderr",
          "text": [
            "WARNING:rasterio._env:CPLE_NotSupported in driver GTiff does not support open option BLOCKYSIZE\n",
            "WARNING:rasterio._env:CPLE_NotSupported in driver GTiff does not support open option COMPRESS\n",
            "WARNING:rasterio._env:CPLE_NotSupported in driver GTiff does not support open option INTERLEAVE\n",
            "WARNING:rasterio._env:CPLE_NotSupported in driver GTiff does not support open option BLOCKYSIZE\n",
            "WARNING:rasterio._env:CPLE_NotSupported in driver GTiff does not support open option COMPRESS\n",
            "WARNING:rasterio._env:CPLE_NotSupported in driver GTiff does not support open option INTERLEAVE\n"
          ]
        },
        {
          "output_type": "stream",
          "name": "stdout",
          "text": [
            "Done run 46 for bird Acorn Woodpecker\n"
          ]
        },
        {
          "output_type": "stream",
          "name": "stderr",
          "text": [
            "WARNING:rasterio._env:CPLE_NotSupported in driver GTiff does not support open option BLOCKYSIZE\n",
            "WARNING:rasterio._env:CPLE_NotSupported in driver GTiff does not support open option COMPRESS\n",
            "WARNING:rasterio._env:CPLE_NotSupported in driver GTiff does not support open option INTERLEAVE\n",
            "WARNING:rasterio._env:CPLE_NotSupported in driver GTiff does not support open option BLOCKYSIZE\n",
            "WARNING:rasterio._env:CPLE_NotSupported in driver GTiff does not support open option COMPRESS\n",
            "WARNING:rasterio._env:CPLE_NotSupported in driver GTiff does not support open option INTERLEAVE\n"
          ]
        },
        {
          "output_type": "stream",
          "name": "stdout",
          "text": [
            "Done run 47 for bird Acorn Woodpecker\n"
          ]
        },
        {
          "output_type": "stream",
          "name": "stderr",
          "text": [
            "WARNING:rasterio._env:CPLE_NotSupported in driver GTiff does not support open option BLOCKYSIZE\n",
            "WARNING:rasterio._env:CPLE_NotSupported in driver GTiff does not support open option COMPRESS\n",
            "WARNING:rasterio._env:CPLE_NotSupported in driver GTiff does not support open option INTERLEAVE\n",
            "WARNING:rasterio._env:CPLE_NotSupported in driver GTiff does not support open option BLOCKYSIZE\n",
            "WARNING:rasterio._env:CPLE_NotSupported in driver GTiff does not support open option COMPRESS\n",
            "WARNING:rasterio._env:CPLE_NotSupported in driver GTiff does not support open option INTERLEAVE\n"
          ]
        },
        {
          "output_type": "stream",
          "name": "stdout",
          "text": [
            "Done run 48 for bird Acorn Woodpecker\n"
          ]
        },
        {
          "output_type": "stream",
          "name": "stderr",
          "text": [
            "WARNING:rasterio._env:CPLE_NotSupported in driver GTiff does not support open option BLOCKYSIZE\n",
            "WARNING:rasterio._env:CPLE_NotSupported in driver GTiff does not support open option COMPRESS\n",
            "WARNING:rasterio._env:CPLE_NotSupported in driver GTiff does not support open option INTERLEAVE\n",
            "WARNING:rasterio._env:CPLE_NotSupported in driver GTiff does not support open option BLOCKYSIZE\n",
            "WARNING:rasterio._env:CPLE_NotSupported in driver GTiff does not support open option COMPRESS\n",
            "WARNING:rasterio._env:CPLE_NotSupported in driver GTiff does not support open option INTERLEAVE\n"
          ]
        },
        {
          "output_type": "stream",
          "name": "stdout",
          "text": [
            "Done run 49 for bird Acorn Woodpecker\n"
          ]
        },
        {
          "output_type": "stream",
          "name": "stderr",
          "text": [
            "WARNING:rasterio._env:CPLE_NotSupported in driver GTiff does not support open option BLOCKYSIZE\n",
            "WARNING:rasterio._env:CPLE_NotSupported in driver GTiff does not support open option COMPRESS\n",
            "WARNING:rasterio._env:CPLE_NotSupported in driver GTiff does not support open option INTERLEAVE\n",
            "WARNING:rasterio._env:CPLE_NotSupported in driver GTiff does not support open option BLOCKYSIZE\n",
            "WARNING:rasterio._env:CPLE_NotSupported in driver GTiff does not support open option COMPRESS\n",
            "WARNING:rasterio._env:CPLE_NotSupported in driver GTiff does not support open option INTERLEAVE\n"
          ]
        },
        {
          "output_type": "stream",
          "name": "stdout",
          "text": [
            "Done run 50 for bird Acorn Woodpecker\n"
          ]
        },
        {
          "output_type": "stream",
          "name": "stderr",
          "text": [
            "WARNING:rasterio._env:CPLE_NotSupported in driver GTiff does not support open option BLOCKYSIZE\n",
            "WARNING:rasterio._env:CPLE_NotSupported in driver GTiff does not support open option COMPRESS\n",
            "WARNING:rasterio._env:CPLE_NotSupported in driver GTiff does not support open option INTERLEAVE\n",
            "WARNING:rasterio._env:CPLE_NotSupported in driver GTiff does not support open option BLOCKYSIZE\n",
            "WARNING:rasterio._env:CPLE_NotSupported in driver GTiff does not support open option COMPRESS\n",
            "WARNING:rasterio._env:CPLE_NotSupported in driver GTiff does not support open option INTERLEAVE\n"
          ]
        },
        {
          "output_type": "stream",
          "name": "stdout",
          "text": [
            "Done run 51 for bird Acorn Woodpecker\n"
          ]
        },
        {
          "output_type": "stream",
          "name": "stderr",
          "text": [
            "WARNING:rasterio._env:CPLE_NotSupported in driver GTiff does not support open option BLOCKYSIZE\n",
            "WARNING:rasterio._env:CPLE_NotSupported in driver GTiff does not support open option COMPRESS\n",
            "WARNING:rasterio._env:CPLE_NotSupported in driver GTiff does not support open option INTERLEAVE\n",
            "WARNING:rasterio._env:CPLE_NotSupported in driver GTiff does not support open option BLOCKYSIZE\n",
            "WARNING:rasterio._env:CPLE_NotSupported in driver GTiff does not support open option COMPRESS\n",
            "WARNING:rasterio._env:CPLE_NotSupported in driver GTiff does not support open option INTERLEAVE\n"
          ]
        },
        {
          "output_type": "stream",
          "name": "stdout",
          "text": [
            "Done run 52 for bird Acorn Woodpecker\n"
          ]
        },
        {
          "output_type": "stream",
          "name": "stderr",
          "text": [
            "WARNING:rasterio._env:CPLE_NotSupported in driver GTiff does not support open option BLOCKYSIZE\n",
            "WARNING:rasterio._env:CPLE_NotSupported in driver GTiff does not support open option COMPRESS\n",
            "WARNING:rasterio._env:CPLE_NotSupported in driver GTiff does not support open option INTERLEAVE\n",
            "WARNING:rasterio._env:CPLE_NotSupported in driver GTiff does not support open option BLOCKYSIZE\n",
            "WARNING:rasterio._env:CPLE_NotSupported in driver GTiff does not support open option COMPRESS\n",
            "WARNING:rasterio._env:CPLE_NotSupported in driver GTiff does not support open option INTERLEAVE\n"
          ]
        },
        {
          "output_type": "stream",
          "name": "stdout",
          "text": [
            "Done run 53 for bird Acorn Woodpecker\n"
          ]
        },
        {
          "output_type": "stream",
          "name": "stderr",
          "text": [
            "WARNING:rasterio._env:CPLE_NotSupported in driver GTiff does not support open option BLOCKYSIZE\n",
            "WARNING:rasterio._env:CPLE_NotSupported in driver GTiff does not support open option COMPRESS\n",
            "WARNING:rasterio._env:CPLE_NotSupported in driver GTiff does not support open option INTERLEAVE\n",
            "WARNING:rasterio._env:CPLE_NotSupported in driver GTiff does not support open option BLOCKYSIZE\n",
            "WARNING:rasterio._env:CPLE_NotSupported in driver GTiff does not support open option COMPRESS\n",
            "WARNING:rasterio._env:CPLE_NotSupported in driver GTiff does not support open option INTERLEAVE\n"
          ]
        },
        {
          "output_type": "stream",
          "name": "stdout",
          "text": [
            "Done run 54 for bird Acorn Woodpecker\n"
          ]
        },
        {
          "output_type": "stream",
          "name": "stderr",
          "text": [
            "WARNING:rasterio._env:CPLE_NotSupported in driver GTiff does not support open option BLOCKYSIZE\n",
            "WARNING:rasterio._env:CPLE_NotSupported in driver GTiff does not support open option COMPRESS\n",
            "WARNING:rasterio._env:CPLE_NotSupported in driver GTiff does not support open option INTERLEAVE\n",
            "WARNING:rasterio._env:CPLE_NotSupported in driver GTiff does not support open option BLOCKYSIZE\n",
            "WARNING:rasterio._env:CPLE_NotSupported in driver GTiff does not support open option COMPRESS\n",
            "WARNING:rasterio._env:CPLE_NotSupported in driver GTiff does not support open option INTERLEAVE\n"
          ]
        },
        {
          "output_type": "stream",
          "name": "stdout",
          "text": [
            "Done run 55 for bird Acorn Woodpecker\n"
          ]
        },
        {
          "output_type": "stream",
          "name": "stderr",
          "text": [
            "WARNING:rasterio._env:CPLE_NotSupported in driver GTiff does not support open option BLOCKYSIZE\n",
            "WARNING:rasterio._env:CPLE_NotSupported in driver GTiff does not support open option COMPRESS\n",
            "WARNING:rasterio._env:CPLE_NotSupported in driver GTiff does not support open option INTERLEAVE\n",
            "WARNING:rasterio._env:CPLE_NotSupported in driver GTiff does not support open option BLOCKYSIZE\n",
            "WARNING:rasterio._env:CPLE_NotSupported in driver GTiff does not support open option COMPRESS\n",
            "WARNING:rasterio._env:CPLE_NotSupported in driver GTiff does not support open option INTERLEAVE\n"
          ]
        },
        {
          "output_type": "stream",
          "name": "stdout",
          "text": [
            "Done run 56 for bird Acorn Woodpecker\n"
          ]
        },
        {
          "output_type": "stream",
          "name": "stderr",
          "text": [
            "WARNING:rasterio._env:CPLE_NotSupported in driver GTiff does not support open option BLOCKYSIZE\n",
            "WARNING:rasterio._env:CPLE_NotSupported in driver GTiff does not support open option COMPRESS\n",
            "WARNING:rasterio._env:CPLE_NotSupported in driver GTiff does not support open option INTERLEAVE\n",
            "WARNING:rasterio._env:CPLE_NotSupported in driver GTiff does not support open option BLOCKYSIZE\n",
            "WARNING:rasterio._env:CPLE_NotSupported in driver GTiff does not support open option COMPRESS\n",
            "WARNING:rasterio._env:CPLE_NotSupported in driver GTiff does not support open option INTERLEAVE\n"
          ]
        },
        {
          "output_type": "stream",
          "name": "stdout",
          "text": [
            "Done run 57 for bird Acorn Woodpecker\n"
          ]
        },
        {
          "output_type": "stream",
          "name": "stderr",
          "text": [
            "WARNING:rasterio._env:CPLE_NotSupported in driver GTiff does not support open option BLOCKYSIZE\n",
            "WARNING:rasterio._env:CPLE_NotSupported in driver GTiff does not support open option COMPRESS\n",
            "WARNING:rasterio._env:CPLE_NotSupported in driver GTiff does not support open option INTERLEAVE\n",
            "WARNING:rasterio._env:CPLE_NotSupported in driver GTiff does not support open option BLOCKYSIZE\n",
            "WARNING:rasterio._env:CPLE_NotSupported in driver GTiff does not support open option COMPRESS\n",
            "WARNING:rasterio._env:CPLE_NotSupported in driver GTiff does not support open option INTERLEAVE\n"
          ]
        },
        {
          "output_type": "stream",
          "name": "stdout",
          "text": [
            "Done run 58 for bird Acorn Woodpecker\n"
          ]
        },
        {
          "output_type": "stream",
          "name": "stderr",
          "text": [
            "WARNING:rasterio._env:CPLE_NotSupported in driver GTiff does not support open option BLOCKYSIZE\n",
            "WARNING:rasterio._env:CPLE_NotSupported in driver GTiff does not support open option COMPRESS\n",
            "WARNING:rasterio._env:CPLE_NotSupported in driver GTiff does not support open option INTERLEAVE\n",
            "WARNING:rasterio._env:CPLE_NotSupported in driver GTiff does not support open option BLOCKYSIZE\n",
            "WARNING:rasterio._env:CPLE_NotSupported in driver GTiff does not support open option COMPRESS\n",
            "WARNING:rasterio._env:CPLE_NotSupported in driver GTiff does not support open option INTERLEAVE\n"
          ]
        },
        {
          "output_type": "stream",
          "name": "stdout",
          "text": [
            "Done run 59 for bird Acorn Woodpecker\n"
          ]
        },
        {
          "output_type": "stream",
          "name": "stderr",
          "text": [
            "WARNING:rasterio._env:CPLE_NotSupported in driver GTiff does not support open option BLOCKYSIZE\n",
            "WARNING:rasterio._env:CPLE_NotSupported in driver GTiff does not support open option COMPRESS\n",
            "WARNING:rasterio._env:CPLE_NotSupported in driver GTiff does not support open option INTERLEAVE\n",
            "WARNING:rasterio._env:CPLE_NotSupported in driver GTiff does not support open option BLOCKYSIZE\n",
            "WARNING:rasterio._env:CPLE_NotSupported in driver GTiff does not support open option COMPRESS\n",
            "WARNING:rasterio._env:CPLE_NotSupported in driver GTiff does not support open option INTERLEAVE\n"
          ]
        },
        {
          "output_type": "stream",
          "name": "stdout",
          "text": [
            "Done run 60 for bird Acorn Woodpecker\n"
          ]
        },
        {
          "output_type": "stream",
          "name": "stderr",
          "text": [
            "WARNING:rasterio._env:CPLE_NotSupported in driver GTiff does not support open option BLOCKYSIZE\n",
            "WARNING:rasterio._env:CPLE_NotSupported in driver GTiff does not support open option COMPRESS\n",
            "WARNING:rasterio._env:CPLE_NotSupported in driver GTiff does not support open option INTERLEAVE\n",
            "WARNING:rasterio._env:CPLE_NotSupported in driver GTiff does not support open option BLOCKYSIZE\n",
            "WARNING:rasterio._env:CPLE_NotSupported in driver GTiff does not support open option COMPRESS\n",
            "WARNING:rasterio._env:CPLE_NotSupported in driver GTiff does not support open option INTERLEAVE\n"
          ]
        },
        {
          "output_type": "stream",
          "name": "stdout",
          "text": [
            "Done run 61 for bird Acorn Woodpecker\n"
          ]
        },
        {
          "output_type": "stream",
          "name": "stderr",
          "text": [
            "WARNING:rasterio._env:CPLE_NotSupported in driver GTiff does not support open option BLOCKYSIZE\n",
            "WARNING:rasterio._env:CPLE_NotSupported in driver GTiff does not support open option COMPRESS\n",
            "WARNING:rasterio._env:CPLE_NotSupported in driver GTiff does not support open option INTERLEAVE\n",
            "WARNING:rasterio._env:CPLE_NotSupported in driver GTiff does not support open option BLOCKYSIZE\n",
            "WARNING:rasterio._env:CPLE_NotSupported in driver GTiff does not support open option COMPRESS\n",
            "WARNING:rasterio._env:CPLE_NotSupported in driver GTiff does not support open option INTERLEAVE\n"
          ]
        },
        {
          "output_type": "stream",
          "name": "stdout",
          "text": [
            "Done run 62 for bird Acorn Woodpecker\n"
          ]
        },
        {
          "output_type": "stream",
          "name": "stderr",
          "text": [
            "WARNING:rasterio._env:CPLE_NotSupported in driver GTiff does not support open option BLOCKYSIZE\n",
            "WARNING:rasterio._env:CPLE_NotSupported in driver GTiff does not support open option COMPRESS\n",
            "WARNING:rasterio._env:CPLE_NotSupported in driver GTiff does not support open option INTERLEAVE\n",
            "WARNING:rasterio._env:CPLE_NotSupported in driver GTiff does not support open option BLOCKYSIZE\n",
            "WARNING:rasterio._env:CPLE_NotSupported in driver GTiff does not support open option COMPRESS\n",
            "WARNING:rasterio._env:CPLE_NotSupported in driver GTiff does not support open option INTERLEAVE\n"
          ]
        },
        {
          "output_type": "stream",
          "name": "stdout",
          "text": [
            "Done run 63 for bird Acorn Woodpecker\n"
          ]
        },
        {
          "output_type": "stream",
          "name": "stderr",
          "text": [
            "WARNING:rasterio._env:CPLE_NotSupported in driver GTiff does not support open option BLOCKYSIZE\n",
            "WARNING:rasterio._env:CPLE_NotSupported in driver GTiff does not support open option COMPRESS\n",
            "WARNING:rasterio._env:CPLE_NotSupported in driver GTiff does not support open option INTERLEAVE\n",
            "WARNING:rasterio._env:CPLE_NotSupported in driver GTiff does not support open option BLOCKYSIZE\n",
            "WARNING:rasterio._env:CPLE_NotSupported in driver GTiff does not support open option COMPRESS\n",
            "WARNING:rasterio._env:CPLE_NotSupported in driver GTiff does not support open option INTERLEAVE\n"
          ]
        },
        {
          "output_type": "stream",
          "name": "stdout",
          "text": [
            "Done run 64 for bird Acorn Woodpecker\n"
          ]
        },
        {
          "output_type": "stream",
          "name": "stderr",
          "text": [
            "WARNING:rasterio._env:CPLE_NotSupported in driver GTiff does not support open option BLOCKYSIZE\n",
            "WARNING:rasterio._env:CPLE_NotSupported in driver GTiff does not support open option COMPRESS\n",
            "WARNING:rasterio._env:CPLE_NotSupported in driver GTiff does not support open option INTERLEAVE\n",
            "WARNING:rasterio._env:CPLE_NotSupported in driver GTiff does not support open option BLOCKYSIZE\n",
            "WARNING:rasterio._env:CPLE_NotSupported in driver GTiff does not support open option COMPRESS\n",
            "WARNING:rasterio._env:CPLE_NotSupported in driver GTiff does not support open option INTERLEAVE\n"
          ]
        },
        {
          "output_type": "stream",
          "name": "stdout",
          "text": [
            "Done run 65 for bird Acorn Woodpecker\n"
          ]
        },
        {
          "output_type": "stream",
          "name": "stderr",
          "text": [
            "WARNING:rasterio._env:CPLE_NotSupported in driver GTiff does not support open option BLOCKYSIZE\n",
            "WARNING:rasterio._env:CPLE_NotSupported in driver GTiff does not support open option COMPRESS\n",
            "WARNING:rasterio._env:CPLE_NotSupported in driver GTiff does not support open option INTERLEAVE\n",
            "WARNING:rasterio._env:CPLE_NotSupported in driver GTiff does not support open option BLOCKYSIZE\n",
            "WARNING:rasterio._env:CPLE_NotSupported in driver GTiff does not support open option COMPRESS\n",
            "WARNING:rasterio._env:CPLE_NotSupported in driver GTiff does not support open option INTERLEAVE\n"
          ]
        },
        {
          "output_type": "stream",
          "name": "stdout",
          "text": [
            "Done run 66 for bird Acorn Woodpecker\n"
          ]
        },
        {
          "output_type": "stream",
          "name": "stderr",
          "text": [
            "WARNING:rasterio._env:CPLE_NotSupported in driver GTiff does not support open option BLOCKYSIZE\n",
            "WARNING:rasterio._env:CPLE_NotSupported in driver GTiff does not support open option COMPRESS\n",
            "WARNING:rasterio._env:CPLE_NotSupported in driver GTiff does not support open option INTERLEAVE\n",
            "WARNING:rasterio._env:CPLE_NotSupported in driver GTiff does not support open option BLOCKYSIZE\n",
            "WARNING:rasterio._env:CPLE_NotSupported in driver GTiff does not support open option COMPRESS\n",
            "WARNING:rasterio._env:CPLE_NotSupported in driver GTiff does not support open option INTERLEAVE\n"
          ]
        },
        {
          "output_type": "stream",
          "name": "stdout",
          "text": [
            "Done run 67 for bird Acorn Woodpecker\n"
          ]
        },
        {
          "output_type": "stream",
          "name": "stderr",
          "text": [
            "WARNING:rasterio._env:CPLE_NotSupported in driver GTiff does not support open option BLOCKYSIZE\n",
            "WARNING:rasterio._env:CPLE_NotSupported in driver GTiff does not support open option COMPRESS\n",
            "WARNING:rasterio._env:CPLE_NotSupported in driver GTiff does not support open option INTERLEAVE\n",
            "WARNING:rasterio._env:CPLE_NotSupported in driver GTiff does not support open option BLOCKYSIZE\n",
            "WARNING:rasterio._env:CPLE_NotSupported in driver GTiff does not support open option COMPRESS\n",
            "WARNING:rasterio._env:CPLE_NotSupported in driver GTiff does not support open option INTERLEAVE\n"
          ]
        },
        {
          "output_type": "stream",
          "name": "stdout",
          "text": [
            "Done run 68 for bird Acorn Woodpecker\n"
          ]
        },
        {
          "output_type": "stream",
          "name": "stderr",
          "text": [
            "WARNING:rasterio._env:CPLE_NotSupported in driver GTiff does not support open option BLOCKYSIZE\n",
            "WARNING:rasterio._env:CPLE_NotSupported in driver GTiff does not support open option COMPRESS\n",
            "WARNING:rasterio._env:CPLE_NotSupported in driver GTiff does not support open option INTERLEAVE\n",
            "WARNING:rasterio._env:CPLE_NotSupported in driver GTiff does not support open option BLOCKYSIZE\n",
            "WARNING:rasterio._env:CPLE_NotSupported in driver GTiff does not support open option COMPRESS\n",
            "WARNING:rasterio._env:CPLE_NotSupported in driver GTiff does not support open option INTERLEAVE\n"
          ]
        },
        {
          "output_type": "stream",
          "name": "stdout",
          "text": [
            "Done run 69 for bird Acorn Woodpecker\n"
          ]
        },
        {
          "output_type": "stream",
          "name": "stderr",
          "text": [
            "WARNING:rasterio._env:CPLE_NotSupported in driver GTiff does not support open option BLOCKYSIZE\n",
            "WARNING:rasterio._env:CPLE_NotSupported in driver GTiff does not support open option COMPRESS\n",
            "WARNING:rasterio._env:CPLE_NotSupported in driver GTiff does not support open option INTERLEAVE\n",
            "WARNING:rasterio._env:CPLE_NotSupported in driver GTiff does not support open option BLOCKYSIZE\n",
            "WARNING:rasterio._env:CPLE_NotSupported in driver GTiff does not support open option COMPRESS\n",
            "WARNING:rasterio._env:CPLE_NotSupported in driver GTiff does not support open option INTERLEAVE\n"
          ]
        },
        {
          "output_type": "stream",
          "name": "stdout",
          "text": [
            "Done run 70 for bird Acorn Woodpecker\n"
          ]
        },
        {
          "output_type": "stream",
          "name": "stderr",
          "text": [
            "WARNING:rasterio._env:CPLE_NotSupported in driver GTiff does not support open option BLOCKYSIZE\n",
            "WARNING:rasterio._env:CPLE_NotSupported in driver GTiff does not support open option COMPRESS\n",
            "WARNING:rasterio._env:CPLE_NotSupported in driver GTiff does not support open option INTERLEAVE\n",
            "WARNING:rasterio._env:CPLE_NotSupported in driver GTiff does not support open option BLOCKYSIZE\n",
            "WARNING:rasterio._env:CPLE_NotSupported in driver GTiff does not support open option COMPRESS\n",
            "WARNING:rasterio._env:CPLE_NotSupported in driver GTiff does not support open option INTERLEAVE\n"
          ]
        },
        {
          "output_type": "stream",
          "name": "stdout",
          "text": [
            "Done run 71 for bird Acorn Woodpecker\n"
          ]
        },
        {
          "output_type": "stream",
          "name": "stderr",
          "text": [
            "WARNING:rasterio._env:CPLE_NotSupported in driver GTiff does not support open option BLOCKYSIZE\n",
            "WARNING:rasterio._env:CPLE_NotSupported in driver GTiff does not support open option COMPRESS\n",
            "WARNING:rasterio._env:CPLE_NotSupported in driver GTiff does not support open option INTERLEAVE\n",
            "WARNING:rasterio._env:CPLE_NotSupported in driver GTiff does not support open option BLOCKYSIZE\n",
            "WARNING:rasterio._env:CPLE_NotSupported in driver GTiff does not support open option COMPRESS\n",
            "WARNING:rasterio._env:CPLE_NotSupported in driver GTiff does not support open option INTERLEAVE\n"
          ]
        },
        {
          "output_type": "stream",
          "name": "stdout",
          "text": [
            "Done run 72 for bird Acorn Woodpecker\n"
          ]
        },
        {
          "output_type": "stream",
          "name": "stderr",
          "text": [
            "WARNING:rasterio._env:CPLE_NotSupported in driver GTiff does not support open option BLOCKYSIZE\n",
            "WARNING:rasterio._env:CPLE_NotSupported in driver GTiff does not support open option COMPRESS\n",
            "WARNING:rasterio._env:CPLE_NotSupported in driver GTiff does not support open option INTERLEAVE\n",
            "WARNING:rasterio._env:CPLE_NotSupported in driver GTiff does not support open option BLOCKYSIZE\n",
            "WARNING:rasterio._env:CPLE_NotSupported in driver GTiff does not support open option COMPRESS\n",
            "WARNING:rasterio._env:CPLE_NotSupported in driver GTiff does not support open option INTERLEAVE\n"
          ]
        },
        {
          "output_type": "stream",
          "name": "stdout",
          "text": [
            "Done run 73 for bird Acorn Woodpecker\n"
          ]
        },
        {
          "output_type": "stream",
          "name": "stderr",
          "text": [
            "WARNING:rasterio._env:CPLE_NotSupported in driver GTiff does not support open option BLOCKYSIZE\n",
            "WARNING:rasterio._env:CPLE_NotSupported in driver GTiff does not support open option COMPRESS\n",
            "WARNING:rasterio._env:CPLE_NotSupported in driver GTiff does not support open option INTERLEAVE\n",
            "WARNING:rasterio._env:CPLE_NotSupported in driver GTiff does not support open option BLOCKYSIZE\n",
            "WARNING:rasterio._env:CPLE_NotSupported in driver GTiff does not support open option COMPRESS\n",
            "WARNING:rasterio._env:CPLE_NotSupported in driver GTiff does not support open option INTERLEAVE\n"
          ]
        },
        {
          "output_type": "stream",
          "name": "stdout",
          "text": [
            "Done run 74 for bird Acorn Woodpecker\n"
          ]
        },
        {
          "output_type": "stream",
          "name": "stderr",
          "text": [
            "WARNING:rasterio._env:CPLE_NotSupported in driver GTiff does not support open option BLOCKYSIZE\n",
            "WARNING:rasterio._env:CPLE_NotSupported in driver GTiff does not support open option COMPRESS\n",
            "WARNING:rasterio._env:CPLE_NotSupported in driver GTiff does not support open option INTERLEAVE\n",
            "WARNING:rasterio._env:CPLE_NotSupported in driver GTiff does not support open option BLOCKYSIZE\n",
            "WARNING:rasterio._env:CPLE_NotSupported in driver GTiff does not support open option COMPRESS\n",
            "WARNING:rasterio._env:CPLE_NotSupported in driver GTiff does not support open option INTERLEAVE\n"
          ]
        },
        {
          "output_type": "stream",
          "name": "stdout",
          "text": [
            "Done run 75 for bird Acorn Woodpecker\n"
          ]
        },
        {
          "output_type": "stream",
          "name": "stderr",
          "text": [
            "WARNING:rasterio._env:CPLE_NotSupported in driver GTiff does not support open option BLOCKYSIZE\n",
            "WARNING:rasterio._env:CPLE_NotSupported in driver GTiff does not support open option COMPRESS\n",
            "WARNING:rasterio._env:CPLE_NotSupported in driver GTiff does not support open option INTERLEAVE\n",
            "WARNING:rasterio._env:CPLE_NotSupported in driver GTiff does not support open option BLOCKYSIZE\n",
            "WARNING:rasterio._env:CPLE_NotSupported in driver GTiff does not support open option COMPRESS\n",
            "WARNING:rasterio._env:CPLE_NotSupported in driver GTiff does not support open option INTERLEAVE\n"
          ]
        },
        {
          "output_type": "stream",
          "name": "stdout",
          "text": [
            "Done run 76 for bird Acorn Woodpecker\n"
          ]
        },
        {
          "output_type": "stream",
          "name": "stderr",
          "text": [
            "WARNING:rasterio._env:CPLE_NotSupported in driver GTiff does not support open option BLOCKYSIZE\n",
            "WARNING:rasterio._env:CPLE_NotSupported in driver GTiff does not support open option COMPRESS\n",
            "WARNING:rasterio._env:CPLE_NotSupported in driver GTiff does not support open option INTERLEAVE\n",
            "WARNING:rasterio._env:CPLE_NotSupported in driver GTiff does not support open option BLOCKYSIZE\n",
            "WARNING:rasterio._env:CPLE_NotSupported in driver GTiff does not support open option COMPRESS\n",
            "WARNING:rasterio._env:CPLE_NotSupported in driver GTiff does not support open option INTERLEAVE\n"
          ]
        },
        {
          "output_type": "stream",
          "name": "stdout",
          "text": [
            "Done run 77 for bird Acorn Woodpecker\n"
          ]
        },
        {
          "output_type": "stream",
          "name": "stderr",
          "text": [
            "WARNING:rasterio._env:CPLE_NotSupported in driver GTiff does not support open option BLOCKYSIZE\n",
            "WARNING:rasterio._env:CPLE_NotSupported in driver GTiff does not support open option COMPRESS\n",
            "WARNING:rasterio._env:CPLE_NotSupported in driver GTiff does not support open option INTERLEAVE\n",
            "WARNING:rasterio._env:CPLE_NotSupported in driver GTiff does not support open option BLOCKYSIZE\n",
            "WARNING:rasterio._env:CPLE_NotSupported in driver GTiff does not support open option COMPRESS\n",
            "WARNING:rasterio._env:CPLE_NotSupported in driver GTiff does not support open option INTERLEAVE\n"
          ]
        },
        {
          "output_type": "stream",
          "name": "stdout",
          "text": [
            "Done run 78 for bird Acorn Woodpecker\n"
          ]
        },
        {
          "output_type": "stream",
          "name": "stderr",
          "text": [
            "WARNING:rasterio._env:CPLE_NotSupported in driver GTiff does not support open option BLOCKYSIZE\n",
            "WARNING:rasterio._env:CPLE_NotSupported in driver GTiff does not support open option COMPRESS\n",
            "WARNING:rasterio._env:CPLE_NotSupported in driver GTiff does not support open option INTERLEAVE\n",
            "WARNING:rasterio._env:CPLE_NotSupported in driver GTiff does not support open option BLOCKYSIZE\n",
            "WARNING:rasterio._env:CPLE_NotSupported in driver GTiff does not support open option COMPRESS\n",
            "WARNING:rasterio._env:CPLE_NotSupported in driver GTiff does not support open option INTERLEAVE\n"
          ]
        },
        {
          "output_type": "stream",
          "name": "stdout",
          "text": [
            "Done run 79 for bird Acorn Woodpecker\n"
          ]
        },
        {
          "output_type": "stream",
          "name": "stderr",
          "text": [
            "WARNING:rasterio._env:CPLE_NotSupported in driver GTiff does not support open option BLOCKYSIZE\n",
            "WARNING:rasterio._env:CPLE_NotSupported in driver GTiff does not support open option COMPRESS\n",
            "WARNING:rasterio._env:CPLE_NotSupported in driver GTiff does not support open option INTERLEAVE\n",
            "WARNING:rasterio._env:CPLE_NotSupported in driver GTiff does not support open option BLOCKYSIZE\n",
            "WARNING:rasterio._env:CPLE_NotSupported in driver GTiff does not support open option COMPRESS\n",
            "WARNING:rasterio._env:CPLE_NotSupported in driver GTiff does not support open option INTERLEAVE\n"
          ]
        },
        {
          "output_type": "stream",
          "name": "stdout",
          "text": [
            "Done run 80 for bird Acorn Woodpecker\n"
          ]
        },
        {
          "output_type": "stream",
          "name": "stderr",
          "text": [
            "WARNING:rasterio._env:CPLE_NotSupported in driver GTiff does not support open option BLOCKYSIZE\n",
            "WARNING:rasterio._env:CPLE_NotSupported in driver GTiff does not support open option COMPRESS\n",
            "WARNING:rasterio._env:CPLE_NotSupported in driver GTiff does not support open option INTERLEAVE\n",
            "WARNING:rasterio._env:CPLE_NotSupported in driver GTiff does not support open option BLOCKYSIZE\n",
            "WARNING:rasterio._env:CPLE_NotSupported in driver GTiff does not support open option COMPRESS\n",
            "WARNING:rasterio._env:CPLE_NotSupported in driver GTiff does not support open option INTERLEAVE\n"
          ]
        },
        {
          "output_type": "stream",
          "name": "stdout",
          "text": [
            "Done run 81 for bird Acorn Woodpecker\n"
          ]
        },
        {
          "output_type": "stream",
          "name": "stderr",
          "text": [
            "WARNING:rasterio._env:CPLE_NotSupported in driver GTiff does not support open option BLOCKYSIZE\n",
            "WARNING:rasterio._env:CPLE_NotSupported in driver GTiff does not support open option COMPRESS\n",
            "WARNING:rasterio._env:CPLE_NotSupported in driver GTiff does not support open option INTERLEAVE\n",
            "WARNING:rasterio._env:CPLE_NotSupported in driver GTiff does not support open option BLOCKYSIZE\n",
            "WARNING:rasterio._env:CPLE_NotSupported in driver GTiff does not support open option COMPRESS\n",
            "WARNING:rasterio._env:CPLE_NotSupported in driver GTiff does not support open option INTERLEAVE\n"
          ]
        },
        {
          "output_type": "stream",
          "name": "stdout",
          "text": [
            "Done run 82 for bird Acorn Woodpecker\n"
          ]
        },
        {
          "output_type": "stream",
          "name": "stderr",
          "text": [
            "WARNING:rasterio._env:CPLE_NotSupported in driver GTiff does not support open option BLOCKYSIZE\n",
            "WARNING:rasterio._env:CPLE_NotSupported in driver GTiff does not support open option COMPRESS\n",
            "WARNING:rasterio._env:CPLE_NotSupported in driver GTiff does not support open option INTERLEAVE\n",
            "WARNING:rasterio._env:CPLE_NotSupported in driver GTiff does not support open option BLOCKYSIZE\n",
            "WARNING:rasterio._env:CPLE_NotSupported in driver GTiff does not support open option COMPRESS\n",
            "WARNING:rasterio._env:CPLE_NotSupported in driver GTiff does not support open option INTERLEAVE\n"
          ]
        },
        {
          "output_type": "stream",
          "name": "stdout",
          "text": [
            "Done run 83 for bird Acorn Woodpecker\n"
          ]
        },
        {
          "output_type": "stream",
          "name": "stderr",
          "text": [
            "WARNING:rasterio._env:CPLE_NotSupported in driver GTiff does not support open option BLOCKYSIZE\n",
            "WARNING:rasterio._env:CPLE_NotSupported in driver GTiff does not support open option COMPRESS\n",
            "WARNING:rasterio._env:CPLE_NotSupported in driver GTiff does not support open option INTERLEAVE\n",
            "WARNING:rasterio._env:CPLE_NotSupported in driver GTiff does not support open option BLOCKYSIZE\n",
            "WARNING:rasterio._env:CPLE_NotSupported in driver GTiff does not support open option COMPRESS\n",
            "WARNING:rasterio._env:CPLE_NotSupported in driver GTiff does not support open option INTERLEAVE\n"
          ]
        },
        {
          "output_type": "stream",
          "name": "stdout",
          "text": [
            "Done run 84 for bird Acorn Woodpecker\n"
          ]
        },
        {
          "output_type": "stream",
          "name": "stderr",
          "text": [
            "WARNING:rasterio._env:CPLE_NotSupported in driver GTiff does not support open option BLOCKYSIZE\n",
            "WARNING:rasterio._env:CPLE_NotSupported in driver GTiff does not support open option COMPRESS\n",
            "WARNING:rasterio._env:CPLE_NotSupported in driver GTiff does not support open option INTERLEAVE\n",
            "WARNING:rasterio._env:CPLE_NotSupported in driver GTiff does not support open option BLOCKYSIZE\n",
            "WARNING:rasterio._env:CPLE_NotSupported in driver GTiff does not support open option COMPRESS\n",
            "WARNING:rasterio._env:CPLE_NotSupported in driver GTiff does not support open option INTERLEAVE\n"
          ]
        },
        {
          "output_type": "stream",
          "name": "stdout",
          "text": [
            "Done run 85 for bird Acorn Woodpecker\n"
          ]
        },
        {
          "output_type": "stream",
          "name": "stderr",
          "text": [
            "WARNING:rasterio._env:CPLE_NotSupported in driver GTiff does not support open option BLOCKYSIZE\n",
            "WARNING:rasterio._env:CPLE_NotSupported in driver GTiff does not support open option COMPRESS\n",
            "WARNING:rasterio._env:CPLE_NotSupported in driver GTiff does not support open option INTERLEAVE\n",
            "WARNING:rasterio._env:CPLE_NotSupported in driver GTiff does not support open option BLOCKYSIZE\n",
            "WARNING:rasterio._env:CPLE_NotSupported in driver GTiff does not support open option COMPRESS\n",
            "WARNING:rasterio._env:CPLE_NotSupported in driver GTiff does not support open option INTERLEAVE\n"
          ]
        },
        {
          "output_type": "stream",
          "name": "stdout",
          "text": [
            "Done run 86 for bird Acorn Woodpecker\n"
          ]
        },
        {
          "output_type": "stream",
          "name": "stderr",
          "text": [
            "WARNING:rasterio._env:CPLE_NotSupported in driver GTiff does not support open option BLOCKYSIZE\n",
            "WARNING:rasterio._env:CPLE_NotSupported in driver GTiff does not support open option COMPRESS\n",
            "WARNING:rasterio._env:CPLE_NotSupported in driver GTiff does not support open option INTERLEAVE\n",
            "WARNING:rasterio._env:CPLE_NotSupported in driver GTiff does not support open option BLOCKYSIZE\n",
            "WARNING:rasterio._env:CPLE_NotSupported in driver GTiff does not support open option COMPRESS\n",
            "WARNING:rasterio._env:CPLE_NotSupported in driver GTiff does not support open option INTERLEAVE\n"
          ]
        },
        {
          "output_type": "stream",
          "name": "stdout",
          "text": [
            "Done run 87 for bird Acorn Woodpecker\n"
          ]
        },
        {
          "output_type": "stream",
          "name": "stderr",
          "text": [
            "WARNING:rasterio._env:CPLE_NotSupported in driver GTiff does not support open option BLOCKYSIZE\n",
            "WARNING:rasterio._env:CPLE_NotSupported in driver GTiff does not support open option COMPRESS\n",
            "WARNING:rasterio._env:CPLE_NotSupported in driver GTiff does not support open option INTERLEAVE\n",
            "WARNING:rasterio._env:CPLE_NotSupported in driver GTiff does not support open option BLOCKYSIZE\n",
            "WARNING:rasterio._env:CPLE_NotSupported in driver GTiff does not support open option COMPRESS\n",
            "WARNING:rasterio._env:CPLE_NotSupported in driver GTiff does not support open option INTERLEAVE\n"
          ]
        },
        {
          "output_type": "stream",
          "name": "stdout",
          "text": [
            "Done run 88 for bird Acorn Woodpecker\n"
          ]
        },
        {
          "output_type": "stream",
          "name": "stderr",
          "text": [
            "WARNING:rasterio._env:CPLE_NotSupported in driver GTiff does not support open option BLOCKYSIZE\n",
            "WARNING:rasterio._env:CPLE_NotSupported in driver GTiff does not support open option COMPRESS\n",
            "WARNING:rasterio._env:CPLE_NotSupported in driver GTiff does not support open option INTERLEAVE\n",
            "WARNING:rasterio._env:CPLE_NotSupported in driver GTiff does not support open option BLOCKYSIZE\n",
            "WARNING:rasterio._env:CPLE_NotSupported in driver GTiff does not support open option COMPRESS\n",
            "WARNING:rasterio._env:CPLE_NotSupported in driver GTiff does not support open option INTERLEAVE\n"
          ]
        },
        {
          "output_type": "stream",
          "name": "stdout",
          "text": [
            "Done run 89 for bird Acorn Woodpecker\n"
          ]
        },
        {
          "output_type": "stream",
          "name": "stderr",
          "text": [
            "WARNING:rasterio._env:CPLE_NotSupported in driver GTiff does not support open option BLOCKYSIZE\n",
            "WARNING:rasterio._env:CPLE_NotSupported in driver GTiff does not support open option COMPRESS\n",
            "WARNING:rasterio._env:CPLE_NotSupported in driver GTiff does not support open option INTERLEAVE\n",
            "WARNING:rasterio._env:CPLE_NotSupported in driver GTiff does not support open option BLOCKYSIZE\n",
            "WARNING:rasterio._env:CPLE_NotSupported in driver GTiff does not support open option COMPRESS\n",
            "WARNING:rasterio._env:CPLE_NotSupported in driver GTiff does not support open option INTERLEAVE\n"
          ]
        },
        {
          "output_type": "stream",
          "name": "stdout",
          "text": [
            "Done run 90 for bird Acorn Woodpecker\n"
          ]
        },
        {
          "output_type": "stream",
          "name": "stderr",
          "text": [
            "WARNING:rasterio._env:CPLE_NotSupported in driver GTiff does not support open option BLOCKYSIZE\n",
            "WARNING:rasterio._env:CPLE_NotSupported in driver GTiff does not support open option COMPRESS\n",
            "WARNING:rasterio._env:CPLE_NotSupported in driver GTiff does not support open option INTERLEAVE\n",
            "WARNING:rasterio._env:CPLE_NotSupported in driver GTiff does not support open option BLOCKYSIZE\n",
            "WARNING:rasterio._env:CPLE_NotSupported in driver GTiff does not support open option COMPRESS\n",
            "WARNING:rasterio._env:CPLE_NotSupported in driver GTiff does not support open option INTERLEAVE\n"
          ]
        },
        {
          "output_type": "stream",
          "name": "stdout",
          "text": [
            "Done run 91 for bird Acorn Woodpecker\n"
          ]
        },
        {
          "output_type": "stream",
          "name": "stderr",
          "text": [
            "WARNING:rasterio._env:CPLE_NotSupported in driver GTiff does not support open option BLOCKYSIZE\n",
            "WARNING:rasterio._env:CPLE_NotSupported in driver GTiff does not support open option COMPRESS\n",
            "WARNING:rasterio._env:CPLE_NotSupported in driver GTiff does not support open option INTERLEAVE\n",
            "WARNING:rasterio._env:CPLE_NotSupported in driver GTiff does not support open option BLOCKYSIZE\n",
            "WARNING:rasterio._env:CPLE_NotSupported in driver GTiff does not support open option COMPRESS\n",
            "WARNING:rasterio._env:CPLE_NotSupported in driver GTiff does not support open option INTERLEAVE\n"
          ]
        },
        {
          "output_type": "stream",
          "name": "stdout",
          "text": [
            "Done run 92 for bird Acorn Woodpecker\n"
          ]
        },
        {
          "output_type": "stream",
          "name": "stderr",
          "text": [
            "WARNING:rasterio._env:CPLE_NotSupported in driver GTiff does not support open option BLOCKYSIZE\n",
            "WARNING:rasterio._env:CPLE_NotSupported in driver GTiff does not support open option COMPRESS\n",
            "WARNING:rasterio._env:CPLE_NotSupported in driver GTiff does not support open option INTERLEAVE\n",
            "WARNING:rasterio._env:CPLE_NotSupported in driver GTiff does not support open option BLOCKYSIZE\n",
            "WARNING:rasterio._env:CPLE_NotSupported in driver GTiff does not support open option COMPRESS\n",
            "WARNING:rasterio._env:CPLE_NotSupported in driver GTiff does not support open option INTERLEAVE\n"
          ]
        },
        {
          "output_type": "stream",
          "name": "stdout",
          "text": [
            "Done run 93 for bird Acorn Woodpecker\n"
          ]
        },
        {
          "output_type": "stream",
          "name": "stderr",
          "text": [
            "WARNING:rasterio._env:CPLE_NotSupported in driver GTiff does not support open option BLOCKYSIZE\n",
            "WARNING:rasterio._env:CPLE_NotSupported in driver GTiff does not support open option COMPRESS\n",
            "WARNING:rasterio._env:CPLE_NotSupported in driver GTiff does not support open option INTERLEAVE\n",
            "WARNING:rasterio._env:CPLE_NotSupported in driver GTiff does not support open option BLOCKYSIZE\n",
            "WARNING:rasterio._env:CPLE_NotSupported in driver GTiff does not support open option COMPRESS\n",
            "WARNING:rasterio._env:CPLE_NotSupported in driver GTiff does not support open option INTERLEAVE\n"
          ]
        },
        {
          "output_type": "stream",
          "name": "stdout",
          "text": [
            "Done run 94 for bird Acorn Woodpecker\n"
          ]
        },
        {
          "output_type": "stream",
          "name": "stderr",
          "text": [
            "WARNING:rasterio._env:CPLE_NotSupported in driver GTiff does not support open option BLOCKYSIZE\n",
            "WARNING:rasterio._env:CPLE_NotSupported in driver GTiff does not support open option COMPRESS\n",
            "WARNING:rasterio._env:CPLE_NotSupported in driver GTiff does not support open option INTERLEAVE\n",
            "WARNING:rasterio._env:CPLE_NotSupported in driver GTiff does not support open option BLOCKYSIZE\n",
            "WARNING:rasterio._env:CPLE_NotSupported in driver GTiff does not support open option COMPRESS\n",
            "WARNING:rasterio._env:CPLE_NotSupported in driver GTiff does not support open option INTERLEAVE\n"
          ]
        },
        {
          "output_type": "stream",
          "name": "stdout",
          "text": [
            "Done run 95 for bird Acorn Woodpecker\n"
          ]
        },
        {
          "output_type": "stream",
          "name": "stderr",
          "text": [
            "WARNING:rasterio._env:CPLE_NotSupported in driver GTiff does not support open option BLOCKYSIZE\n",
            "WARNING:rasterio._env:CPLE_NotSupported in driver GTiff does not support open option COMPRESS\n",
            "WARNING:rasterio._env:CPLE_NotSupported in driver GTiff does not support open option INTERLEAVE\n",
            "WARNING:rasterio._env:CPLE_NotSupported in driver GTiff does not support open option BLOCKYSIZE\n",
            "WARNING:rasterio._env:CPLE_NotSupported in driver GTiff does not support open option COMPRESS\n",
            "WARNING:rasterio._env:CPLE_NotSupported in driver GTiff does not support open option INTERLEAVE\n"
          ]
        },
        {
          "output_type": "stream",
          "name": "stdout",
          "text": [
            "Done run 96 for bird Acorn Woodpecker\n"
          ]
        },
        {
          "output_type": "stream",
          "name": "stderr",
          "text": [
            "WARNING:rasterio._env:CPLE_NotSupported in driver GTiff does not support open option BLOCKYSIZE\n",
            "WARNING:rasterio._env:CPLE_NotSupported in driver GTiff does not support open option COMPRESS\n",
            "WARNING:rasterio._env:CPLE_NotSupported in driver GTiff does not support open option INTERLEAVE\n",
            "WARNING:rasterio._env:CPLE_NotSupported in driver GTiff does not support open option BLOCKYSIZE\n",
            "WARNING:rasterio._env:CPLE_NotSupported in driver GTiff does not support open option COMPRESS\n",
            "WARNING:rasterio._env:CPLE_NotSupported in driver GTiff does not support open option INTERLEAVE\n"
          ]
        },
        {
          "output_type": "stream",
          "name": "stdout",
          "text": [
            "Done run 97 for bird Acorn Woodpecker\n"
          ]
        },
        {
          "output_type": "stream",
          "name": "stderr",
          "text": [
            "WARNING:rasterio._env:CPLE_NotSupported in driver GTiff does not support open option BLOCKYSIZE\n",
            "WARNING:rasterio._env:CPLE_NotSupported in driver GTiff does not support open option COMPRESS\n",
            "WARNING:rasterio._env:CPLE_NotSupported in driver GTiff does not support open option INTERLEAVE\n",
            "WARNING:rasterio._env:CPLE_NotSupported in driver GTiff does not support open option BLOCKYSIZE\n",
            "WARNING:rasterio._env:CPLE_NotSupported in driver GTiff does not support open option COMPRESS\n",
            "WARNING:rasterio._env:CPLE_NotSupported in driver GTiff does not support open option INTERLEAVE\n"
          ]
        },
        {
          "output_type": "stream",
          "name": "stdout",
          "text": [
            "Done run 98 for bird Acorn Woodpecker\n",
            "Done run 99 for bird Acorn Woodpecker\n"
          ]
        },
        {
          "output_type": "stream",
          "name": "stderr",
          "text": [
            "WARNING:rasterio._env:CPLE_NotSupported in driver GTiff does not support open option BLOCKYSIZE\n",
            "WARNING:rasterio._env:CPLE_NotSupported in driver GTiff does not support open option COMPRESS\n",
            "WARNING:rasterio._env:CPLE_NotSupported in driver GTiff does not support open option INTERLEAVE\n",
            "WARNING:rasterio._env:CPLE_NotSupported in driver GTiff does not support open option BLOCKYSIZE\n",
            "WARNING:rasterio._env:CPLE_NotSupported in driver GTiff does not support open option COMPRESS\n",
            "WARNING:rasterio._env:CPLE_NotSupported in driver GTiff does not support open option INTERLEAVE\n",
            "WARNING:rasterio._env:CPLE_NotSupported in driver GTiff does not support open option BLOCKYSIZE\n",
            "WARNING:rasterio._env:CPLE_NotSupported in driver GTiff does not support open option COMPRESS\n",
            "WARNING:rasterio._env:CPLE_NotSupported in driver GTiff does not support open option INTERLEAVE\n",
            "WARNING:rasterio._env:CPLE_NotSupported in driver GTiff does not support open option BLOCKYSIZE\n",
            "WARNING:rasterio._env:CPLE_NotSupported in driver GTiff does not support open option COMPRESS\n",
            "WARNING:rasterio._env:CPLE_NotSupported in driver GTiff does not support open option INTERLEAVE\n"
          ]
        },
        {
          "output_type": "stream",
          "name": "stdout",
          "text": [
            "Done run 0 for bird Steller's Jay\n"
          ]
        },
        {
          "output_type": "stream",
          "name": "stderr",
          "text": [
            "WARNING:rasterio._env:CPLE_NotSupported in driver GTiff does not support open option BLOCKYSIZE\n",
            "WARNING:rasterio._env:CPLE_NotSupported in driver GTiff does not support open option COMPRESS\n",
            "WARNING:rasterio._env:CPLE_NotSupported in driver GTiff does not support open option INTERLEAVE\n",
            "WARNING:rasterio._env:CPLE_NotSupported in driver GTiff does not support open option BLOCKYSIZE\n",
            "WARNING:rasterio._env:CPLE_NotSupported in driver GTiff does not support open option COMPRESS\n",
            "WARNING:rasterio._env:CPLE_NotSupported in driver GTiff does not support open option INTERLEAVE\n"
          ]
        },
        {
          "output_type": "stream",
          "name": "stdout",
          "text": [
            "Done run 1 for bird Steller's Jay\n"
          ]
        },
        {
          "output_type": "stream",
          "name": "stderr",
          "text": [
            "WARNING:rasterio._env:CPLE_NotSupported in driver GTiff does not support open option BLOCKYSIZE\n",
            "WARNING:rasterio._env:CPLE_NotSupported in driver GTiff does not support open option COMPRESS\n",
            "WARNING:rasterio._env:CPLE_NotSupported in driver GTiff does not support open option INTERLEAVE\n",
            "WARNING:rasterio._env:CPLE_NotSupported in driver GTiff does not support open option BLOCKYSIZE\n",
            "WARNING:rasterio._env:CPLE_NotSupported in driver GTiff does not support open option COMPRESS\n",
            "WARNING:rasterio._env:CPLE_NotSupported in driver GTiff does not support open option INTERLEAVE\n"
          ]
        },
        {
          "output_type": "stream",
          "name": "stdout",
          "text": [
            "Done run 2 for bird Steller's Jay\n"
          ]
        },
        {
          "output_type": "stream",
          "name": "stderr",
          "text": [
            "WARNING:rasterio._env:CPLE_NotSupported in driver GTiff does not support open option BLOCKYSIZE\n",
            "WARNING:rasterio._env:CPLE_NotSupported in driver GTiff does not support open option COMPRESS\n",
            "WARNING:rasterio._env:CPLE_NotSupported in driver GTiff does not support open option INTERLEAVE\n",
            "WARNING:rasterio._env:CPLE_NotSupported in driver GTiff does not support open option BLOCKYSIZE\n",
            "WARNING:rasterio._env:CPLE_NotSupported in driver GTiff does not support open option COMPRESS\n",
            "WARNING:rasterio._env:CPLE_NotSupported in driver GTiff does not support open option INTERLEAVE\n"
          ]
        },
        {
          "output_type": "stream",
          "name": "stdout",
          "text": [
            "Done run 3 for bird Steller's Jay\n"
          ]
        },
        {
          "output_type": "stream",
          "name": "stderr",
          "text": [
            "WARNING:rasterio._env:CPLE_NotSupported in driver GTiff does not support open option BLOCKYSIZE\n",
            "WARNING:rasterio._env:CPLE_NotSupported in driver GTiff does not support open option COMPRESS\n",
            "WARNING:rasterio._env:CPLE_NotSupported in driver GTiff does not support open option INTERLEAVE\n",
            "WARNING:rasterio._env:CPLE_NotSupported in driver GTiff does not support open option BLOCKYSIZE\n",
            "WARNING:rasterio._env:CPLE_NotSupported in driver GTiff does not support open option COMPRESS\n",
            "WARNING:rasterio._env:CPLE_NotSupported in driver GTiff does not support open option INTERLEAVE\n"
          ]
        },
        {
          "output_type": "stream",
          "name": "stdout",
          "text": [
            "Done run 4 for bird Steller's Jay\n"
          ]
        },
        {
          "output_type": "stream",
          "name": "stderr",
          "text": [
            "WARNING:rasterio._env:CPLE_NotSupported in driver GTiff does not support open option BLOCKYSIZE\n",
            "WARNING:rasterio._env:CPLE_NotSupported in driver GTiff does not support open option COMPRESS\n",
            "WARNING:rasterio._env:CPLE_NotSupported in driver GTiff does not support open option INTERLEAVE\n",
            "WARNING:rasterio._env:CPLE_NotSupported in driver GTiff does not support open option BLOCKYSIZE\n",
            "WARNING:rasterio._env:CPLE_NotSupported in driver GTiff does not support open option COMPRESS\n",
            "WARNING:rasterio._env:CPLE_NotSupported in driver GTiff does not support open option INTERLEAVE\n"
          ]
        },
        {
          "output_type": "stream",
          "name": "stdout",
          "text": [
            "Done run 5 for bird Steller's Jay\n"
          ]
        },
        {
          "output_type": "stream",
          "name": "stderr",
          "text": [
            "WARNING:rasterio._env:CPLE_NotSupported in driver GTiff does not support open option BLOCKYSIZE\n",
            "WARNING:rasterio._env:CPLE_NotSupported in driver GTiff does not support open option COMPRESS\n",
            "WARNING:rasterio._env:CPLE_NotSupported in driver GTiff does not support open option INTERLEAVE\n",
            "WARNING:rasterio._env:CPLE_NotSupported in driver GTiff does not support open option BLOCKYSIZE\n",
            "WARNING:rasterio._env:CPLE_NotSupported in driver GTiff does not support open option COMPRESS\n",
            "WARNING:rasterio._env:CPLE_NotSupported in driver GTiff does not support open option INTERLEAVE\n"
          ]
        },
        {
          "output_type": "stream",
          "name": "stdout",
          "text": [
            "Done run 6 for bird Steller's Jay\n"
          ]
        },
        {
          "output_type": "stream",
          "name": "stderr",
          "text": [
            "WARNING:rasterio._env:CPLE_NotSupported in driver GTiff does not support open option BLOCKYSIZE\n",
            "WARNING:rasterio._env:CPLE_NotSupported in driver GTiff does not support open option COMPRESS\n",
            "WARNING:rasterio._env:CPLE_NotSupported in driver GTiff does not support open option INTERLEAVE\n",
            "WARNING:rasterio._env:CPLE_NotSupported in driver GTiff does not support open option BLOCKYSIZE\n",
            "WARNING:rasterio._env:CPLE_NotSupported in driver GTiff does not support open option COMPRESS\n",
            "WARNING:rasterio._env:CPLE_NotSupported in driver GTiff does not support open option INTERLEAVE\n"
          ]
        },
        {
          "output_type": "stream",
          "name": "stdout",
          "text": [
            "Done run 7 for bird Steller's Jay\n"
          ]
        },
        {
          "output_type": "stream",
          "name": "stderr",
          "text": [
            "WARNING:rasterio._env:CPLE_NotSupported in driver GTiff does not support open option BLOCKYSIZE\n",
            "WARNING:rasterio._env:CPLE_NotSupported in driver GTiff does not support open option COMPRESS\n",
            "WARNING:rasterio._env:CPLE_NotSupported in driver GTiff does not support open option INTERLEAVE\n",
            "WARNING:rasterio._env:CPLE_NotSupported in driver GTiff does not support open option BLOCKYSIZE\n",
            "WARNING:rasterio._env:CPLE_NotSupported in driver GTiff does not support open option COMPRESS\n",
            "WARNING:rasterio._env:CPLE_NotSupported in driver GTiff does not support open option INTERLEAVE\n"
          ]
        },
        {
          "output_type": "stream",
          "name": "stdout",
          "text": [
            "Done run 8 for bird Steller's Jay\n"
          ]
        },
        {
          "output_type": "stream",
          "name": "stderr",
          "text": [
            "WARNING:rasterio._env:CPLE_NotSupported in driver GTiff does not support open option BLOCKYSIZE\n",
            "WARNING:rasterio._env:CPLE_NotSupported in driver GTiff does not support open option COMPRESS\n",
            "WARNING:rasterio._env:CPLE_NotSupported in driver GTiff does not support open option INTERLEAVE\n",
            "WARNING:rasterio._env:CPLE_NotSupported in driver GTiff does not support open option BLOCKYSIZE\n",
            "WARNING:rasterio._env:CPLE_NotSupported in driver GTiff does not support open option COMPRESS\n",
            "WARNING:rasterio._env:CPLE_NotSupported in driver GTiff does not support open option INTERLEAVE\n"
          ]
        },
        {
          "output_type": "stream",
          "name": "stdout",
          "text": [
            "Done run 9 for bird Steller's Jay\n"
          ]
        },
        {
          "output_type": "stream",
          "name": "stderr",
          "text": [
            "WARNING:rasterio._env:CPLE_NotSupported in driver GTiff does not support open option BLOCKYSIZE\n",
            "WARNING:rasterio._env:CPLE_NotSupported in driver GTiff does not support open option COMPRESS\n",
            "WARNING:rasterio._env:CPLE_NotSupported in driver GTiff does not support open option INTERLEAVE\n",
            "WARNING:rasterio._env:CPLE_NotSupported in driver GTiff does not support open option BLOCKYSIZE\n",
            "WARNING:rasterio._env:CPLE_NotSupported in driver GTiff does not support open option COMPRESS\n",
            "WARNING:rasterio._env:CPLE_NotSupported in driver GTiff does not support open option INTERLEAVE\n"
          ]
        },
        {
          "output_type": "stream",
          "name": "stdout",
          "text": [
            "Done run 10 for bird Steller's Jay\n"
          ]
        },
        {
          "output_type": "stream",
          "name": "stderr",
          "text": [
            "WARNING:rasterio._env:CPLE_NotSupported in driver GTiff does not support open option BLOCKYSIZE\n",
            "WARNING:rasterio._env:CPLE_NotSupported in driver GTiff does not support open option COMPRESS\n",
            "WARNING:rasterio._env:CPLE_NotSupported in driver GTiff does not support open option INTERLEAVE\n",
            "WARNING:rasterio._env:CPLE_NotSupported in driver GTiff does not support open option BLOCKYSIZE\n",
            "WARNING:rasterio._env:CPLE_NotSupported in driver GTiff does not support open option COMPRESS\n",
            "WARNING:rasterio._env:CPLE_NotSupported in driver GTiff does not support open option INTERLEAVE\n"
          ]
        },
        {
          "output_type": "stream",
          "name": "stdout",
          "text": [
            "Done run 11 for bird Steller's Jay\n"
          ]
        },
        {
          "output_type": "stream",
          "name": "stderr",
          "text": [
            "WARNING:rasterio._env:CPLE_NotSupported in driver GTiff does not support open option BLOCKYSIZE\n",
            "WARNING:rasterio._env:CPLE_NotSupported in driver GTiff does not support open option COMPRESS\n",
            "WARNING:rasterio._env:CPLE_NotSupported in driver GTiff does not support open option INTERLEAVE\n",
            "WARNING:rasterio._env:CPLE_NotSupported in driver GTiff does not support open option BLOCKYSIZE\n",
            "WARNING:rasterio._env:CPLE_NotSupported in driver GTiff does not support open option COMPRESS\n",
            "WARNING:rasterio._env:CPLE_NotSupported in driver GTiff does not support open option INTERLEAVE\n"
          ]
        },
        {
          "output_type": "stream",
          "name": "stdout",
          "text": [
            "Done run 12 for bird Steller's Jay\n"
          ]
        },
        {
          "output_type": "stream",
          "name": "stderr",
          "text": [
            "WARNING:rasterio._env:CPLE_NotSupported in driver GTiff does not support open option BLOCKYSIZE\n",
            "WARNING:rasterio._env:CPLE_NotSupported in driver GTiff does not support open option COMPRESS\n",
            "WARNING:rasterio._env:CPLE_NotSupported in driver GTiff does not support open option INTERLEAVE\n",
            "WARNING:rasterio._env:CPLE_NotSupported in driver GTiff does not support open option BLOCKYSIZE\n",
            "WARNING:rasterio._env:CPLE_NotSupported in driver GTiff does not support open option COMPRESS\n",
            "WARNING:rasterio._env:CPLE_NotSupported in driver GTiff does not support open option INTERLEAVE\n"
          ]
        },
        {
          "output_type": "stream",
          "name": "stdout",
          "text": [
            "Done run 13 for bird Steller's Jay\n"
          ]
        },
        {
          "output_type": "stream",
          "name": "stderr",
          "text": [
            "WARNING:rasterio._env:CPLE_NotSupported in driver GTiff does not support open option BLOCKYSIZE\n",
            "WARNING:rasterio._env:CPLE_NotSupported in driver GTiff does not support open option COMPRESS\n",
            "WARNING:rasterio._env:CPLE_NotSupported in driver GTiff does not support open option INTERLEAVE\n",
            "WARNING:rasterio._env:CPLE_NotSupported in driver GTiff does not support open option BLOCKYSIZE\n",
            "WARNING:rasterio._env:CPLE_NotSupported in driver GTiff does not support open option COMPRESS\n",
            "WARNING:rasterio._env:CPLE_NotSupported in driver GTiff does not support open option INTERLEAVE\n"
          ]
        },
        {
          "output_type": "stream",
          "name": "stdout",
          "text": [
            "Done run 14 for bird Steller's Jay\n"
          ]
        },
        {
          "output_type": "stream",
          "name": "stderr",
          "text": [
            "WARNING:rasterio._env:CPLE_NotSupported in driver GTiff does not support open option BLOCKYSIZE\n",
            "WARNING:rasterio._env:CPLE_NotSupported in driver GTiff does not support open option COMPRESS\n",
            "WARNING:rasterio._env:CPLE_NotSupported in driver GTiff does not support open option INTERLEAVE\n",
            "WARNING:rasterio._env:CPLE_NotSupported in driver GTiff does not support open option BLOCKYSIZE\n",
            "WARNING:rasterio._env:CPLE_NotSupported in driver GTiff does not support open option COMPRESS\n",
            "WARNING:rasterio._env:CPLE_NotSupported in driver GTiff does not support open option INTERLEAVE\n"
          ]
        },
        {
          "output_type": "stream",
          "name": "stdout",
          "text": [
            "Done run 15 for bird Steller's Jay\n"
          ]
        },
        {
          "output_type": "stream",
          "name": "stderr",
          "text": [
            "WARNING:rasterio._env:CPLE_NotSupported in driver GTiff does not support open option BLOCKYSIZE\n",
            "WARNING:rasterio._env:CPLE_NotSupported in driver GTiff does not support open option COMPRESS\n",
            "WARNING:rasterio._env:CPLE_NotSupported in driver GTiff does not support open option INTERLEAVE\n",
            "WARNING:rasterio._env:CPLE_NotSupported in driver GTiff does not support open option BLOCKYSIZE\n",
            "WARNING:rasterio._env:CPLE_NotSupported in driver GTiff does not support open option COMPRESS\n",
            "WARNING:rasterio._env:CPLE_NotSupported in driver GTiff does not support open option INTERLEAVE\n"
          ]
        },
        {
          "output_type": "stream",
          "name": "stdout",
          "text": [
            "Done run 16 for bird Steller's Jay\n"
          ]
        },
        {
          "output_type": "stream",
          "name": "stderr",
          "text": [
            "WARNING:rasterio._env:CPLE_NotSupported in driver GTiff does not support open option BLOCKYSIZE\n",
            "WARNING:rasterio._env:CPLE_NotSupported in driver GTiff does not support open option COMPRESS\n",
            "WARNING:rasterio._env:CPLE_NotSupported in driver GTiff does not support open option INTERLEAVE\n",
            "WARNING:rasterio._env:CPLE_NotSupported in driver GTiff does not support open option BLOCKYSIZE\n",
            "WARNING:rasterio._env:CPLE_NotSupported in driver GTiff does not support open option COMPRESS\n",
            "WARNING:rasterio._env:CPLE_NotSupported in driver GTiff does not support open option INTERLEAVE\n"
          ]
        },
        {
          "output_type": "stream",
          "name": "stdout",
          "text": [
            "Done run 17 for bird Steller's Jay\n"
          ]
        },
        {
          "output_type": "stream",
          "name": "stderr",
          "text": [
            "WARNING:rasterio._env:CPLE_NotSupported in driver GTiff does not support open option BLOCKYSIZE\n",
            "WARNING:rasterio._env:CPLE_NotSupported in driver GTiff does not support open option COMPRESS\n",
            "WARNING:rasterio._env:CPLE_NotSupported in driver GTiff does not support open option INTERLEAVE\n",
            "WARNING:rasterio._env:CPLE_NotSupported in driver GTiff does not support open option BLOCKYSIZE\n",
            "WARNING:rasterio._env:CPLE_NotSupported in driver GTiff does not support open option COMPRESS\n",
            "WARNING:rasterio._env:CPLE_NotSupported in driver GTiff does not support open option INTERLEAVE\n"
          ]
        },
        {
          "output_type": "stream",
          "name": "stdout",
          "text": [
            "Done run 18 for bird Steller's Jay\n"
          ]
        },
        {
          "output_type": "stream",
          "name": "stderr",
          "text": [
            "WARNING:rasterio._env:CPLE_NotSupported in driver GTiff does not support open option BLOCKYSIZE\n",
            "WARNING:rasterio._env:CPLE_NotSupported in driver GTiff does not support open option COMPRESS\n",
            "WARNING:rasterio._env:CPLE_NotSupported in driver GTiff does not support open option INTERLEAVE\n",
            "WARNING:rasterio._env:CPLE_NotSupported in driver GTiff does not support open option BLOCKYSIZE\n",
            "WARNING:rasterio._env:CPLE_NotSupported in driver GTiff does not support open option COMPRESS\n",
            "WARNING:rasterio._env:CPLE_NotSupported in driver GTiff does not support open option INTERLEAVE\n"
          ]
        },
        {
          "output_type": "stream",
          "name": "stdout",
          "text": [
            "Done run 19 for bird Steller's Jay\n"
          ]
        },
        {
          "output_type": "stream",
          "name": "stderr",
          "text": [
            "WARNING:rasterio._env:CPLE_NotSupported in driver GTiff does not support open option BLOCKYSIZE\n",
            "WARNING:rasterio._env:CPLE_NotSupported in driver GTiff does not support open option COMPRESS\n",
            "WARNING:rasterio._env:CPLE_NotSupported in driver GTiff does not support open option INTERLEAVE\n",
            "WARNING:rasterio._env:CPLE_NotSupported in driver GTiff does not support open option BLOCKYSIZE\n",
            "WARNING:rasterio._env:CPLE_NotSupported in driver GTiff does not support open option COMPRESS\n",
            "WARNING:rasterio._env:CPLE_NotSupported in driver GTiff does not support open option INTERLEAVE\n"
          ]
        },
        {
          "output_type": "stream",
          "name": "stdout",
          "text": [
            "Done run 20 for bird Steller's Jay\n"
          ]
        },
        {
          "output_type": "stream",
          "name": "stderr",
          "text": [
            "WARNING:rasterio._env:CPLE_NotSupported in driver GTiff does not support open option BLOCKYSIZE\n",
            "WARNING:rasterio._env:CPLE_NotSupported in driver GTiff does not support open option COMPRESS\n",
            "WARNING:rasterio._env:CPLE_NotSupported in driver GTiff does not support open option INTERLEAVE\n",
            "WARNING:rasterio._env:CPLE_NotSupported in driver GTiff does not support open option BLOCKYSIZE\n",
            "WARNING:rasterio._env:CPLE_NotSupported in driver GTiff does not support open option COMPRESS\n",
            "WARNING:rasterio._env:CPLE_NotSupported in driver GTiff does not support open option INTERLEAVE\n"
          ]
        },
        {
          "output_type": "stream",
          "name": "stdout",
          "text": [
            "Done run 21 for bird Steller's Jay\n"
          ]
        },
        {
          "output_type": "stream",
          "name": "stderr",
          "text": [
            "WARNING:rasterio._env:CPLE_NotSupported in driver GTiff does not support open option BLOCKYSIZE\n",
            "WARNING:rasterio._env:CPLE_NotSupported in driver GTiff does not support open option COMPRESS\n",
            "WARNING:rasterio._env:CPLE_NotSupported in driver GTiff does not support open option INTERLEAVE\n",
            "WARNING:rasterio._env:CPLE_NotSupported in driver GTiff does not support open option BLOCKYSIZE\n",
            "WARNING:rasterio._env:CPLE_NotSupported in driver GTiff does not support open option COMPRESS\n",
            "WARNING:rasterio._env:CPLE_NotSupported in driver GTiff does not support open option INTERLEAVE\n"
          ]
        },
        {
          "output_type": "stream",
          "name": "stdout",
          "text": [
            "Done run 22 for bird Steller's Jay\n"
          ]
        },
        {
          "output_type": "stream",
          "name": "stderr",
          "text": [
            "WARNING:rasterio._env:CPLE_NotSupported in driver GTiff does not support open option BLOCKYSIZE\n",
            "WARNING:rasterio._env:CPLE_NotSupported in driver GTiff does not support open option COMPRESS\n",
            "WARNING:rasterio._env:CPLE_NotSupported in driver GTiff does not support open option INTERLEAVE\n",
            "WARNING:rasterio._env:CPLE_NotSupported in driver GTiff does not support open option BLOCKYSIZE\n",
            "WARNING:rasterio._env:CPLE_NotSupported in driver GTiff does not support open option COMPRESS\n",
            "WARNING:rasterio._env:CPLE_NotSupported in driver GTiff does not support open option INTERLEAVE\n"
          ]
        },
        {
          "output_type": "stream",
          "name": "stdout",
          "text": [
            "Done run 23 for bird Steller's Jay\n"
          ]
        },
        {
          "output_type": "stream",
          "name": "stderr",
          "text": [
            "WARNING:rasterio._env:CPLE_NotSupported in driver GTiff does not support open option BLOCKYSIZE\n",
            "WARNING:rasterio._env:CPLE_NotSupported in driver GTiff does not support open option COMPRESS\n",
            "WARNING:rasterio._env:CPLE_NotSupported in driver GTiff does not support open option INTERLEAVE\n",
            "WARNING:rasterio._env:CPLE_NotSupported in driver GTiff does not support open option BLOCKYSIZE\n",
            "WARNING:rasterio._env:CPLE_NotSupported in driver GTiff does not support open option COMPRESS\n",
            "WARNING:rasterio._env:CPLE_NotSupported in driver GTiff does not support open option INTERLEAVE\n"
          ]
        },
        {
          "output_type": "stream",
          "name": "stdout",
          "text": [
            "Done run 24 for bird Steller's Jay\n"
          ]
        },
        {
          "output_type": "stream",
          "name": "stderr",
          "text": [
            "WARNING:rasterio._env:CPLE_NotSupported in driver GTiff does not support open option BLOCKYSIZE\n",
            "WARNING:rasterio._env:CPLE_NotSupported in driver GTiff does not support open option COMPRESS\n",
            "WARNING:rasterio._env:CPLE_NotSupported in driver GTiff does not support open option INTERLEAVE\n",
            "WARNING:rasterio._env:CPLE_NotSupported in driver GTiff does not support open option BLOCKYSIZE\n",
            "WARNING:rasterio._env:CPLE_NotSupported in driver GTiff does not support open option COMPRESS\n",
            "WARNING:rasterio._env:CPLE_NotSupported in driver GTiff does not support open option INTERLEAVE\n"
          ]
        },
        {
          "output_type": "stream",
          "name": "stdout",
          "text": [
            "Done run 25 for bird Steller's Jay\n"
          ]
        },
        {
          "output_type": "stream",
          "name": "stderr",
          "text": [
            "WARNING:rasterio._env:CPLE_NotSupported in driver GTiff does not support open option BLOCKYSIZE\n",
            "WARNING:rasterio._env:CPLE_NotSupported in driver GTiff does not support open option COMPRESS\n",
            "WARNING:rasterio._env:CPLE_NotSupported in driver GTiff does not support open option INTERLEAVE\n",
            "WARNING:rasterio._env:CPLE_NotSupported in driver GTiff does not support open option BLOCKYSIZE\n",
            "WARNING:rasterio._env:CPLE_NotSupported in driver GTiff does not support open option COMPRESS\n",
            "WARNING:rasterio._env:CPLE_NotSupported in driver GTiff does not support open option INTERLEAVE\n"
          ]
        },
        {
          "output_type": "stream",
          "name": "stdout",
          "text": [
            "Done run 26 for bird Steller's Jay\n"
          ]
        },
        {
          "output_type": "stream",
          "name": "stderr",
          "text": [
            "WARNING:rasterio._env:CPLE_NotSupported in driver GTiff does not support open option BLOCKYSIZE\n",
            "WARNING:rasterio._env:CPLE_NotSupported in driver GTiff does not support open option COMPRESS\n",
            "WARNING:rasterio._env:CPLE_NotSupported in driver GTiff does not support open option INTERLEAVE\n",
            "WARNING:rasterio._env:CPLE_NotSupported in driver GTiff does not support open option BLOCKYSIZE\n",
            "WARNING:rasterio._env:CPLE_NotSupported in driver GTiff does not support open option COMPRESS\n",
            "WARNING:rasterio._env:CPLE_NotSupported in driver GTiff does not support open option INTERLEAVE\n"
          ]
        },
        {
          "output_type": "stream",
          "name": "stdout",
          "text": [
            "Done run 27 for bird Steller's Jay\n"
          ]
        },
        {
          "output_type": "stream",
          "name": "stderr",
          "text": [
            "WARNING:rasterio._env:CPLE_NotSupported in driver GTiff does not support open option BLOCKYSIZE\n",
            "WARNING:rasterio._env:CPLE_NotSupported in driver GTiff does not support open option COMPRESS\n",
            "WARNING:rasterio._env:CPLE_NotSupported in driver GTiff does not support open option INTERLEAVE\n",
            "WARNING:rasterio._env:CPLE_NotSupported in driver GTiff does not support open option BLOCKYSIZE\n",
            "WARNING:rasterio._env:CPLE_NotSupported in driver GTiff does not support open option COMPRESS\n",
            "WARNING:rasterio._env:CPLE_NotSupported in driver GTiff does not support open option INTERLEAVE\n"
          ]
        },
        {
          "output_type": "stream",
          "name": "stdout",
          "text": [
            "Done run 28 for bird Steller's Jay\n"
          ]
        },
        {
          "output_type": "stream",
          "name": "stderr",
          "text": [
            "WARNING:rasterio._env:CPLE_NotSupported in driver GTiff does not support open option BLOCKYSIZE\n",
            "WARNING:rasterio._env:CPLE_NotSupported in driver GTiff does not support open option COMPRESS\n",
            "WARNING:rasterio._env:CPLE_NotSupported in driver GTiff does not support open option INTERLEAVE\n",
            "WARNING:rasterio._env:CPLE_NotSupported in driver GTiff does not support open option BLOCKYSIZE\n",
            "WARNING:rasterio._env:CPLE_NotSupported in driver GTiff does not support open option COMPRESS\n",
            "WARNING:rasterio._env:CPLE_NotSupported in driver GTiff does not support open option INTERLEAVE\n"
          ]
        },
        {
          "output_type": "stream",
          "name": "stdout",
          "text": [
            "Done run 29 for bird Steller's Jay\n"
          ]
        },
        {
          "output_type": "stream",
          "name": "stderr",
          "text": [
            "WARNING:rasterio._env:CPLE_NotSupported in driver GTiff does not support open option BLOCKYSIZE\n",
            "WARNING:rasterio._env:CPLE_NotSupported in driver GTiff does not support open option COMPRESS\n",
            "WARNING:rasterio._env:CPLE_NotSupported in driver GTiff does not support open option INTERLEAVE\n",
            "WARNING:rasterio._env:CPLE_NotSupported in driver GTiff does not support open option BLOCKYSIZE\n",
            "WARNING:rasterio._env:CPLE_NotSupported in driver GTiff does not support open option COMPRESS\n",
            "WARNING:rasterio._env:CPLE_NotSupported in driver GTiff does not support open option INTERLEAVE\n"
          ]
        },
        {
          "output_type": "stream",
          "name": "stdout",
          "text": [
            "Done run 30 for bird Steller's Jay\n"
          ]
        },
        {
          "output_type": "stream",
          "name": "stderr",
          "text": [
            "WARNING:rasterio._env:CPLE_NotSupported in driver GTiff does not support open option BLOCKYSIZE\n",
            "WARNING:rasterio._env:CPLE_NotSupported in driver GTiff does not support open option COMPRESS\n",
            "WARNING:rasterio._env:CPLE_NotSupported in driver GTiff does not support open option INTERLEAVE\n",
            "WARNING:rasterio._env:CPLE_NotSupported in driver GTiff does not support open option BLOCKYSIZE\n",
            "WARNING:rasterio._env:CPLE_NotSupported in driver GTiff does not support open option COMPRESS\n",
            "WARNING:rasterio._env:CPLE_NotSupported in driver GTiff does not support open option INTERLEAVE\n"
          ]
        },
        {
          "output_type": "stream",
          "name": "stdout",
          "text": [
            "Done run 31 for bird Steller's Jay\n"
          ]
        },
        {
          "output_type": "stream",
          "name": "stderr",
          "text": [
            "WARNING:rasterio._env:CPLE_NotSupported in driver GTiff does not support open option BLOCKYSIZE\n",
            "WARNING:rasterio._env:CPLE_NotSupported in driver GTiff does not support open option COMPRESS\n",
            "WARNING:rasterio._env:CPLE_NotSupported in driver GTiff does not support open option INTERLEAVE\n",
            "WARNING:rasterio._env:CPLE_NotSupported in driver GTiff does not support open option BLOCKYSIZE\n",
            "WARNING:rasterio._env:CPLE_NotSupported in driver GTiff does not support open option COMPRESS\n",
            "WARNING:rasterio._env:CPLE_NotSupported in driver GTiff does not support open option INTERLEAVE\n"
          ]
        },
        {
          "output_type": "stream",
          "name": "stdout",
          "text": [
            "Done run 32 for bird Steller's Jay\n"
          ]
        },
        {
          "output_type": "stream",
          "name": "stderr",
          "text": [
            "WARNING:rasterio._env:CPLE_NotSupported in driver GTiff does not support open option BLOCKYSIZE\n",
            "WARNING:rasterio._env:CPLE_NotSupported in driver GTiff does not support open option COMPRESS\n",
            "WARNING:rasterio._env:CPLE_NotSupported in driver GTiff does not support open option INTERLEAVE\n",
            "WARNING:rasterio._env:CPLE_NotSupported in driver GTiff does not support open option BLOCKYSIZE\n",
            "WARNING:rasterio._env:CPLE_NotSupported in driver GTiff does not support open option COMPRESS\n",
            "WARNING:rasterio._env:CPLE_NotSupported in driver GTiff does not support open option INTERLEAVE\n"
          ]
        },
        {
          "output_type": "stream",
          "name": "stdout",
          "text": [
            "Done run 33 for bird Steller's Jay\n"
          ]
        },
        {
          "output_type": "stream",
          "name": "stderr",
          "text": [
            "WARNING:rasterio._env:CPLE_NotSupported in driver GTiff does not support open option BLOCKYSIZE\n",
            "WARNING:rasterio._env:CPLE_NotSupported in driver GTiff does not support open option COMPRESS\n",
            "WARNING:rasterio._env:CPLE_NotSupported in driver GTiff does not support open option INTERLEAVE\n",
            "WARNING:rasterio._env:CPLE_NotSupported in driver GTiff does not support open option BLOCKYSIZE\n",
            "WARNING:rasterio._env:CPLE_NotSupported in driver GTiff does not support open option COMPRESS\n",
            "WARNING:rasterio._env:CPLE_NotSupported in driver GTiff does not support open option INTERLEAVE\n"
          ]
        },
        {
          "output_type": "stream",
          "name": "stdout",
          "text": [
            "Done run 34 for bird Steller's Jay\n"
          ]
        },
        {
          "output_type": "stream",
          "name": "stderr",
          "text": [
            "WARNING:rasterio._env:CPLE_NotSupported in driver GTiff does not support open option BLOCKYSIZE\n",
            "WARNING:rasterio._env:CPLE_NotSupported in driver GTiff does not support open option COMPRESS\n",
            "WARNING:rasterio._env:CPLE_NotSupported in driver GTiff does not support open option INTERLEAVE\n",
            "WARNING:rasterio._env:CPLE_NotSupported in driver GTiff does not support open option BLOCKYSIZE\n",
            "WARNING:rasterio._env:CPLE_NotSupported in driver GTiff does not support open option COMPRESS\n",
            "WARNING:rasterio._env:CPLE_NotSupported in driver GTiff does not support open option INTERLEAVE\n"
          ]
        },
        {
          "output_type": "stream",
          "name": "stdout",
          "text": [
            "Done run 35 for bird Steller's Jay\n"
          ]
        },
        {
          "output_type": "stream",
          "name": "stderr",
          "text": [
            "WARNING:rasterio._env:CPLE_NotSupported in driver GTiff does not support open option BLOCKYSIZE\n",
            "WARNING:rasterio._env:CPLE_NotSupported in driver GTiff does not support open option COMPRESS\n",
            "WARNING:rasterio._env:CPLE_NotSupported in driver GTiff does not support open option INTERLEAVE\n",
            "WARNING:rasterio._env:CPLE_NotSupported in driver GTiff does not support open option BLOCKYSIZE\n",
            "WARNING:rasterio._env:CPLE_NotSupported in driver GTiff does not support open option COMPRESS\n",
            "WARNING:rasterio._env:CPLE_NotSupported in driver GTiff does not support open option INTERLEAVE\n"
          ]
        },
        {
          "output_type": "stream",
          "name": "stdout",
          "text": [
            "Done run 36 for bird Steller's Jay\n"
          ]
        },
        {
          "output_type": "stream",
          "name": "stderr",
          "text": [
            "WARNING:rasterio._env:CPLE_NotSupported in driver GTiff does not support open option BLOCKYSIZE\n",
            "WARNING:rasterio._env:CPLE_NotSupported in driver GTiff does not support open option COMPRESS\n",
            "WARNING:rasterio._env:CPLE_NotSupported in driver GTiff does not support open option INTERLEAVE\n",
            "WARNING:rasterio._env:CPLE_NotSupported in driver GTiff does not support open option BLOCKYSIZE\n",
            "WARNING:rasterio._env:CPLE_NotSupported in driver GTiff does not support open option COMPRESS\n",
            "WARNING:rasterio._env:CPLE_NotSupported in driver GTiff does not support open option INTERLEAVE\n"
          ]
        },
        {
          "output_type": "stream",
          "name": "stdout",
          "text": [
            "Done run 37 for bird Steller's Jay\n"
          ]
        },
        {
          "output_type": "stream",
          "name": "stderr",
          "text": [
            "WARNING:rasterio._env:CPLE_NotSupported in driver GTiff does not support open option BLOCKYSIZE\n",
            "WARNING:rasterio._env:CPLE_NotSupported in driver GTiff does not support open option COMPRESS\n",
            "WARNING:rasterio._env:CPLE_NotSupported in driver GTiff does not support open option INTERLEAVE\n",
            "WARNING:rasterio._env:CPLE_NotSupported in driver GTiff does not support open option BLOCKYSIZE\n",
            "WARNING:rasterio._env:CPLE_NotSupported in driver GTiff does not support open option COMPRESS\n",
            "WARNING:rasterio._env:CPLE_NotSupported in driver GTiff does not support open option INTERLEAVE\n"
          ]
        },
        {
          "output_type": "stream",
          "name": "stdout",
          "text": [
            "Done run 38 for bird Steller's Jay\n"
          ]
        },
        {
          "output_type": "stream",
          "name": "stderr",
          "text": [
            "WARNING:rasterio._env:CPLE_NotSupported in driver GTiff does not support open option BLOCKYSIZE\n",
            "WARNING:rasterio._env:CPLE_NotSupported in driver GTiff does not support open option COMPRESS\n",
            "WARNING:rasterio._env:CPLE_NotSupported in driver GTiff does not support open option INTERLEAVE\n",
            "WARNING:rasterio._env:CPLE_NotSupported in driver GTiff does not support open option BLOCKYSIZE\n",
            "WARNING:rasterio._env:CPLE_NotSupported in driver GTiff does not support open option COMPRESS\n",
            "WARNING:rasterio._env:CPLE_NotSupported in driver GTiff does not support open option INTERLEAVE\n"
          ]
        },
        {
          "output_type": "stream",
          "name": "stdout",
          "text": [
            "Done run 39 for bird Steller's Jay\n"
          ]
        },
        {
          "output_type": "stream",
          "name": "stderr",
          "text": [
            "WARNING:rasterio._env:CPLE_NotSupported in driver GTiff does not support open option BLOCKYSIZE\n",
            "WARNING:rasterio._env:CPLE_NotSupported in driver GTiff does not support open option COMPRESS\n",
            "WARNING:rasterio._env:CPLE_NotSupported in driver GTiff does not support open option INTERLEAVE\n",
            "WARNING:rasterio._env:CPLE_NotSupported in driver GTiff does not support open option BLOCKYSIZE\n",
            "WARNING:rasterio._env:CPLE_NotSupported in driver GTiff does not support open option COMPRESS\n",
            "WARNING:rasterio._env:CPLE_NotSupported in driver GTiff does not support open option INTERLEAVE\n"
          ]
        },
        {
          "output_type": "stream",
          "name": "stdout",
          "text": [
            "Done run 40 for bird Steller's Jay\n"
          ]
        },
        {
          "output_type": "stream",
          "name": "stderr",
          "text": [
            "WARNING:rasterio._env:CPLE_NotSupported in driver GTiff does not support open option BLOCKYSIZE\n",
            "WARNING:rasterio._env:CPLE_NotSupported in driver GTiff does not support open option COMPRESS\n",
            "WARNING:rasterio._env:CPLE_NotSupported in driver GTiff does not support open option INTERLEAVE\n",
            "WARNING:rasterio._env:CPLE_NotSupported in driver GTiff does not support open option BLOCKYSIZE\n",
            "WARNING:rasterio._env:CPLE_NotSupported in driver GTiff does not support open option COMPRESS\n",
            "WARNING:rasterio._env:CPLE_NotSupported in driver GTiff does not support open option INTERLEAVE\n"
          ]
        },
        {
          "output_type": "stream",
          "name": "stdout",
          "text": [
            "Done run 41 for bird Steller's Jay\n"
          ]
        },
        {
          "output_type": "stream",
          "name": "stderr",
          "text": [
            "WARNING:rasterio._env:CPLE_NotSupported in driver GTiff does not support open option BLOCKYSIZE\n",
            "WARNING:rasterio._env:CPLE_NotSupported in driver GTiff does not support open option COMPRESS\n",
            "WARNING:rasterio._env:CPLE_NotSupported in driver GTiff does not support open option INTERLEAVE\n",
            "WARNING:rasterio._env:CPLE_NotSupported in driver GTiff does not support open option BLOCKYSIZE\n",
            "WARNING:rasterio._env:CPLE_NotSupported in driver GTiff does not support open option COMPRESS\n",
            "WARNING:rasterio._env:CPLE_NotSupported in driver GTiff does not support open option INTERLEAVE\n"
          ]
        },
        {
          "output_type": "stream",
          "name": "stdout",
          "text": [
            "Done run 42 for bird Steller's Jay\n"
          ]
        },
        {
          "output_type": "stream",
          "name": "stderr",
          "text": [
            "WARNING:rasterio._env:CPLE_NotSupported in driver GTiff does not support open option BLOCKYSIZE\n",
            "WARNING:rasterio._env:CPLE_NotSupported in driver GTiff does not support open option COMPRESS\n",
            "WARNING:rasterio._env:CPLE_NotSupported in driver GTiff does not support open option INTERLEAVE\n",
            "WARNING:rasterio._env:CPLE_NotSupported in driver GTiff does not support open option BLOCKYSIZE\n",
            "WARNING:rasterio._env:CPLE_NotSupported in driver GTiff does not support open option COMPRESS\n",
            "WARNING:rasterio._env:CPLE_NotSupported in driver GTiff does not support open option INTERLEAVE\n"
          ]
        },
        {
          "output_type": "stream",
          "name": "stdout",
          "text": [
            "Done run 43 for bird Steller's Jay\n"
          ]
        },
        {
          "output_type": "stream",
          "name": "stderr",
          "text": [
            "WARNING:rasterio._env:CPLE_NotSupported in driver GTiff does not support open option BLOCKYSIZE\n",
            "WARNING:rasterio._env:CPLE_NotSupported in driver GTiff does not support open option COMPRESS\n",
            "WARNING:rasterio._env:CPLE_NotSupported in driver GTiff does not support open option INTERLEAVE\n",
            "WARNING:rasterio._env:CPLE_NotSupported in driver GTiff does not support open option BLOCKYSIZE\n",
            "WARNING:rasterio._env:CPLE_NotSupported in driver GTiff does not support open option COMPRESS\n",
            "WARNING:rasterio._env:CPLE_NotSupported in driver GTiff does not support open option INTERLEAVE\n"
          ]
        },
        {
          "output_type": "stream",
          "name": "stdout",
          "text": [
            "Done run 44 for bird Steller's Jay\n"
          ]
        },
        {
          "output_type": "stream",
          "name": "stderr",
          "text": [
            "WARNING:rasterio._env:CPLE_NotSupported in driver GTiff does not support open option BLOCKYSIZE\n",
            "WARNING:rasterio._env:CPLE_NotSupported in driver GTiff does not support open option COMPRESS\n",
            "WARNING:rasterio._env:CPLE_NotSupported in driver GTiff does not support open option INTERLEAVE\n",
            "WARNING:rasterio._env:CPLE_NotSupported in driver GTiff does not support open option BLOCKYSIZE\n",
            "WARNING:rasterio._env:CPLE_NotSupported in driver GTiff does not support open option COMPRESS\n",
            "WARNING:rasterio._env:CPLE_NotSupported in driver GTiff does not support open option INTERLEAVE\n"
          ]
        },
        {
          "output_type": "stream",
          "name": "stdout",
          "text": [
            "Done run 45 for bird Steller's Jay\n"
          ]
        },
        {
          "output_type": "stream",
          "name": "stderr",
          "text": [
            "WARNING:rasterio._env:CPLE_NotSupported in driver GTiff does not support open option BLOCKYSIZE\n",
            "WARNING:rasterio._env:CPLE_NotSupported in driver GTiff does not support open option COMPRESS\n",
            "WARNING:rasterio._env:CPLE_NotSupported in driver GTiff does not support open option INTERLEAVE\n",
            "WARNING:rasterio._env:CPLE_NotSupported in driver GTiff does not support open option BLOCKYSIZE\n",
            "WARNING:rasterio._env:CPLE_NotSupported in driver GTiff does not support open option COMPRESS\n",
            "WARNING:rasterio._env:CPLE_NotSupported in driver GTiff does not support open option INTERLEAVE\n"
          ]
        },
        {
          "output_type": "stream",
          "name": "stdout",
          "text": [
            "Done run 46 for bird Steller's Jay\n"
          ]
        },
        {
          "output_type": "stream",
          "name": "stderr",
          "text": [
            "WARNING:rasterio._env:CPLE_NotSupported in driver GTiff does not support open option BLOCKYSIZE\n",
            "WARNING:rasterio._env:CPLE_NotSupported in driver GTiff does not support open option COMPRESS\n",
            "WARNING:rasterio._env:CPLE_NotSupported in driver GTiff does not support open option INTERLEAVE\n",
            "WARNING:rasterio._env:CPLE_NotSupported in driver GTiff does not support open option BLOCKYSIZE\n",
            "WARNING:rasterio._env:CPLE_NotSupported in driver GTiff does not support open option COMPRESS\n",
            "WARNING:rasterio._env:CPLE_NotSupported in driver GTiff does not support open option INTERLEAVE\n"
          ]
        },
        {
          "output_type": "stream",
          "name": "stdout",
          "text": [
            "Done run 47 for bird Steller's Jay\n"
          ]
        },
        {
          "output_type": "stream",
          "name": "stderr",
          "text": [
            "WARNING:rasterio._env:CPLE_NotSupported in driver GTiff does not support open option BLOCKYSIZE\n",
            "WARNING:rasterio._env:CPLE_NotSupported in driver GTiff does not support open option COMPRESS\n",
            "WARNING:rasterio._env:CPLE_NotSupported in driver GTiff does not support open option INTERLEAVE\n",
            "WARNING:rasterio._env:CPLE_NotSupported in driver GTiff does not support open option BLOCKYSIZE\n",
            "WARNING:rasterio._env:CPLE_NotSupported in driver GTiff does not support open option COMPRESS\n",
            "WARNING:rasterio._env:CPLE_NotSupported in driver GTiff does not support open option INTERLEAVE\n"
          ]
        },
        {
          "output_type": "stream",
          "name": "stdout",
          "text": [
            "Done run 48 for bird Steller's Jay\n"
          ]
        },
        {
          "output_type": "stream",
          "name": "stderr",
          "text": [
            "WARNING:rasterio._env:CPLE_NotSupported in driver GTiff does not support open option BLOCKYSIZE\n",
            "WARNING:rasterio._env:CPLE_NotSupported in driver GTiff does not support open option COMPRESS\n",
            "WARNING:rasterio._env:CPLE_NotSupported in driver GTiff does not support open option INTERLEAVE\n",
            "WARNING:rasterio._env:CPLE_NotSupported in driver GTiff does not support open option BLOCKYSIZE\n",
            "WARNING:rasterio._env:CPLE_NotSupported in driver GTiff does not support open option COMPRESS\n",
            "WARNING:rasterio._env:CPLE_NotSupported in driver GTiff does not support open option INTERLEAVE\n"
          ]
        },
        {
          "output_type": "stream",
          "name": "stdout",
          "text": [
            "Done run 49 for bird Steller's Jay\n"
          ]
        },
        {
          "output_type": "stream",
          "name": "stderr",
          "text": [
            "WARNING:rasterio._env:CPLE_NotSupported in driver GTiff does not support open option BLOCKYSIZE\n",
            "WARNING:rasterio._env:CPLE_NotSupported in driver GTiff does not support open option COMPRESS\n",
            "WARNING:rasterio._env:CPLE_NotSupported in driver GTiff does not support open option INTERLEAVE\n",
            "WARNING:rasterio._env:CPLE_NotSupported in driver GTiff does not support open option BLOCKYSIZE\n",
            "WARNING:rasterio._env:CPLE_NotSupported in driver GTiff does not support open option COMPRESS\n",
            "WARNING:rasterio._env:CPLE_NotSupported in driver GTiff does not support open option INTERLEAVE\n"
          ]
        },
        {
          "output_type": "stream",
          "name": "stdout",
          "text": [
            "Done run 50 for bird Steller's Jay\n"
          ]
        },
        {
          "output_type": "stream",
          "name": "stderr",
          "text": [
            "WARNING:rasterio._env:CPLE_NotSupported in driver GTiff does not support open option BLOCKYSIZE\n",
            "WARNING:rasterio._env:CPLE_NotSupported in driver GTiff does not support open option COMPRESS\n",
            "WARNING:rasterio._env:CPLE_NotSupported in driver GTiff does not support open option INTERLEAVE\n",
            "WARNING:rasterio._env:CPLE_NotSupported in driver GTiff does not support open option BLOCKYSIZE\n",
            "WARNING:rasterio._env:CPLE_NotSupported in driver GTiff does not support open option COMPRESS\n",
            "WARNING:rasterio._env:CPLE_NotSupported in driver GTiff does not support open option INTERLEAVE\n"
          ]
        },
        {
          "output_type": "stream",
          "name": "stdout",
          "text": [
            "Done run 51 for bird Steller's Jay\n"
          ]
        },
        {
          "output_type": "stream",
          "name": "stderr",
          "text": [
            "WARNING:rasterio._env:CPLE_NotSupported in driver GTiff does not support open option BLOCKYSIZE\n",
            "WARNING:rasterio._env:CPLE_NotSupported in driver GTiff does not support open option COMPRESS\n",
            "WARNING:rasterio._env:CPLE_NotSupported in driver GTiff does not support open option INTERLEAVE\n",
            "WARNING:rasterio._env:CPLE_NotSupported in driver GTiff does not support open option BLOCKYSIZE\n",
            "WARNING:rasterio._env:CPLE_NotSupported in driver GTiff does not support open option COMPRESS\n",
            "WARNING:rasterio._env:CPLE_NotSupported in driver GTiff does not support open option INTERLEAVE\n"
          ]
        },
        {
          "output_type": "stream",
          "name": "stdout",
          "text": [
            "Done run 52 for bird Steller's Jay\n"
          ]
        },
        {
          "output_type": "stream",
          "name": "stderr",
          "text": [
            "WARNING:rasterio._env:CPLE_NotSupported in driver GTiff does not support open option BLOCKYSIZE\n",
            "WARNING:rasterio._env:CPLE_NotSupported in driver GTiff does not support open option COMPRESS\n",
            "WARNING:rasterio._env:CPLE_NotSupported in driver GTiff does not support open option INTERLEAVE\n",
            "WARNING:rasterio._env:CPLE_NotSupported in driver GTiff does not support open option BLOCKYSIZE\n",
            "WARNING:rasterio._env:CPLE_NotSupported in driver GTiff does not support open option COMPRESS\n",
            "WARNING:rasterio._env:CPLE_NotSupported in driver GTiff does not support open option INTERLEAVE\n"
          ]
        },
        {
          "output_type": "stream",
          "name": "stdout",
          "text": [
            "Done run 53 for bird Steller's Jay\n"
          ]
        },
        {
          "output_type": "stream",
          "name": "stderr",
          "text": [
            "WARNING:rasterio._env:CPLE_NotSupported in driver GTiff does not support open option BLOCKYSIZE\n",
            "WARNING:rasterio._env:CPLE_NotSupported in driver GTiff does not support open option COMPRESS\n",
            "WARNING:rasterio._env:CPLE_NotSupported in driver GTiff does not support open option INTERLEAVE\n",
            "WARNING:rasterio._env:CPLE_NotSupported in driver GTiff does not support open option BLOCKYSIZE\n",
            "WARNING:rasterio._env:CPLE_NotSupported in driver GTiff does not support open option COMPRESS\n",
            "WARNING:rasterio._env:CPLE_NotSupported in driver GTiff does not support open option INTERLEAVE\n"
          ]
        },
        {
          "output_type": "stream",
          "name": "stdout",
          "text": [
            "Done run 54 for bird Steller's Jay\n"
          ]
        },
        {
          "output_type": "stream",
          "name": "stderr",
          "text": [
            "WARNING:rasterio._env:CPLE_NotSupported in driver GTiff does not support open option BLOCKYSIZE\n",
            "WARNING:rasterio._env:CPLE_NotSupported in driver GTiff does not support open option COMPRESS\n",
            "WARNING:rasterio._env:CPLE_NotSupported in driver GTiff does not support open option INTERLEAVE\n",
            "WARNING:rasterio._env:CPLE_NotSupported in driver GTiff does not support open option BLOCKYSIZE\n",
            "WARNING:rasterio._env:CPLE_NotSupported in driver GTiff does not support open option COMPRESS\n",
            "WARNING:rasterio._env:CPLE_NotSupported in driver GTiff does not support open option INTERLEAVE\n"
          ]
        },
        {
          "output_type": "stream",
          "name": "stdout",
          "text": [
            "Done run 55 for bird Steller's Jay\n"
          ]
        },
        {
          "output_type": "stream",
          "name": "stderr",
          "text": [
            "WARNING:rasterio._env:CPLE_NotSupported in driver GTiff does not support open option BLOCKYSIZE\n",
            "WARNING:rasterio._env:CPLE_NotSupported in driver GTiff does not support open option COMPRESS\n",
            "WARNING:rasterio._env:CPLE_NotSupported in driver GTiff does not support open option INTERLEAVE\n",
            "WARNING:rasterio._env:CPLE_NotSupported in driver GTiff does not support open option BLOCKYSIZE\n",
            "WARNING:rasterio._env:CPLE_NotSupported in driver GTiff does not support open option COMPRESS\n",
            "WARNING:rasterio._env:CPLE_NotSupported in driver GTiff does not support open option INTERLEAVE\n"
          ]
        },
        {
          "output_type": "stream",
          "name": "stdout",
          "text": [
            "Done run 56 for bird Steller's Jay\n"
          ]
        },
        {
          "output_type": "stream",
          "name": "stderr",
          "text": [
            "WARNING:rasterio._env:CPLE_NotSupported in driver GTiff does not support open option BLOCKYSIZE\n",
            "WARNING:rasterio._env:CPLE_NotSupported in driver GTiff does not support open option COMPRESS\n",
            "WARNING:rasterio._env:CPLE_NotSupported in driver GTiff does not support open option INTERLEAVE\n",
            "WARNING:rasterio._env:CPLE_NotSupported in driver GTiff does not support open option BLOCKYSIZE\n",
            "WARNING:rasterio._env:CPLE_NotSupported in driver GTiff does not support open option COMPRESS\n",
            "WARNING:rasterio._env:CPLE_NotSupported in driver GTiff does not support open option INTERLEAVE\n"
          ]
        },
        {
          "output_type": "stream",
          "name": "stdout",
          "text": [
            "Done run 57 for bird Steller's Jay\n"
          ]
        },
        {
          "output_type": "stream",
          "name": "stderr",
          "text": [
            "WARNING:rasterio._env:CPLE_NotSupported in driver GTiff does not support open option BLOCKYSIZE\n",
            "WARNING:rasterio._env:CPLE_NotSupported in driver GTiff does not support open option COMPRESS\n",
            "WARNING:rasterio._env:CPLE_NotSupported in driver GTiff does not support open option INTERLEAVE\n",
            "WARNING:rasterio._env:CPLE_NotSupported in driver GTiff does not support open option BLOCKYSIZE\n",
            "WARNING:rasterio._env:CPLE_NotSupported in driver GTiff does not support open option COMPRESS\n",
            "WARNING:rasterio._env:CPLE_NotSupported in driver GTiff does not support open option INTERLEAVE\n"
          ]
        },
        {
          "output_type": "stream",
          "name": "stdout",
          "text": [
            "Done run 58 for bird Steller's Jay\n"
          ]
        },
        {
          "output_type": "stream",
          "name": "stderr",
          "text": [
            "WARNING:rasterio._env:CPLE_NotSupported in driver GTiff does not support open option BLOCKYSIZE\n",
            "WARNING:rasterio._env:CPLE_NotSupported in driver GTiff does not support open option COMPRESS\n",
            "WARNING:rasterio._env:CPLE_NotSupported in driver GTiff does not support open option INTERLEAVE\n",
            "WARNING:rasterio._env:CPLE_NotSupported in driver GTiff does not support open option BLOCKYSIZE\n",
            "WARNING:rasterio._env:CPLE_NotSupported in driver GTiff does not support open option COMPRESS\n",
            "WARNING:rasterio._env:CPLE_NotSupported in driver GTiff does not support open option INTERLEAVE\n"
          ]
        },
        {
          "output_type": "stream",
          "name": "stdout",
          "text": [
            "Done run 59 for bird Steller's Jay\n"
          ]
        },
        {
          "output_type": "stream",
          "name": "stderr",
          "text": [
            "WARNING:rasterio._env:CPLE_NotSupported in driver GTiff does not support open option BLOCKYSIZE\n",
            "WARNING:rasterio._env:CPLE_NotSupported in driver GTiff does not support open option COMPRESS\n",
            "WARNING:rasterio._env:CPLE_NotSupported in driver GTiff does not support open option INTERLEAVE\n",
            "WARNING:rasterio._env:CPLE_NotSupported in driver GTiff does not support open option BLOCKYSIZE\n",
            "WARNING:rasterio._env:CPLE_NotSupported in driver GTiff does not support open option COMPRESS\n",
            "WARNING:rasterio._env:CPLE_NotSupported in driver GTiff does not support open option INTERLEAVE\n"
          ]
        },
        {
          "output_type": "stream",
          "name": "stdout",
          "text": [
            "Done run 60 for bird Steller's Jay\n"
          ]
        },
        {
          "output_type": "stream",
          "name": "stderr",
          "text": [
            "WARNING:rasterio._env:CPLE_NotSupported in driver GTiff does not support open option BLOCKYSIZE\n",
            "WARNING:rasterio._env:CPLE_NotSupported in driver GTiff does not support open option COMPRESS\n",
            "WARNING:rasterio._env:CPLE_NotSupported in driver GTiff does not support open option INTERLEAVE\n",
            "WARNING:rasterio._env:CPLE_NotSupported in driver GTiff does not support open option BLOCKYSIZE\n",
            "WARNING:rasterio._env:CPLE_NotSupported in driver GTiff does not support open option COMPRESS\n",
            "WARNING:rasterio._env:CPLE_NotSupported in driver GTiff does not support open option INTERLEAVE\n"
          ]
        },
        {
          "output_type": "stream",
          "name": "stdout",
          "text": [
            "Done run 61 for bird Steller's Jay\n"
          ]
        },
        {
          "output_type": "stream",
          "name": "stderr",
          "text": [
            "WARNING:rasterio._env:CPLE_NotSupported in driver GTiff does not support open option BLOCKYSIZE\n",
            "WARNING:rasterio._env:CPLE_NotSupported in driver GTiff does not support open option COMPRESS\n",
            "WARNING:rasterio._env:CPLE_NotSupported in driver GTiff does not support open option INTERLEAVE\n",
            "WARNING:rasterio._env:CPLE_NotSupported in driver GTiff does not support open option BLOCKYSIZE\n",
            "WARNING:rasterio._env:CPLE_NotSupported in driver GTiff does not support open option COMPRESS\n",
            "WARNING:rasterio._env:CPLE_NotSupported in driver GTiff does not support open option INTERLEAVE\n"
          ]
        },
        {
          "output_type": "stream",
          "name": "stdout",
          "text": [
            "Done run 62 for bird Steller's Jay\n"
          ]
        },
        {
          "output_type": "stream",
          "name": "stderr",
          "text": [
            "WARNING:rasterio._env:CPLE_NotSupported in driver GTiff does not support open option BLOCKYSIZE\n",
            "WARNING:rasterio._env:CPLE_NotSupported in driver GTiff does not support open option COMPRESS\n",
            "WARNING:rasterio._env:CPLE_NotSupported in driver GTiff does not support open option INTERLEAVE\n",
            "WARNING:rasterio._env:CPLE_NotSupported in driver GTiff does not support open option BLOCKYSIZE\n",
            "WARNING:rasterio._env:CPLE_NotSupported in driver GTiff does not support open option COMPRESS\n",
            "WARNING:rasterio._env:CPLE_NotSupported in driver GTiff does not support open option INTERLEAVE\n"
          ]
        },
        {
          "output_type": "stream",
          "name": "stdout",
          "text": [
            "Done run 63 for bird Steller's Jay\n"
          ]
        },
        {
          "output_type": "stream",
          "name": "stderr",
          "text": [
            "WARNING:rasterio._env:CPLE_NotSupported in driver GTiff does not support open option BLOCKYSIZE\n",
            "WARNING:rasterio._env:CPLE_NotSupported in driver GTiff does not support open option COMPRESS\n",
            "WARNING:rasterio._env:CPLE_NotSupported in driver GTiff does not support open option INTERLEAVE\n",
            "WARNING:rasterio._env:CPLE_NotSupported in driver GTiff does not support open option BLOCKYSIZE\n",
            "WARNING:rasterio._env:CPLE_NotSupported in driver GTiff does not support open option COMPRESS\n",
            "WARNING:rasterio._env:CPLE_NotSupported in driver GTiff does not support open option INTERLEAVE\n"
          ]
        },
        {
          "output_type": "stream",
          "name": "stdout",
          "text": [
            "Done run 64 for bird Steller's Jay\n"
          ]
        },
        {
          "output_type": "stream",
          "name": "stderr",
          "text": [
            "WARNING:rasterio._env:CPLE_NotSupported in driver GTiff does not support open option BLOCKYSIZE\n",
            "WARNING:rasterio._env:CPLE_NotSupported in driver GTiff does not support open option COMPRESS\n",
            "WARNING:rasterio._env:CPLE_NotSupported in driver GTiff does not support open option INTERLEAVE\n",
            "WARNING:rasterio._env:CPLE_NotSupported in driver GTiff does not support open option BLOCKYSIZE\n",
            "WARNING:rasterio._env:CPLE_NotSupported in driver GTiff does not support open option COMPRESS\n",
            "WARNING:rasterio._env:CPLE_NotSupported in driver GTiff does not support open option INTERLEAVE\n"
          ]
        },
        {
          "output_type": "stream",
          "name": "stdout",
          "text": [
            "Done run 65 for bird Steller's Jay\n"
          ]
        },
        {
          "output_type": "stream",
          "name": "stderr",
          "text": [
            "WARNING:rasterio._env:CPLE_NotSupported in driver GTiff does not support open option BLOCKYSIZE\n",
            "WARNING:rasterio._env:CPLE_NotSupported in driver GTiff does not support open option COMPRESS\n",
            "WARNING:rasterio._env:CPLE_NotSupported in driver GTiff does not support open option INTERLEAVE\n",
            "WARNING:rasterio._env:CPLE_NotSupported in driver GTiff does not support open option BLOCKYSIZE\n",
            "WARNING:rasterio._env:CPLE_NotSupported in driver GTiff does not support open option COMPRESS\n",
            "WARNING:rasterio._env:CPLE_NotSupported in driver GTiff does not support open option INTERLEAVE\n"
          ]
        },
        {
          "output_type": "stream",
          "name": "stdout",
          "text": [
            "Done run 66 for bird Steller's Jay\n"
          ]
        },
        {
          "output_type": "stream",
          "name": "stderr",
          "text": [
            "WARNING:rasterio._env:CPLE_NotSupported in driver GTiff does not support open option BLOCKYSIZE\n",
            "WARNING:rasterio._env:CPLE_NotSupported in driver GTiff does not support open option COMPRESS\n",
            "WARNING:rasterio._env:CPLE_NotSupported in driver GTiff does not support open option INTERLEAVE\n",
            "WARNING:rasterio._env:CPLE_NotSupported in driver GTiff does not support open option BLOCKYSIZE\n",
            "WARNING:rasterio._env:CPLE_NotSupported in driver GTiff does not support open option COMPRESS\n",
            "WARNING:rasterio._env:CPLE_NotSupported in driver GTiff does not support open option INTERLEAVE\n"
          ]
        },
        {
          "output_type": "stream",
          "name": "stdout",
          "text": [
            "Done run 67 for bird Steller's Jay\n"
          ]
        },
        {
          "output_type": "stream",
          "name": "stderr",
          "text": [
            "WARNING:rasterio._env:CPLE_NotSupported in driver GTiff does not support open option BLOCKYSIZE\n",
            "WARNING:rasterio._env:CPLE_NotSupported in driver GTiff does not support open option COMPRESS\n",
            "WARNING:rasterio._env:CPLE_NotSupported in driver GTiff does not support open option INTERLEAVE\n",
            "WARNING:rasterio._env:CPLE_NotSupported in driver GTiff does not support open option BLOCKYSIZE\n",
            "WARNING:rasterio._env:CPLE_NotSupported in driver GTiff does not support open option COMPRESS\n",
            "WARNING:rasterio._env:CPLE_NotSupported in driver GTiff does not support open option INTERLEAVE\n"
          ]
        },
        {
          "output_type": "stream",
          "name": "stdout",
          "text": [
            "Done run 68 for bird Steller's Jay\n"
          ]
        },
        {
          "output_type": "stream",
          "name": "stderr",
          "text": [
            "WARNING:rasterio._env:CPLE_NotSupported in driver GTiff does not support open option BLOCKYSIZE\n",
            "WARNING:rasterio._env:CPLE_NotSupported in driver GTiff does not support open option COMPRESS\n",
            "WARNING:rasterio._env:CPLE_NotSupported in driver GTiff does not support open option INTERLEAVE\n",
            "WARNING:rasterio._env:CPLE_NotSupported in driver GTiff does not support open option BLOCKYSIZE\n",
            "WARNING:rasterio._env:CPLE_NotSupported in driver GTiff does not support open option COMPRESS\n",
            "WARNING:rasterio._env:CPLE_NotSupported in driver GTiff does not support open option INTERLEAVE\n"
          ]
        },
        {
          "output_type": "stream",
          "name": "stdout",
          "text": [
            "Done run 69 for bird Steller's Jay\n"
          ]
        },
        {
          "output_type": "stream",
          "name": "stderr",
          "text": [
            "WARNING:rasterio._env:CPLE_NotSupported in driver GTiff does not support open option BLOCKYSIZE\n",
            "WARNING:rasterio._env:CPLE_NotSupported in driver GTiff does not support open option COMPRESS\n",
            "WARNING:rasterio._env:CPLE_NotSupported in driver GTiff does not support open option INTERLEAVE\n",
            "WARNING:rasterio._env:CPLE_NotSupported in driver GTiff does not support open option BLOCKYSIZE\n",
            "WARNING:rasterio._env:CPLE_NotSupported in driver GTiff does not support open option COMPRESS\n",
            "WARNING:rasterio._env:CPLE_NotSupported in driver GTiff does not support open option INTERLEAVE\n"
          ]
        },
        {
          "output_type": "stream",
          "name": "stdout",
          "text": [
            "Done run 70 for bird Steller's Jay\n"
          ]
        },
        {
          "output_type": "stream",
          "name": "stderr",
          "text": [
            "WARNING:rasterio._env:CPLE_NotSupported in driver GTiff does not support open option BLOCKYSIZE\n",
            "WARNING:rasterio._env:CPLE_NotSupported in driver GTiff does not support open option COMPRESS\n",
            "WARNING:rasterio._env:CPLE_NotSupported in driver GTiff does not support open option INTERLEAVE\n",
            "WARNING:rasterio._env:CPLE_NotSupported in driver GTiff does not support open option BLOCKYSIZE\n",
            "WARNING:rasterio._env:CPLE_NotSupported in driver GTiff does not support open option COMPRESS\n",
            "WARNING:rasterio._env:CPLE_NotSupported in driver GTiff does not support open option INTERLEAVE\n"
          ]
        },
        {
          "output_type": "stream",
          "name": "stdout",
          "text": [
            "Done run 71 for bird Steller's Jay\n"
          ]
        },
        {
          "output_type": "stream",
          "name": "stderr",
          "text": [
            "WARNING:rasterio._env:CPLE_NotSupported in driver GTiff does not support open option BLOCKYSIZE\n",
            "WARNING:rasterio._env:CPLE_NotSupported in driver GTiff does not support open option COMPRESS\n",
            "WARNING:rasterio._env:CPLE_NotSupported in driver GTiff does not support open option INTERLEAVE\n",
            "WARNING:rasterio._env:CPLE_NotSupported in driver GTiff does not support open option BLOCKYSIZE\n",
            "WARNING:rasterio._env:CPLE_NotSupported in driver GTiff does not support open option COMPRESS\n",
            "WARNING:rasterio._env:CPLE_NotSupported in driver GTiff does not support open option INTERLEAVE\n"
          ]
        },
        {
          "output_type": "stream",
          "name": "stdout",
          "text": [
            "Done run 72 for bird Steller's Jay\n"
          ]
        },
        {
          "output_type": "stream",
          "name": "stderr",
          "text": [
            "WARNING:rasterio._env:CPLE_NotSupported in driver GTiff does not support open option BLOCKYSIZE\n",
            "WARNING:rasterio._env:CPLE_NotSupported in driver GTiff does not support open option COMPRESS\n",
            "WARNING:rasterio._env:CPLE_NotSupported in driver GTiff does not support open option INTERLEAVE\n",
            "WARNING:rasterio._env:CPLE_NotSupported in driver GTiff does not support open option BLOCKYSIZE\n",
            "WARNING:rasterio._env:CPLE_NotSupported in driver GTiff does not support open option COMPRESS\n",
            "WARNING:rasterio._env:CPLE_NotSupported in driver GTiff does not support open option INTERLEAVE\n"
          ]
        },
        {
          "output_type": "stream",
          "name": "stdout",
          "text": [
            "Done run 73 for bird Steller's Jay\n"
          ]
        },
        {
          "output_type": "stream",
          "name": "stderr",
          "text": [
            "WARNING:rasterio._env:CPLE_NotSupported in driver GTiff does not support open option BLOCKYSIZE\n",
            "WARNING:rasterio._env:CPLE_NotSupported in driver GTiff does not support open option COMPRESS\n",
            "WARNING:rasterio._env:CPLE_NotSupported in driver GTiff does not support open option INTERLEAVE\n",
            "WARNING:rasterio._env:CPLE_NotSupported in driver GTiff does not support open option BLOCKYSIZE\n",
            "WARNING:rasterio._env:CPLE_NotSupported in driver GTiff does not support open option COMPRESS\n",
            "WARNING:rasterio._env:CPLE_NotSupported in driver GTiff does not support open option INTERLEAVE\n"
          ]
        },
        {
          "output_type": "stream",
          "name": "stdout",
          "text": [
            "Done run 74 for bird Steller's Jay\n"
          ]
        },
        {
          "output_type": "stream",
          "name": "stderr",
          "text": [
            "WARNING:rasterio._env:CPLE_NotSupported in driver GTiff does not support open option BLOCKYSIZE\n",
            "WARNING:rasterio._env:CPLE_NotSupported in driver GTiff does not support open option COMPRESS\n",
            "WARNING:rasterio._env:CPLE_NotSupported in driver GTiff does not support open option INTERLEAVE\n",
            "WARNING:rasterio._env:CPLE_NotSupported in driver GTiff does not support open option BLOCKYSIZE\n",
            "WARNING:rasterio._env:CPLE_NotSupported in driver GTiff does not support open option COMPRESS\n",
            "WARNING:rasterio._env:CPLE_NotSupported in driver GTiff does not support open option INTERLEAVE\n"
          ]
        },
        {
          "output_type": "stream",
          "name": "stdout",
          "text": [
            "Done run 75 for bird Steller's Jay\n"
          ]
        },
        {
          "output_type": "stream",
          "name": "stderr",
          "text": [
            "WARNING:rasterio._env:CPLE_NotSupported in driver GTiff does not support open option BLOCKYSIZE\n",
            "WARNING:rasterio._env:CPLE_NotSupported in driver GTiff does not support open option COMPRESS\n",
            "WARNING:rasterio._env:CPLE_NotSupported in driver GTiff does not support open option INTERLEAVE\n",
            "WARNING:rasterio._env:CPLE_NotSupported in driver GTiff does not support open option BLOCKYSIZE\n",
            "WARNING:rasterio._env:CPLE_NotSupported in driver GTiff does not support open option COMPRESS\n",
            "WARNING:rasterio._env:CPLE_NotSupported in driver GTiff does not support open option INTERLEAVE\n"
          ]
        },
        {
          "output_type": "stream",
          "name": "stdout",
          "text": [
            "Done run 76 for bird Steller's Jay\n"
          ]
        },
        {
          "output_type": "stream",
          "name": "stderr",
          "text": [
            "WARNING:rasterio._env:CPLE_NotSupported in driver GTiff does not support open option BLOCKYSIZE\n",
            "WARNING:rasterio._env:CPLE_NotSupported in driver GTiff does not support open option COMPRESS\n",
            "WARNING:rasterio._env:CPLE_NotSupported in driver GTiff does not support open option INTERLEAVE\n",
            "WARNING:rasterio._env:CPLE_NotSupported in driver GTiff does not support open option BLOCKYSIZE\n",
            "WARNING:rasterio._env:CPLE_NotSupported in driver GTiff does not support open option COMPRESS\n",
            "WARNING:rasterio._env:CPLE_NotSupported in driver GTiff does not support open option INTERLEAVE\n"
          ]
        },
        {
          "output_type": "stream",
          "name": "stdout",
          "text": [
            "Done run 77 for bird Steller's Jay\n"
          ]
        },
        {
          "output_type": "stream",
          "name": "stderr",
          "text": [
            "WARNING:rasterio._env:CPLE_NotSupported in driver GTiff does not support open option BLOCKYSIZE\n",
            "WARNING:rasterio._env:CPLE_NotSupported in driver GTiff does not support open option COMPRESS\n",
            "WARNING:rasterio._env:CPLE_NotSupported in driver GTiff does not support open option INTERLEAVE\n",
            "WARNING:rasterio._env:CPLE_NotSupported in driver GTiff does not support open option BLOCKYSIZE\n",
            "WARNING:rasterio._env:CPLE_NotSupported in driver GTiff does not support open option COMPRESS\n",
            "WARNING:rasterio._env:CPLE_NotSupported in driver GTiff does not support open option INTERLEAVE\n"
          ]
        },
        {
          "output_type": "stream",
          "name": "stdout",
          "text": [
            "Done run 78 for bird Steller's Jay\n"
          ]
        },
        {
          "output_type": "stream",
          "name": "stderr",
          "text": [
            "WARNING:rasterio._env:CPLE_NotSupported in driver GTiff does not support open option BLOCKYSIZE\n",
            "WARNING:rasterio._env:CPLE_NotSupported in driver GTiff does not support open option COMPRESS\n",
            "WARNING:rasterio._env:CPLE_NotSupported in driver GTiff does not support open option INTERLEAVE\n",
            "WARNING:rasterio._env:CPLE_NotSupported in driver GTiff does not support open option BLOCKYSIZE\n",
            "WARNING:rasterio._env:CPLE_NotSupported in driver GTiff does not support open option COMPRESS\n",
            "WARNING:rasterio._env:CPLE_NotSupported in driver GTiff does not support open option INTERLEAVE\n"
          ]
        },
        {
          "output_type": "stream",
          "name": "stdout",
          "text": [
            "Done run 79 for bird Steller's Jay\n"
          ]
        },
        {
          "output_type": "stream",
          "name": "stderr",
          "text": [
            "WARNING:rasterio._env:CPLE_NotSupported in driver GTiff does not support open option BLOCKYSIZE\n",
            "WARNING:rasterio._env:CPLE_NotSupported in driver GTiff does not support open option COMPRESS\n",
            "WARNING:rasterio._env:CPLE_NotSupported in driver GTiff does not support open option INTERLEAVE\n",
            "WARNING:rasterio._env:CPLE_NotSupported in driver GTiff does not support open option BLOCKYSIZE\n",
            "WARNING:rasterio._env:CPLE_NotSupported in driver GTiff does not support open option COMPRESS\n",
            "WARNING:rasterio._env:CPLE_NotSupported in driver GTiff does not support open option INTERLEAVE\n"
          ]
        },
        {
          "output_type": "stream",
          "name": "stdout",
          "text": [
            "Done run 80 for bird Steller's Jay\n"
          ]
        },
        {
          "output_type": "stream",
          "name": "stderr",
          "text": [
            "WARNING:rasterio._env:CPLE_NotSupported in driver GTiff does not support open option BLOCKYSIZE\n",
            "WARNING:rasterio._env:CPLE_NotSupported in driver GTiff does not support open option COMPRESS\n",
            "WARNING:rasterio._env:CPLE_NotSupported in driver GTiff does not support open option INTERLEAVE\n",
            "WARNING:rasterio._env:CPLE_NotSupported in driver GTiff does not support open option BLOCKYSIZE\n",
            "WARNING:rasterio._env:CPLE_NotSupported in driver GTiff does not support open option COMPRESS\n",
            "WARNING:rasterio._env:CPLE_NotSupported in driver GTiff does not support open option INTERLEAVE\n"
          ]
        },
        {
          "output_type": "stream",
          "name": "stdout",
          "text": [
            "Done run 81 for bird Steller's Jay\n"
          ]
        },
        {
          "output_type": "stream",
          "name": "stderr",
          "text": [
            "WARNING:rasterio._env:CPLE_NotSupported in driver GTiff does not support open option BLOCKYSIZE\n",
            "WARNING:rasterio._env:CPLE_NotSupported in driver GTiff does not support open option COMPRESS\n",
            "WARNING:rasterio._env:CPLE_NotSupported in driver GTiff does not support open option INTERLEAVE\n",
            "WARNING:rasterio._env:CPLE_NotSupported in driver GTiff does not support open option BLOCKYSIZE\n",
            "WARNING:rasterio._env:CPLE_NotSupported in driver GTiff does not support open option COMPRESS\n",
            "WARNING:rasterio._env:CPLE_NotSupported in driver GTiff does not support open option INTERLEAVE\n"
          ]
        },
        {
          "output_type": "stream",
          "name": "stdout",
          "text": [
            "Done run 82 for bird Steller's Jay\n"
          ]
        },
        {
          "output_type": "stream",
          "name": "stderr",
          "text": [
            "WARNING:rasterio._env:CPLE_NotSupported in driver GTiff does not support open option BLOCKYSIZE\n",
            "WARNING:rasterio._env:CPLE_NotSupported in driver GTiff does not support open option COMPRESS\n",
            "WARNING:rasterio._env:CPLE_NotSupported in driver GTiff does not support open option INTERLEAVE\n",
            "WARNING:rasterio._env:CPLE_NotSupported in driver GTiff does not support open option BLOCKYSIZE\n",
            "WARNING:rasterio._env:CPLE_NotSupported in driver GTiff does not support open option COMPRESS\n",
            "WARNING:rasterio._env:CPLE_NotSupported in driver GTiff does not support open option INTERLEAVE\n"
          ]
        },
        {
          "output_type": "stream",
          "name": "stdout",
          "text": [
            "Done run 83 for bird Steller's Jay\n"
          ]
        },
        {
          "output_type": "stream",
          "name": "stderr",
          "text": [
            "WARNING:rasterio._env:CPLE_NotSupported in driver GTiff does not support open option BLOCKYSIZE\n",
            "WARNING:rasterio._env:CPLE_NotSupported in driver GTiff does not support open option COMPRESS\n",
            "WARNING:rasterio._env:CPLE_NotSupported in driver GTiff does not support open option INTERLEAVE\n",
            "WARNING:rasterio._env:CPLE_NotSupported in driver GTiff does not support open option BLOCKYSIZE\n",
            "WARNING:rasterio._env:CPLE_NotSupported in driver GTiff does not support open option COMPRESS\n",
            "WARNING:rasterio._env:CPLE_NotSupported in driver GTiff does not support open option INTERLEAVE\n"
          ]
        },
        {
          "output_type": "stream",
          "name": "stdout",
          "text": [
            "Done run 84 for bird Steller's Jay\n"
          ]
        },
        {
          "output_type": "stream",
          "name": "stderr",
          "text": [
            "WARNING:rasterio._env:CPLE_NotSupported in driver GTiff does not support open option BLOCKYSIZE\n",
            "WARNING:rasterio._env:CPLE_NotSupported in driver GTiff does not support open option COMPRESS\n",
            "WARNING:rasterio._env:CPLE_NotSupported in driver GTiff does not support open option INTERLEAVE\n",
            "WARNING:rasterio._env:CPLE_NotSupported in driver GTiff does not support open option BLOCKYSIZE\n",
            "WARNING:rasterio._env:CPLE_NotSupported in driver GTiff does not support open option COMPRESS\n",
            "WARNING:rasterio._env:CPLE_NotSupported in driver GTiff does not support open option INTERLEAVE\n"
          ]
        },
        {
          "output_type": "stream",
          "name": "stdout",
          "text": [
            "Done run 85 for bird Steller's Jay\n"
          ]
        },
        {
          "output_type": "stream",
          "name": "stderr",
          "text": [
            "WARNING:rasterio._env:CPLE_NotSupported in driver GTiff does not support open option BLOCKYSIZE\n",
            "WARNING:rasterio._env:CPLE_NotSupported in driver GTiff does not support open option COMPRESS\n",
            "WARNING:rasterio._env:CPLE_NotSupported in driver GTiff does not support open option INTERLEAVE\n",
            "WARNING:rasterio._env:CPLE_NotSupported in driver GTiff does not support open option BLOCKYSIZE\n",
            "WARNING:rasterio._env:CPLE_NotSupported in driver GTiff does not support open option COMPRESS\n",
            "WARNING:rasterio._env:CPLE_NotSupported in driver GTiff does not support open option INTERLEAVE\n"
          ]
        },
        {
          "output_type": "stream",
          "name": "stdout",
          "text": [
            "Done run 86 for bird Steller's Jay\n"
          ]
        },
        {
          "output_type": "stream",
          "name": "stderr",
          "text": [
            "WARNING:rasterio._env:CPLE_NotSupported in driver GTiff does not support open option BLOCKYSIZE\n",
            "WARNING:rasterio._env:CPLE_NotSupported in driver GTiff does not support open option COMPRESS\n",
            "WARNING:rasterio._env:CPLE_NotSupported in driver GTiff does not support open option INTERLEAVE\n",
            "WARNING:rasterio._env:CPLE_NotSupported in driver GTiff does not support open option BLOCKYSIZE\n",
            "WARNING:rasterio._env:CPLE_NotSupported in driver GTiff does not support open option COMPRESS\n",
            "WARNING:rasterio._env:CPLE_NotSupported in driver GTiff does not support open option INTERLEAVE\n"
          ]
        },
        {
          "output_type": "stream",
          "name": "stdout",
          "text": [
            "Done run 87 for bird Steller's Jay\n"
          ]
        },
        {
          "output_type": "stream",
          "name": "stderr",
          "text": [
            "WARNING:rasterio._env:CPLE_NotSupported in driver GTiff does not support open option BLOCKYSIZE\n",
            "WARNING:rasterio._env:CPLE_NotSupported in driver GTiff does not support open option COMPRESS\n",
            "WARNING:rasterio._env:CPLE_NotSupported in driver GTiff does not support open option INTERLEAVE\n",
            "WARNING:rasterio._env:CPLE_NotSupported in driver GTiff does not support open option BLOCKYSIZE\n",
            "WARNING:rasterio._env:CPLE_NotSupported in driver GTiff does not support open option COMPRESS\n",
            "WARNING:rasterio._env:CPLE_NotSupported in driver GTiff does not support open option INTERLEAVE\n"
          ]
        },
        {
          "output_type": "stream",
          "name": "stdout",
          "text": [
            "Done run 88 for bird Steller's Jay\n"
          ]
        },
        {
          "output_type": "stream",
          "name": "stderr",
          "text": [
            "WARNING:rasterio._env:CPLE_NotSupported in driver GTiff does not support open option BLOCKYSIZE\n",
            "WARNING:rasterio._env:CPLE_NotSupported in driver GTiff does not support open option COMPRESS\n",
            "WARNING:rasterio._env:CPLE_NotSupported in driver GTiff does not support open option INTERLEAVE\n",
            "WARNING:rasterio._env:CPLE_NotSupported in driver GTiff does not support open option BLOCKYSIZE\n",
            "WARNING:rasterio._env:CPLE_NotSupported in driver GTiff does not support open option COMPRESS\n",
            "WARNING:rasterio._env:CPLE_NotSupported in driver GTiff does not support open option INTERLEAVE\n"
          ]
        },
        {
          "output_type": "stream",
          "name": "stdout",
          "text": [
            "Done run 89 for bird Steller's Jay\n"
          ]
        },
        {
          "output_type": "stream",
          "name": "stderr",
          "text": [
            "WARNING:rasterio._env:CPLE_NotSupported in driver GTiff does not support open option BLOCKYSIZE\n",
            "WARNING:rasterio._env:CPLE_NotSupported in driver GTiff does not support open option COMPRESS\n",
            "WARNING:rasterio._env:CPLE_NotSupported in driver GTiff does not support open option INTERLEAVE\n",
            "WARNING:rasterio._env:CPLE_NotSupported in driver GTiff does not support open option BLOCKYSIZE\n",
            "WARNING:rasterio._env:CPLE_NotSupported in driver GTiff does not support open option COMPRESS\n",
            "WARNING:rasterio._env:CPLE_NotSupported in driver GTiff does not support open option INTERLEAVE\n"
          ]
        },
        {
          "output_type": "stream",
          "name": "stdout",
          "text": [
            "Done run 90 for bird Steller's Jay\n"
          ]
        },
        {
          "output_type": "stream",
          "name": "stderr",
          "text": [
            "WARNING:rasterio._env:CPLE_NotSupported in driver GTiff does not support open option BLOCKYSIZE\n",
            "WARNING:rasterio._env:CPLE_NotSupported in driver GTiff does not support open option COMPRESS\n",
            "WARNING:rasterio._env:CPLE_NotSupported in driver GTiff does not support open option INTERLEAVE\n",
            "WARNING:rasterio._env:CPLE_NotSupported in driver GTiff does not support open option BLOCKYSIZE\n",
            "WARNING:rasterio._env:CPLE_NotSupported in driver GTiff does not support open option COMPRESS\n",
            "WARNING:rasterio._env:CPLE_NotSupported in driver GTiff does not support open option INTERLEAVE\n"
          ]
        },
        {
          "output_type": "stream",
          "name": "stdout",
          "text": [
            "Done run 91 for bird Steller's Jay\n"
          ]
        },
        {
          "output_type": "stream",
          "name": "stderr",
          "text": [
            "WARNING:rasterio._env:CPLE_NotSupported in driver GTiff does not support open option BLOCKYSIZE\n",
            "WARNING:rasterio._env:CPLE_NotSupported in driver GTiff does not support open option COMPRESS\n",
            "WARNING:rasterio._env:CPLE_NotSupported in driver GTiff does not support open option INTERLEAVE\n",
            "WARNING:rasterio._env:CPLE_NotSupported in driver GTiff does not support open option BLOCKYSIZE\n",
            "WARNING:rasterio._env:CPLE_NotSupported in driver GTiff does not support open option COMPRESS\n",
            "WARNING:rasterio._env:CPLE_NotSupported in driver GTiff does not support open option INTERLEAVE\n"
          ]
        },
        {
          "output_type": "stream",
          "name": "stdout",
          "text": [
            "Done run 92 for bird Steller's Jay\n"
          ]
        },
        {
          "output_type": "stream",
          "name": "stderr",
          "text": [
            "WARNING:rasterio._env:CPLE_NotSupported in driver GTiff does not support open option BLOCKYSIZE\n",
            "WARNING:rasterio._env:CPLE_NotSupported in driver GTiff does not support open option COMPRESS\n",
            "WARNING:rasterio._env:CPLE_NotSupported in driver GTiff does not support open option INTERLEAVE\n",
            "WARNING:rasterio._env:CPLE_NotSupported in driver GTiff does not support open option BLOCKYSIZE\n",
            "WARNING:rasterio._env:CPLE_NotSupported in driver GTiff does not support open option COMPRESS\n",
            "WARNING:rasterio._env:CPLE_NotSupported in driver GTiff does not support open option INTERLEAVE\n"
          ]
        },
        {
          "output_type": "stream",
          "name": "stdout",
          "text": [
            "Done run 93 for bird Steller's Jay\n"
          ]
        },
        {
          "output_type": "stream",
          "name": "stderr",
          "text": [
            "WARNING:rasterio._env:CPLE_NotSupported in driver GTiff does not support open option BLOCKYSIZE\n",
            "WARNING:rasterio._env:CPLE_NotSupported in driver GTiff does not support open option COMPRESS\n",
            "WARNING:rasterio._env:CPLE_NotSupported in driver GTiff does not support open option INTERLEAVE\n",
            "WARNING:rasterio._env:CPLE_NotSupported in driver GTiff does not support open option BLOCKYSIZE\n",
            "WARNING:rasterio._env:CPLE_NotSupported in driver GTiff does not support open option COMPRESS\n",
            "WARNING:rasterio._env:CPLE_NotSupported in driver GTiff does not support open option INTERLEAVE\n"
          ]
        },
        {
          "output_type": "stream",
          "name": "stdout",
          "text": [
            "Done run 94 for bird Steller's Jay\n"
          ]
        },
        {
          "output_type": "stream",
          "name": "stderr",
          "text": [
            "WARNING:rasterio._env:CPLE_NotSupported in driver GTiff does not support open option BLOCKYSIZE\n",
            "WARNING:rasterio._env:CPLE_NotSupported in driver GTiff does not support open option COMPRESS\n",
            "WARNING:rasterio._env:CPLE_NotSupported in driver GTiff does not support open option INTERLEAVE\n",
            "WARNING:rasterio._env:CPLE_NotSupported in driver GTiff does not support open option BLOCKYSIZE\n",
            "WARNING:rasterio._env:CPLE_NotSupported in driver GTiff does not support open option COMPRESS\n",
            "WARNING:rasterio._env:CPLE_NotSupported in driver GTiff does not support open option INTERLEAVE\n"
          ]
        },
        {
          "output_type": "stream",
          "name": "stdout",
          "text": [
            "Done run 95 for bird Steller's Jay\n"
          ]
        },
        {
          "output_type": "stream",
          "name": "stderr",
          "text": [
            "WARNING:rasterio._env:CPLE_NotSupported in driver GTiff does not support open option BLOCKYSIZE\n",
            "WARNING:rasterio._env:CPLE_NotSupported in driver GTiff does not support open option COMPRESS\n",
            "WARNING:rasterio._env:CPLE_NotSupported in driver GTiff does not support open option INTERLEAVE\n",
            "WARNING:rasterio._env:CPLE_NotSupported in driver GTiff does not support open option BLOCKYSIZE\n",
            "WARNING:rasterio._env:CPLE_NotSupported in driver GTiff does not support open option COMPRESS\n",
            "WARNING:rasterio._env:CPLE_NotSupported in driver GTiff does not support open option INTERLEAVE\n"
          ]
        },
        {
          "output_type": "stream",
          "name": "stdout",
          "text": [
            "Done run 96 for bird Steller's Jay\n"
          ]
        },
        {
          "output_type": "stream",
          "name": "stderr",
          "text": [
            "WARNING:rasterio._env:CPLE_NotSupported in driver GTiff does not support open option BLOCKYSIZE\n",
            "WARNING:rasterio._env:CPLE_NotSupported in driver GTiff does not support open option COMPRESS\n",
            "WARNING:rasterio._env:CPLE_NotSupported in driver GTiff does not support open option INTERLEAVE\n",
            "WARNING:rasterio._env:CPLE_NotSupported in driver GTiff does not support open option BLOCKYSIZE\n",
            "WARNING:rasterio._env:CPLE_NotSupported in driver GTiff does not support open option COMPRESS\n",
            "WARNING:rasterio._env:CPLE_NotSupported in driver GTiff does not support open option INTERLEAVE\n"
          ]
        },
        {
          "output_type": "stream",
          "name": "stdout",
          "text": [
            "Done run 97 for bird Steller's Jay\n"
          ]
        },
        {
          "output_type": "stream",
          "name": "stderr",
          "text": [
            "WARNING:rasterio._env:CPLE_NotSupported in driver GTiff does not support open option BLOCKYSIZE\n",
            "WARNING:rasterio._env:CPLE_NotSupported in driver GTiff does not support open option COMPRESS\n",
            "WARNING:rasterio._env:CPLE_NotSupported in driver GTiff does not support open option INTERLEAVE\n",
            "WARNING:rasterio._env:CPLE_NotSupported in driver GTiff does not support open option BLOCKYSIZE\n",
            "WARNING:rasterio._env:CPLE_NotSupported in driver GTiff does not support open option COMPRESS\n",
            "WARNING:rasterio._env:CPLE_NotSupported in driver GTiff does not support open option INTERLEAVE\n"
          ]
        },
        {
          "output_type": "stream",
          "name": "stdout",
          "text": [
            "Done run 98 for bird Steller's Jay\n",
            "Done run 99 for bird Steller's Jay\n"
          ]
        },
        {
          "output_type": "stream",
          "name": "stderr",
          "text": [
            "WARNING:rasterio._env:CPLE_NotSupported in driver GTiff does not support open option BLOCKYSIZE\n",
            "WARNING:rasterio._env:CPLE_NotSupported in driver GTiff does not support open option COMPRESS\n",
            "WARNING:rasterio._env:CPLE_NotSupported in driver GTiff does not support open option INTERLEAVE\n",
            "WARNING:rasterio._env:CPLE_NotSupported in driver GTiff does not support open option BLOCKYSIZE\n",
            "WARNING:rasterio._env:CPLE_NotSupported in driver GTiff does not support open option COMPRESS\n",
            "WARNING:rasterio._env:CPLE_NotSupported in driver GTiff does not support open option INTERLEAVE\n",
            "WARNING:rasterio._env:CPLE_NotSupported in driver GTiff does not support open option BLOCKYSIZE\n",
            "WARNING:rasterio._env:CPLE_NotSupported in driver GTiff does not support open option COMPRESS\n",
            "WARNING:rasterio._env:CPLE_NotSupported in driver GTiff does not support open option INTERLEAVE\n",
            "WARNING:rasterio._env:CPLE_NotSupported in driver GTiff does not support open option BLOCKYSIZE\n",
            "WARNING:rasterio._env:CPLE_NotSupported in driver GTiff does not support open option COMPRESS\n",
            "WARNING:rasterio._env:CPLE_NotSupported in driver GTiff does not support open option INTERLEAVE\n"
          ]
        },
        {
          "output_type": "stream",
          "name": "stdout",
          "text": [
            "Done run 0 for bird Steller's Jay\n"
          ]
        },
        {
          "output_type": "stream",
          "name": "stderr",
          "text": [
            "WARNING:rasterio._env:CPLE_NotSupported in driver GTiff does not support open option BLOCKYSIZE\n",
            "WARNING:rasterio._env:CPLE_NotSupported in driver GTiff does not support open option COMPRESS\n",
            "WARNING:rasterio._env:CPLE_NotSupported in driver GTiff does not support open option INTERLEAVE\n",
            "WARNING:rasterio._env:CPLE_NotSupported in driver GTiff does not support open option BLOCKYSIZE\n",
            "WARNING:rasterio._env:CPLE_NotSupported in driver GTiff does not support open option COMPRESS\n",
            "WARNING:rasterio._env:CPLE_NotSupported in driver GTiff does not support open option INTERLEAVE\n"
          ]
        },
        {
          "output_type": "stream",
          "name": "stdout",
          "text": [
            "Done run 1 for bird Steller's Jay\n"
          ]
        },
        {
          "output_type": "stream",
          "name": "stderr",
          "text": [
            "WARNING:rasterio._env:CPLE_NotSupported in driver GTiff does not support open option BLOCKYSIZE\n",
            "WARNING:rasterio._env:CPLE_NotSupported in driver GTiff does not support open option COMPRESS\n",
            "WARNING:rasterio._env:CPLE_NotSupported in driver GTiff does not support open option INTERLEAVE\n",
            "WARNING:rasterio._env:CPLE_NotSupported in driver GTiff does not support open option BLOCKYSIZE\n",
            "WARNING:rasterio._env:CPLE_NotSupported in driver GTiff does not support open option COMPRESS\n",
            "WARNING:rasterio._env:CPLE_NotSupported in driver GTiff does not support open option INTERLEAVE\n"
          ]
        },
        {
          "output_type": "stream",
          "name": "stdout",
          "text": [
            "Done run 2 for bird Steller's Jay\n"
          ]
        },
        {
          "output_type": "stream",
          "name": "stderr",
          "text": [
            "WARNING:rasterio._env:CPLE_NotSupported in driver GTiff does not support open option BLOCKYSIZE\n",
            "WARNING:rasterio._env:CPLE_NotSupported in driver GTiff does not support open option COMPRESS\n",
            "WARNING:rasterio._env:CPLE_NotSupported in driver GTiff does not support open option INTERLEAVE\n",
            "WARNING:rasterio._env:CPLE_NotSupported in driver GTiff does not support open option BLOCKYSIZE\n",
            "WARNING:rasterio._env:CPLE_NotSupported in driver GTiff does not support open option COMPRESS\n",
            "WARNING:rasterio._env:CPLE_NotSupported in driver GTiff does not support open option INTERLEAVE\n"
          ]
        },
        {
          "output_type": "stream",
          "name": "stdout",
          "text": [
            "Done run 3 for bird Steller's Jay\n"
          ]
        },
        {
          "output_type": "stream",
          "name": "stderr",
          "text": [
            "WARNING:rasterio._env:CPLE_NotSupported in driver GTiff does not support open option BLOCKYSIZE\n",
            "WARNING:rasterio._env:CPLE_NotSupported in driver GTiff does not support open option COMPRESS\n",
            "WARNING:rasterio._env:CPLE_NotSupported in driver GTiff does not support open option INTERLEAVE\n",
            "WARNING:rasterio._env:CPLE_NotSupported in driver GTiff does not support open option BLOCKYSIZE\n",
            "WARNING:rasterio._env:CPLE_NotSupported in driver GTiff does not support open option COMPRESS\n",
            "WARNING:rasterio._env:CPLE_NotSupported in driver GTiff does not support open option INTERLEAVE\n"
          ]
        },
        {
          "output_type": "stream",
          "name": "stdout",
          "text": [
            "Done run 4 for bird Steller's Jay\n"
          ]
        },
        {
          "output_type": "stream",
          "name": "stderr",
          "text": [
            "WARNING:rasterio._env:CPLE_NotSupported in driver GTiff does not support open option BLOCKYSIZE\n",
            "WARNING:rasterio._env:CPLE_NotSupported in driver GTiff does not support open option COMPRESS\n",
            "WARNING:rasterio._env:CPLE_NotSupported in driver GTiff does not support open option INTERLEAVE\n",
            "WARNING:rasterio._env:CPLE_NotSupported in driver GTiff does not support open option BLOCKYSIZE\n",
            "WARNING:rasterio._env:CPLE_NotSupported in driver GTiff does not support open option COMPRESS\n",
            "WARNING:rasterio._env:CPLE_NotSupported in driver GTiff does not support open option INTERLEAVE\n"
          ]
        },
        {
          "output_type": "stream",
          "name": "stdout",
          "text": [
            "Done run 5 for bird Steller's Jay\n"
          ]
        },
        {
          "output_type": "stream",
          "name": "stderr",
          "text": [
            "WARNING:rasterio._env:CPLE_NotSupported in driver GTiff does not support open option BLOCKYSIZE\n",
            "WARNING:rasterio._env:CPLE_NotSupported in driver GTiff does not support open option COMPRESS\n",
            "WARNING:rasterio._env:CPLE_NotSupported in driver GTiff does not support open option INTERLEAVE\n",
            "WARNING:rasterio._env:CPLE_NotSupported in driver GTiff does not support open option BLOCKYSIZE\n",
            "WARNING:rasterio._env:CPLE_NotSupported in driver GTiff does not support open option COMPRESS\n",
            "WARNING:rasterio._env:CPLE_NotSupported in driver GTiff does not support open option INTERLEAVE\n"
          ]
        },
        {
          "output_type": "stream",
          "name": "stdout",
          "text": [
            "Done run 6 for bird Steller's Jay\n"
          ]
        },
        {
          "output_type": "stream",
          "name": "stderr",
          "text": [
            "WARNING:rasterio._env:CPLE_NotSupported in driver GTiff does not support open option BLOCKYSIZE\n",
            "WARNING:rasterio._env:CPLE_NotSupported in driver GTiff does not support open option COMPRESS\n",
            "WARNING:rasterio._env:CPLE_NotSupported in driver GTiff does not support open option INTERLEAVE\n",
            "WARNING:rasterio._env:CPLE_NotSupported in driver GTiff does not support open option BLOCKYSIZE\n",
            "WARNING:rasterio._env:CPLE_NotSupported in driver GTiff does not support open option COMPRESS\n",
            "WARNING:rasterio._env:CPLE_NotSupported in driver GTiff does not support open option INTERLEAVE\n"
          ]
        },
        {
          "output_type": "stream",
          "name": "stdout",
          "text": [
            "Done run 7 for bird Steller's Jay\n"
          ]
        },
        {
          "output_type": "stream",
          "name": "stderr",
          "text": [
            "WARNING:rasterio._env:CPLE_NotSupported in driver GTiff does not support open option BLOCKYSIZE\n",
            "WARNING:rasterio._env:CPLE_NotSupported in driver GTiff does not support open option COMPRESS\n",
            "WARNING:rasterio._env:CPLE_NotSupported in driver GTiff does not support open option INTERLEAVE\n",
            "WARNING:rasterio._env:CPLE_NotSupported in driver GTiff does not support open option BLOCKYSIZE\n",
            "WARNING:rasterio._env:CPLE_NotSupported in driver GTiff does not support open option COMPRESS\n",
            "WARNING:rasterio._env:CPLE_NotSupported in driver GTiff does not support open option INTERLEAVE\n"
          ]
        },
        {
          "output_type": "stream",
          "name": "stdout",
          "text": [
            "Done run 8 for bird Steller's Jay\n"
          ]
        },
        {
          "output_type": "stream",
          "name": "stderr",
          "text": [
            "WARNING:rasterio._env:CPLE_NotSupported in driver GTiff does not support open option BLOCKYSIZE\n",
            "WARNING:rasterio._env:CPLE_NotSupported in driver GTiff does not support open option COMPRESS\n",
            "WARNING:rasterio._env:CPLE_NotSupported in driver GTiff does not support open option INTERLEAVE\n",
            "WARNING:rasterio._env:CPLE_NotSupported in driver GTiff does not support open option BLOCKYSIZE\n",
            "WARNING:rasterio._env:CPLE_NotSupported in driver GTiff does not support open option COMPRESS\n",
            "WARNING:rasterio._env:CPLE_NotSupported in driver GTiff does not support open option INTERLEAVE\n"
          ]
        },
        {
          "output_type": "stream",
          "name": "stdout",
          "text": [
            "Done run 9 for bird Steller's Jay\n"
          ]
        },
        {
          "output_type": "stream",
          "name": "stderr",
          "text": [
            "WARNING:rasterio._env:CPLE_NotSupported in driver GTiff does not support open option BLOCKYSIZE\n",
            "WARNING:rasterio._env:CPLE_NotSupported in driver GTiff does not support open option COMPRESS\n",
            "WARNING:rasterio._env:CPLE_NotSupported in driver GTiff does not support open option INTERLEAVE\n",
            "WARNING:rasterio._env:CPLE_NotSupported in driver GTiff does not support open option BLOCKYSIZE\n",
            "WARNING:rasterio._env:CPLE_NotSupported in driver GTiff does not support open option COMPRESS\n",
            "WARNING:rasterio._env:CPLE_NotSupported in driver GTiff does not support open option INTERLEAVE\n"
          ]
        },
        {
          "output_type": "stream",
          "name": "stdout",
          "text": [
            "Done run 10 for bird Steller's Jay\n"
          ]
        },
        {
          "output_type": "stream",
          "name": "stderr",
          "text": [
            "WARNING:rasterio._env:CPLE_NotSupported in driver GTiff does not support open option BLOCKYSIZE\n",
            "WARNING:rasterio._env:CPLE_NotSupported in driver GTiff does not support open option COMPRESS\n",
            "WARNING:rasterio._env:CPLE_NotSupported in driver GTiff does not support open option INTERLEAVE\n",
            "WARNING:rasterio._env:CPLE_NotSupported in driver GTiff does not support open option BLOCKYSIZE\n",
            "WARNING:rasterio._env:CPLE_NotSupported in driver GTiff does not support open option COMPRESS\n",
            "WARNING:rasterio._env:CPLE_NotSupported in driver GTiff does not support open option INTERLEAVE\n"
          ]
        },
        {
          "output_type": "stream",
          "name": "stdout",
          "text": [
            "Done run 11 for bird Steller's Jay\n"
          ]
        },
        {
          "output_type": "stream",
          "name": "stderr",
          "text": [
            "WARNING:rasterio._env:CPLE_NotSupported in driver GTiff does not support open option BLOCKYSIZE\n",
            "WARNING:rasterio._env:CPLE_NotSupported in driver GTiff does not support open option COMPRESS\n",
            "WARNING:rasterio._env:CPLE_NotSupported in driver GTiff does not support open option INTERLEAVE\n",
            "WARNING:rasterio._env:CPLE_NotSupported in driver GTiff does not support open option BLOCKYSIZE\n",
            "WARNING:rasterio._env:CPLE_NotSupported in driver GTiff does not support open option COMPRESS\n",
            "WARNING:rasterio._env:CPLE_NotSupported in driver GTiff does not support open option INTERLEAVE\n"
          ]
        },
        {
          "output_type": "stream",
          "name": "stdout",
          "text": [
            "Done run 12 for bird Steller's Jay\n"
          ]
        },
        {
          "output_type": "stream",
          "name": "stderr",
          "text": [
            "WARNING:rasterio._env:CPLE_NotSupported in driver GTiff does not support open option BLOCKYSIZE\n",
            "WARNING:rasterio._env:CPLE_NotSupported in driver GTiff does not support open option COMPRESS\n",
            "WARNING:rasterio._env:CPLE_NotSupported in driver GTiff does not support open option INTERLEAVE\n",
            "WARNING:rasterio._env:CPLE_NotSupported in driver GTiff does not support open option BLOCKYSIZE\n",
            "WARNING:rasterio._env:CPLE_NotSupported in driver GTiff does not support open option COMPRESS\n",
            "WARNING:rasterio._env:CPLE_NotSupported in driver GTiff does not support open option INTERLEAVE\n"
          ]
        },
        {
          "output_type": "stream",
          "name": "stdout",
          "text": [
            "Done run 13 for bird Steller's Jay\n"
          ]
        },
        {
          "output_type": "stream",
          "name": "stderr",
          "text": [
            "WARNING:rasterio._env:CPLE_NotSupported in driver GTiff does not support open option BLOCKYSIZE\n",
            "WARNING:rasterio._env:CPLE_NotSupported in driver GTiff does not support open option COMPRESS\n",
            "WARNING:rasterio._env:CPLE_NotSupported in driver GTiff does not support open option INTERLEAVE\n",
            "WARNING:rasterio._env:CPLE_NotSupported in driver GTiff does not support open option BLOCKYSIZE\n",
            "WARNING:rasterio._env:CPLE_NotSupported in driver GTiff does not support open option COMPRESS\n",
            "WARNING:rasterio._env:CPLE_NotSupported in driver GTiff does not support open option INTERLEAVE\n"
          ]
        },
        {
          "output_type": "stream",
          "name": "stdout",
          "text": [
            "Done run 14 for bird Steller's Jay\n"
          ]
        },
        {
          "output_type": "stream",
          "name": "stderr",
          "text": [
            "WARNING:rasterio._env:CPLE_NotSupported in driver GTiff does not support open option BLOCKYSIZE\n",
            "WARNING:rasterio._env:CPLE_NotSupported in driver GTiff does not support open option COMPRESS\n",
            "WARNING:rasterio._env:CPLE_NotSupported in driver GTiff does not support open option INTERLEAVE\n",
            "WARNING:rasterio._env:CPLE_NotSupported in driver GTiff does not support open option BLOCKYSIZE\n",
            "WARNING:rasterio._env:CPLE_NotSupported in driver GTiff does not support open option COMPRESS\n",
            "WARNING:rasterio._env:CPLE_NotSupported in driver GTiff does not support open option INTERLEAVE\n"
          ]
        },
        {
          "output_type": "stream",
          "name": "stdout",
          "text": [
            "Done run 15 for bird Steller's Jay\n"
          ]
        },
        {
          "output_type": "stream",
          "name": "stderr",
          "text": [
            "WARNING:rasterio._env:CPLE_NotSupported in driver GTiff does not support open option BLOCKYSIZE\n",
            "WARNING:rasterio._env:CPLE_NotSupported in driver GTiff does not support open option COMPRESS\n",
            "WARNING:rasterio._env:CPLE_NotSupported in driver GTiff does not support open option INTERLEAVE\n",
            "WARNING:rasterio._env:CPLE_NotSupported in driver GTiff does not support open option BLOCKYSIZE\n",
            "WARNING:rasterio._env:CPLE_NotSupported in driver GTiff does not support open option COMPRESS\n",
            "WARNING:rasterio._env:CPLE_NotSupported in driver GTiff does not support open option INTERLEAVE\n"
          ]
        },
        {
          "output_type": "stream",
          "name": "stdout",
          "text": [
            "Done run 16 for bird Steller's Jay\n"
          ]
        },
        {
          "output_type": "stream",
          "name": "stderr",
          "text": [
            "WARNING:rasterio._env:CPLE_NotSupported in driver GTiff does not support open option BLOCKYSIZE\n",
            "WARNING:rasterio._env:CPLE_NotSupported in driver GTiff does not support open option COMPRESS\n",
            "WARNING:rasterio._env:CPLE_NotSupported in driver GTiff does not support open option INTERLEAVE\n",
            "WARNING:rasterio._env:CPLE_NotSupported in driver GTiff does not support open option BLOCKYSIZE\n",
            "WARNING:rasterio._env:CPLE_NotSupported in driver GTiff does not support open option COMPRESS\n",
            "WARNING:rasterio._env:CPLE_NotSupported in driver GTiff does not support open option INTERLEAVE\n"
          ]
        },
        {
          "output_type": "stream",
          "name": "stdout",
          "text": [
            "Done run 17 for bird Steller's Jay\n"
          ]
        },
        {
          "output_type": "stream",
          "name": "stderr",
          "text": [
            "WARNING:rasterio._env:CPLE_NotSupported in driver GTiff does not support open option BLOCKYSIZE\n",
            "WARNING:rasterio._env:CPLE_NotSupported in driver GTiff does not support open option COMPRESS\n",
            "WARNING:rasterio._env:CPLE_NotSupported in driver GTiff does not support open option INTERLEAVE\n",
            "WARNING:rasterio._env:CPLE_NotSupported in driver GTiff does not support open option BLOCKYSIZE\n",
            "WARNING:rasterio._env:CPLE_NotSupported in driver GTiff does not support open option COMPRESS\n",
            "WARNING:rasterio._env:CPLE_NotSupported in driver GTiff does not support open option INTERLEAVE\n"
          ]
        },
        {
          "output_type": "stream",
          "name": "stdout",
          "text": [
            "Done run 18 for bird Steller's Jay\n"
          ]
        },
        {
          "output_type": "stream",
          "name": "stderr",
          "text": [
            "WARNING:rasterio._env:CPLE_NotSupported in driver GTiff does not support open option BLOCKYSIZE\n",
            "WARNING:rasterio._env:CPLE_NotSupported in driver GTiff does not support open option COMPRESS\n",
            "WARNING:rasterio._env:CPLE_NotSupported in driver GTiff does not support open option INTERLEAVE\n",
            "WARNING:rasterio._env:CPLE_NotSupported in driver GTiff does not support open option BLOCKYSIZE\n",
            "WARNING:rasterio._env:CPLE_NotSupported in driver GTiff does not support open option COMPRESS\n",
            "WARNING:rasterio._env:CPLE_NotSupported in driver GTiff does not support open option INTERLEAVE\n"
          ]
        },
        {
          "output_type": "stream",
          "name": "stdout",
          "text": [
            "Done run 19 for bird Steller's Jay\n"
          ]
        },
        {
          "output_type": "stream",
          "name": "stderr",
          "text": [
            "WARNING:rasterio._env:CPLE_NotSupported in driver GTiff does not support open option BLOCKYSIZE\n",
            "WARNING:rasterio._env:CPLE_NotSupported in driver GTiff does not support open option COMPRESS\n",
            "WARNING:rasterio._env:CPLE_NotSupported in driver GTiff does not support open option INTERLEAVE\n",
            "WARNING:rasterio._env:CPLE_NotSupported in driver GTiff does not support open option BLOCKYSIZE\n",
            "WARNING:rasterio._env:CPLE_NotSupported in driver GTiff does not support open option COMPRESS\n",
            "WARNING:rasterio._env:CPLE_NotSupported in driver GTiff does not support open option INTERLEAVE\n"
          ]
        },
        {
          "output_type": "stream",
          "name": "stdout",
          "text": [
            "Done run 20 for bird Steller's Jay\n"
          ]
        },
        {
          "output_type": "stream",
          "name": "stderr",
          "text": [
            "WARNING:rasterio._env:CPLE_NotSupported in driver GTiff does not support open option BLOCKYSIZE\n",
            "WARNING:rasterio._env:CPLE_NotSupported in driver GTiff does not support open option COMPRESS\n",
            "WARNING:rasterio._env:CPLE_NotSupported in driver GTiff does not support open option INTERLEAVE\n",
            "WARNING:rasterio._env:CPLE_NotSupported in driver GTiff does not support open option BLOCKYSIZE\n",
            "WARNING:rasterio._env:CPLE_NotSupported in driver GTiff does not support open option COMPRESS\n",
            "WARNING:rasterio._env:CPLE_NotSupported in driver GTiff does not support open option INTERLEAVE\n"
          ]
        },
        {
          "output_type": "stream",
          "name": "stdout",
          "text": [
            "Done run 21 for bird Steller's Jay\n"
          ]
        },
        {
          "output_type": "stream",
          "name": "stderr",
          "text": [
            "WARNING:rasterio._env:CPLE_NotSupported in driver GTiff does not support open option BLOCKYSIZE\n",
            "WARNING:rasterio._env:CPLE_NotSupported in driver GTiff does not support open option COMPRESS\n",
            "WARNING:rasterio._env:CPLE_NotSupported in driver GTiff does not support open option INTERLEAVE\n",
            "WARNING:rasterio._env:CPLE_NotSupported in driver GTiff does not support open option BLOCKYSIZE\n",
            "WARNING:rasterio._env:CPLE_NotSupported in driver GTiff does not support open option COMPRESS\n",
            "WARNING:rasterio._env:CPLE_NotSupported in driver GTiff does not support open option INTERLEAVE\n"
          ]
        },
        {
          "output_type": "stream",
          "name": "stdout",
          "text": [
            "Done run 22 for bird Steller's Jay\n"
          ]
        },
        {
          "output_type": "stream",
          "name": "stderr",
          "text": [
            "WARNING:rasterio._env:CPLE_NotSupported in driver GTiff does not support open option BLOCKYSIZE\n",
            "WARNING:rasterio._env:CPLE_NotSupported in driver GTiff does not support open option COMPRESS\n",
            "WARNING:rasterio._env:CPLE_NotSupported in driver GTiff does not support open option INTERLEAVE\n",
            "WARNING:rasterio._env:CPLE_NotSupported in driver GTiff does not support open option BLOCKYSIZE\n",
            "WARNING:rasterio._env:CPLE_NotSupported in driver GTiff does not support open option COMPRESS\n",
            "WARNING:rasterio._env:CPLE_NotSupported in driver GTiff does not support open option INTERLEAVE\n"
          ]
        },
        {
          "output_type": "stream",
          "name": "stdout",
          "text": [
            "Done run 23 for bird Steller's Jay\n"
          ]
        },
        {
          "output_type": "stream",
          "name": "stderr",
          "text": [
            "WARNING:rasterio._env:CPLE_NotSupported in driver GTiff does not support open option BLOCKYSIZE\n",
            "WARNING:rasterio._env:CPLE_NotSupported in driver GTiff does not support open option COMPRESS\n",
            "WARNING:rasterio._env:CPLE_NotSupported in driver GTiff does not support open option INTERLEAVE\n",
            "WARNING:rasterio._env:CPLE_NotSupported in driver GTiff does not support open option BLOCKYSIZE\n",
            "WARNING:rasterio._env:CPLE_NotSupported in driver GTiff does not support open option COMPRESS\n",
            "WARNING:rasterio._env:CPLE_NotSupported in driver GTiff does not support open option INTERLEAVE\n"
          ]
        },
        {
          "output_type": "stream",
          "name": "stdout",
          "text": [
            "Done run 24 for bird Steller's Jay\n"
          ]
        },
        {
          "output_type": "stream",
          "name": "stderr",
          "text": [
            "WARNING:rasterio._env:CPLE_NotSupported in driver GTiff does not support open option BLOCKYSIZE\n",
            "WARNING:rasterio._env:CPLE_NotSupported in driver GTiff does not support open option COMPRESS\n",
            "WARNING:rasterio._env:CPLE_NotSupported in driver GTiff does not support open option INTERLEAVE\n",
            "WARNING:rasterio._env:CPLE_NotSupported in driver GTiff does not support open option BLOCKYSIZE\n",
            "WARNING:rasterio._env:CPLE_NotSupported in driver GTiff does not support open option COMPRESS\n",
            "WARNING:rasterio._env:CPLE_NotSupported in driver GTiff does not support open option INTERLEAVE\n"
          ]
        },
        {
          "output_type": "stream",
          "name": "stdout",
          "text": [
            "Done run 25 for bird Steller's Jay\n"
          ]
        },
        {
          "output_type": "stream",
          "name": "stderr",
          "text": [
            "WARNING:rasterio._env:CPLE_NotSupported in driver GTiff does not support open option BLOCKYSIZE\n",
            "WARNING:rasterio._env:CPLE_NotSupported in driver GTiff does not support open option COMPRESS\n",
            "WARNING:rasterio._env:CPLE_NotSupported in driver GTiff does not support open option INTERLEAVE\n",
            "WARNING:rasterio._env:CPLE_NotSupported in driver GTiff does not support open option BLOCKYSIZE\n",
            "WARNING:rasterio._env:CPLE_NotSupported in driver GTiff does not support open option COMPRESS\n",
            "WARNING:rasterio._env:CPLE_NotSupported in driver GTiff does not support open option INTERLEAVE\n"
          ]
        },
        {
          "output_type": "stream",
          "name": "stdout",
          "text": [
            "Done run 26 for bird Steller's Jay\n"
          ]
        },
        {
          "output_type": "stream",
          "name": "stderr",
          "text": [
            "WARNING:rasterio._env:CPLE_NotSupported in driver GTiff does not support open option BLOCKYSIZE\n",
            "WARNING:rasterio._env:CPLE_NotSupported in driver GTiff does not support open option COMPRESS\n",
            "WARNING:rasterio._env:CPLE_NotSupported in driver GTiff does not support open option INTERLEAVE\n",
            "WARNING:rasterio._env:CPLE_NotSupported in driver GTiff does not support open option BLOCKYSIZE\n",
            "WARNING:rasterio._env:CPLE_NotSupported in driver GTiff does not support open option COMPRESS\n",
            "WARNING:rasterio._env:CPLE_NotSupported in driver GTiff does not support open option INTERLEAVE\n"
          ]
        },
        {
          "output_type": "stream",
          "name": "stdout",
          "text": [
            "Done run 27 for bird Steller's Jay\n"
          ]
        },
        {
          "output_type": "stream",
          "name": "stderr",
          "text": [
            "WARNING:rasterio._env:CPLE_NotSupported in driver GTiff does not support open option BLOCKYSIZE\n",
            "WARNING:rasterio._env:CPLE_NotSupported in driver GTiff does not support open option COMPRESS\n",
            "WARNING:rasterio._env:CPLE_NotSupported in driver GTiff does not support open option INTERLEAVE\n",
            "WARNING:rasterio._env:CPLE_NotSupported in driver GTiff does not support open option BLOCKYSIZE\n",
            "WARNING:rasterio._env:CPLE_NotSupported in driver GTiff does not support open option COMPRESS\n",
            "WARNING:rasterio._env:CPLE_NotSupported in driver GTiff does not support open option INTERLEAVE\n"
          ]
        },
        {
          "output_type": "stream",
          "name": "stdout",
          "text": [
            "Done run 28 for bird Steller's Jay\n"
          ]
        },
        {
          "output_type": "stream",
          "name": "stderr",
          "text": [
            "WARNING:rasterio._env:CPLE_NotSupported in driver GTiff does not support open option BLOCKYSIZE\n",
            "WARNING:rasterio._env:CPLE_NotSupported in driver GTiff does not support open option COMPRESS\n",
            "WARNING:rasterio._env:CPLE_NotSupported in driver GTiff does not support open option INTERLEAVE\n",
            "WARNING:rasterio._env:CPLE_NotSupported in driver GTiff does not support open option BLOCKYSIZE\n",
            "WARNING:rasterio._env:CPLE_NotSupported in driver GTiff does not support open option COMPRESS\n",
            "WARNING:rasterio._env:CPLE_NotSupported in driver GTiff does not support open option INTERLEAVE\n"
          ]
        },
        {
          "output_type": "stream",
          "name": "stdout",
          "text": [
            "Done run 29 for bird Steller's Jay\n"
          ]
        },
        {
          "output_type": "stream",
          "name": "stderr",
          "text": [
            "WARNING:rasterio._env:CPLE_NotSupported in driver GTiff does not support open option BLOCKYSIZE\n",
            "WARNING:rasterio._env:CPLE_NotSupported in driver GTiff does not support open option COMPRESS\n",
            "WARNING:rasterio._env:CPLE_NotSupported in driver GTiff does not support open option INTERLEAVE\n",
            "WARNING:rasterio._env:CPLE_NotSupported in driver GTiff does not support open option BLOCKYSIZE\n",
            "WARNING:rasterio._env:CPLE_NotSupported in driver GTiff does not support open option COMPRESS\n",
            "WARNING:rasterio._env:CPLE_NotSupported in driver GTiff does not support open option INTERLEAVE\n"
          ]
        },
        {
          "output_type": "stream",
          "name": "stdout",
          "text": [
            "Done run 30 for bird Steller's Jay\n"
          ]
        },
        {
          "output_type": "stream",
          "name": "stderr",
          "text": [
            "WARNING:rasterio._env:CPLE_NotSupported in driver GTiff does not support open option BLOCKYSIZE\n",
            "WARNING:rasterio._env:CPLE_NotSupported in driver GTiff does not support open option COMPRESS\n",
            "WARNING:rasterio._env:CPLE_NotSupported in driver GTiff does not support open option INTERLEAVE\n",
            "WARNING:rasterio._env:CPLE_NotSupported in driver GTiff does not support open option BLOCKYSIZE\n",
            "WARNING:rasterio._env:CPLE_NotSupported in driver GTiff does not support open option COMPRESS\n",
            "WARNING:rasterio._env:CPLE_NotSupported in driver GTiff does not support open option INTERLEAVE\n"
          ]
        },
        {
          "output_type": "stream",
          "name": "stdout",
          "text": [
            "Done run 31 for bird Steller's Jay\n"
          ]
        },
        {
          "output_type": "stream",
          "name": "stderr",
          "text": [
            "WARNING:rasterio._env:CPLE_NotSupported in driver GTiff does not support open option BLOCKYSIZE\n",
            "WARNING:rasterio._env:CPLE_NotSupported in driver GTiff does not support open option COMPRESS\n",
            "WARNING:rasterio._env:CPLE_NotSupported in driver GTiff does not support open option INTERLEAVE\n",
            "WARNING:rasterio._env:CPLE_NotSupported in driver GTiff does not support open option BLOCKYSIZE\n",
            "WARNING:rasterio._env:CPLE_NotSupported in driver GTiff does not support open option COMPRESS\n",
            "WARNING:rasterio._env:CPLE_NotSupported in driver GTiff does not support open option INTERLEAVE\n"
          ]
        },
        {
          "output_type": "stream",
          "name": "stdout",
          "text": [
            "Done run 32 for bird Steller's Jay\n"
          ]
        },
        {
          "output_type": "stream",
          "name": "stderr",
          "text": [
            "WARNING:rasterio._env:CPLE_NotSupported in driver GTiff does not support open option BLOCKYSIZE\n",
            "WARNING:rasterio._env:CPLE_NotSupported in driver GTiff does not support open option COMPRESS\n",
            "WARNING:rasterio._env:CPLE_NotSupported in driver GTiff does not support open option INTERLEAVE\n",
            "WARNING:rasterio._env:CPLE_NotSupported in driver GTiff does not support open option BLOCKYSIZE\n",
            "WARNING:rasterio._env:CPLE_NotSupported in driver GTiff does not support open option COMPRESS\n",
            "WARNING:rasterio._env:CPLE_NotSupported in driver GTiff does not support open option INTERLEAVE\n"
          ]
        },
        {
          "output_type": "stream",
          "name": "stdout",
          "text": [
            "Done run 33 for bird Steller's Jay\n"
          ]
        },
        {
          "output_type": "stream",
          "name": "stderr",
          "text": [
            "WARNING:rasterio._env:CPLE_NotSupported in driver GTiff does not support open option BLOCKYSIZE\n",
            "WARNING:rasterio._env:CPLE_NotSupported in driver GTiff does not support open option COMPRESS\n",
            "WARNING:rasterio._env:CPLE_NotSupported in driver GTiff does not support open option INTERLEAVE\n",
            "WARNING:rasterio._env:CPLE_NotSupported in driver GTiff does not support open option BLOCKYSIZE\n",
            "WARNING:rasterio._env:CPLE_NotSupported in driver GTiff does not support open option COMPRESS\n",
            "WARNING:rasterio._env:CPLE_NotSupported in driver GTiff does not support open option INTERLEAVE\n"
          ]
        },
        {
          "output_type": "stream",
          "name": "stdout",
          "text": [
            "Done run 34 for bird Steller's Jay\n"
          ]
        },
        {
          "output_type": "stream",
          "name": "stderr",
          "text": [
            "WARNING:rasterio._env:CPLE_NotSupported in driver GTiff does not support open option BLOCKYSIZE\n",
            "WARNING:rasterio._env:CPLE_NotSupported in driver GTiff does not support open option COMPRESS\n",
            "WARNING:rasterio._env:CPLE_NotSupported in driver GTiff does not support open option INTERLEAVE\n",
            "WARNING:rasterio._env:CPLE_NotSupported in driver GTiff does not support open option BLOCKYSIZE\n",
            "WARNING:rasterio._env:CPLE_NotSupported in driver GTiff does not support open option COMPRESS\n",
            "WARNING:rasterio._env:CPLE_NotSupported in driver GTiff does not support open option INTERLEAVE\n"
          ]
        },
        {
          "output_type": "stream",
          "name": "stdout",
          "text": [
            "Done run 35 for bird Steller's Jay\n"
          ]
        },
        {
          "output_type": "stream",
          "name": "stderr",
          "text": [
            "WARNING:rasterio._env:CPLE_NotSupported in driver GTiff does not support open option BLOCKYSIZE\n",
            "WARNING:rasterio._env:CPLE_NotSupported in driver GTiff does not support open option COMPRESS\n",
            "WARNING:rasterio._env:CPLE_NotSupported in driver GTiff does not support open option INTERLEAVE\n",
            "WARNING:rasterio._env:CPLE_NotSupported in driver GTiff does not support open option BLOCKYSIZE\n",
            "WARNING:rasterio._env:CPLE_NotSupported in driver GTiff does not support open option COMPRESS\n",
            "WARNING:rasterio._env:CPLE_NotSupported in driver GTiff does not support open option INTERLEAVE\n"
          ]
        },
        {
          "output_type": "stream",
          "name": "stdout",
          "text": [
            "Done run 36 for bird Steller's Jay\n"
          ]
        },
        {
          "output_type": "stream",
          "name": "stderr",
          "text": [
            "WARNING:rasterio._env:CPLE_NotSupported in driver GTiff does not support open option BLOCKYSIZE\n",
            "WARNING:rasterio._env:CPLE_NotSupported in driver GTiff does not support open option COMPRESS\n",
            "WARNING:rasterio._env:CPLE_NotSupported in driver GTiff does not support open option INTERLEAVE\n",
            "WARNING:rasterio._env:CPLE_NotSupported in driver GTiff does not support open option BLOCKYSIZE\n",
            "WARNING:rasterio._env:CPLE_NotSupported in driver GTiff does not support open option COMPRESS\n",
            "WARNING:rasterio._env:CPLE_NotSupported in driver GTiff does not support open option INTERLEAVE\n"
          ]
        },
        {
          "output_type": "stream",
          "name": "stdout",
          "text": [
            "Done run 37 for bird Steller's Jay\n"
          ]
        },
        {
          "output_type": "stream",
          "name": "stderr",
          "text": [
            "WARNING:rasterio._env:CPLE_NotSupported in driver GTiff does not support open option BLOCKYSIZE\n",
            "WARNING:rasterio._env:CPLE_NotSupported in driver GTiff does not support open option COMPRESS\n",
            "WARNING:rasterio._env:CPLE_NotSupported in driver GTiff does not support open option INTERLEAVE\n",
            "WARNING:rasterio._env:CPLE_NotSupported in driver GTiff does not support open option BLOCKYSIZE\n",
            "WARNING:rasterio._env:CPLE_NotSupported in driver GTiff does not support open option COMPRESS\n",
            "WARNING:rasterio._env:CPLE_NotSupported in driver GTiff does not support open option INTERLEAVE\n"
          ]
        },
        {
          "output_type": "stream",
          "name": "stdout",
          "text": [
            "Done run 38 for bird Steller's Jay\n"
          ]
        },
        {
          "output_type": "stream",
          "name": "stderr",
          "text": [
            "WARNING:rasterio._env:CPLE_NotSupported in driver GTiff does not support open option BLOCKYSIZE\n",
            "WARNING:rasterio._env:CPLE_NotSupported in driver GTiff does not support open option COMPRESS\n",
            "WARNING:rasterio._env:CPLE_NotSupported in driver GTiff does not support open option INTERLEAVE\n",
            "WARNING:rasterio._env:CPLE_NotSupported in driver GTiff does not support open option BLOCKYSIZE\n",
            "WARNING:rasterio._env:CPLE_NotSupported in driver GTiff does not support open option COMPRESS\n",
            "WARNING:rasterio._env:CPLE_NotSupported in driver GTiff does not support open option INTERLEAVE\n"
          ]
        },
        {
          "output_type": "stream",
          "name": "stdout",
          "text": [
            "Done run 39 for bird Steller's Jay\n"
          ]
        },
        {
          "output_type": "stream",
          "name": "stderr",
          "text": [
            "WARNING:rasterio._env:CPLE_NotSupported in driver GTiff does not support open option BLOCKYSIZE\n",
            "WARNING:rasterio._env:CPLE_NotSupported in driver GTiff does not support open option COMPRESS\n",
            "WARNING:rasterio._env:CPLE_NotSupported in driver GTiff does not support open option INTERLEAVE\n",
            "WARNING:rasterio._env:CPLE_NotSupported in driver GTiff does not support open option BLOCKYSIZE\n",
            "WARNING:rasterio._env:CPLE_NotSupported in driver GTiff does not support open option COMPRESS\n",
            "WARNING:rasterio._env:CPLE_NotSupported in driver GTiff does not support open option INTERLEAVE\n"
          ]
        },
        {
          "output_type": "stream",
          "name": "stdout",
          "text": [
            "Done run 40 for bird Steller's Jay\n"
          ]
        },
        {
          "output_type": "stream",
          "name": "stderr",
          "text": [
            "WARNING:rasterio._env:CPLE_NotSupported in driver GTiff does not support open option BLOCKYSIZE\n",
            "WARNING:rasterio._env:CPLE_NotSupported in driver GTiff does not support open option COMPRESS\n",
            "WARNING:rasterio._env:CPLE_NotSupported in driver GTiff does not support open option INTERLEAVE\n",
            "WARNING:rasterio._env:CPLE_NotSupported in driver GTiff does not support open option BLOCKYSIZE\n",
            "WARNING:rasterio._env:CPLE_NotSupported in driver GTiff does not support open option COMPRESS\n",
            "WARNING:rasterio._env:CPLE_NotSupported in driver GTiff does not support open option INTERLEAVE\n"
          ]
        },
        {
          "output_type": "stream",
          "name": "stdout",
          "text": [
            "Done run 41 for bird Steller's Jay\n"
          ]
        },
        {
          "output_type": "stream",
          "name": "stderr",
          "text": [
            "WARNING:rasterio._env:CPLE_NotSupported in driver GTiff does not support open option BLOCKYSIZE\n",
            "WARNING:rasterio._env:CPLE_NotSupported in driver GTiff does not support open option COMPRESS\n",
            "WARNING:rasterio._env:CPLE_NotSupported in driver GTiff does not support open option INTERLEAVE\n",
            "WARNING:rasterio._env:CPLE_NotSupported in driver GTiff does not support open option BLOCKYSIZE\n",
            "WARNING:rasterio._env:CPLE_NotSupported in driver GTiff does not support open option COMPRESS\n",
            "WARNING:rasterio._env:CPLE_NotSupported in driver GTiff does not support open option INTERLEAVE\n"
          ]
        },
        {
          "output_type": "stream",
          "name": "stdout",
          "text": [
            "Done run 42 for bird Steller's Jay\n"
          ]
        },
        {
          "output_type": "stream",
          "name": "stderr",
          "text": [
            "WARNING:rasterio._env:CPLE_NotSupported in driver GTiff does not support open option BLOCKYSIZE\n",
            "WARNING:rasterio._env:CPLE_NotSupported in driver GTiff does not support open option COMPRESS\n",
            "WARNING:rasterio._env:CPLE_NotSupported in driver GTiff does not support open option INTERLEAVE\n",
            "WARNING:rasterio._env:CPLE_NotSupported in driver GTiff does not support open option BLOCKYSIZE\n",
            "WARNING:rasterio._env:CPLE_NotSupported in driver GTiff does not support open option COMPRESS\n",
            "WARNING:rasterio._env:CPLE_NotSupported in driver GTiff does not support open option INTERLEAVE\n"
          ]
        },
        {
          "output_type": "stream",
          "name": "stdout",
          "text": [
            "Done run 43 for bird Steller's Jay\n"
          ]
        },
        {
          "output_type": "stream",
          "name": "stderr",
          "text": [
            "WARNING:rasterio._env:CPLE_NotSupported in driver GTiff does not support open option BLOCKYSIZE\n",
            "WARNING:rasterio._env:CPLE_NotSupported in driver GTiff does not support open option COMPRESS\n",
            "WARNING:rasterio._env:CPLE_NotSupported in driver GTiff does not support open option INTERLEAVE\n",
            "WARNING:rasterio._env:CPLE_NotSupported in driver GTiff does not support open option BLOCKYSIZE\n",
            "WARNING:rasterio._env:CPLE_NotSupported in driver GTiff does not support open option COMPRESS\n",
            "WARNING:rasterio._env:CPLE_NotSupported in driver GTiff does not support open option INTERLEAVE\n"
          ]
        },
        {
          "output_type": "stream",
          "name": "stdout",
          "text": [
            "Done run 44 for bird Steller's Jay\n"
          ]
        },
        {
          "output_type": "stream",
          "name": "stderr",
          "text": [
            "WARNING:rasterio._env:CPLE_NotSupported in driver GTiff does not support open option BLOCKYSIZE\n",
            "WARNING:rasterio._env:CPLE_NotSupported in driver GTiff does not support open option COMPRESS\n",
            "WARNING:rasterio._env:CPLE_NotSupported in driver GTiff does not support open option INTERLEAVE\n",
            "WARNING:rasterio._env:CPLE_NotSupported in driver GTiff does not support open option BLOCKYSIZE\n",
            "WARNING:rasterio._env:CPLE_NotSupported in driver GTiff does not support open option COMPRESS\n",
            "WARNING:rasterio._env:CPLE_NotSupported in driver GTiff does not support open option INTERLEAVE\n"
          ]
        },
        {
          "output_type": "stream",
          "name": "stdout",
          "text": [
            "Done run 45 for bird Steller's Jay\n"
          ]
        },
        {
          "output_type": "stream",
          "name": "stderr",
          "text": [
            "WARNING:rasterio._env:CPLE_NotSupported in driver GTiff does not support open option BLOCKYSIZE\n",
            "WARNING:rasterio._env:CPLE_NotSupported in driver GTiff does not support open option COMPRESS\n",
            "WARNING:rasterio._env:CPLE_NotSupported in driver GTiff does not support open option INTERLEAVE\n",
            "WARNING:rasterio._env:CPLE_NotSupported in driver GTiff does not support open option BLOCKYSIZE\n",
            "WARNING:rasterio._env:CPLE_NotSupported in driver GTiff does not support open option COMPRESS\n",
            "WARNING:rasterio._env:CPLE_NotSupported in driver GTiff does not support open option INTERLEAVE\n"
          ]
        },
        {
          "output_type": "stream",
          "name": "stdout",
          "text": [
            "Done run 46 for bird Steller's Jay\n"
          ]
        },
        {
          "output_type": "stream",
          "name": "stderr",
          "text": [
            "WARNING:rasterio._env:CPLE_NotSupported in driver GTiff does not support open option BLOCKYSIZE\n",
            "WARNING:rasterio._env:CPLE_NotSupported in driver GTiff does not support open option COMPRESS\n",
            "WARNING:rasterio._env:CPLE_NotSupported in driver GTiff does not support open option INTERLEAVE\n",
            "WARNING:rasterio._env:CPLE_NotSupported in driver GTiff does not support open option BLOCKYSIZE\n",
            "WARNING:rasterio._env:CPLE_NotSupported in driver GTiff does not support open option COMPRESS\n",
            "WARNING:rasterio._env:CPLE_NotSupported in driver GTiff does not support open option INTERLEAVE\n"
          ]
        },
        {
          "output_type": "stream",
          "name": "stdout",
          "text": [
            "Done run 47 for bird Steller's Jay\n"
          ]
        },
        {
          "output_type": "stream",
          "name": "stderr",
          "text": [
            "WARNING:rasterio._env:CPLE_NotSupported in driver GTiff does not support open option BLOCKYSIZE\n",
            "WARNING:rasterio._env:CPLE_NotSupported in driver GTiff does not support open option COMPRESS\n",
            "WARNING:rasterio._env:CPLE_NotSupported in driver GTiff does not support open option INTERLEAVE\n",
            "WARNING:rasterio._env:CPLE_NotSupported in driver GTiff does not support open option BLOCKYSIZE\n",
            "WARNING:rasterio._env:CPLE_NotSupported in driver GTiff does not support open option COMPRESS\n",
            "WARNING:rasterio._env:CPLE_NotSupported in driver GTiff does not support open option INTERLEAVE\n"
          ]
        },
        {
          "output_type": "stream",
          "name": "stdout",
          "text": [
            "Done run 48 for bird Steller's Jay\n"
          ]
        },
        {
          "output_type": "stream",
          "name": "stderr",
          "text": [
            "WARNING:rasterio._env:CPLE_NotSupported in driver GTiff does not support open option BLOCKYSIZE\n",
            "WARNING:rasterio._env:CPLE_NotSupported in driver GTiff does not support open option COMPRESS\n",
            "WARNING:rasterio._env:CPLE_NotSupported in driver GTiff does not support open option INTERLEAVE\n",
            "WARNING:rasterio._env:CPLE_NotSupported in driver GTiff does not support open option BLOCKYSIZE\n",
            "WARNING:rasterio._env:CPLE_NotSupported in driver GTiff does not support open option COMPRESS\n",
            "WARNING:rasterio._env:CPLE_NotSupported in driver GTiff does not support open option INTERLEAVE\n"
          ]
        },
        {
          "output_type": "stream",
          "name": "stdout",
          "text": [
            "Done run 49 for bird Steller's Jay\n"
          ]
        },
        {
          "output_type": "stream",
          "name": "stderr",
          "text": [
            "WARNING:rasterio._env:CPLE_NotSupported in driver GTiff does not support open option BLOCKYSIZE\n",
            "WARNING:rasterio._env:CPLE_NotSupported in driver GTiff does not support open option COMPRESS\n",
            "WARNING:rasterio._env:CPLE_NotSupported in driver GTiff does not support open option INTERLEAVE\n",
            "WARNING:rasterio._env:CPLE_NotSupported in driver GTiff does not support open option BLOCKYSIZE\n",
            "WARNING:rasterio._env:CPLE_NotSupported in driver GTiff does not support open option COMPRESS\n",
            "WARNING:rasterio._env:CPLE_NotSupported in driver GTiff does not support open option INTERLEAVE\n"
          ]
        },
        {
          "output_type": "stream",
          "name": "stdout",
          "text": [
            "Done run 50 for bird Steller's Jay\n"
          ]
        },
        {
          "output_type": "stream",
          "name": "stderr",
          "text": [
            "WARNING:rasterio._env:CPLE_NotSupported in driver GTiff does not support open option BLOCKYSIZE\n",
            "WARNING:rasterio._env:CPLE_NotSupported in driver GTiff does not support open option COMPRESS\n",
            "WARNING:rasterio._env:CPLE_NotSupported in driver GTiff does not support open option INTERLEAVE\n",
            "WARNING:rasterio._env:CPLE_NotSupported in driver GTiff does not support open option BLOCKYSIZE\n",
            "WARNING:rasterio._env:CPLE_NotSupported in driver GTiff does not support open option COMPRESS\n",
            "WARNING:rasterio._env:CPLE_NotSupported in driver GTiff does not support open option INTERLEAVE\n"
          ]
        },
        {
          "output_type": "stream",
          "name": "stdout",
          "text": [
            "Done run 51 for bird Steller's Jay\n"
          ]
        },
        {
          "output_type": "stream",
          "name": "stderr",
          "text": [
            "WARNING:rasterio._env:CPLE_NotSupported in driver GTiff does not support open option BLOCKYSIZE\n",
            "WARNING:rasterio._env:CPLE_NotSupported in driver GTiff does not support open option COMPRESS\n",
            "WARNING:rasterio._env:CPLE_NotSupported in driver GTiff does not support open option INTERLEAVE\n",
            "WARNING:rasterio._env:CPLE_NotSupported in driver GTiff does not support open option BLOCKYSIZE\n",
            "WARNING:rasterio._env:CPLE_NotSupported in driver GTiff does not support open option COMPRESS\n",
            "WARNING:rasterio._env:CPLE_NotSupported in driver GTiff does not support open option INTERLEAVE\n"
          ]
        },
        {
          "output_type": "stream",
          "name": "stdout",
          "text": [
            "Done run 52 for bird Steller's Jay\n"
          ]
        },
        {
          "output_type": "stream",
          "name": "stderr",
          "text": [
            "WARNING:rasterio._env:CPLE_NotSupported in driver GTiff does not support open option BLOCKYSIZE\n",
            "WARNING:rasterio._env:CPLE_NotSupported in driver GTiff does not support open option COMPRESS\n",
            "WARNING:rasterio._env:CPLE_NotSupported in driver GTiff does not support open option INTERLEAVE\n",
            "WARNING:rasterio._env:CPLE_NotSupported in driver GTiff does not support open option BLOCKYSIZE\n",
            "WARNING:rasterio._env:CPLE_NotSupported in driver GTiff does not support open option COMPRESS\n",
            "WARNING:rasterio._env:CPLE_NotSupported in driver GTiff does not support open option INTERLEAVE\n"
          ]
        },
        {
          "output_type": "stream",
          "name": "stdout",
          "text": [
            "Done run 53 for bird Steller's Jay\n"
          ]
        },
        {
          "output_type": "stream",
          "name": "stderr",
          "text": [
            "WARNING:rasterio._env:CPLE_NotSupported in driver GTiff does not support open option BLOCKYSIZE\n",
            "WARNING:rasterio._env:CPLE_NotSupported in driver GTiff does not support open option COMPRESS\n",
            "WARNING:rasterio._env:CPLE_NotSupported in driver GTiff does not support open option INTERLEAVE\n",
            "WARNING:rasterio._env:CPLE_NotSupported in driver GTiff does not support open option BLOCKYSIZE\n",
            "WARNING:rasterio._env:CPLE_NotSupported in driver GTiff does not support open option COMPRESS\n",
            "WARNING:rasterio._env:CPLE_NotSupported in driver GTiff does not support open option INTERLEAVE\n"
          ]
        },
        {
          "output_type": "stream",
          "name": "stdout",
          "text": [
            "Done run 54 for bird Steller's Jay\n"
          ]
        },
        {
          "output_type": "stream",
          "name": "stderr",
          "text": [
            "WARNING:rasterio._env:CPLE_NotSupported in driver GTiff does not support open option BLOCKYSIZE\n",
            "WARNING:rasterio._env:CPLE_NotSupported in driver GTiff does not support open option COMPRESS\n",
            "WARNING:rasterio._env:CPLE_NotSupported in driver GTiff does not support open option INTERLEAVE\n",
            "WARNING:rasterio._env:CPLE_NotSupported in driver GTiff does not support open option BLOCKYSIZE\n",
            "WARNING:rasterio._env:CPLE_NotSupported in driver GTiff does not support open option COMPRESS\n",
            "WARNING:rasterio._env:CPLE_NotSupported in driver GTiff does not support open option INTERLEAVE\n"
          ]
        },
        {
          "output_type": "stream",
          "name": "stdout",
          "text": [
            "Done run 55 for bird Steller's Jay\n"
          ]
        },
        {
          "output_type": "stream",
          "name": "stderr",
          "text": [
            "WARNING:rasterio._env:CPLE_NotSupported in driver GTiff does not support open option BLOCKYSIZE\n",
            "WARNING:rasterio._env:CPLE_NotSupported in driver GTiff does not support open option COMPRESS\n",
            "WARNING:rasterio._env:CPLE_NotSupported in driver GTiff does not support open option INTERLEAVE\n",
            "WARNING:rasterio._env:CPLE_NotSupported in driver GTiff does not support open option BLOCKYSIZE\n",
            "WARNING:rasterio._env:CPLE_NotSupported in driver GTiff does not support open option COMPRESS\n",
            "WARNING:rasterio._env:CPLE_NotSupported in driver GTiff does not support open option INTERLEAVE\n"
          ]
        },
        {
          "output_type": "stream",
          "name": "stdout",
          "text": [
            "Done run 56 for bird Steller's Jay\n"
          ]
        },
        {
          "output_type": "stream",
          "name": "stderr",
          "text": [
            "WARNING:rasterio._env:CPLE_NotSupported in driver GTiff does not support open option BLOCKYSIZE\n",
            "WARNING:rasterio._env:CPLE_NotSupported in driver GTiff does not support open option COMPRESS\n",
            "WARNING:rasterio._env:CPLE_NotSupported in driver GTiff does not support open option INTERLEAVE\n",
            "WARNING:rasterio._env:CPLE_NotSupported in driver GTiff does not support open option BLOCKYSIZE\n",
            "WARNING:rasterio._env:CPLE_NotSupported in driver GTiff does not support open option COMPRESS\n",
            "WARNING:rasterio._env:CPLE_NotSupported in driver GTiff does not support open option INTERLEAVE\n"
          ]
        },
        {
          "output_type": "stream",
          "name": "stdout",
          "text": [
            "Done run 57 for bird Steller's Jay\n"
          ]
        },
        {
          "output_type": "stream",
          "name": "stderr",
          "text": [
            "WARNING:rasterio._env:CPLE_NotSupported in driver GTiff does not support open option BLOCKYSIZE\n",
            "WARNING:rasterio._env:CPLE_NotSupported in driver GTiff does not support open option COMPRESS\n",
            "WARNING:rasterio._env:CPLE_NotSupported in driver GTiff does not support open option INTERLEAVE\n",
            "WARNING:rasterio._env:CPLE_NotSupported in driver GTiff does not support open option BLOCKYSIZE\n",
            "WARNING:rasterio._env:CPLE_NotSupported in driver GTiff does not support open option COMPRESS\n",
            "WARNING:rasterio._env:CPLE_NotSupported in driver GTiff does not support open option INTERLEAVE\n"
          ]
        },
        {
          "output_type": "stream",
          "name": "stdout",
          "text": [
            "Done run 58 for bird Steller's Jay\n"
          ]
        },
        {
          "output_type": "stream",
          "name": "stderr",
          "text": [
            "WARNING:rasterio._env:CPLE_NotSupported in driver GTiff does not support open option BLOCKYSIZE\n",
            "WARNING:rasterio._env:CPLE_NotSupported in driver GTiff does not support open option COMPRESS\n",
            "WARNING:rasterio._env:CPLE_NotSupported in driver GTiff does not support open option INTERLEAVE\n",
            "WARNING:rasterio._env:CPLE_NotSupported in driver GTiff does not support open option BLOCKYSIZE\n",
            "WARNING:rasterio._env:CPLE_NotSupported in driver GTiff does not support open option COMPRESS\n",
            "WARNING:rasterio._env:CPLE_NotSupported in driver GTiff does not support open option INTERLEAVE\n"
          ]
        },
        {
          "output_type": "stream",
          "name": "stdout",
          "text": [
            "Done run 59 for bird Steller's Jay\n"
          ]
        },
        {
          "output_type": "stream",
          "name": "stderr",
          "text": [
            "WARNING:rasterio._env:CPLE_NotSupported in driver GTiff does not support open option BLOCKYSIZE\n",
            "WARNING:rasterio._env:CPLE_NotSupported in driver GTiff does not support open option COMPRESS\n",
            "WARNING:rasterio._env:CPLE_NotSupported in driver GTiff does not support open option INTERLEAVE\n",
            "WARNING:rasterio._env:CPLE_NotSupported in driver GTiff does not support open option BLOCKYSIZE\n",
            "WARNING:rasterio._env:CPLE_NotSupported in driver GTiff does not support open option COMPRESS\n",
            "WARNING:rasterio._env:CPLE_NotSupported in driver GTiff does not support open option INTERLEAVE\n"
          ]
        },
        {
          "output_type": "stream",
          "name": "stdout",
          "text": [
            "Done run 60 for bird Steller's Jay\n"
          ]
        },
        {
          "output_type": "stream",
          "name": "stderr",
          "text": [
            "WARNING:rasterio._env:CPLE_NotSupported in driver GTiff does not support open option BLOCKYSIZE\n",
            "WARNING:rasterio._env:CPLE_NotSupported in driver GTiff does not support open option COMPRESS\n",
            "WARNING:rasterio._env:CPLE_NotSupported in driver GTiff does not support open option INTERLEAVE\n",
            "WARNING:rasterio._env:CPLE_NotSupported in driver GTiff does not support open option BLOCKYSIZE\n",
            "WARNING:rasterio._env:CPLE_NotSupported in driver GTiff does not support open option COMPRESS\n",
            "WARNING:rasterio._env:CPLE_NotSupported in driver GTiff does not support open option INTERLEAVE\n"
          ]
        },
        {
          "output_type": "stream",
          "name": "stdout",
          "text": [
            "Done run 61 for bird Steller's Jay\n"
          ]
        },
        {
          "output_type": "stream",
          "name": "stderr",
          "text": [
            "WARNING:rasterio._env:CPLE_NotSupported in driver GTiff does not support open option BLOCKYSIZE\n",
            "WARNING:rasterio._env:CPLE_NotSupported in driver GTiff does not support open option COMPRESS\n",
            "WARNING:rasterio._env:CPLE_NotSupported in driver GTiff does not support open option INTERLEAVE\n",
            "WARNING:rasterio._env:CPLE_NotSupported in driver GTiff does not support open option BLOCKYSIZE\n",
            "WARNING:rasterio._env:CPLE_NotSupported in driver GTiff does not support open option COMPRESS\n",
            "WARNING:rasterio._env:CPLE_NotSupported in driver GTiff does not support open option INTERLEAVE\n"
          ]
        },
        {
          "output_type": "stream",
          "name": "stdout",
          "text": [
            "Done run 62 for bird Steller's Jay\n"
          ]
        },
        {
          "output_type": "stream",
          "name": "stderr",
          "text": [
            "WARNING:rasterio._env:CPLE_NotSupported in driver GTiff does not support open option BLOCKYSIZE\n",
            "WARNING:rasterio._env:CPLE_NotSupported in driver GTiff does not support open option COMPRESS\n",
            "WARNING:rasterio._env:CPLE_NotSupported in driver GTiff does not support open option INTERLEAVE\n",
            "WARNING:rasterio._env:CPLE_NotSupported in driver GTiff does not support open option BLOCKYSIZE\n",
            "WARNING:rasterio._env:CPLE_NotSupported in driver GTiff does not support open option COMPRESS\n",
            "WARNING:rasterio._env:CPLE_NotSupported in driver GTiff does not support open option INTERLEAVE\n"
          ]
        },
        {
          "output_type": "stream",
          "name": "stdout",
          "text": [
            "Done run 63 for bird Steller's Jay\n"
          ]
        },
        {
          "output_type": "stream",
          "name": "stderr",
          "text": [
            "WARNING:rasterio._env:CPLE_NotSupported in driver GTiff does not support open option BLOCKYSIZE\n",
            "WARNING:rasterio._env:CPLE_NotSupported in driver GTiff does not support open option COMPRESS\n",
            "WARNING:rasterio._env:CPLE_NotSupported in driver GTiff does not support open option INTERLEAVE\n",
            "WARNING:rasterio._env:CPLE_NotSupported in driver GTiff does not support open option BLOCKYSIZE\n",
            "WARNING:rasterio._env:CPLE_NotSupported in driver GTiff does not support open option COMPRESS\n",
            "WARNING:rasterio._env:CPLE_NotSupported in driver GTiff does not support open option INTERLEAVE\n"
          ]
        },
        {
          "output_type": "stream",
          "name": "stdout",
          "text": [
            "Done run 64 for bird Steller's Jay\n"
          ]
        },
        {
          "output_type": "stream",
          "name": "stderr",
          "text": [
            "WARNING:rasterio._env:CPLE_NotSupported in driver GTiff does not support open option BLOCKYSIZE\n",
            "WARNING:rasterio._env:CPLE_NotSupported in driver GTiff does not support open option COMPRESS\n",
            "WARNING:rasterio._env:CPLE_NotSupported in driver GTiff does not support open option INTERLEAVE\n",
            "WARNING:rasterio._env:CPLE_NotSupported in driver GTiff does not support open option BLOCKYSIZE\n",
            "WARNING:rasterio._env:CPLE_NotSupported in driver GTiff does not support open option COMPRESS\n",
            "WARNING:rasterio._env:CPLE_NotSupported in driver GTiff does not support open option INTERLEAVE\n"
          ]
        },
        {
          "output_type": "stream",
          "name": "stdout",
          "text": [
            "Done run 65 for bird Steller's Jay\n"
          ]
        },
        {
          "output_type": "stream",
          "name": "stderr",
          "text": [
            "WARNING:rasterio._env:CPLE_NotSupported in driver GTiff does not support open option BLOCKYSIZE\n",
            "WARNING:rasterio._env:CPLE_NotSupported in driver GTiff does not support open option COMPRESS\n",
            "WARNING:rasterio._env:CPLE_NotSupported in driver GTiff does not support open option INTERLEAVE\n",
            "WARNING:rasterio._env:CPLE_NotSupported in driver GTiff does not support open option BLOCKYSIZE\n",
            "WARNING:rasterio._env:CPLE_NotSupported in driver GTiff does not support open option COMPRESS\n",
            "WARNING:rasterio._env:CPLE_NotSupported in driver GTiff does not support open option INTERLEAVE\n"
          ]
        },
        {
          "output_type": "stream",
          "name": "stdout",
          "text": [
            "Done run 66 for bird Steller's Jay\n"
          ]
        },
        {
          "output_type": "stream",
          "name": "stderr",
          "text": [
            "WARNING:rasterio._env:CPLE_NotSupported in driver GTiff does not support open option BLOCKYSIZE\n",
            "WARNING:rasterio._env:CPLE_NotSupported in driver GTiff does not support open option COMPRESS\n",
            "WARNING:rasterio._env:CPLE_NotSupported in driver GTiff does not support open option INTERLEAVE\n",
            "WARNING:rasterio._env:CPLE_NotSupported in driver GTiff does not support open option BLOCKYSIZE\n",
            "WARNING:rasterio._env:CPLE_NotSupported in driver GTiff does not support open option COMPRESS\n",
            "WARNING:rasterio._env:CPLE_NotSupported in driver GTiff does not support open option INTERLEAVE\n"
          ]
        },
        {
          "output_type": "stream",
          "name": "stdout",
          "text": [
            "Done run 67 for bird Steller's Jay\n"
          ]
        },
        {
          "output_type": "stream",
          "name": "stderr",
          "text": [
            "WARNING:rasterio._env:CPLE_NotSupported in driver GTiff does not support open option BLOCKYSIZE\n",
            "WARNING:rasterio._env:CPLE_NotSupported in driver GTiff does not support open option COMPRESS\n",
            "WARNING:rasterio._env:CPLE_NotSupported in driver GTiff does not support open option INTERLEAVE\n",
            "WARNING:rasterio._env:CPLE_NotSupported in driver GTiff does not support open option BLOCKYSIZE\n",
            "WARNING:rasterio._env:CPLE_NotSupported in driver GTiff does not support open option COMPRESS\n",
            "WARNING:rasterio._env:CPLE_NotSupported in driver GTiff does not support open option INTERLEAVE\n"
          ]
        },
        {
          "output_type": "stream",
          "name": "stdout",
          "text": [
            "Done run 68 for bird Steller's Jay\n"
          ]
        },
        {
          "output_type": "stream",
          "name": "stderr",
          "text": [
            "WARNING:rasterio._env:CPLE_NotSupported in driver GTiff does not support open option BLOCKYSIZE\n",
            "WARNING:rasterio._env:CPLE_NotSupported in driver GTiff does not support open option COMPRESS\n",
            "WARNING:rasterio._env:CPLE_NotSupported in driver GTiff does not support open option INTERLEAVE\n",
            "WARNING:rasterio._env:CPLE_NotSupported in driver GTiff does not support open option BLOCKYSIZE\n",
            "WARNING:rasterio._env:CPLE_NotSupported in driver GTiff does not support open option COMPRESS\n",
            "WARNING:rasterio._env:CPLE_NotSupported in driver GTiff does not support open option INTERLEAVE\n"
          ]
        },
        {
          "output_type": "stream",
          "name": "stdout",
          "text": [
            "Done run 69 for bird Steller's Jay\n"
          ]
        },
        {
          "output_type": "stream",
          "name": "stderr",
          "text": [
            "WARNING:rasterio._env:CPLE_NotSupported in driver GTiff does not support open option BLOCKYSIZE\n",
            "WARNING:rasterio._env:CPLE_NotSupported in driver GTiff does not support open option COMPRESS\n",
            "WARNING:rasterio._env:CPLE_NotSupported in driver GTiff does not support open option INTERLEAVE\n",
            "WARNING:rasterio._env:CPLE_NotSupported in driver GTiff does not support open option BLOCKYSIZE\n",
            "WARNING:rasterio._env:CPLE_NotSupported in driver GTiff does not support open option COMPRESS\n",
            "WARNING:rasterio._env:CPLE_NotSupported in driver GTiff does not support open option INTERLEAVE\n"
          ]
        },
        {
          "output_type": "stream",
          "name": "stdout",
          "text": [
            "Done run 70 for bird Steller's Jay\n"
          ]
        },
        {
          "output_type": "stream",
          "name": "stderr",
          "text": [
            "WARNING:rasterio._env:CPLE_NotSupported in driver GTiff does not support open option BLOCKYSIZE\n",
            "WARNING:rasterio._env:CPLE_NotSupported in driver GTiff does not support open option COMPRESS\n",
            "WARNING:rasterio._env:CPLE_NotSupported in driver GTiff does not support open option INTERLEAVE\n",
            "WARNING:rasterio._env:CPLE_NotSupported in driver GTiff does not support open option BLOCKYSIZE\n",
            "WARNING:rasterio._env:CPLE_NotSupported in driver GTiff does not support open option COMPRESS\n",
            "WARNING:rasterio._env:CPLE_NotSupported in driver GTiff does not support open option INTERLEAVE\n"
          ]
        },
        {
          "output_type": "stream",
          "name": "stdout",
          "text": [
            "Done run 71 for bird Steller's Jay\n"
          ]
        },
        {
          "output_type": "stream",
          "name": "stderr",
          "text": [
            "WARNING:rasterio._env:CPLE_NotSupported in driver GTiff does not support open option BLOCKYSIZE\n",
            "WARNING:rasterio._env:CPLE_NotSupported in driver GTiff does not support open option COMPRESS\n",
            "WARNING:rasterio._env:CPLE_NotSupported in driver GTiff does not support open option INTERLEAVE\n",
            "WARNING:rasterio._env:CPLE_NotSupported in driver GTiff does not support open option BLOCKYSIZE\n",
            "WARNING:rasterio._env:CPLE_NotSupported in driver GTiff does not support open option COMPRESS\n",
            "WARNING:rasterio._env:CPLE_NotSupported in driver GTiff does not support open option INTERLEAVE\n"
          ]
        },
        {
          "output_type": "stream",
          "name": "stdout",
          "text": [
            "Done run 72 for bird Steller's Jay\n"
          ]
        },
        {
          "output_type": "stream",
          "name": "stderr",
          "text": [
            "WARNING:rasterio._env:CPLE_NotSupported in driver GTiff does not support open option BLOCKYSIZE\n",
            "WARNING:rasterio._env:CPLE_NotSupported in driver GTiff does not support open option COMPRESS\n",
            "WARNING:rasterio._env:CPLE_NotSupported in driver GTiff does not support open option INTERLEAVE\n",
            "WARNING:rasterio._env:CPLE_NotSupported in driver GTiff does not support open option BLOCKYSIZE\n",
            "WARNING:rasterio._env:CPLE_NotSupported in driver GTiff does not support open option COMPRESS\n",
            "WARNING:rasterio._env:CPLE_NotSupported in driver GTiff does not support open option INTERLEAVE\n"
          ]
        },
        {
          "output_type": "stream",
          "name": "stdout",
          "text": [
            "Done run 73 for bird Steller's Jay\n"
          ]
        },
        {
          "output_type": "stream",
          "name": "stderr",
          "text": [
            "WARNING:rasterio._env:CPLE_NotSupported in driver GTiff does not support open option BLOCKYSIZE\n",
            "WARNING:rasterio._env:CPLE_NotSupported in driver GTiff does not support open option COMPRESS\n",
            "WARNING:rasterio._env:CPLE_NotSupported in driver GTiff does not support open option INTERLEAVE\n",
            "WARNING:rasterio._env:CPLE_NotSupported in driver GTiff does not support open option BLOCKYSIZE\n",
            "WARNING:rasterio._env:CPLE_NotSupported in driver GTiff does not support open option COMPRESS\n",
            "WARNING:rasterio._env:CPLE_NotSupported in driver GTiff does not support open option INTERLEAVE\n"
          ]
        },
        {
          "output_type": "stream",
          "name": "stdout",
          "text": [
            "Done run 74 for bird Steller's Jay\n"
          ]
        },
        {
          "output_type": "stream",
          "name": "stderr",
          "text": [
            "WARNING:rasterio._env:CPLE_NotSupported in driver GTiff does not support open option BLOCKYSIZE\n",
            "WARNING:rasterio._env:CPLE_NotSupported in driver GTiff does not support open option COMPRESS\n",
            "WARNING:rasterio._env:CPLE_NotSupported in driver GTiff does not support open option INTERLEAVE\n",
            "WARNING:rasterio._env:CPLE_NotSupported in driver GTiff does not support open option BLOCKYSIZE\n",
            "WARNING:rasterio._env:CPLE_NotSupported in driver GTiff does not support open option COMPRESS\n",
            "WARNING:rasterio._env:CPLE_NotSupported in driver GTiff does not support open option INTERLEAVE\n"
          ]
        },
        {
          "output_type": "stream",
          "name": "stdout",
          "text": [
            "Done run 75 for bird Steller's Jay\n"
          ]
        },
        {
          "output_type": "stream",
          "name": "stderr",
          "text": [
            "WARNING:rasterio._env:CPLE_NotSupported in driver GTiff does not support open option BLOCKYSIZE\n",
            "WARNING:rasterio._env:CPLE_NotSupported in driver GTiff does not support open option COMPRESS\n",
            "WARNING:rasterio._env:CPLE_NotSupported in driver GTiff does not support open option INTERLEAVE\n",
            "WARNING:rasterio._env:CPLE_NotSupported in driver GTiff does not support open option BLOCKYSIZE\n",
            "WARNING:rasterio._env:CPLE_NotSupported in driver GTiff does not support open option COMPRESS\n",
            "WARNING:rasterio._env:CPLE_NotSupported in driver GTiff does not support open option INTERLEAVE\n"
          ]
        },
        {
          "output_type": "stream",
          "name": "stdout",
          "text": [
            "Done run 76 for bird Steller's Jay\n"
          ]
        },
        {
          "output_type": "stream",
          "name": "stderr",
          "text": [
            "WARNING:rasterio._env:CPLE_NotSupported in driver GTiff does not support open option BLOCKYSIZE\n",
            "WARNING:rasterio._env:CPLE_NotSupported in driver GTiff does not support open option COMPRESS\n",
            "WARNING:rasterio._env:CPLE_NotSupported in driver GTiff does not support open option INTERLEAVE\n",
            "WARNING:rasterio._env:CPLE_NotSupported in driver GTiff does not support open option BLOCKYSIZE\n",
            "WARNING:rasterio._env:CPLE_NotSupported in driver GTiff does not support open option COMPRESS\n",
            "WARNING:rasterio._env:CPLE_NotSupported in driver GTiff does not support open option INTERLEAVE\n"
          ]
        },
        {
          "output_type": "stream",
          "name": "stdout",
          "text": [
            "Done run 77 for bird Steller's Jay\n"
          ]
        },
        {
          "output_type": "stream",
          "name": "stderr",
          "text": [
            "WARNING:rasterio._env:CPLE_NotSupported in driver GTiff does not support open option BLOCKYSIZE\n",
            "WARNING:rasterio._env:CPLE_NotSupported in driver GTiff does not support open option COMPRESS\n",
            "WARNING:rasterio._env:CPLE_NotSupported in driver GTiff does not support open option INTERLEAVE\n",
            "WARNING:rasterio._env:CPLE_NotSupported in driver GTiff does not support open option BLOCKYSIZE\n",
            "WARNING:rasterio._env:CPLE_NotSupported in driver GTiff does not support open option COMPRESS\n",
            "WARNING:rasterio._env:CPLE_NotSupported in driver GTiff does not support open option INTERLEAVE\n"
          ]
        },
        {
          "output_type": "stream",
          "name": "stdout",
          "text": [
            "Done run 78 for bird Steller's Jay\n"
          ]
        },
        {
          "output_type": "stream",
          "name": "stderr",
          "text": [
            "WARNING:rasterio._env:CPLE_NotSupported in driver GTiff does not support open option BLOCKYSIZE\n",
            "WARNING:rasterio._env:CPLE_NotSupported in driver GTiff does not support open option COMPRESS\n",
            "WARNING:rasterio._env:CPLE_NotSupported in driver GTiff does not support open option INTERLEAVE\n",
            "WARNING:rasterio._env:CPLE_NotSupported in driver GTiff does not support open option BLOCKYSIZE\n",
            "WARNING:rasterio._env:CPLE_NotSupported in driver GTiff does not support open option COMPRESS\n",
            "WARNING:rasterio._env:CPLE_NotSupported in driver GTiff does not support open option INTERLEAVE\n"
          ]
        },
        {
          "output_type": "stream",
          "name": "stdout",
          "text": [
            "Done run 79 for bird Steller's Jay\n"
          ]
        },
        {
          "output_type": "stream",
          "name": "stderr",
          "text": [
            "WARNING:rasterio._env:CPLE_NotSupported in driver GTiff does not support open option BLOCKYSIZE\n",
            "WARNING:rasterio._env:CPLE_NotSupported in driver GTiff does not support open option COMPRESS\n",
            "WARNING:rasterio._env:CPLE_NotSupported in driver GTiff does not support open option INTERLEAVE\n",
            "WARNING:rasterio._env:CPLE_NotSupported in driver GTiff does not support open option BLOCKYSIZE\n",
            "WARNING:rasterio._env:CPLE_NotSupported in driver GTiff does not support open option COMPRESS\n",
            "WARNING:rasterio._env:CPLE_NotSupported in driver GTiff does not support open option INTERLEAVE\n"
          ]
        },
        {
          "output_type": "stream",
          "name": "stdout",
          "text": [
            "Done run 80 for bird Steller's Jay\n"
          ]
        },
        {
          "output_type": "stream",
          "name": "stderr",
          "text": [
            "WARNING:rasterio._env:CPLE_NotSupported in driver GTiff does not support open option BLOCKYSIZE\n",
            "WARNING:rasterio._env:CPLE_NotSupported in driver GTiff does not support open option COMPRESS\n",
            "WARNING:rasterio._env:CPLE_NotSupported in driver GTiff does not support open option INTERLEAVE\n",
            "WARNING:rasterio._env:CPLE_NotSupported in driver GTiff does not support open option BLOCKYSIZE\n",
            "WARNING:rasterio._env:CPLE_NotSupported in driver GTiff does not support open option COMPRESS\n",
            "WARNING:rasterio._env:CPLE_NotSupported in driver GTiff does not support open option INTERLEAVE\n"
          ]
        },
        {
          "output_type": "stream",
          "name": "stdout",
          "text": [
            "Done run 81 for bird Steller's Jay\n"
          ]
        },
        {
          "output_type": "stream",
          "name": "stderr",
          "text": [
            "WARNING:rasterio._env:CPLE_NotSupported in driver GTiff does not support open option BLOCKYSIZE\n",
            "WARNING:rasterio._env:CPLE_NotSupported in driver GTiff does not support open option COMPRESS\n",
            "WARNING:rasterio._env:CPLE_NotSupported in driver GTiff does not support open option INTERLEAVE\n",
            "WARNING:rasterio._env:CPLE_NotSupported in driver GTiff does not support open option BLOCKYSIZE\n",
            "WARNING:rasterio._env:CPLE_NotSupported in driver GTiff does not support open option COMPRESS\n",
            "WARNING:rasterio._env:CPLE_NotSupported in driver GTiff does not support open option INTERLEAVE\n"
          ]
        },
        {
          "output_type": "stream",
          "name": "stdout",
          "text": [
            "Done run 82 for bird Steller's Jay\n"
          ]
        },
        {
          "output_type": "stream",
          "name": "stderr",
          "text": [
            "WARNING:rasterio._env:CPLE_NotSupported in driver GTiff does not support open option BLOCKYSIZE\n",
            "WARNING:rasterio._env:CPLE_NotSupported in driver GTiff does not support open option COMPRESS\n",
            "WARNING:rasterio._env:CPLE_NotSupported in driver GTiff does not support open option INTERLEAVE\n",
            "WARNING:rasterio._env:CPLE_NotSupported in driver GTiff does not support open option BLOCKYSIZE\n",
            "WARNING:rasterio._env:CPLE_NotSupported in driver GTiff does not support open option COMPRESS\n",
            "WARNING:rasterio._env:CPLE_NotSupported in driver GTiff does not support open option INTERLEAVE\n"
          ]
        },
        {
          "output_type": "stream",
          "name": "stdout",
          "text": [
            "Done run 83 for bird Steller's Jay\n"
          ]
        },
        {
          "output_type": "stream",
          "name": "stderr",
          "text": [
            "WARNING:rasterio._env:CPLE_NotSupported in driver GTiff does not support open option BLOCKYSIZE\n",
            "WARNING:rasterio._env:CPLE_NotSupported in driver GTiff does not support open option COMPRESS\n",
            "WARNING:rasterio._env:CPLE_NotSupported in driver GTiff does not support open option INTERLEAVE\n",
            "WARNING:rasterio._env:CPLE_NotSupported in driver GTiff does not support open option BLOCKYSIZE\n",
            "WARNING:rasterio._env:CPLE_NotSupported in driver GTiff does not support open option COMPRESS\n",
            "WARNING:rasterio._env:CPLE_NotSupported in driver GTiff does not support open option INTERLEAVE\n"
          ]
        },
        {
          "output_type": "stream",
          "name": "stdout",
          "text": [
            "Done run 84 for bird Steller's Jay\n"
          ]
        },
        {
          "output_type": "stream",
          "name": "stderr",
          "text": [
            "WARNING:rasterio._env:CPLE_NotSupported in driver GTiff does not support open option BLOCKYSIZE\n",
            "WARNING:rasterio._env:CPLE_NotSupported in driver GTiff does not support open option COMPRESS\n",
            "WARNING:rasterio._env:CPLE_NotSupported in driver GTiff does not support open option INTERLEAVE\n",
            "WARNING:rasterio._env:CPLE_NotSupported in driver GTiff does not support open option BLOCKYSIZE\n",
            "WARNING:rasterio._env:CPLE_NotSupported in driver GTiff does not support open option COMPRESS\n",
            "WARNING:rasterio._env:CPLE_NotSupported in driver GTiff does not support open option INTERLEAVE\n"
          ]
        },
        {
          "output_type": "stream",
          "name": "stdout",
          "text": [
            "Done run 85 for bird Steller's Jay\n"
          ]
        },
        {
          "output_type": "stream",
          "name": "stderr",
          "text": [
            "WARNING:rasterio._env:CPLE_NotSupported in driver GTiff does not support open option BLOCKYSIZE\n",
            "WARNING:rasterio._env:CPLE_NotSupported in driver GTiff does not support open option COMPRESS\n",
            "WARNING:rasterio._env:CPLE_NotSupported in driver GTiff does not support open option INTERLEAVE\n",
            "WARNING:rasterio._env:CPLE_NotSupported in driver GTiff does not support open option BLOCKYSIZE\n",
            "WARNING:rasterio._env:CPLE_NotSupported in driver GTiff does not support open option COMPRESS\n",
            "WARNING:rasterio._env:CPLE_NotSupported in driver GTiff does not support open option INTERLEAVE\n"
          ]
        },
        {
          "output_type": "stream",
          "name": "stdout",
          "text": [
            "Done run 86 for bird Steller's Jay\n"
          ]
        },
        {
          "output_type": "stream",
          "name": "stderr",
          "text": [
            "WARNING:rasterio._env:CPLE_NotSupported in driver GTiff does not support open option BLOCKYSIZE\n",
            "WARNING:rasterio._env:CPLE_NotSupported in driver GTiff does not support open option COMPRESS\n",
            "WARNING:rasterio._env:CPLE_NotSupported in driver GTiff does not support open option INTERLEAVE\n",
            "WARNING:rasterio._env:CPLE_NotSupported in driver GTiff does not support open option BLOCKYSIZE\n",
            "WARNING:rasterio._env:CPLE_NotSupported in driver GTiff does not support open option COMPRESS\n",
            "WARNING:rasterio._env:CPLE_NotSupported in driver GTiff does not support open option INTERLEAVE\n"
          ]
        },
        {
          "output_type": "stream",
          "name": "stdout",
          "text": [
            "Done run 87 for bird Steller's Jay\n"
          ]
        },
        {
          "output_type": "stream",
          "name": "stderr",
          "text": [
            "WARNING:rasterio._env:CPLE_NotSupported in driver GTiff does not support open option BLOCKYSIZE\n",
            "WARNING:rasterio._env:CPLE_NotSupported in driver GTiff does not support open option COMPRESS\n",
            "WARNING:rasterio._env:CPLE_NotSupported in driver GTiff does not support open option INTERLEAVE\n",
            "WARNING:rasterio._env:CPLE_NotSupported in driver GTiff does not support open option BLOCKYSIZE\n",
            "WARNING:rasterio._env:CPLE_NotSupported in driver GTiff does not support open option COMPRESS\n",
            "WARNING:rasterio._env:CPLE_NotSupported in driver GTiff does not support open option INTERLEAVE\n"
          ]
        },
        {
          "output_type": "stream",
          "name": "stdout",
          "text": [
            "Done run 88 for bird Steller's Jay\n"
          ]
        },
        {
          "output_type": "stream",
          "name": "stderr",
          "text": [
            "WARNING:rasterio._env:CPLE_NotSupported in driver GTiff does not support open option BLOCKYSIZE\n",
            "WARNING:rasterio._env:CPLE_NotSupported in driver GTiff does not support open option COMPRESS\n",
            "WARNING:rasterio._env:CPLE_NotSupported in driver GTiff does not support open option INTERLEAVE\n",
            "WARNING:rasterio._env:CPLE_NotSupported in driver GTiff does not support open option BLOCKYSIZE\n",
            "WARNING:rasterio._env:CPLE_NotSupported in driver GTiff does not support open option COMPRESS\n",
            "WARNING:rasterio._env:CPLE_NotSupported in driver GTiff does not support open option INTERLEAVE\n"
          ]
        },
        {
          "output_type": "stream",
          "name": "stdout",
          "text": [
            "Done run 89 for bird Steller's Jay\n"
          ]
        },
        {
          "output_type": "stream",
          "name": "stderr",
          "text": [
            "WARNING:rasterio._env:CPLE_NotSupported in driver GTiff does not support open option BLOCKYSIZE\n",
            "WARNING:rasterio._env:CPLE_NotSupported in driver GTiff does not support open option COMPRESS\n",
            "WARNING:rasterio._env:CPLE_NotSupported in driver GTiff does not support open option INTERLEAVE\n",
            "WARNING:rasterio._env:CPLE_NotSupported in driver GTiff does not support open option BLOCKYSIZE\n",
            "WARNING:rasterio._env:CPLE_NotSupported in driver GTiff does not support open option COMPRESS\n",
            "WARNING:rasterio._env:CPLE_NotSupported in driver GTiff does not support open option INTERLEAVE\n"
          ]
        },
        {
          "output_type": "stream",
          "name": "stdout",
          "text": [
            "Done run 90 for bird Steller's Jay\n"
          ]
        },
        {
          "output_type": "stream",
          "name": "stderr",
          "text": [
            "WARNING:rasterio._env:CPLE_NotSupported in driver GTiff does not support open option BLOCKYSIZE\n",
            "WARNING:rasterio._env:CPLE_NotSupported in driver GTiff does not support open option COMPRESS\n",
            "WARNING:rasterio._env:CPLE_NotSupported in driver GTiff does not support open option INTERLEAVE\n",
            "WARNING:rasterio._env:CPLE_NotSupported in driver GTiff does not support open option BLOCKYSIZE\n",
            "WARNING:rasterio._env:CPLE_NotSupported in driver GTiff does not support open option COMPRESS\n",
            "WARNING:rasterio._env:CPLE_NotSupported in driver GTiff does not support open option INTERLEAVE\n"
          ]
        },
        {
          "output_type": "stream",
          "name": "stdout",
          "text": [
            "Done run 91 for bird Steller's Jay\n"
          ]
        },
        {
          "output_type": "stream",
          "name": "stderr",
          "text": [
            "WARNING:rasterio._env:CPLE_NotSupported in driver GTiff does not support open option BLOCKYSIZE\n",
            "WARNING:rasterio._env:CPLE_NotSupported in driver GTiff does not support open option COMPRESS\n",
            "WARNING:rasterio._env:CPLE_NotSupported in driver GTiff does not support open option INTERLEAVE\n",
            "WARNING:rasterio._env:CPLE_NotSupported in driver GTiff does not support open option BLOCKYSIZE\n",
            "WARNING:rasterio._env:CPLE_NotSupported in driver GTiff does not support open option COMPRESS\n",
            "WARNING:rasterio._env:CPLE_NotSupported in driver GTiff does not support open option INTERLEAVE\n"
          ]
        },
        {
          "output_type": "stream",
          "name": "stdout",
          "text": [
            "Done run 92 for bird Steller's Jay\n"
          ]
        },
        {
          "output_type": "stream",
          "name": "stderr",
          "text": [
            "WARNING:rasterio._env:CPLE_NotSupported in driver GTiff does not support open option BLOCKYSIZE\n",
            "WARNING:rasterio._env:CPLE_NotSupported in driver GTiff does not support open option COMPRESS\n",
            "WARNING:rasterio._env:CPLE_NotSupported in driver GTiff does not support open option INTERLEAVE\n",
            "WARNING:rasterio._env:CPLE_NotSupported in driver GTiff does not support open option BLOCKYSIZE\n",
            "WARNING:rasterio._env:CPLE_NotSupported in driver GTiff does not support open option COMPRESS\n",
            "WARNING:rasterio._env:CPLE_NotSupported in driver GTiff does not support open option INTERLEAVE\n"
          ]
        },
        {
          "output_type": "stream",
          "name": "stdout",
          "text": [
            "Done run 93 for bird Steller's Jay\n"
          ]
        },
        {
          "output_type": "stream",
          "name": "stderr",
          "text": [
            "WARNING:rasterio._env:CPLE_NotSupported in driver GTiff does not support open option BLOCKYSIZE\n",
            "WARNING:rasterio._env:CPLE_NotSupported in driver GTiff does not support open option COMPRESS\n",
            "WARNING:rasterio._env:CPLE_NotSupported in driver GTiff does not support open option INTERLEAVE\n",
            "WARNING:rasterio._env:CPLE_NotSupported in driver GTiff does not support open option BLOCKYSIZE\n",
            "WARNING:rasterio._env:CPLE_NotSupported in driver GTiff does not support open option COMPRESS\n",
            "WARNING:rasterio._env:CPLE_NotSupported in driver GTiff does not support open option INTERLEAVE\n"
          ]
        },
        {
          "output_type": "stream",
          "name": "stdout",
          "text": [
            "Done run 94 for bird Steller's Jay\n"
          ]
        },
        {
          "output_type": "stream",
          "name": "stderr",
          "text": [
            "WARNING:rasterio._env:CPLE_NotSupported in driver GTiff does not support open option BLOCKYSIZE\n",
            "WARNING:rasterio._env:CPLE_NotSupported in driver GTiff does not support open option COMPRESS\n",
            "WARNING:rasterio._env:CPLE_NotSupported in driver GTiff does not support open option INTERLEAVE\n",
            "WARNING:rasterio._env:CPLE_NotSupported in driver GTiff does not support open option BLOCKYSIZE\n",
            "WARNING:rasterio._env:CPLE_NotSupported in driver GTiff does not support open option COMPRESS\n",
            "WARNING:rasterio._env:CPLE_NotSupported in driver GTiff does not support open option INTERLEAVE\n"
          ]
        },
        {
          "output_type": "stream",
          "name": "stdout",
          "text": [
            "Done run 95 for bird Steller's Jay\n"
          ]
        },
        {
          "output_type": "stream",
          "name": "stderr",
          "text": [
            "WARNING:rasterio._env:CPLE_NotSupported in driver GTiff does not support open option BLOCKYSIZE\n",
            "WARNING:rasterio._env:CPLE_NotSupported in driver GTiff does not support open option COMPRESS\n",
            "WARNING:rasterio._env:CPLE_NotSupported in driver GTiff does not support open option INTERLEAVE\n",
            "WARNING:rasterio._env:CPLE_NotSupported in driver GTiff does not support open option BLOCKYSIZE\n",
            "WARNING:rasterio._env:CPLE_NotSupported in driver GTiff does not support open option COMPRESS\n",
            "WARNING:rasterio._env:CPLE_NotSupported in driver GTiff does not support open option INTERLEAVE\n"
          ]
        },
        {
          "output_type": "stream",
          "name": "stdout",
          "text": [
            "Done run 96 for bird Steller's Jay\n"
          ]
        },
        {
          "output_type": "stream",
          "name": "stderr",
          "text": [
            "WARNING:rasterio._env:CPLE_NotSupported in driver GTiff does not support open option BLOCKYSIZE\n",
            "WARNING:rasterio._env:CPLE_NotSupported in driver GTiff does not support open option COMPRESS\n",
            "WARNING:rasterio._env:CPLE_NotSupported in driver GTiff does not support open option INTERLEAVE\n",
            "WARNING:rasterio._env:CPLE_NotSupported in driver GTiff does not support open option BLOCKYSIZE\n",
            "WARNING:rasterio._env:CPLE_NotSupported in driver GTiff does not support open option COMPRESS\n",
            "WARNING:rasterio._env:CPLE_NotSupported in driver GTiff does not support open option INTERLEAVE\n"
          ]
        },
        {
          "output_type": "stream",
          "name": "stdout",
          "text": [
            "Done run 97 for bird Steller's Jay\n"
          ]
        },
        {
          "output_type": "stream",
          "name": "stderr",
          "text": [
            "WARNING:rasterio._env:CPLE_NotSupported in driver GTiff does not support open option BLOCKYSIZE\n",
            "WARNING:rasterio._env:CPLE_NotSupported in driver GTiff does not support open option COMPRESS\n",
            "WARNING:rasterio._env:CPLE_NotSupported in driver GTiff does not support open option INTERLEAVE\n",
            "WARNING:rasterio._env:CPLE_NotSupported in driver GTiff does not support open option BLOCKYSIZE\n",
            "WARNING:rasterio._env:CPLE_NotSupported in driver GTiff does not support open option COMPRESS\n",
            "WARNING:rasterio._env:CPLE_NotSupported in driver GTiff does not support open option INTERLEAVE\n"
          ]
        },
        {
          "output_type": "stream",
          "name": "stdout",
          "text": [
            "Done run 98 for bird Steller's Jay\n",
            "Done run 99 for bird Steller's Jay\n"
          ]
        }
      ]
    },
    {
      "cell_type": "code",
      "source": [
        "std_renorm = math.sqrt(ORIG_NUM_SIMULATIONS / NUM_SIMULATIONS)\n",
        "\n",
        "def perc_below_threshold(std, threshold, renorm=std_renorm):\n",
        "    t = threshold * std_renorm\n",
        "    return np.sum(std > t) / len(std)\n",
        "\n",
        "def analyze_variance(a, values=None):\n",
        "    std = np.sqrt(a.flatten())\n",
        "    for t in values:\n",
        "        print(\"Perc > {}:\".format(t), 100 * perc_below_threshold(std, t))"
      ],
      "metadata": {
        "id": "sSmAFGJPnr_J"
      },
      "execution_count": 9,
      "outputs": []
    },
    {
      "cell_type": "code",
      "source": [
        "for tag, v in conn_variance.items():\n",
        "    print(tag, \":\")\n",
        "    analyze_variance(v, values=[0.5, 0.2, 0.1, 0.05, 0.02, 0.01])"
      ],
      "metadata": {
        "colab": {
          "base_uri": "https://localhost:8080/"
        },
        "id": "wM7GxYzkrFI9",
        "outputId": "1c3da721-079e-4805-a41a-3226c1cf6b1a"
      },
      "execution_count": 10,
      "outputs": [
        {
          "output_type": "stream",
          "name": "stdout",
          "text": [
            "Acorn Woodpecker_gap_2_n_20 :\n",
            "Perc > 0.5: 0.0\n",
            "Perc > 0.2: 0.0\n",
            "Perc > 0.1: 0.0\n",
            "Perc > 0.05: 0.0\n",
            "Perc > 0.02: 0.7079399499482807\n",
            "Perc > 0.01: 3.6751138535479724\n",
            "Acorn Woodpecker_gap_3_n_15 :\n",
            "Perc > 0.5: 0.0\n",
            "Perc > 0.2: 0.0\n",
            "Perc > 0.1: 0.0\n",
            "Perc > 0.05: 0.0\n",
            "Perc > 0.02: 0.9324139634727749\n",
            "Perc > 0.01: 3.7911444771445098\n",
            "Steller's Jay_gap_1_n_6 :\n",
            "Perc > 0.5: 0.0\n",
            "Perc > 0.2: 0.0\n",
            "Perc > 0.1: 0.0\n",
            "Perc > 0.05: 0.0\n",
            "Perc > 0.02: 0.30014615934832267\n",
            "Perc > 0.01: 3.4643178806674286\n",
            "Steller's Jay_gap_2_n_3 :\n",
            "Perc > 0.5: 0.0\n",
            "Perc > 0.2: 0.0\n",
            "Perc > 0.1: 0.0\n",
            "Perc > 0.05: 0.0\n",
            "Perc > 0.02: 0.5199707401036148\n",
            "Perc > 0.01: 3.3573058554025406\n"
          ]
        }
      ]
    },
    {
      "cell_type": "code",
      "source": [
        "for tag, v in flow_variance.items():\n",
        "    print(tag, \":\")\n",
        "    analyze_variance(v, values=[1, 2, 5, 10, 20, 30, 40])"
      ],
      "metadata": {
        "colab": {
          "base_uri": "https://localhost:8080/"
        },
        "id": "wCCRy7vKrjgF",
        "outputId": "194bcf15-cbd5-44e6-f2c6-4aea1f8f8ea5"
      },
      "execution_count": 11,
      "outputs": [
        {
          "output_type": "stream",
          "name": "stdout",
          "text": [
            "Acorn Woodpecker_gap_2_n_20 :\n",
            "Perc > 1: 6.670829969292724\n",
            "Perc > 2: 6.295632255792673\n",
            "Perc > 5: 5.625668512359684\n",
            "Perc > 10: 4.8337635101305585\n",
            "Perc > 20: 3.4177685004883656\n",
            "Perc > 30: 1.8342537775515175\n",
            "Perc > 40: 0.4388534028342622\n",
            "Acorn Woodpecker_gap_3_n_15 :\n",
            "Perc > 1: 6.768112718665977\n",
            "Perc > 2: 6.386393787837324\n",
            "Perc > 5: 5.689339216008542\n",
            "Perc > 10: 4.860844328983252\n",
            "Perc > 20: 3.3990356405797284\n",
            "Perc > 30: 1.8146600969364193\n",
            "Perc > 40: 0.49552243108579713\n",
            "Steller's Jay_gap_1_n_6 :\n",
            "Perc > 1: 9.028362640941873\n",
            "Perc > 2: 7.924234965616218\n",
            "Perc > 5: 0.4556744400111066\n",
            "Perc > 10: 5.004771549195002e-06\n",
            "Perc > 20: 0.0\n",
            "Perc > 30: 0.0\n",
            "Perc > 40: 0.0\n",
            "Steller's Jay_gap_2_n_3 :\n",
            "Perc > 1: 8.704739098256278\n",
            "Perc > 2: 7.322691454032275\n",
            "Perc > 5: 0.0007256918746332753\n",
            "Perc > 10: 0.0\n",
            "Perc > 20: 0.0\n",
            "Perc > 30: 0.0\n",
            "Perc > 40: 0.0\n"
          ]
        }
      ]
    },
    {
      "cell_type": "code",
      "source": [],
      "metadata": {
        "id": "7MiFX5VSu4Le"
      },
      "execution_count": null,
      "outputs": []
    }
  ]
}