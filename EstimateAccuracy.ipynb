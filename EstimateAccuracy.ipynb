{
  "cells": [
    {
      "cell_type": "markdown",
      "metadata": {
        "id": "LqJ-bVfQgpi-"
      },
      "source": [
        "## Code Setup"
      ]
    },
    {
      "cell_type": "code",
      "execution_count": 1,
      "metadata": {
        "id": "iHRuGs-jgrFw"
      },
      "outputs": [],
      "source": [
        "# If True, assumes everything is running locally.\n",
        "IS_LOCAL = False\n",
        "\n",
        "# Path to main directory\n",
        "REMOTE_PATH = \"/content/gdrive/Shareddrives/Birds and CS/Data/CA-Final\"\n",
        "LOCAL_PATH = \"/Users/luca/Library/CloudStorage/GoogleDrive-luca@ucsc.edu/Shared drives/Birds and CS/Data/CA-Final\"\n",
        "DATA_PATH = LOCAL_PATH if IS_LOCAL else REMOTE_PATH"
      ]
    },
    {
      "cell_type": "code",
      "execution_count": 2,
      "metadata": {
        "id": "g-NPiy_LgtpT"
      },
      "outputs": [],
      "source": [
        "import os\n",
        "import sys\n",
        "import warnings\n",
        "warnings.filterwarnings(\"ignore\") # Otherwise we get too much spurious output."
      ]
    },
    {
      "cell_type": "code",
      "execution_count": 3,
      "metadata": {
        "colab": {
          "base_uri": "https://localhost:8080/"
        },
        "id": "lCNBoQM31iaW",
        "outputId": "55236da6-8b10-4322-e70c-453a7cbdaf69"
      },
      "outputs": [
        {
          "name": "stdout",
          "output_type": "stream",
          "text": [
            "Collecting git+https://github.com/ecoscape-earth/ecoscape-connectivity.git\n",
            "  Cloning https://github.com/ecoscape-earth/ecoscape-connectivity.git to /tmp/pip-req-build-jvs8prx2\n",
            "  Running command git clone --filter=blob:none --quiet https://github.com/ecoscape-earth/ecoscape-connectivity.git /tmp/pip-req-build-jvs8prx2\n",
            "  Resolved https://github.com/ecoscape-earth/ecoscape-connectivity.git to commit 23e3ef478fc073aa3da612ff8168ed9aa60d8eb6\n",
            "  Installing build dependencies ... \u001b[?25l\u001b[?25hdone\n",
            "  Getting requirements to build wheel ... \u001b[?25l\u001b[?25hdone\n",
            "  Installing backend dependencies ... \u001b[?25l\u001b[?25hdone\n",
            "  Preparing metadata (pyproject.toml) ... \u001b[?25l\u001b[?25hdone\n",
            "Requirement already satisfied: numpy>=1.20.3 in /usr/local/lib/python3.10/dist-packages (from ecoscape-connectivity==0.0.2) (1.23.5)\n",
            "Collecting scgt>=0.0.4 (from ecoscape-connectivity==0.0.2)\n",
            "  Downloading scgt-0.0.5-py3-none-any.whl (11 kB)\n",
            "Requirement already satisfied: GDAL>=3.0.0 in /usr/local/lib/python3.10/dist-packages (from scgt>=0.0.4->ecoscape-connectivity==0.0.2) (3.4.3)\n",
            "Requirement already satisfied: matplotlib>=3.5.3 in /usr/local/lib/python3.10/dist-packages (from scgt>=0.0.4->ecoscape-connectivity==0.0.2) (3.7.1)\n",
            "Collecting rasterio>=1.2.10 (from scgt>=0.0.4->ecoscape-connectivity==0.0.2)\n",
            "  Downloading rasterio-1.3.8-cp310-cp310-manylinux_2_17_x86_64.manylinux2014_x86_64.whl (21.3 MB)\n",
            "\u001b[2K     \u001b[90m━━━━━━━━━━━━━━━━━━━━━━━━━━━━━━━━━━━━━━━━\u001b[0m \u001b[32m21.3/21.3 MB\u001b[0m \u001b[31m69.2 MB/s\u001b[0m eta \u001b[36m0:00:00\u001b[0m\n",
            "\u001b[?25hRequirement already satisfied: scipy>=1.7.3 in /usr/local/lib/python3.10/dist-packages (from scgt>=0.0.4->ecoscape-connectivity==0.0.2) (1.11.2)\n",
            "Requirement already satisfied: contourpy>=1.0.1 in /usr/local/lib/python3.10/dist-packages (from matplotlib>=3.5.3->scgt>=0.0.4->ecoscape-connectivity==0.0.2) (1.1.0)\n",
            "Requirement already satisfied: cycler>=0.10 in /usr/local/lib/python3.10/dist-packages (from matplotlib>=3.5.3->scgt>=0.0.4->ecoscape-connectivity==0.0.2) (0.11.0)\n",
            "Requirement already satisfied: fonttools>=4.22.0 in /usr/local/lib/python3.10/dist-packages (from matplotlib>=3.5.3->scgt>=0.0.4->ecoscape-connectivity==0.0.2) (4.42.1)\n",
            "Requirement already satisfied: kiwisolver>=1.0.1 in /usr/local/lib/python3.10/dist-packages (from matplotlib>=3.5.3->scgt>=0.0.4->ecoscape-connectivity==0.0.2) (1.4.5)\n",
            "Requirement already satisfied: packaging>=20.0 in /usr/local/lib/python3.10/dist-packages (from matplotlib>=3.5.3->scgt>=0.0.4->ecoscape-connectivity==0.0.2) (23.1)\n",
            "Requirement already satisfied: pillow>=6.2.0 in /usr/local/lib/python3.10/dist-packages (from matplotlib>=3.5.3->scgt>=0.0.4->ecoscape-connectivity==0.0.2) (9.4.0)\n",
            "Requirement already satisfied: pyparsing>=2.3.1 in /usr/local/lib/python3.10/dist-packages (from matplotlib>=3.5.3->scgt>=0.0.4->ecoscape-connectivity==0.0.2) (3.1.1)\n",
            "Requirement already satisfied: python-dateutil>=2.7 in /usr/local/lib/python3.10/dist-packages (from matplotlib>=3.5.3->scgt>=0.0.4->ecoscape-connectivity==0.0.2) (2.8.2)\n",
            "Collecting affine (from rasterio>=1.2.10->scgt>=0.0.4->ecoscape-connectivity==0.0.2)\n",
            "  Downloading affine-2.4.0-py3-none-any.whl (15 kB)\n",
            "Requirement already satisfied: attrs in /usr/local/lib/python3.10/dist-packages (from rasterio>=1.2.10->scgt>=0.0.4->ecoscape-connectivity==0.0.2) (23.1.0)\n",
            "Requirement already satisfied: certifi in /usr/local/lib/python3.10/dist-packages (from rasterio>=1.2.10->scgt>=0.0.4->ecoscape-connectivity==0.0.2) (2023.7.22)\n",
            "Requirement already satisfied: click>=4.0 in /usr/local/lib/python3.10/dist-packages (from rasterio>=1.2.10->scgt>=0.0.4->ecoscape-connectivity==0.0.2) (8.1.7)\n",
            "Requirement already satisfied: cligj>=0.5 in /usr/local/lib/python3.10/dist-packages (from rasterio>=1.2.10->scgt>=0.0.4->ecoscape-connectivity==0.0.2) (0.7.2)\n",
            "Collecting snuggs>=1.4.1 (from rasterio>=1.2.10->scgt>=0.0.4->ecoscape-connectivity==0.0.2)\n",
            "  Downloading snuggs-1.4.7-py3-none-any.whl (5.4 kB)\n",
            "Requirement already satisfied: click-plugins in /usr/local/lib/python3.10/dist-packages (from rasterio>=1.2.10->scgt>=0.0.4->ecoscape-connectivity==0.0.2) (1.1.1)\n",
            "Requirement already satisfied: setuptools in /usr/local/lib/python3.10/dist-packages (from rasterio>=1.2.10->scgt>=0.0.4->ecoscape-connectivity==0.0.2) (67.7.2)\n",
            "Requirement already satisfied: six>=1.5 in /usr/local/lib/python3.10/dist-packages (from python-dateutil>=2.7->matplotlib>=3.5.3->scgt>=0.0.4->ecoscape-connectivity==0.0.2) (1.16.0)\n",
            "Building wheels for collected packages: ecoscape-connectivity\n",
            "  Building wheel for ecoscape-connectivity (pyproject.toml) ... \u001b[?25l\u001b[?25hdone\n",
            "  Created wheel for ecoscape-connectivity: filename=ecoscape_connectivity-0.0.2-py3-none-any.whl size=11054 sha256=960865e6175b68f68ad87fd7b9f16fcf4bb02af07235558dd836d6859e655550\n",
            "  Stored in directory: /tmp/pip-ephem-wheel-cache-c0imryef/wheels/72/73/2c/f3b584a638e8a6a37479ac7d8823cb5a88a277b40f8c2732f4\n",
            "Successfully built ecoscape-connectivity\n",
            "Installing collected packages: snuggs, affine, rasterio, scgt, ecoscape-connectivity\n",
            "Successfully installed affine-2.4.0 ecoscape-connectivity-0.0.2 rasterio-1.3.8 scgt-0.0.5 snuggs-1.4.7\n",
            "Collecting git+https://github.com/ecoscape-earth/ecoscape-utils.git\n",
            "  Cloning https://github.com/ecoscape-earth/ecoscape-utils.git to /tmp/pip-req-build-7aivvfan\n",
            "  Running command git clone --filter=blob:none --quiet https://github.com/ecoscape-earth/ecoscape-utils.git /tmp/pip-req-build-7aivvfan\n",
            "  Resolved https://github.com/ecoscape-earth/ecoscape-utils.git to commit 7d578c80599dad515ec2e6730b2b2aebbcb2da04\n",
            "  Installing build dependencies ... \u001b[?25l\u001b[?25hdone\n",
            "  Getting requirements to build wheel ... \u001b[?25l\u001b[?25hdone\n",
            "  Installing backend dependencies ... \u001b[?25l\u001b[?25hdone\n",
            "  Preparing metadata (pyproject.toml) ... \u001b[?25l\u001b[?25hdone\n",
            "Building wheels for collected packages: ecoscape-utilities\n",
            "  Building wheel for ecoscape-utilities (pyproject.toml) ... \u001b[?25l\u001b[?25hdone\n",
            "  Created wheel for ecoscape-utilities: filename=ecoscape_utilities-0.0.3-py3-none-any.whl size=4149 sha256=1824181581be0aa0fc03ec77a555fc7a124ae3c71759e48340af8f50d3d7c1a6\n",
            "  Stored in directory: /tmp/pip-ephem-wheel-cache-ghc4rk91/wheels/1d/13/ba/90a24983fdd79347f60ae8a325d7db12c56af8ef9e9618e34d\n",
            "Successfully built ecoscape-utilities\n",
            "Installing collected packages: ecoscape-utilities\n",
            "Successfully installed ecoscape-utilities-0.0.3\n"
          ]
        }
      ],
      "source": [
        "# Installs required packages\n",
        "if not IS_LOCAL:\n",
        "    !pip install git+https://github.com/ecoscape-earth/ecoscape-connectivity.git\n",
        "    !pip install git+https://github.com/ecoscape-earth/ecoscape-utils.git"
      ]
    },
    {
      "cell_type": "code",
      "execution_count": 4,
      "metadata": {
        "colab": {
          "base_uri": "https://localhost:8080/"
        },
        "id": "eglkqZWmhBeV",
        "outputId": "ab55d6e9-fbf1-4181-9341-55887eedfd6c"
      },
      "outputs": [
        {
          "name": "stdout",
          "output_type": "stream",
          "text": [
            "Mounted at /content/gdrive\n"
          ]
        }
      ],
      "source": [
        "# Connecting to Drive.\n",
        "if not IS_LOCAL:\n",
        "    from google.colab import drive\n",
        "    drive.mount(\"/content/gdrive\", force_remount=True)"
      ]
    },
    {
      "cell_type": "code",
      "execution_count": 5,
      "metadata": {
        "id": "ut_MEIF7hC__"
      },
      "outputs": [],
      "source": [
        "import time\n",
        "from ecoscape_utilities import BirdRun\n",
        "from ecoscape_connectivity import compute_connectivity\n",
        "from ecoscape_connectivity.util import read_transmission_csv\n",
        "from scgt import GeoTiff"
      ]
    },
    {
      "cell_type": "markdown",
      "metadata": {
        "id": "TMqlC9y1hSf1"
      },
      "source": [
        "## Run definitions"
      ]
    },
    {
      "cell_type": "code",
      "execution_count": 6,
      "metadata": {
        "id": "3j3WdmrGhKkd"
      },
      "outputs": [],
      "source": [
        "bird_run = BirdRun(DATA_PATH)\n",
        "\n",
        "birds = []\n",
        "\n",
        "ORIG_NUM_SIMULATIONS = 400\n",
        "NUM_SIMULATIONS = 40\n",
        "TRANSMISSION_EXPONENT = 1\n",
        "BIRD_RUN = \"Precision\"\n",
        "\n",
        "birds.append(bird_run.get_bird_run(\n",
        "    \"acowoo\", \"Acorn Woodpecker\",\n",
        "    run_name=BIRD_RUN,\n",
        "    do_validation=False, do_gradient=True,\n",
        "    hop_distance=2, num_spreads=20,\n",
        "    num_simulations=NUM_SIMULATIONS,\n",
        "    transmission_exponent=TRANSMISSION_EXPONENT))\n",
        "\n",
        "birds.append(bird_run.get_bird_run(\n",
        "    \"acowoo\", \"Acorn Woodpecker\",\n",
        "    run_name=BIRD_RUN,\n",
        "    do_validation=False, do_gradient=True,\n",
        "    hop_distance=3, num_spreads=15,\n",
        "    num_simulations=NUM_SIMULATIONS,\n",
        "    transmission_exponent=TRANSMISSION_EXPONENT))\n",
        "\n",
        "birds.append(bird_run.get_bird_run(\n",
        "    \"stejay\", \"Steller's Jay\",\n",
        "    run_name=BIRD_RUN,\n",
        "    do_validation=False, do_gradient=True,\n",
        "    hop_distance=1, num_spreads=6,\n",
        "    num_simulations=NUM_SIMULATIONS,\n",
        "    transmission_exponent=TRANSMISSION_EXPONENT))\n",
        "\n",
        "birds.append(bird_run.get_bird_run(\n",
        "    \"stejay\", \"Steller's Jay\",\n",
        "    run_name=BIRD_RUN,\n",
        "    do_validation=False, do_gradient=True,\n",
        "    hop_distance=2, num_spreads=3,\n",
        "    num_simulations=NUM_SIMULATIONS,\n",
        "    transmission_exponent=TRANSMISSION_EXPONENT))\n"
      ]
    },
    {
      "cell_type": "code",
      "execution_count": 7,
      "metadata": {
        "id": "_rWaqdMspk0C"
      },
      "outputs": [],
      "source": [
        "import numpy as np\n",
        "import math"
      ]
    },
    {
      "cell_type": "code",
      "execution_count": null,
      "metadata": {
        "colab": {
          "base_uri": "https://localhost:8080/"
        },
        "id": "-zL_tz9khb84",
        "outputId": "bf2880d3-fbe2-4e46-9855-fc2fc3a6b842"
      },
      "outputs": [],
      "source": [
        "# Let's do the bird runs.\n",
        "OUT_CONNECTIVITY = \"connectivity.tif\"\n",
        "OUT_FLOW = \"flow.tif\"\n",
        "NUM_RUNS = 100\n",
        "\n",
        "t = time.time()\n",
        "conn_variance = {}\n",
        "flow_variance = {}\n",
        "for bird in birds:\n",
        "\n",
        "    tag = \"{}_gap_{}_n_{}\".format(bird.name, bird.hop_distance, bird.num_spreads)\n",
        "    # Reads and translates the resistance dictionary.\n",
        "    transmission_d = read_transmission_csv(bird.transmission_fn)\n",
        "\n",
        "    # Performs a number of analysis, and measures accuracy of results.\n",
        "    conn_acc_sum = None\n",
        "    conn_acc_sqr = None\n",
        "    flow_acc_sum = None\n",
        "    flow_acc_sqr = None\n",
        "    for run_idx in range(NUM_RUNS):\n",
        "        # Performs the analysis\n",
        "        compute_connectivity(\n",
        "            habitat_fn=bird.habitat_fn,\n",
        "            terrain_fn=bird.terrain_fn,\n",
        "            connectivity_fn=OUT_CONNECTIVITY,\n",
        "            flow_fn=OUT_FLOW,\n",
        "            permeability_dict=transmission_d,\n",
        "            gap_crossing=bird.hop_distance,\n",
        "            num_gaps=bird.num_spreads,\n",
        "            num_simulations=bird.num_simulations,\n",
        "            seed_density=4,\n",
        "            single_tile=False,\n",
        "            tile_size=1024,\n",
        "            tile_border=256,\n",
        "        )\n",
        "        # Reads the results back.\n",
        "        with GeoTiff.from_file(OUT_CONNECTIVITY) as f:\n",
        "            tile = f.get_all_as_tile()\n",
        "            m = tile.m / 255 # To normalize range.\n",
        "            if conn_acc_sum is None:\n",
        "                conn_acc_sum = np.array(m)\n",
        "                conn_acc_sqr = np.array(m) ** 2\n",
        "            else:\n",
        "                conn_acc_sum += np.array(m)\n",
        "                conn_acc_sqr += np.array(m) ** 2\n",
        "        with GeoTiff.from_file(OUT_FLOW) as f:\n",
        "            tile = f.get_all_as_tile()\n",
        "            m = (10 ** (tile.m / 20)) - 1\n",
        "            if flow_acc_sum is None:\n",
        "                flow_acc_sum = np.array(m)\n",
        "                flow_acc_sqr = np.array(m) ** 2\n",
        "            else:\n",
        "                flow_acc_sum += np.array(m)\n",
        "                flow_acc_sqr += np.array(m) ** 2\n",
        "        print(\"Done run\", run_idx, \"for bird\", bird.name)\n",
        "    # Connectivity\n",
        "    conn_bird_avg = conn_acc_sum / NUM_RUNS\n",
        "    conn_bird_var = (conn_acc_sqr / NUM_RUNS) - (conn_bird_avg ** 2)\n",
        "    conn_variance[tag] = conn_bird_var\n",
        "    # Flow\n",
        "    flow_bird_avg = flow_acc_sum / NUM_RUNS\n",
        "    flow_bird_var = (flow_acc_sqr / NUM_RUNS) - (flow_bird_avg ** 2)\n",
        "    flow_variance[tag] = flow_bird_var"
      ]
    },
    {
      "cell_type": "code",
      "execution_count": 9,
      "metadata": {
        "id": "sSmAFGJPnr_J"
      },
      "outputs": [],
      "source": [
        "std_renorm = math.sqrt(ORIG_NUM_SIMULATIONS / NUM_SIMULATIONS)\n",
        "\n",
        "def perc_below_threshold(std, threshold, renorm=std_renorm):\n",
        "    t = threshold * std_renorm\n",
        "    return np.sum(std > t) / len(std)\n",
        "\n",
        "def analyze_variance(a, values=None):\n",
        "    std = np.sqrt(a.flatten())\n",
        "    for t in values:\n",
        "        print(\"Perc > {}:\".format(t), 100 * perc_below_threshold(std, t))"
      ]
    },
    {
      "cell_type": "code",
      "execution_count": 10,
      "metadata": {
        "colab": {
          "base_uri": "https://localhost:8080/"
        },
        "id": "wM7GxYzkrFI9",
        "outputId": "1c3da721-079e-4805-a41a-3226c1cf6b1a"
      },
      "outputs": [
        {
          "name": "stdout",
          "output_type": "stream",
          "text": [
            "Acorn Woodpecker_gap_2_n_20 :\n",
            "Perc > 0.5: 0.0\n",
            "Perc > 0.2: 0.0\n",
            "Perc > 0.1: 0.0\n",
            "Perc > 0.05: 0.0\n",
            "Perc > 0.02: 0.7079399499482807\n",
            "Perc > 0.01: 3.6751138535479724\n",
            "Acorn Woodpecker_gap_3_n_15 :\n",
            "Perc > 0.5: 0.0\n",
            "Perc > 0.2: 0.0\n",
            "Perc > 0.1: 0.0\n",
            "Perc > 0.05: 0.0\n",
            "Perc > 0.02: 0.9324139634727749\n",
            "Perc > 0.01: 3.7911444771445098\n",
            "Steller's Jay_gap_1_n_6 :\n",
            "Perc > 0.5: 0.0\n",
            "Perc > 0.2: 0.0\n",
            "Perc > 0.1: 0.0\n",
            "Perc > 0.05: 0.0\n",
            "Perc > 0.02: 0.30014615934832267\n",
            "Perc > 0.01: 3.4643178806674286\n",
            "Steller's Jay_gap_2_n_3 :\n",
            "Perc > 0.5: 0.0\n",
            "Perc > 0.2: 0.0\n",
            "Perc > 0.1: 0.0\n",
            "Perc > 0.05: 0.0\n",
            "Perc > 0.02: 0.5199707401036148\n",
            "Perc > 0.01: 3.3573058554025406\n"
          ]
        }
      ],
      "source": [
        "for tag, v in conn_variance.items():\n",
        "    print(tag, \":\")\n",
        "    analyze_variance(v, values=[0.5, 0.2, 0.1, 0.05, 0.02, 0.01])"
      ]
    },
    {
      "cell_type": "code",
      "execution_count": 11,
      "metadata": {
        "colab": {
          "base_uri": "https://localhost:8080/"
        },
        "id": "wCCRy7vKrjgF",
        "outputId": "194bcf15-cbd5-44e6-f2c6-4aea1f8f8ea5"
      },
      "outputs": [
        {
          "name": "stdout",
          "output_type": "stream",
          "text": [
            "Acorn Woodpecker_gap_2_n_20 :\n",
            "Perc > 1: 6.670829969292724\n",
            "Perc > 2: 6.295632255792673\n",
            "Perc > 5: 5.625668512359684\n",
            "Perc > 10: 4.8337635101305585\n",
            "Perc > 20: 3.4177685004883656\n",
            "Perc > 30: 1.8342537775515175\n",
            "Perc > 40: 0.4388534028342622\n",
            "Acorn Woodpecker_gap_3_n_15 :\n",
            "Perc > 1: 6.768112718665977\n",
            "Perc > 2: 6.386393787837324\n",
            "Perc > 5: 5.689339216008542\n",
            "Perc > 10: 4.860844328983252\n",
            "Perc > 20: 3.3990356405797284\n",
            "Perc > 30: 1.8146600969364193\n",
            "Perc > 40: 0.49552243108579713\n",
            "Steller's Jay_gap_1_n_6 :\n",
            "Perc > 1: 9.028362640941873\n",
            "Perc > 2: 7.924234965616218\n",
            "Perc > 5: 0.4556744400111066\n",
            "Perc > 10: 5.004771549195002e-06\n",
            "Perc > 20: 0.0\n",
            "Perc > 30: 0.0\n",
            "Perc > 40: 0.0\n",
            "Steller's Jay_gap_2_n_3 :\n",
            "Perc > 1: 8.704739098256278\n",
            "Perc > 2: 7.322691454032275\n",
            "Perc > 5: 0.0007256918746332753\n",
            "Perc > 10: 0.0\n",
            "Perc > 20: 0.0\n",
            "Perc > 30: 0.0\n",
            "Perc > 40: 0.0\n"
          ]
        }
      ],
      "source": [
        "for tag, v in flow_variance.items():\n",
        "    print(tag, \":\")\n",
        "    analyze_variance(v, values=[1, 2, 5, 10, 20, 30, 40])"
      ]
    },
    {
      "cell_type": "code",
      "execution_count": null,
      "metadata": {
        "id": "7MiFX5VSu4Le"
      },
      "outputs": [],
      "source": []
    }
  ],
  "metadata": {
    "accelerator": "GPU",
    "colab": {
      "gpuType": "A100",
      "machine_shape": "hm",
      "provenance": []
    },
    "kernelspec": {
      "display_name": "Python 3",
      "name": "python3"
    },
    "language_info": {
      "name": "python"
    }
  },
  "nbformat": 4,
  "nbformat_minor": 0
}
