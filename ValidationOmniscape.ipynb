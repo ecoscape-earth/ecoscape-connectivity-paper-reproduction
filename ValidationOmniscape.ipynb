{
 "cells": [
  {
   "cell_type": "markdown",
   "metadata": {
    "id": "jKD2GiS3sDEM"
   },
   "source": [
    "## Validation for OmniScape\n",
    "\n",
    "This generates the dataframes that are used for Omniscape validation, from the observation data. "
   ]
  },
  {
   "cell_type": "code",
   "execution_count": 9,
   "metadata": {
    "id": "J3Koec3ddKiB"
   },
   "outputs": [],
   "source": [
    "import os\n",
    "import pandas as pd\n",
    "from birdmaps import ebird_db\n",
    "from scgt import GeoTiff"
   ]
  },
  {
   "cell_type": "code",
   "execution_count": 10,
   "metadata": {},
   "outputs": [],
   "source": [
    "# Point here to where you expanded the Omniscape.zip file. \n",
    "DATA_PATH = \"data/CA-Final/Omniscape\""
   ]
  },
  {
   "cell_type": "code",
   "execution_count": 11,
   "metadata": {
    "id": "9HVthEs6ofu7"
   },
   "outputs": [],
   "source": [
    "# These are the runs that correspond to the EcoScape runs. \n",
    "birds = [(\"acowoo\", \"acowoo_CA\"), \n",
    "         (\"stejay\", \"stejay_CA_h2_S3\")]"
   ]
  },
  {
   "attachments": {},
   "cell_type": "markdown",
   "metadata": {},
   "source": [
    "For each bird, we compute a Pandas dataframe with data for each square where checklists\n",
    "have occurred.  Thus, we read the csv produced by `GenerateValidationData.ipynb` into\n",
    "a Pandas dataframe, and for each row of the dataframe, we add information about the\n",
    "amounts of habitat and repopulation.\n",
    "\n",
    "This is a time-consuming operation, as we need to access the repopulation\n",
    "file for each of the squares.  You need to run this once only for each bird run;\n",
    "then you can analyze the resulting data as much as you like."
   ]
  },
  {
   "cell_type": "code",
   "execution_count": 12,
   "metadata": {},
   "outputs": [
    {
     "name": "stdout",
     "output_type": "stream",
     "text": [
      "Done with acowoo cum_currmap\n",
      "Done with stejay cum_currmap\n"
     ]
    }
   ],
   "source": [
    "max_distance = 2\n",
    "date_range = (\"2012-01-01\", \"2018-12-31\")\n",
    "num_sample_squares = 20000 # Sampling number for the squares.\n",
    "\n",
    "for bird, bird_out in birds:\n",
    "    for fn in [\"cum_currmap\"]: \n",
    "\n",
    "        hab_fn = os.path.join(DATA_PATH, bird, \"OriginalLayers\", \"habitat.tif\")\n",
    "        repop = GeoTiff.from_file(os.path.join(DATA_PATH, \"output\", bird_out, fn + \".tif\"))\n",
    "        hab = GeoTiff.from_file(hab_fn)\n",
    "        obs_fn = os.path.join(DATA_PATH, bird, \"CA_all_len_2_2012-01-01-2018-12-31_20000.csv\")\n",
    "        result_fn = os.path.join(DATA_PATH, \"output\", bird_out, \"validation_\" + fn + \".csv\")\n",
    "        \n",
    "        validation = ebird_db.Validation(obs_fn, hab_fn)\n",
    "\n",
    "        # Augments the dataframe with the values for each square of repopulation and habitat.\n",
    "        df = validation.get_repop_ratios(repop, hab, tile_scale=3)\n",
    "        # Computes a repopulation range.\n",
    "        df[\"RepopRange\"] = df.apply(lambda row : int(row[\"avg_repop\"] * 10) / 10, axis=1)\n",
    "        # Computes birds and sightings per checklist.\n",
    "        df[\"ObsRatio\"] = df[\"NumBirdChecklists\"] / df[\"NumChecklists\"]\n",
    "        df[\"BirdRatio\"] = df[\"NumBirds\"] / df[\"NumChecklists\"]\n",
    "\n",
    "        # Writes the resulting dataset.\n",
    "        df.to_csv(result_fn)\n",
    "        print(\"Done with\", bird, fn)"
   ]
  },
  {
   "attachments": {},
   "cell_type": "markdown",
   "metadata": {},
   "source": [
    "The dataframe contains, for each square, the:\n",
    "* Number of checklists\n",
    "* Number of checlists containing the bird\n",
    "* Total number of birds (of the given species) seen\n",
    "* average habitat around the square (counting 1 as habitat and 0 as non-habitat)\n",
    "* max habitat around the square\n",
    "* average repopulation around the square (counting as 0 out of habitat of course)\n",
    "* max repopulation around the square.\n",
    "\n",
    "I look for the correlation between:\n",
    "* Average number of birds seen (the BirdRatio),\n",
    "* Max repopulation (MaxRepopRange).\n",
    "\n",
    "Why max repopulation and not average?  Because average repopulation mixes two concerns: (a) how much habitat there is around, and (b) how high the repopulation is in that habitat.  This confounds the signal.  It is much cleaner to look at the correlation between BirdRatio and MaxRepopRange."
   ]
  }
 ],
 "metadata": {
  "accelerator": "GPU",
  "colab": {
   "provenance": []
  },
  "gpuClass": "standard",
  "kernelspec": {
   "display_name": "venv37",
   "language": "python",
   "name": "python3"
  },
  "language_info": {
   "codemirror_mode": {
    "name": "ipython",
    "version": 3
   },
   "file_extension": ".py",
   "mimetype": "text/x-python",
   "name": "python",
   "nbconvert_exporter": "python",
   "pygments_lexer": "ipython3",
   "version": "3.7.11"
  }
 },
 "nbformat": 4,
 "nbformat_minor": 1
}
